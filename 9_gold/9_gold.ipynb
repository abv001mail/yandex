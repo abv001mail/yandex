{
 "cells": [
  {
   "cell_type": "markdown",
   "metadata": {
    "toc": true
   },
   "source": [
    "<h1>Содержание<span class=\"tocSkip\"></span></h1>\n",
    "<div class=\"toc\"><ul class=\"toc-item\"><li><span><a href=\"#Подготовка-данных\" data-toc-modified-id=\"Подготовка-данных-1\"><span class=\"toc-item-num\">1&nbsp;&nbsp;</span>Подготовка данных</a></span><ul class=\"toc-item\"><li><span><a href=\"#Проверим-типы-данных-и-пропуски\" data-toc-modified-id=\"Проверим-типы-данных-и-пропуски-1.1\"><span class=\"toc-item-num\">1.1&nbsp;&nbsp;</span>Проверим типы данных и пропуски</a></span></li><li><span><a href=\"#Рассчитаем-эффективность-обогащения.\" data-toc-modified-id=\"Рассчитаем-эффективность-обогащения.-1.2\"><span class=\"toc-item-num\">1.2&nbsp;&nbsp;</span>Рассчитаем эффективность обогащения.</a></span></li><li><span><a href=\"#Признаки,-недоступные-в-тестовой-выборке.\" data-toc-modified-id=\"Признаки,-недоступные-в-тестовой-выборке.-1.3\"><span class=\"toc-item-num\">1.3&nbsp;&nbsp;</span>Признаки, недоступные в тестовой выборке.</a></span></li><li><span><a href=\"#Предобработка-данных\" data-toc-modified-id=\"Предобработка-данных-1.4\"><span class=\"toc-item-num\">1.4&nbsp;&nbsp;</span>Предобработка данных</a></span></li></ul></li><li><span><a href=\"#Анализ-данных\" data-toc-modified-id=\"Анализ-данных-2\"><span class=\"toc-item-num\">2&nbsp;&nbsp;</span>Анализ данных</a></span><ul class=\"toc-item\"><li><span><a href=\"#Посмотрим,-как-меняется-концентрация-металлов-(Au,-Ag,-Pb)-на-различных-этапах-очистки.\" data-toc-modified-id=\"Посмотрим,-как-меняется-концентрация-металлов-(Au,-Ag,-Pb)-на-различных-этапах-очистки.-2.1\"><span class=\"toc-item-num\">2.1&nbsp;&nbsp;</span>Посмотрим, как меняется концентрация металлов (Au, Ag, Pb) на различных этапах очистки.</a></span></li><li><span><a href=\"#Сравним-распределения-размеров-гранул-сырья-на-обучающей-и-тестовой-выборках.\" data-toc-modified-id=\"Сравним-распределения-размеров-гранул-сырья-на-обучающей-и-тестовой-выборках.-2.2\"><span class=\"toc-item-num\">2.2&nbsp;&nbsp;</span>Сравним распределения размеров гранул сырья на обучающей и тестовой выборках.</a></span></li><li><span><a href=\"#Исследуем-суммарную-концентрацию-всех-веществ-на-разных-стадиях:-в-сырье,-в-черновом-и-финальном-концентратах.\" data-toc-modified-id=\"Исследуем-суммарную-концентрацию-всех-веществ-на-разных-стадиях:-в-сырье,-в-черновом-и-финальном-концентратах.-2.3\"><span class=\"toc-item-num\">2.3&nbsp;&nbsp;</span>Исследуем суммарную концентрацию всех веществ на разных стадиях: в сырье, в черновом и финальном концентратах.</a></span></li></ul></li><li><span><a href=\"#Модель\" data-toc-modified-id=\"Модель-3\"><span class=\"toc-item-num\">3&nbsp;&nbsp;</span>Модель</a></span></li></ul></div>"
   ]
  },
  {
   "cell_type": "markdown",
   "metadata": {},
   "source": [
    "# Восстановление золота из руды"
   ]
  },
  {
   "cell_type": "markdown",
   "metadata": {},
   "source": [
    "Подготовьте прототип модели машинного обучения для «Цифры». Компания разрабатывает решения для эффективной работы промышленных предприятий.\n",
    "\n",
    "Модель должна предсказать коэффициент восстановления золота из золотосодержащей руды. Используйте данные с параметрами добычи и очистки. \n",
    "\n",
    "Модель поможет оптимизировать производство, чтобы не запускать предприятие с убыточными характеристиками.\n",
    "\n",
    "Вам нужно:\n",
    "\n",
    "1. Подготовить данные;\n",
    "2. Провести исследовательский анализ данных;\n",
    "3. Построить и обучить модель.\n",
    "\n",
    "Чтобы выполнить проект, обращайтесь к библиотекам *pandas*, *matplotlib* и *sklearn.* Вам поможет их документация."
   ]
  },
  {
   "cell_type": "markdown",
   "metadata": {},
   "source": [
    "## Подготовка данных"
   ]
  },
  {
   "cell_type": "code",
   "execution_count": 1,
   "metadata": {},
   "outputs": [],
   "source": [
    "import matplotlib.pyplot as plt\n",
    "import pandas as pd\n",
    "import seaborn as sns\n",
    "from sklearn.dummy import DummyRegressor\n",
    "from sklearn.ensemble import RandomForestRegressor\n",
    "from sklearn.linear_model import LinearRegression\n",
    "from sklearn.metrics import make_scorer\n",
    "from sklearn.metrics import mean_absolute_error\n",
    "from sklearn.model_selection import cross_val_score\n",
    "from sklearn.preprocessing import StandardScaler\n",
    "from sklearn.tree import DecisionTreeRegressor\n",
    "from tqdm import tqdm\n",
    "\n",
    "pd.set_option('max_columns', None)\n",
    "pd.options.mode.chained_assignment = None"
   ]
  },
  {
   "cell_type": "code",
   "execution_count": 2,
   "metadata": {},
   "outputs": [],
   "source": [
    "train = pd.read_csv('/datasets/gold_recovery_train_new.csv')\n",
    "test = pd.read_csv('/datasets/gold_recovery_test_new.csv')\n",
    "full = pd.read_csv('/datasets/gold_recovery_full_new.csv')"
   ]
  },
  {
   "cell_type": "markdown",
   "metadata": {},
   "source": [
    "### Проверим типы данных и пропуски"
   ]
  },
  {
   "cell_type": "code",
   "execution_count": 3,
   "metadata": {},
   "outputs": [
    {
     "name": "stdout",
     "output_type": "stream",
     "text": [
      "<class 'pandas.core.frame.DataFrame'>\n",
      "RangeIndex: 19439 entries, 0 to 19438\n",
      "Data columns (total 87 columns):\n",
      " #   Column                                              Non-Null Count  Dtype  \n",
      "---  ------                                              --------------  -----  \n",
      " 0   date                                                19439 non-null  object \n",
      " 1   final.output.concentrate_ag                         19438 non-null  float64\n",
      " 2   final.output.concentrate_pb                         19438 non-null  float64\n",
      " 3   final.output.concentrate_sol                        19228 non-null  float64\n",
      " 4   final.output.concentrate_au                         19439 non-null  float64\n",
      " 5   final.output.recovery                               19439 non-null  float64\n",
      " 6   final.output.tail_ag                                19438 non-null  float64\n",
      " 7   final.output.tail_pb                                19338 non-null  float64\n",
      " 8   final.output.tail_sol                               19433 non-null  float64\n",
      " 9   final.output.tail_au                                19439 non-null  float64\n",
      " 10  primary_cleaner.input.sulfate                       19415 non-null  float64\n",
      " 11  primary_cleaner.input.depressant                    19402 non-null  float64\n",
      " 12  primary_cleaner.input.feed_size                     19439 non-null  float64\n",
      " 13  primary_cleaner.input.xanthate                      19335 non-null  float64\n",
      " 14  primary_cleaner.output.concentrate_ag               19439 non-null  float64\n",
      " 15  primary_cleaner.output.concentrate_pb               19323 non-null  float64\n",
      " 16  primary_cleaner.output.concentrate_sol              19069 non-null  float64\n",
      " 17  primary_cleaner.output.concentrate_au               19439 non-null  float64\n",
      " 18  primary_cleaner.output.tail_ag                      19435 non-null  float64\n",
      " 19  primary_cleaner.output.tail_pb                      19418 non-null  float64\n",
      " 20  primary_cleaner.output.tail_sol                     19377 non-null  float64\n",
      " 21  primary_cleaner.output.tail_au                      19439 non-null  float64\n",
      " 22  primary_cleaner.state.floatbank8_a_air              19435 non-null  float64\n",
      " 23  primary_cleaner.state.floatbank8_a_level            19438 non-null  float64\n",
      " 24  primary_cleaner.state.floatbank8_b_air              19435 non-null  float64\n",
      " 25  primary_cleaner.state.floatbank8_b_level            19438 non-null  float64\n",
      " 26  primary_cleaner.state.floatbank8_c_air              19437 non-null  float64\n",
      " 27  primary_cleaner.state.floatbank8_c_level            19438 non-null  float64\n",
      " 28  primary_cleaner.state.floatbank8_d_air              19436 non-null  float64\n",
      " 29  primary_cleaner.state.floatbank8_d_level            19438 non-null  float64\n",
      " 30  rougher.calculation.sulfate_to_au_concentrate       19437 non-null  float64\n",
      " 31  rougher.calculation.floatbank10_sulfate_to_au_feed  19437 non-null  float64\n",
      " 32  rougher.calculation.floatbank11_sulfate_to_au_feed  19437 non-null  float64\n",
      " 33  rougher.calculation.au_pb_ratio                     19439 non-null  float64\n",
      " 34  rougher.input.feed_ag                               19439 non-null  float64\n",
      " 35  rougher.input.feed_pb                               19339 non-null  float64\n",
      " 36  rougher.input.feed_rate                             19428 non-null  float64\n",
      " 37  rougher.input.feed_size                             19294 non-null  float64\n",
      " 38  rougher.input.feed_sol                              19340 non-null  float64\n",
      " 39  rougher.input.feed_au                               19439 non-null  float64\n",
      " 40  rougher.input.floatbank10_sulfate                   19405 non-null  float64\n",
      " 41  rougher.input.floatbank10_xanthate                  19431 non-null  float64\n",
      " 42  rougher.input.floatbank11_sulfate                   19395 non-null  float64\n",
      " 43  rougher.input.floatbank11_xanthate                  18986 non-null  float64\n",
      " 44  rougher.output.concentrate_ag                       19439 non-null  float64\n",
      " 45  rougher.output.concentrate_pb                       19439 non-null  float64\n",
      " 46  rougher.output.concentrate_sol                      19416 non-null  float64\n",
      " 47  rougher.output.concentrate_au                       19439 non-null  float64\n",
      " 48  rougher.output.recovery                             19439 non-null  float64\n",
      " 49  rougher.output.tail_ag                              19438 non-null  float64\n",
      " 50  rougher.output.tail_pb                              19439 non-null  float64\n",
      " 51  rougher.output.tail_sol                             19439 non-null  float64\n",
      " 52  rougher.output.tail_au                              19439 non-null  float64\n",
      " 53  rougher.state.floatbank10_a_air                     19438 non-null  float64\n",
      " 54  rougher.state.floatbank10_a_level                   19438 non-null  float64\n",
      " 55  rougher.state.floatbank10_b_air                     19438 non-null  float64\n",
      " 56  rougher.state.floatbank10_b_level                   19438 non-null  float64\n",
      " 57  rougher.state.floatbank10_c_air                     19438 non-null  float64\n",
      " 58  rougher.state.floatbank10_c_level                   19438 non-null  float64\n",
      " 59  rougher.state.floatbank10_d_air                     19439 non-null  float64\n",
      " 60  rougher.state.floatbank10_d_level                   19439 non-null  float64\n",
      " 61  rougher.state.floatbank10_e_air                     19003 non-null  float64\n",
      " 62  rougher.state.floatbank10_e_level                   19439 non-null  float64\n",
      " 63  rougher.state.floatbank10_f_air                     19439 non-null  float64\n",
      " 64  rougher.state.floatbank10_f_level                   19439 non-null  float64\n",
      " 65  secondary_cleaner.output.tail_ag                    19437 non-null  float64\n",
      " 66  secondary_cleaner.output.tail_pb                    19427 non-null  float64\n",
      " 67  secondary_cleaner.output.tail_sol                   17691 non-null  float64\n",
      " 68  secondary_cleaner.output.tail_au                    19439 non-null  float64\n",
      " 69  secondary_cleaner.state.floatbank2_a_air            19219 non-null  float64\n",
      " 70  secondary_cleaner.state.floatbank2_a_level          19438 non-null  float64\n",
      " 71  secondary_cleaner.state.floatbank2_b_air            19416 non-null  float64\n",
      " 72  secondary_cleaner.state.floatbank2_b_level          19438 non-null  float64\n",
      " 73  secondary_cleaner.state.floatbank3_a_air            19426 non-null  float64\n",
      " 74  secondary_cleaner.state.floatbank3_a_level          19438 non-null  float64\n",
      " 75  secondary_cleaner.state.floatbank3_b_air            19438 non-null  float64\n",
      " 76  secondary_cleaner.state.floatbank3_b_level          19438 non-null  float64\n",
      " 77  secondary_cleaner.state.floatbank4_a_air            19433 non-null  float64\n",
      " 78  secondary_cleaner.state.floatbank4_a_level          19438 non-null  float64\n",
      " 79  secondary_cleaner.state.floatbank4_b_air            19438 non-null  float64\n",
      " 80  secondary_cleaner.state.floatbank4_b_level          19438 non-null  float64\n",
      " 81  secondary_cleaner.state.floatbank5_a_air            19438 non-null  float64\n",
      " 82  secondary_cleaner.state.floatbank5_a_level          19438 non-null  float64\n",
      " 83  secondary_cleaner.state.floatbank5_b_air            19438 non-null  float64\n",
      " 84  secondary_cleaner.state.floatbank5_b_level          19438 non-null  float64\n",
      " 85  secondary_cleaner.state.floatbank6_a_air            19437 non-null  float64\n",
      " 86  secondary_cleaner.state.floatbank6_a_level          19438 non-null  float64\n",
      "dtypes: float64(86), object(1)\n",
      "memory usage: 12.9+ MB\n"
     ]
    }
   ],
   "source": [
    "full.info()"
   ]
  },
  {
   "cell_type": "markdown",
   "metadata": {},
   "source": [
    "Первый столбец 'date' содержит дату в текстовом виде, преобразуем тип данных к типу 'дата'."
   ]
  },
  {
   "cell_type": "code",
   "execution_count": 4,
   "metadata": {},
   "outputs": [
    {
     "data": {
      "text/plain": [
       "True"
      ]
     },
     "execution_count": 4,
     "metadata": {},
     "output_type": "execute_result"
    }
   ],
   "source": [
    "full['date'] = pd.to_datetime(full['date'], format='%Y-%m-%d %H:%M:%S')\n",
    "full['date'].dtype == 'datetime64[ns]'"
   ]
  },
  {
   "cell_type": "code",
   "execution_count": 5,
   "metadata": {},
   "outputs": [
    {
     "data": {
      "text/plain": [
       "True"
      ]
     },
     "execution_count": 5,
     "metadata": {},
     "output_type": "execute_result"
    }
   ],
   "source": [
    "train['date'] = pd.to_datetime(train['date'], format='%Y-%m-%d %H:%M:%S')\n",
    "train['date'].dtype == 'datetime64[ns]'"
   ]
  },
  {
   "cell_type": "code",
   "execution_count": 6,
   "metadata": {},
   "outputs": [
    {
     "data": {
      "text/plain": [
       "True"
      ]
     },
     "execution_count": 6,
     "metadata": {},
     "output_type": "execute_result"
    }
   ],
   "source": [
    "test['date'] = pd.to_datetime(test['date'], format='%Y-%m-%d %H:%M:%S')\n",
    "test['date'].dtype == 'datetime64[ns]'"
   ]
  },
  {
   "cell_type": "code",
   "execution_count": 7,
   "metadata": {},
   "outputs": [],
   "source": [
    "test_with_answers = full.loc[full['date'].isin(test['date'])]"
   ]
  },
  {
   "cell_type": "code",
   "execution_count": 8,
   "metadata": {},
   "outputs": [
    {
     "data": {
      "text/html": [
       "<div>\n",
       "<style scoped>\n",
       "    .dataframe tbody tr th:only-of-type {\n",
       "        vertical-align: middle;\n",
       "    }\n",
       "\n",
       "    .dataframe tbody tr th {\n",
       "        vertical-align: top;\n",
       "    }\n",
       "\n",
       "    .dataframe thead th {\n",
       "        text-align: right;\n",
       "    }\n",
       "</style>\n",
       "<table border=\"1\" class=\"dataframe\">\n",
       "  <thead>\n",
       "    <tr style=\"text-align: right;\">\n",
       "      <th></th>\n",
       "      <th>date</th>\n",
       "      <th>final.output.concentrate_ag</th>\n",
       "      <th>final.output.concentrate_pb</th>\n",
       "      <th>final.output.concentrate_sol</th>\n",
       "      <th>final.output.concentrate_au</th>\n",
       "      <th>final.output.recovery</th>\n",
       "      <th>final.output.tail_ag</th>\n",
       "      <th>final.output.tail_pb</th>\n",
       "      <th>final.output.tail_sol</th>\n",
       "      <th>final.output.tail_au</th>\n",
       "      <th>primary_cleaner.input.sulfate</th>\n",
       "      <th>primary_cleaner.input.depressant</th>\n",
       "      <th>primary_cleaner.input.feed_size</th>\n",
       "      <th>primary_cleaner.input.xanthate</th>\n",
       "      <th>primary_cleaner.output.concentrate_ag</th>\n",
       "      <th>primary_cleaner.output.concentrate_pb</th>\n",
       "      <th>primary_cleaner.output.concentrate_sol</th>\n",
       "      <th>primary_cleaner.output.concentrate_au</th>\n",
       "      <th>primary_cleaner.output.tail_ag</th>\n",
       "      <th>primary_cleaner.output.tail_pb</th>\n",
       "      <th>primary_cleaner.output.tail_sol</th>\n",
       "      <th>primary_cleaner.output.tail_au</th>\n",
       "      <th>primary_cleaner.state.floatbank8_a_air</th>\n",
       "      <th>primary_cleaner.state.floatbank8_a_level</th>\n",
       "      <th>primary_cleaner.state.floatbank8_b_air</th>\n",
       "      <th>primary_cleaner.state.floatbank8_b_level</th>\n",
       "      <th>primary_cleaner.state.floatbank8_c_air</th>\n",
       "      <th>primary_cleaner.state.floatbank8_c_level</th>\n",
       "      <th>primary_cleaner.state.floatbank8_d_air</th>\n",
       "      <th>primary_cleaner.state.floatbank8_d_level</th>\n",
       "      <th>rougher.calculation.sulfate_to_au_concentrate</th>\n",
       "      <th>rougher.calculation.floatbank10_sulfate_to_au_feed</th>\n",
       "      <th>rougher.calculation.floatbank11_sulfate_to_au_feed</th>\n",
       "      <th>rougher.calculation.au_pb_ratio</th>\n",
       "      <th>rougher.input.feed_ag</th>\n",
       "      <th>rougher.input.feed_pb</th>\n",
       "      <th>rougher.input.feed_rate</th>\n",
       "      <th>rougher.input.feed_size</th>\n",
       "      <th>rougher.input.feed_sol</th>\n",
       "      <th>rougher.input.feed_au</th>\n",
       "      <th>rougher.input.floatbank10_sulfate</th>\n",
       "      <th>rougher.input.floatbank10_xanthate</th>\n",
       "      <th>rougher.input.floatbank11_sulfate</th>\n",
       "      <th>rougher.input.floatbank11_xanthate</th>\n",
       "      <th>rougher.output.concentrate_ag</th>\n",
       "      <th>rougher.output.concentrate_pb</th>\n",
       "      <th>rougher.output.concentrate_sol</th>\n",
       "      <th>rougher.output.concentrate_au</th>\n",
       "      <th>rougher.output.recovery</th>\n",
       "      <th>rougher.output.tail_ag</th>\n",
       "      <th>rougher.output.tail_pb</th>\n",
       "      <th>rougher.output.tail_sol</th>\n",
       "      <th>rougher.output.tail_au</th>\n",
       "      <th>rougher.state.floatbank10_a_air</th>\n",
       "      <th>rougher.state.floatbank10_a_level</th>\n",
       "      <th>rougher.state.floatbank10_b_air</th>\n",
       "      <th>rougher.state.floatbank10_b_level</th>\n",
       "      <th>rougher.state.floatbank10_c_air</th>\n",
       "      <th>rougher.state.floatbank10_c_level</th>\n",
       "      <th>rougher.state.floatbank10_d_air</th>\n",
       "      <th>rougher.state.floatbank10_d_level</th>\n",
       "      <th>rougher.state.floatbank10_e_air</th>\n",
       "      <th>rougher.state.floatbank10_e_level</th>\n",
       "      <th>rougher.state.floatbank10_f_air</th>\n",
       "      <th>rougher.state.floatbank10_f_level</th>\n",
       "      <th>secondary_cleaner.output.tail_ag</th>\n",
       "      <th>secondary_cleaner.output.tail_pb</th>\n",
       "      <th>secondary_cleaner.output.tail_sol</th>\n",
       "      <th>secondary_cleaner.output.tail_au</th>\n",
       "      <th>secondary_cleaner.state.floatbank2_a_air</th>\n",
       "      <th>secondary_cleaner.state.floatbank2_a_level</th>\n",
       "      <th>secondary_cleaner.state.floatbank2_b_air</th>\n",
       "      <th>secondary_cleaner.state.floatbank2_b_level</th>\n",
       "      <th>secondary_cleaner.state.floatbank3_a_air</th>\n",
       "      <th>secondary_cleaner.state.floatbank3_a_level</th>\n",
       "      <th>secondary_cleaner.state.floatbank3_b_air</th>\n",
       "      <th>secondary_cleaner.state.floatbank3_b_level</th>\n",
       "      <th>secondary_cleaner.state.floatbank4_a_air</th>\n",
       "      <th>secondary_cleaner.state.floatbank4_a_level</th>\n",
       "      <th>secondary_cleaner.state.floatbank4_b_air</th>\n",
       "      <th>secondary_cleaner.state.floatbank4_b_level</th>\n",
       "      <th>secondary_cleaner.state.floatbank5_a_air</th>\n",
       "      <th>secondary_cleaner.state.floatbank5_a_level</th>\n",
       "      <th>secondary_cleaner.state.floatbank5_b_air</th>\n",
       "      <th>secondary_cleaner.state.floatbank5_b_level</th>\n",
       "      <th>secondary_cleaner.state.floatbank6_a_air</th>\n",
       "      <th>secondary_cleaner.state.floatbank6_a_level</th>\n",
       "    </tr>\n",
       "  </thead>\n",
       "  <tbody>\n",
       "    <tr>\n",
       "      <th>0</th>\n",
       "      <td>2016-01-15 00:00:00</td>\n",
       "      <td>6.055403</td>\n",
       "      <td>9.889648</td>\n",
       "      <td>5.507324</td>\n",
       "      <td>42.192020</td>\n",
       "      <td>70.541216</td>\n",
       "      <td>10.411962</td>\n",
       "      <td>0.895447</td>\n",
       "      <td>16.904297</td>\n",
       "      <td>2.143149</td>\n",
       "      <td>127.092003</td>\n",
       "      <td>10.128295</td>\n",
       "      <td>7.25</td>\n",
       "      <td>0.988759</td>\n",
       "      <td>8.547551</td>\n",
       "      <td>10.389648</td>\n",
       "      <td>19.529297</td>\n",
       "      <td>34.174427</td>\n",
       "      <td>14.936526</td>\n",
       "      <td>2.534912</td>\n",
       "      <td>7.476074</td>\n",
       "      <td>2.106679</td>\n",
       "      <td>1549.775757</td>\n",
       "      <td>-498.912140</td>\n",
       "      <td>1551.434204</td>\n",
       "      <td>-516.403442</td>\n",
       "      <td>1549.873901</td>\n",
       "      <td>-498.666595</td>\n",
       "      <td>1554.367432</td>\n",
       "      <td>-493.428131</td>\n",
       "      <td>41885.707031</td>\n",
       "      <td>3481.779053</td>\n",
       "      <td>3520.337158</td>\n",
       "      <td>2.838687</td>\n",
       "      <td>6.100378</td>\n",
       "      <td>2.284912</td>\n",
       "      <td>523.546326</td>\n",
       "      <td>55.486599</td>\n",
       "      <td>36.808594</td>\n",
       "      <td>6.486150</td>\n",
       "      <td>11.986616</td>\n",
       "      <td>6.007990</td>\n",
       "      <td>11.836743</td>\n",
       "      <td>6.005818</td>\n",
       "      <td>11.500771</td>\n",
       "      <td>7.101074</td>\n",
       "      <td>28.029297</td>\n",
       "      <td>19.793808</td>\n",
       "      <td>87.107763</td>\n",
       "      <td>5.008018</td>\n",
       "      <td>0.508728</td>\n",
       "      <td>19.154297</td>\n",
       "      <td>1.170244</td>\n",
       "      <td>999.706909</td>\n",
       "      <td>-404.066986</td>\n",
       "      <td>1603.011353</td>\n",
       "      <td>-434.715027</td>\n",
       "      <td>1602.375000</td>\n",
       "      <td>-442.204468</td>\n",
       "      <td>1598.937256</td>\n",
       "      <td>-451.294128</td>\n",
       "      <td>1404.472046</td>\n",
       "      <td>-455.462982</td>\n",
       "      <td>1416.354980</td>\n",
       "      <td>-451.939636</td>\n",
       "      <td>14.500184</td>\n",
       "      <td>4.694824</td>\n",
       "      <td>8.764648</td>\n",
       "      <td>2.606185</td>\n",
       "      <td>25.853109</td>\n",
       "      <td>-498.526489</td>\n",
       "      <td>23.893660</td>\n",
       "      <td>-501.406281</td>\n",
       "      <td>23.961798</td>\n",
       "      <td>-495.262817</td>\n",
       "      <td>21.940409</td>\n",
       "      <td>-499.340973</td>\n",
       "      <td>14.016835</td>\n",
       "      <td>-502.488007</td>\n",
       "      <td>12.099931</td>\n",
       "      <td>-504.715942</td>\n",
       "      <td>9.925633</td>\n",
       "      <td>-498.310211</td>\n",
       "      <td>8.079666</td>\n",
       "      <td>-500.470978</td>\n",
       "      <td>14.151341</td>\n",
       "      <td>-605.841980</td>\n",
       "    </tr>\n",
       "    <tr>\n",
       "      <th>1</th>\n",
       "      <td>2016-01-15 01:00:00</td>\n",
       "      <td>6.029369</td>\n",
       "      <td>9.968944</td>\n",
       "      <td>5.257781</td>\n",
       "      <td>42.701629</td>\n",
       "      <td>69.266198</td>\n",
       "      <td>10.462676</td>\n",
       "      <td>0.927452</td>\n",
       "      <td>16.634514</td>\n",
       "      <td>2.224930</td>\n",
       "      <td>125.629232</td>\n",
       "      <td>10.296251</td>\n",
       "      <td>7.25</td>\n",
       "      <td>1.002663</td>\n",
       "      <td>8.558743</td>\n",
       "      <td>10.497069</td>\n",
       "      <td>19.369147</td>\n",
       "      <td>34.118526</td>\n",
       "      <td>16.250511</td>\n",
       "      <td>3.049646</td>\n",
       "      <td>6.733907</td>\n",
       "      <td>2.353017</td>\n",
       "      <td>1576.166671</td>\n",
       "      <td>-500.904965</td>\n",
       "      <td>1575.950626</td>\n",
       "      <td>-499.865889</td>\n",
       "      <td>1575.994189</td>\n",
       "      <td>-499.315107</td>\n",
       "      <td>1574.479259</td>\n",
       "      <td>-498.931665</td>\n",
       "      <td>42050.861809</td>\n",
       "      <td>3498.370979</td>\n",
       "      <td>3489.981857</td>\n",
       "      <td>2.858998</td>\n",
       "      <td>6.161113</td>\n",
       "      <td>2.266033</td>\n",
       "      <td>525.290581</td>\n",
       "      <td>57.278666</td>\n",
       "      <td>35.753385</td>\n",
       "      <td>6.478583</td>\n",
       "      <td>11.971193</td>\n",
       "      <td>6.005766</td>\n",
       "      <td>11.996163</td>\n",
       "      <td>6.012594</td>\n",
       "      <td>11.615865</td>\n",
       "      <td>7.278807</td>\n",
       "      <td>28.067063</td>\n",
       "      <td>20.050975</td>\n",
       "      <td>86.843261</td>\n",
       "      <td>4.955378</td>\n",
       "      <td>0.536689</td>\n",
       "      <td>18.965234</td>\n",
       "      <td>1.184827</td>\n",
       "      <td>1000.286398</td>\n",
       "      <td>-400.065196</td>\n",
       "      <td>1600.754587</td>\n",
       "      <td>-449.953435</td>\n",
       "      <td>1600.479580</td>\n",
       "      <td>-449.830646</td>\n",
       "      <td>1600.527589</td>\n",
       "      <td>-449.953649</td>\n",
       "      <td>1399.227084</td>\n",
       "      <td>-450.869848</td>\n",
       "      <td>1399.719514</td>\n",
       "      <td>-450.119001</td>\n",
       "      <td>14.265474</td>\n",
       "      <td>4.592547</td>\n",
       "      <td>9.001494</td>\n",
       "      <td>2.488248</td>\n",
       "      <td>25.880539</td>\n",
       "      <td>-499.989656</td>\n",
       "      <td>23.889530</td>\n",
       "      <td>-500.372428</td>\n",
       "      <td>23.970550</td>\n",
       "      <td>-500.085473</td>\n",
       "      <td>22.085714</td>\n",
       "      <td>-499.446897</td>\n",
       "      <td>13.992281</td>\n",
       "      <td>-505.503262</td>\n",
       "      <td>11.950531</td>\n",
       "      <td>-501.331529</td>\n",
       "      <td>10.039245</td>\n",
       "      <td>-500.169983</td>\n",
       "      <td>7.984757</td>\n",
       "      <td>-500.582168</td>\n",
       "      <td>13.998353</td>\n",
       "      <td>-599.787184</td>\n",
       "    </tr>\n",
       "    <tr>\n",
       "      <th>2</th>\n",
       "      <td>2016-01-15 02:00:00</td>\n",
       "      <td>6.055926</td>\n",
       "      <td>10.213995</td>\n",
       "      <td>5.383759</td>\n",
       "      <td>42.657501</td>\n",
       "      <td>68.116445</td>\n",
       "      <td>10.507046</td>\n",
       "      <td>0.953716</td>\n",
       "      <td>16.208849</td>\n",
       "      <td>2.257889</td>\n",
       "      <td>123.819808</td>\n",
       "      <td>11.316280</td>\n",
       "      <td>7.25</td>\n",
       "      <td>0.991265</td>\n",
       "      <td>8.603505</td>\n",
       "      <td>10.354494</td>\n",
       "      <td>19.167579</td>\n",
       "      <td>33.969464</td>\n",
       "      <td>16.491823</td>\n",
       "      <td>3.124664</td>\n",
       "      <td>6.471768</td>\n",
       "      <td>2.416800</td>\n",
       "      <td>1601.556163</td>\n",
       "      <td>-499.997791</td>\n",
       "      <td>1600.386685</td>\n",
       "      <td>-500.607762</td>\n",
       "      <td>1602.003542</td>\n",
       "      <td>-500.870069</td>\n",
       "      <td>1599.541515</td>\n",
       "      <td>-499.827444</td>\n",
       "      <td>42018.101184</td>\n",
       "      <td>3495.348910</td>\n",
       "      <td>3502.359819</td>\n",
       "      <td>2.945989</td>\n",
       "      <td>6.116455</td>\n",
       "      <td>2.159622</td>\n",
       "      <td>530.026610</td>\n",
       "      <td>57.510649</td>\n",
       "      <td>35.971630</td>\n",
       "      <td>6.362222</td>\n",
       "      <td>11.920603</td>\n",
       "      <td>6.197377</td>\n",
       "      <td>11.920305</td>\n",
       "      <td>6.204633</td>\n",
       "      <td>11.695753</td>\n",
       "      <td>7.216833</td>\n",
       "      <td>27.454037</td>\n",
       "      <td>19.737170</td>\n",
       "      <td>86.842308</td>\n",
       "      <td>4.843460</td>\n",
       "      <td>0.546416</td>\n",
       "      <td>18.808533</td>\n",
       "      <td>1.162562</td>\n",
       "      <td>999.719565</td>\n",
       "      <td>-400.074028</td>\n",
       "      <td>1599.337330</td>\n",
       "      <td>-450.008530</td>\n",
       "      <td>1599.672797</td>\n",
       "      <td>-449.954491</td>\n",
       "      <td>1599.849325</td>\n",
       "      <td>-449.954185</td>\n",
       "      <td>1399.180945</td>\n",
       "      <td>-449.937588</td>\n",
       "      <td>1400.316682</td>\n",
       "      <td>-450.527147</td>\n",
       "      <td>14.115662</td>\n",
       "      <td>4.624775</td>\n",
       "      <td>8.842896</td>\n",
       "      <td>2.458187</td>\n",
       "      <td>26.005245</td>\n",
       "      <td>-499.929616</td>\n",
       "      <td>23.886657</td>\n",
       "      <td>-499.951928</td>\n",
       "      <td>23.913535</td>\n",
       "      <td>-499.442343</td>\n",
       "      <td>23.957717</td>\n",
       "      <td>-499.901982</td>\n",
       "      <td>14.015015</td>\n",
       "      <td>-502.520901</td>\n",
       "      <td>11.912783</td>\n",
       "      <td>-501.133383</td>\n",
       "      <td>10.070913</td>\n",
       "      <td>-500.129135</td>\n",
       "      <td>8.013877</td>\n",
       "      <td>-500.517572</td>\n",
       "      <td>14.028663</td>\n",
       "      <td>-601.427363</td>\n",
       "    </tr>\n",
       "  </tbody>\n",
       "</table>\n",
       "</div>"
      ],
      "text/plain": [
       "                 date  final.output.concentrate_ag  \\\n",
       "0 2016-01-15 00:00:00                     6.055403   \n",
       "1 2016-01-15 01:00:00                     6.029369   \n",
       "2 2016-01-15 02:00:00                     6.055926   \n",
       "\n",
       "   final.output.concentrate_pb  final.output.concentrate_sol  \\\n",
       "0                     9.889648                      5.507324   \n",
       "1                     9.968944                      5.257781   \n",
       "2                    10.213995                      5.383759   \n",
       "\n",
       "   final.output.concentrate_au  final.output.recovery  final.output.tail_ag  \\\n",
       "0                    42.192020              70.541216             10.411962   \n",
       "1                    42.701629              69.266198             10.462676   \n",
       "2                    42.657501              68.116445             10.507046   \n",
       "\n",
       "   final.output.tail_pb  final.output.tail_sol  final.output.tail_au  \\\n",
       "0              0.895447              16.904297              2.143149   \n",
       "1              0.927452              16.634514              2.224930   \n",
       "2              0.953716              16.208849              2.257889   \n",
       "\n",
       "   primary_cleaner.input.sulfate  primary_cleaner.input.depressant  \\\n",
       "0                     127.092003                         10.128295   \n",
       "1                     125.629232                         10.296251   \n",
       "2                     123.819808                         11.316280   \n",
       "\n",
       "   primary_cleaner.input.feed_size  primary_cleaner.input.xanthate  \\\n",
       "0                             7.25                        0.988759   \n",
       "1                             7.25                        1.002663   \n",
       "2                             7.25                        0.991265   \n",
       "\n",
       "   primary_cleaner.output.concentrate_ag  \\\n",
       "0                               8.547551   \n",
       "1                               8.558743   \n",
       "2                               8.603505   \n",
       "\n",
       "   primary_cleaner.output.concentrate_pb  \\\n",
       "0                              10.389648   \n",
       "1                              10.497069   \n",
       "2                              10.354494   \n",
       "\n",
       "   primary_cleaner.output.concentrate_sol  \\\n",
       "0                               19.529297   \n",
       "1                               19.369147   \n",
       "2                               19.167579   \n",
       "\n",
       "   primary_cleaner.output.concentrate_au  primary_cleaner.output.tail_ag  \\\n",
       "0                              34.174427                       14.936526   \n",
       "1                              34.118526                       16.250511   \n",
       "2                              33.969464                       16.491823   \n",
       "\n",
       "   primary_cleaner.output.tail_pb  primary_cleaner.output.tail_sol  \\\n",
       "0                        2.534912                         7.476074   \n",
       "1                        3.049646                         6.733907   \n",
       "2                        3.124664                         6.471768   \n",
       "\n",
       "   primary_cleaner.output.tail_au  primary_cleaner.state.floatbank8_a_air  \\\n",
       "0                        2.106679                             1549.775757   \n",
       "1                        2.353017                             1576.166671   \n",
       "2                        2.416800                             1601.556163   \n",
       "\n",
       "   primary_cleaner.state.floatbank8_a_level  \\\n",
       "0                               -498.912140   \n",
       "1                               -500.904965   \n",
       "2                               -499.997791   \n",
       "\n",
       "   primary_cleaner.state.floatbank8_b_air  \\\n",
       "0                             1551.434204   \n",
       "1                             1575.950626   \n",
       "2                             1600.386685   \n",
       "\n",
       "   primary_cleaner.state.floatbank8_b_level  \\\n",
       "0                               -516.403442   \n",
       "1                               -499.865889   \n",
       "2                               -500.607762   \n",
       "\n",
       "   primary_cleaner.state.floatbank8_c_air  \\\n",
       "0                             1549.873901   \n",
       "1                             1575.994189   \n",
       "2                             1602.003542   \n",
       "\n",
       "   primary_cleaner.state.floatbank8_c_level  \\\n",
       "0                               -498.666595   \n",
       "1                               -499.315107   \n",
       "2                               -500.870069   \n",
       "\n",
       "   primary_cleaner.state.floatbank8_d_air  \\\n",
       "0                             1554.367432   \n",
       "1                             1574.479259   \n",
       "2                             1599.541515   \n",
       "\n",
       "   primary_cleaner.state.floatbank8_d_level  \\\n",
       "0                               -493.428131   \n",
       "1                               -498.931665   \n",
       "2                               -499.827444   \n",
       "\n",
       "   rougher.calculation.sulfate_to_au_concentrate  \\\n",
       "0                                   41885.707031   \n",
       "1                                   42050.861809   \n",
       "2                                   42018.101184   \n",
       "\n",
       "   rougher.calculation.floatbank10_sulfate_to_au_feed  \\\n",
       "0                                        3481.779053    \n",
       "1                                        3498.370979    \n",
       "2                                        3495.348910    \n",
       "\n",
       "   rougher.calculation.floatbank11_sulfate_to_au_feed  \\\n",
       "0                                        3520.337158    \n",
       "1                                        3489.981857    \n",
       "2                                        3502.359819    \n",
       "\n",
       "   rougher.calculation.au_pb_ratio  rougher.input.feed_ag  \\\n",
       "0                         2.838687               6.100378   \n",
       "1                         2.858998               6.161113   \n",
       "2                         2.945989               6.116455   \n",
       "\n",
       "   rougher.input.feed_pb  rougher.input.feed_rate  rougher.input.feed_size  \\\n",
       "0               2.284912               523.546326                55.486599   \n",
       "1               2.266033               525.290581                57.278666   \n",
       "2               2.159622               530.026610                57.510649   \n",
       "\n",
       "   rougher.input.feed_sol  rougher.input.feed_au  \\\n",
       "0               36.808594               6.486150   \n",
       "1               35.753385               6.478583   \n",
       "2               35.971630               6.362222   \n",
       "\n",
       "   rougher.input.floatbank10_sulfate  rougher.input.floatbank10_xanthate  \\\n",
       "0                          11.986616                            6.007990   \n",
       "1                          11.971193                            6.005766   \n",
       "2                          11.920603                            6.197377   \n",
       "\n",
       "   rougher.input.floatbank11_sulfate  rougher.input.floatbank11_xanthate  \\\n",
       "0                          11.836743                            6.005818   \n",
       "1                          11.996163                            6.012594   \n",
       "2                          11.920305                            6.204633   \n",
       "\n",
       "   rougher.output.concentrate_ag  rougher.output.concentrate_pb  \\\n",
       "0                      11.500771                       7.101074   \n",
       "1                      11.615865                       7.278807   \n",
       "2                      11.695753                       7.216833   \n",
       "\n",
       "   rougher.output.concentrate_sol  rougher.output.concentrate_au  \\\n",
       "0                       28.029297                      19.793808   \n",
       "1                       28.067063                      20.050975   \n",
       "2                       27.454037                      19.737170   \n",
       "\n",
       "   rougher.output.recovery  rougher.output.tail_ag  rougher.output.tail_pb  \\\n",
       "0                87.107763                5.008018                0.508728   \n",
       "1                86.843261                4.955378                0.536689   \n",
       "2                86.842308                4.843460                0.546416   \n",
       "\n",
       "   rougher.output.tail_sol  rougher.output.tail_au  \\\n",
       "0                19.154297                1.170244   \n",
       "1                18.965234                1.184827   \n",
       "2                18.808533                1.162562   \n",
       "\n",
       "   rougher.state.floatbank10_a_air  rougher.state.floatbank10_a_level  \\\n",
       "0                       999.706909                        -404.066986   \n",
       "1                      1000.286398                        -400.065196   \n",
       "2                       999.719565                        -400.074028   \n",
       "\n",
       "   rougher.state.floatbank10_b_air  rougher.state.floatbank10_b_level  \\\n",
       "0                      1603.011353                        -434.715027   \n",
       "1                      1600.754587                        -449.953435   \n",
       "2                      1599.337330                        -450.008530   \n",
       "\n",
       "   rougher.state.floatbank10_c_air  rougher.state.floatbank10_c_level  \\\n",
       "0                      1602.375000                        -442.204468   \n",
       "1                      1600.479580                        -449.830646   \n",
       "2                      1599.672797                        -449.954491   \n",
       "\n",
       "   rougher.state.floatbank10_d_air  rougher.state.floatbank10_d_level  \\\n",
       "0                      1598.937256                        -451.294128   \n",
       "1                      1600.527589                        -449.953649   \n",
       "2                      1599.849325                        -449.954185   \n",
       "\n",
       "   rougher.state.floatbank10_e_air  rougher.state.floatbank10_e_level  \\\n",
       "0                      1404.472046                        -455.462982   \n",
       "1                      1399.227084                        -450.869848   \n",
       "2                      1399.180945                        -449.937588   \n",
       "\n",
       "   rougher.state.floatbank10_f_air  rougher.state.floatbank10_f_level  \\\n",
       "0                      1416.354980                        -451.939636   \n",
       "1                      1399.719514                        -450.119001   \n",
       "2                      1400.316682                        -450.527147   \n",
       "\n",
       "   secondary_cleaner.output.tail_ag  secondary_cleaner.output.tail_pb  \\\n",
       "0                         14.500184                          4.694824   \n",
       "1                         14.265474                          4.592547   \n",
       "2                         14.115662                          4.624775   \n",
       "\n",
       "   secondary_cleaner.output.tail_sol  secondary_cleaner.output.tail_au  \\\n",
       "0                           8.764648                          2.606185   \n",
       "1                           9.001494                          2.488248   \n",
       "2                           8.842896                          2.458187   \n",
       "\n",
       "   secondary_cleaner.state.floatbank2_a_air  \\\n",
       "0                                 25.853109   \n",
       "1                                 25.880539   \n",
       "2                                 26.005245   \n",
       "\n",
       "   secondary_cleaner.state.floatbank2_a_level  \\\n",
       "0                                 -498.526489   \n",
       "1                                 -499.989656   \n",
       "2                                 -499.929616   \n",
       "\n",
       "   secondary_cleaner.state.floatbank2_b_air  \\\n",
       "0                                 23.893660   \n",
       "1                                 23.889530   \n",
       "2                                 23.886657   \n",
       "\n",
       "   secondary_cleaner.state.floatbank2_b_level  \\\n",
       "0                                 -501.406281   \n",
       "1                                 -500.372428   \n",
       "2                                 -499.951928   \n",
       "\n",
       "   secondary_cleaner.state.floatbank3_a_air  \\\n",
       "0                                 23.961798   \n",
       "1                                 23.970550   \n",
       "2                                 23.913535   \n",
       "\n",
       "   secondary_cleaner.state.floatbank3_a_level  \\\n",
       "0                                 -495.262817   \n",
       "1                                 -500.085473   \n",
       "2                                 -499.442343   \n",
       "\n",
       "   secondary_cleaner.state.floatbank3_b_air  \\\n",
       "0                                 21.940409   \n",
       "1                                 22.085714   \n",
       "2                                 23.957717   \n",
       "\n",
       "   secondary_cleaner.state.floatbank3_b_level  \\\n",
       "0                                 -499.340973   \n",
       "1                                 -499.446897   \n",
       "2                                 -499.901982   \n",
       "\n",
       "   secondary_cleaner.state.floatbank4_a_air  \\\n",
       "0                                 14.016835   \n",
       "1                                 13.992281   \n",
       "2                                 14.015015   \n",
       "\n",
       "   secondary_cleaner.state.floatbank4_a_level  \\\n",
       "0                                 -502.488007   \n",
       "1                                 -505.503262   \n",
       "2                                 -502.520901   \n",
       "\n",
       "   secondary_cleaner.state.floatbank4_b_air  \\\n",
       "0                                 12.099931   \n",
       "1                                 11.950531   \n",
       "2                                 11.912783   \n",
       "\n",
       "   secondary_cleaner.state.floatbank4_b_level  \\\n",
       "0                                 -504.715942   \n",
       "1                                 -501.331529   \n",
       "2                                 -501.133383   \n",
       "\n",
       "   secondary_cleaner.state.floatbank5_a_air  \\\n",
       "0                                  9.925633   \n",
       "1                                 10.039245   \n",
       "2                                 10.070913   \n",
       "\n",
       "   secondary_cleaner.state.floatbank5_a_level  \\\n",
       "0                                 -498.310211   \n",
       "1                                 -500.169983   \n",
       "2                                 -500.129135   \n",
       "\n",
       "   secondary_cleaner.state.floatbank5_b_air  \\\n",
       "0                                  8.079666   \n",
       "1                                  7.984757   \n",
       "2                                  8.013877   \n",
       "\n",
       "   secondary_cleaner.state.floatbank5_b_level  \\\n",
       "0                                 -500.470978   \n",
       "1                                 -500.582168   \n",
       "2                                 -500.517572   \n",
       "\n",
       "   secondary_cleaner.state.floatbank6_a_air  \\\n",
       "0                                 14.151341   \n",
       "1                                 13.998353   \n",
       "2                                 14.028663   \n",
       "\n",
       "   secondary_cleaner.state.floatbank6_a_level  \n",
       "0                                 -605.841980  \n",
       "1                                 -599.787184  \n",
       "2                                 -601.427363  "
      ]
     },
     "execution_count": 8,
     "metadata": {},
     "output_type": "execute_result"
    }
   ],
   "source": [
    "full.head(3)"
   ]
  },
  {
   "cell_type": "markdown",
   "metadata": {},
   "source": [
    "Из результатов info() видно, что в данных есть немногочисленные пропуски. Данные столбеца 'data' позволяют судить, что данные собираются каждый час. Поэтому немногочисленные пропуски заполним ближайшим предыдущим значением (вместо удаления). Существенного влияния на анализ это оказать не должно, а количество строк останентся прежним.  \n",
    "\n",
    "Также по данным видно, что в дальнейшем перед обучением модели необходимо будет сделать масштабирование данных."
   ]
  },
  {
   "cell_type": "code",
   "execution_count": 9,
   "metadata": {},
   "outputs": [
    {
     "name": "stdout",
     "output_type": "stream",
     "text": [
      "Пропусков в обучающих данных - 4481 (0.27%)\n",
      "Заполним пропуски\n",
      "Пропусков в обучающих данных - 0\n"
     ]
    }
   ],
   "source": [
    "print(f'Пропусков в обучающих данных - {full.isna().sum().sum()} ({round(full.isna().sum().sum()/full.count().sum()*100, 2)}%)\\nЗаполним пропуски')\n",
    "full.fillna(method='ffill', inplace=True)\n",
    "print(f'Пропусков в обучающих данных - {full.isna().sum().sum()}')"
   ]
  },
  {
   "cell_type": "markdown",
   "metadata": {},
   "source": [
    "Заполним таким же образом пропуски в остальных выборках."
   ]
  },
  {
   "cell_type": "code",
   "execution_count": 10,
   "metadata": {},
   "outputs": [
    {
     "name": "stdout",
     "output_type": "stream",
     "text": [
      "Пропусков в обучающих данных - 0\n"
     ]
    }
   ],
   "source": [
    "train.fillna(method='ffill', inplace=True)\n",
    "print(f'Пропусков в обучающих данных - {train.isna().sum().sum()}')"
   ]
  },
  {
   "cell_type": "code",
   "execution_count": 11,
   "metadata": {
    "scrolled": true
   },
   "outputs": [
    {
     "name": "stdout",
     "output_type": "stream",
     "text": [
      "Пропусков в тестовых данных - 0\n"
     ]
    }
   ],
   "source": [
    "test.fillna(method='ffill', inplace=True)\n",
    "print(f'Пропусков в тестовых данных - {test.isna().sum().sum()}')"
   ]
  },
  {
   "cell_type": "code",
   "execution_count": 12,
   "metadata": {},
   "outputs": [
    {
     "name": "stdout",
     "output_type": "stream",
     "text": [
      "Пропусков в тестовых данных - 0\n"
     ]
    }
   ],
   "source": [
    "test_with_answers.fillna(method='ffill', inplace=True)\n",
    "print(f'Пропусков в тестовых данных - {test_with_answers.isna().sum().sum()}')"
   ]
  },
  {
   "cell_type": "markdown",
   "metadata": {},
   "source": [
    "### Рассчитаем эффективность обогащения."
   ]
  },
  {
   "cell_type": "code",
   "execution_count": 13,
   "metadata": {},
   "outputs": [],
   "source": [
    "def get_recovery(c, f, t): # функция рассчета эффективности обогащения.\n",
    "    return 100 * (c * (f - t)) / (f * (c - t))"
   ]
  },
  {
   "cell_type": "code",
   "execution_count": 14,
   "metadata": {},
   "outputs": [],
   "source": [
    "recovery = train[['rougher.output.recovery', 'final.output.recovery']]\n",
    "recovery['est_rougher.output.recovery'] = get_recovery(train['rougher.output.concentrate_au'],\\\n",
    "                                                       train['rougher.input.feed_au'] ,train['rougher.output.tail_au'])\n",
    "recovery['est_final.output.recovery'] = get_recovery(train['final.output.concentrate_au'], \\\n",
    "                                                     train['rougher.input.feed_au'] ,train['final.output.tail_au'])"
   ]
  },
  {
   "cell_type": "markdown",
   "metadata": {},
   "source": [
    "Рассчитаем среднее абсолютное отклонение (МАЕ) между данными датасета и полученными в расчетах."
   ]
  },
  {
   "cell_type": "code",
   "execution_count": 15,
   "metadata": {},
   "outputs": [
    {
     "data": {
      "text/plain": [
       "1.1131451184435918e-14"
      ]
     },
     "execution_count": 15,
     "metadata": {},
     "output_type": "execute_result"
    }
   ],
   "source": [
    "mean_absolute_error(recovery['rougher.output.recovery'], recovery['est_rougher.output.recovery'])"
   ]
  },
  {
   "cell_type": "code",
   "execution_count": 16,
   "metadata": {},
   "outputs": [
    {
     "data": {
      "text/plain": [
       "9.648696507901679e-15"
      ]
     },
     "execution_count": 16,
     "metadata": {},
     "output_type": "execute_result"
    }
   ],
   "source": [
    "mean_absolute_error(recovery['final.output.recovery'], recovery['est_final.output.recovery'])"
   ]
  },
  {
   "cell_type": "markdown",
   "metadata": {},
   "source": [
    "Практически данные совпадают."
   ]
  },
  {
   "cell_type": "markdown",
   "metadata": {},
   "source": [
    "### Признаки, недоступные в тестовой выборке."
   ]
  },
  {
   "cell_type": "markdown",
   "metadata": {},
   "source": [
    "Рассмотрим признаки недоступные в тестовой выборке."
   ]
  },
  {
   "cell_type": "code",
   "execution_count": 17,
   "metadata": {},
   "outputs": [
    {
     "data": {
      "text/plain": [
       "{'final.output.concentrate_ag',\n",
       " 'final.output.concentrate_au',\n",
       " 'final.output.concentrate_pb',\n",
       " 'final.output.concentrate_sol',\n",
       " 'final.output.recovery',\n",
       " 'final.output.tail_ag',\n",
       " 'final.output.tail_au',\n",
       " 'final.output.tail_pb',\n",
       " 'final.output.tail_sol',\n",
       " 'primary_cleaner.output.concentrate_ag',\n",
       " 'primary_cleaner.output.concentrate_au',\n",
       " 'primary_cleaner.output.concentrate_pb',\n",
       " 'primary_cleaner.output.concentrate_sol',\n",
       " 'primary_cleaner.output.tail_ag',\n",
       " 'primary_cleaner.output.tail_au',\n",
       " 'primary_cleaner.output.tail_pb',\n",
       " 'primary_cleaner.output.tail_sol',\n",
       " 'rougher.calculation.au_pb_ratio',\n",
       " 'rougher.calculation.floatbank10_sulfate_to_au_feed',\n",
       " 'rougher.calculation.floatbank11_sulfate_to_au_feed',\n",
       " 'rougher.calculation.sulfate_to_au_concentrate',\n",
       " 'rougher.output.concentrate_ag',\n",
       " 'rougher.output.concentrate_au',\n",
       " 'rougher.output.concentrate_pb',\n",
       " 'rougher.output.concentrate_sol',\n",
       " 'rougher.output.recovery',\n",
       " 'rougher.output.tail_ag',\n",
       " 'rougher.output.tail_au',\n",
       " 'rougher.output.tail_pb',\n",
       " 'rougher.output.tail_sol',\n",
       " 'secondary_cleaner.output.tail_ag',\n",
       " 'secondary_cleaner.output.tail_au',\n",
       " 'secondary_cleaner.output.tail_pb',\n",
       " 'secondary_cleaner.output.tail_sol'}"
      ]
     },
     "execution_count": 17,
     "metadata": {},
     "output_type": "execute_result"
    }
   ],
   "source": [
    "set(full.columns) - set(test.columns)"
   ]
  },
  {
   "cell_type": "markdown",
   "metadata": {},
   "source": [
    "В тестовой выборке отсутствуют выходные параметры процессов обогащения, очистки и эффективности. Т.е. мы знаем все входные параметры, но с каким результатом отработают процессы нам не известно. Надо по заданным входным условиям предсказать обогащение сырья."
   ]
  },
  {
   "cell_type": "markdown",
   "metadata": {},
   "source": [
    "### Предобработка данных"
   ]
  },
  {
   "cell_type": "markdown",
   "metadata": {},
   "source": [
    "Пропуски уже обработаны, проверим типы данных столбцов, явные дубликаты и \"странные\" значения."
   ]
  },
  {
   "cell_type": "code",
   "execution_count": 18,
   "metadata": {},
   "outputs": [
    {
     "data": {
      "text/plain": [
       "float64           86\n",
       "datetime64[ns]     1\n",
       "dtype: int64"
      ]
     },
     "execution_count": 18,
     "metadata": {},
     "output_type": "execute_result"
    }
   ],
   "source": [
    "full.dtypes.value_counts()"
   ]
  },
  {
   "cell_type": "code",
   "execution_count": 19,
   "metadata": {},
   "outputs": [
    {
     "data": {
      "text/plain": [
       "float64           52\n",
       "datetime64[ns]     1\n",
       "dtype: int64"
      ]
     },
     "execution_count": 19,
     "metadata": {},
     "output_type": "execute_result"
    }
   ],
   "source": [
    "test.dtypes.value_counts()"
   ]
  },
  {
   "cell_type": "markdown",
   "metadata": {},
   "source": [
    "Данные обучающей и тестовой выборки имеют корректные типы данных. Один столбец дата, остальные число с плавующей точкой."
   ]
  },
  {
   "cell_type": "code",
   "execution_count": 20,
   "metadata": {},
   "outputs": [
    {
     "data": {
      "text/plain": [
       "0"
      ]
     },
     "execution_count": 20,
     "metadata": {},
     "output_type": "execute_result"
    }
   ],
   "source": [
    "full.iloc[:,1:].duplicated().sum()"
   ]
  },
  {
   "cell_type": "markdown",
   "metadata": {},
   "source": [
    "Явных дубликатов нет.  \n",
    "Посмотрим минимальные и максимальные значения."
   ]
  },
  {
   "cell_type": "code",
   "execution_count": 21,
   "metadata": {},
   "outputs": [
    {
     "data": {
      "text/html": [
       "<div>\n",
       "<style scoped>\n",
       "    .dataframe tbody tr th:only-of-type {\n",
       "        vertical-align: middle;\n",
       "    }\n",
       "\n",
       "    .dataframe tbody tr th {\n",
       "        vertical-align: top;\n",
       "    }\n",
       "\n",
       "    .dataframe thead th {\n",
       "        text-align: right;\n",
       "    }\n",
       "</style>\n",
       "<table border=\"1\" class=\"dataframe\">\n",
       "  <thead>\n",
       "    <tr style=\"text-align: right;\">\n",
       "      <th></th>\n",
       "      <th>date</th>\n",
       "      <th>final.output.concentrate_ag</th>\n",
       "      <th>final.output.concentrate_pb</th>\n",
       "      <th>final.output.concentrate_sol</th>\n",
       "      <th>final.output.concentrate_au</th>\n",
       "      <th>final.output.recovery</th>\n",
       "      <th>final.output.tail_ag</th>\n",
       "      <th>final.output.tail_pb</th>\n",
       "      <th>final.output.tail_sol</th>\n",
       "      <th>final.output.tail_au</th>\n",
       "      <th>primary_cleaner.input.sulfate</th>\n",
       "      <th>primary_cleaner.input.depressant</th>\n",
       "      <th>primary_cleaner.input.feed_size</th>\n",
       "      <th>primary_cleaner.input.xanthate</th>\n",
       "      <th>primary_cleaner.output.concentrate_ag</th>\n",
       "      <th>primary_cleaner.output.concentrate_pb</th>\n",
       "      <th>primary_cleaner.output.concentrate_sol</th>\n",
       "      <th>primary_cleaner.output.concentrate_au</th>\n",
       "      <th>primary_cleaner.output.tail_ag</th>\n",
       "      <th>primary_cleaner.output.tail_pb</th>\n",
       "      <th>primary_cleaner.output.tail_sol</th>\n",
       "      <th>primary_cleaner.output.tail_au</th>\n",
       "      <th>primary_cleaner.state.floatbank8_a_air</th>\n",
       "      <th>primary_cleaner.state.floatbank8_a_level</th>\n",
       "      <th>primary_cleaner.state.floatbank8_b_air</th>\n",
       "      <th>primary_cleaner.state.floatbank8_b_level</th>\n",
       "      <th>primary_cleaner.state.floatbank8_c_air</th>\n",
       "      <th>primary_cleaner.state.floatbank8_c_level</th>\n",
       "      <th>primary_cleaner.state.floatbank8_d_air</th>\n",
       "      <th>primary_cleaner.state.floatbank8_d_level</th>\n",
       "      <th>rougher.calculation.sulfate_to_au_concentrate</th>\n",
       "      <th>rougher.calculation.floatbank10_sulfate_to_au_feed</th>\n",
       "      <th>rougher.calculation.floatbank11_sulfate_to_au_feed</th>\n",
       "      <th>rougher.calculation.au_pb_ratio</th>\n",
       "      <th>rougher.input.feed_ag</th>\n",
       "      <th>rougher.input.feed_pb</th>\n",
       "      <th>rougher.input.feed_rate</th>\n",
       "      <th>rougher.input.feed_size</th>\n",
       "      <th>rougher.input.feed_sol</th>\n",
       "      <th>rougher.input.feed_au</th>\n",
       "      <th>rougher.input.floatbank10_sulfate</th>\n",
       "      <th>rougher.input.floatbank10_xanthate</th>\n",
       "      <th>rougher.input.floatbank11_sulfate</th>\n",
       "      <th>rougher.input.floatbank11_xanthate</th>\n",
       "      <th>rougher.output.concentrate_ag</th>\n",
       "      <th>rougher.output.concentrate_pb</th>\n",
       "      <th>rougher.output.concentrate_sol</th>\n",
       "      <th>rougher.output.concentrate_au</th>\n",
       "      <th>rougher.output.recovery</th>\n",
       "      <th>rougher.output.tail_ag</th>\n",
       "      <th>rougher.output.tail_pb</th>\n",
       "      <th>rougher.output.tail_sol</th>\n",
       "      <th>rougher.output.tail_au</th>\n",
       "      <th>rougher.state.floatbank10_a_air</th>\n",
       "      <th>rougher.state.floatbank10_a_level</th>\n",
       "      <th>rougher.state.floatbank10_b_air</th>\n",
       "      <th>rougher.state.floatbank10_b_level</th>\n",
       "      <th>rougher.state.floatbank10_c_air</th>\n",
       "      <th>rougher.state.floatbank10_c_level</th>\n",
       "      <th>rougher.state.floatbank10_d_air</th>\n",
       "      <th>rougher.state.floatbank10_d_level</th>\n",
       "      <th>rougher.state.floatbank10_e_air</th>\n",
       "      <th>rougher.state.floatbank10_e_level</th>\n",
       "      <th>rougher.state.floatbank10_f_air</th>\n",
       "      <th>rougher.state.floatbank10_f_level</th>\n",
       "      <th>secondary_cleaner.output.tail_ag</th>\n",
       "      <th>secondary_cleaner.output.tail_pb</th>\n",
       "      <th>secondary_cleaner.output.tail_sol</th>\n",
       "      <th>secondary_cleaner.output.tail_au</th>\n",
       "      <th>secondary_cleaner.state.floatbank2_a_air</th>\n",
       "      <th>secondary_cleaner.state.floatbank2_a_level</th>\n",
       "      <th>secondary_cleaner.state.floatbank2_b_air</th>\n",
       "      <th>secondary_cleaner.state.floatbank2_b_level</th>\n",
       "      <th>secondary_cleaner.state.floatbank3_a_air</th>\n",
       "      <th>secondary_cleaner.state.floatbank3_a_level</th>\n",
       "      <th>secondary_cleaner.state.floatbank3_b_air</th>\n",
       "      <th>secondary_cleaner.state.floatbank3_b_level</th>\n",
       "      <th>secondary_cleaner.state.floatbank4_a_air</th>\n",
       "      <th>secondary_cleaner.state.floatbank4_a_level</th>\n",
       "      <th>secondary_cleaner.state.floatbank4_b_air</th>\n",
       "      <th>secondary_cleaner.state.floatbank4_b_level</th>\n",
       "      <th>secondary_cleaner.state.floatbank5_a_air</th>\n",
       "      <th>secondary_cleaner.state.floatbank5_a_level</th>\n",
       "      <th>secondary_cleaner.state.floatbank5_b_air</th>\n",
       "      <th>secondary_cleaner.state.floatbank5_b_level</th>\n",
       "      <th>secondary_cleaner.state.floatbank6_a_air</th>\n",
       "      <th>secondary_cleaner.state.floatbank6_a_level</th>\n",
       "    </tr>\n",
       "  </thead>\n",
       "  <tbody>\n",
       "    <tr>\n",
       "      <th>min</th>\n",
       "      <td>2016-01-15 00:00:00</td>\n",
       "      <td>0.000000</td>\n",
       "      <td>0.000000</td>\n",
       "      <td>0.00000</td>\n",
       "      <td>0.000000</td>\n",
       "      <td>0.0</td>\n",
       "      <td>0.000000</td>\n",
       "      <td>0.000000</td>\n",
       "      <td>0.00000</td>\n",
       "      <td>0.000000</td>\n",
       "      <td>0.003112</td>\n",
       "      <td>0.0</td>\n",
       "      <td>1.08</td>\n",
       "      <td>0.000005</td>\n",
       "      <td>0.000000</td>\n",
       "      <td>0.000000</td>\n",
       "      <td>0.000000</td>\n",
       "      <td>0.000000</td>\n",
       "      <td>0.000000</td>\n",
       "      <td>0.000000</td>\n",
       "      <td>0.000000</td>\n",
       "      <td>0.000000</td>\n",
       "      <td>5.445860e-32</td>\n",
       "      <td>-798.641662</td>\n",
       "      <td>6.647490e-32</td>\n",
       "      <td>-799.997015</td>\n",
       "      <td>4.033736e-32</td>\n",
       "      <td>-799.960571</td>\n",
       "      <td>4.039220e-32</td>\n",
       "      <td>-799.794250</td>\n",
       "      <td>-4.223520e+07</td>\n",
       "      <td>-486.598675</td>\n",
       "      <td>-264.982785</td>\n",
       "      <td>-0.010548</td>\n",
       "      <td>0.010000</td>\n",
       "      <td>0.010000</td>\n",
       "      <td>0.002986</td>\n",
       "      <td>0.046369</td>\n",
       "      <td>0.010000</td>\n",
       "      <td>0.01000</td>\n",
       "      <td>0.001083</td>\n",
       "      <td>0.000568</td>\n",
       "      <td>0.000077</td>\n",
       "      <td>0.000290</td>\n",
       "      <td>0.000000</td>\n",
       "      <td>0.000000</td>\n",
       "      <td>0.000000</td>\n",
       "      <td>0.000000</td>\n",
       "      <td>0.0</td>\n",
       "      <td>0.594562</td>\n",
       "      <td>0.007566</td>\n",
       "      <td>10.014648</td>\n",
       "      <td>0.020676</td>\n",
       "      <td>-0.042069</td>\n",
       "      <td>-657.949759</td>\n",
       "      <td>-0.721806</td>\n",
       "      <td>-650.260008</td>\n",
       "      <td>-0.056636</td>\n",
       "      <td>-647.544439</td>\n",
       "      <td>-0.992219</td>\n",
       "      <td>-648.390665</td>\n",
       "      <td>-1.982295</td>\n",
       "      <td>-649.443911</td>\n",
       "      <td>-2.593390</td>\n",
       "      <td>-649.949283</td>\n",
       "      <td>0.000000</td>\n",
       "      <td>0.000000</td>\n",
       "      <td>0.000000</td>\n",
       "      <td>0.000000</td>\n",
       "      <td>0.077503</td>\n",
       "      <td>-799.606441</td>\n",
       "      <td>0.000000</td>\n",
       "      <td>-799.873878</td>\n",
       "      <td>0.000000</td>\n",
       "      <td>-799.755798</td>\n",
       "      <td>0.000000</td>\n",
       "      <td>-809.333008</td>\n",
       "      <td>0.000000</td>\n",
       "      <td>-799.798523</td>\n",
       "      <td>0.000000</td>\n",
       "      <td>-800.836914</td>\n",
       "      <td>-0.372054</td>\n",
       "      <td>-797.323986</td>\n",
       "      <td>0.528083</td>\n",
       "      <td>-800.220337</td>\n",
       "      <td>-0.079426</td>\n",
       "      <td>-809.741464</td>\n",
       "    </tr>\n",
       "    <tr>\n",
       "      <th>max</th>\n",
       "      <td>2018-08-18 10:59:59</td>\n",
       "      <td>16.001945</td>\n",
       "      <td>17.031899</td>\n",
       "      <td>19.61572</td>\n",
       "      <td>52.756638</td>\n",
       "      <td>100.0</td>\n",
       "      <td>19.552149</td>\n",
       "      <td>5.804178</td>\n",
       "      <td>22.31773</td>\n",
       "      <td>8.245022</td>\n",
       "      <td>265.983123</td>\n",
       "      <td>40.0</td>\n",
       "      <td>15.50</td>\n",
       "      <td>4.102454</td>\n",
       "      <td>16.081632</td>\n",
       "      <td>17.081278</td>\n",
       "      <td>22.458114</td>\n",
       "      <td>45.933934</td>\n",
       "      <td>29.459575</td>\n",
       "      <td>9.634565</td>\n",
       "      <td>22.276364</td>\n",
       "      <td>17.788925</td>\n",
       "      <td>2.103104e+03</td>\n",
       "      <td>-57.195404</td>\n",
       "      <td>2.114907e+03</td>\n",
       "      <td>-142.527229</td>\n",
       "      <td>2.013156e+03</td>\n",
       "      <td>-150.937035</td>\n",
       "      <td>2.398904e+03</td>\n",
       "      <td>-30.601828</td>\n",
       "      <td>3.428099e+06</td>\n",
       "      <td>629638.977914</td>\n",
       "      <td>718684.955855</td>\n",
       "      <td>39.379272</td>\n",
       "      <td>14.596026</td>\n",
       "      <td>7.142594</td>\n",
       "      <td>717.508837</td>\n",
       "      <td>484.967466</td>\n",
       "      <td>53.477742</td>\n",
       "      <td>13.73133</td>\n",
       "      <td>36.118275</td>\n",
       "      <td>9.703448</td>\n",
       "      <td>37.980648</td>\n",
       "      <td>9.698407</td>\n",
       "      <td>24.480271</td>\n",
       "      <td>13.617072</td>\n",
       "      <td>38.351193</td>\n",
       "      <td>28.824507</td>\n",
       "      <td>100.0</td>\n",
       "      <td>12.719177</td>\n",
       "      <td>3.778064</td>\n",
       "      <td>66.117188</td>\n",
       "      <td>9.688980</td>\n",
       "      <td>1521.980372</td>\n",
       "      <td>-273.776101</td>\n",
       "      <td>1809.194008</td>\n",
       "      <td>-296.383080</td>\n",
       "      <td>2499.129174</td>\n",
       "      <td>-292.155509</td>\n",
       "      <td>1817.199290</td>\n",
       "      <td>-76.397327</td>\n",
       "      <td>1922.636637</td>\n",
       "      <td>-139.753025</td>\n",
       "      <td>1706.307502</td>\n",
       "      <td>-191.718480</td>\n",
       "      <td>23.264738</td>\n",
       "      <td>17.042505</td>\n",
       "      <td>26.000772</td>\n",
       "      <td>26.811643</td>\n",
       "      <td>52.651399</td>\n",
       "      <td>-127.875565</td>\n",
       "      <td>35.152122</td>\n",
       "      <td>-211.999273</td>\n",
       "      <td>44.260464</td>\n",
       "      <td>-191.678810</td>\n",
       "      <td>35.072841</td>\n",
       "      <td>-159.742331</td>\n",
       "      <td>30.115735</td>\n",
       "      <td>-245.239184</td>\n",
       "      <td>31.269706</td>\n",
       "      <td>-6.506986</td>\n",
       "      <td>43.709931</td>\n",
       "      <td>-244.483566</td>\n",
       "      <td>27.926001</td>\n",
       "      <td>-137.740004</td>\n",
       "      <td>32.188906</td>\n",
       "      <td>-104.427459</td>\n",
       "    </tr>\n",
       "  </tbody>\n",
       "</table>\n",
       "</div>"
      ],
      "text/plain": [
       "                   date  final.output.concentrate_ag  \\\n",
       "min 2016-01-15 00:00:00                     0.000000   \n",
       "max 2018-08-18 10:59:59                    16.001945   \n",
       "\n",
       "     final.output.concentrate_pb  final.output.concentrate_sol  \\\n",
       "min                     0.000000                       0.00000   \n",
       "max                    17.031899                      19.61572   \n",
       "\n",
       "     final.output.concentrate_au  final.output.recovery  final.output.tail_ag  \\\n",
       "min                     0.000000                    0.0              0.000000   \n",
       "max                    52.756638                  100.0             19.552149   \n",
       "\n",
       "     final.output.tail_pb  final.output.tail_sol  final.output.tail_au  \\\n",
       "min              0.000000                0.00000              0.000000   \n",
       "max              5.804178               22.31773              8.245022   \n",
       "\n",
       "     primary_cleaner.input.sulfate  primary_cleaner.input.depressant  \\\n",
       "min                       0.003112                               0.0   \n",
       "max                     265.983123                              40.0   \n",
       "\n",
       "     primary_cleaner.input.feed_size  primary_cleaner.input.xanthate  \\\n",
       "min                             1.08                        0.000005   \n",
       "max                            15.50                        4.102454   \n",
       "\n",
       "     primary_cleaner.output.concentrate_ag  \\\n",
       "min                               0.000000   \n",
       "max                              16.081632   \n",
       "\n",
       "     primary_cleaner.output.concentrate_pb  \\\n",
       "min                               0.000000   \n",
       "max                              17.081278   \n",
       "\n",
       "     primary_cleaner.output.concentrate_sol  \\\n",
       "min                                0.000000   \n",
       "max                               22.458114   \n",
       "\n",
       "     primary_cleaner.output.concentrate_au  primary_cleaner.output.tail_ag  \\\n",
       "min                               0.000000                        0.000000   \n",
       "max                              45.933934                       29.459575   \n",
       "\n",
       "     primary_cleaner.output.tail_pb  primary_cleaner.output.tail_sol  \\\n",
       "min                        0.000000                         0.000000   \n",
       "max                        9.634565                        22.276364   \n",
       "\n",
       "     primary_cleaner.output.tail_au  primary_cleaner.state.floatbank8_a_air  \\\n",
       "min                        0.000000                            5.445860e-32   \n",
       "max                       17.788925                            2.103104e+03   \n",
       "\n",
       "     primary_cleaner.state.floatbank8_a_level  \\\n",
       "min                               -798.641662   \n",
       "max                                -57.195404   \n",
       "\n",
       "     primary_cleaner.state.floatbank8_b_air  \\\n",
       "min                            6.647490e-32   \n",
       "max                            2.114907e+03   \n",
       "\n",
       "     primary_cleaner.state.floatbank8_b_level  \\\n",
       "min                               -799.997015   \n",
       "max                               -142.527229   \n",
       "\n",
       "     primary_cleaner.state.floatbank8_c_air  \\\n",
       "min                            4.033736e-32   \n",
       "max                            2.013156e+03   \n",
       "\n",
       "     primary_cleaner.state.floatbank8_c_level  \\\n",
       "min                               -799.960571   \n",
       "max                               -150.937035   \n",
       "\n",
       "     primary_cleaner.state.floatbank8_d_air  \\\n",
       "min                            4.039220e-32   \n",
       "max                            2.398904e+03   \n",
       "\n",
       "     primary_cleaner.state.floatbank8_d_level  \\\n",
       "min                               -799.794250   \n",
       "max                                -30.601828   \n",
       "\n",
       "     rougher.calculation.sulfate_to_au_concentrate  \\\n",
       "min                                  -4.223520e+07   \n",
       "max                                   3.428099e+06   \n",
       "\n",
       "     rougher.calculation.floatbank10_sulfate_to_au_feed  \\\n",
       "min                                        -486.598675    \n",
       "max                                      629638.977914    \n",
       "\n",
       "     rougher.calculation.floatbank11_sulfate_to_au_feed  \\\n",
       "min                                        -264.982785    \n",
       "max                                      718684.955855    \n",
       "\n",
       "     rougher.calculation.au_pb_ratio  rougher.input.feed_ag  \\\n",
       "min                        -0.010548               0.010000   \n",
       "max                        39.379272              14.596026   \n",
       "\n",
       "     rougher.input.feed_pb  rougher.input.feed_rate  rougher.input.feed_size  \\\n",
       "min               0.010000                 0.002986                 0.046369   \n",
       "max               7.142594               717.508837               484.967466   \n",
       "\n",
       "     rougher.input.feed_sol  rougher.input.feed_au  \\\n",
       "min                0.010000                0.01000   \n",
       "max               53.477742               13.73133   \n",
       "\n",
       "     rougher.input.floatbank10_sulfate  rougher.input.floatbank10_xanthate  \\\n",
       "min                           0.001083                            0.000568   \n",
       "max                          36.118275                            9.703448   \n",
       "\n",
       "     rougher.input.floatbank11_sulfate  rougher.input.floatbank11_xanthate  \\\n",
       "min                           0.000077                            0.000290   \n",
       "max                          37.980648                            9.698407   \n",
       "\n",
       "     rougher.output.concentrate_ag  rougher.output.concentrate_pb  \\\n",
       "min                       0.000000                       0.000000   \n",
       "max                      24.480271                      13.617072   \n",
       "\n",
       "     rougher.output.concentrate_sol  rougher.output.concentrate_au  \\\n",
       "min                        0.000000                       0.000000   \n",
       "max                       38.351193                      28.824507   \n",
       "\n",
       "     rougher.output.recovery  rougher.output.tail_ag  rougher.output.tail_pb  \\\n",
       "min                      0.0                0.594562                0.007566   \n",
       "max                    100.0               12.719177                3.778064   \n",
       "\n",
       "     rougher.output.tail_sol  rougher.output.tail_au  \\\n",
       "min                10.014648                0.020676   \n",
       "max                66.117188                9.688980   \n",
       "\n",
       "     rougher.state.floatbank10_a_air  rougher.state.floatbank10_a_level  \\\n",
       "min                        -0.042069                        -657.949759   \n",
       "max                      1521.980372                        -273.776101   \n",
       "\n",
       "     rougher.state.floatbank10_b_air  rougher.state.floatbank10_b_level  \\\n",
       "min                        -0.721806                        -650.260008   \n",
       "max                      1809.194008                        -296.383080   \n",
       "\n",
       "     rougher.state.floatbank10_c_air  rougher.state.floatbank10_c_level  \\\n",
       "min                        -0.056636                        -647.544439   \n",
       "max                      2499.129174                        -292.155509   \n",
       "\n",
       "     rougher.state.floatbank10_d_air  rougher.state.floatbank10_d_level  \\\n",
       "min                        -0.992219                        -648.390665   \n",
       "max                      1817.199290                         -76.397327   \n",
       "\n",
       "     rougher.state.floatbank10_e_air  rougher.state.floatbank10_e_level  \\\n",
       "min                        -1.982295                        -649.443911   \n",
       "max                      1922.636637                        -139.753025   \n",
       "\n",
       "     rougher.state.floatbank10_f_air  rougher.state.floatbank10_f_level  \\\n",
       "min                        -2.593390                        -649.949283   \n",
       "max                      1706.307502                        -191.718480   \n",
       "\n",
       "     secondary_cleaner.output.tail_ag  secondary_cleaner.output.tail_pb  \\\n",
       "min                          0.000000                          0.000000   \n",
       "max                         23.264738                         17.042505   \n",
       "\n",
       "     secondary_cleaner.output.tail_sol  secondary_cleaner.output.tail_au  \\\n",
       "min                           0.000000                          0.000000   \n",
       "max                          26.000772                         26.811643   \n",
       "\n",
       "     secondary_cleaner.state.floatbank2_a_air  \\\n",
       "min                                  0.077503   \n",
       "max                                 52.651399   \n",
       "\n",
       "     secondary_cleaner.state.floatbank2_a_level  \\\n",
       "min                                 -799.606441   \n",
       "max                                 -127.875565   \n",
       "\n",
       "     secondary_cleaner.state.floatbank2_b_air  \\\n",
       "min                                  0.000000   \n",
       "max                                 35.152122   \n",
       "\n",
       "     secondary_cleaner.state.floatbank2_b_level  \\\n",
       "min                                 -799.873878   \n",
       "max                                 -211.999273   \n",
       "\n",
       "     secondary_cleaner.state.floatbank3_a_air  \\\n",
       "min                                  0.000000   \n",
       "max                                 44.260464   \n",
       "\n",
       "     secondary_cleaner.state.floatbank3_a_level  \\\n",
       "min                                 -799.755798   \n",
       "max                                 -191.678810   \n",
       "\n",
       "     secondary_cleaner.state.floatbank3_b_air  \\\n",
       "min                                  0.000000   \n",
       "max                                 35.072841   \n",
       "\n",
       "     secondary_cleaner.state.floatbank3_b_level  \\\n",
       "min                                 -809.333008   \n",
       "max                                 -159.742331   \n",
       "\n",
       "     secondary_cleaner.state.floatbank4_a_air  \\\n",
       "min                                  0.000000   \n",
       "max                                 30.115735   \n",
       "\n",
       "     secondary_cleaner.state.floatbank4_a_level  \\\n",
       "min                                 -799.798523   \n",
       "max                                 -245.239184   \n",
       "\n",
       "     secondary_cleaner.state.floatbank4_b_air  \\\n",
       "min                                  0.000000   \n",
       "max                                 31.269706   \n",
       "\n",
       "     secondary_cleaner.state.floatbank4_b_level  \\\n",
       "min                                 -800.836914   \n",
       "max                                   -6.506986   \n",
       "\n",
       "     secondary_cleaner.state.floatbank5_a_air  \\\n",
       "min                                 -0.372054   \n",
       "max                                 43.709931   \n",
       "\n",
       "     secondary_cleaner.state.floatbank5_a_level  \\\n",
       "min                                 -797.323986   \n",
       "max                                 -244.483566   \n",
       "\n",
       "     secondary_cleaner.state.floatbank5_b_air  \\\n",
       "min                                  0.528083   \n",
       "max                                 27.926001   \n",
       "\n",
       "     secondary_cleaner.state.floatbank5_b_level  \\\n",
       "min                                 -800.220337   \n",
       "max                                 -137.740004   \n",
       "\n",
       "     secondary_cleaner.state.floatbank6_a_air  \\\n",
       "min                                 -0.079426   \n",
       "max                                 32.188906   \n",
       "\n",
       "     secondary_cleaner.state.floatbank6_a_level  \n",
       "min                                 -809.741464  \n",
       "max                                 -104.427459  "
      ]
     },
     "execution_count": 21,
     "metadata": {},
     "output_type": "execute_result"
    }
   ],
   "source": [
    "full.agg(['min', 'max'])"
   ]
  },
  {
   "cell_type": "markdown",
   "metadata": {},
   "source": [
    "Вот и \"странности\" в данных.  \n",
    "- Минимальное значение концентрации в выходном продукте, в хвостах на разных этапах обогащения равно ровно 0. Такого скорее всего не может быть, особенно учитывая, что данные представлены с точностью 6 знаков после запятой. Это скорее всего ошибка измерений или выгрузки данных.  \n",
    "- Максимально значение эффективности ровно 0 % или 100 %, такое вряд ли возможно.\n",
    "- Максимальное значение в 2 столбцах равно 629638 и 718684, относительно остальных данных очень большие числа, надо посмотреть поподробнее.  "
   ]
  },
  {
   "cell_type": "markdown",
   "metadata": {},
   "source": [
    "Посмотрим несколько максимальных значений в столбцах привлекших внимание."
   ]
  },
  {
   "cell_type": "code",
   "execution_count": 22,
   "metadata": {},
   "outputs": [
    {
     "data": {
      "text/plain": [
       "11117    629638.977914\n",
       "2826     234425.859727\n",
       "1161      20960.012239\n",
       "3389      20450.367307\n",
       "12120     19213.716053\n",
       "8715      18035.545269\n",
       "8697      17174.958207\n",
       "Name: rougher.calculation.floatbank10_sulfate_to_au_feed, dtype: float64"
      ]
     },
     "execution_count": 22,
     "metadata": {},
     "output_type": "execute_result"
    }
   ],
   "source": [
    "train['rougher.calculation.floatbank10_sulfate_to_au_feed'].nlargest(7)"
   ]
  },
  {
   "cell_type": "markdown",
   "metadata": {},
   "source": [
    "Строки с индексами 11117 и 2826 больше максимального значения в 10 и 30 раз."
   ]
  },
  {
   "cell_type": "code",
   "execution_count": 23,
   "metadata": {},
   "outputs": [
    {
     "data": {
      "text/plain": [
       "11117    718684.955855\n",
       "2826     337629.417668\n",
       "3389      29105.606710\n",
       "1161      20865.828789\n",
       "2825      19812.087340\n",
       "12120     19214.056617\n",
       "12000     14471.521157\n",
       "Name: rougher.calculation.floatbank11_sulfate_to_au_feed, dtype: float64"
      ]
     },
     "execution_count": 23,
     "metadata": {},
     "output_type": "execute_result"
    }
   ],
   "source": [
    "train['rougher.calculation.floatbank11_sulfate_to_au_feed'].nlargest(7)"
   ]
  },
  {
   "cell_type": "markdown",
   "metadata": {},
   "source": [
    "Такой же результат. Удалим эти 2 строки как неправдоподобные."
   ]
  },
  {
   "cell_type": "code",
   "execution_count": 24,
   "metadata": {},
   "outputs": [],
   "source": [
    "train = train.drop(index=[11117, 2826])"
   ]
  },
  {
   "cell_type": "code",
   "execution_count": 25,
   "metadata": {},
   "outputs": [
    {
     "data": {
      "text/plain": [
       "16407    629638.977914\n",
       "2826     234425.859727\n",
       "1161      20960.012239\n",
       "3389      20450.367307\n",
       "17410     19213.716053\n",
       "11335     18035.545269\n",
       "11317     17174.958207\n",
       "Name: rougher.calculation.floatbank10_sulfate_to_au_feed, dtype: float64"
      ]
     },
     "execution_count": 25,
     "metadata": {},
     "output_type": "execute_result"
    }
   ],
   "source": [
    "full['rougher.calculation.floatbank10_sulfate_to_au_feed'].nlargest(7)"
   ]
  },
  {
   "cell_type": "code",
   "execution_count": 26,
   "metadata": {},
   "outputs": [],
   "source": [
    "full = full.drop(index=[16407, 2826])"
   ]
  },
  {
   "cell_type": "markdown",
   "metadata": {},
   "source": [
    "Проверим сколько нулевых значений в столбцах концентрата и эффективности."
   ]
  },
  {
   "cell_type": "code",
   "execution_count": 27,
   "metadata": {},
   "outputs": [],
   "source": [
    "def get_name(train, val):\n",
    "    name = (train == val).sum()\n",
    "    name = name[name > 0]\n",
    "    return name"
   ]
  },
  {
   "cell_type": "code",
   "execution_count": 28,
   "metadata": {},
   "outputs": [
    {
     "data": {
      "text/plain": [
       "final.output.concentrate_ag                  98\n",
       "final.output.concentrate_pb                  98\n",
       "final.output.concentrate_sol                 98\n",
       "final.output.concentrate_au                  98\n",
       "final.output.recovery                        98\n",
       "final.output.tail_ag                         91\n",
       "final.output.tail_pb                         91\n",
       "final.output.tail_sol                        91\n",
       "final.output.tail_au                         91\n",
       "primary_cleaner.input.depressant             18\n",
       "primary_cleaner.output.concentrate_ag       108\n",
       "primary_cleaner.output.concentrate_pb       114\n",
       "primary_cleaner.output.concentrate_sol      116\n",
       "primary_cleaner.output.concentrate_au       108\n",
       "primary_cleaner.output.tail_ag              124\n",
       "primary_cleaner.output.tail_pb              124\n",
       "primary_cleaner.output.tail_sol             127\n",
       "primary_cleaner.output.tail_au              124\n",
       "rougher.output.concentrate_ag               394\n",
       "rougher.output.concentrate_pb               394\n",
       "rougher.output.concentrate_sol              397\n",
       "rougher.output.concentrate_au               394\n",
       "rougher.output.recovery                     394\n",
       "secondary_cleaner.output.tail_ag            849\n",
       "secondary_cleaner.output.tail_pb            849\n",
       "secondary_cleaner.output.tail_sol           946\n",
       "secondary_cleaner.output.tail_au            849\n",
       "secondary_cleaner.state.floatbank2_b_air      8\n",
       "secondary_cleaner.state.floatbank3_a_air      9\n",
       "secondary_cleaner.state.floatbank3_b_air      1\n",
       "secondary_cleaner.state.floatbank4_a_air      1\n",
       "secondary_cleaner.state.floatbank4_b_air      1\n",
       "dtype: int64"
      ]
     },
     "execution_count": 28,
     "metadata": {},
     "output_type": "execute_result"
    }
   ],
   "source": [
    "name = get_name(full, 0)\n",
    "name"
   ]
  },
  {
   "cell_type": "code",
   "execution_count": 29,
   "metadata": {},
   "outputs": [
    {
     "data": {
      "text/plain": [
       "final.output.recovery      91\n",
       "rougher.output.recovery     5\n",
       "dtype: int64"
      ]
     },
     "execution_count": 29,
     "metadata": {},
     "output_type": "execute_result"
    }
   ],
   "source": [
    "get_name(full, 100)"
   ]
  },
  {
   "cell_type": "markdown",
   "metadata": {},
   "source": [
    "Отберем только столбцы концентрата и эффективности и удалим строки содержащие 0 и 100. (как не правдоподобные значения)"
   ]
  },
  {
   "cell_type": "code",
   "execution_count": 30,
   "metadata": {},
   "outputs": [],
   "source": [
    "name = list((name[:9] + name[10:27]).index)"
   ]
  },
  {
   "cell_type": "code",
   "execution_count": 31,
   "metadata": {},
   "outputs": [],
   "source": [
    "for i in name :\n",
    "    full = full[full[i] != 0]\n",
    "    train = train[train[i] != 0]"
   ]
  },
  {
   "cell_type": "code",
   "execution_count": 32,
   "metadata": {},
   "outputs": [
    {
     "name": "stdout",
     "output_type": "stream",
     "text": [
      "Значений равных 100 - Series([], dtype: int64)\n",
      "\n",
      "Значений равных   0:\n",
      " primary_cleaner.input.depressant            17\n",
      "secondary_cleaner.state.floatbank3_a_air     6\n",
      "dtype: int64\n"
     ]
    }
   ],
   "source": [
    "print('Значений равных 100 -', get_name(full, 100))\n",
    "print()\n",
    "print('Значений равных   0:\\n', get_name(full, 0))"
   ]
  },
  {
   "cell_type": "markdown",
   "metadata": {},
   "source": [
    "Значений равных 100 нет.  \n",
    "Значений равных 0:\n",
    "- 17 в столбце `primary_cleaner.input.depressant`, удалять не будем, возможно в этих процессах не использовали реагент. \n",
    "- 6 в столбце `secondary_cleaner.state.floatbank3_a_air`, удалять не будем, возможно в этих процессах не подавали воздух."
   ]
  },
  {
   "cell_type": "code",
   "execution_count": 33,
   "metadata": {},
   "outputs": [
    {
     "name": "stdout",
     "output_type": "stream",
     "text": [
      "Значений равных 100 - Series([], dtype: int64)\n"
     ]
    }
   ],
   "source": [
    "print('Значений равных 100 -', get_name(full, 100))"
   ]
  },
  {
   "cell_type": "code",
   "execution_count": 34,
   "metadata": {},
   "outputs": [
    {
     "name": "stdout",
     "output_type": "stream",
     "text": [
      "Значений равных 100 - Series([], dtype: int64)\n"
     ]
    }
   ],
   "source": [
    "print('Значений равных 100 -', get_name(train, 100))"
   ]
  },
  {
   "cell_type": "markdown",
   "metadata": {},
   "source": [
    "**Вывод:**  \n",
    "- Тип столбца 'date' приведен к datetime.  \n",
    "- Данные проверены на явные дубликаты.\n",
    "- Удалены неправдоподобные значения.  \n",
    "\n",
    "Данные подготовлены."
   ]
  },
  {
   "cell_type": "markdown",
   "metadata": {},
   "source": [
    "## Анализ данных"
   ]
  },
  {
   "cell_type": "markdown",
   "metadata": {},
   "source": [
    "### Посмотрим, как меняется концентрация металлов (Au, Ag, Pb) на различных этапах очистки."
   ]
  },
  {
   "cell_type": "code",
   "execution_count": 35,
   "metadata": {},
   "outputs": [
    {
     "data": {
      "image/png": "[encoded data removed]",
      "text/plain": [
       "<Figure size 720x504 with 1 Axes>"
      ]
     },
     "metadata": {
      "needs_background": "light"
     },
     "output_type": "display_data"
    }
   ],
   "source": [
    "df = full[['rougher.input.feed_au', 'rougher.output.concentrate_au', 'primary_cleaner.output.concentrate_au','final.output.concentrate_au']]\n",
    "df.plot.hist(figsize=(10, 7), alpha=0.7, bins=50, title='Концентрация золота').set_xlabel('Концентрация')\n",
    "pass"
   ]
  },
  {
   "cell_type": "markdown",
   "metadata": {},
   "source": [
    "Из гисторгаммы распределения видно, что \n",
    "\n",
    "Концентрация золота в процессе обогащения увеличивается.  \n",
    "   - в руде концентрация 5-9 %  \n",
    "   - после флотации 18-22%  \n",
    "   - после первой промывки 32-35%, причем у гистограммы низкий пик, а сама гистограмма широкая, это свидетельствует о том, что наблюдаемые величины имеют значительный разброс при примерно одинаковом количестве.  \n",
    "   - окончательный концентрат опять имеет высокий и узкий пик, что показывает что удается добиться примерно одинаково высокой концентрации при каждом процессе обагощения.  \n",
    "Итоговое значение 45-48%.  "
   ]
  },
  {
   "cell_type": "code",
   "execution_count": 36,
   "metadata": {},
   "outputs": [
    {
     "data": {
      "image/png": "[encoded data removed]",
      "text/plain": [
       "<Figure size 720x504 with 1 Axes>"
      ]
     },
     "metadata": {
      "needs_background": "light"
     },
     "output_type": "display_data"
    }
   ],
   "source": [
    "df = full[['rougher.input.feed_ag', 'rougher.output.concentrate_ag', 'primary_cleaner.output.concentrate_ag','final.output.concentrate_ag']]\n",
    "df.plot.hist(figsize=(10, 7), alpha=0.65, bins=50, title='Концентрация серебра').set_xlabel('Концентрация')\n",
    "pass"
   ]
  },
  {
   "cell_type": "markdown",
   "metadata": {},
   "source": [
    "В процессе обогащения, концентрация серебра на этапе флотации повышается примерно с 7 до 13 %, а затем на этапах промывки уменьшается до 3-6%."
   ]
  },
  {
   "cell_type": "code",
   "execution_count": 37,
   "metadata": {},
   "outputs": [
    {
     "data": {
      "image/png": "[encoded data removed]",
      "text/plain": [
       "<Figure size 720x504 with 1 Axes>"
      ]
     },
     "metadata": {
      "needs_background": "light"
     },
     "output_type": "display_data"
    }
   ],
   "source": [
    "df = full[['rougher.input.feed_pb', 'rougher.output.concentrate_pb', 'primary_cleaner.output.concentrate_pb','final.output.concentrate_pb']]\n",
    "df.plot.hist(figsize=(10, 7), alpha=0.6, bins=50, title='Концентрация свинца').set_xlabel('Концентрация')\n",
    "pass"
   ]
  },
  {
   "cell_type": "markdown",
   "metadata": {},
   "source": [
    "Концентрация свинца увеличивается при флотации и первой промывке, во время второй промывки концентрация свинца в продукте становится более постоянным, т.е. вместо диапазона 5-15%, концентрация становится 8-11%."
   ]
  },
  {
   "cell_type": "markdown",
   "metadata": {},
   "source": [
    "### Сравним распределения размеров гранул сырья на обучающей и тестовой выборках."
   ]
  },
  {
   "cell_type": "code",
   "execution_count": 38,
   "metadata": {},
   "outputs": [
    {
     "data": {
      "image/png": "[encoded data removed]",
      "text/plain": [
       "<Figure size 504x360 with 1 Axes>"
      ]
     },
     "metadata": {
      "needs_background": "light"
     },
     "output_type": "display_data"
    }
   ],
   "source": [
    "plt.figure(figsize=(7,5))\n",
    "sns.kdeplot(data = train['rougher.input.feed_size'])\n",
    "sns.kdeplot(data = test['rougher.input.feed_size'])\n",
    "plt.xlim(20, 125)\n",
    "plt.xlabel('Размер гранул')\n",
    "plt.title('Распределение размера гранул входящей породы на обучающей и тестовой выборке');"
   ]
  },
  {
   "cell_type": "code",
   "execution_count": 39,
   "metadata": {},
   "outputs": [
    {
     "data": {
      "image/png": "[encoded data removed]",
      "text/plain": [
       "<Figure size 504x360 with 1 Axes>"
      ]
     },
     "metadata": {
      "needs_background": "light"
     },
     "output_type": "display_data"
    }
   ],
   "source": [
    "plt.figure(figsize=(7,5))\n",
    "sns.kdeplot(data = train['primary_cleaner.input.feed_size'])\n",
    "sns.kdeplot(data = test['primary_cleaner.input.feed_size'])\n",
    "plt.xlim(5, 10)\n",
    "plt.xlabel('Размер гранул')\n",
    "plt.title('Распределение размера гранул после флотации на обучающей и тестовой выборке');"
   ]
  },
  {
   "cell_type": "markdown",
   "metadata": {},
   "source": [
    "Из гисторгаммы распределения видно, что:\n",
    "   - на этап флотации попадают гранулы разного размера, примерно от 40 до 90\n",
    "   - после флотации все гранулы становятся почти одного размера, примерно 6-9  \n",
    "т.е. они уменьшаются и становятся практически одинаковыми.  \n",
    "\n",
    "Так же распределение показывает, что в обучающей и тестовой выборке размер гранул одинаковый."
   ]
  },
  {
   "cell_type": "markdown",
   "metadata": {},
   "source": [
    "### Исследуем суммарную концентрацию всех веществ на разных стадиях: в сырье, в черновом и финальном концентратах. "
   ]
  },
  {
   "cell_type": "code",
   "execution_count": 40,
   "metadata": {},
   "outputs": [],
   "source": [
    "conc_all = pd.DataFrame(full[['rougher.input.feed_au','rougher.input.feed_ag','rougher.input.feed_pb',\\\n",
    "                              'rougher.input.feed_sol']].sum(axis=1), columns=['rougher.input.feed'])"
   ]
  },
  {
   "cell_type": "code",
   "execution_count": 41,
   "metadata": {},
   "outputs": [],
   "source": [
    "conc_all['rougher.output'] = full[['rougher.output.concentrate_au','rougher.output.concentrate_ag','rougher.output.concentrate_pb',\\\n",
    "                   'rougher.output.concentrate_sol']].sum(axis=1)"
   ]
  },
  {
   "cell_type": "code",
   "execution_count": 42,
   "metadata": {},
   "outputs": [],
   "source": [
    "conc_all['primary_cleaner'] = full[['primary_cleaner.output.concentrate_au','primary_cleaner.output.concentrate_ag',\\\n",
    "                                    'primary_cleaner.output.concentrate_pb','primary_cleaner.output.concentrate_sol']].sum(axis=1)"
   ]
  },
  {
   "cell_type": "code",
   "execution_count": 43,
   "metadata": {},
   "outputs": [],
   "source": [
    "conc_all['final.output'] = full[['final.output.concentrate_au','final.output.concentrate_ag',\\\n",
    "                                    'final.output.concentrate_pb','final.output.concentrate_sol']].sum(axis=1)"
   ]
  },
  {
   "cell_type": "code",
   "execution_count": 44,
   "metadata": {},
   "outputs": [
    {
     "data": {
      "image/png": "[encoded data removed]",
      "text/plain": [
       "<Figure size 720x504 with 1 Axes>"
      ]
     },
     "metadata": {
      "needs_background": "light"
     },
     "output_type": "display_data"
    }
   ],
   "source": [
    "conc_all.plot.hist(figsize=(10, 7), alpha=0.6, bins=100, title='Распределение концентрации всех металов').set_xlabel('Концентрация')\n",
    "pass"
   ]
  },
  {
   "cell_type": "markdown",
   "metadata": {},
   "source": [
    "Из гистограммы видно, что на этапе флотации общая концентрация металлов повышается почти до максимального уровня, но имеет очень большой разброс от 45 до 85 %, затем на этапе первой промывки общая концентрация снижается, но разброс уменьшается, становится больше продукта с одинаковой концетрацией. На этапе второй промывки концентрация опять увеличивается и сильно уменьшается разброс. По сути общая концентрция металлов, становится почти одинаковой во всех образцах 70-75%."
   ]
  },
  {
   "cell_type": "markdown",
   "metadata": {},
   "source": [
    "**Вывод**  \n",
    "На различных этапах отчистки концентрация золота стабильно повышается, серебра и свенца меняется, но остается низкой.  \n",
    "Гранулы в начале процесса имеют разный размер, но после флотации становятся маленькими и практически одинаковыми.  \n",
    "Размер гранул в обучающей и тестовой выборке совпадают.  \n",
    "Общая концентрация металлов в процессе очистки повышается.  "
   ]
  },
  {
   "cell_type": "markdown",
   "metadata": {},
   "source": [
    "## Модель"
   ]
  },
  {
   "cell_type": "markdown",
   "metadata": {},
   "source": [
    "Напишем функции вычисления метрик, по которым будем оценивать модели."
   ]
  },
  {
   "cell_type": "code",
   "execution_count": 45,
   "metadata": {},
   "outputs": [],
   "source": [
    "def smape(y, ys): # Вычисляет sMAPE между предсказанием и целью\n",
    "    sm = 200*abs(y-ys)/(abs(y)+abs(ys))\n",
    "#    sm = sm.fillna(value=0)\n",
    "    sm = sum(sm)/len(sm)\n",
    "    return sm\n",
    "\n",
    "#def sMape_scorer(estimator, X, y): # устанавливает оценщик модели\n",
    "#    return smape(estimator.predict(X), y)\n",
    "\n",
    "def smape_all(r, f): # Вычисляет итоговый sMAPE для выбора модели.\n",
    "    return abs(0.25 * r + 0.75 * f)\n",
    "\n",
    "def rating(model):  # Вычисляет итоговый sMAPE модели.\n",
    "    r = cross_val_score(model, features_rougher, target_rougher, cv=5, scoring=make_scorer(smape, greater_is_better=False), n_jobs=-1).mean()\n",
    "    f = cross_val_score(model, features_final, target_final, cv=5, scoring=make_scorer(smape, greater_is_better=False), n_jobs=-1).mean()\n",
    "    return smape_all(r, f)"
   ]
  },
  {
   "cell_type": "markdown",
   "metadata": {},
   "source": [
    "Построим модель.  \n",
    "Определим признаки используемые для обучения."
   ]
  },
  {
   "cell_type": "code",
   "execution_count": 46,
   "metadata": {},
   "outputs": [],
   "source": [
    "name = list(test.columns)[1:]\n",
    "features_rougher = train[name[12:34]]\n",
    "features_final = train[name]\n",
    "target_rougher = train['rougher.output.recovery']\n",
    "target_final = train['final.output.recovery']\n",
    "test_rougher = test[name[12:34]]\n",
    "test_final = test[name]"
   ]
  },
  {
   "cell_type": "markdown",
   "metadata": {},
   "source": [
    "Масштабируем данные"
   ]
  },
  {
   "cell_type": "code",
   "execution_count": 47,
   "metadata": {},
   "outputs": [],
   "source": [
    "scaler = StandardScaler()\n",
    "scaler.fit(features_rougher)\n",
    "features_rougher[:] = scaler.transform(features_rougher)\n",
    "test_rougher[:] = scaler.transform(test_rougher)\n",
    "scaler.fit(features_final)\n",
    "features_final[:] = scaler.transform(features_final)\n",
    "test_final[:] = scaler.transform(test_final)"
   ]
  },
  {
   "cell_type": "markdown",
   "metadata": {},
   "source": [
    "Обучим модели"
   ]
  },
  {
   "cell_type": "code",
   "execution_count": 48,
   "metadata": {},
   "outputs": [],
   "source": [
    "model = LinearRegression()"
   ]
  },
  {
   "cell_type": "code",
   "execution_count": 49,
   "metadata": {},
   "outputs": [
    {
     "data": {
      "text/plain": [
       "9.928183416243565"
      ]
     },
     "execution_count": 49,
     "metadata": {},
     "output_type": "execute_result"
    }
   ],
   "source": [
    "rating(model)"
   ]
  },
  {
   "cell_type": "code",
   "execution_count": 50,
   "metadata": {},
   "outputs": [],
   "source": [
    "model_DT = DecisionTreeRegressor(random_state=54321, min_samples_leaf=1, max_depth=2)"
   ]
  },
  {
   "cell_type": "code",
   "execution_count": 51,
   "metadata": {},
   "outputs": [
    {
     "name": "stdout",
     "output_type": "stream",
     "text": [
      "CPU times: user 944 ms, sys: 39.4 ms, total: 983 ms\n",
      "Wall time: 1.02 s\n"
     ]
    },
    {
     "data": {
      "text/plain": [
       "8.721977953509557"
      ]
     },
     "execution_count": 51,
     "metadata": {},
     "output_type": "execute_result"
    }
   ],
   "source": [
    "%%time\n",
    "\n",
    "rating(model_DT)"
   ]
  },
  {
   "cell_type": "markdown",
   "metadata": {},
   "source": [
    "Переберем гиперпараметры модели."
   ]
  },
  {
   "cell_type": "code",
   "execution_count": 52,
   "metadata": {},
   "outputs": [
    {
     "name": "stderr",
     "output_type": "stream",
     "text": [
      "  0%|          | 0/5 [00:00<?, ?it/s]"
     ]
    },
    {
     "name": "stdout",
     "output_type": "stream",
     "text": [
      "14.641348097781261 DecisionTreeRegressor(random_state=54321)\n",
      "8.721977953509557 DecisionTreeRegressor(max_depth=2, random_state=54321)\n"
     ]
    },
    {
     "name": "stderr",
     "output_type": "stream",
     "text": [
      "100%|██████████| 5/5 [02:13<00:00, 26.68s/it]"
     ]
    },
    {
     "name": "stdout",
     "output_type": "stream",
     "text": [
      "CPU times: user 2min 11s, sys: 265 ms, total: 2min 12s\n",
      "Wall time: 2min 13s\n"
     ]
    },
    {
     "name": "stderr",
     "output_type": "stream",
     "text": [
      "\n"
     ]
    }
   ],
   "source": [
    "%%time\n",
    "\n",
    "r_best = 10000\n",
    "model_best = 0\n",
    "for leaf in tqdm(range(1, 100, 20)):\n",
    "    for depth in [None] + [i for i in range(2, 11)]:\n",
    "        model_DT = DecisionTreeRegressor(random_state=54321, min_samples_leaf=leaf, max_depth=depth)\n",
    "        r = rating(model_DT)\n",
    "        if abs(r_best) > abs(r) :\n",
    "            r_best = r\n",
    "            model_best = model_DT\n",
    "            print(r_best, model_best)"
   ]
  },
  {
   "cell_type": "code",
   "execution_count": 53,
   "metadata": {},
   "outputs": [
    {
     "data": {
      "text/plain": [
       "8.721977953509557"
      ]
     },
     "execution_count": 53,
     "metadata": {},
     "output_type": "execute_result"
    }
   ],
   "source": [
    "rating(model_best)"
   ]
  },
  {
   "cell_type": "markdown",
   "metadata": {},
   "source": [
    "По итогам кросс-валидации лучшие результаты из рассмотренных моделей показала модель - DecisionTreeRegressor (регрессор дерева решений) с подобранными гиперпараметрами."
   ]
  },
  {
   "cell_type": "markdown",
   "metadata": {},
   "source": [
    "Проверим лучшую модель на тестовой выборке."
   ]
  },
  {
   "cell_type": "markdown",
   "metadata": {},
   "source": [
    "Для этого подготовим тестовые данные полученные из полных данных, датафрейм - `test_with_answers`. Результаты кросс-валидации и расчет метрик мы проводили на очищенных от 0 и 100 данных. Удалим эти строки из тестовых данных. "
   ]
  },
  {
   "cell_type": "code",
   "execution_count": 54,
   "metadata": {},
   "outputs": [],
   "source": [
    "twa = test_with_answers.reset_index(drop=True)"
   ]
  },
  {
   "cell_type": "code",
   "execution_count": 55,
   "metadata": {},
   "outputs": [
    {
     "name": "stdout",
     "output_type": "stream",
     "text": [
      "В тестовой \"выборке с ответами\" нулей - 1563, \"100\" - 16 \n",
      "В тестовой \"выборке с ответами\" нулей - 6, \"100\" - 0 \n"
     ]
    }
   ],
   "source": [
    "print(f'В тестовой \"выборке с ответами\" нулей - {(twa == 0).sum().sum()}, \"100\" - {(twa == 100).sum().sum()} ')\n",
    "for i in (get_name(twa, 0)[:-1]).index :\n",
    "    twa = twa[twa[i] != 0]\n",
    "print(f'В тестовой \"выборке с ответами\" нулей - {(twa == 0).sum().sum()}, \"100\" - {(twa == 100).sum().sum()} ')\n"
   ]
  },
  {
   "cell_type": "markdown",
   "metadata": {},
   "source": [
    "Оставшиеся нули находятся НЕ в столбцах с концентрацией или эффективностью. Оставляем.  \n",
    "Рассчитаем sMAPE на тестовой выборке."
   ]
  },
  {
   "cell_type": "code",
   "execution_count": 56,
   "metadata": {},
   "outputs": [],
   "source": [
    "def rating_test(model): # расчет метрики sMAPE на тестовой выборке\n",
    "    model.fit(features_rougher, target_rougher)\n",
    "    predict_model = model.predict(test_rougher.iloc[twa.index])\n",
    "    r = smape(twa['rougher.output.recovery'], predict_model)\n",
    "    model.fit(features_final, target_final)\n",
    "    predict_model = model.predict(test_final.iloc[twa.index])\n",
    "    f = smape(twa['final.output.recovery'], predict_model)\n",
    "    return smape_all(r, f)"
   ]
  },
  {
   "cell_type": "code",
   "execution_count": 57,
   "metadata": {},
   "outputs": [
    {
     "data": {
      "text/plain": [
       "7.151468625763119"
      ]
     },
     "execution_count": 57,
     "metadata": {},
     "output_type": "execute_result"
    }
   ],
   "source": [
    "rating_test(model_best)"
   ]
  },
  {
   "cell_type": "markdown",
   "metadata": {},
   "source": [
    "Значение sMAPE на тестовой выборке равно 18.67\n",
    "Проверим нашу модель на вменяемость."
   ]
  },
  {
   "cell_type": "markdown",
   "metadata": {},
   "source": [
    "Создадим константную модель возвращаюшую среднее значение и посчитаем у нее метрику sMAPE."
   ]
  },
  {
   "cell_type": "code",
   "execution_count": 58,
   "metadata": {},
   "outputs": [
    {
     "data": {
      "text/plain": [
       "7.801131324594932"
      ]
     },
     "execution_count": 58,
     "metadata": {},
     "output_type": "execute_result"
    }
   ],
   "source": [
    "dummy = DummyRegressor(strategy='mean')\n",
    "rating_test(dummy)"
   ]
  },
  {
   "cell_type": "markdown",
   "metadata": {},
   "source": [
    "sMAPE лучшей модели ближе к нулю, чем sMAPE константной модели. Значит наша модель адекватна."
   ]
  },
  {
   "cell_type": "markdown",
   "metadata": {},
   "source": [
    "**Вывод**  \n",
    "Обучил несколько моделей и сделал предсказание на данным.  \n",
    "Предсказывал 2 целевых признака. Для предсказания использовал разные признаки. На этапе флотации еще не известны данные, которые будут на промывках, поэтому для предсказания эффективности флотации использовал 22 признака из 52. Для предсказания эффективности всего процесса использовал все признаки.  \n",
    "Данные были разного размера, поэтому перед использованием масштабировал их.  \n",
    "Лучший результат из рассмотренных показала модель DecisionTreeRegressor(max_depth=2, random_state=54321).  \n",
    "Итоговый sMAPE на тестовой выборке равен `7.15`.  "
   ]
  }
 ],
 "metadata": {
  "ExecuteTimeLog": [
   {
    "duration": 53,
    "start_time": "2023-03-22T22:36:30.559Z"
   },
   {
    "duration": 392,
    "start_time": "2023-03-22T22:36:33.670Z"
   },
   {
    "duration": 467,
    "start_time": "2023-03-22T22:36:35.932Z"
   },
   {
    "duration": 39,
    "start_time": "2023-03-22T22:36:43.718Z"
   },
   {
    "duration": 20,
    "start_time": "2023-03-22T22:37:42.510Z"
   },
   {
    "duration": 2707,
    "start_time": "2023-03-22T22:39:19.452Z"
   },
   {
    "duration": 39,
    "start_time": "2023-03-22T22:39:27.474Z"
   },
   {
    "duration": 38,
    "start_time": "2023-03-22T22:39:35.917Z"
   },
   {
    "duration": 14,
    "start_time": "2023-03-22T22:39:47.381Z"
   },
   {
    "duration": 20,
    "start_time": "2023-03-22T22:40:07.917Z"
   },
   {
    "duration": 26,
    "start_time": "2023-03-22T22:41:15.242Z"
   },
   {
    "duration": 7,
    "start_time": "2023-03-22T22:42:42.876Z"
   },
   {
    "duration": 6,
    "start_time": "2023-03-22T22:43:12.345Z"
   },
   {
    "duration": 31,
    "start_time": "2023-03-22T22:49:09.806Z"
   },
   {
    "duration": 3,
    "start_time": "2023-03-22T22:49:15.606Z"
   },
   {
    "duration": 5,
    "start_time": "2023-03-22T22:49:19.327Z"
   },
   {
    "duration": 78,
    "start_time": "2023-03-22T22:49:33.110Z"
   },
   {
    "duration": 71,
    "start_time": "2023-03-22T22:49:42.788Z"
   },
   {
    "duration": 4,
    "start_time": "2023-03-22T22:49:55.261Z"
   },
   {
    "duration": 5,
    "start_time": "2023-03-22T22:49:59.437Z"
   },
   {
    "duration": 28,
    "start_time": "2023-03-22T22:50:40.142Z"
   },
   {
    "duration": 4,
    "start_time": "2023-03-22T22:51:08.629Z"
   },
   {
    "duration": 4,
    "start_time": "2023-03-22T22:51:13.389Z"
   },
   {
    "duration": 5,
    "start_time": "2023-03-22T22:51:17.066Z"
   },
   {
    "duration": 5,
    "start_time": "2023-03-22T22:51:20.363Z"
   },
   {
    "duration": 6,
    "start_time": "2023-03-22T22:51:25.643Z"
   },
   {
    "duration": 7,
    "start_time": "2023-03-22T22:51:36.705Z"
   },
   {
    "duration": 10,
    "start_time": "2023-03-22T22:52:48.965Z"
   },
   {
    "duration": 6,
    "start_time": "2023-03-22T22:54:23.626Z"
   },
   {
    "duration": 4,
    "start_time": "2023-03-22T22:54:58.569Z"
   },
   {
    "duration": 6,
    "start_time": "2023-03-22T22:55:00.945Z"
   },
   {
    "duration": 6,
    "start_time": "2023-03-22T22:55:28.156Z"
   },
   {
    "duration": 4,
    "start_time": "2023-03-22T22:55:33.857Z"
   },
   {
    "duration": 6,
    "start_time": "2023-03-22T22:55:36.736Z"
   },
   {
    "duration": 4,
    "start_time": "2023-03-22T22:56:14.608Z"
   },
   {
    "duration": 4,
    "start_time": "2023-03-22T22:56:48.169Z"
   },
   {
    "duration": 7,
    "start_time": "2023-03-22T22:56:50.531Z"
   },
   {
    "duration": 1217,
    "start_time": "2023-03-22T23:03:36.508Z"
   },
   {
    "duration": 6,
    "start_time": "2023-03-22T23:03:41.740Z"
   },
   {
    "duration": 80,
    "start_time": "2023-03-23T07:06:07.690Z"
   },
   {
    "duration": 485,
    "start_time": "2023-03-23T07:06:13.342Z"
   },
   {
    "duration": 3068,
    "start_time": "2023-03-23T07:06:13.829Z"
   },
   {
    "duration": 15,
    "start_time": "2023-03-23T07:06:16.899Z"
   },
   {
    "duration": 24,
    "start_time": "2023-03-23T07:06:19.171Z"
   },
   {
    "duration": 14,
    "start_time": "2023-03-23T07:07:45.253Z"
   },
   {
    "duration": 2,
    "start_time": "2023-03-23T11:50:52.680Z"
   },
   {
    "duration": 756,
    "start_time": "2023-03-23T11:50:52.684Z"
   },
   {
    "duration": 5,
    "start_time": "2023-03-23T11:50:53.442Z"
   },
   {
    "duration": 17,
    "start_time": "2023-03-23T11:50:53.448Z"
   },
   {
    "duration": 3,
    "start_time": "2023-03-23T11:50:53.467Z"
   },
   {
    "duration": 6,
    "start_time": "2023-03-23T11:50:53.471Z"
   },
   {
    "duration": 35,
    "start_time": "2023-03-23T11:50:53.478Z"
   },
   {
    "duration": 28,
    "start_time": "2023-03-23T11:53:55.077Z"
   },
   {
    "duration": 25,
    "start_time": "2023-03-23T11:53:58.851Z"
   },
   {
    "duration": 29,
    "start_time": "2023-03-23T11:54:08.812Z"
   },
   {
    "duration": 16,
    "start_time": "2023-03-23T11:54:24.461Z"
   },
   {
    "duration": 33,
    "start_time": "2023-03-23T11:54:36.005Z"
   },
   {
    "duration": 24,
    "start_time": "2023-03-23T11:55:09.907Z"
   },
   {
    "duration": 10,
    "start_time": "2023-03-23T11:55:21.996Z"
   },
   {
    "duration": 5,
    "start_time": "2023-03-23T11:56:26.940Z"
   },
   {
    "duration": 48,
    "start_time": "2023-03-23T11:56:35.097Z"
   },
   {
    "duration": 39,
    "start_time": "2023-03-23T11:56:38.859Z"
   },
   {
    "duration": 46,
    "start_time": "2023-03-23T12:17:17.261Z"
   },
   {
    "duration": 3,
    "start_time": "2023-03-23T12:17:35.077Z"
   },
   {
    "duration": 4,
    "start_time": "2023-03-23T12:17:41.779Z"
   },
   {
    "duration": 60,
    "start_time": "2023-03-23T12:17:57.281Z"
   },
   {
    "duration": 52,
    "start_time": "2023-03-23T12:18:05.609Z"
   },
   {
    "duration": 13,
    "start_time": "2023-03-23T12:19:10.575Z"
   },
   {
    "duration": 5,
    "start_time": "2023-03-23T12:19:36.248Z"
   },
   {
    "duration": 6,
    "start_time": "2023-03-23T12:19:42.864Z"
   },
   {
    "duration": 101,
    "start_time": "2023-03-23T12:20:12.185Z"
   },
   {
    "duration": 5,
    "start_time": "2023-03-23T12:20:24.758Z"
   },
   {
    "duration": 17,
    "start_time": "2023-03-23T12:20:35.320Z"
   },
   {
    "duration": 87,
    "start_time": "2023-03-23T12:20:54.833Z"
   },
   {
    "duration": 10,
    "start_time": "2023-03-23T12:21:25.401Z"
   },
   {
    "duration": 58,
    "start_time": "2023-03-23T12:21:38.495Z"
   },
   {
    "duration": 5,
    "start_time": "2023-03-23T12:22:01.254Z"
   },
   {
    "duration": 5,
    "start_time": "2023-03-23T12:22:11.572Z"
   },
   {
    "duration": 19,
    "start_time": "2023-03-23T12:23:19.191Z"
   },
   {
    "duration": 65,
    "start_time": "2023-03-23T12:23:35.835Z"
   },
   {
    "duration": 57,
    "start_time": "2023-03-23T12:24:09.652Z"
   },
   {
    "duration": 61,
    "start_time": "2023-03-23T12:24:44.802Z"
   },
   {
    "duration": 41,
    "start_time": "2023-03-23T12:24:54.174Z"
   },
   {
    "duration": 58,
    "start_time": "2023-03-23T12:25:36.347Z"
   },
   {
    "duration": 28,
    "start_time": "2023-03-23T12:26:00.834Z"
   },
   {
    "duration": 22,
    "start_time": "2023-03-23T12:44:30.066Z"
   },
   {
    "duration": 58,
    "start_time": "2023-03-23T12:45:07.713Z"
   },
   {
    "duration": 87,
    "start_time": "2023-03-23T12:49:09.982Z"
   },
   {
    "duration": 96,
    "start_time": "2023-03-23T12:49:30.948Z"
   },
   {
    "duration": 66,
    "start_time": "2023-03-23T12:50:03.702Z"
   },
   {
    "duration": 137,
    "start_time": "2023-03-23T12:50:26.810Z"
   },
   {
    "duration": 76,
    "start_time": "2023-03-23T12:51:53.975Z"
   },
   {
    "duration": 81,
    "start_time": "2023-03-23T12:52:14.882Z"
   },
   {
    "duration": 15,
    "start_time": "2023-03-23T12:54:05.173Z"
   },
   {
    "duration": 18,
    "start_time": "2023-03-23T12:54:15.042Z"
   },
   {
    "duration": 8,
    "start_time": "2023-03-23T13:00:45.573Z"
   },
   {
    "duration": 83,
    "start_time": "2023-03-23T13:00:50.499Z"
   },
   {
    "duration": 16,
    "start_time": "2023-03-23T13:01:06.494Z"
   },
   {
    "duration": 4,
    "start_time": "2023-03-23T13:01:40.846Z"
   },
   {
    "duration": 17,
    "start_time": "2023-03-23T13:01:48.850Z"
   },
   {
    "duration": 3,
    "start_time": "2023-03-23T13:02:41.720Z"
   },
   {
    "duration": 10,
    "start_time": "2023-03-23T13:02:52.859Z"
   },
   {
    "duration": 6,
    "start_time": "2023-03-23T13:03:05.043Z"
   },
   {
    "duration": 13,
    "start_time": "2023-03-23T13:03:10.840Z"
   },
   {
    "duration": 28,
    "start_time": "2023-03-23T13:03:18.019Z"
   },
   {
    "duration": 4,
    "start_time": "2023-03-23T13:03:45.585Z"
   },
   {
    "duration": 6,
    "start_time": "2023-03-23T13:04:20.240Z"
   },
   {
    "duration": 10,
    "start_time": "2023-03-23T13:05:18.107Z"
   },
   {
    "duration": 13,
    "start_time": "2023-03-23T13:05:20.622Z"
   },
   {
    "duration": 69,
    "start_time": "2023-03-23T13:05:52.912Z"
   },
   {
    "duration": 20,
    "start_time": "2023-03-23T13:06:04.498Z"
   },
   {
    "duration": 16,
    "start_time": "2023-03-23T13:06:09.899Z"
   },
   {
    "duration": 16,
    "start_time": "2023-03-23T13:06:19.378Z"
   },
   {
    "duration": 18,
    "start_time": "2023-03-23T13:06:39.273Z"
   },
   {
    "duration": 19,
    "start_time": "2023-03-23T13:06:44.540Z"
   },
   {
    "duration": 117,
    "start_time": "2023-03-23T13:07:28.474Z"
   },
   {
    "duration": 7,
    "start_time": "2023-03-23T13:15:54.491Z"
   },
   {
    "duration": 24,
    "start_time": "2023-03-23T13:16:08.321Z"
   },
   {
    "duration": 103,
    "start_time": "2023-03-23T13:16:24.050Z"
   },
   {
    "duration": 16,
    "start_time": "2023-03-23T13:16:29.568Z"
   },
   {
    "duration": 10,
    "start_time": "2023-03-23T13:16:35.353Z"
   },
   {
    "duration": 23,
    "start_time": "2023-03-23T13:18:24.664Z"
   },
   {
    "duration": 12,
    "start_time": "2023-03-23T13:18:38.674Z"
   },
   {
    "duration": 3,
    "start_time": "2023-03-23T13:18:59.776Z"
   },
   {
    "duration": 869,
    "start_time": "2023-03-23T13:18:59.781Z"
   },
   {
    "duration": 20,
    "start_time": "2023-03-23T13:19:00.654Z"
   },
   {
    "duration": 30,
    "start_time": "2023-03-23T13:19:00.676Z"
   },
   {
    "duration": 143,
    "start_time": "2023-03-23T13:19:00.708Z"
   },
   {
    "duration": 20,
    "start_time": "2023-03-23T13:19:09.665Z"
   },
   {
    "duration": 10,
    "start_time": "2023-03-23T13:21:04.599Z"
   },
   {
    "duration": 10,
    "start_time": "2023-03-23T13:21:08.312Z"
   },
   {
    "duration": 39,
    "start_time": "2023-03-23T13:21:14.680Z"
   },
   {
    "duration": 22,
    "start_time": "2023-03-23T13:22:48.186Z"
   },
   {
    "duration": 3,
    "start_time": "2023-03-23T13:22:53.317Z"
   },
   {
    "duration": 1009,
    "start_time": "2023-03-23T13:22:53.322Z"
   },
   {
    "duration": 20,
    "start_time": "2023-03-23T13:22:54.333Z"
   },
   {
    "duration": 54,
    "start_time": "2023-03-23T13:22:54.355Z"
   },
   {
    "duration": 64,
    "start_time": "2023-03-23T13:22:54.411Z"
   },
   {
    "duration": 31,
    "start_time": "2023-03-23T13:22:58.265Z"
   },
   {
    "duration": 131,
    "start_time": "2023-03-23T13:23:20.507Z"
   },
   {
    "duration": 19,
    "start_time": "2023-03-23T13:23:26.299Z"
   },
   {
    "duration": 3,
    "start_time": "2023-03-23T13:23:42.971Z"
   },
   {
    "duration": 849,
    "start_time": "2023-03-23T13:23:42.976Z"
   },
   {
    "duration": 18,
    "start_time": "2023-03-23T13:23:43.826Z"
   },
   {
    "duration": 52,
    "start_time": "2023-03-23T13:23:43.847Z"
   },
   {
    "duration": 76,
    "start_time": "2023-03-23T13:23:43.901Z"
   },
   {
    "duration": 30,
    "start_time": "2023-03-23T13:23:46.461Z"
   },
   {
    "duration": 7,
    "start_time": "2023-03-23T13:40:07.100Z"
   },
   {
    "duration": 5,
    "start_time": "2023-03-23T13:40:09.995Z"
   },
   {
    "duration": 6,
    "start_time": "2023-03-23T13:40:12.185Z"
   },
   {
    "duration": 1786,
    "start_time": "2023-03-23T14:06:03.007Z"
   },
   {
    "duration": 1843,
    "start_time": "2023-03-23T14:06:20.949Z"
   },
   {
    "duration": 2295,
    "start_time": "2023-03-23T14:06:35.170Z"
   },
   {
    "duration": 11,
    "start_time": "2023-03-23T14:06:57.747Z"
   },
   {
    "duration": 1714,
    "start_time": "2023-03-23T14:07:11.649Z"
   },
   {
    "duration": 2,
    "start_time": "2023-03-23T14:07:23.813Z"
   },
   {
    "duration": 22,
    "start_time": "2023-03-23T14:07:42.729Z"
   },
   {
    "duration": 1998,
    "start_time": "2023-03-23T14:07:50.057Z"
   },
   {
    "duration": 3,
    "start_time": "2023-03-23T14:07:57.852Z"
   },
   {
    "duration": 5,
    "start_time": "2023-03-23T14:08:11.860Z"
   },
   {
    "duration": 4,
    "start_time": "2023-03-23T14:10:35.552Z"
   },
   {
    "duration": 8,
    "start_time": "2023-03-23T14:10:37.956Z"
   },
   {
    "duration": 3,
    "start_time": "2023-03-23T14:14:22.980Z"
   },
   {
    "duration": 20,
    "start_time": "2023-03-23T14:27:06.144Z"
   },
   {
    "duration": 15,
    "start_time": "2023-03-23T14:27:43.162Z"
   },
   {
    "duration": 4,
    "start_time": "2023-03-23T14:28:10.852Z"
   },
   {
    "duration": 5,
    "start_time": "2023-03-23T14:28:13.183Z"
   },
   {
    "duration": 15,
    "start_time": "2023-03-23T14:28:15.695Z"
   },
   {
    "duration": 5,
    "start_time": "2023-03-23T14:43:34.705Z"
   },
   {
    "duration": 12,
    "start_time": "2023-03-23T14:43:37.628Z"
   },
   {
    "duration": 841,
    "start_time": "2023-03-23T14:53:18.202Z"
   },
   {
    "duration": 58,
    "start_time": "2023-03-23T14:54:03.396Z"
   },
   {
    "duration": 5,
    "start_time": "2023-03-23T14:54:32.105Z"
   },
   {
    "duration": 6,
    "start_time": "2023-03-23T14:55:16.910Z"
   },
   {
    "duration": 5,
    "start_time": "2023-03-23T14:56:39.934Z"
   },
   {
    "duration": 6,
    "start_time": "2023-03-23T14:56:48.667Z"
   },
   {
    "duration": 4,
    "start_time": "2023-03-23T15:04:23.928Z"
   },
   {
    "duration": 19,
    "start_time": "2023-03-23T15:04:42.416Z"
   },
   {
    "duration": 42,
    "start_time": "2023-03-23T15:04:47.407Z"
   },
   {
    "duration": 6,
    "start_time": "2023-03-23T15:04:54.747Z"
   },
   {
    "duration": 22,
    "start_time": "2023-03-23T15:05:04.699Z"
   },
   {
    "duration": 7,
    "start_time": "2023-03-23T15:05:10.260Z"
   },
   {
    "duration": 18,
    "start_time": "2023-03-23T15:05:31.338Z"
   },
   {
    "duration": 5,
    "start_time": "2023-03-23T15:13:36.664Z"
   },
   {
    "duration": 33,
    "start_time": "2023-03-23T15:14:04.271Z"
   },
   {
    "duration": 10,
    "start_time": "2023-03-23T15:14:31.399Z"
   },
   {
    "duration": 100,
    "start_time": "2023-03-23T15:32:11.790Z"
   },
   {
    "duration": 96,
    "start_time": "2023-03-23T15:32:24.055Z"
   },
   {
    "duration": 76,
    "start_time": "2023-03-23T15:32:46.826Z"
   },
   {
    "duration": 60,
    "start_time": "2023-03-23T15:33:00.410Z"
   },
   {
    "duration": 80,
    "start_time": "2023-03-23T15:33:12.414Z"
   },
   {
    "duration": 8,
    "start_time": "2023-03-23T15:33:23.423Z"
   },
   {
    "duration": 8,
    "start_time": "2023-03-23T15:33:34.320Z"
   },
   {
    "duration": 22,
    "start_time": "2023-03-23T15:33:55.719Z"
   },
   {
    "duration": 11,
    "start_time": "2023-03-23T15:34:05.138Z"
   },
   {
    "duration": 108,
    "start_time": "2023-03-23T15:34:22.090Z"
   },
   {
    "duration": 33,
    "start_time": "2023-03-23T15:34:37.395Z"
   },
   {
    "duration": 617,
    "start_time": "2023-03-23T15:34:45.052Z"
   },
   {
    "duration": 12,
    "start_time": "2023-03-23T15:34:59.331Z"
   },
   {
    "duration": 44,
    "start_time": "2023-03-23T15:35:15.305Z"
   },
   {
    "duration": 37,
    "start_time": "2023-03-23T15:35:29.201Z"
   },
   {
    "duration": 6,
    "start_time": "2023-03-23T15:35:39.138Z"
   },
   {
    "duration": 38,
    "start_time": "2023-03-23T15:35:51.058Z"
   },
   {
    "duration": 1962,
    "start_time": "2023-03-23T15:36:35.826Z"
   },
   {
    "duration": 23,
    "start_time": "2023-03-23T15:45:21.370Z"
   },
   {
    "duration": 9,
    "start_time": "2023-03-23T15:45:24.718Z"
   },
   {
    "duration": 12,
    "start_time": "2023-03-23T15:45:39.915Z"
   },
   {
    "duration": 18,
    "start_time": "2023-03-23T15:45:55.729Z"
   },
   {
    "duration": 11,
    "start_time": "2023-03-23T15:45:58.222Z"
   },
   {
    "duration": 10,
    "start_time": "2023-03-23T15:46:01.560Z"
   },
   {
    "duration": 19,
    "start_time": "2023-03-23T15:46:08.872Z"
   },
   {
    "duration": 10,
    "start_time": "2023-03-23T15:46:29.969Z"
   },
   {
    "duration": 5,
    "start_time": "2023-03-23T15:47:01.387Z"
   },
   {
    "duration": 10,
    "start_time": "2023-03-23T15:47:16.555Z"
   },
   {
    "duration": 13,
    "start_time": "2023-03-23T15:47:22.799Z"
   },
   {
    "duration": 5,
    "start_time": "2023-03-23T15:47:32.627Z"
   },
   {
    "duration": 63,
    "start_time": "2023-03-23T15:47:47.553Z"
   },
   {
    "duration": 15,
    "start_time": "2023-03-23T15:47:53.534Z"
   },
   {
    "duration": 5,
    "start_time": "2023-03-23T15:48:17.961Z"
   },
   {
    "duration": 4,
    "start_time": "2023-03-23T15:48:24.943Z"
   },
   {
    "duration": 21,
    "start_time": "2023-03-23T15:49:12.732Z"
   },
   {
    "duration": 24,
    "start_time": "2023-03-23T15:49:25.473Z"
   },
   {
    "duration": 8,
    "start_time": "2023-03-23T15:49:59.730Z"
   },
   {
    "duration": 5,
    "start_time": "2023-03-23T15:50:08.050Z"
   },
   {
    "duration": 11,
    "start_time": "2023-03-23T15:50:17.870Z"
   },
   {
    "duration": 6,
    "start_time": "2023-03-23T15:50:28.160Z"
   },
   {
    "duration": 6,
    "start_time": "2023-03-23T15:50:45.151Z"
   },
   {
    "duration": 83,
    "start_time": "2023-03-23T15:52:13.757Z"
   },
   {
    "duration": 12,
    "start_time": "2023-03-23T15:52:20.370Z"
   },
   {
    "duration": 10,
    "start_time": "2023-03-23T15:52:39.054Z"
   },
   {
    "duration": 11,
    "start_time": "2023-03-23T16:06:01.459Z"
   },
   {
    "duration": 160,
    "start_time": "2023-03-23T16:06:36.612Z"
   },
   {
    "duration": 127,
    "start_time": "2023-03-23T16:06:45.606Z"
   },
   {
    "duration": 5,
    "start_time": "2023-03-23T16:07:00.603Z"
   },
   {
    "duration": 5,
    "start_time": "2023-03-23T16:07:10.771Z"
   },
   {
    "duration": 126,
    "start_time": "2023-03-23T16:07:33.150Z"
   },
   {
    "duration": 68,
    "start_time": "2023-03-23T16:08:18.060Z"
   },
   {
    "duration": 874,
    "start_time": "2023-03-23T16:08:26.947Z"
   },
   {
    "duration": 58,
    "start_time": "2023-03-23T16:08:47.315Z"
   },
   {
    "duration": 6,
    "start_time": "2023-03-23T16:09:43.800Z"
   },
   {
    "duration": 11,
    "start_time": "2023-03-23T16:10:08.803Z"
   },
   {
    "duration": 11,
    "start_time": "2023-03-23T16:10:23.210Z"
   },
   {
    "duration": 72,
    "start_time": "2023-03-23T16:10:33.000Z"
   },
   {
    "duration": 70,
    "start_time": "2023-03-23T16:11:12.371Z"
   },
   {
    "duration": 50,
    "start_time": "2023-03-23T16:12:24.601Z"
   },
   {
    "duration": 7,
    "start_time": "2023-03-23T16:14:29.202Z"
   },
   {
    "duration": 62,
    "start_time": "2023-03-23T16:14:38.002Z"
   },
   {
    "duration": 216,
    "start_time": "2023-03-23T16:14:54.934Z"
   },
   {
    "duration": 12,
    "start_time": "2023-03-23T16:17:00.700Z"
   },
   {
    "duration": 106,
    "start_time": "2023-03-23T16:17:11.896Z"
   },
   {
    "duration": 68,
    "start_time": "2023-03-23T16:17:34.003Z"
   },
   {
    "duration": 18,
    "start_time": "2023-03-23T16:17:47.122Z"
   },
   {
    "duration": 9,
    "start_time": "2023-03-23T16:18:07.264Z"
   },
   {
    "duration": 11,
    "start_time": "2023-03-23T16:18:20.264Z"
   },
   {
    "duration": 6,
    "start_time": "2023-03-23T16:20:50.699Z"
   },
   {
    "duration": 6,
    "start_time": "2023-03-23T16:21:05.573Z"
   },
   {
    "duration": 5,
    "start_time": "2023-03-23T16:21:22.295Z"
   },
   {
    "duration": 4,
    "start_time": "2023-03-23T16:21:36.629Z"
   },
   {
    "duration": 7,
    "start_time": "2023-03-23T16:21:40.721Z"
   },
   {
    "duration": 5,
    "start_time": "2023-03-23T16:21:48.649Z"
   },
   {
    "duration": 5,
    "start_time": "2023-03-23T16:21:54.561Z"
   },
   {
    "duration": 52,
    "start_time": "2023-03-23T16:22:28.321Z"
   },
   {
    "duration": 71,
    "start_time": "2023-03-23T16:22:49.227Z"
   },
   {
    "duration": 1566,
    "start_time": "2023-03-23T16:23:03.722Z"
   },
   {
    "duration": 17,
    "start_time": "2023-03-23T16:23:15.048Z"
   },
   {
    "duration": 357,
    "start_time": "2023-03-23T16:24:42.493Z"
   },
   {
    "duration": 9,
    "start_time": "2023-03-23T16:25:10.025Z"
   },
   {
    "duration": 7,
    "start_time": "2023-03-23T16:27:22.218Z"
   },
   {
    "duration": 4838,
    "start_time": "2023-03-23T16:31:00.809Z"
   },
   {
    "duration": 173,
    "start_time": "2023-03-23T16:32:04.498Z"
   },
   {
    "duration": 10,
    "start_time": "2023-03-23T16:32:52.567Z"
   },
   {
    "duration": 9,
    "start_time": "2023-03-23T16:33:39.243Z"
   },
   {
    "duration": 31,
    "start_time": "2023-03-23T16:34:11.565Z"
   },
   {
    "duration": 26,
    "start_time": "2023-03-23T16:34:48.003Z"
   },
   {
    "duration": 26,
    "start_time": "2023-03-23T16:34:51.105Z"
   },
   {
    "duration": 208,
    "start_time": "2023-03-23T16:35:18.292Z"
   },
   {
    "duration": 275,
    "start_time": "2023-03-23T16:35:43.995Z"
   },
   {
    "duration": 4479,
    "start_time": "2023-03-23T16:36:29.657Z"
   },
   {
    "duration": 6357,
    "start_time": "2023-03-23T16:37:16.693Z"
   },
   {
    "duration": 64,
    "start_time": "2023-03-23T16:37:56.649Z"
   },
   {
    "duration": 75,
    "start_time": "2023-03-23T16:38:05.865Z"
   },
   {
    "duration": 10,
    "start_time": "2023-03-23T16:38:25.808Z"
   },
   {
    "duration": 23,
    "start_time": "2023-03-23T16:39:06.623Z"
   },
   {
    "duration": 69,
    "start_time": "2023-03-23T16:39:29.628Z"
   },
   {
    "duration": 5,
    "start_time": "2023-03-23T16:39:56.239Z"
   },
   {
    "duration": 111,
    "start_time": "2023-03-23T16:40:06.199Z"
   },
   {
    "duration": 7,
    "start_time": "2023-03-23T16:40:32.392Z"
   },
   {
    "duration": 213,
    "start_time": "2023-03-23T16:40:43.365Z"
   },
   {
    "duration": 6,
    "start_time": "2023-03-23T16:40:57.791Z"
   },
   {
    "duration": 6,
    "start_time": "2023-03-23T16:41:13.540Z"
   },
   {
    "duration": 5,
    "start_time": "2023-03-23T16:41:28.697Z"
   },
   {
    "duration": 5,
    "start_time": "2023-03-23T16:41:34.792Z"
   },
   {
    "duration": 5,
    "start_time": "2023-03-23T16:41:41.133Z"
   },
   {
    "duration": 10,
    "start_time": "2023-03-23T16:41:48.508Z"
   },
   {
    "duration": 10,
    "start_time": "2023-03-23T16:42:03.542Z"
   },
   {
    "duration": 8,
    "start_time": "2023-03-23T16:42:11.754Z"
   },
   {
    "duration": 9,
    "start_time": "2023-03-23T16:43:30.361Z"
   },
   {
    "duration": 10,
    "start_time": "2023-03-23T16:43:38.905Z"
   },
   {
    "duration": 10,
    "start_time": "2023-03-23T16:44:02.296Z"
   },
   {
    "duration": 10,
    "start_time": "2023-03-23T16:44:11.458Z"
   },
   {
    "duration": 11,
    "start_time": "2023-03-23T16:44:33.208Z"
   },
   {
    "duration": 9,
    "start_time": "2023-03-23T16:45:01.104Z"
   },
   {
    "duration": 9,
    "start_time": "2023-03-23T16:45:47.486Z"
   },
   {
    "duration": 33,
    "start_time": "2023-03-23T16:46:00.951Z"
   },
   {
    "duration": 50,
    "start_time": "2023-03-23T16:46:12.187Z"
   },
   {
    "duration": 8,
    "start_time": "2023-03-23T16:46:23.393Z"
   },
   {
    "duration": 10,
    "start_time": "2023-03-23T16:46:35.187Z"
   },
   {
    "duration": 7,
    "start_time": "2023-03-23T16:46:44.847Z"
   },
   {
    "duration": 8,
    "start_time": "2023-03-23T16:46:50.353Z"
   },
   {
    "duration": 8,
    "start_time": "2023-03-23T16:46:59.726Z"
   },
   {
    "duration": 9,
    "start_time": "2023-03-23T16:50:05.017Z"
   },
   {
    "duration": 8,
    "start_time": "2023-03-23T16:50:18.455Z"
   },
   {
    "duration": 7,
    "start_time": "2023-03-23T16:50:29.402Z"
   },
   {
    "duration": 17,
    "start_time": "2023-03-23T16:51:31.369Z"
   },
   {
    "duration": 9,
    "start_time": "2023-03-23T16:51:53.596Z"
   },
   {
    "duration": 11,
    "start_time": "2023-03-23T16:51:59.260Z"
   },
   {
    "duration": 11,
    "start_time": "2023-03-23T16:52:14.303Z"
   },
   {
    "duration": 13,
    "start_time": "2023-03-23T16:52:21.996Z"
   },
   {
    "duration": 22,
    "start_time": "2023-03-23T16:52:28.667Z"
   },
   {
    "duration": 8,
    "start_time": "2023-03-23T16:52:37.956Z"
   },
   {
    "duration": 19,
    "start_time": "2023-03-23T16:56:25.813Z"
   },
   {
    "duration": 6,
    "start_time": "2023-03-23T16:57:38.309Z"
   },
   {
    "duration": 76,
    "start_time": "2023-03-23T16:57:50.069Z"
   },
   {
    "duration": 9,
    "start_time": "2023-03-23T16:58:01.828Z"
   },
   {
    "duration": 11,
    "start_time": "2023-03-23T16:58:16.100Z"
   },
   {
    "duration": 11,
    "start_time": "2023-03-23T16:58:22.227Z"
   },
   {
    "duration": 8,
    "start_time": "2023-03-23T16:58:27.609Z"
   },
   {
    "duration": 8,
    "start_time": "2023-03-23T16:58:47.708Z"
   },
   {
    "duration": 19,
    "start_time": "2023-03-23T16:59:17.429Z"
   },
   {
    "duration": 9,
    "start_time": "2023-03-23T16:59:24.661Z"
   },
   {
    "duration": 18,
    "start_time": "2023-03-23T16:59:38.651Z"
   },
   {
    "duration": 8,
    "start_time": "2023-03-23T16:59:43.734Z"
   },
   {
    "duration": 9,
    "start_time": "2023-03-23T17:00:25.701Z"
   },
   {
    "duration": 96,
    "start_time": "2023-03-23T17:00:41.235Z"
   },
   {
    "duration": 8,
    "start_time": "2023-03-23T17:00:45.955Z"
   },
   {
    "duration": 18,
    "start_time": "2023-03-23T17:00:55.795Z"
   },
   {
    "duration": 12,
    "start_time": "2023-03-23T17:01:13.172Z"
   },
   {
    "duration": 9,
    "start_time": "2023-03-23T17:01:22.685Z"
   },
   {
    "duration": 8,
    "start_time": "2023-03-23T17:02:05.108Z"
   },
   {
    "duration": 8,
    "start_time": "2023-03-23T17:02:50.610Z"
   },
   {
    "duration": 4,
    "start_time": "2023-03-23T17:03:21.363Z"
   },
   {
    "duration": 8,
    "start_time": "2023-03-23T17:03:23.686Z"
   },
   {
    "duration": 7,
    "start_time": "2023-03-23T17:03:28.444Z"
   },
   {
    "duration": 6,
    "start_time": "2023-03-23T17:16:06.900Z"
   },
   {
    "duration": 8,
    "start_time": "2023-03-23T17:16:09.364Z"
   },
   {
    "duration": 48,
    "start_time": "2023-03-23T17:16:34.142Z"
   },
   {
    "duration": 8,
    "start_time": "2023-03-23T17:16:41.264Z"
   },
   {
    "duration": 8,
    "start_time": "2023-03-23T17:16:50.804Z"
   },
   {
    "duration": 7,
    "start_time": "2023-03-23T17:17:06.402Z"
   },
   {
    "duration": 5,
    "start_time": "2023-03-23T17:17:29.635Z"
   },
   {
    "duration": 4,
    "start_time": "2023-03-23T17:17:36.580Z"
   },
   {
    "duration": 8,
    "start_time": "2023-03-23T17:18:53.611Z"
   },
   {
    "duration": 21,
    "start_time": "2023-03-23T17:19:22.203Z"
   },
   {
    "duration": 56,
    "start_time": "2023-03-23T17:19:32.002Z"
   },
   {
    "duration": 71,
    "start_time": "2023-03-23T17:19:49.301Z"
   },
   {
    "duration": 14,
    "start_time": "2023-03-23T17:20:33.323Z"
   },
   {
    "duration": 73,
    "start_time": "2023-03-23T17:20:46.408Z"
   },
   {
    "duration": 55,
    "start_time": "2023-03-23T17:20:54.013Z"
   },
   {
    "duration": 6,
    "start_time": "2023-03-23T17:22:00.205Z"
   },
   {
    "duration": 171,
    "start_time": "2023-03-23T17:22:12.119Z"
   },
   {
    "duration": 6,
    "start_time": "2023-03-23T17:22:58.382Z"
   },
   {
    "duration": 56,
    "start_time": "2023-03-23T17:23:04.601Z"
   },
   {
    "duration": 11,
    "start_time": "2023-03-23T17:23:11.473Z"
   },
   {
    "duration": 13,
    "start_time": "2023-03-23T17:23:16.676Z"
   },
   {
    "duration": 11,
    "start_time": "2023-03-23T17:24:02.222Z"
   },
   {
    "duration": 13,
    "start_time": "2023-03-23T17:24:33.806Z"
   },
   {
    "duration": 20,
    "start_time": "2023-03-23T17:24:42.329Z"
   },
   {
    "duration": 16,
    "start_time": "2023-03-23T17:24:48.501Z"
   },
   {
    "duration": 14,
    "start_time": "2023-03-23T17:24:54.374Z"
   },
   {
    "duration": 12,
    "start_time": "2023-03-23T17:25:17.342Z"
   },
   {
    "duration": 12,
    "start_time": "2023-03-23T17:25:38.707Z"
   },
   {
    "duration": 10,
    "start_time": "2023-03-23T17:25:43.215Z"
   },
   {
    "duration": 11,
    "start_time": "2023-03-23T17:25:54.438Z"
   },
   {
    "duration": 12,
    "start_time": "2023-03-23T17:26:30.565Z"
   },
   {
    "duration": 12,
    "start_time": "2023-03-23T17:27:01.445Z"
   },
   {
    "duration": 8,
    "start_time": "2023-03-23T17:27:14.252Z"
   },
   {
    "duration": 19,
    "start_time": "2023-03-23T17:27:57.726Z"
   },
   {
    "duration": 151,
    "start_time": "2023-03-23T17:29:26.162Z"
   },
   {
    "duration": 3730,
    "start_time": "2023-03-23T17:29:52.169Z"
   },
   {
    "duration": 25,
    "start_time": "2023-03-23T17:30:26.875Z"
   },
   {
    "duration": 24,
    "start_time": "2023-03-23T17:32:01.611Z"
   },
   {
    "duration": 97,
    "start_time": "2023-03-23T17:37:03.515Z"
   },
   {
    "duration": 3963,
    "start_time": "2023-03-23T17:37:34.349Z"
   },
   {
    "duration": 4,
    "start_time": "2023-03-23T17:38:03.341Z"
   },
   {
    "duration": 10,
    "start_time": "2023-03-23T17:38:19.947Z"
   },
   {
    "duration": 12,
    "start_time": "2023-03-23T17:39:52.418Z"
   },
   {
    "duration": 14,
    "start_time": "2023-03-23T17:40:09.898Z"
   },
   {
    "duration": 16,
    "start_time": "2023-03-23T17:40:16.442Z"
   },
   {
    "duration": 11,
    "start_time": "2023-03-23T17:40:27.272Z"
   },
   {
    "duration": 112,
    "start_time": "2023-03-23T17:41:55.730Z"
   },
   {
    "duration": 67,
    "start_time": "2023-03-23T17:42:04.938Z"
   },
   {
    "duration": 114,
    "start_time": "2023-03-23T17:42:25.287Z"
   },
   {
    "duration": 9,
    "start_time": "2023-03-23T17:43:26.414Z"
   },
   {
    "duration": 8,
    "start_time": "2023-03-23T17:43:41.363Z"
   },
   {
    "duration": 84,
    "start_time": "2023-03-23T17:44:05.704Z"
   },
   {
    "duration": 7,
    "start_time": "2023-03-23T17:44:22.193Z"
   },
   {
    "duration": 7,
    "start_time": "2023-03-23T17:44:30.231Z"
   },
   {
    "duration": 107,
    "start_time": "2023-03-23T17:45:56.111Z"
   },
   {
    "duration": 9,
    "start_time": "2023-03-23T17:46:05.270Z"
   },
   {
    "duration": 27,
    "start_time": "2023-03-23T17:46:24.646Z"
   },
   {
    "duration": 25,
    "start_time": "2023-03-23T17:46:33.045Z"
   },
   {
    "duration": 63,
    "start_time": "2023-03-23T17:46:42.509Z"
   },
   {
    "duration": 8,
    "start_time": "2023-03-23T17:46:59.126Z"
   },
   {
    "duration": 7,
    "start_time": "2023-03-23T17:48:07.124Z"
   },
   {
    "duration": 67,
    "start_time": "2023-03-23T17:48:10.301Z"
   },
   {
    "duration": 8,
    "start_time": "2023-03-23T17:48:14.892Z"
   },
   {
    "duration": 8,
    "start_time": "2023-03-23T17:48:52.819Z"
   },
   {
    "duration": 6,
    "start_time": "2023-03-23T17:49:12.130Z"
   },
   {
    "duration": 9,
    "start_time": "2023-03-23T17:49:23.289Z"
   },
   {
    "duration": 22,
    "start_time": "2023-03-23T17:50:11.613Z"
   },
   {
    "duration": 66,
    "start_time": "2023-03-23T17:50:42.731Z"
   },
   {
    "duration": 8,
    "start_time": "2023-03-23T17:52:14.425Z"
   },
   {
    "duration": 9,
    "start_time": "2023-03-23T17:52:42.929Z"
   },
   {
    "duration": 10,
    "start_time": "2023-03-23T17:52:54.106Z"
   },
   {
    "duration": 134,
    "start_time": "2023-03-23T17:56:38.838Z"
   },
   {
    "duration": 153,
    "start_time": "2023-03-23T17:57:11.072Z"
   },
   {
    "duration": 10,
    "start_time": "2023-03-23T17:59:27.183Z"
   },
   {
    "duration": 109,
    "start_time": "2023-03-23T17:59:57.563Z"
   },
   {
    "duration": 75,
    "start_time": "2023-03-23T18:01:37.935Z"
   },
   {
    "duration": 14,
    "start_time": "2023-03-23T18:01:43.278Z"
   },
   {
    "duration": 5,
    "start_time": "2023-03-23T18:01:52.422Z"
   },
   {
    "duration": 16,
    "start_time": "2023-03-23T18:02:00.879Z"
   },
   {
    "duration": 14,
    "start_time": "2023-03-23T18:02:04.928Z"
   },
   {
    "duration": 5,
    "start_time": "2023-03-23T18:04:07.646Z"
   },
   {
    "duration": 1520,
    "start_time": "2023-03-23T18:04:33.471Z"
   },
   {
    "duration": 80,
    "start_time": "2023-03-23T18:04:43.631Z"
   },
   {
    "duration": 49,
    "start_time": "2023-03-23T18:04:53.440Z"
   },
   {
    "duration": 50,
    "start_time": "2023-03-23T18:05:16.446Z"
   },
   {
    "duration": 47,
    "start_time": "2023-03-23T18:07:06.252Z"
   },
   {
    "duration": 138,
    "start_time": "2023-03-23T18:12:17.514Z"
   },
   {
    "duration": 93,
    "start_time": "2023-03-23T18:13:06.851Z"
   },
   {
    "duration": 9,
    "start_time": "2023-03-23T18:24:20.846Z"
   },
   {
    "duration": 4,
    "start_time": "2023-03-23T18:24:35.556Z"
   },
   {
    "duration": 6,
    "start_time": "2023-03-23T18:24:41.379Z"
   },
   {
    "duration": 7,
    "start_time": "2023-03-23T18:24:46.260Z"
   },
   {
    "duration": 5,
    "start_time": "2023-03-23T18:25:59.876Z"
   },
   {
    "duration": 63,
    "start_time": "2023-03-23T18:28:13.066Z"
   },
   {
    "duration": 7,
    "start_time": "2023-03-23T18:28:20.440Z"
   },
   {
    "duration": 6,
    "start_time": "2023-03-23T18:28:28.947Z"
   },
   {
    "duration": 6,
    "start_time": "2023-03-23T18:28:32.177Z"
   },
   {
    "duration": 10,
    "start_time": "2023-03-23T18:31:34.302Z"
   },
   {
    "duration": 8,
    "start_time": "2023-03-23T18:32:12.620Z"
   },
   {
    "duration": 8,
    "start_time": "2023-03-23T18:33:40.324Z"
   },
   {
    "duration": 4,
    "start_time": "2023-03-23T18:34:18.346Z"
   },
   {
    "duration": 5,
    "start_time": "2023-03-23T18:34:24.035Z"
   },
   {
    "duration": 4,
    "start_time": "2023-03-23T18:35:21.641Z"
   },
   {
    "duration": 5,
    "start_time": "2023-03-23T18:35:23.817Z"
   },
   {
    "duration": 4,
    "start_time": "2023-03-23T18:35:39.529Z"
   },
   {
    "duration": 5,
    "start_time": "2023-03-23T18:35:41.703Z"
   },
   {
    "duration": 4,
    "start_time": "2023-03-23T18:35:53.513Z"
   },
   {
    "duration": 4,
    "start_time": "2023-03-23T18:35:56.711Z"
   },
   {
    "duration": 3,
    "start_time": "2023-03-23T18:36:24.912Z"
   },
   {
    "duration": 5,
    "start_time": "2023-03-23T18:36:28.487Z"
   },
   {
    "duration": 6,
    "start_time": "2023-03-23T18:38:41.853Z"
   },
   {
    "duration": 4,
    "start_time": "2023-03-23T18:38:48.901Z"
   },
   {
    "duration": 4,
    "start_time": "2023-03-23T18:38:50.718Z"
   },
   {
    "duration": 4,
    "start_time": "2023-03-23T18:52:55.104Z"
   },
   {
    "duration": 5,
    "start_time": "2023-03-23T18:53:03.279Z"
   },
   {
    "duration": 3,
    "start_time": "2023-03-23T18:53:19.265Z"
   },
   {
    "duration": 9,
    "start_time": "2023-03-23T18:53:36.523Z"
   },
   {
    "duration": 9,
    "start_time": "2023-03-23T18:54:33.257Z"
   },
   {
    "duration": 1500,
    "start_time": "2023-03-23T18:56:33.838Z"
   },
   {
    "duration": 1313,
    "start_time": "2023-03-23T18:57:13.414Z"
   },
   {
    "duration": 1787,
    "start_time": "2023-03-23T18:58:37.158Z"
   },
   {
    "duration": 4,
    "start_time": "2023-03-23T18:58:50.246Z"
   },
   {
    "duration": 88,
    "start_time": "2023-03-23T18:59:05.612Z"
   },
   {
    "duration": 73,
    "start_time": "2023-03-23T18:59:23.133Z"
   },
   {
    "duration": 4,
    "start_time": "2023-03-23T19:00:11.140Z"
   },
   {
    "duration": 7,
    "start_time": "2023-03-23T19:00:34.852Z"
   },
   {
    "duration": 9,
    "start_time": "2023-03-23T19:00:41.294Z"
   },
   {
    "duration": 19,
    "start_time": "2023-03-23T19:01:47.787Z"
   },
   {
    "duration": 19,
    "start_time": "2023-03-23T19:02:19.633Z"
   },
   {
    "duration": 22,
    "start_time": "2023-03-23T19:02:24.100Z"
   },
   {
    "duration": 24,
    "start_time": "2023-03-23T19:02:37.347Z"
   },
   {
    "duration": 27,
    "start_time": "2023-03-23T19:02:40.762Z"
   },
   {
    "duration": 67,
    "start_time": "2023-03-23T19:03:15.187Z"
   },
   {
    "duration": 67,
    "start_time": "2023-03-23T19:03:40.069Z"
   },
   {
    "duration": 83,
    "start_time": "2023-03-23T19:04:15.762Z"
   },
   {
    "duration": 86,
    "start_time": "2023-03-23T19:04:25.715Z"
   },
   {
    "duration": 65,
    "start_time": "2023-03-23T19:04:32.106Z"
   },
   {
    "duration": 56,
    "start_time": "2023-03-23T19:04:39.786Z"
   },
   {
    "duration": 17,
    "start_time": "2023-03-23T19:04:43.635Z"
   },
   {
    "duration": 16,
    "start_time": "2023-03-23T19:05:49.978Z"
   },
   {
    "duration": 1116,
    "start_time": "2023-03-23T19:06:45.790Z"
   },
   {
    "duration": 777,
    "start_time": "2023-03-23T19:06:46.908Z"
   },
   {
    "duration": 27,
    "start_time": "2023-03-23T19:06:47.694Z"
   },
   {
    "duration": 19,
    "start_time": "2023-03-23T19:06:47.723Z"
   },
   {
    "duration": 15,
    "start_time": "2023-03-23T19:06:47.745Z"
   },
   {
    "duration": 73,
    "start_time": "2023-03-23T19:06:47.761Z"
   },
   {
    "duration": 19,
    "start_time": "2023-03-23T19:06:47.836Z"
   },
   {
    "duration": 3,
    "start_time": "2023-03-23T19:06:47.857Z"
   },
   {
    "duration": 6,
    "start_time": "2023-03-23T19:06:47.862Z"
   },
   {
    "duration": 50,
    "start_time": "2023-03-23T19:06:47.870Z"
   },
   {
    "duration": 5,
    "start_time": "2023-03-23T19:06:47.921Z"
   },
   {
    "duration": 6,
    "start_time": "2023-03-23T19:06:47.927Z"
   },
   {
    "duration": 14,
    "start_time": "2023-03-23T19:06:47.935Z"
   },
   {
    "duration": 15,
    "start_time": "2023-03-23T19:06:47.951Z"
   },
   {
    "duration": 18,
    "start_time": "2023-03-23T19:06:47.967Z"
   },
   {
    "duration": 165,
    "start_time": "2023-03-23T19:06:47.985Z"
   },
   {
    "duration": 103,
    "start_time": "2023-03-23T19:06:48.151Z"
   },
   {
    "duration": 5,
    "start_time": "2023-03-23T19:06:48.256Z"
   },
   {
    "duration": 6,
    "start_time": "2023-03-23T19:06:48.262Z"
   },
   {
    "duration": 9,
    "start_time": "2023-03-23T19:06:52.626Z"
   },
   {
    "duration": 41,
    "start_time": "2023-03-23T19:07:02.170Z"
   },
   {
    "duration": 9,
    "start_time": "2023-03-23T19:07:05.820Z"
   },
   {
    "duration": 10,
    "start_time": "2023-03-23T19:07:11.107Z"
   },
   {
    "duration": 4,
    "start_time": "2023-03-23T19:07:18.529Z"
   },
   {
    "duration": 1964,
    "start_time": "2023-03-23T19:07:23.769Z"
   },
   {
    "duration": 7,
    "start_time": "2023-03-23T19:07:46.001Z"
   },
   {
    "duration": 3,
    "start_time": "2023-03-23T19:07:57.434Z"
   },
   {
    "duration": 5,
    "start_time": "2023-03-23T19:08:01.795Z"
   },
   {
    "duration": 7,
    "start_time": "2023-03-23T19:08:20.457Z"
   },
   {
    "duration": 9,
    "start_time": "2023-03-23T19:09:05.026Z"
   },
   {
    "duration": 10,
    "start_time": "2023-03-23T19:09:14.996Z"
   },
   {
    "duration": 9,
    "start_time": "2023-03-23T19:09:20.328Z"
   },
   {
    "duration": 3,
    "start_time": "2023-03-23T19:09:22.629Z"
   },
   {
    "duration": 22,
    "start_time": "2023-03-23T19:09:33.171Z"
   },
   {
    "duration": 3,
    "start_time": "2023-03-23T19:09:57.719Z"
   },
   {
    "duration": 13,
    "start_time": "2023-03-23T19:10:13.018Z"
   },
   {
    "duration": 10,
    "start_time": "2023-03-23T19:10:17.054Z"
   },
   {
    "duration": 5,
    "start_time": "2023-03-23T19:10:19.808Z"
   },
   {
    "duration": 66,
    "start_time": "2023-03-23T19:10:37.753Z"
   },
   {
    "duration": 2,
    "start_time": "2023-03-23T19:12:56.817Z"
   },
   {
    "duration": 9,
    "start_time": "2023-03-23T19:12:59.713Z"
   },
   {
    "duration": 8,
    "start_time": "2023-03-23T19:13:31.011Z"
   },
   {
    "duration": 6,
    "start_time": "2023-03-23T19:13:35.003Z"
   },
   {
    "duration": 8,
    "start_time": "2023-03-23T19:13:36.951Z"
   },
   {
    "duration": 19,
    "start_time": "2023-03-23T19:13:58.570Z"
   },
   {
    "duration": 3,
    "start_time": "2023-03-23T19:14:20.914Z"
   },
   {
    "duration": 877,
    "start_time": "2023-03-23T19:14:20.919Z"
   },
   {
    "duration": 26,
    "start_time": "2023-03-23T19:14:21.798Z"
   },
   {
    "duration": 11,
    "start_time": "2023-03-23T19:14:21.825Z"
   },
   {
    "duration": 27,
    "start_time": "2023-03-23T19:14:21.838Z"
   },
   {
    "duration": 80,
    "start_time": "2023-03-23T19:14:21.868Z"
   },
   {
    "duration": 41,
    "start_time": "2023-03-23T19:14:21.950Z"
   },
   {
    "duration": 6,
    "start_time": "2023-03-23T19:14:22.003Z"
   },
   {
    "duration": 5,
    "start_time": "2023-03-23T19:14:22.010Z"
   },
   {
    "duration": 10,
    "start_time": "2023-03-23T19:14:22.016Z"
   },
   {
    "duration": 5,
    "start_time": "2023-03-23T19:14:22.027Z"
   },
   {
    "duration": 6,
    "start_time": "2023-03-23T19:14:22.034Z"
   },
   {
    "duration": 6,
    "start_time": "2023-03-23T19:14:22.042Z"
   },
   {
    "duration": 7,
    "start_time": "2023-03-23T19:14:22.050Z"
   },
   {
    "duration": 11,
    "start_time": "2023-03-23T19:14:22.058Z"
   },
   {
    "duration": 207,
    "start_time": "2023-03-23T19:14:22.070Z"
   },
   {
    "duration": 114,
    "start_time": "2023-03-23T19:14:22.279Z"
   },
   {
    "duration": 10,
    "start_time": "2023-03-23T19:14:22.395Z"
   },
   {
    "duration": 14,
    "start_time": "2023-03-23T19:14:22.407Z"
   },
   {
    "duration": 6,
    "start_time": "2023-03-23T19:14:22.423Z"
   },
   {
    "duration": 5,
    "start_time": "2023-03-23T19:14:26.406Z"
   },
   {
    "duration": 20,
    "start_time": "2023-03-23T19:14:28.937Z"
   },
   {
    "duration": 8,
    "start_time": "2023-03-23T19:14:32.409Z"
   },
   {
    "duration": 9,
    "start_time": "2023-03-23T19:15:05.310Z"
   },
   {
    "duration": 8,
    "start_time": "2023-03-23T19:15:10.824Z"
   },
   {
    "duration": 8,
    "start_time": "2023-03-23T19:15:14.952Z"
   },
   {
    "duration": 6,
    "start_time": "2023-03-23T19:15:22.394Z"
   },
   {
    "duration": 4,
    "start_time": "2023-03-23T19:15:28.240Z"
   },
   {
    "duration": 93,
    "start_time": "2023-03-23T19:15:36.463Z"
   },
   {
    "duration": 33,
    "start_time": "2023-03-23T19:15:42.617Z"
   },
   {
    "duration": 11,
    "start_time": "2023-03-23T19:16:00.401Z"
   },
   {
    "duration": 10,
    "start_time": "2023-03-23T19:17:10.847Z"
   },
   {
    "duration": 10,
    "start_time": "2023-03-23T19:17:29.529Z"
   },
   {
    "duration": 11,
    "start_time": "2023-03-23T19:17:44.624Z"
   },
   {
    "duration": 6,
    "start_time": "2023-03-23T19:22:39.806Z"
   },
   {
    "duration": 6,
    "start_time": "2023-03-23T19:22:42.445Z"
   },
   {
    "duration": 124,
    "start_time": "2023-03-23T19:30:46.823Z"
   },
   {
    "duration": 2307,
    "start_time": "2023-03-23T19:34:24.914Z"
   },
   {
    "duration": 20,
    "start_time": "2023-03-23T19:34:35.761Z"
   },
   {
    "duration": 20,
    "start_time": "2023-03-23T19:35:34.470Z"
   },
   {
    "duration": 12,
    "start_time": "2023-03-23T19:35:41.723Z"
   },
   {
    "duration": 26,
    "start_time": "2023-03-23T19:38:39.907Z"
   },
   {
    "duration": 53,
    "start_time": "2023-03-23T19:39:27.763Z"
   },
   {
    "duration": 15,
    "start_time": "2023-03-23T19:47:50.890Z"
   },
   {
    "duration": 14,
    "start_time": "2023-03-23T19:48:02.294Z"
   },
   {
    "duration": 510,
    "start_time": "2023-03-23T19:48:06.250Z"
   },
   {
    "duration": 395,
    "start_time": "2023-03-23T19:48:32.004Z"
   },
   {
    "duration": 717,
    "start_time": "2023-03-23T19:49:54.632Z"
   },
   {
    "duration": 767,
    "start_time": "2023-03-23T19:50:06.138Z"
   },
   {
    "duration": 32,
    "start_time": "2023-03-23T19:51:06.627Z"
   },
   {
    "duration": 150,
    "start_time": "2023-03-23T19:51:21.402Z"
   },
   {
    "duration": 103,
    "start_time": "2023-03-23T19:51:39.535Z"
   },
   {
    "duration": 1869,
    "start_time": "2023-03-23T19:59:29.424Z"
   },
   {
    "duration": 1957,
    "start_time": "2023-03-23T19:59:38.442Z"
   },
   {
    "duration": 0,
    "start_time": "2023-03-23T20:00:40.030Z"
   },
   {
    "duration": 4921,
    "start_time": "2023-03-23T20:01:28.003Z"
   },
   {
    "duration": 443,
    "start_time": "2023-03-23T20:02:17.623Z"
   },
   {
    "duration": 4,
    "start_time": "2023-03-23T20:07:01.218Z"
   },
   {
    "duration": 174,
    "start_time": "2023-03-23T20:07:21.303Z"
   },
   {
    "duration": 312,
    "start_time": "2023-03-23T20:07:31.303Z"
   },
   {
    "duration": 223,
    "start_time": "2023-03-23T20:07:52.198Z"
   },
   {
    "duration": 366,
    "start_time": "2023-03-23T20:08:12.794Z"
   },
   {
    "duration": 229,
    "start_time": "2023-03-23T20:08:20.802Z"
   },
   {
    "duration": 226,
    "start_time": "2023-03-23T20:08:34.321Z"
   },
   {
    "duration": 245,
    "start_time": "2023-03-23T20:08:40.304Z"
   },
   {
    "duration": 316,
    "start_time": "2023-03-23T20:08:53.138Z"
   },
   {
    "duration": 788,
    "start_time": "2023-03-23T20:08:57.397Z"
   },
   {
    "duration": 527,
    "start_time": "2023-03-23T20:09:45.607Z"
   },
   {
    "duration": 223,
    "start_time": "2023-03-23T20:18:15.138Z"
   },
   {
    "duration": 431,
    "start_time": "2023-03-23T20:18:33.302Z"
   },
   {
    "duration": 439,
    "start_time": "2023-03-23T20:19:57.910Z"
   },
   {
    "duration": 576,
    "start_time": "2023-03-23T20:20:34.636Z"
   },
   {
    "duration": 492,
    "start_time": "2023-03-23T20:21:02.620Z"
   },
   {
    "duration": 480,
    "start_time": "2023-03-23T20:22:11.030Z"
   },
   {
    "duration": 566,
    "start_time": "2023-03-23T20:23:17.842Z"
   },
   {
    "duration": 447,
    "start_time": "2023-03-23T20:23:37.812Z"
   },
   {
    "duration": 497,
    "start_time": "2023-03-23T20:23:52.327Z"
   },
   {
    "duration": 215,
    "start_time": "2023-03-23T20:24:58.204Z"
   },
   {
    "duration": 436,
    "start_time": "2023-03-23T20:25:15.102Z"
   },
   {
    "duration": 485,
    "start_time": "2023-03-23T20:25:32.931Z"
   },
   {
    "duration": 194,
    "start_time": "2023-03-23T20:25:51.002Z"
   },
   {
    "duration": 434,
    "start_time": "2023-03-23T20:26:09.003Z"
   },
   {
    "duration": 507,
    "start_time": "2023-03-23T20:26:19.059Z"
   },
   {
    "duration": 502,
    "start_time": "2023-03-23T20:26:50.509Z"
   },
   {
    "duration": 528,
    "start_time": "2023-03-23T20:27:22.907Z"
   },
   {
    "duration": 459,
    "start_time": "2023-03-23T20:30:55.154Z"
   },
   {
    "duration": 463,
    "start_time": "2023-03-23T20:31:57.160Z"
   },
   {
    "duration": 446,
    "start_time": "2023-03-23T20:32:14.602Z"
   },
   {
    "duration": 462,
    "start_time": "2023-03-23T20:41:07.070Z"
   },
   {
    "duration": 567,
    "start_time": "2023-03-23T20:41:17.942Z"
   },
   {
    "duration": 519,
    "start_time": "2023-03-23T20:45:22.495Z"
   },
   {
    "duration": 454,
    "start_time": "2023-03-23T20:45:27.555Z"
   },
   {
    "duration": 508,
    "start_time": "2023-03-23T20:45:31.561Z"
   },
   {
    "duration": 603,
    "start_time": "2023-03-23T20:45:39.895Z"
   },
   {
    "duration": 519,
    "start_time": "2023-03-23T20:45:49.434Z"
   },
   {
    "duration": 2108,
    "start_time": "2023-03-23T20:52:56.554Z"
   },
   {
    "duration": 334,
    "start_time": "2023-03-23T20:55:34.891Z"
   },
   {
    "duration": 364,
    "start_time": "2023-03-23T20:56:50.944Z"
   },
   {
    "duration": 333,
    "start_time": "2023-03-23T20:57:17.332Z"
   },
   {
    "duration": 414,
    "start_time": "2023-03-23T20:57:27.934Z"
   },
   {
    "duration": 245,
    "start_time": "2023-03-23T20:57:34.918Z"
   },
   {
    "duration": 300,
    "start_time": "2023-03-23T20:57:42.416Z"
   },
   {
    "duration": 584,
    "start_time": "2023-03-23T20:58:10.919Z"
   },
   {
    "duration": 19,
    "start_time": "2023-03-23T20:59:31.467Z"
   },
   {
    "duration": 19,
    "start_time": "2023-03-23T20:59:49.505Z"
   },
   {
    "duration": 271,
    "start_time": "2023-03-23T20:59:55.113Z"
   },
   {
    "duration": 297,
    "start_time": "2023-03-23T21:01:03.757Z"
   },
   {
    "duration": 399,
    "start_time": "2023-03-23T21:02:12.725Z"
   },
   {
    "duration": 395,
    "start_time": "2023-03-23T21:03:01.410Z"
   },
   {
    "duration": 794,
    "start_time": "2023-03-23T21:03:14.993Z"
   },
   {
    "duration": 8,
    "start_time": "2023-03-23T21:11:33.304Z"
   },
   {
    "duration": 9,
    "start_time": "2023-03-23T21:13:01.924Z"
   },
   {
    "duration": 5,
    "start_time": "2023-03-23T21:13:54.524Z"
   },
   {
    "duration": 5,
    "start_time": "2023-03-23T21:14:16.451Z"
   },
   {
    "duration": 9,
    "start_time": "2023-03-23T21:15:45.745Z"
   },
   {
    "duration": 1365,
    "start_time": "2023-03-23T21:16:52.795Z"
   },
   {
    "duration": 8,
    "start_time": "2023-03-23T21:19:04.027Z"
   },
   {
    "duration": 7,
    "start_time": "2023-03-23T21:20:11.000Z"
   },
   {
    "duration": 5,
    "start_time": "2023-03-23T21:20:46.212Z"
   },
   {
    "duration": 11,
    "start_time": "2023-03-23T21:21:19.798Z"
   },
   {
    "duration": 5,
    "start_time": "2023-03-23T21:21:40.711Z"
   },
   {
    "duration": 7,
    "start_time": "2023-03-23T21:21:57.418Z"
   },
   {
    "duration": 7,
    "start_time": "2023-03-23T21:22:22.431Z"
   },
   {
    "duration": 7,
    "start_time": "2023-03-23T21:22:25.831Z"
   },
   {
    "duration": 4,
    "start_time": "2023-03-23T21:22:43.350Z"
   },
   {
    "duration": 8,
    "start_time": "2023-03-23T21:22:46.798Z"
   },
   {
    "duration": 7,
    "start_time": "2023-03-23T21:22:49.211Z"
   },
   {
    "duration": 8,
    "start_time": "2023-03-23T21:22:51.568Z"
   },
   {
    "duration": 9,
    "start_time": "2023-03-23T21:22:54.854Z"
   },
   {
    "duration": 10,
    "start_time": "2023-03-23T21:23:43.615Z"
   },
   {
    "duration": 4,
    "start_time": "2023-03-23T21:23:53.302Z"
   },
   {
    "duration": 7,
    "start_time": "2023-03-23T21:23:59.207Z"
   },
   {
    "duration": 5,
    "start_time": "2023-03-23T21:24:01.559Z"
   },
   {
    "duration": 5,
    "start_time": "2023-03-23T21:24:03.711Z"
   },
   {
    "duration": 15,
    "start_time": "2023-03-23T21:24:09.321Z"
   },
   {
    "duration": 834,
    "start_time": "2023-03-23T21:24:33.561Z"
   },
   {
    "duration": 79,
    "start_time": "2023-03-23T21:32:27.400Z"
   },
   {
    "duration": 1804,
    "start_time": "2023-03-23T21:33:43.154Z"
   },
   {
    "duration": 15,
    "start_time": "2023-03-23T21:33:51.401Z"
   },
   {
    "duration": 8,
    "start_time": "2023-03-23T21:34:00.908Z"
   },
   {
    "duration": 8,
    "start_time": "2023-03-23T21:34:11.742Z"
   },
   {
    "duration": 7,
    "start_time": "2023-03-23T21:35:20.537Z"
   },
   {
    "duration": 11,
    "start_time": "2023-03-23T21:35:31.559Z"
   },
   {
    "duration": 20,
    "start_time": "2023-03-23T21:36:05.637Z"
   },
   {
    "duration": 15,
    "start_time": "2023-03-23T21:36:26.500Z"
   },
   {
    "duration": 9,
    "start_time": "2023-03-23T21:36:29.326Z"
   },
   {
    "duration": 7,
    "start_time": "2023-03-23T21:37:47.349Z"
   },
   {
    "duration": 10,
    "start_time": "2023-03-23T21:37:57.910Z"
   },
   {
    "duration": 6,
    "start_time": "2023-03-23T21:39:15.255Z"
   },
   {
    "duration": 12,
    "start_time": "2023-03-23T21:39:19.124Z"
   },
   {
    "duration": 12,
    "start_time": "2023-03-23T21:40:08.429Z"
   },
   {
    "duration": 5,
    "start_time": "2023-03-23T21:40:42.308Z"
   },
   {
    "duration": 12,
    "start_time": "2023-03-23T21:40:49.292Z"
   },
   {
    "duration": 735,
    "start_time": "2023-03-23T21:41:04.764Z"
   },
   {
    "duration": 756,
    "start_time": "2023-03-23T21:43:09.111Z"
   },
   {
    "duration": 706,
    "start_time": "2023-03-23T21:50:02.425Z"
   },
   {
    "duration": 65,
    "start_time": "2023-03-23T21:51:51.847Z"
   },
   {
    "duration": 654,
    "start_time": "2023-03-23T21:55:22.013Z"
   },
   {
    "duration": 675,
    "start_time": "2023-03-23T21:55:55.043Z"
   },
   {
    "duration": 672,
    "start_time": "2023-03-23T21:56:12.785Z"
   },
   {
    "duration": 87,
    "start_time": "2023-03-23T21:56:47.002Z"
   },
   {
    "duration": 699,
    "start_time": "2023-03-23T21:56:55.962Z"
   },
   {
    "duration": 780,
    "start_time": "2023-03-23T22:00:17.254Z"
   },
   {
    "duration": 634,
    "start_time": "2023-03-23T22:00:34.186Z"
   },
   {
    "duration": 17,
    "start_time": "2023-03-23T22:00:55.110Z"
   },
   {
    "duration": 9,
    "start_time": "2023-03-23T22:01:22.087Z"
   },
   {
    "duration": 12,
    "start_time": "2023-03-23T22:01:43.869Z"
   },
   {
    "duration": 15,
    "start_time": "2023-03-23T22:02:56.573Z"
   },
   {
    "duration": 14,
    "start_time": "2023-03-23T22:03:11.867Z"
   },
   {
    "duration": 22,
    "start_time": "2023-03-23T22:05:34.361Z"
   },
   {
    "duration": 10,
    "start_time": "2023-03-23T22:05:39.818Z"
   },
   {
    "duration": 9,
    "start_time": "2023-03-23T22:05:50.894Z"
   },
   {
    "duration": 14,
    "start_time": "2023-03-23T22:05:55.241Z"
   },
   {
    "duration": 8,
    "start_time": "2023-03-23T22:06:03.130Z"
   },
   {
    "duration": 9,
    "start_time": "2023-03-23T22:06:18.754Z"
   },
   {
    "duration": 76,
    "start_time": "2023-03-23T22:06:59.400Z"
   },
   {
    "duration": 30,
    "start_time": "2023-03-23T22:07:16.168Z"
   },
   {
    "duration": 12,
    "start_time": "2023-03-23T22:07:32.201Z"
   },
   {
    "duration": 10,
    "start_time": "2023-03-23T22:07:40.056Z"
   },
   {
    "duration": 12,
    "start_time": "2023-03-23T22:07:49.905Z"
   },
   {
    "duration": 11,
    "start_time": "2023-03-23T22:07:54.994Z"
   },
   {
    "duration": 9,
    "start_time": "2023-03-23T22:08:19.255Z"
   },
   {
    "duration": 12,
    "start_time": "2023-03-23T22:08:26.999Z"
   },
   {
    "duration": 436,
    "start_time": "2023-03-23T22:09:39.663Z"
   },
   {
    "duration": 427,
    "start_time": "2023-03-23T22:10:21.422Z"
   },
   {
    "duration": 407,
    "start_time": "2023-03-23T22:10:34.600Z"
   },
   {
    "duration": 538,
    "start_time": "2023-03-23T22:11:15.934Z"
   },
   {
    "duration": 420,
    "start_time": "2023-03-23T22:11:23.636Z"
   },
   {
    "duration": 203,
    "start_time": "2023-03-23T22:11:37.925Z"
   },
   {
    "duration": 5464,
    "start_time": "2023-03-23T22:11:45.749Z"
   },
   {
    "duration": 126,
    "start_time": "2023-03-23T22:13:02.218Z"
   },
   {
    "duration": 13,
    "start_time": "2023-03-23T22:13:54.139Z"
   },
   {
    "duration": 1728,
    "start_time": "2023-03-23T22:14:17.996Z"
   },
   {
    "duration": 346,
    "start_time": "2023-03-23T22:15:17.387Z"
   },
   {
    "duration": 128,
    "start_time": "2023-03-23T22:15:32.292Z"
   },
   {
    "duration": 535,
    "start_time": "2023-03-23T22:15:51.442Z"
   },
   {
    "duration": 490,
    "start_time": "2023-03-23T22:16:09.265Z"
   },
   {
    "duration": 670,
    "start_time": "2023-03-23T22:18:03.842Z"
   },
   {
    "duration": 737,
    "start_time": "2023-03-23T22:18:15.400Z"
   },
   {
    "duration": 906,
    "start_time": "2023-03-23T22:19:03.263Z"
   },
   {
    "duration": 673,
    "start_time": "2023-03-23T22:20:36.436Z"
   },
   {
    "duration": 709,
    "start_time": "2023-03-23T22:20:44.440Z"
   },
   {
    "duration": 971,
    "start_time": "2023-03-23T22:21:03.847Z"
   },
   {
    "duration": 672,
    "start_time": "2023-03-23T22:21:23.918Z"
   },
   {
    "duration": 714,
    "start_time": "2023-03-23T22:21:35.845Z"
   },
   {
    "duration": 720,
    "start_time": "2023-03-23T22:21:47.292Z"
   },
   {
    "duration": 659,
    "start_time": "2023-03-23T22:24:34.595Z"
   },
   {
    "duration": 1052,
    "start_time": "2023-03-23T22:24:50.937Z"
   },
   {
    "duration": 636,
    "start_time": "2023-03-23T22:25:03.089Z"
   },
   {
    "duration": 446,
    "start_time": "2023-03-23T22:26:07.560Z"
   },
   {
    "duration": 428,
    "start_time": "2023-03-23T22:26:30.886Z"
   },
   {
    "duration": 420,
    "start_time": "2023-03-23T22:26:59.105Z"
   },
   {
    "duration": 16,
    "start_time": "2023-03-23T22:32:09.512Z"
   },
   {
    "duration": 13,
    "start_time": "2023-03-23T22:32:36.042Z"
   },
   {
    "duration": 13,
    "start_time": "2023-03-23T22:33:28.784Z"
   },
   {
    "duration": 9,
    "start_time": "2023-03-23T22:33:31.289Z"
   },
   {
    "duration": 49,
    "start_time": "2023-03-23T22:33:37.704Z"
   },
   {
    "duration": 24,
    "start_time": "2023-03-23T22:35:09.613Z"
   },
   {
    "duration": 9,
    "start_time": "2023-03-23T22:35:48.102Z"
   },
   {
    "duration": 6,
    "start_time": "2023-03-23T22:36:20.289Z"
   },
   {
    "duration": 3,
    "start_time": "2023-03-23T22:37:04.984Z"
   },
   {
    "duration": 9,
    "start_time": "2023-03-23T22:37:52.639Z"
   },
   {
    "duration": 6,
    "start_time": "2023-03-23T22:38:26.695Z"
   },
   {
    "duration": 6,
    "start_time": "2023-03-23T22:38:29.135Z"
   },
   {
    "duration": 6,
    "start_time": "2023-03-23T22:38:46.185Z"
   },
   {
    "duration": 7,
    "start_time": "2023-03-23T22:39:15.711Z"
   },
   {
    "duration": 95,
    "start_time": "2023-03-23T22:39:38.086Z"
   },
   {
    "duration": 104,
    "start_time": "2023-03-23T22:39:46.262Z"
   },
   {
    "duration": 7,
    "start_time": "2023-03-23T22:40:52.941Z"
   },
   {
    "duration": 7,
    "start_time": "2023-03-23T22:41:00.107Z"
   },
   {
    "duration": 7,
    "start_time": "2023-03-23T22:41:12.183Z"
   },
   {
    "duration": 1023,
    "start_time": "2023-03-23T22:41:30.536Z"
   },
   {
    "duration": 726,
    "start_time": "2023-03-23T22:41:31.560Z"
   },
   {
    "duration": 19,
    "start_time": "2023-03-23T22:41:32.288Z"
   },
   {
    "duration": 12,
    "start_time": "2023-03-23T22:41:32.308Z"
   },
   {
    "duration": 9,
    "start_time": "2023-03-23T22:41:32.322Z"
   },
   {
    "duration": 18,
    "start_time": "2023-03-23T22:41:32.332Z"
   },
   {
    "duration": 62,
    "start_time": "2023-03-23T22:41:32.351Z"
   },
   {
    "duration": 23,
    "start_time": "2023-03-23T22:41:32.415Z"
   },
   {
    "duration": 9,
    "start_time": "2023-03-23T22:41:32.439Z"
   },
   {
    "duration": 24,
    "start_time": "2023-03-23T22:41:32.449Z"
   },
   {
    "duration": 6,
    "start_time": "2023-03-23T22:41:32.475Z"
   },
   {
    "duration": 18,
    "start_time": "2023-03-23T22:41:32.482Z"
   },
   {
    "duration": 5,
    "start_time": "2023-03-23T22:41:32.501Z"
   },
   {
    "duration": 7,
    "start_time": "2023-03-23T22:41:32.509Z"
   },
   {
    "duration": 7,
    "start_time": "2023-03-23T22:41:32.517Z"
   },
   {
    "duration": 7,
    "start_time": "2023-03-23T22:41:32.526Z"
   },
   {
    "duration": 9,
    "start_time": "2023-03-23T22:41:32.535Z"
   },
   {
    "duration": 124,
    "start_time": "2023-03-23T22:41:32.546Z"
   },
   {
    "duration": 110,
    "start_time": "2023-03-23T22:41:32.671Z"
   },
   {
    "duration": 8,
    "start_time": "2023-03-23T22:41:36.732Z"
   },
   {
    "duration": 5,
    "start_time": "2023-03-23T22:41:40.092Z"
   },
   {
    "duration": 6,
    "start_time": "2023-03-23T22:43:34.461Z"
   },
   {
    "duration": 9,
    "start_time": "2023-03-23T22:44:22.706Z"
   },
   {
    "duration": 8,
    "start_time": "2023-03-23T22:44:26.588Z"
   },
   {
    "duration": 6,
    "start_time": "2023-03-23T22:44:29.228Z"
   },
   {
    "duration": 5,
    "start_time": "2023-03-23T22:44:48.363Z"
   },
   {
    "duration": 5,
    "start_time": "2023-03-23T22:45:01.309Z"
   },
   {
    "duration": 10,
    "start_time": "2023-03-23T22:45:06.278Z"
   },
   {
    "duration": 10,
    "start_time": "2023-03-23T22:45:09.193Z"
   },
   {
    "duration": 9,
    "start_time": "2023-03-23T22:45:11.784Z"
   },
   {
    "duration": 102,
    "start_time": "2023-03-23T22:45:36.100Z"
   },
   {
    "duration": 4,
    "start_time": "2023-03-23T22:45:42.898Z"
   },
   {
    "duration": 8,
    "start_time": "2023-03-23T22:45:45.002Z"
   },
   {
    "duration": 9,
    "start_time": "2023-03-23T22:46:14.595Z"
   },
   {
    "duration": 4,
    "start_time": "2023-03-23T22:46:29.763Z"
   },
   {
    "duration": 84,
    "start_time": "2023-03-23T22:46:50.210Z"
   },
   {
    "duration": 1234,
    "start_time": "2023-03-23T22:47:33.715Z"
   },
   {
    "duration": 157,
    "start_time": "2023-03-23T22:47:59.785Z"
   },
   {
    "duration": 18,
    "start_time": "2023-03-23T22:48:09.267Z"
   },
   {
    "duration": 4,
    "start_time": "2023-03-23T22:51:12.729Z"
   },
   {
    "duration": 684,
    "start_time": "2023-03-23T22:51:12.735Z"
   },
   {
    "duration": 16,
    "start_time": "2023-03-23T22:51:13.421Z"
   },
   {
    "duration": 8,
    "start_time": "2023-03-23T22:51:13.438Z"
   },
   {
    "duration": 35,
    "start_time": "2023-03-23T22:51:13.449Z"
   },
   {
    "duration": 15,
    "start_time": "2023-03-23T22:51:13.485Z"
   },
   {
    "duration": 60,
    "start_time": "2023-03-23T22:51:13.502Z"
   },
   {
    "duration": 27,
    "start_time": "2023-03-23T22:51:13.563Z"
   },
   {
    "duration": 9,
    "start_time": "2023-03-23T22:51:13.592Z"
   },
   {
    "duration": 5,
    "start_time": "2023-03-23T22:51:13.603Z"
   },
   {
    "duration": 8,
    "start_time": "2023-03-23T22:51:13.610Z"
   },
   {
    "duration": 13,
    "start_time": "2023-03-23T22:51:13.619Z"
   },
   {
    "duration": 6,
    "start_time": "2023-03-23T22:51:13.634Z"
   },
   {
    "duration": 11,
    "start_time": "2023-03-23T22:51:13.643Z"
   },
   {
    "duration": 22,
    "start_time": "2023-03-23T22:51:13.655Z"
   },
   {
    "duration": 6,
    "start_time": "2023-03-23T22:51:13.687Z"
   },
   {
    "duration": 8,
    "start_time": "2023-03-23T22:51:13.694Z"
   },
   {
    "duration": 94,
    "start_time": "2023-03-23T22:51:13.703Z"
   },
   {
    "duration": 95,
    "start_time": "2023-03-23T22:51:13.798Z"
   },
   {
    "duration": 7,
    "start_time": "2023-03-23T22:51:13.895Z"
   },
   {
    "duration": 6,
    "start_time": "2023-03-23T22:51:13.904Z"
   },
   {
    "duration": 11,
    "start_time": "2023-03-23T22:51:13.912Z"
   },
   {
    "duration": 6,
    "start_time": "2023-03-23T22:51:13.924Z"
   },
   {
    "duration": 53,
    "start_time": "2023-03-23T22:51:13.932Z"
   },
   {
    "duration": 3,
    "start_time": "2023-03-23T22:51:13.987Z"
   },
   {
    "duration": 11,
    "start_time": "2023-03-23T22:51:13.991Z"
   },
   {
    "duration": 15,
    "start_time": "2023-03-23T22:51:14.003Z"
   },
   {
    "duration": 7,
    "start_time": "2023-03-23T22:51:14.019Z"
   },
   {
    "duration": 165,
    "start_time": "2023-03-23T22:51:14.028Z"
   },
   {
    "duration": 11,
    "start_time": "2023-03-23T22:51:14.195Z"
   },
   {
    "duration": 708,
    "start_time": "2023-03-23T22:51:14.207Z"
   },
   {
    "duration": 531,
    "start_time": "2023-03-23T22:51:14.916Z"
   },
   {
    "duration": 485,
    "start_time": "2023-03-23T22:51:15.449Z"
   },
   {
    "duration": 765,
    "start_time": "2023-03-23T22:51:15.935Z"
   },
   {
    "duration": 803,
    "start_time": "2023-03-23T22:51:16.702Z"
   },
   {
    "duration": 6,
    "start_time": "2023-03-23T22:51:17.506Z"
   },
   {
    "duration": 5,
    "start_time": "2023-03-23T22:51:17.514Z"
   },
   {
    "duration": 7,
    "start_time": "2023-03-23T22:51:17.521Z"
   },
   {
    "duration": 6,
    "start_time": "2023-03-23T22:51:17.530Z"
   },
   {
    "duration": 691,
    "start_time": "2023-03-23T22:51:23.194Z"
   },
   {
    "duration": 109,
    "start_time": "2023-03-23T22:58:38.421Z"
   },
   {
    "duration": 5,
    "start_time": "2023-03-23T23:00:22.819Z"
   },
   {
    "duration": 76,
    "start_time": "2023-03-23T23:00:28.548Z"
   },
   {
    "duration": 6,
    "start_time": "2023-03-23T23:00:38.835Z"
   },
   {
    "duration": 5,
    "start_time": "2023-03-23T23:13:42.750Z"
   },
   {
    "duration": 38,
    "start_time": "2023-03-23T23:14:34.117Z"
   },
   {
    "duration": 14,
    "start_time": "2023-03-23T23:14:43.286Z"
   },
   {
    "duration": 7,
    "start_time": "2023-03-23T23:20:27.361Z"
   },
   {
    "duration": 8,
    "start_time": "2023-03-23T23:20:33.639Z"
   },
   {
    "duration": 9,
    "start_time": "2023-03-23T23:21:31.552Z"
   },
   {
    "duration": 10,
    "start_time": "2023-03-23T23:21:40.088Z"
   },
   {
    "duration": 8,
    "start_time": "2023-03-23T23:22:33.302Z"
   },
   {
    "duration": 9,
    "start_time": "2023-03-23T23:22:36.813Z"
   },
   {
    "duration": 12,
    "start_time": "2023-03-23T23:23:18.152Z"
   },
   {
    "duration": 9,
    "start_time": "2023-03-23T23:23:21.005Z"
   },
   {
    "duration": 28,
    "start_time": "2023-03-23T23:24:53.270Z"
   },
   {
    "duration": 13,
    "start_time": "2023-03-23T23:24:58.556Z"
   },
   {
    "duration": 22,
    "start_time": "2023-03-23T23:26:29.124Z"
   },
   {
    "duration": 15,
    "start_time": "2023-03-23T23:26:38.684Z"
   },
   {
    "duration": 23,
    "start_time": "2023-03-23T23:27:04.442Z"
   },
   {
    "duration": 36,
    "start_time": "2023-03-23T23:27:28.499Z"
   },
   {
    "duration": 69,
    "start_time": "2023-03-23T23:27:37.451Z"
   },
   {
    "duration": 24,
    "start_time": "2023-03-23T23:27:58.220Z"
   },
   {
    "duration": 4,
    "start_time": "2023-03-23T23:28:09.666Z"
   },
   {
    "duration": 14,
    "start_time": "2023-03-23T23:28:12.628Z"
   },
   {
    "duration": 6,
    "start_time": "2023-03-23T23:28:31.963Z"
   },
   {
    "duration": 24,
    "start_time": "2023-03-23T23:28:34.483Z"
   },
   {
    "duration": 28,
    "start_time": "2023-03-23T23:28:59.363Z"
   },
   {
    "duration": 6,
    "start_time": "2023-03-23T23:29:09.627Z"
   },
   {
    "duration": 20,
    "start_time": "2023-03-23T23:29:12.731Z"
   },
   {
    "duration": 21,
    "start_time": "2023-03-23T23:29:32.971Z"
   },
   {
    "duration": 27,
    "start_time": "2023-03-23T23:29:59.261Z"
   },
   {
    "duration": 6,
    "start_time": "2023-03-23T23:30:09.357Z"
   },
   {
    "duration": 22,
    "start_time": "2023-03-23T23:30:12.563Z"
   },
   {
    "duration": 21,
    "start_time": "2023-03-23T23:30:17.344Z"
   },
   {
    "duration": 3,
    "start_time": "2023-03-23T23:31:18.608Z"
   },
   {
    "duration": 8,
    "start_time": "2023-03-23T23:31:32.959Z"
   },
   {
    "duration": 31,
    "start_time": "2023-03-23T23:31:35.360Z"
   },
   {
    "duration": 3,
    "start_time": "2023-03-23T23:31:59.697Z"
   },
   {
    "duration": 14,
    "start_time": "2023-03-23T23:32:01.793Z"
   },
   {
    "duration": 8,
    "start_time": "2023-03-23T23:32:20.887Z"
   },
   {
    "duration": 18,
    "start_time": "2023-03-23T23:32:23.895Z"
   },
   {
    "duration": 16,
    "start_time": "2023-03-23T23:32:56.959Z"
   },
   {
    "duration": 4,
    "start_time": "2023-03-23T23:34:33.159Z"
   },
   {
    "duration": 15,
    "start_time": "2023-03-23T23:34:42.944Z"
   },
   {
    "duration": 4,
    "start_time": "2023-03-23T23:34:54.886Z"
   },
   {
    "duration": 16,
    "start_time": "2023-03-23T23:35:07.166Z"
   },
   {
    "duration": 3,
    "start_time": "2023-03-23T23:35:20.486Z"
   },
   {
    "duration": 4,
    "start_time": "2023-03-23T23:35:22.830Z"
   },
   {
    "duration": 16,
    "start_time": "2023-03-23T23:35:45.029Z"
   },
   {
    "duration": 16,
    "start_time": "2023-03-23T23:35:52.783Z"
   },
   {
    "duration": 24,
    "start_time": "2023-03-23T23:36:20.966Z"
   },
   {
    "duration": 84,
    "start_time": "2023-03-23T23:36:33.726Z"
   },
   {
    "duration": 20,
    "start_time": "2023-03-23T23:37:02.863Z"
   },
   {
    "duration": 95,
    "start_time": "2023-03-23T23:37:20.052Z"
   },
   {
    "duration": 66,
    "start_time": "2023-03-23T23:37:28.480Z"
   },
   {
    "duration": 15,
    "start_time": "2023-03-23T23:37:33.511Z"
   },
   {
    "duration": 973,
    "start_time": "2023-03-23T23:38:06.125Z"
   },
   {
    "duration": 1448,
    "start_time": "2023-03-23T23:38:25.886Z"
   },
   {
    "duration": 1083,
    "start_time": "2023-03-23T23:38:43.330Z"
   },
   {
    "duration": 65,
    "start_time": "2023-03-23T23:38:52.268Z"
   },
   {
    "duration": 5,
    "start_time": "2023-03-23T23:39:13.526Z"
   },
   {
    "duration": 47,
    "start_time": "2023-03-23T23:39:19.983Z"
   },
   {
    "duration": 51,
    "start_time": "2023-03-23T23:39:36.788Z"
   },
   {
    "duration": 39,
    "start_time": "2023-03-23T23:40:02.146Z"
   },
   {
    "duration": 17,
    "start_time": "2023-03-23T23:40:11.820Z"
   },
   {
    "duration": 6,
    "start_time": "2023-03-23T23:41:41.130Z"
   },
   {
    "duration": 6,
    "start_time": "2023-03-23T23:42:13.563Z"
   },
   {
    "duration": 9,
    "start_time": "2023-03-23T23:42:18.441Z"
   },
   {
    "duration": 7,
    "start_time": "2023-03-23T23:50:49.647Z"
   },
   {
    "duration": 10,
    "start_time": "2023-03-23T23:51:02.019Z"
   },
   {
    "duration": 12,
    "start_time": "2023-03-23T23:51:16.851Z"
   },
   {
    "duration": 9,
    "start_time": "2023-03-23T23:51:38.116Z"
   },
   {
    "duration": 6,
    "start_time": "2023-03-23T23:51:42.684Z"
   },
   {
    "duration": 6,
    "start_time": "2023-03-23T23:51:53.889Z"
   },
   {
    "duration": 41,
    "start_time": "2023-03-23T23:53:06.292Z"
   },
   {
    "duration": 82,
    "start_time": "2023-03-23T23:53:42.163Z"
   },
   {
    "duration": 14,
    "start_time": "2023-03-23T23:53:59.171Z"
   },
   {
    "duration": 48,
    "start_time": "2023-03-23T23:54:10.059Z"
   },
   {
    "duration": 22,
    "start_time": "2023-03-23T23:54:22.419Z"
   },
   {
    "duration": 8,
    "start_time": "2023-03-23T23:57:08.904Z"
   },
   {
    "duration": 26,
    "start_time": "2023-03-23T23:57:17.434Z"
   },
   {
    "duration": 10,
    "start_time": "2023-03-23T23:57:23.551Z"
   },
   {
    "duration": 5,
    "start_time": "2023-03-23T23:57:35.591Z"
   },
   {
    "duration": 8,
    "start_time": "2023-03-23T23:58:46.894Z"
   },
   {
    "duration": 18,
    "start_time": "2023-03-23T23:58:50.639Z"
   },
   {
    "duration": 30,
    "start_time": "2023-03-23T23:58:56.462Z"
   },
   {
    "duration": 3,
    "start_time": "2023-03-23T23:59:15.295Z"
   },
   {
    "duration": 17,
    "start_time": "2023-03-23T23:59:24.013Z"
   },
   {
    "duration": 23,
    "start_time": "2023-03-23T23:59:26.683Z"
   },
   {
    "duration": 38,
    "start_time": "2023-03-24T00:01:34.829Z"
   },
   {
    "duration": 23,
    "start_time": "2023-03-24T00:01:47.638Z"
   },
   {
    "duration": 65,
    "start_time": "2023-03-24T00:03:56.308Z"
   },
   {
    "duration": 7,
    "start_time": "2023-03-24T00:04:02.683Z"
   },
   {
    "duration": 5,
    "start_time": "2023-03-24T00:04:15.131Z"
   },
   {
    "duration": 990,
    "start_time": "2023-03-24T00:10:07.787Z"
   },
   {
    "duration": 818,
    "start_time": "2023-03-24T00:10:17.368Z"
   },
   {
    "duration": 715,
    "start_time": "2023-03-24T00:10:33.968Z"
   },
   {
    "duration": 8,
    "start_time": "2023-03-24T00:13:43.087Z"
   },
   {
    "duration": 792,
    "start_time": "2023-03-24T00:14:51.087Z"
   },
   {
    "duration": 22,
    "start_time": "2023-03-24T00:20:07.760Z"
   },
   {
    "duration": 24,
    "start_time": "2023-03-24T00:20:38.104Z"
   },
   {
    "duration": 968,
    "start_time": "2023-03-24T00:21:05.727Z"
   },
   {
    "duration": 14,
    "start_time": "2023-03-24T00:22:32.996Z"
   },
   {
    "duration": 1659,
    "start_time": "2023-03-24T00:22:45.893Z"
   },
   {
    "duration": 96888,
    "start_time": "2023-03-24T00:23:28.653Z"
   },
   {
    "duration": 3,
    "start_time": "2023-03-24T00:32:26.445Z"
   },
   {
    "duration": 8,
    "start_time": "2023-03-24T00:33:03.486Z"
   },
   {
    "duration": 402,
    "start_time": "2023-03-24T00:33:13.900Z"
   },
   {
    "duration": 7,
    "start_time": "2023-03-24T00:34:38.227Z"
   },
   {
    "duration": 42,
    "start_time": "2023-03-24T00:34:51.724Z"
   },
   {
    "duration": 53,
    "start_time": "2023-03-24T00:35:10.538Z"
   },
   {
    "duration": 22,
    "start_time": "2023-03-24T00:35:25.070Z"
   },
   {
    "duration": 12,
    "start_time": "2023-03-24T00:35:42.011Z"
   },
   {
    "duration": 11,
    "start_time": "2023-03-24T00:36:11.724Z"
   },
   {
    "duration": 6,
    "start_time": "2023-03-24T00:36:59.036Z"
   },
   {
    "duration": 41,
    "start_time": "2023-03-24T00:37:34.010Z"
   },
   {
    "duration": 23,
    "start_time": "2023-03-24T00:37:53.066Z"
   },
   {
    "duration": 1639,
    "start_time": "2023-03-24T00:38:40.202Z"
   },
   {
    "duration": 3177,
    "start_time": "2023-03-24T00:40:07.015Z"
   },
   {
    "duration": 2108,
    "start_time": "2023-03-24T00:40:44.048Z"
   },
   {
    "duration": 5949,
    "start_time": "2023-03-24T00:40:58.369Z"
   },
   {
    "duration": 41,
    "start_time": "2023-03-24T00:41:43.630Z"
   },
   {
    "duration": 1320,
    "start_time": "2023-03-24T00:41:58.769Z"
   },
   {
    "duration": 26,
    "start_time": "2023-03-24T00:42:08.728Z"
   },
   {
    "duration": 54,
    "start_time": "2023-03-24T00:42:38.085Z"
   },
   {
    "duration": 68,
    "start_time": "2023-03-24T00:42:45.919Z"
   },
   {
    "duration": 19,
    "start_time": "2023-03-24T00:44:01.798Z"
   },
   {
    "duration": 0,
    "start_time": "2023-03-24T00:45:51.933Z"
   },
   {
    "duration": 1275,
    "start_time": "2023-03-24T00:47:38.382Z"
   },
   {
    "duration": 1723,
    "start_time": "2023-03-24T00:52:56.954Z"
   },
   {
    "duration": 1851,
    "start_time": "2023-03-24T00:53:18.999Z"
   },
   {
    "duration": 18,
    "start_time": "2023-03-24T00:54:41.544Z"
   },
   {
    "duration": 1722,
    "start_time": "2023-03-24T00:54:59.424Z"
   },
   {
    "duration": 8,
    "start_time": "2023-03-24T01:17:41.212Z"
   },
   {
    "duration": 363,
    "start_time": "2023-03-24T01:17:58.418Z"
   },
   {
    "duration": 530,
    "start_time": "2023-03-24T01:21:00.250Z"
   },
   {
    "duration": 12,
    "start_time": "2023-03-24T01:22:47.899Z"
   },
   {
    "duration": 761,
    "start_time": "2023-03-24T01:23:07.048Z"
   },
   {
    "duration": 3,
    "start_time": "2023-03-24T01:23:52.543Z"
   },
   {
    "duration": 856,
    "start_time": "2023-03-24T01:23:58.937Z"
   },
   {
    "duration": 3,
    "start_time": "2023-03-24T01:24:17.823Z"
   },
   {
    "duration": 885,
    "start_time": "2023-03-24T01:24:22.900Z"
   },
   {
    "duration": 1706,
    "start_time": "2023-03-24T01:25:38.691Z"
   },
   {
    "duration": 97342,
    "start_time": "2023-03-24T01:25:53.160Z"
   },
   {
    "duration": 7,
    "start_time": "2023-03-24T01:38:22.191Z"
   },
   {
    "duration": 8,
    "start_time": "2023-03-24T01:39:06.702Z"
   },
   {
    "duration": 4,
    "start_time": "2023-03-24T01:39:36.711Z"
   },
   {
    "duration": 8,
    "start_time": "2023-03-24T01:39:51.492Z"
   },
   {
    "duration": 4,
    "start_time": "2023-03-24T01:40:04.199Z"
   },
   {
    "duration": 939,
    "start_time": "2023-03-24T01:40:27.536Z"
   },
   {
    "duration": 8,
    "start_time": "2023-03-24T01:41:33.118Z"
   },
   {
    "duration": 42,
    "start_time": "2023-03-24T01:41:37.500Z"
   },
   {
    "duration": 3,
    "start_time": "2023-03-24T01:41:58.918Z"
   },
   {
    "duration": 997,
    "start_time": "2023-03-24T01:42:08.796Z"
   },
   {
    "duration": 30,
    "start_time": "2023-03-24T01:42:24.808Z"
   },
   {
    "duration": 6,
    "start_time": "2023-03-24T01:42:38.195Z"
   },
   {
    "duration": 36,
    "start_time": "2023-03-24T01:42:50.863Z"
   },
   {
    "duration": 10,
    "start_time": "2023-03-24T01:43:32.038Z"
   },
   {
    "duration": 14,
    "start_time": "2023-03-24T01:43:45.039Z"
   },
   {
    "duration": 12,
    "start_time": "2023-03-24T01:43:59.727Z"
   },
   {
    "duration": 4,
    "start_time": "2023-03-24T01:44:14.662Z"
   },
   {
    "duration": 3,
    "start_time": "2023-03-24T01:45:09.239Z"
   },
   {
    "duration": 8,
    "start_time": "2023-03-24T01:45:11.173Z"
   },
   {
    "duration": 1115,
    "start_time": "2023-03-24T01:45:15.895Z"
   },
   {
    "duration": 20,
    "start_time": "2023-03-24T01:45:26.716Z"
   },
   {
    "duration": 12,
    "start_time": "2023-03-24T01:45:35.898Z"
   },
   {
    "duration": 86249,
    "start_time": "2023-03-24T01:46:44.234Z"
   },
   {
    "duration": 0,
    "start_time": "2023-03-24T01:48:10.493Z"
   },
   {
    "duration": 26242,
    "start_time": "2023-03-24T01:48:20.316Z"
   },
   {
    "duration": 1111,
    "start_time": "2023-03-24T01:49:12.098Z"
   },
   {
    "duration": 735,
    "start_time": "2023-03-24T01:49:13.211Z"
   },
   {
    "duration": 38,
    "start_time": "2023-03-24T01:49:13.947Z"
   },
   {
    "duration": 27,
    "start_time": "2023-03-24T01:49:13.986Z"
   },
   {
    "duration": 8,
    "start_time": "2023-03-24T01:49:14.014Z"
   },
   {
    "duration": 7,
    "start_time": "2023-03-24T01:49:14.024Z"
   },
   {
    "duration": 57,
    "start_time": "2023-03-24T01:49:14.032Z"
   },
   {
    "duration": 25,
    "start_time": "2023-03-24T01:49:14.091Z"
   },
   {
    "duration": 8,
    "start_time": "2023-03-24T01:49:14.118Z"
   },
   {
    "duration": 7,
    "start_time": "2023-03-24T01:49:14.127Z"
   },
   {
    "duration": 5,
    "start_time": "2023-03-24T01:49:14.136Z"
   },
   {
    "duration": 18,
    "start_time": "2023-03-24T01:49:14.142Z"
   },
   {
    "duration": 16,
    "start_time": "2023-03-24T01:49:14.161Z"
   },
   {
    "duration": 9,
    "start_time": "2023-03-24T01:49:14.184Z"
   },
   {
    "duration": 10,
    "start_time": "2023-03-24T01:49:14.199Z"
   },
   {
    "duration": 8,
    "start_time": "2023-03-24T01:49:14.211Z"
   },
   {
    "duration": 10,
    "start_time": "2023-03-24T01:49:14.220Z"
   },
   {
    "duration": 122,
    "start_time": "2023-03-24T01:49:14.232Z"
   },
   {
    "duration": 99,
    "start_time": "2023-03-24T01:49:14.355Z"
   },
   {
    "duration": 5,
    "start_time": "2023-03-24T01:49:14.456Z"
   },
   {
    "duration": 15,
    "start_time": "2023-03-24T01:49:14.462Z"
   },
   {
    "duration": 33,
    "start_time": "2023-03-24T01:49:14.478Z"
   },
   {
    "duration": 10,
    "start_time": "2023-03-24T01:49:14.512Z"
   },
   {
    "duration": 10,
    "start_time": "2023-03-24T01:49:14.523Z"
   },
   {
    "duration": 3,
    "start_time": "2023-03-24T01:49:14.534Z"
   },
   {
    "duration": 14,
    "start_time": "2023-03-24T01:49:14.538Z"
   },
   {
    "duration": 7,
    "start_time": "2023-03-24T01:49:14.554Z"
   },
   {
    "duration": 9,
    "start_time": "2023-03-24T01:49:14.563Z"
   },
   {
    "duration": 183,
    "start_time": "2023-03-24T01:49:14.574Z"
   },
   {
    "duration": 12,
    "start_time": "2023-03-24T01:49:14.758Z"
   },
   {
    "duration": 853,
    "start_time": "2023-03-24T01:49:14.771Z"
   },
   {
    "duration": 601,
    "start_time": "2023-03-24T01:49:15.625Z"
   },
   {
    "duration": 484,
    "start_time": "2023-03-24T01:49:16.227Z"
   },
   {
    "duration": 750,
    "start_time": "2023-03-24T01:49:16.712Z"
   },
   {
    "duration": 843,
    "start_time": "2023-03-24T01:49:17.464Z"
   },
   {
    "duration": 6,
    "start_time": "2023-03-24T01:49:18.308Z"
   },
   {
    "duration": 10,
    "start_time": "2023-03-24T01:49:18.315Z"
   },
   {
    "duration": 9,
    "start_time": "2023-03-24T01:49:18.327Z"
   },
   {
    "duration": 8,
    "start_time": "2023-03-24T01:49:18.338Z"
   },
   {
    "duration": 858,
    "start_time": "2023-03-24T01:49:18.347Z"
   },
   {
    "duration": 4,
    "start_time": "2023-03-24T01:49:19.208Z"
   },
   {
    "duration": 10,
    "start_time": "2023-03-24T01:49:19.213Z"
   },
   {
    "duration": 4,
    "start_time": "2023-03-24T01:49:24.049Z"
   },
   {
    "duration": 2,
    "start_time": "2023-03-24T01:49:37.426Z"
   },
   {
    "duration": 3,
    "start_time": "2023-03-24T01:49:42.402Z"
   },
   {
    "duration": 760,
    "start_time": "2023-03-24T01:49:56.138Z"
   },
   {
    "duration": 802,
    "start_time": "2023-03-24T01:50:11.799Z"
   },
   {
    "duration": 4,
    "start_time": "2023-03-24T01:51:01.457Z"
   },
   {
    "duration": 146,
    "start_time": "2023-03-24T01:51:05.665Z"
   },
   {
    "duration": 24,
    "start_time": "2023-03-24T01:51:55.899Z"
   },
   {
    "duration": 8,
    "start_time": "2023-03-24T01:52:18.553Z"
   },
   {
    "duration": 14,
    "start_time": "2023-03-24T01:52:49.711Z"
   },
   {
    "duration": 92,
    "start_time": "2023-03-24T01:53:26.712Z"
   },
   {
    "duration": 6,
    "start_time": "2023-03-24T01:57:06.234Z"
   },
   {
    "duration": 5,
    "start_time": "2023-03-24T01:57:40.242Z"
   },
   {
    "duration": 42,
    "start_time": "2023-03-24T01:57:58.895Z"
   },
   {
    "duration": 3562,
    "start_time": "2023-03-24T01:58:28.435Z"
   },
   {
    "duration": 5,
    "start_time": "2023-03-24T01:58:34.329Z"
   },
   {
    "duration": 21,
    "start_time": "2023-03-24T01:58:46.568Z"
   },
   {
    "duration": 15,
    "start_time": "2023-03-24T02:00:41.494Z"
   },
   {
    "duration": 2,
    "start_time": "2023-03-24T02:00:50.359Z"
   },
   {
    "duration": 9,
    "start_time": "2023-03-24T02:00:55.099Z"
   },
   {
    "duration": 14,
    "start_time": "2023-03-24T02:01:07.054Z"
   },
   {
    "duration": 12,
    "start_time": "2023-03-24T02:01:43.496Z"
   },
   {
    "duration": 11,
    "start_time": "2023-03-24T02:01:48.045Z"
   },
   {
    "duration": 11,
    "start_time": "2023-03-24T02:02:11.211Z"
   },
   {
    "duration": 3,
    "start_time": "2023-03-24T02:02:19.949Z"
   },
   {
    "duration": 11,
    "start_time": "2023-03-24T02:02:34.052Z"
   },
   {
    "duration": 7,
    "start_time": "2023-03-24T02:02:43.392Z"
   },
   {
    "duration": 12,
    "start_time": "2023-03-24T02:02:48.916Z"
   },
   {
    "duration": 3,
    "start_time": "2023-03-24T02:06:47.802Z"
   },
   {
    "duration": 1017,
    "start_time": "2023-03-24T02:07:32.072Z"
   },
   {
    "duration": 24,
    "start_time": "2023-03-24T02:07:45.981Z"
   },
   {
    "duration": 18,
    "start_time": "2023-03-24T02:07:58.808Z"
   },
   {
    "duration": 6,
    "start_time": "2023-03-24T02:08:05.001Z"
   },
   {
    "duration": 7,
    "start_time": "2023-03-24T02:08:22.294Z"
   },
   {
    "duration": 6,
    "start_time": "2023-03-24T02:08:25.805Z"
   },
   {
    "duration": 4,
    "start_time": "2023-03-24T02:08:36.214Z"
   },
   {
    "duration": 23,
    "start_time": "2023-03-24T02:08:42.070Z"
   },
   {
    "duration": 4,
    "start_time": "2023-03-24T02:08:46.847Z"
   },
   {
    "duration": 22,
    "start_time": "2023-03-24T02:08:54.367Z"
   },
   {
    "duration": 4,
    "start_time": "2023-03-24T02:09:06.543Z"
   },
   {
    "duration": 11,
    "start_time": "2023-03-24T02:09:33.629Z"
   },
   {
    "duration": 17,
    "start_time": "2023-03-24T02:10:03.068Z"
   },
   {
    "duration": 6,
    "start_time": "2023-03-24T02:10:11.494Z"
   },
   {
    "duration": 4,
    "start_time": "2023-03-24T02:10:19.998Z"
   },
   {
    "duration": 25,
    "start_time": "2023-03-24T02:10:29.204Z"
   },
   {
    "duration": 4,
    "start_time": "2023-03-24T02:12:01.299Z"
   },
   {
    "duration": 5,
    "start_time": "2023-03-24T02:12:14.998Z"
   },
   {
    "duration": 13,
    "start_time": "2023-03-24T02:12:55.043Z"
   },
   {
    "duration": 13,
    "start_time": "2023-03-24T02:13:10.850Z"
   },
   {
    "duration": 5,
    "start_time": "2023-03-24T02:13:40.441Z"
   },
   {
    "duration": 2,
    "start_time": "2023-03-24T02:13:49.049Z"
   },
   {
    "duration": 4,
    "start_time": "2023-03-24T02:13:54.042Z"
   },
   {
    "duration": 4,
    "start_time": "2023-03-24T02:14:47.088Z"
   },
   {
    "duration": 7,
    "start_time": "2023-03-24T02:14:51.402Z"
   },
   {
    "duration": 6,
    "start_time": "2023-03-24T02:15:00.893Z"
   },
   {
    "duration": 13,
    "start_time": "2023-03-24T02:15:03.968Z"
   },
   {
    "duration": 93,
    "start_time": "2023-03-24T02:15:17.943Z"
   },
   {
    "duration": 3,
    "start_time": "2023-03-24T02:26:13.429Z"
   },
   {
    "duration": 15,
    "start_time": "2023-03-24T02:26:39.829Z"
   },
   {
    "duration": 12,
    "start_time": "2023-03-24T02:26:59.386Z"
   },
   {
    "duration": 7,
    "start_time": "2023-03-24T02:27:07.317Z"
   },
   {
    "duration": 13,
    "start_time": "2023-03-24T02:27:22.246Z"
   },
   {
    "duration": 9,
    "start_time": "2023-03-24T02:28:10.295Z"
   },
   {
    "duration": 10,
    "start_time": "2023-03-24T02:28:18.096Z"
   },
   {
    "duration": 45,
    "start_time": "2023-03-24T02:28:21.254Z"
   },
   {
    "duration": 9,
    "start_time": "2023-03-24T02:28:39.982Z"
   },
   {
    "duration": 3,
    "start_time": "2023-03-24T02:28:44.821Z"
   },
   {
    "duration": 800,
    "start_time": "2023-03-24T02:28:50.309Z"
   },
   {
    "duration": 4,
    "start_time": "2023-03-24T02:29:38.393Z"
   },
   {
    "duration": 862,
    "start_time": "2023-03-24T02:29:48.317Z"
   },
   {
    "duration": 6,
    "start_time": "2023-03-24T02:31:56.871Z"
   },
   {
    "duration": 3,
    "start_time": "2023-03-24T02:32:12.126Z"
   },
   {
    "duration": 2,
    "start_time": "2023-03-24T02:32:24.103Z"
   },
   {
    "duration": 1023,
    "start_time": "2023-03-24T02:32:32.273Z"
   },
   {
    "duration": 4,
    "start_time": "2023-03-24T02:37:06.600Z"
   },
   {
    "duration": 952,
    "start_time": "2023-03-24T02:37:10.933Z"
   },
   {
    "duration": 3,
    "start_time": "2023-03-24T02:37:56.853Z"
   },
   {
    "duration": 842,
    "start_time": "2023-03-24T02:38:02.255Z"
   },
   {
    "duration": 9,
    "start_time": "2023-03-24T02:40:13.758Z"
   },
   {
    "duration": 893,
    "start_time": "2023-03-24T02:40:21.300Z"
   },
   {
    "duration": 958,
    "start_time": "2023-03-24T02:40:46.837Z"
   },
   {
    "duration": 1001,
    "start_time": "2023-03-24T02:40:57.589Z"
   },
   {
    "duration": 4,
    "start_time": "2023-03-24T02:41:38.598Z"
   },
   {
    "duration": 3,
    "start_time": "2023-03-24T02:41:45.118Z"
   },
   {
    "duration": 1035,
    "start_time": "2023-03-24T02:41:53.244Z"
   },
   {
    "duration": 2,
    "start_time": "2023-03-24T02:42:15.827Z"
   },
   {
    "duration": 3,
    "start_time": "2023-03-24T02:42:18.859Z"
   },
   {
    "duration": 1703,
    "start_time": "2023-03-24T02:42:44.303Z"
   },
   {
    "duration": 94511,
    "start_time": "2023-03-24T02:42:50.925Z"
   },
   {
    "duration": 2788,
    "start_time": "2023-03-24T02:45:04.098Z"
   },
   {
    "duration": 4181,
    "start_time": "2023-03-24T02:45:25.696Z"
   },
   {
    "duration": 4186,
    "start_time": "2023-03-24T02:45:48.061Z"
   },
   {
    "duration": 15,
    "start_time": "2023-03-24T02:46:31.867Z"
   },
   {
    "duration": 14,
    "start_time": "2023-03-24T02:46:49.905Z"
   },
   {
    "duration": 3,
    "start_time": "2023-03-24T02:47:37.715Z"
   },
   {
    "duration": 3,
    "start_time": "2023-03-24T02:49:08.912Z"
   },
   {
    "duration": 4,
    "start_time": "2023-03-24T02:50:02.937Z"
   },
   {
    "duration": 7,
    "start_time": "2023-03-24T02:50:09.702Z"
   },
   {
    "duration": 50,
    "start_time": "2023-03-24T02:50:18.671Z"
   },
   {
    "duration": 4,
    "start_time": "2023-03-24T02:50:27.389Z"
   },
   {
    "duration": 741,
    "start_time": "2023-03-24T02:50:54.040Z"
   },
   {
    "duration": 5365,
    "start_time": "2023-03-24T02:51:49.049Z"
   },
   {
    "duration": 3809,
    "start_time": "2023-03-24T02:52:12.599Z"
   },
   {
    "duration": 3604,
    "start_time": "2023-03-24T02:53:51.614Z"
   },
   {
    "duration": 8,
    "start_time": "2023-03-24T02:57:58.999Z"
   },
   {
    "duration": 9,
    "start_time": "2023-03-24T03:00:00.898Z"
   },
   {
    "duration": 12,
    "start_time": "2023-03-24T03:00:14.200Z"
   },
   {
    "duration": 3,
    "start_time": "2023-03-24T03:01:37.736Z"
   },
   {
    "duration": 5581,
    "start_time": "2023-03-24T03:01:41.400Z"
   },
   {
    "duration": 48,
    "start_time": "2023-03-24T03:01:53.398Z"
   },
   {
    "duration": 5087,
    "start_time": "2023-03-24T03:01:57.601Z"
   },
   {
    "duration": 3,
    "start_time": "2023-03-24T03:03:09.058Z"
   },
   {
    "duration": 6570,
    "start_time": "2023-03-24T03:03:25.831Z"
   },
   {
    "duration": 2,
    "start_time": "2023-03-24T03:04:59.709Z"
   },
   {
    "duration": 362480,
    "start_time": "2023-03-24T03:05:03.692Z"
   },
   {
    "duration": 8,
    "start_time": "2023-03-24T03:14:14.069Z"
   },
   {
    "duration": 2,
    "start_time": "2023-03-24T03:14:30.599Z"
   },
   {
    "duration": 129301,
    "start_time": "2023-03-24T03:15:02.541Z"
   },
   {
    "duration": 6228,
    "start_time": "2023-03-24T03:19:31.701Z"
   },
   {
    "duration": 119,
    "start_time": "2023-03-24T03:26:14.996Z"
   },
   {
    "duration": 187546,
    "start_time": "2023-03-24T03:26:25.620Z"
   },
   {
    "duration": 46,
    "start_time": "2023-03-24T03:29:52.707Z"
   },
   {
    "duration": 277263,
    "start_time": "2023-03-24T03:30:33.665Z"
   },
   {
    "duration": 21,
    "start_time": "2023-03-24T03:39:06.404Z"
   },
   {
    "duration": 40,
    "start_time": "2023-03-24T03:39:22.993Z"
   },
   {
    "duration": 4,
    "start_time": "2023-03-24T03:42:54.740Z"
   },
   {
    "duration": 1013,
    "start_time": "2023-03-24T03:43:22.595Z"
   },
   {
    "duration": 11,
    "start_time": "2023-03-24T03:44:24.442Z"
   },
   {
    "duration": 20,
    "start_time": "2023-03-24T03:44:39.467Z"
   },
   {
    "duration": 47,
    "start_time": "2023-03-24T03:44:54.651Z"
   },
   {
    "duration": 19,
    "start_time": "2023-03-25T07:27:32.297Z"
   },
   {
    "duration": 324,
    "start_time": "2023-03-25T07:27:40.909Z"
   },
   {
    "duration": 8,
    "start_time": "2023-03-25T07:27:46.548Z"
   },
   {
    "duration": 10,
    "start_time": "2023-03-25T07:27:47.421Z"
   },
   {
    "duration": 1402,
    "start_time": "2023-03-25T14:37:20.966Z"
   },
   {
    "duration": 2193,
    "start_time": "2023-03-25T14:37:22.370Z"
   },
   {
    "duration": 19,
    "start_time": "2023-03-25T14:37:24.565Z"
   },
   {
    "duration": 15,
    "start_time": "2023-03-25T14:37:24.586Z"
   },
   {
    "duration": 9,
    "start_time": "2023-03-25T14:37:24.603Z"
   },
   {
    "duration": 10,
    "start_time": "2023-03-25T14:37:24.614Z"
   },
   {
    "duration": 59,
    "start_time": "2023-03-25T14:37:24.625Z"
   },
   {
    "duration": 23,
    "start_time": "2023-03-25T14:37:24.686Z"
   },
   {
    "duration": 38,
    "start_time": "2023-03-25T14:37:24.710Z"
   },
   {
    "duration": 5,
    "start_time": "2023-03-25T14:37:24.753Z"
   },
   {
    "duration": 7,
    "start_time": "2023-03-25T14:37:24.760Z"
   },
   {
    "duration": 102,
    "start_time": "2023-03-25T14:38:19.576Z"
   },
   {
    "duration": 3,
    "start_time": "2023-03-25T14:38:29.214Z"
   },
   {
    "duration": 12,
    "start_time": "2023-03-25T14:38:31.400Z"
   },
   {
    "duration": 7,
    "start_time": "2023-03-25T14:38:34.270Z"
   },
   {
    "duration": 6,
    "start_time": "2023-03-25T14:38:37.054Z"
   },
   {
    "duration": 9,
    "start_time": "2023-03-25T14:44:42.396Z"
   },
   {
    "duration": 3,
    "start_time": "2023-03-25T14:44:49.830Z"
   },
   {
    "duration": 744,
    "start_time": "2023-03-25T14:44:49.835Z"
   },
   {
    "duration": 19,
    "start_time": "2023-03-25T14:44:50.581Z"
   },
   {
    "duration": 10,
    "start_time": "2023-03-25T14:44:50.601Z"
   },
   {
    "duration": 17,
    "start_time": "2023-03-25T14:44:50.643Z"
   },
   {
    "duration": 8,
    "start_time": "2023-03-25T14:44:50.661Z"
   },
   {
    "duration": 51,
    "start_time": "2023-03-25T14:44:50.671Z"
   },
   {
    "duration": 31,
    "start_time": "2023-03-25T14:44:50.740Z"
   },
   {
    "duration": 10,
    "start_time": "2023-03-25T14:44:50.773Z"
   },
   {
    "duration": 6,
    "start_time": "2023-03-25T14:44:50.784Z"
   },
   {
    "duration": 3,
    "start_time": "2023-03-25T14:44:50.792Z"
   },
   {
    "duration": 50,
    "start_time": "2023-03-25T14:44:50.797Z"
   },
   {
    "duration": 7,
    "start_time": "2023-03-25T14:44:50.850Z"
   },
   {
    "duration": 17,
    "start_time": "2023-03-25T14:44:50.859Z"
   },
   {
    "duration": 7,
    "start_time": "2023-03-25T14:44:50.878Z"
   },
   {
    "duration": 7,
    "start_time": "2023-03-25T14:44:50.886Z"
   },
   {
    "duration": 7,
    "start_time": "2023-03-25T14:44:50.895Z"
   },
   {
    "duration": 120,
    "start_time": "2023-03-25T14:44:50.903Z"
   },
   {
    "duration": 139,
    "start_time": "2023-03-25T14:44:51.025Z"
   },
   {
    "duration": 9,
    "start_time": "2023-03-25T14:44:51.166Z"
   },
   {
    "duration": 7,
    "start_time": "2023-03-25T14:44:51.177Z"
   },
   {
    "duration": 29,
    "start_time": "2023-03-25T14:44:51.185Z"
   },
   {
    "duration": 14,
    "start_time": "2023-03-25T14:44:51.215Z"
   },
   {
    "duration": 17,
    "start_time": "2023-03-25T14:44:51.230Z"
   },
   {
    "duration": 4,
    "start_time": "2023-03-25T14:44:51.248Z"
   },
   {
    "duration": 17,
    "start_time": "2023-03-25T14:44:51.255Z"
   },
   {
    "duration": 8,
    "start_time": "2023-03-25T14:44:51.274Z"
   },
   {
    "duration": 15,
    "start_time": "2023-03-25T14:44:51.283Z"
   },
   {
    "duration": 187,
    "start_time": "2023-03-25T14:44:51.301Z"
   },
   {
    "duration": 14,
    "start_time": "2023-03-25T14:44:55.674Z"
   },
   {
    "duration": 8,
    "start_time": "2023-03-25T14:44:59.914Z"
   },
   {
    "duration": 7,
    "start_time": "2023-03-25T14:45:13.594Z"
   },
   {
    "duration": 482,
    "start_time": "2023-03-25T14:49:05.641Z"
   },
   {
    "duration": 6,
    "start_time": "2023-03-25T14:50:38.256Z"
   },
   {
    "duration": 6,
    "start_time": "2023-03-25T14:52:30.659Z"
   },
   {
    "duration": 858,
    "start_time": "2023-03-25T14:52:30.667Z"
   },
   {
    "duration": 31,
    "start_time": "2023-03-25T14:52:31.527Z"
   },
   {
    "duration": 11,
    "start_time": "2023-03-25T14:52:31.560Z"
   },
   {
    "duration": 18,
    "start_time": "2023-03-25T14:52:31.573Z"
   },
   {
    "duration": 16,
    "start_time": "2023-03-25T14:52:31.593Z"
   },
   {
    "duration": 82,
    "start_time": "2023-03-25T14:52:31.611Z"
   },
   {
    "duration": 26,
    "start_time": "2023-03-25T14:52:31.695Z"
   },
   {
    "duration": 30,
    "start_time": "2023-03-25T14:52:31.723Z"
   },
   {
    "duration": 9,
    "start_time": "2023-03-25T14:52:31.756Z"
   },
   {
    "duration": 11,
    "start_time": "2023-03-25T14:52:31.767Z"
   },
   {
    "duration": 23,
    "start_time": "2023-03-25T14:52:31.780Z"
   },
   {
    "duration": 6,
    "start_time": "2023-03-25T14:52:31.805Z"
   },
   {
    "duration": 16,
    "start_time": "2023-03-25T14:52:31.814Z"
   },
   {
    "duration": 10,
    "start_time": "2023-03-25T14:52:31.842Z"
   },
   {
    "duration": 22,
    "start_time": "2023-03-25T14:52:31.859Z"
   },
   {
    "duration": 22,
    "start_time": "2023-03-25T14:52:31.883Z"
   },
   {
    "duration": 128,
    "start_time": "2023-03-25T14:52:31.907Z"
   },
   {
    "duration": 142,
    "start_time": "2023-03-25T14:52:32.036Z"
   },
   {
    "duration": 8,
    "start_time": "2023-03-25T14:52:32.179Z"
   },
   {
    "duration": 7,
    "start_time": "2023-03-25T14:52:32.189Z"
   },
   {
    "duration": 9,
    "start_time": "2023-03-25T14:52:32.198Z"
   },
   {
    "duration": 14,
    "start_time": "2023-03-25T14:52:32.242Z"
   },
   {
    "duration": 16,
    "start_time": "2023-03-25T14:52:32.258Z"
   },
   {
    "duration": 4,
    "start_time": "2023-03-25T14:52:32.275Z"
   },
   {
    "duration": 13,
    "start_time": "2023-03-25T14:52:32.281Z"
   },
   {
    "duration": 10,
    "start_time": "2023-03-25T14:52:32.296Z"
   },
   {
    "duration": 45,
    "start_time": "2023-03-25T14:52:32.308Z"
   },
   {
    "duration": 171,
    "start_time": "2023-03-25T14:52:32.355Z"
   },
   {
    "duration": 18,
    "start_time": "2023-03-25T14:52:32.528Z"
   },
   {
    "duration": 9,
    "start_time": "2023-03-25T14:52:32.548Z"
   },
   {
    "duration": 11,
    "start_time": "2023-03-25T14:52:32.564Z"
   },
   {
    "duration": 733,
    "start_time": "2023-03-25T14:52:32.577Z"
   },
   {
    "duration": 554,
    "start_time": "2023-03-25T14:52:33.311Z"
   },
   {
    "duration": 556,
    "start_time": "2023-03-25T14:52:33.866Z"
   },
   {
    "duration": 1077,
    "start_time": "2023-03-25T14:52:34.423Z"
   },
   {
    "duration": 23,
    "start_time": "2023-03-25T14:53:04.606Z"
   },
   {
    "duration": 751,
    "start_time": "2023-03-25T14:53:09.038Z"
   },
   {
    "duration": 43,
    "start_time": "2023-03-25T14:53:12.758Z"
   },
   {
    "duration": 122,
    "start_time": "2023-03-25T14:54:26.933Z"
   },
   {
    "duration": 9,
    "start_time": "2023-03-25T14:54:54.108Z"
   },
   {
    "duration": 336,
    "start_time": "2023-03-25T14:55:28.590Z"
   },
   {
    "duration": 531,
    "start_time": "2023-03-25T14:56:05.981Z"
   },
   {
    "duration": 705,
    "start_time": "2023-03-25T14:56:54.236Z"
   },
   {
    "duration": 16,
    "start_time": "2023-03-25T14:57:41.499Z"
   },
   {
    "duration": 342,
    "start_time": "2023-03-25T14:57:54.793Z"
   },
   {
    "duration": 19,
    "start_time": "2023-03-25T15:01:40.959Z"
   },
   {
    "duration": 389,
    "start_time": "2023-03-25T15:02:03.135Z"
   },
   {
    "duration": 423,
    "start_time": "2023-03-25T15:05:09.388Z"
   },
   {
    "duration": 365,
    "start_time": "2023-03-25T15:05:17.453Z"
   },
   {
    "duration": 15,
    "start_time": "2023-03-25T15:06:04.732Z"
   },
   {
    "duration": 14,
    "start_time": "2023-03-25T15:06:12.164Z"
   },
   {
    "duration": 16,
    "start_time": "2023-03-25T15:06:47.831Z"
   },
   {
    "duration": 14,
    "start_time": "2023-03-25T15:07:04.797Z"
   },
   {
    "duration": 350,
    "start_time": "2023-03-25T15:07:49.445Z"
   },
   {
    "duration": 397,
    "start_time": "2023-03-25T15:08:00.099Z"
   },
   {
    "duration": 20,
    "start_time": "2023-03-25T15:08:06.267Z"
   },
   {
    "duration": 397,
    "start_time": "2023-03-25T15:11:26.296Z"
   },
   {
    "duration": 410,
    "start_time": "2023-03-25T15:11:45.776Z"
   },
   {
    "duration": 383,
    "start_time": "2023-03-25T15:11:52.128Z"
   },
   {
    "duration": 402,
    "start_time": "2023-03-25T15:12:15.415Z"
   },
   {
    "duration": 383,
    "start_time": "2023-03-25T15:14:36.654Z"
   },
   {
    "duration": 372,
    "start_time": "2023-03-25T15:14:46.758Z"
   },
   {
    "duration": 456,
    "start_time": "2023-03-25T15:19:21.281Z"
   },
   {
    "duration": 511,
    "start_time": "2023-03-25T15:19:36.844Z"
   },
   {
    "duration": 4,
    "start_time": "2023-03-25T15:20:53.914Z"
   },
   {
    "duration": 439,
    "start_time": "2023-03-25T15:21:01.105Z"
   },
   {
    "duration": 406,
    "start_time": "2023-03-25T15:21:17.714Z"
   },
   {
    "duration": 408,
    "start_time": "2023-03-25T15:21:37.042Z"
   },
   {
    "duration": 426,
    "start_time": "2023-03-25T15:23:01.522Z"
   },
   {
    "duration": 436,
    "start_time": "2023-03-25T15:23:22.312Z"
   },
   {
    "duration": 474,
    "start_time": "2023-03-25T15:24:21.951Z"
   },
   {
    "duration": 435,
    "start_time": "2023-03-25T15:26:55.189Z"
   },
   {
    "duration": 397,
    "start_time": "2023-03-25T15:28:26.732Z"
   },
   {
    "duration": 389,
    "start_time": "2023-03-25T15:28:39.260Z"
   },
   {
    "duration": 380,
    "start_time": "2023-03-25T15:29:18.498Z"
   },
   {
    "duration": 451,
    "start_time": "2023-03-25T15:31:06.971Z"
   },
   {
    "duration": 515,
    "start_time": "2023-03-25T15:31:32.819Z"
   },
   {
    "duration": 566,
    "start_time": "2023-03-25T15:31:41.001Z"
   },
   {
    "duration": 410,
    "start_time": "2023-03-25T15:31:59.266Z"
   },
   {
    "duration": 11,
    "start_time": "2023-03-25T15:32:29.747Z"
   },
   {
    "duration": 52,
    "start_time": "2023-03-25T15:33:01.609Z"
   },
   {
    "duration": 47,
    "start_time": "2023-03-25T15:33:32.840Z"
   },
   {
    "duration": 44,
    "start_time": "2023-03-25T15:33:37.919Z"
   },
   {
    "duration": 44,
    "start_time": "2023-03-25T15:33:41.354Z"
   },
   {
    "duration": 13,
    "start_time": "2023-03-25T15:33:52.048Z"
   },
   {
    "duration": 466,
    "start_time": "2023-03-25T15:34:04.817Z"
   },
   {
    "duration": 399,
    "start_time": "2023-03-25T15:34:09.233Z"
   },
   {
    "duration": 419,
    "start_time": "2023-03-25T15:34:28.919Z"
   },
   {
    "duration": 430,
    "start_time": "2023-03-25T15:35:14.400Z"
   },
   {
    "duration": 544,
    "start_time": "2023-03-25T15:35:58.737Z"
   },
   {
    "duration": 367,
    "start_time": "2023-03-25T15:36:46.928Z"
   },
   {
    "duration": 356,
    "start_time": "2023-03-25T15:37:21.279Z"
   },
   {
    "duration": 172,
    "start_time": "2023-03-25T15:37:56.038Z"
   },
   {
    "duration": 225,
    "start_time": "2023-03-25T15:38:13.518Z"
   },
   {
    "duration": 4,
    "start_time": "2023-03-25T15:38:32.991Z"
   },
   {
    "duration": 453,
    "start_time": "2023-03-25T15:38:39.055Z"
   },
   {
    "duration": 426,
    "start_time": "2023-03-25T15:39:40.094Z"
   },
   {
    "duration": 5,
    "start_time": "2023-03-25T15:44:19.419Z"
   },
   {
    "duration": 9,
    "start_time": "2023-03-25T15:44:24.785Z"
   },
   {
    "duration": 4,
    "start_time": "2023-03-25T15:44:27.817Z"
   },
   {
    "duration": 15,
    "start_time": "2023-03-25T15:44:29.753Z"
   },
   {
    "duration": 16,
    "start_time": "2023-03-25T15:44:36.084Z"
   },
   {
    "duration": 899,
    "start_time": "2023-03-25T15:44:36.103Z"
   },
   {
    "duration": 20,
    "start_time": "2023-03-25T15:44:37.004Z"
   },
   {
    "duration": 23,
    "start_time": "2023-03-25T15:44:37.027Z"
   },
   {
    "duration": 15,
    "start_time": "2023-03-25T15:44:37.052Z"
   },
   {
    "duration": 15,
    "start_time": "2023-03-25T15:44:37.069Z"
   },
   {
    "duration": 118,
    "start_time": "2023-03-25T15:44:37.086Z"
   },
   {
    "duration": 47,
    "start_time": "2023-03-25T15:44:37.206Z"
   },
   {
    "duration": 14,
    "start_time": "2023-03-25T15:44:37.255Z"
   },
   {
    "duration": 13,
    "start_time": "2023-03-25T15:44:37.273Z"
   },
   {
    "duration": 4,
    "start_time": "2023-03-25T15:44:37.288Z"
   },
   {
    "duration": 48,
    "start_time": "2023-03-25T15:44:37.294Z"
   },
   {
    "duration": 8,
    "start_time": "2023-03-25T15:44:37.345Z"
   },
   {
    "duration": 6,
    "start_time": "2023-03-25T15:44:37.355Z"
   },
   {
    "duration": 6,
    "start_time": "2023-03-25T15:44:37.363Z"
   },
   {
    "duration": 12,
    "start_time": "2023-03-25T15:44:37.371Z"
   },
   {
    "duration": 8,
    "start_time": "2023-03-25T15:44:37.385Z"
   },
   {
    "duration": 155,
    "start_time": "2023-03-25T15:44:37.395Z"
   },
   {
    "duration": 131,
    "start_time": "2023-03-25T15:44:37.552Z"
   },
   {
    "duration": 7,
    "start_time": "2023-03-25T15:44:37.684Z"
   },
   {
    "duration": 6,
    "start_time": "2023-03-25T15:44:37.692Z"
   },
   {
    "duration": 45,
    "start_time": "2023-03-25T15:44:37.700Z"
   },
   {
    "duration": 36,
    "start_time": "2023-03-25T15:44:37.747Z"
   },
   {
    "duration": 43,
    "start_time": "2023-03-25T15:44:37.785Z"
   },
   {
    "duration": 31,
    "start_time": "2023-03-25T15:44:37.830Z"
   },
   {
    "duration": 14,
    "start_time": "2023-03-25T15:44:37.863Z"
   },
   {
    "duration": 8,
    "start_time": "2023-03-25T15:44:37.879Z"
   },
   {
    "duration": 4,
    "start_time": "2023-03-25T15:44:37.888Z"
   },
   {
    "duration": 177,
    "start_time": "2023-03-25T15:44:37.893Z"
   },
   {
    "duration": 11,
    "start_time": "2023-03-25T15:44:38.072Z"
   },
   {
    "duration": 9,
    "start_time": "2023-03-25T15:44:38.085Z"
   },
   {
    "duration": 9,
    "start_time": "2023-03-25T15:44:38.095Z"
   },
   {
    "duration": 552,
    "start_time": "2023-03-25T15:44:38.106Z"
   },
   {
    "duration": 546,
    "start_time": "2023-03-25T15:44:38.659Z"
   },
   {
    "duration": 501,
    "start_time": "2023-03-25T15:44:39.206Z"
   },
   {
    "duration": 895,
    "start_time": "2023-03-25T15:44:39.709Z"
   },
   {
    "duration": 737,
    "start_time": "2023-03-25T15:44:40.607Z"
   },
   {
    "duration": 467,
    "start_time": "2023-03-25T15:44:41.346Z"
   },
   {
    "duration": 400,
    "start_time": "2023-03-25T15:44:41.815Z"
   },
   {
    "duration": 5,
    "start_time": "2023-03-25T15:44:42.217Z"
   },
   {
    "duration": 10,
    "start_time": "2023-03-25T15:44:42.223Z"
   },
   {
    "duration": 5,
    "start_time": "2023-03-25T15:44:42.241Z"
   },
   {
    "duration": 5,
    "start_time": "2023-03-25T15:44:42.248Z"
   },
   {
    "duration": 853,
    "start_time": "2023-03-25T15:44:42.255Z"
   },
   {
    "duration": 7,
    "start_time": "2023-03-25T15:44:43.110Z"
   },
   {
    "duration": 28,
    "start_time": "2023-03-25T15:44:43.119Z"
   },
   {
    "duration": 44,
    "start_time": "2023-03-25T15:44:43.150Z"
   },
   {
    "duration": 3,
    "start_time": "2023-03-25T15:44:43.196Z"
   },
   {
    "duration": 2,
    "start_time": "2023-03-25T15:44:45.506Z"
   },
   {
    "duration": 2590,
    "start_time": "2023-03-25T15:44:47.657Z"
   },
   {
    "duration": 45,
    "start_time": "2023-03-25T15:45:43.505Z"
   },
   {
    "duration": 2602,
    "start_time": "2023-03-25T15:45:47.545Z"
   },
   {
    "duration": 48,
    "start_time": "2023-03-25T15:46:59.129Z"
   },
   {
    "duration": 46,
    "start_time": "2023-03-25T15:47:19.482Z"
   },
   {
    "duration": 51,
    "start_time": "2023-03-25T15:47:40.831Z"
   },
   {
    "duration": 46,
    "start_time": "2023-03-25T15:47:51.418Z"
   },
   {
    "duration": 4,
    "start_time": "2023-03-25T15:48:15.977Z"
   },
   {
    "duration": 55,
    "start_time": "2023-03-25T15:48:24.431Z"
   },
   {
    "duration": 43,
    "start_time": "2023-03-25T15:49:08.583Z"
   },
   {
    "duration": 4,
    "start_time": "2023-03-25T15:49:28.063Z"
   },
   {
    "duration": 7,
    "start_time": "2023-03-25T15:49:34.990Z"
   },
   {
    "duration": 5,
    "start_time": "2023-03-25T15:50:09.647Z"
   },
   {
    "duration": 2218,
    "start_time": "2023-03-25T15:50:19.829Z"
   },
   {
    "duration": 5,
    "start_time": "2023-03-25T15:50:48.758Z"
   },
   {
    "duration": 2330,
    "start_time": "2023-03-25T15:50:54.616Z"
   },
   {
    "duration": 67,
    "start_time": "2023-03-25T15:51:30.326Z"
   },
   {
    "duration": 6,
    "start_time": "2023-03-25T15:52:06.941Z"
   },
   {
    "duration": 5,
    "start_time": "2023-03-25T15:53:07.496Z"
   },
   {
    "duration": 2593,
    "start_time": "2023-03-25T15:53:12.660Z"
   },
   {
    "duration": 73,
    "start_time": "2023-03-25T15:53:49.014Z"
   },
   {
    "duration": 50,
    "start_time": "2023-03-25T15:53:56.172Z"
   },
   {
    "duration": 47,
    "start_time": "2023-03-25T15:54:01.204Z"
   },
   {
    "duration": 5,
    "start_time": "2023-03-25T15:54:04.966Z"
   },
   {
    "duration": 2714,
    "start_time": "2023-03-25T15:54:09.532Z"
   },
   {
    "duration": 5,
    "start_time": "2023-03-25T15:54:54.741Z"
   },
   {
    "duration": 2730,
    "start_time": "2023-03-25T15:54:58.412Z"
   },
   {
    "duration": 5,
    "start_time": "2023-03-25T15:55:56.954Z"
   },
   {
    "duration": 6,
    "start_time": "2023-03-25T15:56:31.018Z"
   },
   {
    "duration": 2988,
    "start_time": "2023-03-25T15:56:45.956Z"
   },
   {
    "duration": 54,
    "start_time": "2023-03-25T15:56:55.226Z"
   },
   {
    "duration": 9,
    "start_time": "2023-03-25T15:56:58.082Z"
   },
   {
    "duration": 4,
    "start_time": "2023-03-25T15:57:13.773Z"
   },
   {
    "duration": 819,
    "start_time": "2023-03-25T15:57:16.305Z"
   },
   {
    "duration": 246816,
    "start_time": "2023-03-25T15:57:26.337Z"
   },
   {
    "duration": 53,
    "start_time": "2023-03-25T16:03:42.014Z"
   },
   {
    "duration": 45,
    "start_time": "2023-03-25T16:03:53.916Z"
   },
   {
    "duration": 48,
    "start_time": "2023-03-25T16:04:15.279Z"
   },
   {
    "duration": 38,
    "start_time": "2023-03-25T16:04:49.318Z"
   },
   {
    "duration": 39,
    "start_time": "2023-03-25T16:05:15.876Z"
   },
   {
    "duration": 7,
    "start_time": "2023-03-25T16:05:36.662Z"
   },
   {
    "duration": 8,
    "start_time": "2023-03-25T16:06:42.052Z"
   },
   {
    "duration": 6,
    "start_time": "2023-03-25T16:08:45.258Z"
   },
   {
    "duration": 4075,
    "start_time": "2023-03-25T16:12:58.751Z"
   },
   {
    "duration": 4,
    "start_time": "2023-03-25T16:13:21.173Z"
   },
   {
    "duration": 6169,
    "start_time": "2023-03-25T16:13:23.638Z"
   },
   {
    "duration": 4,
    "start_time": "2023-03-25T16:13:41.494Z"
   },
   {
    "duration": 1167,
    "start_time": "2023-03-25T16:13:44.599Z"
   },
   {
    "duration": 108648,
    "start_time": "2023-03-25T16:21:23.025Z"
   },
   {
    "duration": 875,
    "start_time": "2023-03-25T16:23:33.071Z"
   },
   {
    "duration": 50,
    "start_time": "2023-03-25T16:24:11.982Z"
   },
   {
    "duration": 12,
    "start_time": "2023-03-25T16:24:52.316Z"
   },
   {
    "duration": 4,
    "start_time": "2023-03-25T16:25:26.214Z"
   },
   {
    "duration": 3,
    "start_time": "2023-03-25T16:25:48.894Z"
   },
   {
    "duration": 4,
    "start_time": "2023-03-25T16:25:52.208Z"
   },
   {
    "duration": 793,
    "start_time": "2023-03-25T16:26:09.182Z"
   },
   {
    "duration": 9,
    "start_time": "2023-03-25T16:26:19.903Z"
   },
   {
    "duration": 9,
    "start_time": "2023-03-25T16:26:29.884Z"
   },
   {
    "duration": 5,
    "start_time": "2023-03-25T16:27:39.836Z"
   },
   {
    "duration": 3,
    "start_time": "2023-03-25T16:28:14.685Z"
   },
   {
    "duration": 18,
    "start_time": "2023-03-25T16:28:17.533Z"
   },
   {
    "duration": 5,
    "start_time": "2023-03-25T16:29:02.076Z"
   },
   {
    "duration": 3,
    "start_time": "2023-03-25T16:29:13.516Z"
   },
   {
    "duration": 75,
    "start_time": "2023-03-25T16:30:12.107Z"
   },
   {
    "duration": 4,
    "start_time": "2023-03-25T16:30:32.090Z"
   },
   {
    "duration": 798,
    "start_time": "2023-03-25T16:30:32.096Z"
   },
   {
    "duration": 19,
    "start_time": "2023-03-25T16:30:32.896Z"
   },
   {
    "duration": 10,
    "start_time": "2023-03-25T16:30:32.916Z"
   },
   {
    "duration": 9,
    "start_time": "2023-03-25T16:30:32.941Z"
   },
   {
    "duration": 10,
    "start_time": "2023-03-25T16:30:32.951Z"
   },
   {
    "duration": 46,
    "start_time": "2023-03-25T16:30:54.052Z"
   },
   {
    "duration": 8,
    "start_time": "2023-03-25T16:31:00.635Z"
   },
   {
    "duration": 6,
    "start_time": "2023-03-25T16:31:08.210Z"
   },
   {
    "duration": 3,
    "start_time": "2023-03-25T16:31:31.123Z"
   },
   {
    "duration": 7,
    "start_time": "2023-03-25T16:31:35.546Z"
   },
   {
    "duration": 845,
    "start_time": "2023-03-25T16:39:15.461Z"
   },
   {
    "duration": 8,
    "start_time": "2023-03-25T16:45:09.794Z"
   },
   {
    "duration": 75,
    "start_time": "2023-03-25T16:45:30.185Z"
   },
   {
    "duration": 29,
    "start_time": "2023-03-25T16:47:05.119Z"
   },
   {
    "duration": 50,
    "start_time": "2023-03-25T16:47:21.944Z"
   },
   {
    "duration": 27,
    "start_time": "2023-03-25T16:47:31.960Z"
   },
   {
    "duration": 694,
    "start_time": "2023-03-25T16:49:12.416Z"
   },
   {
    "duration": 6,
    "start_time": "2023-03-25T16:49:17.623Z"
   },
   {
    "duration": 178,
    "start_time": "2023-03-25T16:49:59.869Z"
   },
   {
    "duration": 5,
    "start_time": "2023-03-25T16:50:28.518Z"
   },
   {
    "duration": 1540,
    "start_time": "2023-03-25T16:50:33.509Z"
   },
   {
    "duration": 1454,
    "start_time": "2023-03-25T16:50:42.365Z"
   },
   {
    "duration": 6,
    "start_time": "2023-03-25T16:50:58.198Z"
   },
   {
    "duration": 2515,
    "start_time": "2023-03-25T16:51:02.735Z"
   },
   {
    "duration": 2668,
    "start_time": "2023-03-25T16:51:08.406Z"
   },
   {
    "duration": 861,
    "start_time": "2023-03-25T16:51:18.492Z"
   },
   {
    "duration": 179,
    "start_time": "2023-03-25T16:51:23.452Z"
   },
   {
    "duration": 388,
    "start_time": "2023-03-25T16:51:34.607Z"
   },
   {
    "duration": 6,
    "start_time": "2023-03-25T16:53:36.971Z"
   },
   {
    "duration": 8,
    "start_time": "2023-03-25T16:53:40.949Z"
   },
   {
    "duration": 6,
    "start_time": "2023-03-25T16:54:56.548Z"
   },
   {
    "duration": 8,
    "start_time": "2023-03-25T16:55:07.465Z"
   },
   {
    "duration": 7,
    "start_time": "2023-03-25T16:56:50.475Z"
   },
   {
    "duration": 9,
    "start_time": "2023-03-25T16:57:01.724Z"
   },
   {
    "duration": 8,
    "start_time": "2023-03-25T16:57:09.505Z"
   },
   {
    "duration": 8,
    "start_time": "2023-03-25T16:57:16.153Z"
   },
   {
    "duration": 9,
    "start_time": "2023-03-25T16:57:31.626Z"
   },
   {
    "duration": 6,
    "start_time": "2023-03-25T16:57:38.875Z"
   },
   {
    "duration": 779,
    "start_time": "2023-03-25T16:57:38.884Z"
   },
   {
    "duration": 20,
    "start_time": "2023-03-25T16:57:39.664Z"
   },
   {
    "duration": 10,
    "start_time": "2023-03-25T16:57:39.686Z"
   },
   {
    "duration": 43,
    "start_time": "2023-03-25T16:57:39.699Z"
   },
   {
    "duration": 8,
    "start_time": "2023-03-25T16:57:39.744Z"
   },
   {
    "duration": 9,
    "start_time": "2023-03-25T16:57:39.754Z"
   },
   {
    "duration": 77,
    "start_time": "2023-03-25T16:57:39.765Z"
   },
   {
    "duration": 28,
    "start_time": "2023-03-25T16:57:39.844Z"
   },
   {
    "duration": 12,
    "start_time": "2023-03-25T16:57:39.874Z"
   },
   {
    "duration": 5,
    "start_time": "2023-03-25T16:57:39.888Z"
   },
   {
    "duration": 46,
    "start_time": "2023-03-25T16:57:39.895Z"
   },
   {
    "duration": 4,
    "start_time": "2023-03-25T16:57:39.942Z"
   },
   {
    "duration": 11,
    "start_time": "2023-03-25T16:57:39.949Z"
   },
   {
    "duration": 5,
    "start_time": "2023-03-25T16:57:39.962Z"
   },
   {
    "duration": 6,
    "start_time": "2023-03-25T16:57:39.969Z"
   },
   {
    "duration": 5,
    "start_time": "2023-03-25T16:57:39.977Z"
   },
   {
    "duration": 7,
    "start_time": "2023-03-25T16:57:39.984Z"
   },
   {
    "duration": 7,
    "start_time": "2023-03-25T16:57:40.041Z"
   },
   {
    "duration": 129,
    "start_time": "2023-03-25T16:57:40.050Z"
   },
   {
    "duration": 148,
    "start_time": "2023-03-25T16:57:40.181Z"
   },
   {
    "duration": 13,
    "start_time": "2023-03-25T16:57:40.331Z"
   },
   {
    "duration": 5,
    "start_time": "2023-03-25T16:57:40.346Z"
   },
   {
    "duration": 8,
    "start_time": "2023-03-25T16:57:40.353Z"
   },
   {
    "duration": 24,
    "start_time": "2023-03-25T16:57:40.363Z"
   },
   {
    "duration": 16,
    "start_time": "2023-03-25T16:57:40.390Z"
   },
   {
    "duration": 4,
    "start_time": "2023-03-25T16:57:40.408Z"
   },
   {
    "duration": 10,
    "start_time": "2023-03-25T16:57:40.441Z"
   },
   {
    "duration": 13,
    "start_time": "2023-03-25T16:57:40.453Z"
   },
   {
    "duration": 4,
    "start_time": "2023-03-25T16:57:43.106Z"
   },
   {
    "duration": 14,
    "start_time": "2023-03-25T16:57:49.792Z"
   },
   {
    "duration": 9,
    "start_time": "2023-03-25T16:58:08.376Z"
   },
   {
    "duration": 391,
    "start_time": "2023-03-25T16:59:30.457Z"
   },
   {
    "duration": 830,
    "start_time": "2023-03-25T16:59:38.360Z"
   },
   {
    "duration": 2674,
    "start_time": "2023-03-25T16:59:45.368Z"
   },
   {
    "duration": 354,
    "start_time": "2023-03-25T17:00:14.047Z"
   },
   {
    "duration": 8,
    "start_time": "2023-03-25T17:00:22.320Z"
   },
   {
    "duration": 374,
    "start_time": "2023-03-25T17:00:27.695Z"
   },
   {
    "duration": 2,
    "start_time": "2023-03-25T17:01:57.111Z"
   },
   {
    "duration": 43391,
    "start_time": "2023-03-25T17:02:13.719Z"
   },
   {
    "duration": 347,
    "start_time": "2023-03-25T17:05:25.459Z"
   },
   {
    "duration": 36,
    "start_time": "2023-03-25T17:05:45.108Z"
   },
   {
    "duration": 76,
    "start_time": "2023-03-25T17:08:44.242Z"
   },
   {
    "duration": 58,
    "start_time": "2023-03-25T17:16:09.862Z"
   },
   {
    "duration": 90,
    "start_time": "2023-03-25T17:19:38.332Z"
   },
   {
    "duration": 57,
    "start_time": "2023-03-25T17:20:02.180Z"
   },
   {
    "duration": 9,
    "start_time": "2023-03-25T17:20:13.364Z"
   },
   {
    "duration": 62,
    "start_time": "2023-03-25T17:20:23.402Z"
   },
   {
    "duration": 73,
    "start_time": "2023-03-25T17:20:40.626Z"
   },
   {
    "duration": 8,
    "start_time": "2023-03-25T17:21:03.115Z"
   },
   {
    "duration": 8,
    "start_time": "2023-03-25T17:21:17.641Z"
   },
   {
    "duration": 6,
    "start_time": "2023-03-25T17:21:27.578Z"
   },
   {
    "duration": 7,
    "start_time": "2023-03-25T17:21:33.145Z"
   },
   {
    "duration": 74,
    "start_time": "2023-03-25T17:23:20.080Z"
   },
   {
    "duration": 76,
    "start_time": "2023-03-25T17:23:36.842Z"
   },
   {
    "duration": 68,
    "start_time": "2023-03-25T17:23:54.408Z"
   },
   {
    "duration": 75,
    "start_time": "2023-03-25T17:24:27.057Z"
   },
   {
    "duration": 73,
    "start_time": "2023-03-25T17:24:49.570Z"
   },
   {
    "duration": 67,
    "start_time": "2023-03-25T17:24:54.297Z"
   },
   {
    "duration": 46,
    "start_time": "2023-03-25T17:26:11.679Z"
   },
   {
    "duration": 10,
    "start_time": "2023-03-25T17:28:21.758Z"
   },
   {
    "duration": 2,
    "start_time": "2023-03-25T17:29:22.677Z"
   },
   {
    "duration": 9,
    "start_time": "2023-03-25T17:29:25.218Z"
   },
   {
    "duration": 9,
    "start_time": "2023-03-25T17:29:28.242Z"
   },
   {
    "duration": 4,
    "start_time": "2023-03-25T17:29:30.995Z"
   },
   {
    "duration": 175,
    "start_time": "2023-03-25T17:29:34.690Z"
   },
   {
    "duration": 13,
    "start_time": "2023-03-25T17:29:37.891Z"
   },
   {
    "duration": 41,
    "start_time": "2023-03-25T17:31:42.627Z"
   },
   {
    "duration": 8,
    "start_time": "2023-03-25T17:31:46.481Z"
   },
   {
    "duration": 8,
    "start_time": "2023-03-25T17:31:51.387Z"
   },
   {
    "duration": 45,
    "start_time": "2023-03-25T17:32:27.962Z"
   },
   {
    "duration": 7,
    "start_time": "2023-03-25T17:32:34.474Z"
   },
   {
    "duration": 6,
    "start_time": "2023-03-25T17:32:42.290Z"
   },
   {
    "duration": 76,
    "start_time": "2023-03-25T17:32:52.130Z"
   },
   {
    "duration": 4,
    "start_time": "2023-03-25T17:33:52.072Z"
   },
   {
    "duration": 13,
    "start_time": "2023-03-25T17:34:10.158Z"
   },
   {
    "duration": 15,
    "start_time": "2023-03-25T17:34:32.849Z"
   },
   {
    "duration": 12,
    "start_time": "2023-03-25T17:34:45.354Z"
   },
   {
    "duration": 33,
    "start_time": "2023-03-25T17:35:07.112Z"
   },
   {
    "duration": 340,
    "start_time": "2023-03-25T17:36:06.878Z"
   },
   {
    "duration": 1372,
    "start_time": "2023-03-25T17:43:19.646Z"
   },
   {
    "duration": 717,
    "start_time": "2023-03-25T17:43:21.020Z"
   },
   {
    "duration": 20,
    "start_time": "2023-03-25T17:43:21.741Z"
   },
   {
    "duration": 11,
    "start_time": "2023-03-25T17:43:21.762Z"
   },
   {
    "duration": 8,
    "start_time": "2023-03-25T17:43:21.775Z"
   },
   {
    "duration": 11,
    "start_time": "2023-03-25T17:43:21.784Z"
   },
   {
    "duration": 7,
    "start_time": "2023-03-25T17:43:21.797Z"
   },
   {
    "duration": 92,
    "start_time": "2023-03-25T17:43:21.805Z"
   },
   {
    "duration": 44,
    "start_time": "2023-03-25T17:43:21.899Z"
   },
   {
    "duration": 9,
    "start_time": "2023-03-25T17:43:21.945Z"
   },
   {
    "duration": 5,
    "start_time": "2023-03-25T17:43:21.956Z"
   },
   {
    "duration": 6,
    "start_time": "2023-03-25T17:43:21.963Z"
   },
   {
    "duration": 3,
    "start_time": "2023-03-25T17:43:21.971Z"
   },
   {
    "duration": 9,
    "start_time": "2023-03-25T17:43:21.977Z"
   },
   {
    "duration": 5,
    "start_time": "2023-03-25T17:43:21.987Z"
   },
   {
    "duration": 5,
    "start_time": "2023-03-25T17:43:22.041Z"
   },
   {
    "duration": 5,
    "start_time": "2023-03-25T17:43:22.048Z"
   },
   {
    "duration": 7,
    "start_time": "2023-03-25T17:43:22.054Z"
   },
   {
    "duration": 6,
    "start_time": "2023-03-25T17:43:22.062Z"
   },
   {
    "duration": 136,
    "start_time": "2023-03-25T17:43:22.069Z"
   },
   {
    "duration": 119,
    "start_time": "2023-03-25T17:43:22.207Z"
   },
   {
    "duration": 14,
    "start_time": "2023-03-25T17:43:22.327Z"
   },
   {
    "duration": 6,
    "start_time": "2023-03-25T17:43:22.343Z"
   },
   {
    "duration": 11,
    "start_time": "2023-03-25T17:43:22.351Z"
   },
   {
    "duration": 6,
    "start_time": "2023-03-25T17:43:22.364Z"
   },
   {
    "duration": 10,
    "start_time": "2023-03-25T17:43:22.371Z"
   },
   {
    "duration": 3,
    "start_time": "2023-03-25T17:43:22.383Z"
   },
   {
    "duration": 10,
    "start_time": "2023-03-25T17:43:22.387Z"
   },
   {
    "duration": 45,
    "start_time": "2023-03-25T17:43:22.399Z"
   },
   {
    "duration": 4,
    "start_time": "2023-03-25T17:43:22.445Z"
   },
   {
    "duration": 193,
    "start_time": "2023-03-25T17:43:22.450Z"
   },
   {
    "duration": 13,
    "start_time": "2023-03-25T17:43:22.645Z"
   },
   {
    "duration": 7,
    "start_time": "2023-03-25T17:43:22.659Z"
   },
   {
    "duration": 7,
    "start_time": "2023-03-25T17:43:22.668Z"
   },
   {
    "duration": 554,
    "start_time": "2023-03-25T17:43:22.676Z"
   },
   {
    "duration": 560,
    "start_time": "2023-03-25T17:43:23.232Z"
   },
   {
    "duration": 484,
    "start_time": "2023-03-25T17:43:23.794Z"
   },
   {
    "duration": 876,
    "start_time": "2023-03-25T17:43:24.280Z"
   },
   {
    "duration": 710,
    "start_time": "2023-03-25T17:43:25.158Z"
   },
   {
    "duration": 435,
    "start_time": "2023-03-25T17:43:25.870Z"
   },
   {
    "duration": 400,
    "start_time": "2023-03-25T17:43:26.308Z"
   },
   {
    "duration": 5,
    "start_time": "2023-03-25T17:43:26.710Z"
   },
   {
    "duration": 12,
    "start_time": "2023-03-25T17:43:26.716Z"
   },
   {
    "duration": 15,
    "start_time": "2023-03-25T17:43:26.730Z"
   },
   {
    "duration": 5,
    "start_time": "2023-03-25T17:43:26.747Z"
   },
   {
    "duration": 901,
    "start_time": "2023-03-25T17:43:26.753Z"
   },
   {
    "duration": 5,
    "start_time": "2023-03-25T17:43:27.656Z"
   },
   {
    "duration": 31,
    "start_time": "2023-03-25T17:43:27.662Z"
   },
   {
    "duration": 34,
    "start_time": "2023-03-25T17:43:27.694Z"
   },
   {
    "duration": 2,
    "start_time": "2023-03-25T17:43:27.730Z"
   },
   {
    "duration": 2215,
    "start_time": "2023-03-25T17:43:27.734Z"
   },
   {
    "duration": 3,
    "start_time": "2023-03-25T17:43:30.041Z"
   },
   {
    "duration": 859,
    "start_time": "2023-03-25T17:43:30.046Z"
   },
   {
    "duration": 23924,
    "start_time": "2023-03-25T17:43:30.907Z"
   },
   {
    "duration": 797,
    "start_time": "2023-03-25T17:43:54.832Z"
   },
   {
    "duration": 122,
    "start_time": "2023-03-25T17:43:55.631Z"
   },
   {
    "duration": 76,
    "start_time": "2023-03-25T17:44:29.227Z"
   },
   {
    "duration": 8,
    "start_time": "2023-03-25T17:44:49.874Z"
   },
   {
    "duration": 9,
    "start_time": "2023-03-25T17:47:05.274Z"
   },
   {
    "duration": 42,
    "start_time": "2023-03-25T17:47:29.743Z"
   },
   {
    "duration": 12,
    "start_time": "2023-03-25T17:50:35.973Z"
   },
   {
    "duration": 5,
    "start_time": "2023-03-25T17:51:31.396Z"
   },
   {
    "duration": 9,
    "start_time": "2023-03-25T17:51:57.198Z"
   },
   {
    "duration": 6,
    "start_time": "2023-03-25T17:52:02.997Z"
   },
   {
    "duration": 10,
    "start_time": "2023-03-25T17:54:16.467Z"
   },
   {
    "duration": 1456,
    "start_time": "2023-03-25T17:55:02.816Z"
   },
   {
    "duration": 752,
    "start_time": "2023-03-25T17:55:04.274Z"
   },
   {
    "duration": 28,
    "start_time": "2023-03-25T17:55:05.028Z"
   },
   {
    "duration": 14,
    "start_time": "2023-03-25T17:55:05.058Z"
   },
   {
    "duration": 12,
    "start_time": "2023-03-25T17:55:05.074Z"
   },
   {
    "duration": 7,
    "start_time": "2023-03-25T17:55:05.089Z"
   },
   {
    "duration": 45,
    "start_time": "2023-03-25T17:55:05.098Z"
   },
   {
    "duration": 70,
    "start_time": "2023-03-25T17:55:05.145Z"
   },
   {
    "duration": 44,
    "start_time": "2023-03-25T17:55:05.217Z"
   },
   {
    "duration": 11,
    "start_time": "2023-03-25T17:55:05.265Z"
   },
   {
    "duration": 35,
    "start_time": "2023-03-25T17:55:05.277Z"
   },
   {
    "duration": 27,
    "start_time": "2023-03-25T17:55:05.313Z"
   },
   {
    "duration": 12,
    "start_time": "2023-03-25T17:55:05.341Z"
   },
   {
    "duration": 13,
    "start_time": "2023-03-25T17:55:05.354Z"
   },
   {
    "duration": 28,
    "start_time": "2023-03-25T17:55:05.368Z"
   },
   {
    "duration": 16,
    "start_time": "2023-03-25T17:55:05.398Z"
   },
   {
    "duration": 16,
    "start_time": "2023-03-25T17:55:05.415Z"
   },
   {
    "duration": 19,
    "start_time": "2023-03-25T17:55:05.433Z"
   },
   {
    "duration": 8,
    "start_time": "2023-03-25T17:55:05.454Z"
   },
   {
    "duration": 121,
    "start_time": "2023-03-25T17:55:05.464Z"
   },
   {
    "duration": 126,
    "start_time": "2023-03-25T17:55:05.587Z"
   },
   {
    "duration": 7,
    "start_time": "2023-03-25T17:55:05.714Z"
   },
   {
    "duration": 22,
    "start_time": "2023-03-25T17:55:05.723Z"
   },
   {
    "duration": 11,
    "start_time": "2023-03-25T17:55:05.747Z"
   },
   {
    "duration": 8,
    "start_time": "2023-03-25T17:55:05.760Z"
   },
   {
    "duration": 12,
    "start_time": "2023-03-25T17:55:05.770Z"
   },
   {
    "duration": 3,
    "start_time": "2023-03-25T17:55:05.784Z"
   },
   {
    "duration": 55,
    "start_time": "2023-03-25T17:55:05.793Z"
   },
   {
    "duration": 11,
    "start_time": "2023-03-25T17:55:05.850Z"
   },
   {
    "duration": 4,
    "start_time": "2023-03-25T17:55:05.863Z"
   },
   {
    "duration": 200,
    "start_time": "2023-03-25T17:55:05.870Z"
   },
   {
    "duration": 14,
    "start_time": "2023-03-25T17:55:06.072Z"
   },
   {
    "duration": 9,
    "start_time": "2023-03-25T17:55:06.088Z"
   },
   {
    "duration": 9,
    "start_time": "2023-03-25T17:55:06.099Z"
   },
   {
    "duration": 598,
    "start_time": "2023-03-25T17:55:06.110Z"
   },
   {
    "duration": 543,
    "start_time": "2023-03-25T17:55:06.710Z"
   },
   {
    "duration": 499,
    "start_time": "2023-03-25T17:55:07.255Z"
   },
   {
    "duration": 815,
    "start_time": "2023-03-25T17:55:07.756Z"
   },
   {
    "duration": 782,
    "start_time": "2023-03-25T17:55:08.573Z"
   },
   {
    "duration": 340,
    "start_time": "2023-03-25T17:55:09.356Z"
   },
   {
    "duration": 416,
    "start_time": "2023-03-25T17:55:09.698Z"
   },
   {
    "duration": 5,
    "start_time": "2023-03-25T17:55:10.116Z"
   },
   {
    "duration": 9,
    "start_time": "2023-03-25T17:55:10.122Z"
   },
   {
    "duration": 10,
    "start_time": "2023-03-25T17:55:10.133Z"
   },
   {
    "duration": 15,
    "start_time": "2023-03-25T17:55:10.144Z"
   },
   {
    "duration": 855,
    "start_time": "2023-03-25T17:55:10.160Z"
   },
   {
    "duration": 5,
    "start_time": "2023-03-25T17:55:11.017Z"
   },
   {
    "duration": 23,
    "start_time": "2023-03-25T17:55:11.024Z"
   },
   {
    "duration": 28,
    "start_time": "2023-03-25T17:55:11.049Z"
   },
   {
    "duration": 3,
    "start_time": "2023-03-25T17:55:11.078Z"
   },
   {
    "duration": 2159,
    "start_time": "2023-03-25T17:55:11.083Z"
   },
   {
    "duration": 4,
    "start_time": "2023-03-25T17:55:13.244Z"
   },
   {
    "duration": 835,
    "start_time": "2023-03-25T17:55:13.250Z"
   },
   {
    "duration": 105693,
    "start_time": "2023-03-25T17:55:14.086Z"
   },
   {
    "duration": 829,
    "start_time": "2023-03-25T17:56:59.781Z"
   },
   {
    "duration": 3,
    "start_time": "2023-03-25T17:57:00.614Z"
   },
   {
    "duration": 5,
    "start_time": "2023-03-25T17:57:15.387Z"
   },
   {
    "duration": 116,
    "start_time": "2023-03-25T17:58:43.416Z"
   },
   {
    "duration": 4,
    "start_time": "2023-03-25T17:59:10.855Z"
   },
   {
    "duration": 5,
    "start_time": "2023-03-25T18:01:57.366Z"
   },
   {
    "duration": 9,
    "start_time": "2023-03-25T18:02:33.870Z"
   },
   {
    "duration": 8,
    "start_time": "2023-03-25T18:03:09.566Z"
   },
   {
    "duration": 7,
    "start_time": "2023-03-25T18:03:20.258Z"
   },
   {
    "duration": 744,
    "start_time": "2023-03-25T18:03:57.079Z"
   },
   {
    "duration": 773,
    "start_time": "2023-03-25T18:04:27.941Z"
   },
   {
    "duration": 5,
    "start_time": "2023-03-25T18:10:58.879Z"
   },
   {
    "duration": 11,
    "start_time": "2023-03-25T18:11:18.833Z"
   },
   {
    "duration": 7,
    "start_time": "2023-03-25T18:11:55.031Z"
   },
   {
    "duration": 8,
    "start_time": "2023-03-25T18:12:05.553Z"
   },
   {
    "duration": 9,
    "start_time": "2023-03-25T18:12:21.749Z"
   },
   {
    "duration": 49,
    "start_time": "2023-03-25T18:12:42.352Z"
   },
   {
    "duration": 13,
    "start_time": "2023-03-25T18:13:25.430Z"
   },
   {
    "duration": 4,
    "start_time": "2023-03-25T18:13:45.026Z"
   },
   {
    "duration": 773,
    "start_time": "2023-03-25T18:13:45.032Z"
   },
   {
    "duration": 17,
    "start_time": "2023-03-25T18:13:45.806Z"
   },
   {
    "duration": 26,
    "start_time": "2023-03-25T18:13:45.825Z"
   },
   {
    "duration": 22,
    "start_time": "2023-03-25T18:13:45.852Z"
   },
   {
    "duration": 8,
    "start_time": "2023-03-25T18:13:45.875Z"
   },
   {
    "duration": 5,
    "start_time": "2023-03-25T18:13:45.885Z"
   },
   {
    "duration": 77,
    "start_time": "2023-03-25T18:13:45.891Z"
   },
   {
    "duration": 26,
    "start_time": "2023-03-25T18:13:45.972Z"
   },
   {
    "duration": 11,
    "start_time": "2023-03-25T18:13:46.000Z"
   },
   {
    "duration": 43,
    "start_time": "2023-03-25T18:13:46.013Z"
   },
   {
    "duration": 6,
    "start_time": "2023-03-25T18:13:46.058Z"
   },
   {
    "duration": 5,
    "start_time": "2023-03-25T18:13:46.066Z"
   },
   {
    "duration": 12,
    "start_time": "2023-03-25T18:13:46.073Z"
   },
   {
    "duration": 5,
    "start_time": "2023-03-25T18:13:46.087Z"
   },
   {
    "duration": 6,
    "start_time": "2023-03-25T18:13:46.093Z"
   },
   {
    "duration": 4,
    "start_time": "2023-03-25T18:13:46.101Z"
   },
   {
    "duration": 12,
    "start_time": "2023-03-25T18:13:46.141Z"
   },
   {
    "duration": 7,
    "start_time": "2023-03-25T18:13:46.157Z"
   },
   {
    "duration": 117,
    "start_time": "2023-03-25T18:13:46.165Z"
   },
   {
    "duration": 123,
    "start_time": "2023-03-25T18:13:46.283Z"
   },
   {
    "duration": 6,
    "start_time": "2023-03-25T18:13:46.407Z"
   },
   {
    "duration": 8,
    "start_time": "2023-03-25T18:13:46.415Z"
   },
   {
    "duration": 11,
    "start_time": "2023-03-25T18:13:46.448Z"
   },
   {
    "duration": 14,
    "start_time": "2023-03-25T18:13:46.461Z"
   },
   {
    "duration": 20,
    "start_time": "2023-03-25T18:13:46.476Z"
   },
   {
    "duration": 9,
    "start_time": "2023-03-25T18:13:46.498Z"
   },
   {
    "duration": 12,
    "start_time": "2023-03-25T18:13:46.508Z"
   },
   {
    "duration": 35,
    "start_time": "2023-03-25T18:13:46.521Z"
   },
   {
    "duration": 5,
    "start_time": "2023-03-25T18:13:46.558Z"
   },
   {
    "duration": 169,
    "start_time": "2023-03-25T18:13:46.565Z"
   },
   {
    "duration": 21,
    "start_time": "2023-03-25T18:13:46.736Z"
   },
   {
    "duration": 8,
    "start_time": "2023-03-25T18:13:46.759Z"
   },
   {
    "duration": 6,
    "start_time": "2023-03-25T18:13:46.768Z"
   },
   {
    "duration": 593,
    "start_time": "2023-03-25T18:13:46.775Z"
   },
   {
    "duration": 521,
    "start_time": "2023-03-25T18:13:47.370Z"
   },
   {
    "duration": 676,
    "start_time": "2023-03-25T18:13:47.893Z"
   },
   {
    "duration": 842,
    "start_time": "2023-03-25T18:13:48.571Z"
   },
   {
    "duration": 876,
    "start_time": "2023-03-25T18:13:49.415Z"
   },
   {
    "duration": 428,
    "start_time": "2023-03-25T18:13:50.293Z"
   },
   {
    "duration": 396,
    "start_time": "2023-03-25T18:13:50.722Z"
   },
   {
    "duration": 5,
    "start_time": "2023-03-25T18:13:51.120Z"
   },
   {
    "duration": 17,
    "start_time": "2023-03-25T18:13:51.127Z"
   },
   {
    "duration": 12,
    "start_time": "2023-03-25T18:13:51.145Z"
   },
   {
    "duration": 14,
    "start_time": "2023-03-25T18:13:51.159Z"
   },
   {
    "duration": 954,
    "start_time": "2023-03-25T18:13:51.174Z"
   },
   {
    "duration": 14,
    "start_time": "2023-03-25T18:13:52.130Z"
   },
   {
    "duration": 14,
    "start_time": "2023-03-25T18:13:52.153Z"
   },
   {
    "duration": 38,
    "start_time": "2023-03-25T18:13:52.169Z"
   },
   {
    "duration": 2,
    "start_time": "2023-03-25T18:13:52.209Z"
   },
   {
    "duration": 2652,
    "start_time": "2023-03-25T18:13:52.213Z"
   },
   {
    "duration": 85,
    "start_time": "2023-03-25T18:13:54.867Z"
   },
   {
    "duration": 837,
    "start_time": "2023-03-25T18:13:54.954Z"
   },
   {
    "duration": 113057,
    "start_time": "2023-03-25T18:13:55.793Z"
   },
   {
    "duration": 874,
    "start_time": "2023-03-25T18:15:48.854Z"
   },
   {
    "duration": 3,
    "start_time": "2023-03-25T18:15:49.730Z"
   },
   {
    "duration": 59,
    "start_time": "2023-03-25T18:15:49.735Z"
   },
   {
    "duration": 10,
    "start_time": "2023-03-25T18:15:49.796Z"
   },
   {
    "duration": 0,
    "start_time": "2023-03-25T18:15:49.808Z"
   },
   {
    "duration": 0,
    "start_time": "2023-03-25T18:15:49.809Z"
   },
   {
    "duration": 0,
    "start_time": "2023-03-25T18:15:49.810Z"
   },
   {
    "duration": 0,
    "start_time": "2023-03-25T18:15:49.811Z"
   },
   {
    "duration": 0,
    "start_time": "2023-03-25T18:15:49.812Z"
   },
   {
    "duration": 0,
    "start_time": "2023-03-25T18:15:49.814Z"
   },
   {
    "duration": 0,
    "start_time": "2023-03-25T18:15:49.814Z"
   },
   {
    "duration": 0,
    "start_time": "2023-03-25T18:15:49.815Z"
   },
   {
    "duration": 0,
    "start_time": "2023-03-25T18:15:49.816Z"
   },
   {
    "duration": 0,
    "start_time": "2023-03-25T18:15:49.817Z"
   },
   {
    "duration": 0,
    "start_time": "2023-03-25T18:15:49.818Z"
   },
   {
    "duration": 0,
    "start_time": "2023-03-25T18:15:49.841Z"
   },
   {
    "duration": 1,
    "start_time": "2023-03-25T18:15:49.841Z"
   },
   {
    "duration": 0,
    "start_time": "2023-03-25T18:15:49.842Z"
   },
   {
    "duration": 0,
    "start_time": "2023-03-25T18:15:49.843Z"
   },
   {
    "duration": 0,
    "start_time": "2023-03-25T18:15:49.844Z"
   },
   {
    "duration": 0,
    "start_time": "2023-03-25T18:15:49.845Z"
   },
   {
    "duration": 0,
    "start_time": "2023-03-25T18:15:49.845Z"
   },
   {
    "duration": 0,
    "start_time": "2023-03-25T18:15:49.846Z"
   },
   {
    "duration": 0,
    "start_time": "2023-03-25T18:15:49.847Z"
   },
   {
    "duration": 0,
    "start_time": "2023-03-25T18:15:49.847Z"
   },
   {
    "duration": 0,
    "start_time": "2023-03-25T18:15:49.848Z"
   },
   {
    "duration": 0,
    "start_time": "2023-03-25T18:15:49.849Z"
   },
   {
    "duration": 0,
    "start_time": "2023-03-25T18:15:49.849Z"
   },
   {
    "duration": 10,
    "start_time": "2023-03-25T18:18:13.854Z"
   },
   {
    "duration": 18,
    "start_time": "2023-03-25T18:18:43.938Z"
   },
   {
    "duration": 53,
    "start_time": "2023-03-25T18:18:47.938Z"
   },
   {
    "duration": 29,
    "start_time": "2023-03-25T18:19:37.777Z"
   },
   {
    "duration": 4,
    "start_time": "2023-03-25T18:19:40.403Z"
   },
   {
    "duration": 9,
    "start_time": "2023-03-25T18:19:55.018Z"
   },
   {
    "duration": 47,
    "start_time": "2023-03-25T18:20:13.481Z"
   },
   {
    "duration": 29,
    "start_time": "2023-03-25T18:20:21.641Z"
   },
   {
    "duration": 34,
    "start_time": "2023-03-25T18:21:11.785Z"
   },
   {
    "duration": 5,
    "start_time": "2023-03-25T18:21:14.857Z"
   },
   {
    "duration": 47,
    "start_time": "2023-03-25T18:21:21.058Z"
   },
   {
    "duration": 9,
    "start_time": "2023-03-25T18:21:53.455Z"
   },
   {
    "duration": 35,
    "start_time": "2023-03-25T18:21:55.807Z"
   },
   {
    "duration": 5,
    "start_time": "2023-03-25T18:22:02.357Z"
   },
   {
    "duration": 54,
    "start_time": "2023-03-25T18:22:17.376Z"
   },
   {
    "duration": 29,
    "start_time": "2023-03-25T18:22:43.384Z"
   },
   {
    "duration": 9,
    "start_time": "2023-03-25T18:22:49.840Z"
   },
   {
    "duration": 9,
    "start_time": "2023-03-25T18:23:07.479Z"
   },
   {
    "duration": 34,
    "start_time": "2023-03-25T18:23:11.199Z"
   },
   {
    "duration": 5,
    "start_time": "2023-03-25T18:23:13.694Z"
   },
   {
    "duration": 25,
    "start_time": "2023-03-25T18:23:20.758Z"
   },
   {
    "duration": 28,
    "start_time": "2023-03-25T18:23:37.759Z"
   },
   {
    "duration": 30,
    "start_time": "2023-03-25T18:23:40.008Z"
   },
   {
    "duration": 32,
    "start_time": "2023-03-25T18:23:47.630Z"
   },
   {
    "duration": 33,
    "start_time": "2023-03-25T18:23:49.926Z"
   },
   {
    "duration": 17,
    "start_time": "2023-03-25T18:23:52.534Z"
   },
   {
    "duration": 30,
    "start_time": "2023-03-25T18:23:55.198Z"
   },
   {
    "duration": 24,
    "start_time": "2023-03-25T18:23:57.305Z"
   },
   {
    "duration": 348,
    "start_time": "2023-03-25T18:24:05.450Z"
   },
   {
    "duration": 3,
    "start_time": "2023-03-25T18:29:55.158Z"
   },
   {
    "duration": 6,
    "start_time": "2023-03-25T18:31:37.739Z"
   },
   {
    "duration": 10,
    "start_time": "2023-03-25T18:32:07.433Z"
   },
   {
    "duration": 345,
    "start_time": "2023-03-25T18:32:20.362Z"
   },
   {
    "duration": 334,
    "start_time": "2023-03-25T18:32:56.400Z"
   },
   {
    "duration": 2399,
    "start_time": "2023-03-25T18:33:25.558Z"
   },
   {
    "duration": 36,
    "start_time": "2023-03-25T18:33:52.128Z"
   },
   {
    "duration": 964,
    "start_time": "2023-03-25T18:34:36.993Z"
   },
   {
    "duration": 39,
    "start_time": "2023-03-25T18:34:43.878Z"
   },
   {
    "duration": 3,
    "start_time": "2023-03-25T18:34:54.408Z"
   },
   {
    "duration": 41,
    "start_time": "2023-03-25T18:34:56.575Z"
   },
   {
    "duration": 4,
    "start_time": "2023-03-25T18:35:02.151Z"
   },
   {
    "duration": 40,
    "start_time": "2023-03-25T18:35:04.260Z"
   },
   {
    "duration": 27,
    "start_time": "2023-03-25T18:35:53.998Z"
   },
   {
    "duration": 54,
    "start_time": "2023-03-25T18:36:13.857Z"
   },
   {
    "duration": 6,
    "start_time": "2023-03-25T18:36:34.258Z"
   },
   {
    "duration": 5,
    "start_time": "2023-03-25T18:38:49.077Z"
   },
   {
    "duration": 3516,
    "start_time": "2023-03-25T18:38:58.829Z"
   },
   {
    "duration": 2881,
    "start_time": "2023-03-25T18:39:08.804Z"
   },
   {
    "duration": 115585,
    "start_time": "2023-03-25T18:39:19.389Z"
   },
   {
    "duration": 6095,
    "start_time": "2023-03-25T18:41:29.005Z"
   },
   {
    "duration": 3159,
    "start_time": "2023-03-25T18:42:03.283Z"
   },
   {
    "duration": 4,
    "start_time": "2023-03-25T18:42:10.834Z"
   },
   {
    "duration": 3862,
    "start_time": "2023-03-25T18:42:15.586Z"
   },
   {
    "duration": 6,
    "start_time": "2023-03-25T18:43:25.177Z"
   },
   {
    "duration": 2958,
    "start_time": "2023-03-25T18:43:30.289Z"
   },
   {
    "duration": 3040,
    "start_time": "2023-03-25T18:43:36.865Z"
   },
   {
    "duration": 116434,
    "start_time": "2023-03-25T18:43:44.081Z"
   },
   {
    "duration": 875,
    "start_time": "2023-03-25T18:45:49.153Z"
   },
   {
    "duration": 4,
    "start_time": "2023-03-25T18:45:55.032Z"
   },
   {
    "duration": 4,
    "start_time": "2023-03-25T18:45:58.567Z"
   },
   {
    "duration": 970,
    "start_time": "2023-03-25T18:46:02.167Z"
   },
   {
    "duration": 377,
    "start_time": "2023-03-25T18:46:09.504Z"
   },
   {
    "duration": 51,
    "start_time": "2023-03-25T18:46:17.633Z"
   },
   {
    "duration": 3,
    "start_time": "2023-03-25T18:46:24.158Z"
   },
   {
    "duration": 50,
    "start_time": "2023-03-25T18:46:26.183Z"
   },
   {
    "duration": 6,
    "start_time": "2023-03-25T18:47:02.335Z"
   },
   {
    "duration": 1873,
    "start_time": "2023-03-25T18:47:06.679Z"
   },
   {
    "duration": 2998,
    "start_time": "2023-03-25T18:47:13.221Z"
   },
   {
    "duration": 841,
    "start_time": "2023-03-25T18:47:20.536Z"
   },
   {
    "duration": 365,
    "start_time": "2023-03-25T18:47:26.247Z"
   },
   {
    "duration": 39,
    "start_time": "2023-03-25T18:47:33.846Z"
   },
   {
    "duration": 34,
    "start_time": "2023-03-25T18:47:41.992Z"
   },
   {
    "duration": 6,
    "start_time": "2023-03-25T18:48:38.119Z"
   },
   {
    "duration": 901,
    "start_time": "2023-03-25T18:48:45.437Z"
   },
   {
    "duration": 405,
    "start_time": "2023-03-25T18:48:53.857Z"
   },
   {
    "duration": 33,
    "start_time": "2023-03-25T18:48:56.597Z"
   },
   {
    "duration": 47,
    "start_time": "2023-03-25T18:49:12.272Z"
   },
   {
    "duration": 4,
    "start_time": "2023-03-25T18:49:17.030Z"
   },
   {
    "duration": 424,
    "start_time": "2023-03-25T18:49:20.142Z"
   },
   {
    "duration": 404,
    "start_time": "2023-03-25T18:49:36.822Z"
   },
   {
    "duration": 37,
    "start_time": "2023-03-25T18:49:41.502Z"
   },
   {
    "duration": 5,
    "start_time": "2023-03-25T18:51:05.760Z"
   },
   {
    "duration": 11,
    "start_time": "2023-03-25T18:51:06.544Z"
   },
   {
    "duration": 4,
    "start_time": "2023-03-25T18:51:14.764Z"
   },
   {
    "duration": 14,
    "start_time": "2023-03-25T18:51:17.364Z"
   },
   {
    "duration": 350,
    "start_time": "2023-03-25T18:51:23.861Z"
   },
   {
    "duration": 4,
    "start_time": "2023-03-25T18:51:27.861Z"
   },
   {
    "duration": 36,
    "start_time": "2023-03-25T18:51:30.554Z"
   },
   {
    "duration": 3,
    "start_time": "2023-03-25T18:51:45.085Z"
   },
   {
    "duration": 2962,
    "start_time": "2023-03-25T18:51:47.309Z"
   },
   {
    "duration": 3,
    "start_time": "2023-03-25T18:51:59.875Z"
   },
   {
    "duration": 943,
    "start_time": "2023-03-25T18:52:02.283Z"
   },
   {
    "duration": 890,
    "start_time": "2023-03-25T18:52:10.085Z"
   },
   {
    "duration": 365,
    "start_time": "2023-03-25T18:52:20.187Z"
   },
   {
    "duration": 34,
    "start_time": "2023-03-25T18:52:23.570Z"
   },
   {
    "duration": 35,
    "start_time": "2023-03-25T18:56:52.737Z"
   },
   {
    "duration": 93,
    "start_time": "2023-03-25T19:03:10.074Z"
   },
   {
    "duration": 92,
    "start_time": "2023-03-25T19:04:02.619Z"
   },
   {
    "duration": 64,
    "start_time": "2023-03-25T19:04:29.833Z"
   },
   {
    "duration": 84,
    "start_time": "2023-03-25T19:05:53.587Z"
   },
   {
    "duration": 92,
    "start_time": "2023-03-25T19:06:36.247Z"
   },
   {
    "duration": 85,
    "start_time": "2023-03-25T19:07:13.913Z"
   },
   {
    "duration": 66,
    "start_time": "2023-03-25T19:07:23.157Z"
   },
   {
    "duration": 70,
    "start_time": "2023-03-25T19:07:38.456Z"
   },
   {
    "duration": 214,
    "start_time": "2023-03-25T19:08:50.897Z"
   },
   {
    "duration": 214,
    "start_time": "2023-03-25T19:09:17.159Z"
   },
   {
    "duration": 14,
    "start_time": "2023-03-25T19:11:33.802Z"
   },
   {
    "duration": 4,
    "start_time": "2023-03-25T19:14:29.222Z"
   },
   {
    "duration": 5,
    "start_time": "2023-03-25T19:14:51.189Z"
   },
   {
    "duration": 80,
    "start_time": "2023-03-25T19:14:54.033Z"
   },
   {
    "duration": 4,
    "start_time": "2023-03-25T19:15:21.678Z"
   },
   {
    "duration": 255,
    "start_time": "2023-03-25T19:15:24.036Z"
   },
   {
    "duration": 9,
    "start_time": "2023-03-25T19:15:46.791Z"
   },
   {
    "duration": 14,
    "start_time": "2023-03-25T19:15:59.365Z"
   },
   {
    "duration": 18,
    "start_time": "2023-03-25T19:16:08.670Z"
   },
   {
    "duration": 9,
    "start_time": "2023-03-25T19:16:14.470Z"
   },
   {
    "duration": 1689,
    "start_time": "2023-03-25T19:17:33.875Z"
   },
   {
    "duration": 897,
    "start_time": "2023-03-25T19:17:35.566Z"
   },
   {
    "duration": 25,
    "start_time": "2023-03-25T19:17:36.465Z"
   },
   {
    "duration": 15,
    "start_time": "2023-03-25T19:17:36.492Z"
   },
   {
    "duration": 23,
    "start_time": "2023-03-25T19:17:36.509Z"
   },
   {
    "duration": 25,
    "start_time": "2023-03-25T19:17:36.534Z"
   },
   {
    "duration": 21,
    "start_time": "2023-03-25T19:17:36.563Z"
   },
   {
    "duration": 87,
    "start_time": "2023-03-25T19:17:36.586Z"
   },
   {
    "duration": 30,
    "start_time": "2023-03-25T19:17:36.674Z"
   },
   {
    "duration": 10,
    "start_time": "2023-03-25T19:17:36.707Z"
   },
   {
    "duration": 6,
    "start_time": "2023-03-25T19:17:36.718Z"
   },
   {
    "duration": 35,
    "start_time": "2023-03-25T19:17:36.726Z"
   },
   {
    "duration": 3,
    "start_time": "2023-03-25T19:17:36.771Z"
   },
   {
    "duration": 17,
    "start_time": "2023-03-25T19:17:36.776Z"
   },
   {
    "duration": 5,
    "start_time": "2023-03-25T19:17:36.795Z"
   },
   {
    "duration": 5,
    "start_time": "2023-03-25T19:17:36.802Z"
   },
   {
    "duration": 4,
    "start_time": "2023-03-25T19:17:36.809Z"
   },
   {
    "duration": 6,
    "start_time": "2023-03-25T19:17:36.815Z"
   },
   {
    "duration": 29,
    "start_time": "2023-03-25T19:17:36.822Z"
   },
   {
    "duration": 136,
    "start_time": "2023-03-25T19:17:36.853Z"
   },
   {
    "duration": 140,
    "start_time": "2023-03-25T19:17:36.991Z"
   },
   {
    "duration": 20,
    "start_time": "2023-03-25T19:17:37.132Z"
   },
   {
    "duration": 15,
    "start_time": "2023-03-25T19:17:37.162Z"
   },
   {
    "duration": 11,
    "start_time": "2023-03-25T19:17:37.179Z"
   },
   {
    "duration": 7,
    "start_time": "2023-03-25T19:17:37.193Z"
   },
   {
    "duration": 13,
    "start_time": "2023-03-25T19:17:37.202Z"
   },
   {
    "duration": 4,
    "start_time": "2023-03-25T19:17:37.217Z"
   },
   {
    "duration": 27,
    "start_time": "2023-03-25T19:17:37.227Z"
   },
   {
    "duration": 13,
    "start_time": "2023-03-25T19:17:37.256Z"
   },
   {
    "duration": 5,
    "start_time": "2023-03-25T19:17:37.271Z"
   },
   {
    "duration": 217,
    "start_time": "2023-03-25T19:17:37.278Z"
   },
   {
    "duration": 13,
    "start_time": "2023-03-25T19:17:37.497Z"
   },
   {
    "duration": 8,
    "start_time": "2023-03-25T19:17:37.512Z"
   },
   {
    "duration": 38,
    "start_time": "2023-03-25T19:17:37.522Z"
   },
   {
    "duration": 655,
    "start_time": "2023-03-25T19:17:37.569Z"
   },
   {
    "duration": 610,
    "start_time": "2023-03-25T19:17:38.226Z"
   },
   {
    "duration": 626,
    "start_time": "2023-03-25T19:17:38.854Z"
   },
   {
    "duration": 965,
    "start_time": "2023-03-25T19:17:39.482Z"
   },
   {
    "duration": 814,
    "start_time": "2023-03-25T19:17:40.449Z"
   },
   {
    "duration": 513,
    "start_time": "2023-03-25T19:17:41.265Z"
   },
   {
    "duration": 488,
    "start_time": "2023-03-25T19:17:41.779Z"
   },
   {
    "duration": 8,
    "start_time": "2023-03-25T19:17:42.272Z"
   },
   {
    "duration": 5,
    "start_time": "2023-03-25T19:17:42.282Z"
   },
   {
    "duration": 4,
    "start_time": "2023-03-25T19:17:42.289Z"
   },
   {
    "duration": 5,
    "start_time": "2023-03-25T19:17:42.295Z"
   },
   {
    "duration": 1013,
    "start_time": "2023-03-25T19:17:42.301Z"
   },
   {
    "duration": 5,
    "start_time": "2023-03-25T19:17:43.316Z"
   },
   {
    "duration": 34,
    "start_time": "2023-03-25T19:17:43.322Z"
   },
   {
    "duration": 38,
    "start_time": "2023-03-25T19:17:43.357Z"
   },
   {
    "duration": 4,
    "start_time": "2023-03-25T19:17:43.397Z"
   },
   {
    "duration": 5244,
    "start_time": "2023-03-25T19:17:43.403Z"
   },
   {
    "duration": 8,
    "start_time": "2023-03-25T19:17:48.667Z"
   },
   {
    "duration": 1022,
    "start_time": "2023-03-25T19:17:48.683Z"
   },
   {
    "duration": 121619,
    "start_time": "2023-03-25T19:17:49.707Z"
   },
   {
    "duration": 6059,
    "start_time": "2023-03-25T19:19:51.328Z"
   },
   {
    "duration": 3,
    "start_time": "2023-03-25T19:19:57.389Z"
   },
   {
    "duration": 21,
    "start_time": "2023-03-25T19:19:57.393Z"
   },
   {
    "duration": 5,
    "start_time": "2023-03-25T19:19:57.416Z"
   },
   {
    "duration": 1658,
    "start_time": "2023-03-25T19:19:57.423Z"
   },
   {
    "duration": 18,
    "start_time": "2023-03-25T19:19:59.082Z"
   },
   {
    "duration": 1515,
    "start_time": "2023-03-25T19:20:53.719Z"
   },
   {
    "duration": 792,
    "start_time": "2023-03-25T19:20:55.236Z"
   },
   {
    "duration": 35,
    "start_time": "2023-03-25T19:20:56.029Z"
   },
   {
    "duration": 16,
    "start_time": "2023-03-25T19:20:56.068Z"
   },
   {
    "duration": 9,
    "start_time": "2023-03-25T19:20:56.086Z"
   },
   {
    "duration": 7,
    "start_time": "2023-03-25T19:20:56.096Z"
   },
   {
    "duration": 8,
    "start_time": "2023-03-25T19:20:56.105Z"
   },
   {
    "duration": 98,
    "start_time": "2023-03-25T19:20:56.115Z"
   },
   {
    "duration": 46,
    "start_time": "2023-03-25T19:20:56.215Z"
   },
   {
    "duration": 10,
    "start_time": "2023-03-25T19:20:56.265Z"
   },
   {
    "duration": 7,
    "start_time": "2023-03-25T19:20:56.277Z"
   },
   {
    "duration": 8,
    "start_time": "2023-03-25T19:20:56.286Z"
   },
   {
    "duration": 4,
    "start_time": "2023-03-25T19:20:56.295Z"
   },
   {
    "duration": 56,
    "start_time": "2023-03-25T19:20:56.300Z"
   },
   {
    "duration": 6,
    "start_time": "2023-03-25T19:20:56.369Z"
   },
   {
    "duration": 7,
    "start_time": "2023-03-25T19:20:56.376Z"
   },
   {
    "duration": 4,
    "start_time": "2023-03-25T19:20:56.385Z"
   },
   {
    "duration": 7,
    "start_time": "2023-03-25T19:20:56.391Z"
   },
   {
    "duration": 5,
    "start_time": "2023-03-25T19:20:56.400Z"
   },
   {
    "duration": 121,
    "start_time": "2023-03-25T19:20:56.407Z"
   },
   {
    "duration": 142,
    "start_time": "2023-03-25T19:20:56.530Z"
   },
   {
    "duration": 9,
    "start_time": "2023-03-25T19:20:56.677Z"
   },
   {
    "duration": 16,
    "start_time": "2023-03-25T19:20:56.687Z"
   },
   {
    "duration": 16,
    "start_time": "2023-03-25T19:20:56.705Z"
   },
   {
    "duration": 7,
    "start_time": "2023-03-25T19:20:56.723Z"
   },
   {
    "duration": 18,
    "start_time": "2023-03-25T19:20:56.732Z"
   },
   {
    "duration": 14,
    "start_time": "2023-03-25T19:20:56.758Z"
   },
   {
    "duration": 9,
    "start_time": "2023-03-25T19:20:56.777Z"
   },
   {
    "duration": 8,
    "start_time": "2023-03-25T19:20:56.787Z"
   },
   {
    "duration": 3,
    "start_time": "2023-03-25T19:20:56.797Z"
   },
   {
    "duration": 203,
    "start_time": "2023-03-25T19:20:56.802Z"
   },
   {
    "duration": 12,
    "start_time": "2023-03-25T19:20:57.007Z"
   },
   {
    "duration": 39,
    "start_time": "2023-03-25T19:20:57.021Z"
   },
   {
    "duration": 10,
    "start_time": "2023-03-25T19:20:57.064Z"
   },
   {
    "duration": 639,
    "start_time": "2023-03-25T19:20:57.076Z"
   },
   {
    "duration": 616,
    "start_time": "2023-03-25T19:20:57.717Z"
   },
   {
    "duration": 618,
    "start_time": "2023-03-25T19:20:58.335Z"
   },
   {
    "duration": 1081,
    "start_time": "2023-03-25T19:20:58.963Z"
   },
   {
    "duration": 923,
    "start_time": "2023-03-25T19:21:00.048Z"
   },
   {
    "duration": 477,
    "start_time": "2023-03-25T19:21:00.979Z"
   },
   {
    "duration": 406,
    "start_time": "2023-03-25T19:21:01.465Z"
   },
   {
    "duration": 8,
    "start_time": "2023-03-25T19:21:01.880Z"
   },
   {
    "duration": 31,
    "start_time": "2023-03-25T19:21:01.890Z"
   },
   {
    "duration": 43,
    "start_time": "2023-03-25T19:21:01.923Z"
   },
   {
    "duration": 10,
    "start_time": "2023-03-25T19:21:01.969Z"
   },
   {
    "duration": 1152,
    "start_time": "2023-03-25T19:21:01.981Z"
   },
   {
    "duration": 23,
    "start_time": "2023-03-25T19:21:03.135Z"
   },
   {
    "duration": 21,
    "start_time": "2023-03-25T19:21:03.160Z"
   },
   {
    "duration": 41,
    "start_time": "2023-03-25T19:21:03.183Z"
   },
   {
    "duration": 3,
    "start_time": "2023-03-25T19:21:03.225Z"
   },
   {
    "duration": 5553,
    "start_time": "2023-03-25T19:21:03.229Z"
   },
   {
    "duration": 70,
    "start_time": "2023-03-25T19:21:08.785Z"
   },
   {
    "duration": 994,
    "start_time": "2023-03-25T19:21:08.857Z"
   },
   {
    "duration": 125095,
    "start_time": "2023-03-25T19:21:09.861Z"
   },
   {
    "duration": 6410,
    "start_time": "2023-03-25T19:23:14.961Z"
   },
   {
    "duration": 6,
    "start_time": "2023-03-25T19:23:21.373Z"
   },
   {
    "duration": 44,
    "start_time": "2023-03-25T19:23:21.382Z"
   },
   {
    "duration": 4,
    "start_time": "2023-03-25T19:23:21.428Z"
   },
   {
    "duration": 1658,
    "start_time": "2023-03-25T19:23:21.442Z"
   },
   {
    "duration": 11,
    "start_time": "2023-03-25T19:23:23.101Z"
   },
   {
    "duration": 1674,
    "start_time": "2023-03-25T19:24:57.900Z"
   },
   {
    "duration": 854,
    "start_time": "2023-03-25T19:24:59.576Z"
   },
   {
    "duration": 43,
    "start_time": "2023-03-25T19:25:00.433Z"
   },
   {
    "duration": 18,
    "start_time": "2023-03-25T19:25:00.480Z"
   },
   {
    "duration": 56,
    "start_time": "2023-03-25T19:25:00.502Z"
   },
   {
    "duration": 36,
    "start_time": "2023-03-25T19:25:00.568Z"
   },
   {
    "duration": 51,
    "start_time": "2023-03-25T19:25:00.610Z"
   },
   {
    "duration": 102,
    "start_time": "2023-03-25T19:25:00.663Z"
   },
   {
    "duration": 30,
    "start_time": "2023-03-25T19:25:00.770Z"
   },
   {
    "duration": 27,
    "start_time": "2023-03-25T19:25:00.802Z"
   },
   {
    "duration": 51,
    "start_time": "2023-03-25T19:25:00.831Z"
   },
   {
    "duration": 71,
    "start_time": "2023-03-25T19:25:00.885Z"
   },
   {
    "duration": 24,
    "start_time": "2023-03-25T19:25:00.960Z"
   },
   {
    "duration": 35,
    "start_time": "2023-03-25T19:25:00.989Z"
   },
   {
    "duration": 69,
    "start_time": "2023-03-25T19:25:01.027Z"
   },
   {
    "duration": 44,
    "start_time": "2023-03-25T19:25:01.098Z"
   },
   {
    "duration": 30,
    "start_time": "2023-03-25T19:25:01.154Z"
   },
   {
    "duration": 14,
    "start_time": "2023-03-25T19:25:01.186Z"
   },
   {
    "duration": 35,
    "start_time": "2023-03-25T19:25:01.202Z"
   },
   {
    "duration": 151,
    "start_time": "2023-03-25T19:25:01.239Z"
   },
   {
    "duration": 147,
    "start_time": "2023-03-25T19:25:01.392Z"
   },
   {
    "duration": 15,
    "start_time": "2023-03-25T19:25:01.549Z"
   },
   {
    "duration": 42,
    "start_time": "2023-03-25T19:25:01.573Z"
   },
   {
    "duration": 74,
    "start_time": "2023-03-25T19:25:01.616Z"
   },
   {
    "duration": 36,
    "start_time": "2023-03-25T19:25:01.692Z"
   },
   {
    "duration": 54,
    "start_time": "2023-03-25T19:25:01.729Z"
   },
   {
    "duration": 37,
    "start_time": "2023-03-25T19:25:01.785Z"
   },
   {
    "duration": 49,
    "start_time": "2023-03-25T19:25:01.824Z"
   },
   {
    "duration": 19,
    "start_time": "2023-03-25T19:25:01.876Z"
   },
   {
    "duration": 22,
    "start_time": "2023-03-25T19:25:01.897Z"
   },
   {
    "duration": 214,
    "start_time": "2023-03-25T19:25:01.921Z"
   },
   {
    "duration": 23,
    "start_time": "2023-03-25T19:25:02.138Z"
   },
   {
    "duration": 10,
    "start_time": "2023-03-25T19:25:02.166Z"
   },
   {
    "duration": 27,
    "start_time": "2023-03-25T19:25:02.178Z"
   },
   {
    "duration": 672,
    "start_time": "2023-03-25T19:25:02.207Z"
   },
   {
    "duration": 697,
    "start_time": "2023-03-25T19:25:02.881Z"
   },
   {
    "duration": 596,
    "start_time": "2023-03-25T19:25:03.580Z"
   },
   {
    "duration": 1064,
    "start_time": "2023-03-25T19:25:04.178Z"
   },
   {
    "duration": 970,
    "start_time": "2023-03-25T19:25:05.244Z"
   },
   {
    "duration": 439,
    "start_time": "2023-03-25T19:25:06.217Z"
   },
   {
    "duration": 440,
    "start_time": "2023-03-25T19:25:06.665Z"
   },
   {
    "duration": 6,
    "start_time": "2023-03-25T19:25:07.106Z"
   },
   {
    "duration": 14,
    "start_time": "2023-03-25T19:25:07.113Z"
   },
   {
    "duration": 16,
    "start_time": "2023-03-25T19:25:07.129Z"
   },
   {
    "duration": 18,
    "start_time": "2023-03-25T19:25:07.149Z"
   },
   {
    "duration": 1052,
    "start_time": "2023-03-25T19:25:07.169Z"
   },
   {
    "duration": 5,
    "start_time": "2023-03-25T19:25:08.224Z"
   },
   {
    "duration": 21,
    "start_time": "2023-03-25T19:25:08.231Z"
   },
   {
    "duration": 52,
    "start_time": "2023-03-25T19:25:08.258Z"
   },
   {
    "duration": 3,
    "start_time": "2023-03-25T19:25:08.312Z"
   },
   {
    "duration": 5451,
    "start_time": "2023-03-25T19:25:08.316Z"
   },
   {
    "duration": 16,
    "start_time": "2023-03-25T19:25:13.779Z"
   },
   {
    "duration": 1022,
    "start_time": "2023-03-25T19:25:13.798Z"
   },
   {
    "duration": 127636,
    "start_time": "2023-03-25T19:25:14.822Z"
   },
   {
    "duration": 967,
    "start_time": "2023-03-25T19:27:22.462Z"
   },
   {
    "duration": 25,
    "start_time": "2023-03-25T19:27:23.431Z"
   },
   {
    "duration": 42,
    "start_time": "2023-03-25T19:27:23.476Z"
   },
   {
    "duration": 4,
    "start_time": "2023-03-25T19:27:23.519Z"
   },
   {
    "duration": 252,
    "start_time": "2023-03-25T19:27:23.524Z"
   },
   {
    "duration": 9,
    "start_time": "2023-03-25T19:27:23.779Z"
   },
   {
    "duration": 16,
    "start_time": "2023-03-25T19:30:24.773Z"
   },
   {
    "duration": 15,
    "start_time": "2023-03-25T19:30:51.890Z"
   },
   {
    "duration": 27,
    "start_time": "2023-03-25T19:31:00.829Z"
   },
   {
    "duration": 13,
    "start_time": "2023-03-25T19:31:05.779Z"
   },
   {
    "duration": 13,
    "start_time": "2023-03-25T19:31:16.275Z"
   },
   {
    "duration": 16,
    "start_time": "2023-03-25T19:31:26.367Z"
   },
   {
    "duration": 1457,
    "start_time": "2023-03-25T19:55:14.560Z"
   },
   {
    "duration": 839,
    "start_time": "2023-03-25T19:55:16.019Z"
   },
   {
    "duration": 20,
    "start_time": "2023-03-25T19:55:16.860Z"
   },
   {
    "duration": 10,
    "start_time": "2023-03-25T19:55:16.882Z"
   },
   {
    "duration": 8,
    "start_time": "2023-03-25T19:55:16.894Z"
   },
   {
    "duration": 6,
    "start_time": "2023-03-25T19:55:16.904Z"
   },
   {
    "duration": 45,
    "start_time": "2023-03-25T19:55:16.911Z"
   },
   {
    "duration": 59,
    "start_time": "2023-03-25T19:55:16.965Z"
   },
   {
    "duration": 38,
    "start_time": "2023-03-25T19:55:17.026Z"
   },
   {
    "duration": 10,
    "start_time": "2023-03-25T19:55:17.068Z"
   },
   {
    "duration": 6,
    "start_time": "2023-03-25T19:55:17.080Z"
   },
   {
    "duration": 10,
    "start_time": "2023-03-25T19:55:17.088Z"
   },
   {
    "duration": 2,
    "start_time": "2023-03-25T19:55:17.100Z"
   },
   {
    "duration": 15,
    "start_time": "2023-03-25T19:55:17.105Z"
   },
   {
    "duration": 21,
    "start_time": "2023-03-25T19:55:17.121Z"
   },
   {
    "duration": 20,
    "start_time": "2023-03-25T19:55:17.144Z"
   },
   {
    "duration": 5,
    "start_time": "2023-03-25T19:55:17.166Z"
   },
   {
    "duration": 6,
    "start_time": "2023-03-25T19:55:17.173Z"
   },
   {
    "duration": 6,
    "start_time": "2023-03-25T19:55:17.181Z"
   },
   {
    "duration": 137,
    "start_time": "2023-03-25T19:55:17.188Z"
   },
   {
    "duration": 147,
    "start_time": "2023-03-25T19:55:17.326Z"
   },
   {
    "duration": 6,
    "start_time": "2023-03-25T19:55:17.474Z"
   },
   {
    "duration": 6,
    "start_time": "2023-03-25T19:55:17.481Z"
   },
   {
    "duration": 18,
    "start_time": "2023-03-25T19:55:17.488Z"
   },
   {
    "duration": 21,
    "start_time": "2023-03-25T19:55:17.508Z"
   },
   {
    "duration": 16,
    "start_time": "2023-03-25T19:55:17.530Z"
   },
   {
    "duration": 11,
    "start_time": "2023-03-25T19:55:17.552Z"
   },
   {
    "duration": 33,
    "start_time": "2023-03-25T19:55:17.565Z"
   },
   {
    "duration": 9,
    "start_time": "2023-03-25T19:55:17.599Z"
   },
   {
    "duration": 4,
    "start_time": "2023-03-25T19:55:17.610Z"
   },
   {
    "duration": 185,
    "start_time": "2023-03-25T19:55:17.615Z"
   },
   {
    "duration": 12,
    "start_time": "2023-03-25T19:55:17.802Z"
   },
   {
    "duration": 7,
    "start_time": "2023-03-25T19:55:17.815Z"
   },
   {
    "duration": 18,
    "start_time": "2023-03-25T19:55:17.847Z"
   },
   {
    "duration": 584,
    "start_time": "2023-03-25T19:55:17.867Z"
   },
   {
    "duration": 655,
    "start_time": "2023-03-25T19:55:18.456Z"
   },
   {
    "duration": 564,
    "start_time": "2023-03-25T19:55:19.114Z"
   },
   {
    "duration": 967,
    "start_time": "2023-03-25T19:55:19.680Z"
   },
   {
    "duration": 816,
    "start_time": "2023-03-25T19:55:20.653Z"
   },
   {
    "duration": 463,
    "start_time": "2023-03-25T19:55:21.470Z"
   },
   {
    "duration": 418,
    "start_time": "2023-03-25T19:55:21.941Z"
   },
   {
    "duration": 6,
    "start_time": "2023-03-25T19:55:22.363Z"
   },
   {
    "duration": 8,
    "start_time": "2023-03-25T19:55:22.371Z"
   },
   {
    "duration": 6,
    "start_time": "2023-03-25T19:55:22.380Z"
   },
   {
    "duration": 9,
    "start_time": "2023-03-25T19:55:22.388Z"
   },
   {
    "duration": 1083,
    "start_time": "2023-03-25T19:55:22.399Z"
   },
   {
    "duration": 6,
    "start_time": "2023-03-25T19:55:23.484Z"
   },
   {
    "duration": 16,
    "start_time": "2023-03-25T19:55:23.491Z"
   },
   {
    "duration": 55,
    "start_time": "2023-03-25T19:55:23.509Z"
   },
   {
    "duration": 3,
    "start_time": "2023-03-25T19:55:23.567Z"
   },
   {
    "duration": 4886,
    "start_time": "2023-03-25T19:55:23.572Z"
   },
   {
    "duration": 82,
    "start_time": "2023-03-25T19:55:28.460Z"
   },
   {
    "duration": 952,
    "start_time": "2023-03-25T19:55:28.544Z"
   },
   {
    "duration": 118883,
    "start_time": "2023-03-25T19:55:29.498Z"
   },
   {
    "duration": 919,
    "start_time": "2023-03-25T19:57:28.383Z"
   },
   {
    "duration": 3,
    "start_time": "2023-03-25T19:57:29.303Z"
   },
   {
    "duration": 61,
    "start_time": "2023-03-25T19:57:29.308Z"
   },
   {
    "duration": 6,
    "start_time": "2023-03-25T19:57:29.371Z"
   },
   {
    "duration": 244,
    "start_time": "2023-03-25T19:57:29.379Z"
   },
   {
    "duration": 23,
    "start_time": "2023-03-25T19:57:29.625Z"
   },
   {
    "duration": 1861,
    "start_time": "2023-03-26T17:12:01.020Z"
   },
   {
    "duration": 2091,
    "start_time": "2023-03-26T17:12:02.883Z"
   },
   {
    "duration": 22,
    "start_time": "2023-03-26T17:12:04.976Z"
   },
   {
    "duration": 12,
    "start_time": "2023-03-26T17:12:05.000Z"
   },
   {
    "duration": 23,
    "start_time": "2023-03-26T17:12:05.014Z"
   },
   {
    "duration": 27,
    "start_time": "2023-03-26T17:12:05.038Z"
   },
   {
    "duration": 7,
    "start_time": "2023-03-26T17:12:05.066Z"
   },
   {
    "duration": 69,
    "start_time": "2023-03-26T17:12:05.075Z"
   },
   {
    "duration": 30,
    "start_time": "2023-03-26T17:12:05.146Z"
   },
   {
    "duration": 9,
    "start_time": "2023-03-26T17:12:05.179Z"
   },
   {
    "duration": 18,
    "start_time": "2023-03-26T17:12:05.189Z"
   },
   {
    "duration": 6,
    "start_time": "2023-03-26T17:12:05.209Z"
   },
   {
    "duration": 3,
    "start_time": "2023-03-26T17:12:05.400Z"
   },
   {
    "duration": 9,
    "start_time": "2023-03-26T17:12:06.135Z"
   },
   {
    "duration": 6,
    "start_time": "2023-03-26T17:12:06.914Z"
   },
   {
    "duration": 6,
    "start_time": "2023-03-26T17:12:07.567Z"
   },
   {
    "duration": 2025,
    "start_time": "2023-03-26T17:15:25.072Z"
   },
   {
    "duration": 682,
    "start_time": "2023-03-26T17:15:27.099Z"
   },
   {
    "duration": 26,
    "start_time": "2023-03-26T17:15:27.783Z"
   },
   {
    "duration": 11,
    "start_time": "2023-03-26T17:15:27.813Z"
   },
   {
    "duration": 10,
    "start_time": "2023-03-26T17:15:27.826Z"
   },
   {
    "duration": 7,
    "start_time": "2023-03-26T17:15:27.838Z"
   },
   {
    "duration": 8,
    "start_time": "2023-03-26T17:15:27.847Z"
   },
   {
    "duration": 86,
    "start_time": "2023-03-26T17:15:27.857Z"
   },
   {
    "duration": 26,
    "start_time": "2023-03-26T17:15:27.945Z"
   },
   {
    "duration": 29,
    "start_time": "2023-03-26T17:15:27.974Z"
   },
   {
    "duration": 6,
    "start_time": "2023-03-26T17:15:28.005Z"
   },
   {
    "duration": 9,
    "start_time": "2023-03-26T17:15:28.014Z"
   },
   {
    "duration": 2,
    "start_time": "2023-03-26T17:15:28.071Z"
   },
   {
    "duration": 10,
    "start_time": "2023-03-26T17:15:28.203Z"
   },
   {
    "duration": 6,
    "start_time": "2023-03-26T17:15:28.953Z"
   },
   {
    "duration": 7,
    "start_time": "2023-03-26T17:15:29.104Z"
   },
   {
    "duration": 5,
    "start_time": "2023-03-26T17:15:30.828Z"
   },
   {
    "duration": 6,
    "start_time": "2023-03-26T17:15:31.625Z"
   },
   {
    "duration": 8,
    "start_time": "2023-03-26T17:15:31.776Z"
   },
   {
    "duration": 104,
    "start_time": "2023-03-26T17:15:32.102Z"
   },
   {
    "duration": 118,
    "start_time": "2023-03-26T17:15:32.434Z"
   },
   {
    "duration": 6,
    "start_time": "2023-03-26T17:15:32.944Z"
   },
   {
    "duration": 7,
    "start_time": "2023-03-26T17:15:33.258Z"
   },
   {
    "duration": 9,
    "start_time": "2023-03-26T17:15:33.648Z"
   },
   {
    "duration": 6,
    "start_time": "2023-03-26T17:15:33.798Z"
   },
   {
    "duration": 12,
    "start_time": "2023-03-26T17:15:33.962Z"
   },
   {
    "duration": 3,
    "start_time": "2023-03-26T17:15:34.309Z"
   },
   {
    "duration": 10,
    "start_time": "2023-03-26T17:15:34.490Z"
   },
   {
    "duration": 10,
    "start_time": "2023-03-26T17:15:34.638Z"
   },
   {
    "duration": 4,
    "start_time": "2023-03-26T17:15:34.968Z"
   },
   {
    "duration": 185,
    "start_time": "2023-03-26T17:15:35.118Z"
   },
   {
    "duration": 14,
    "start_time": "2023-03-26T17:15:35.305Z"
   },
   {
    "duration": 8,
    "start_time": "2023-03-26T17:15:36.228Z"
   },
   {
    "duration": 9,
    "start_time": "2023-03-26T17:15:36.409Z"
   },
   {
    "duration": 568,
    "start_time": "2023-03-26T17:15:37.293Z"
   },
   {
    "duration": 596,
    "start_time": "2023-03-26T17:15:37.863Z"
   },
   {
    "duration": 512,
    "start_time": "2023-03-26T17:15:38.461Z"
   },
   {
    "duration": 415,
    "start_time": "2023-03-26T17:15:38.975Z"
   },
   {
    "duration": 389,
    "start_time": "2023-03-26T17:15:39.392Z"
   },
   {
    "duration": 6,
    "start_time": "2023-03-26T17:15:51.745Z"
   },
   {
    "duration": 6,
    "start_time": "2023-03-26T17:15:51.873Z"
   },
   {
    "duration": 7,
    "start_time": "2023-03-26T17:15:52.009Z"
   },
   {
    "duration": 5,
    "start_time": "2023-03-26T17:15:52.159Z"
   },
   {
    "duration": 905,
    "start_time": "2023-03-26T17:15:52.293Z"
   },
   {
    "duration": 5,
    "start_time": "2023-03-26T17:15:54.066Z"
   },
   {
    "duration": 4,
    "start_time": "2023-03-26T17:17:20.886Z"
   },
   {
    "duration": 80,
    "start_time": "2023-03-26T17:17:24.920Z"
   },
   {
    "duration": 110,
    "start_time": "2023-03-26T17:17:44.976Z"
   },
   {
    "duration": 10,
    "start_time": "2023-03-26T17:17:53.421Z"
   },
   {
    "duration": 27,
    "start_time": "2023-03-26T17:17:57.050Z"
   },
   {
    "duration": 49,
    "start_time": "2023-03-26T17:18:02.287Z"
   },
   {
    "duration": 26,
    "start_time": "2023-03-26T17:18:20.510Z"
   },
   {
    "duration": 74,
    "start_time": "2023-03-26T17:18:29.152Z"
   },
   {
    "duration": 80,
    "start_time": "2023-03-26T17:19:02.002Z"
   },
   {
    "duration": 25,
    "start_time": "2023-03-26T17:19:58.463Z"
   },
   {
    "duration": 1936,
    "start_time": "2023-03-26T17:20:47.683Z"
   },
   {
    "duration": 686,
    "start_time": "2023-03-26T17:20:49.621Z"
   },
   {
    "duration": 20,
    "start_time": "2023-03-26T17:20:50.309Z"
   },
   {
    "duration": 11,
    "start_time": "2023-03-26T17:20:50.331Z"
   },
   {
    "duration": 11,
    "start_time": "2023-03-26T17:20:50.343Z"
   },
   {
    "duration": 18,
    "start_time": "2023-03-26T17:20:50.355Z"
   },
   {
    "duration": 18,
    "start_time": "2023-03-26T17:20:50.375Z"
   },
   {
    "duration": 66,
    "start_time": "2023-03-26T17:20:50.395Z"
   },
   {
    "duration": 24,
    "start_time": "2023-03-26T17:20:50.463Z"
   },
   {
    "duration": 18,
    "start_time": "2023-03-26T17:20:50.490Z"
   },
   {
    "duration": 12,
    "start_time": "2023-03-26T17:20:50.510Z"
   },
   {
    "duration": 9,
    "start_time": "2023-03-26T17:20:50.523Z"
   },
   {
    "duration": 2,
    "start_time": "2023-03-26T17:20:50.534Z"
   },
   {
    "duration": 11,
    "start_time": "2023-03-26T17:20:50.538Z"
   },
   {
    "duration": 6,
    "start_time": "2023-03-26T17:20:50.550Z"
   },
   {
    "duration": 5,
    "start_time": "2023-03-26T17:20:50.558Z"
   },
   {
    "duration": 5,
    "start_time": "2023-03-26T17:20:51.743Z"
   },
   {
    "duration": 6,
    "start_time": "2023-03-26T17:20:52.160Z"
   },
   {
    "duration": 6,
    "start_time": "2023-03-26T17:20:52.244Z"
   },
   {
    "duration": 116,
    "start_time": "2023-03-26T17:20:52.410Z"
   },
   {
    "duration": 125,
    "start_time": "2023-03-26T17:20:52.582Z"
   },
   {
    "duration": 7,
    "start_time": "2023-03-26T17:20:52.829Z"
   },
   {
    "duration": 7,
    "start_time": "2023-03-26T17:20:52.994Z"
   },
   {
    "duration": 9,
    "start_time": "2023-03-26T17:20:53.161Z"
   },
   {
    "duration": 6,
    "start_time": "2023-03-26T17:20:53.243Z"
   },
   {
    "duration": 10,
    "start_time": "2023-03-26T17:20:53.327Z"
   },
   {
    "duration": 3,
    "start_time": "2023-03-26T17:20:53.494Z"
   },
   {
    "duration": 10,
    "start_time": "2023-03-26T17:20:53.577Z"
   },
   {
    "duration": 9,
    "start_time": "2023-03-26T17:20:53.661Z"
   },
   {
    "duration": 5,
    "start_time": "2023-03-26T17:20:53.827Z"
   },
   {
    "duration": 168,
    "start_time": "2023-03-26T17:20:53.910Z"
   },
   {
    "duration": 12,
    "start_time": "2023-03-26T17:20:54.080Z"
   },
   {
    "duration": 8,
    "start_time": "2023-03-26T17:20:54.790Z"
   },
   {
    "duration": 7,
    "start_time": "2023-03-26T17:20:55.075Z"
   },
   {
    "duration": 573,
    "start_time": "2023-03-26T17:20:55.794Z"
   },
   {
    "duration": 617,
    "start_time": "2023-03-26T17:20:56.377Z"
   },
   {
    "duration": 545,
    "start_time": "2023-03-26T17:20:57.002Z"
   },
   {
    "duration": 427,
    "start_time": "2023-03-26T17:20:57.550Z"
   },
   {
    "duration": 422,
    "start_time": "2023-03-26T17:20:57.979Z"
   },
   {
    "duration": 6,
    "start_time": "2023-03-26T17:20:58.402Z"
   },
   {
    "duration": 20,
    "start_time": "2023-03-26T17:20:58.409Z"
   },
   {
    "duration": 14,
    "start_time": "2023-03-26T17:20:58.430Z"
   },
   {
    "duration": 6,
    "start_time": "2023-03-26T17:20:58.445Z"
   },
   {
    "duration": 938,
    "start_time": "2023-03-26T17:20:58.452Z"
   },
   {
    "duration": 11,
    "start_time": "2023-03-26T17:20:59.392Z"
   },
   {
    "duration": 11,
    "start_time": "2023-03-26T17:21:05.860Z"
   },
   {
    "duration": 27,
    "start_time": "2023-03-26T17:21:11.665Z"
   },
   {
    "duration": 51,
    "start_time": "2023-03-26T17:21:16.299Z"
   },
   {
    "duration": 27,
    "start_time": "2023-03-26T17:21:24.939Z"
   },
   {
    "duration": 42,
    "start_time": "2023-03-26T17:21:58.789Z"
   },
   {
    "duration": 48,
    "start_time": "2023-03-26T17:22:02.875Z"
   },
   {
    "duration": 56,
    "start_time": "2023-03-26T18:28:47.018Z"
   },
   {
    "duration": 1790,
    "start_time": "2023-03-26T18:28:54.841Z"
   },
   {
    "duration": 2670,
    "start_time": "2023-03-26T18:28:56.633Z"
   },
   {
    "duration": 20,
    "start_time": "2023-03-26T18:28:59.305Z"
   },
   {
    "duration": 10,
    "start_time": "2023-03-26T18:28:59.328Z"
   },
   {
    "duration": 8,
    "start_time": "2023-03-26T18:28:59.340Z"
   },
   {
    "duration": 9,
    "start_time": "2023-03-26T18:28:59.349Z"
   },
   {
    "duration": 13,
    "start_time": "2023-03-26T18:28:59.360Z"
   },
   {
    "duration": 89,
    "start_time": "2023-03-26T18:28:59.374Z"
   },
   {
    "duration": 40,
    "start_time": "2023-03-26T18:28:59.470Z"
   },
   {
    "duration": 11,
    "start_time": "2023-03-26T18:28:59.513Z"
   },
   {
    "duration": 7,
    "start_time": "2023-03-26T18:28:59.525Z"
   },
   {
    "duration": 7,
    "start_time": "2023-03-26T18:28:59.534Z"
   },
   {
    "duration": 8,
    "start_time": "2023-03-26T18:28:59.579Z"
   },
   {
    "duration": 15,
    "start_time": "2023-03-26T18:28:59.595Z"
   },
   {
    "duration": 18,
    "start_time": "2023-03-26T18:28:59.611Z"
   },
   {
    "duration": 5,
    "start_time": "2023-03-26T18:28:59.630Z"
   },
   {
    "duration": 6,
    "start_time": "2023-03-26T18:28:59.637Z"
   },
   {
    "duration": 7,
    "start_time": "2023-03-26T18:28:59.644Z"
   },
   {
    "duration": 6,
    "start_time": "2023-03-26T18:28:59.653Z"
   },
   {
    "duration": 148,
    "start_time": "2023-03-26T18:28:59.660Z"
   },
   {
    "duration": 130,
    "start_time": "2023-03-26T18:28:59.810Z"
   },
   {
    "duration": 9,
    "start_time": "2023-03-26T18:28:59.941Z"
   },
   {
    "duration": 29,
    "start_time": "2023-03-26T18:28:59.951Z"
   },
   {
    "duration": 20,
    "start_time": "2023-03-26T18:28:59.981Z"
   },
   {
    "duration": 22,
    "start_time": "2023-03-26T18:29:00.003Z"
   },
   {
    "duration": 52,
    "start_time": "2023-03-26T18:29:00.027Z"
   },
   {
    "duration": 34,
    "start_time": "2023-03-26T18:29:00.080Z"
   },
   {
    "duration": 28,
    "start_time": "2023-03-26T18:29:00.118Z"
   },
   {
    "duration": 34,
    "start_time": "2023-03-26T18:29:00.148Z"
   },
   {
    "duration": 31,
    "start_time": "2023-03-26T18:29:00.184Z"
   },
   {
    "duration": 224,
    "start_time": "2023-03-26T18:29:00.217Z"
   },
   {
    "duration": 12,
    "start_time": "2023-03-26T18:29:00.442Z"
   },
   {
    "duration": 34,
    "start_time": "2023-03-26T18:29:00.462Z"
   },
   {
    "duration": 23,
    "start_time": "2023-03-26T18:29:00.497Z"
   },
   {
    "duration": 675,
    "start_time": "2023-03-26T18:29:00.522Z"
   },
   {
    "duration": 683,
    "start_time": "2023-03-26T18:29:01.201Z"
   },
   {
    "duration": 594,
    "start_time": "2023-03-26T18:29:01.885Z"
   },
   {
    "duration": 387,
    "start_time": "2023-03-26T18:29:02.481Z"
   },
   {
    "duration": 513,
    "start_time": "2023-03-26T18:29:02.877Z"
   },
   {
    "duration": 9,
    "start_time": "2023-03-26T18:29:03.400Z"
   },
   {
    "duration": 7,
    "start_time": "2023-03-26T18:29:03.410Z"
   },
   {
    "duration": 6,
    "start_time": "2023-03-26T18:29:03.419Z"
   },
   {
    "duration": 11,
    "start_time": "2023-03-26T18:29:03.426Z"
   },
   {
    "duration": 1110,
    "start_time": "2023-03-26T18:29:03.439Z"
   },
   {
    "duration": 4,
    "start_time": "2023-03-26T18:29:04.551Z"
   },
   {
    "duration": 14,
    "start_time": "2023-03-26T18:29:04.574Z"
   },
   {
    "duration": 45,
    "start_time": "2023-03-26T18:29:04.590Z"
   },
   {
    "duration": 3,
    "start_time": "2023-03-26T18:29:04.637Z"
   },
   {
    "duration": 4155,
    "start_time": "2023-03-26T18:29:04.641Z"
   },
   {
    "duration": 67,
    "start_time": "2023-03-26T18:29:08.798Z"
   },
   {
    "duration": 986,
    "start_time": "2023-03-26T18:29:08.892Z"
   },
   {
    "duration": 133899,
    "start_time": "2023-03-26T18:29:09.882Z"
   },
   {
    "duration": 1055,
    "start_time": "2023-03-26T18:31:23.796Z"
   },
   {
    "duration": 14,
    "start_time": "2023-03-26T18:31:24.853Z"
   },
   {
    "duration": 64,
    "start_time": "2023-03-26T18:31:24.869Z"
   },
   {
    "duration": 4,
    "start_time": "2023-03-26T18:31:24.935Z"
   },
   {
    "duration": 284,
    "start_time": "2023-03-26T18:32:07.090Z"
   },
   {
    "duration": 11,
    "start_time": "2023-03-26T18:32:13.240Z"
   },
   {
    "duration": 1039,
    "start_time": "2023-03-26T18:38:28.524Z"
   },
   {
    "duration": 1688,
    "start_time": "2023-03-26T18:38:42.726Z"
   },
   {
    "duration": 937,
    "start_time": "2023-03-26T18:38:44.419Z"
   },
   {
    "duration": 36,
    "start_time": "2023-03-26T18:38:45.357Z"
   },
   {
    "duration": 38,
    "start_time": "2023-03-26T18:38:45.400Z"
   },
   {
    "duration": 14,
    "start_time": "2023-03-26T18:38:45.440Z"
   },
   {
    "duration": 21,
    "start_time": "2023-03-26T18:38:45.457Z"
   },
   {
    "duration": 12,
    "start_time": "2023-03-26T18:38:45.485Z"
   },
   {
    "duration": 82,
    "start_time": "2023-03-26T18:38:45.500Z"
   },
   {
    "duration": 42,
    "start_time": "2023-03-26T18:38:45.584Z"
   },
   {
    "duration": 11,
    "start_time": "2023-03-26T18:38:45.634Z"
   },
   {
    "duration": 7,
    "start_time": "2023-03-26T18:38:45.647Z"
   },
   {
    "duration": 21,
    "start_time": "2023-03-26T18:38:45.666Z"
   },
   {
    "duration": 5,
    "start_time": "2023-03-26T18:38:45.697Z"
   },
   {
    "duration": 16,
    "start_time": "2023-03-26T18:38:45.706Z"
   },
   {
    "duration": 6,
    "start_time": "2023-03-26T18:38:45.726Z"
   },
   {
    "duration": 6,
    "start_time": "2023-03-26T18:38:45.734Z"
   },
   {
    "duration": 5,
    "start_time": "2023-03-26T18:38:45.743Z"
   },
   {
    "duration": 39,
    "start_time": "2023-03-26T18:38:45.750Z"
   },
   {
    "duration": 32,
    "start_time": "2023-03-26T18:38:45.793Z"
   },
   {
    "duration": 131,
    "start_time": "2023-03-26T18:38:45.828Z"
   },
   {
    "duration": 161,
    "start_time": "2023-03-26T18:38:45.961Z"
   },
   {
    "duration": 7,
    "start_time": "2023-03-26T18:38:46.127Z"
   },
   {
    "duration": 7,
    "start_time": "2023-03-26T18:38:46.136Z"
   },
   {
    "duration": 34,
    "start_time": "2023-03-26T18:38:46.144Z"
   },
   {
    "duration": 9,
    "start_time": "2023-03-26T18:38:46.179Z"
   },
   {
    "duration": 20,
    "start_time": "2023-03-26T18:38:46.189Z"
   },
   {
    "duration": 6,
    "start_time": "2023-03-26T18:38:46.211Z"
   },
   {
    "duration": 14,
    "start_time": "2023-03-26T18:38:46.221Z"
   },
   {
    "duration": 10,
    "start_time": "2023-03-26T18:38:46.236Z"
   },
   {
    "duration": 4,
    "start_time": "2023-03-26T18:38:46.247Z"
   },
   {
    "duration": 192,
    "start_time": "2023-03-26T18:38:46.264Z"
   },
   {
    "duration": 14,
    "start_time": "2023-03-26T18:38:46.458Z"
   },
   {
    "duration": 13,
    "start_time": "2023-03-26T18:38:46.473Z"
   },
   {
    "duration": 13,
    "start_time": "2023-03-26T18:38:46.489Z"
   },
   {
    "duration": 684,
    "start_time": "2023-03-26T18:38:46.508Z"
   },
   {
    "duration": 737,
    "start_time": "2023-03-26T18:38:47.200Z"
   },
   {
    "duration": 618,
    "start_time": "2023-03-26T18:38:47.938Z"
   },
   {
    "duration": 535,
    "start_time": "2023-03-26T18:38:48.557Z"
   },
   {
    "duration": 541,
    "start_time": "2023-03-26T18:38:49.093Z"
   },
   {
    "duration": 7,
    "start_time": "2023-03-26T18:38:49.636Z"
   },
   {
    "duration": 29,
    "start_time": "2023-03-26T18:38:49.645Z"
   },
   {
    "duration": 11,
    "start_time": "2023-03-26T18:38:49.682Z"
   },
   {
    "duration": 23,
    "start_time": "2023-03-26T18:38:49.696Z"
   },
   {
    "duration": 1118,
    "start_time": "2023-03-26T18:38:49.725Z"
   },
   {
    "duration": 5,
    "start_time": "2023-03-26T18:38:50.845Z"
   },
   {
    "duration": 35,
    "start_time": "2023-03-26T18:38:50.852Z"
   },
   {
    "duration": 60,
    "start_time": "2023-03-26T18:38:50.890Z"
   },
   {
    "duration": 3,
    "start_time": "2023-03-26T18:38:50.951Z"
   },
   {
    "duration": 7331,
    "start_time": "2023-03-26T18:38:50.957Z"
   },
   {
    "duration": 55,
    "start_time": "2023-03-26T18:38:58.308Z"
   },
   {
    "duration": 1231,
    "start_time": "2023-03-26T18:38:58.370Z"
   },
   {
    "duration": 132504,
    "start_time": "2023-03-26T18:38:59.603Z"
   },
   {
    "duration": 997,
    "start_time": "2023-03-26T18:41:12.115Z"
   },
   {
    "duration": 3,
    "start_time": "2023-03-26T18:41:13.115Z"
   },
   {
    "duration": 52,
    "start_time": "2023-03-26T18:41:13.120Z"
   },
   {
    "duration": 10,
    "start_time": "2023-03-26T18:41:13.184Z"
   },
   {
    "duration": 252,
    "start_time": "2023-03-26T18:41:13.196Z"
   },
   {
    "duration": 28,
    "start_time": "2023-03-26T18:41:13.450Z"
   },
   {
    "duration": 6,
    "start_time": "2023-03-26T18:45:12.630Z"
   },
   {
    "duration": 4357,
    "start_time": "2023-03-26T18:45:23.558Z"
   },
   {
    "duration": 4252,
    "start_time": "2023-03-26T18:45:38.072Z"
   },
   {
    "duration": 3,
    "start_time": "2023-03-26T18:45:49.751Z"
   },
   {
    "duration": 4786,
    "start_time": "2023-03-26T18:45:52.097Z"
   },
   {
    "duration": 9,
    "start_time": "2023-03-26T18:46:06.760Z"
   },
   {
    "duration": 2966,
    "start_time": "2023-03-26T18:46:11.329Z"
   },
   {
    "duration": 9,
    "start_time": "2023-03-26T18:46:50.751Z"
   },
   {
    "duration": 4127,
    "start_time": "2023-03-26T18:46:56.045Z"
   },
   {
    "duration": 5,
    "start_time": "2023-03-26T18:47:04.894Z"
   },
   {
    "duration": 1162,
    "start_time": "2023-03-26T18:47:07.442Z"
   },
   {
    "duration": 1155,
    "start_time": "2023-03-26T18:47:18.322Z"
   },
   {
    "duration": 1834,
    "start_time": "2023-03-26T18:47:32.489Z"
   },
   {
    "duration": 1148,
    "start_time": "2023-03-26T18:47:34.331Z"
   },
   {
    "duration": 38,
    "start_time": "2023-03-26T18:47:35.486Z"
   },
   {
    "duration": 16,
    "start_time": "2023-03-26T18:47:35.530Z"
   },
   {
    "duration": 12,
    "start_time": "2023-03-26T18:47:35.548Z"
   },
   {
    "duration": 13,
    "start_time": "2023-03-26T18:47:35.569Z"
   },
   {
    "duration": 9,
    "start_time": "2023-03-26T18:47:35.584Z"
   },
   {
    "duration": 86,
    "start_time": "2023-03-26T18:47:35.595Z"
   },
   {
    "duration": 43,
    "start_time": "2023-03-26T18:47:35.683Z"
   },
   {
    "duration": 13,
    "start_time": "2023-03-26T18:47:35.729Z"
   },
   {
    "duration": 22,
    "start_time": "2023-03-26T18:47:35.743Z"
   },
   {
    "duration": 8,
    "start_time": "2023-03-26T18:47:35.770Z"
   },
   {
    "duration": 3,
    "start_time": "2023-03-26T18:47:35.780Z"
   },
   {
    "duration": 13,
    "start_time": "2023-03-26T18:47:35.785Z"
   },
   {
    "duration": 22,
    "start_time": "2023-03-26T18:47:35.801Z"
   },
   {
    "duration": 13,
    "start_time": "2023-03-26T18:47:35.827Z"
   },
   {
    "duration": 5,
    "start_time": "2023-03-26T18:47:35.842Z"
   },
   {
    "duration": 23,
    "start_time": "2023-03-26T18:47:35.849Z"
   },
   {
    "duration": 12,
    "start_time": "2023-03-26T18:47:35.874Z"
   },
   {
    "duration": 154,
    "start_time": "2023-03-26T18:47:35.889Z"
   },
   {
    "duration": 160,
    "start_time": "2023-03-26T18:47:36.045Z"
   },
   {
    "duration": 12,
    "start_time": "2023-03-26T18:47:36.207Z"
   },
   {
    "duration": 9,
    "start_time": "2023-03-26T18:47:36.221Z"
   },
   {
    "duration": 11,
    "start_time": "2023-03-26T18:47:36.232Z"
   },
   {
    "duration": 28,
    "start_time": "2023-03-26T18:47:36.246Z"
   },
   {
    "duration": 44,
    "start_time": "2023-03-26T18:47:36.275Z"
   },
   {
    "duration": 11,
    "start_time": "2023-03-26T18:47:36.320Z"
   },
   {
    "duration": 12,
    "start_time": "2023-03-26T18:47:36.337Z"
   },
   {
    "duration": 9,
    "start_time": "2023-03-26T18:47:36.350Z"
   },
   {
    "duration": 15,
    "start_time": "2023-03-26T18:47:36.360Z"
   },
   {
    "duration": 235,
    "start_time": "2023-03-26T18:47:36.377Z"
   },
   {
    "duration": 17,
    "start_time": "2023-03-26T18:47:36.614Z"
   },
   {
    "duration": 8,
    "start_time": "2023-03-26T18:47:36.636Z"
   },
   {
    "duration": 6,
    "start_time": "2023-03-26T18:47:36.645Z"
   },
   {
    "duration": 760,
    "start_time": "2023-03-26T18:47:36.663Z"
   },
   {
    "duration": 787,
    "start_time": "2023-03-26T18:47:37.435Z"
   },
   {
    "duration": 619,
    "start_time": "2023-03-26T18:47:38.227Z"
   },
   {
    "duration": 491,
    "start_time": "2023-03-26T18:47:38.848Z"
   },
   {
    "duration": 497,
    "start_time": "2023-03-26T18:47:39.340Z"
   },
   {
    "duration": 6,
    "start_time": "2023-03-26T18:47:39.838Z"
   },
   {
    "duration": 57,
    "start_time": "2023-03-26T18:47:39.846Z"
   },
   {
    "duration": 16,
    "start_time": "2023-03-26T18:47:39.909Z"
   },
   {
    "duration": 30,
    "start_time": "2023-03-26T18:47:39.930Z"
   },
   {
    "duration": 1226,
    "start_time": "2023-03-26T18:47:39.965Z"
   },
   {
    "duration": 9,
    "start_time": "2023-03-26T18:47:41.193Z"
   },
   {
    "duration": 21,
    "start_time": "2023-03-26T18:47:41.204Z"
   },
   {
    "duration": 46,
    "start_time": "2023-03-26T18:47:41.227Z"
   },
   {
    "duration": 3,
    "start_time": "2023-03-26T18:47:41.275Z"
   },
   {
    "duration": 5092,
    "start_time": "2023-03-26T18:47:41.280Z"
   },
   {
    "duration": 14,
    "start_time": "2023-03-26T18:47:46.378Z"
   },
   {
    "duration": 1135,
    "start_time": "2023-03-26T18:47:46.410Z"
   },
   {
    "duration": 138583,
    "start_time": "2023-03-26T18:47:47.547Z"
   },
   {
    "duration": 1009,
    "start_time": "2023-03-26T18:50:06.132Z"
   },
   {
    "duration": 3,
    "start_time": "2023-03-26T18:50:07.143Z"
   },
   {
    "duration": 91,
    "start_time": "2023-03-26T18:50:07.147Z"
   },
   {
    "duration": 5,
    "start_time": "2023-03-26T18:50:07.240Z"
   },
   {
    "duration": 340,
    "start_time": "2023-03-26T18:50:07.247Z"
   },
   {
    "duration": 26,
    "start_time": "2023-03-26T18:50:07.599Z"
   },
   {
    "duration": 13,
    "start_time": "2023-03-26T18:56:17.387Z"
   },
   {
    "duration": 928,
    "start_time": "2023-03-26T18:56:17.402Z"
   },
   {
    "duration": 23,
    "start_time": "2023-03-26T18:56:18.332Z"
   },
   {
    "duration": 26,
    "start_time": "2023-03-26T18:56:18.356Z"
   },
   {
    "duration": 17,
    "start_time": "2023-03-26T18:56:18.385Z"
   },
   {
    "duration": 18,
    "start_time": "2023-03-26T18:56:18.405Z"
   },
   {
    "duration": 11,
    "start_time": "2023-03-26T18:56:18.431Z"
   },
   {
    "duration": 102,
    "start_time": "2023-03-26T18:56:18.444Z"
   },
   {
    "duration": 46,
    "start_time": "2023-03-26T18:56:18.548Z"
   },
   {
    "duration": 28,
    "start_time": "2023-03-26T18:56:18.597Z"
   },
   {
    "duration": 17,
    "start_time": "2023-03-26T18:56:18.632Z"
   },
   {
    "duration": 7,
    "start_time": "2023-03-26T18:56:18.651Z"
   },
   {
    "duration": 3,
    "start_time": "2023-03-26T18:56:18.660Z"
   },
   {
    "duration": 21,
    "start_time": "2023-03-26T18:56:18.667Z"
   },
   {
    "duration": 10,
    "start_time": "2023-03-26T18:56:18.690Z"
   },
   {
    "duration": 35,
    "start_time": "2023-03-26T18:56:18.702Z"
   },
   {
    "duration": 7,
    "start_time": "2023-03-26T18:56:18.738Z"
   },
   {
    "duration": 10,
    "start_time": "2023-03-26T18:56:18.747Z"
   },
   {
    "duration": 29,
    "start_time": "2023-03-26T18:56:18.759Z"
   },
   {
    "duration": 145,
    "start_time": "2023-03-26T18:56:18.790Z"
   },
   {
    "duration": 178,
    "start_time": "2023-03-26T18:56:18.937Z"
   },
   {
    "duration": 7,
    "start_time": "2023-03-26T18:56:19.117Z"
   },
   {
    "duration": 12,
    "start_time": "2023-03-26T18:56:19.125Z"
   },
   {
    "duration": 28,
    "start_time": "2023-03-26T18:56:19.139Z"
   },
   {
    "duration": 19,
    "start_time": "2023-03-26T18:56:19.169Z"
   },
   {
    "duration": 13,
    "start_time": "2023-03-26T18:56:19.197Z"
   },
   {
    "duration": 4,
    "start_time": "2023-03-26T18:56:19.212Z"
   },
   {
    "duration": 14,
    "start_time": "2023-03-26T18:56:19.218Z"
   },
   {
    "duration": 9,
    "start_time": "2023-03-26T18:56:19.233Z"
   },
   {
    "duration": 4,
    "start_time": "2023-03-26T18:56:19.244Z"
   },
   {
    "duration": 203,
    "start_time": "2023-03-26T18:56:19.250Z"
   },
   {
    "duration": 31,
    "start_time": "2023-03-26T18:56:19.455Z"
   },
   {
    "duration": 17,
    "start_time": "2023-03-26T18:56:19.488Z"
   },
   {
    "duration": 19,
    "start_time": "2023-03-26T18:56:19.507Z"
   },
   {
    "duration": 656,
    "start_time": "2023-03-26T18:56:19.530Z"
   },
   {
    "duration": 616,
    "start_time": "2023-03-26T18:56:20.190Z"
   },
   {
    "duration": 920,
    "start_time": "2023-03-26T18:56:20.812Z"
   },
   {
    "duration": 456,
    "start_time": "2023-03-26T18:56:21.734Z"
   },
   {
    "duration": 437,
    "start_time": "2023-03-26T18:56:22.192Z"
   },
   {
    "duration": 8,
    "start_time": "2023-03-26T18:56:22.631Z"
   },
   {
    "duration": 22,
    "start_time": "2023-03-26T18:56:22.645Z"
   },
   {
    "duration": 11,
    "start_time": "2023-03-26T18:56:22.669Z"
   },
   {
    "duration": 11,
    "start_time": "2023-03-26T18:56:22.682Z"
   },
   {
    "duration": 447,
    "start_time": "2023-03-26T18:56:22.695Z"
   },
   {
    "duration": 0,
    "start_time": "2023-03-26T18:56:23.144Z"
   },
   {
    "duration": 0,
    "start_time": "2023-03-26T18:56:23.145Z"
   },
   {
    "duration": 0,
    "start_time": "2023-03-26T18:56:23.147Z"
   },
   {
    "duration": 0,
    "start_time": "2023-03-26T18:56:23.148Z"
   },
   {
    "duration": 0,
    "start_time": "2023-03-26T18:56:23.149Z"
   },
   {
    "duration": 0,
    "start_time": "2023-03-26T18:56:23.150Z"
   },
   {
    "duration": 0,
    "start_time": "2023-03-26T18:56:23.151Z"
   },
   {
    "duration": 0,
    "start_time": "2023-03-26T18:56:23.169Z"
   },
   {
    "duration": 0,
    "start_time": "2023-03-26T18:56:23.170Z"
   },
   {
    "duration": 0,
    "start_time": "2023-03-26T18:56:23.171Z"
   },
   {
    "duration": 0,
    "start_time": "2023-03-26T18:56:23.171Z"
   },
   {
    "duration": 0,
    "start_time": "2023-03-26T18:56:23.172Z"
   },
   {
    "duration": 0,
    "start_time": "2023-03-26T18:56:23.173Z"
   },
   {
    "duration": 0,
    "start_time": "2023-03-26T18:56:23.173Z"
   },
   {
    "duration": 1779,
    "start_time": "2023-03-26T18:56:31.887Z"
   },
   {
    "duration": 976,
    "start_time": "2023-03-26T18:56:33.675Z"
   },
   {
    "duration": 50,
    "start_time": "2023-03-26T18:56:34.654Z"
   },
   {
    "duration": 20,
    "start_time": "2023-03-26T18:56:34.717Z"
   },
   {
    "duration": 12,
    "start_time": "2023-03-26T18:56:34.741Z"
   },
   {
    "duration": 19,
    "start_time": "2023-03-26T18:56:34.755Z"
   },
   {
    "duration": 8,
    "start_time": "2023-03-26T18:56:34.776Z"
   },
   {
    "duration": 92,
    "start_time": "2023-03-26T18:56:34.787Z"
   },
   {
    "duration": 46,
    "start_time": "2023-03-26T18:56:34.883Z"
   },
   {
    "duration": 15,
    "start_time": "2023-03-26T18:56:34.931Z"
   },
   {
    "duration": 35,
    "start_time": "2023-03-26T18:56:34.949Z"
   },
   {
    "duration": 15,
    "start_time": "2023-03-26T18:56:34.996Z"
   },
   {
    "duration": 12,
    "start_time": "2023-03-26T18:56:35.014Z"
   },
   {
    "duration": 14,
    "start_time": "2023-03-26T18:56:35.032Z"
   },
   {
    "duration": 26,
    "start_time": "2023-03-26T18:56:35.050Z"
   },
   {
    "duration": 15,
    "start_time": "2023-03-26T18:56:35.078Z"
   },
   {
    "duration": 12,
    "start_time": "2023-03-26T18:56:35.097Z"
   },
   {
    "duration": 10,
    "start_time": "2023-03-26T18:56:35.111Z"
   },
   {
    "duration": 12,
    "start_time": "2023-03-26T18:56:35.123Z"
   },
   {
    "duration": 158,
    "start_time": "2023-03-26T18:56:35.137Z"
   },
   {
    "duration": 180,
    "start_time": "2023-03-26T18:56:35.308Z"
   },
   {
    "duration": 24,
    "start_time": "2023-03-26T18:56:35.494Z"
   },
   {
    "duration": 9,
    "start_time": "2023-03-26T18:56:35.522Z"
   },
   {
    "duration": 11,
    "start_time": "2023-03-26T18:56:35.533Z"
   },
   {
    "duration": 8,
    "start_time": "2023-03-26T18:56:35.547Z"
   },
   {
    "duration": 25,
    "start_time": "2023-03-26T18:56:35.564Z"
   },
   {
    "duration": 11,
    "start_time": "2023-03-26T18:56:35.596Z"
   },
   {
    "duration": 15,
    "start_time": "2023-03-26T18:56:35.614Z"
   },
   {
    "duration": 12,
    "start_time": "2023-03-26T18:56:35.632Z"
   },
   {
    "duration": 5,
    "start_time": "2023-03-26T18:56:35.648Z"
   },
   {
    "duration": 268,
    "start_time": "2023-03-26T18:56:35.656Z"
   },
   {
    "duration": 13,
    "start_time": "2023-03-26T18:56:35.926Z"
   },
   {
    "duration": 8,
    "start_time": "2023-03-26T18:56:35.941Z"
   },
   {
    "duration": 41,
    "start_time": "2023-03-26T18:56:35.951Z"
   },
   {
    "duration": 717,
    "start_time": "2023-03-26T18:56:36.004Z"
   },
   {
    "duration": 701,
    "start_time": "2023-03-26T18:56:36.723Z"
   },
   {
    "duration": 596,
    "start_time": "2023-03-26T18:56:37.430Z"
   },
   {
    "duration": 457,
    "start_time": "2023-03-26T18:56:38.028Z"
   },
   {
    "duration": 401,
    "start_time": "2023-03-26T18:56:38.487Z"
   },
   {
    "duration": 10,
    "start_time": "2023-03-26T18:56:38.890Z"
   },
   {
    "duration": 6,
    "start_time": "2023-03-26T18:56:38.904Z"
   },
   {
    "duration": 6,
    "start_time": "2023-03-26T18:56:38.912Z"
   },
   {
    "duration": 7,
    "start_time": "2023-03-26T18:56:38.919Z"
   },
   {
    "duration": 1097,
    "start_time": "2023-03-26T18:56:38.928Z"
   },
   {
    "duration": 8,
    "start_time": "2023-03-26T18:56:40.028Z"
   },
   {
    "duration": 25,
    "start_time": "2023-03-26T18:56:40.038Z"
   },
   {
    "duration": 60,
    "start_time": "2023-03-26T18:56:40.065Z"
   },
   {
    "duration": 3,
    "start_time": "2023-03-26T18:56:40.127Z"
   },
   {
    "duration": 4872,
    "start_time": "2023-03-26T18:56:40.132Z"
   },
   {
    "duration": 3,
    "start_time": "2023-03-26T18:56:45.063Z"
   },
   {
    "duration": 1028,
    "start_time": "2023-03-26T18:56:45.074Z"
   },
   {
    "duration": 133421,
    "start_time": "2023-03-26T18:56:46.104Z"
   },
   {
    "duration": 1026,
    "start_time": "2023-03-26T18:58:59.528Z"
   },
   {
    "duration": 27,
    "start_time": "2023-03-26T18:59:00.561Z"
   },
   {
    "duration": 99,
    "start_time": "2023-03-26T18:59:00.598Z"
   },
   {
    "duration": 20,
    "start_time": "2023-03-26T18:59:00.699Z"
   },
   {
    "duration": 302,
    "start_time": "2023-03-26T18:59:00.725Z"
   },
   {
    "duration": 10,
    "start_time": "2023-03-26T18:59:01.029Z"
   }
  ],
  "kernelspec": {
   "display_name": "Python 3 (ipykernel)",
   "language": "python",
   "name": "python3"
  },
  "language_info": {
   "codemirror_mode": {
    "name": "ipython",
    "version": 3
   },
   "file_extension": ".py",
   "mimetype": "text/x-python",
   "name": "python",
   "nbconvert_exporter": "python",
   "pygments_lexer": "ipython3",
   "version": "3.9.13"
  },
  "toc": {
   "base_numbering": 1,
   "nav_menu": {},
   "number_sections": true,
   "sideBar": true,
   "skip_h1_title": true,
   "title_cell": "Содержание",
   "title_sidebar": "Contents",
   "toc_cell": true,
   "toc_position": {
    "height": "calc(100% - 180px)",
    "left": "10px",
    "top": "150px",
    "width": "375.852px"
   },
   "toc_section_display": true,
   "toc_window_display": true
  }
 },
 "nbformat": 4,
 "nbformat_minor": 2
}
