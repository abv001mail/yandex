{
 "cells": [
  {
   "cell_type": "markdown",
   "id": "54cea190",
   "metadata": {
    "deletable": false,
    "editable": false,
    "id": "c81daeeb"
   },
   "source": [
    "# Исследование надежности заемщиков\n"
   ]
  },
  {
   "cell_type": "markdown",
   "id": "e11f5ff2",
   "metadata": {
    "deletable": false,
    "editable": false,
    "id": "827c20bf"
   },
   "source": [
    "Во второй части проекта вы выполните шаги 3 и 4. Их вручную проверит ревьюер.\n",
    "Чтобы вам не пришлось писать код заново для шагов 1 и 2, мы добавили авторские решения в ячейки с кодом. \n",
    "\n"
   ]
  },
  {
   "cell_type": "markdown",
   "id": "1a4c019a",
   "metadata": {
    "deletable": false,
    "editable": false,
    "id": "744d7639"
   },
   "source": [
    "## Откройте таблицу и изучите общую информацию о данных"
   ]
  },
  {
   "cell_type": "markdown",
   "id": "92de1f20",
   "metadata": {
    "deletable": false,
    "editable": false,
    "id": "e7a14c31"
   },
   "source": [
    "**Задание 1. Импортируйте библиотеку pandas. Считайте данные из csv-файла в датафрейм и сохраните в переменную `data`. Путь к файлу:**\n",
    "\n",
    "`/datasets/data.csv`"
   ]
  },
  {
   "cell_type": "code",
   "execution_count": 1,
   "id": "78630511",
   "metadata": {
    "deletable": false,
    "id": "7bcf75c9"
   },
   "outputs": [],
   "source": [
    "import matplotlib as plt\n",
    "import pandas as pd\n",
    "import seaborn as sns\n",
    "\n",
    "try:\n",
    "    data = pd.read_csv('/datasets/data.csv')\n",
    "except:\n",
    "    data = pd.read_csv('https://s3.yandex.net/datasets/data.csv')"
   ]
  },
  {
   "cell_type": "markdown",
   "id": "fdce24b2",
   "metadata": {
    "deletable": false,
    "editable": false,
    "id": "b8038fe3"
   },
   "source": [
    "**Задание 2. Выведите первые 20 строчек датафрейма `data` на экран.**"
   ]
  },
  {
   "cell_type": "code",
   "execution_count": 2,
   "id": "574ad2c9",
   "metadata": {
    "deletable": false,
    "id": "2a7cab99",
    "outputId": "1a8f3ef2-d323-4ec2-ddf7-89670b5944c4"
   },
   "outputs": [
    {
     "data": {
      "text/html": [
       "<div>\n",
       "<style scoped>\n",
       "    .dataframe tbody tr th:only-of-type {\n",
       "        vertical-align: middle;\n",
       "    }\n",
       "\n",
       "    .dataframe tbody tr th {\n",
       "        vertical-align: top;\n",
       "    }\n",
       "\n",
       "    .dataframe thead th {\n",
       "        text-align: right;\n",
       "    }\n",
       "</style>\n",
       "<table border=\"1\" class=\"dataframe\">\n",
       "  <thead>\n",
       "    <tr style=\"text-align: right;\">\n",
       "      <th></th>\n",
       "      <th>children</th>\n",
       "      <th>days_employed</th>\n",
       "      <th>dob_years</th>\n",
       "      <th>education</th>\n",
       "      <th>education_id</th>\n",
       "      <th>family_status</th>\n",
       "      <th>family_status_id</th>\n",
       "      <th>gender</th>\n",
       "      <th>income_type</th>\n",
       "      <th>debt</th>\n",
       "      <th>total_income</th>\n",
       "      <th>purpose</th>\n",
       "    </tr>\n",
       "  </thead>\n",
       "  <tbody>\n",
       "    <tr>\n",
       "      <th>0</th>\n",
       "      <td>1</td>\n",
       "      <td>-8437.673028</td>\n",
       "      <td>42</td>\n",
       "      <td>высшее</td>\n",
       "      <td>0</td>\n",
       "      <td>женат / замужем</td>\n",
       "      <td>0</td>\n",
       "      <td>F</td>\n",
       "      <td>сотрудник</td>\n",
       "      <td>0</td>\n",
       "      <td>253875.639453</td>\n",
       "      <td>покупка жилья</td>\n",
       "    </tr>\n",
       "    <tr>\n",
       "      <th>1</th>\n",
       "      <td>1</td>\n",
       "      <td>-4024.803754</td>\n",
       "      <td>36</td>\n",
       "      <td>среднее</td>\n",
       "      <td>1</td>\n",
       "      <td>женат / замужем</td>\n",
       "      <td>0</td>\n",
       "      <td>F</td>\n",
       "      <td>сотрудник</td>\n",
       "      <td>0</td>\n",
       "      <td>112080.014102</td>\n",
       "      <td>приобретение автомобиля</td>\n",
       "    </tr>\n",
       "    <tr>\n",
       "      <th>2</th>\n",
       "      <td>0</td>\n",
       "      <td>-5623.422610</td>\n",
       "      <td>33</td>\n",
       "      <td>Среднее</td>\n",
       "      <td>1</td>\n",
       "      <td>женат / замужем</td>\n",
       "      <td>0</td>\n",
       "      <td>M</td>\n",
       "      <td>сотрудник</td>\n",
       "      <td>0</td>\n",
       "      <td>145885.952297</td>\n",
       "      <td>покупка жилья</td>\n",
       "    </tr>\n",
       "    <tr>\n",
       "      <th>3</th>\n",
       "      <td>3</td>\n",
       "      <td>-4124.747207</td>\n",
       "      <td>32</td>\n",
       "      <td>среднее</td>\n",
       "      <td>1</td>\n",
       "      <td>женат / замужем</td>\n",
       "      <td>0</td>\n",
       "      <td>M</td>\n",
       "      <td>сотрудник</td>\n",
       "      <td>0</td>\n",
       "      <td>267628.550329</td>\n",
       "      <td>дополнительное образование</td>\n",
       "    </tr>\n",
       "    <tr>\n",
       "      <th>4</th>\n",
       "      <td>0</td>\n",
       "      <td>340266.072047</td>\n",
       "      <td>53</td>\n",
       "      <td>среднее</td>\n",
       "      <td>1</td>\n",
       "      <td>гражданский брак</td>\n",
       "      <td>1</td>\n",
       "      <td>F</td>\n",
       "      <td>пенсионер</td>\n",
       "      <td>0</td>\n",
       "      <td>158616.077870</td>\n",
       "      <td>сыграть свадьбу</td>\n",
       "    </tr>\n",
       "    <tr>\n",
       "      <th>5</th>\n",
       "      <td>0</td>\n",
       "      <td>-926.185831</td>\n",
       "      <td>27</td>\n",
       "      <td>высшее</td>\n",
       "      <td>0</td>\n",
       "      <td>гражданский брак</td>\n",
       "      <td>1</td>\n",
       "      <td>M</td>\n",
       "      <td>компаньон</td>\n",
       "      <td>0</td>\n",
       "      <td>255763.565419</td>\n",
       "      <td>покупка жилья</td>\n",
       "    </tr>\n",
       "    <tr>\n",
       "      <th>6</th>\n",
       "      <td>0</td>\n",
       "      <td>-2879.202052</td>\n",
       "      <td>43</td>\n",
       "      <td>высшее</td>\n",
       "      <td>0</td>\n",
       "      <td>женат / замужем</td>\n",
       "      <td>0</td>\n",
       "      <td>F</td>\n",
       "      <td>компаньон</td>\n",
       "      <td>0</td>\n",
       "      <td>240525.971920</td>\n",
       "      <td>операции с жильем</td>\n",
       "    </tr>\n",
       "    <tr>\n",
       "      <th>7</th>\n",
       "      <td>0</td>\n",
       "      <td>-152.779569</td>\n",
       "      <td>50</td>\n",
       "      <td>СРЕДНЕЕ</td>\n",
       "      <td>1</td>\n",
       "      <td>женат / замужем</td>\n",
       "      <td>0</td>\n",
       "      <td>M</td>\n",
       "      <td>сотрудник</td>\n",
       "      <td>0</td>\n",
       "      <td>135823.934197</td>\n",
       "      <td>образование</td>\n",
       "    </tr>\n",
       "    <tr>\n",
       "      <th>8</th>\n",
       "      <td>2</td>\n",
       "      <td>-6929.865299</td>\n",
       "      <td>35</td>\n",
       "      <td>ВЫСШЕЕ</td>\n",
       "      <td>0</td>\n",
       "      <td>гражданский брак</td>\n",
       "      <td>1</td>\n",
       "      <td>F</td>\n",
       "      <td>сотрудник</td>\n",
       "      <td>0</td>\n",
       "      <td>95856.832424</td>\n",
       "      <td>на проведение свадьбы</td>\n",
       "    </tr>\n",
       "    <tr>\n",
       "      <th>9</th>\n",
       "      <td>0</td>\n",
       "      <td>-2188.756445</td>\n",
       "      <td>41</td>\n",
       "      <td>среднее</td>\n",
       "      <td>1</td>\n",
       "      <td>женат / замужем</td>\n",
       "      <td>0</td>\n",
       "      <td>M</td>\n",
       "      <td>сотрудник</td>\n",
       "      <td>0</td>\n",
       "      <td>144425.938277</td>\n",
       "      <td>покупка жилья для семьи</td>\n",
       "    </tr>\n",
       "    <tr>\n",
       "      <th>10</th>\n",
       "      <td>2</td>\n",
       "      <td>-4171.483647</td>\n",
       "      <td>36</td>\n",
       "      <td>высшее</td>\n",
       "      <td>0</td>\n",
       "      <td>женат / замужем</td>\n",
       "      <td>0</td>\n",
       "      <td>M</td>\n",
       "      <td>компаньон</td>\n",
       "      <td>0</td>\n",
       "      <td>113943.491460</td>\n",
       "      <td>покупка недвижимости</td>\n",
       "    </tr>\n",
       "    <tr>\n",
       "      <th>11</th>\n",
       "      <td>0</td>\n",
       "      <td>-792.701887</td>\n",
       "      <td>40</td>\n",
       "      <td>среднее</td>\n",
       "      <td>1</td>\n",
       "      <td>женат / замужем</td>\n",
       "      <td>0</td>\n",
       "      <td>F</td>\n",
       "      <td>сотрудник</td>\n",
       "      <td>0</td>\n",
       "      <td>77069.234271</td>\n",
       "      <td>покупка коммерческой недвижимости</td>\n",
       "    </tr>\n",
       "    <tr>\n",
       "      <th>12</th>\n",
       "      <td>0</td>\n",
       "      <td>NaN</td>\n",
       "      <td>65</td>\n",
       "      <td>среднее</td>\n",
       "      <td>1</td>\n",
       "      <td>гражданский брак</td>\n",
       "      <td>1</td>\n",
       "      <td>M</td>\n",
       "      <td>пенсионер</td>\n",
       "      <td>0</td>\n",
       "      <td>NaN</td>\n",
       "      <td>сыграть свадьбу</td>\n",
       "    </tr>\n",
       "    <tr>\n",
       "      <th>13</th>\n",
       "      <td>0</td>\n",
       "      <td>-1846.641941</td>\n",
       "      <td>54</td>\n",
       "      <td>неоконченное высшее</td>\n",
       "      <td>2</td>\n",
       "      <td>женат / замужем</td>\n",
       "      <td>0</td>\n",
       "      <td>F</td>\n",
       "      <td>сотрудник</td>\n",
       "      <td>0</td>\n",
       "      <td>130458.228857</td>\n",
       "      <td>приобретение автомобиля</td>\n",
       "    </tr>\n",
       "    <tr>\n",
       "      <th>14</th>\n",
       "      <td>0</td>\n",
       "      <td>-1844.956182</td>\n",
       "      <td>56</td>\n",
       "      <td>высшее</td>\n",
       "      <td>0</td>\n",
       "      <td>гражданский брак</td>\n",
       "      <td>1</td>\n",
       "      <td>F</td>\n",
       "      <td>компаньон</td>\n",
       "      <td>1</td>\n",
       "      <td>165127.911772</td>\n",
       "      <td>покупка жилой недвижимости</td>\n",
       "    </tr>\n",
       "    <tr>\n",
       "      <th>15</th>\n",
       "      <td>1</td>\n",
       "      <td>-972.364419</td>\n",
       "      <td>26</td>\n",
       "      <td>среднее</td>\n",
       "      <td>1</td>\n",
       "      <td>женат / замужем</td>\n",
       "      <td>0</td>\n",
       "      <td>F</td>\n",
       "      <td>сотрудник</td>\n",
       "      <td>0</td>\n",
       "      <td>116820.904450</td>\n",
       "      <td>строительство собственной недвижимости</td>\n",
       "    </tr>\n",
       "    <tr>\n",
       "      <th>16</th>\n",
       "      <td>0</td>\n",
       "      <td>-1719.934226</td>\n",
       "      <td>35</td>\n",
       "      <td>среднее</td>\n",
       "      <td>1</td>\n",
       "      <td>женат / замужем</td>\n",
       "      <td>0</td>\n",
       "      <td>F</td>\n",
       "      <td>сотрудник</td>\n",
       "      <td>0</td>\n",
       "      <td>289202.704229</td>\n",
       "      <td>недвижимость</td>\n",
       "    </tr>\n",
       "    <tr>\n",
       "      <th>17</th>\n",
       "      <td>0</td>\n",
       "      <td>-2369.999720</td>\n",
       "      <td>33</td>\n",
       "      <td>высшее</td>\n",
       "      <td>0</td>\n",
       "      <td>гражданский брак</td>\n",
       "      <td>1</td>\n",
       "      <td>M</td>\n",
       "      <td>сотрудник</td>\n",
       "      <td>0</td>\n",
       "      <td>90410.586745</td>\n",
       "      <td>строительство недвижимости</td>\n",
       "    </tr>\n",
       "    <tr>\n",
       "      <th>18</th>\n",
       "      <td>0</td>\n",
       "      <td>400281.136913</td>\n",
       "      <td>53</td>\n",
       "      <td>среднее</td>\n",
       "      <td>1</td>\n",
       "      <td>вдовец / вдова</td>\n",
       "      <td>2</td>\n",
       "      <td>F</td>\n",
       "      <td>пенсионер</td>\n",
       "      <td>0</td>\n",
       "      <td>56823.777243</td>\n",
       "      <td>на покупку подержанного автомобиля</td>\n",
       "    </tr>\n",
       "    <tr>\n",
       "      <th>19</th>\n",
       "      <td>0</td>\n",
       "      <td>-10038.818549</td>\n",
       "      <td>48</td>\n",
       "      <td>СРЕДНЕЕ</td>\n",
       "      <td>1</td>\n",
       "      <td>в разводе</td>\n",
       "      <td>3</td>\n",
       "      <td>F</td>\n",
       "      <td>сотрудник</td>\n",
       "      <td>0</td>\n",
       "      <td>242831.107982</td>\n",
       "      <td>на покупку своего автомобиля</td>\n",
       "    </tr>\n",
       "  </tbody>\n",
       "</table>\n",
       "</div>"
      ],
      "text/plain": [
       "    children  days_employed  dob_years            education  education_id  \\\n",
       "0          1   -8437.673028         42               высшее             0   \n",
       "1          1   -4024.803754         36              среднее             1   \n",
       "2          0   -5623.422610         33              Среднее             1   \n",
       "3          3   -4124.747207         32              среднее             1   \n",
       "4          0  340266.072047         53              среднее             1   \n",
       "5          0    -926.185831         27               высшее             0   \n",
       "6          0   -2879.202052         43               высшее             0   \n",
       "7          0    -152.779569         50              СРЕДНЕЕ             1   \n",
       "8          2   -6929.865299         35               ВЫСШЕЕ             0   \n",
       "9          0   -2188.756445         41              среднее             1   \n",
       "10         2   -4171.483647         36               высшее             0   \n",
       "11         0    -792.701887         40              среднее             1   \n",
       "12         0            NaN         65              среднее             1   \n",
       "13         0   -1846.641941         54  неоконченное высшее             2   \n",
       "14         0   -1844.956182         56               высшее             0   \n",
       "15         1    -972.364419         26              среднее             1   \n",
       "16         0   -1719.934226         35              среднее             1   \n",
       "17         0   -2369.999720         33               высшее             0   \n",
       "18         0  400281.136913         53              среднее             1   \n",
       "19         0  -10038.818549         48              СРЕДНЕЕ             1   \n",
       "\n",
       "       family_status  family_status_id gender income_type  debt  \\\n",
       "0    женат / замужем                 0      F   сотрудник     0   \n",
       "1    женат / замужем                 0      F   сотрудник     0   \n",
       "2    женат / замужем                 0      M   сотрудник     0   \n",
       "3    женат / замужем                 0      M   сотрудник     0   \n",
       "4   гражданский брак                 1      F   пенсионер     0   \n",
       "5   гражданский брак                 1      M   компаньон     0   \n",
       "6    женат / замужем                 0      F   компаньон     0   \n",
       "7    женат / замужем                 0      M   сотрудник     0   \n",
       "8   гражданский брак                 1      F   сотрудник     0   \n",
       "9    женат / замужем                 0      M   сотрудник     0   \n",
       "10   женат / замужем                 0      M   компаньон     0   \n",
       "11   женат / замужем                 0      F   сотрудник     0   \n",
       "12  гражданский брак                 1      M   пенсионер     0   \n",
       "13   женат / замужем                 0      F   сотрудник     0   \n",
       "14  гражданский брак                 1      F   компаньон     1   \n",
       "15   женат / замужем                 0      F   сотрудник     0   \n",
       "16   женат / замужем                 0      F   сотрудник     0   \n",
       "17  гражданский брак                 1      M   сотрудник     0   \n",
       "18    вдовец / вдова                 2      F   пенсионер     0   \n",
       "19         в разводе                 3      F   сотрудник     0   \n",
       "\n",
       "     total_income                                 purpose  \n",
       "0   253875.639453                           покупка жилья  \n",
       "1   112080.014102                 приобретение автомобиля  \n",
       "2   145885.952297                           покупка жилья  \n",
       "3   267628.550329              дополнительное образование  \n",
       "4   158616.077870                         сыграть свадьбу  \n",
       "5   255763.565419                           покупка жилья  \n",
       "6   240525.971920                       операции с жильем  \n",
       "7   135823.934197                             образование  \n",
       "8    95856.832424                   на проведение свадьбы  \n",
       "9   144425.938277                 покупка жилья для семьи  \n",
       "10  113943.491460                    покупка недвижимости  \n",
       "11   77069.234271       покупка коммерческой недвижимости  \n",
       "12            NaN                         сыграть свадьбу  \n",
       "13  130458.228857                 приобретение автомобиля  \n",
       "14  165127.911772              покупка жилой недвижимости  \n",
       "15  116820.904450  строительство собственной недвижимости  \n",
       "16  289202.704229                            недвижимость  \n",
       "17   90410.586745              строительство недвижимости  \n",
       "18   56823.777243      на покупку подержанного автомобиля  \n",
       "19  242831.107982            на покупку своего автомобиля  "
      ]
     },
     "execution_count": 2,
     "metadata": {},
     "output_type": "execute_result"
    }
   ],
   "source": [
    "data.head(20)"
   ]
  },
  {
   "cell_type": "markdown",
   "id": "653be9a6",
   "metadata": {
    "deletable": false,
    "editable": false,
    "id": "1c12e233"
   },
   "source": [
    "**Задание 3. Выведите основную информацию о датафрейме с помощью метода `info()`.**"
   ]
  },
  {
   "cell_type": "code",
   "execution_count": 3,
   "id": "557a5007",
   "metadata": {
    "deletable": false,
    "id": "2b757bca",
    "outputId": "15376089-8dad-46c9-b520-c05248d43158"
   },
   "outputs": [
    {
     "name": "stdout",
     "output_type": "stream",
     "text": [
      "<class 'pandas.core.frame.DataFrame'>\n",
      "RangeIndex: 21525 entries, 0 to 21524\n",
      "Data columns (total 12 columns):\n",
      " #   Column            Non-Null Count  Dtype  \n",
      "---  ------            --------------  -----  \n",
      " 0   children          21525 non-null  int64  \n",
      " 1   days_employed     19351 non-null  float64\n",
      " 2   dob_years         21525 non-null  int64  \n",
      " 3   education         21525 non-null  object \n",
      " 4   education_id      21525 non-null  int64  \n",
      " 5   family_status     21525 non-null  object \n",
      " 6   family_status_id  21525 non-null  int64  \n",
      " 7   gender            21525 non-null  object \n",
      " 8   income_type       21525 non-null  object \n",
      " 9   debt              21525 non-null  int64  \n",
      " 10  total_income      19351 non-null  float64\n",
      " 11  purpose           21525 non-null  object \n",
      "dtypes: float64(2), int64(5), object(5)\n",
      "memory usage: 2.0+ MB\n"
     ]
    }
   ],
   "source": [
    "data.info()"
   ]
  },
  {
   "cell_type": "markdown",
   "id": "dee3b3ec",
   "metadata": {
    "deletable": false,
    "editable": false,
    "id": "333ec665"
   },
   "source": [
    "## Предобработка данных"
   ]
  },
  {
   "cell_type": "markdown",
   "id": "6381f18c",
   "metadata": {
    "deletable": false,
    "editable": false,
    "id": "02d92d53"
   },
   "source": [
    "### Удаление пропусков"
   ]
  },
  {
   "cell_type": "markdown",
   "id": "709b530f",
   "metadata": {
    "deletable": false,
    "editable": false,
    "id": "cd84967c"
   },
   "source": [
    "**Задание 4. Выведите количество пропущенных значений для каждого столбца. Используйте комбинацию двух методов.**"
   ]
  },
  {
   "cell_type": "code",
   "execution_count": 4,
   "id": "ad664154",
   "metadata": {
    "deletable": false,
    "id": "7f9b2309",
    "outputId": "81f4d817-781c-465c-ed15-91ce4446810d"
   },
   "outputs": [
    {
     "data": {
      "text/html": [
       "<div>\n",
       "<style scoped>\n",
       "    .dataframe tbody tr th:only-of-type {\n",
       "        vertical-align: middle;\n",
       "    }\n",
       "\n",
       "    .dataframe tbody tr th {\n",
       "        vertical-align: top;\n",
       "    }\n",
       "\n",
       "    .dataframe thead th {\n",
       "        text-align: right;\n",
       "    }\n",
       "</style>\n",
       "<table border=\"1\" class=\"dataframe\">\n",
       "  <thead>\n",
       "    <tr style=\"text-align: right;\">\n",
       "      <th></th>\n",
       "      <th>children</th>\n",
       "      <th>days_employed</th>\n",
       "      <th>dob_years</th>\n",
       "      <th>education</th>\n",
       "      <th>education_id</th>\n",
       "      <th>family_status</th>\n",
       "      <th>family_status_id</th>\n",
       "      <th>gender</th>\n",
       "      <th>income_type</th>\n",
       "      <th>debt</th>\n",
       "      <th>total_income</th>\n",
       "      <th>purpose</th>\n",
       "    </tr>\n",
       "  </thead>\n",
       "  <tbody>\n",
       "    <tr>\n",
       "      <th>12</th>\n",
       "      <td>0</td>\n",
       "      <td>NaN</td>\n",
       "      <td>65</td>\n",
       "      <td>среднее</td>\n",
       "      <td>1</td>\n",
       "      <td>гражданский брак</td>\n",
       "      <td>1</td>\n",
       "      <td>M</td>\n",
       "      <td>пенсионер</td>\n",
       "      <td>0</td>\n",
       "      <td>NaN</td>\n",
       "      <td>сыграть свадьбу</td>\n",
       "    </tr>\n",
       "    <tr>\n",
       "      <th>26</th>\n",
       "      <td>0</td>\n",
       "      <td>NaN</td>\n",
       "      <td>41</td>\n",
       "      <td>среднее</td>\n",
       "      <td>1</td>\n",
       "      <td>женат / замужем</td>\n",
       "      <td>0</td>\n",
       "      <td>M</td>\n",
       "      <td>госслужащий</td>\n",
       "      <td>0</td>\n",
       "      <td>NaN</td>\n",
       "      <td>образование</td>\n",
       "    </tr>\n",
       "    <tr>\n",
       "      <th>29</th>\n",
       "      <td>0</td>\n",
       "      <td>NaN</td>\n",
       "      <td>63</td>\n",
       "      <td>среднее</td>\n",
       "      <td>1</td>\n",
       "      <td>Не женат / не замужем</td>\n",
       "      <td>4</td>\n",
       "      <td>F</td>\n",
       "      <td>пенсионер</td>\n",
       "      <td>0</td>\n",
       "      <td>NaN</td>\n",
       "      <td>строительство жилой недвижимости</td>\n",
       "    </tr>\n",
       "    <tr>\n",
       "      <th>41</th>\n",
       "      <td>0</td>\n",
       "      <td>NaN</td>\n",
       "      <td>50</td>\n",
       "      <td>среднее</td>\n",
       "      <td>1</td>\n",
       "      <td>женат / замужем</td>\n",
       "      <td>0</td>\n",
       "      <td>F</td>\n",
       "      <td>госслужащий</td>\n",
       "      <td>0</td>\n",
       "      <td>NaN</td>\n",
       "      <td>сделка с подержанным автомобилем</td>\n",
       "    </tr>\n",
       "    <tr>\n",
       "      <th>55</th>\n",
       "      <td>0</td>\n",
       "      <td>NaN</td>\n",
       "      <td>54</td>\n",
       "      <td>среднее</td>\n",
       "      <td>1</td>\n",
       "      <td>гражданский брак</td>\n",
       "      <td>1</td>\n",
       "      <td>F</td>\n",
       "      <td>пенсионер</td>\n",
       "      <td>1</td>\n",
       "      <td>NaN</td>\n",
       "      <td>сыграть свадьбу</td>\n",
       "    </tr>\n",
       "    <tr>\n",
       "      <th>65</th>\n",
       "      <td>0</td>\n",
       "      <td>NaN</td>\n",
       "      <td>21</td>\n",
       "      <td>среднее</td>\n",
       "      <td>1</td>\n",
       "      <td>Не женат / не замужем</td>\n",
       "      <td>4</td>\n",
       "      <td>M</td>\n",
       "      <td>компаньон</td>\n",
       "      <td>0</td>\n",
       "      <td>NaN</td>\n",
       "      <td>операции с коммерческой недвижимостью</td>\n",
       "    </tr>\n",
       "    <tr>\n",
       "      <th>67</th>\n",
       "      <td>0</td>\n",
       "      <td>NaN</td>\n",
       "      <td>52</td>\n",
       "      <td>высшее</td>\n",
       "      <td>0</td>\n",
       "      <td>женат / замужем</td>\n",
       "      <td>0</td>\n",
       "      <td>F</td>\n",
       "      <td>пенсионер</td>\n",
       "      <td>0</td>\n",
       "      <td>NaN</td>\n",
       "      <td>покупка жилья для семьи</td>\n",
       "    </tr>\n",
       "    <tr>\n",
       "      <th>72</th>\n",
       "      <td>1</td>\n",
       "      <td>NaN</td>\n",
       "      <td>32</td>\n",
       "      <td>высшее</td>\n",
       "      <td>0</td>\n",
       "      <td>женат / замужем</td>\n",
       "      <td>0</td>\n",
       "      <td>M</td>\n",
       "      <td>госслужащий</td>\n",
       "      <td>0</td>\n",
       "      <td>NaN</td>\n",
       "      <td>операции с коммерческой недвижимостью</td>\n",
       "    </tr>\n",
       "    <tr>\n",
       "      <th>82</th>\n",
       "      <td>2</td>\n",
       "      <td>NaN</td>\n",
       "      <td>50</td>\n",
       "      <td>высшее</td>\n",
       "      <td>0</td>\n",
       "      <td>женат / замужем</td>\n",
       "      <td>0</td>\n",
       "      <td>F</td>\n",
       "      <td>сотрудник</td>\n",
       "      <td>0</td>\n",
       "      <td>NaN</td>\n",
       "      <td>жилье</td>\n",
       "    </tr>\n",
       "    <tr>\n",
       "      <th>83</th>\n",
       "      <td>0</td>\n",
       "      <td>NaN</td>\n",
       "      <td>52</td>\n",
       "      <td>среднее</td>\n",
       "      <td>1</td>\n",
       "      <td>женат / замужем</td>\n",
       "      <td>0</td>\n",
       "      <td>M</td>\n",
       "      <td>сотрудник</td>\n",
       "      <td>0</td>\n",
       "      <td>NaN</td>\n",
       "      <td>жилье</td>\n",
       "    </tr>\n",
       "    <tr>\n",
       "      <th>90</th>\n",
       "      <td>2</td>\n",
       "      <td>NaN</td>\n",
       "      <td>35</td>\n",
       "      <td>высшее</td>\n",
       "      <td>0</td>\n",
       "      <td>женат / замужем</td>\n",
       "      <td>0</td>\n",
       "      <td>F</td>\n",
       "      <td>сотрудник</td>\n",
       "      <td>0</td>\n",
       "      <td>NaN</td>\n",
       "      <td>операции с жильем</td>\n",
       "    </tr>\n",
       "    <tr>\n",
       "      <th>94</th>\n",
       "      <td>1</td>\n",
       "      <td>NaN</td>\n",
       "      <td>34</td>\n",
       "      <td>высшее</td>\n",
       "      <td>0</td>\n",
       "      <td>гражданский брак</td>\n",
       "      <td>1</td>\n",
       "      <td>F</td>\n",
       "      <td>компаньон</td>\n",
       "      <td>0</td>\n",
       "      <td>NaN</td>\n",
       "      <td>на проведение свадьбы</td>\n",
       "    </tr>\n",
       "    <tr>\n",
       "      <th>96</th>\n",
       "      <td>0</td>\n",
       "      <td>NaN</td>\n",
       "      <td>44</td>\n",
       "      <td>СРЕДНЕЕ</td>\n",
       "      <td>1</td>\n",
       "      <td>женат / замужем</td>\n",
       "      <td>0</td>\n",
       "      <td>F</td>\n",
       "      <td>сотрудник</td>\n",
       "      <td>0</td>\n",
       "      <td>NaN</td>\n",
       "      <td>покупка жилой недвижимости</td>\n",
       "    </tr>\n",
       "    <tr>\n",
       "      <th>97</th>\n",
       "      <td>0</td>\n",
       "      <td>NaN</td>\n",
       "      <td>47</td>\n",
       "      <td>высшее</td>\n",
       "      <td>0</td>\n",
       "      <td>женат / замужем</td>\n",
       "      <td>0</td>\n",
       "      <td>F</td>\n",
       "      <td>сотрудник</td>\n",
       "      <td>0</td>\n",
       "      <td>NaN</td>\n",
       "      <td>профильное образование</td>\n",
       "    </tr>\n",
       "    <tr>\n",
       "      <th>120</th>\n",
       "      <td>0</td>\n",
       "      <td>NaN</td>\n",
       "      <td>46</td>\n",
       "      <td>среднее</td>\n",
       "      <td>1</td>\n",
       "      <td>женат / замужем</td>\n",
       "      <td>0</td>\n",
       "      <td>F</td>\n",
       "      <td>сотрудник</td>\n",
       "      <td>0</td>\n",
       "      <td>NaN</td>\n",
       "      <td>высшее образование</td>\n",
       "    </tr>\n",
       "    <tr>\n",
       "      <th>121</th>\n",
       "      <td>0</td>\n",
       "      <td>NaN</td>\n",
       "      <td>29</td>\n",
       "      <td>высшее</td>\n",
       "      <td>0</td>\n",
       "      <td>женат / замужем</td>\n",
       "      <td>0</td>\n",
       "      <td>F</td>\n",
       "      <td>компаньон</td>\n",
       "      <td>0</td>\n",
       "      <td>NaN</td>\n",
       "      <td>автомобиль</td>\n",
       "    </tr>\n",
       "    <tr>\n",
       "      <th>135</th>\n",
       "      <td>0</td>\n",
       "      <td>NaN</td>\n",
       "      <td>27</td>\n",
       "      <td>среднее</td>\n",
       "      <td>1</td>\n",
       "      <td>женат / замужем</td>\n",
       "      <td>0</td>\n",
       "      <td>M</td>\n",
       "      <td>компаньон</td>\n",
       "      <td>0</td>\n",
       "      <td>NaN</td>\n",
       "      <td>жилье</td>\n",
       "    </tr>\n",
       "    <tr>\n",
       "      <th>141</th>\n",
       "      <td>0</td>\n",
       "      <td>NaN</td>\n",
       "      <td>39</td>\n",
       "      <td>среднее</td>\n",
       "      <td>1</td>\n",
       "      <td>гражданский брак</td>\n",
       "      <td>1</td>\n",
       "      <td>M</td>\n",
       "      <td>сотрудник</td>\n",
       "      <td>0</td>\n",
       "      <td>NaN</td>\n",
       "      <td>свадьба</td>\n",
       "    </tr>\n",
       "    <tr>\n",
       "      <th>145</th>\n",
       "      <td>0</td>\n",
       "      <td>NaN</td>\n",
       "      <td>62</td>\n",
       "      <td>среднее</td>\n",
       "      <td>1</td>\n",
       "      <td>женат / замужем</td>\n",
       "      <td>0</td>\n",
       "      <td>M</td>\n",
       "      <td>пенсионер</td>\n",
       "      <td>0</td>\n",
       "      <td>NaN</td>\n",
       "      <td>строительство недвижимости</td>\n",
       "    </tr>\n",
       "    <tr>\n",
       "      <th>174</th>\n",
       "      <td>0</td>\n",
       "      <td>NaN</td>\n",
       "      <td>55</td>\n",
       "      <td>высшее</td>\n",
       "      <td>0</td>\n",
       "      <td>вдовец / вдова</td>\n",
       "      <td>2</td>\n",
       "      <td>F</td>\n",
       "      <td>компаньон</td>\n",
       "      <td>0</td>\n",
       "      <td>NaN</td>\n",
       "      <td>свой автомобиль</td>\n",
       "    </tr>\n",
       "    <tr>\n",
       "      <th>181</th>\n",
       "      <td>0</td>\n",
       "      <td>NaN</td>\n",
       "      <td>26</td>\n",
       "      <td>среднее</td>\n",
       "      <td>1</td>\n",
       "      <td>гражданский брак</td>\n",
       "      <td>1</td>\n",
       "      <td>F</td>\n",
       "      <td>компаньон</td>\n",
       "      <td>1</td>\n",
       "      <td>NaN</td>\n",
       "      <td>покупка жилья для семьи</td>\n",
       "    </tr>\n",
       "    <tr>\n",
       "      <th>189</th>\n",
       "      <td>1</td>\n",
       "      <td>NaN</td>\n",
       "      <td>30</td>\n",
       "      <td>среднее</td>\n",
       "      <td>1</td>\n",
       "      <td>Не женат / не замужем</td>\n",
       "      <td>4</td>\n",
       "      <td>F</td>\n",
       "      <td>сотрудник</td>\n",
       "      <td>0</td>\n",
       "      <td>NaN</td>\n",
       "      <td>свой автомобиль</td>\n",
       "    </tr>\n",
       "    <tr>\n",
       "      <th>205</th>\n",
       "      <td>1</td>\n",
       "      <td>NaN</td>\n",
       "      <td>31</td>\n",
       "      <td>высшее</td>\n",
       "      <td>0</td>\n",
       "      <td>женат / замужем</td>\n",
       "      <td>0</td>\n",
       "      <td>F</td>\n",
       "      <td>сотрудник</td>\n",
       "      <td>0</td>\n",
       "      <td>NaN</td>\n",
       "      <td>на покупку подержанного автомобиля</td>\n",
       "    </tr>\n",
       "    <tr>\n",
       "      <th>220</th>\n",
       "      <td>1</td>\n",
       "      <td>NaN</td>\n",
       "      <td>23</td>\n",
       "      <td>неоконченное высшее</td>\n",
       "      <td>2</td>\n",
       "      <td>гражданский брак</td>\n",
       "      <td>1</td>\n",
       "      <td>F</td>\n",
       "      <td>компаньон</td>\n",
       "      <td>0</td>\n",
       "      <td>NaN</td>\n",
       "      <td>сыграть свадьбу</td>\n",
       "    </tr>\n",
       "    <tr>\n",
       "      <th>241</th>\n",
       "      <td>0</td>\n",
       "      <td>NaN</td>\n",
       "      <td>47</td>\n",
       "      <td>среднее</td>\n",
       "      <td>1</td>\n",
       "      <td>женат / замужем</td>\n",
       "      <td>0</td>\n",
       "      <td>M</td>\n",
       "      <td>сотрудник</td>\n",
       "      <td>0</td>\n",
       "      <td>NaN</td>\n",
       "      <td>строительство собственной недвижимости</td>\n",
       "    </tr>\n",
       "    <tr>\n",
       "      <th>242</th>\n",
       "      <td>0</td>\n",
       "      <td>NaN</td>\n",
       "      <td>58</td>\n",
       "      <td>среднее</td>\n",
       "      <td>1</td>\n",
       "      <td>женат / замужем</td>\n",
       "      <td>0</td>\n",
       "      <td>F</td>\n",
       "      <td>госслужащий</td>\n",
       "      <td>0</td>\n",
       "      <td>NaN</td>\n",
       "      <td>покупка своего жилья</td>\n",
       "    </tr>\n",
       "    <tr>\n",
       "      <th>247</th>\n",
       "      <td>1</td>\n",
       "      <td>NaN</td>\n",
       "      <td>60</td>\n",
       "      <td>высшее</td>\n",
       "      <td>0</td>\n",
       "      <td>женат / замужем</td>\n",
       "      <td>0</td>\n",
       "      <td>F</td>\n",
       "      <td>пенсионер</td>\n",
       "      <td>1</td>\n",
       "      <td>NaN</td>\n",
       "      <td>заняться высшим образованием</td>\n",
       "    </tr>\n",
       "    <tr>\n",
       "      <th>250</th>\n",
       "      <td>0</td>\n",
       "      <td>NaN</td>\n",
       "      <td>54</td>\n",
       "      <td>высшее</td>\n",
       "      <td>0</td>\n",
       "      <td>женат / замужем</td>\n",
       "      <td>0</td>\n",
       "      <td>F</td>\n",
       "      <td>сотрудник</td>\n",
       "      <td>0</td>\n",
       "      <td>NaN</td>\n",
       "      <td>сделка с подержанным автомобилем</td>\n",
       "    </tr>\n",
       "    <tr>\n",
       "      <th>264</th>\n",
       "      <td>2</td>\n",
       "      <td>NaN</td>\n",
       "      <td>40</td>\n",
       "      <td>среднее</td>\n",
       "      <td>1</td>\n",
       "      <td>в разводе</td>\n",
       "      <td>3</td>\n",
       "      <td>F</td>\n",
       "      <td>сотрудник</td>\n",
       "      <td>0</td>\n",
       "      <td>NaN</td>\n",
       "      <td>недвижимость</td>\n",
       "    </tr>\n",
       "    <tr>\n",
       "      <th>278</th>\n",
       "      <td>1</td>\n",
       "      <td>NaN</td>\n",
       "      <td>23</td>\n",
       "      <td>Среднее</td>\n",
       "      <td>1</td>\n",
       "      <td>гражданский брак</td>\n",
       "      <td>1</td>\n",
       "      <td>F</td>\n",
       "      <td>сотрудник</td>\n",
       "      <td>1</td>\n",
       "      <td>NaN</td>\n",
       "      <td>автомобиль</td>\n",
       "    </tr>\n",
       "    <tr>\n",
       "      <th>279</th>\n",
       "      <td>0</td>\n",
       "      <td>NaN</td>\n",
       "      <td>44</td>\n",
       "      <td>Среднее</td>\n",
       "      <td>1</td>\n",
       "      <td>гражданский брак</td>\n",
       "      <td>1</td>\n",
       "      <td>F</td>\n",
       "      <td>сотрудник</td>\n",
       "      <td>0</td>\n",
       "      <td>NaN</td>\n",
       "      <td>операции со своей недвижимостью</td>\n",
       "    </tr>\n",
       "    <tr>\n",
       "      <th>280</th>\n",
       "      <td>0</td>\n",
       "      <td>NaN</td>\n",
       "      <td>66</td>\n",
       "      <td>среднее</td>\n",
       "      <td>1</td>\n",
       "      <td>женат / замужем</td>\n",
       "      <td>0</td>\n",
       "      <td>F</td>\n",
       "      <td>пенсионер</td>\n",
       "      <td>0</td>\n",
       "      <td>NaN</td>\n",
       "      <td>операции с жильем</td>\n",
       "    </tr>\n",
       "    <tr>\n",
       "      <th>312</th>\n",
       "      <td>1</td>\n",
       "      <td>NaN</td>\n",
       "      <td>33</td>\n",
       "      <td>среднее</td>\n",
       "      <td>1</td>\n",
       "      <td>гражданский брак</td>\n",
       "      <td>1</td>\n",
       "      <td>M</td>\n",
       "      <td>сотрудник</td>\n",
       "      <td>1</td>\n",
       "      <td>NaN</td>\n",
       "      <td>покупка жилья для сдачи</td>\n",
       "    </tr>\n",
       "    <tr>\n",
       "      <th>317</th>\n",
       "      <td>0</td>\n",
       "      <td>NaN</td>\n",
       "      <td>21</td>\n",
       "      <td>высшее</td>\n",
       "      <td>0</td>\n",
       "      <td>Не женат / не замужем</td>\n",
       "      <td>4</td>\n",
       "      <td>M</td>\n",
       "      <td>сотрудник</td>\n",
       "      <td>0</td>\n",
       "      <td>NaN</td>\n",
       "      <td>сделка с автомобилем</td>\n",
       "    </tr>\n",
       "    <tr>\n",
       "      <th>320</th>\n",
       "      <td>0</td>\n",
       "      <td>NaN</td>\n",
       "      <td>63</td>\n",
       "      <td>среднее</td>\n",
       "      <td>1</td>\n",
       "      <td>вдовец / вдова</td>\n",
       "      <td>2</td>\n",
       "      <td>F</td>\n",
       "      <td>сотрудник</td>\n",
       "      <td>0</td>\n",
       "      <td>NaN</td>\n",
       "      <td>на покупку подержанного автомобиля</td>\n",
       "    </tr>\n",
       "    <tr>\n",
       "      <th>321</th>\n",
       "      <td>1</td>\n",
       "      <td>NaN</td>\n",
       "      <td>34</td>\n",
       "      <td>высшее</td>\n",
       "      <td>0</td>\n",
       "      <td>гражданский брак</td>\n",
       "      <td>1</td>\n",
       "      <td>M</td>\n",
       "      <td>компаньон</td>\n",
       "      <td>0</td>\n",
       "      <td>NaN</td>\n",
       "      <td>на проведение свадьбы</td>\n",
       "    </tr>\n",
       "    <tr>\n",
       "      <th>322</th>\n",
       "      <td>0</td>\n",
       "      <td>NaN</td>\n",
       "      <td>56</td>\n",
       "      <td>СРЕДНЕЕ</td>\n",
       "      <td>1</td>\n",
       "      <td>гражданский брак</td>\n",
       "      <td>1</td>\n",
       "      <td>F</td>\n",
       "      <td>пенсионер</td>\n",
       "      <td>1</td>\n",
       "      <td>NaN</td>\n",
       "      <td>сыграть свадьбу</td>\n",
       "    </tr>\n",
       "    <tr>\n",
       "      <th>328</th>\n",
       "      <td>0</td>\n",
       "      <td>NaN</td>\n",
       "      <td>69</td>\n",
       "      <td>среднее</td>\n",
       "      <td>1</td>\n",
       "      <td>вдовец / вдова</td>\n",
       "      <td>2</td>\n",
       "      <td>F</td>\n",
       "      <td>сотрудник</td>\n",
       "      <td>0</td>\n",
       "      <td>NaN</td>\n",
       "      <td>приобретение автомобиля</td>\n",
       "    </tr>\n",
       "    <tr>\n",
       "      <th>360</th>\n",
       "      <td>0</td>\n",
       "      <td>NaN</td>\n",
       "      <td>27</td>\n",
       "      <td>среднее</td>\n",
       "      <td>1</td>\n",
       "      <td>женат / замужем</td>\n",
       "      <td>0</td>\n",
       "      <td>M</td>\n",
       "      <td>компаньон</td>\n",
       "      <td>0</td>\n",
       "      <td>NaN</td>\n",
       "      <td>покупка жилья для сдачи</td>\n",
       "    </tr>\n",
       "    <tr>\n",
       "      <th>361</th>\n",
       "      <td>0</td>\n",
       "      <td>NaN</td>\n",
       "      <td>59</td>\n",
       "      <td>среднее</td>\n",
       "      <td>1</td>\n",
       "      <td>вдовец / вдова</td>\n",
       "      <td>2</td>\n",
       "      <td>F</td>\n",
       "      <td>пенсионер</td>\n",
       "      <td>0</td>\n",
       "      <td>NaN</td>\n",
       "      <td>жилье</td>\n",
       "    </tr>\n",
       "  </tbody>\n",
       "</table>\n",
       "</div>"
      ],
      "text/plain": [
       "     children  days_employed  dob_years            education  education_id  \\\n",
       "12          0            NaN         65              среднее             1   \n",
       "26          0            NaN         41              среднее             1   \n",
       "29          0            NaN         63              среднее             1   \n",
       "41          0            NaN         50              среднее             1   \n",
       "55          0            NaN         54              среднее             1   \n",
       "65          0            NaN         21              среднее             1   \n",
       "67          0            NaN         52               высшее             0   \n",
       "72          1            NaN         32               высшее             0   \n",
       "82          2            NaN         50               высшее             0   \n",
       "83          0            NaN         52              среднее             1   \n",
       "90          2            NaN         35               высшее             0   \n",
       "94          1            NaN         34               высшее             0   \n",
       "96          0            NaN         44              СРЕДНЕЕ             1   \n",
       "97          0            NaN         47               высшее             0   \n",
       "120         0            NaN         46              среднее             1   \n",
       "121         0            NaN         29               высшее             0   \n",
       "135         0            NaN         27              среднее             1   \n",
       "141         0            NaN         39              среднее             1   \n",
       "145         0            NaN         62              среднее             1   \n",
       "174         0            NaN         55               высшее             0   \n",
       "181         0            NaN         26              среднее             1   \n",
       "189         1            NaN         30              среднее             1   \n",
       "205         1            NaN         31               высшее             0   \n",
       "220         1            NaN         23  неоконченное высшее             2   \n",
       "241         0            NaN         47              среднее             1   \n",
       "242         0            NaN         58              среднее             1   \n",
       "247         1            NaN         60               высшее             0   \n",
       "250         0            NaN         54               высшее             0   \n",
       "264         2            NaN         40              среднее             1   \n",
       "278         1            NaN         23              Среднее             1   \n",
       "279         0            NaN         44              Среднее             1   \n",
       "280         0            NaN         66              среднее             1   \n",
       "312         1            NaN         33              среднее             1   \n",
       "317         0            NaN         21               высшее             0   \n",
       "320         0            NaN         63              среднее             1   \n",
       "321         1            NaN         34               высшее             0   \n",
       "322         0            NaN         56              СРЕДНЕЕ             1   \n",
       "328         0            NaN         69              среднее             1   \n",
       "360         0            NaN         27              среднее             1   \n",
       "361         0            NaN         59              среднее             1   \n",
       "\n",
       "             family_status  family_status_id gender  income_type  debt  \\\n",
       "12        гражданский брак                 1      M    пенсионер     0   \n",
       "26         женат / замужем                 0      M  госслужащий     0   \n",
       "29   Не женат / не замужем                 4      F    пенсионер     0   \n",
       "41         женат / замужем                 0      F  госслужащий     0   \n",
       "55        гражданский брак                 1      F    пенсионер     1   \n",
       "65   Не женат / не замужем                 4      M    компаньон     0   \n",
       "67         женат / замужем                 0      F    пенсионер     0   \n",
       "72         женат / замужем                 0      M  госслужащий     0   \n",
       "82         женат / замужем                 0      F    сотрудник     0   \n",
       "83         женат / замужем                 0      M    сотрудник     0   \n",
       "90         женат / замужем                 0      F    сотрудник     0   \n",
       "94        гражданский брак                 1      F    компаньон     0   \n",
       "96         женат / замужем                 0      F    сотрудник     0   \n",
       "97         женат / замужем                 0      F    сотрудник     0   \n",
       "120        женат / замужем                 0      F    сотрудник     0   \n",
       "121        женат / замужем                 0      F    компаньон     0   \n",
       "135        женат / замужем                 0      M    компаньон     0   \n",
       "141       гражданский брак                 1      M    сотрудник     0   \n",
       "145        женат / замужем                 0      M    пенсионер     0   \n",
       "174         вдовец / вдова                 2      F    компаньон     0   \n",
       "181       гражданский брак                 1      F    компаньон     1   \n",
       "189  Не женат / не замужем                 4      F    сотрудник     0   \n",
       "205        женат / замужем                 0      F    сотрудник     0   \n",
       "220       гражданский брак                 1      F    компаньон     0   \n",
       "241        женат / замужем                 0      M    сотрудник     0   \n",
       "242        женат / замужем                 0      F  госслужащий     0   \n",
       "247        женат / замужем                 0      F    пенсионер     1   \n",
       "250        женат / замужем                 0      F    сотрудник     0   \n",
       "264              в разводе                 3      F    сотрудник     0   \n",
       "278       гражданский брак                 1      F    сотрудник     1   \n",
       "279       гражданский брак                 1      F    сотрудник     0   \n",
       "280        женат / замужем                 0      F    пенсионер     0   \n",
       "312       гражданский брак                 1      M    сотрудник     1   \n",
       "317  Не женат / не замужем                 4      M    сотрудник     0   \n",
       "320         вдовец / вдова                 2      F    сотрудник     0   \n",
       "321       гражданский брак                 1      M    компаньон     0   \n",
       "322       гражданский брак                 1      F    пенсионер     1   \n",
       "328         вдовец / вдова                 2      F    сотрудник     0   \n",
       "360        женат / замужем                 0      M    компаньон     0   \n",
       "361         вдовец / вдова                 2      F    пенсионер     0   \n",
       "\n",
       "     total_income                                 purpose  \n",
       "12            NaN                         сыграть свадьбу  \n",
       "26            NaN                             образование  \n",
       "29            NaN        строительство жилой недвижимости  \n",
       "41            NaN        сделка с подержанным автомобилем  \n",
       "55            NaN                         сыграть свадьбу  \n",
       "65            NaN   операции с коммерческой недвижимостью  \n",
       "67            NaN                 покупка жилья для семьи  \n",
       "72            NaN   операции с коммерческой недвижимостью  \n",
       "82            NaN                                   жилье  \n",
       "83            NaN                                   жилье  \n",
       "90            NaN                       операции с жильем  \n",
       "94            NaN                   на проведение свадьбы  \n",
       "96            NaN              покупка жилой недвижимости  \n",
       "97            NaN                  профильное образование  \n",
       "120           NaN                      высшее образование  \n",
       "121           NaN                              автомобиль  \n",
       "135           NaN                                   жилье  \n",
       "141           NaN                                 свадьба  \n",
       "145           NaN              строительство недвижимости  \n",
       "174           NaN                         свой автомобиль  \n",
       "181           NaN                 покупка жилья для семьи  \n",
       "189           NaN                         свой автомобиль  \n",
       "205           NaN      на покупку подержанного автомобиля  \n",
       "220           NaN                         сыграть свадьбу  \n",
       "241           NaN  строительство собственной недвижимости  \n",
       "242           NaN                    покупка своего жилья  \n",
       "247           NaN            заняться высшим образованием  \n",
       "250           NaN        сделка с подержанным автомобилем  \n",
       "264           NaN                            недвижимость  \n",
       "278           NaN                              автомобиль  \n",
       "279           NaN         операции со своей недвижимостью  \n",
       "280           NaN                       операции с жильем  \n",
       "312           NaN                 покупка жилья для сдачи  \n",
       "317           NaN                    сделка с автомобилем  \n",
       "320           NaN      на покупку подержанного автомобиля  \n",
       "321           NaN                   на проведение свадьбы  \n",
       "322           NaN                         сыграть свадьбу  \n",
       "328           NaN                 приобретение автомобиля  \n",
       "360           NaN                 покупка жилья для сдачи  \n",
       "361           NaN                                   жилье  "
      ]
     },
     "execution_count": 4,
     "metadata": {},
     "output_type": "execute_result"
    }
   ],
   "source": [
    "data.isna().sum()\n",
    "data.loc[data['days_employed'].isna()].head(40)"
   ]
  },
  {
   "cell_type": "markdown",
   "id": "c08d4491",
   "metadata": {
    "deletable": false,
    "editable": false,
    "id": "db86e27b"
   },
   "source": [
    "**Задание 5. В двух столбцах есть пропущенные значения. Один из них — `days_employed`. Пропуски в этом столбце вы обработаете на следующем этапе. Другой столбец с пропущенными значениями — `total_income` — хранит данные о доходах. На сумму дохода сильнее всего влияет тип занятости, поэтому заполнить пропуски в этом столбце нужно медианным значением по каждому типу из столбца `income_type`. Например, у человека с типом занятости `сотрудник` пропуск в столбце `total_income` должен быть заполнен медианным доходом среди всех записей с тем же типом.**"
   ]
  },
  {
   "cell_type": "code",
   "execution_count": 5,
   "id": "a17bc666",
   "metadata": {
    "deletable": false,
    "id": "42006a93"
   },
   "outputs": [],
   "source": [
    "for t in data['income_type'].unique():\n",
    "    data.loc[(data['income_type'] == t) & (data['total_income'].isna()), 'total_income'] = \\\n",
    "    data.loc[(data['income_type'] == t), 'total_income'].median()"
   ]
  },
  {
   "cell_type": "markdown",
   "id": "45a92a73",
   "metadata": {
    "deletable": false,
    "editable": false,
    "id": "89da5ece"
   },
   "source": [
    "### Обработка аномальных значений"
   ]
  },
  {
   "cell_type": "markdown",
   "id": "08ab7930",
   "metadata": {
    "deletable": false,
    "editable": false,
    "id": "57964554"
   },
   "source": [
    "**Задание 6. В данных могут встречаться артефакты (аномалии) — значения, которые не отражают действительность и появились по какой-то ошибке. таким артефактом будет отрицательное количество дней трудового стажа в столбце `days_employed`. Для реальных данных это нормально. Обработайте значения в этом столбце: замените все отрицательные значения положительными с помощью метода `abs()`.**"
   ]
  },
  {
   "cell_type": "code",
   "execution_count": 6,
   "id": "010a1378",
   "metadata": {
    "deletable": false,
    "id": "f6f055bf"
   },
   "outputs": [],
   "source": [
    "data['days_employed'] = data['days_employed'].abs()"
   ]
  },
  {
   "cell_type": "markdown",
   "id": "218283cc",
   "metadata": {
    "deletable": false,
    "editable": false,
    "id": "6107dd2f"
   },
   "source": [
    "**Задание 7. Для каждого типа занятости выведите медианное значение трудового стажа `days_employed` в днях.**"
   ]
  },
  {
   "cell_type": "code",
   "execution_count": 7,
   "id": "72009c8d",
   "metadata": {
    "deletable": false,
    "id": "85a5faf6",
    "outputId": "801ef80e-522b-4668-f34e-565af7432bcf"
   },
   "outputs": [
    {
     "data": {
      "text/plain": [
       "income_type\n",
       "безработный        366413.652744\n",
       "в декрете            3296.759962\n",
       "госслужащий          2689.368353\n",
       "компаньон            1547.382223\n",
       "пенсионер          365213.306266\n",
       "предприниматель       520.848083\n",
       "сотрудник            1574.202821\n",
       "студент               578.751554\n",
       "Name: days_employed, dtype: float64"
      ]
     },
     "execution_count": 7,
     "metadata": {},
     "output_type": "execute_result"
    }
   ],
   "source": [
    "data.groupby('income_type')['days_employed'].agg('median')"
   ]
  },
  {
   "cell_type": "markdown",
   "id": "95f1bdbe",
   "metadata": {
    "deletable": false,
    "editable": false,
    "id": "38d1a030"
   },
   "source": [
    "У двух типов (безработные и пенсионеры) получатся аномально большие значения. Исправить такие значения сложно, поэтому оставьте их как есть. Тем более этот столбец не понадобится вам для исследования."
   ]
  },
  {
   "cell_type": "markdown",
   "id": "721bccb1",
   "metadata": {
    "deletable": false,
    "editable": false,
    "id": "d8a9f147"
   },
   "source": [
    "**Задание 8. Выведите перечень уникальных значений столбца `children`.**"
   ]
  },
  {
   "cell_type": "code",
   "execution_count": 8,
   "id": "86671338",
   "metadata": {
    "deletable": false,
    "id": "ef5056eb",
    "outputId": "6975b15c-7f95-4697-d16d-a0c79b657b03"
   },
   "outputs": [
    {
     "data": {
      "text/plain": [
       "array([ 1,  0,  3,  2, -1,  4, 20,  5])"
      ]
     },
     "execution_count": 8,
     "metadata": {},
     "output_type": "execute_result"
    }
   ],
   "source": [
    "data['children'].unique()"
   ]
  },
  {
   "cell_type": "markdown",
   "id": "4f59d634",
   "metadata": {
    "deletable": false,
    "editable": false,
    "id": "40b9ebf2"
   },
   "source": [
    "**Задание 9. В столбце `children` есть два аномальных значения. Удалите строки, в которых встречаются такие аномальные значения из датафрейма `data`.**"
   ]
  },
  {
   "cell_type": "code",
   "execution_count": 9,
   "id": "a9804312",
   "metadata": {
    "deletable": false,
    "id": "3ff9801d"
   },
   "outputs": [],
   "source": [
    "data = data[(data['children'] != -1) & (data['children'] != 20)]"
   ]
  },
  {
   "cell_type": "markdown",
   "id": "1fdfe7aa",
   "metadata": {
    "deletable": false,
    "editable": false,
    "id": "bbc4d0ce"
   },
   "source": [
    "**Задание 10. Ещё раз выведите перечень уникальных значений столбца `children`, чтобы убедиться, что артефакты удалены.**"
   ]
  },
  {
   "cell_type": "code",
   "execution_count": 10,
   "id": "b170b413",
   "metadata": {
    "deletable": false,
    "id": "ad4fa8b7",
    "outputId": "b2097101-d49d-44d9-901b-32a65c9463d1"
   },
   "outputs": [
    {
     "data": {
      "text/plain": [
       "array([1, 0, 3, 2, 4, 5])"
      ]
     },
     "execution_count": 10,
     "metadata": {},
     "output_type": "execute_result"
    }
   ],
   "source": [
    "data['children'].unique()"
   ]
  },
  {
   "cell_type": "markdown",
   "id": "5d040960",
   "metadata": {
    "deletable": false,
    "editable": false,
    "id": "75440b63"
   },
   "source": [
    "### Удаление пропусков (продолжение)"
   ]
  },
  {
   "cell_type": "markdown",
   "id": "72e739c2",
   "metadata": {
    "deletable": false,
    "editable": false,
    "id": "f4ea573f"
   },
   "source": [
    "**Задание 11. Заполните пропуски в столбце `days_employed` медианными значениями по каждого типа занятости `income_type`.**"
   ]
  },
  {
   "cell_type": "code",
   "execution_count": 11,
   "id": "aa986a45",
   "metadata": {
    "deletable": false,
    "id": "af6b1a7e"
   },
   "outputs": [],
   "source": [
    "for t in data['income_type'].unique():\n",
    "    data.loc[(data['income_type'] == t) & (data['days_employed'].isna()), 'days_employed'] = \\\n",
    "    data.loc[(data['income_type'] == t), 'days_employed'].median()"
   ]
  },
  {
   "cell_type": "markdown",
   "id": "771a1870",
   "metadata": {
    "deletable": false,
    "editable": false,
    "id": "2753f40d"
   },
   "source": [
    "**Задание 12. Убедитесь, что все пропуски заполнены. Проверьте себя и ещё раз выведите количество пропущенных значений для каждого столбца с помощью двух методов.**"
   ]
  },
  {
   "cell_type": "code",
   "execution_count": 12,
   "id": "a538fbee",
   "metadata": {
    "deletable": false,
    "id": "55f78bc2",
    "outputId": "8da1e4e1-358e-4e87-98c9-f261bce0a7b2"
   },
   "outputs": [
    {
     "data": {
      "text/plain": [
       "children            0\n",
       "days_employed       0\n",
       "dob_years           0\n",
       "education           0\n",
       "education_id        0\n",
       "family_status       0\n",
       "family_status_id    0\n",
       "gender              0\n",
       "income_type         0\n",
       "debt                0\n",
       "total_income        0\n",
       "purpose             0\n",
       "dtype: int64"
      ]
     },
     "execution_count": 12,
     "metadata": {},
     "output_type": "execute_result"
    }
   ],
   "source": [
    "data.isna().sum()"
   ]
  },
  {
   "cell_type": "markdown",
   "id": "ca930624",
   "metadata": {
    "deletable": false,
    "editable": false,
    "id": "ddc81e43"
   },
   "source": [
    "### Изменение типов данных"
   ]
  },
  {
   "cell_type": "markdown",
   "id": "dfcec021",
   "metadata": {
    "deletable": false,
    "editable": false,
    "id": "42d19d24"
   },
   "source": [
    "**Задание 13. Замените вещественный тип данных в столбце `total_income` на целочисленный с помощью метода `astype()`.**"
   ]
  },
  {
   "cell_type": "code",
   "execution_count": 13,
   "id": "f7e9c91c",
   "metadata": {
    "deletable": false,
    "id": "920b65ad"
   },
   "outputs": [],
   "source": [
    "data['total_income'] = data['total_income'].astype(int)"
   ]
  },
  {
   "cell_type": "markdown",
   "id": "a998e75f",
   "metadata": {
    "deletable": false,
    "editable": false,
    "id": "80c420ba"
   },
   "source": [
    "### Обработка дубликатов"
   ]
  },
  {
   "cell_type": "markdown",
   "id": "608d3200",
   "metadata": {
    "deletable": false,
    "editable": false
   },
   "source": [
    "**Задание 14. Обработайте неявные дубликаты в столбце `education`. В этом столбце есть одни и те же значения, но записанные по-разному: с использованием заглавных и строчных букв. Приведите их к нижнему регистру. Проверьте остальные столбцы.**"
   ]
  },
  {
   "cell_type": "code",
   "execution_count": 14,
   "id": "e1bfc869",
   "metadata": {
    "deletable": false
   },
   "outputs": [],
   "source": [
    "data['education'] = data['education'].str.lower()"
   ]
  },
  {
   "cell_type": "markdown",
   "id": "6359e31c",
   "metadata": {
    "deletable": false,
    "editable": false,
    "id": "dc587695"
   },
   "source": [
    "**Задание 15. Выведите на экран количество строк-дубликатов в данных. Если такие строки присутствуют, удалите их.**"
   ]
  },
  {
   "cell_type": "code",
   "execution_count": 15,
   "id": "9e08718c",
   "metadata": {
    "deletable": false,
    "id": "3ee445e4",
    "outputId": "9684deba-1934-42d1-99e1-cda61740f822"
   },
   "outputs": [
    {
     "data": {
      "text/plain": [
       "71"
      ]
     },
     "execution_count": 15,
     "metadata": {},
     "output_type": "execute_result"
    }
   ],
   "source": [
    "data.duplicated().sum()"
   ]
  },
  {
   "cell_type": "code",
   "execution_count": 16,
   "id": "0f627ac4",
   "metadata": {
    "deletable": false,
    "id": "8575fe05"
   },
   "outputs": [],
   "source": [
    "data = data.drop_duplicates()"
   ]
  },
  {
   "cell_type": "markdown",
   "id": "be1ae75d",
   "metadata": {
    "deletable": false,
    "editable": false,
    "id": "9904cf55"
   },
   "source": [
    "### Категоризация данных"
   ]
  },
  {
   "cell_type": "markdown",
   "id": "632b8853",
   "metadata": {
    "deletable": false,
    "editable": false,
    "id": "72fcc8a2"
   },
   "source": [
    "**Задание 16. На основании диапазонов, указанных ниже, создайте в датафрейме `data` столбец `total_income_category` с категориями:**\n",
    "\n",
    "- 0–30000 — `'E'`;\n",
    "- 30001–50000 — `'D'`;\n",
    "- 50001–200000 — `'C'`;\n",
    "- 200001–1000000 — `'B'`;\n",
    "- 1000001 и выше — `'A'`.\n",
    "\n",
    "\n",
    "**Например, кредитополучателю с доходом 25000 нужно назначить категорию `'E'`, а клиенту, получающему 235000, — `'B'`. Используйте собственную функцию с именем `categorize_income()` и метод `apply()`.**"
   ]
  },
  {
   "cell_type": "code",
   "execution_count": 17,
   "id": "0a08c865",
   "metadata": {
    "deletable": false,
    "id": "e1771346"
   },
   "outputs": [],
   "source": [
    "def categorize_income(income):\n",
    "    try:\n",
    "        if 0 <= income <= 30000:\n",
    "            return 'E'\n",
    "        elif 30001 <= income <= 50000:\n",
    "            return 'D'\n",
    "        elif 50001 <= income <= 200000:\n",
    "            return 'C'\n",
    "        elif 200001 <= income <= 1000000:\n",
    "            return 'B'\n",
    "        elif income >= 1000001:\n",
    "            return 'A'\n",
    "    except:\n",
    "        pass"
   ]
  },
  {
   "cell_type": "code",
   "execution_count": 18,
   "id": "d19249c1",
   "metadata": {
    "deletable": false,
    "id": "d5f3586d"
   },
   "outputs": [],
   "source": [
    "data['total_income_category'] = data['total_income'].apply(categorize_income)"
   ]
  },
  {
   "cell_type": "markdown",
   "id": "5df445b9",
   "metadata": {
    "deletable": false,
    "editable": false,
    "id": "dde49b5c"
   },
   "source": [
    "**Задание 17. Выведите на экран перечень уникальных целей взятия кредита из столбца `purpose`.**"
   ]
  },
  {
   "cell_type": "code",
   "execution_count": 19,
   "id": "dc098839",
   "metadata": {
    "deletable": false,
    "id": "f67ce9b3",
    "outputId": "673c12d9-7d7e-4ae0-9812-c622c89dd244"
   },
   "outputs": [
    {
     "data": {
      "text/plain": [
       "array(['покупка жилья', 'приобретение автомобиля',\n",
       "       'дополнительное образование', 'сыграть свадьбу',\n",
       "       'операции с жильем', 'образование', 'на проведение свадьбы',\n",
       "       'покупка жилья для семьи', 'покупка недвижимости',\n",
       "       'покупка коммерческой недвижимости', 'покупка жилой недвижимости',\n",
       "       'строительство собственной недвижимости', 'недвижимость',\n",
       "       'строительство недвижимости', 'на покупку подержанного автомобиля',\n",
       "       'на покупку своего автомобиля',\n",
       "       'операции с коммерческой недвижимостью',\n",
       "       'строительство жилой недвижимости', 'жилье',\n",
       "       'операции со своей недвижимостью', 'автомобили',\n",
       "       'заняться образованием', 'сделка с подержанным автомобилем',\n",
       "       'получение образования', 'автомобиль', 'свадьба',\n",
       "       'получение дополнительного образования', 'покупка своего жилья',\n",
       "       'операции с недвижимостью', 'получение высшего образования',\n",
       "       'свой автомобиль', 'сделка с автомобилем',\n",
       "       'профильное образование', 'высшее образование',\n",
       "       'покупка жилья для сдачи', 'на покупку автомобиля', 'ремонт жилью',\n",
       "       'заняться высшим образованием'], dtype=object)"
      ]
     },
     "execution_count": 19,
     "metadata": {},
     "output_type": "execute_result"
    }
   ],
   "source": [
    "data['purpose'].unique()"
   ]
  },
  {
   "cell_type": "markdown",
   "id": "1a6cc63c",
   "metadata": {
    "deletable": false,
    "editable": false,
    "id": "85d0aef0"
   },
   "source": [
    "**Задание 18. Создайте функцию, которая на основании данных из столбца `purpose` сформирует новый столбец `purpose_category`, в который войдут следующие категории:**\n",
    "\n",
    "- `'операции с автомобилем'`,\n",
    "- `'операции с недвижимостью'`,\n",
    "- `'проведение свадьбы'`,\n",
    "- `'получение образования'`.\n",
    "\n",
    "**Например, если в столбце `purpose` находится подстрока `'на покупку автомобиля'`, то в столбце `purpose_category` должна появиться строка `'операции с автомобилем'`.**\n",
    "\n",
    "**Используйте собственную функцию с именем `categorize_purpose()` и метод `apply()`. Изучите данные в столбце `purpose` и определите, какие подстроки помогут вам правильно определить категорию.**"
   ]
  },
  {
   "cell_type": "code",
   "execution_count": 20,
   "id": "a612eae3",
   "metadata": {
    "deletable": false,
    "id": "e149fab4"
   },
   "outputs": [],
   "source": [
    "def categorize_purpose(row):\n",
    "    try:\n",
    "        if 'автом' in row:\n",
    "            return 'операции с автомобилем'\n",
    "        elif 'жил' in row or 'недвиж' in row:\n",
    "            return 'операции с недвижимостью'\n",
    "        elif 'свад' in row:\n",
    "            return 'проведение свадьбы'\n",
    "        elif 'образов' in row:\n",
    "            return 'получение образования'\n",
    "    except:\n",
    "        return 'нет категории'"
   ]
  },
  {
   "cell_type": "code",
   "execution_count": 21,
   "id": "6d403109",
   "metadata": {
    "deletable": false,
    "id": "bf36e69b"
   },
   "outputs": [],
   "source": [
    "data['purpose_category'] = data['purpose'].apply(categorize_purpose)"
   ]
  },
  {
   "cell_type": "markdown",
   "id": "32948054",
   "metadata": {
    "deletable": false,
    "editable": false,
    "id": "09b242bf"
   },
   "source": [
    "### Шаг 3. Исследуйте данные и ответьте на вопросы"
   ]
  },
  {
   "cell_type": "markdown",
   "id": "02463e03",
   "metadata": {
    "deletable": false,
    "editable": false,
    "id": "c5d66278"
   },
   "source": [
    "#### 3.1 Есть ли зависимость между количеством детей и возвратом кредита в срок?"
   ]
  },
  {
   "cell_type": "code",
   "execution_count": 22,
   "id": "22f4b5d0",
   "metadata": {
    "deletable": false,
    "id": "2cacfc4a"
   },
   "outputs": [
    {
     "data": {
      "text/html": [
       "<div>\n",
       "<style scoped>\n",
       "    .dataframe tbody tr th:only-of-type {\n",
       "        vertical-align: middle;\n",
       "    }\n",
       "\n",
       "    .dataframe tbody tr th {\n",
       "        vertical-align: top;\n",
       "    }\n",
       "\n",
       "    .dataframe thead th {\n",
       "        text-align: right;\n",
       "    }\n",
       "</style>\n",
       "<table border=\"1\" class=\"dataframe\">\n",
       "  <thead>\n",
       "    <tr style=\"text-align: right;\">\n",
       "      <th></th>\n",
       "      <th>debt_pct</th>\n",
       "      <th>debtor_count</th>\n",
       "      <th>children_count</th>\n",
       "      <th>children_pct</th>\n",
       "    </tr>\n",
       "    <tr>\n",
       "      <th>children</th>\n",
       "      <th></th>\n",
       "      <th></th>\n",
       "      <th></th>\n",
       "      <th></th>\n",
       "    </tr>\n",
       "  </thead>\n",
       "  <tbody>\n",
       "    <tr>\n",
       "      <th>0</th>\n",
       "      <td>7.54</td>\n",
       "      <td>1063</td>\n",
       "      <td>14091</td>\n",
       "      <td>66.06</td>\n",
       "    </tr>\n",
       "    <tr>\n",
       "      <th>1</th>\n",
       "      <td>9.23</td>\n",
       "      <td>444</td>\n",
       "      <td>4808</td>\n",
       "      <td>22.54</td>\n",
       "    </tr>\n",
       "    <tr>\n",
       "      <th>2</th>\n",
       "      <td>9.45</td>\n",
       "      <td>194</td>\n",
       "      <td>2052</td>\n",
       "      <td>9.62</td>\n",
       "    </tr>\n",
       "    <tr>\n",
       "      <th>3</th>\n",
       "      <td>8.18</td>\n",
       "      <td>27</td>\n",
       "      <td>330</td>\n",
       "      <td>1.55</td>\n",
       "    </tr>\n",
       "    <tr>\n",
       "      <th>4</th>\n",
       "      <td>9.76</td>\n",
       "      <td>4</td>\n",
       "      <td>41</td>\n",
       "      <td>0.19</td>\n",
       "    </tr>\n",
       "    <tr>\n",
       "      <th>5</th>\n",
       "      <td>0.00</td>\n",
       "      <td>0</td>\n",
       "      <td>9</td>\n",
       "      <td>0.04</td>\n",
       "    </tr>\n",
       "  </tbody>\n",
       "</table>\n",
       "</div>"
      ],
      "text/plain": [
       "          debt_pct  debtor_count  children_count  children_pct\n",
       "children                                                      \n",
       "0             7.54          1063           14091         66.06\n",
       "1             9.23           444            4808         22.54\n",
       "2             9.45           194            2052          9.62\n",
       "3             8.18            27             330          1.55\n",
       "4             9.76             4              41          0.19\n",
       "5             0.00             0               9          0.04"
      ]
     },
     "execution_count": 22,
     "metadata": {},
     "output_type": "execute_result"
    }
   ],
   "source": [
    "def get_relations_debt_from(name_column): \n",
    "    result = round(data.groupby(name_column)['debt'].mean() * 100, 2)\n",
    "    result = result.to_frame('debt_pct')\n",
    "    result['debtor_count'] = data.groupby(name_column)['debt'].sum()\n",
    "    result[name_column + '_count'] = data.groupby(name_column)['debt'].count()\n",
    "    result[name_column + '_pct'] = round(data.groupby(name_column)['debt'].count() / \\\n",
    "                                        data.groupby(name_column)['debt'].count().sum() * 100, 2)\n",
    "    return result\n",
    "    \n",
    "children_count = get_relations_debt_from('children')\n",
    "children_count"
   ]
  },
  {
   "cell_type": "markdown",
   "id": "f3748bce",
   "metadata": {},
   "source": [
    "**Таблица зависимости количества не возвращенных вовремя кредитов от количества детей в относительном и абсолютном выражении.**\n",
    "\n",
    "          debt_pct - количество не возвращенных кредитов в %\n",
    "      debtor_count - количество не возвращенных кредитов\n",
    "    children_count - количество заемщиков с соответствующим количеством детей\n",
    "      children_pct - количество заемщиков с соответствующим количеством детей в %"
   ]
  },
  {
   "cell_type": "markdown",
   "id": "e70ba6d1",
   "metadata": {},
   "source": [
    "\n",
    "\n",
    "\n"
   ]
  },
  {
   "cell_type": "code",
   "execution_count": 23,
   "id": "13d2d15c",
   "metadata": {},
   "outputs": [
    {
     "data": {
      "image/png": "[encoded data removed]",
      "text/plain": [
       "<Figure size 432x288 with 1 Axes>"
      ]
     },
     "metadata": {
      "needs_background": "light"
     },
     "output_type": "display_data"
    }
   ],
   "source": [
    "bar = sns.barplot(data=children_count, x=children_count.index, y='children_count')\n",
    "bar.set(xlabel='Количество детей', ylabel='Количество кредитов',\\\n",
    "        title='Зависимость между количеством детей и количеством взятых кредитов')\n",
    "pass"
   ]
  },
  {
   "cell_type": "code",
   "execution_count": 24,
   "id": "09c78fcf",
   "metadata": {},
   "outputs": [
    {
     "data": {
      "image/png": "[encoded data removed]",
      "text/plain": [
       "<Figure size 432x288 with 1 Axes>"
      ]
     },
     "metadata": {
      "needs_background": "light"
     },
     "output_type": "display_data"
    }
   ],
   "source": [
    "bar = sns.barplot(data=children_count, x=children_count.index, y='debt_pct')\n",
    "bar.set(xlabel='Количество детей', ylabel='Количество задолженностей, %',\\\n",
    "        title='Зависимость между количеством детей и % просроченных кредитов')\n",
    "pass"
   ]
  },
  {
   "cell_type": "markdown",
   "id": "c8549e1f",
   "metadata": {
    "deletable": false,
    "id": "3a6b99ec"
   },
   "source": [
    "**Вывод:** \n",
    "Из таблицы и диаграмм видно что чаще всего (66%) берут кредиты заемщики без детей. И почти нет данных (или не берут кредиты) заемщики у которых 3 и более детей (и таких семей вообще меньше). \n",
    "\n",
    "Хотя исходя из данных видно, что заемщики с 5 детьми ВСЕГДА отдают кредит в срок, но говорить о том что такие заемщики всегда вернут кредит в срок не правильно, потому что из 21331 заемщика, таких было всего 9 (0,04 %).\n",
    "Заемщиков с 3 и более детьми 1,78 % от общего количества. В анализе зависимости между количеством детей и возвратом кредита в срок их можно было бы объединить с категорией \"2 ребенка\". Но на полученные результаты это не повлияет.\n",
    "\n",
    "    1. Количество детей влияет на возврат кредита в срок.\n",
    "    2. Бездетные заемщики на четверть лучше отдают кредиты, чем заемщики с детьми.\n",
    "    3. Мало данных о заемщиках с 3 и более детьми, это не позволяет сделать достоверный анализ по этим категориям."
   ]
  },
  {
   "cell_type": "markdown",
   "id": "f732d755",
   "metadata": {
    "deletable": false,
    "editable": false,
    "id": "97be82ca"
   },
   "source": [
    "#### 3.2 Есть ли зависимость между семейным положением и возвратом кредита в срок?"
   ]
  },
  {
   "cell_type": "code",
   "execution_count": 25,
   "id": "95a997b7",
   "metadata": {
    "deletable": false,
    "id": "dc3f7ee8",
    "scrolled": true
   },
   "outputs": [
    {
     "data": {
      "text/html": [
       "<div>\n",
       "<style scoped>\n",
       "    .dataframe tbody tr th:only-of-type {\n",
       "        vertical-align: middle;\n",
       "    }\n",
       "\n",
       "    .dataframe tbody tr th {\n",
       "        vertical-align: top;\n",
       "    }\n",
       "\n",
       "    .dataframe thead th {\n",
       "        text-align: right;\n",
       "    }\n",
       "</style>\n",
       "<table border=\"1\" class=\"dataframe\">\n",
       "  <thead>\n",
       "    <tr style=\"text-align: right;\">\n",
       "      <th></th>\n",
       "      <th>debt_pct</th>\n",
       "      <th>debtor_count</th>\n",
       "      <th>family_status_count</th>\n",
       "      <th>family_status_pct</th>\n",
       "    </tr>\n",
       "    <tr>\n",
       "      <th>family_status</th>\n",
       "      <th></th>\n",
       "      <th></th>\n",
       "      <th></th>\n",
       "      <th></th>\n",
       "    </tr>\n",
       "  </thead>\n",
       "  <tbody>\n",
       "    <tr>\n",
       "      <th>Не женат / не замужем</th>\n",
       "      <td>9.76</td>\n",
       "      <td>273</td>\n",
       "      <td>2796</td>\n",
       "      <td>13.11</td>\n",
       "    </tr>\n",
       "    <tr>\n",
       "      <th>в разводе</th>\n",
       "      <td>7.06</td>\n",
       "      <td>84</td>\n",
       "      <td>1189</td>\n",
       "      <td>5.57</td>\n",
       "    </tr>\n",
       "    <tr>\n",
       "      <th>вдовец / вдова</th>\n",
       "      <td>6.62</td>\n",
       "      <td>63</td>\n",
       "      <td>951</td>\n",
       "      <td>4.46</td>\n",
       "    </tr>\n",
       "    <tr>\n",
       "      <th>гражданский брак</th>\n",
       "      <td>9.31</td>\n",
       "      <td>385</td>\n",
       "      <td>4134</td>\n",
       "      <td>19.38</td>\n",
       "    </tr>\n",
       "    <tr>\n",
       "      <th>женат / замужем</th>\n",
       "      <td>7.56</td>\n",
       "      <td>927</td>\n",
       "      <td>12261</td>\n",
       "      <td>57.48</td>\n",
       "    </tr>\n",
       "  </tbody>\n",
       "</table>\n",
       "</div>"
      ],
      "text/plain": [
       "                       debt_pct  debtor_count  family_status_count  \\\n",
       "family_status                                                        \n",
       "Не женат / не замужем      9.76           273                 2796   \n",
       "в разводе                  7.06            84                 1189   \n",
       "вдовец / вдова             6.62            63                  951   \n",
       "гражданский брак           9.31           385                 4134   \n",
       "женат / замужем            7.56           927                12261   \n",
       "\n",
       "                       family_status_pct  \n",
       "family_status                             \n",
       "Не женат / не замужем              13.11  \n",
       "в разводе                           5.57  \n",
       "вдовец / вдова                      4.46  \n",
       "гражданский брак                   19.38  \n",
       "женат / замужем                    57.48  "
      ]
     },
     "execution_count": 25,
     "metadata": {},
     "output_type": "execute_result"
    }
   ],
   "source": [
    "family_status_group = get_relations_debt_from('family_status')\n",
    "family_status_group"
   ]
  },
  {
   "cell_type": "code",
   "execution_count": 26,
   "id": "66f4c5fe",
   "metadata": {},
   "outputs": [
    {
     "data": {
      "image/png": "[encoded data removed]",
      "text/plain": [
       "<Figure size 432x288 with 1 Axes>"
      ]
     },
     "metadata": {
      "needs_background": "light"
     },
     "output_type": "display_data"
    }
   ],
   "source": [
    "bar = sns.barplot(data=family_status_group, x=family_status_group.index, y='family_status_pct')\n",
    "bar.set(xlabel='Семейный статус', ylabel='Количество кредитов, %',\\\n",
    "        title='Зависимость между семейным положением и количеством взятых кредитов')\n",
    "bar.set_xticklabels(family_status_group.index, rotation=90)\n",
    "pass"
   ]
  },
  {
   "cell_type": "code",
   "execution_count": 27,
   "id": "54ec8765",
   "metadata": {},
   "outputs": [
    {
     "data": {
      "image/png": "[encoded data removed]",
      "text/plain": [
       "<Figure size 432x288 with 1 Axes>"
      ]
     },
     "metadata": {
      "needs_background": "light"
     },
     "output_type": "display_data"
    }
   ],
   "source": [
    "bar = sns.barplot(data=family_status_group, x=family_status_group.index, y='debt_pct')\n",
    "bar.set(xlabel='Семейный статус', ylabel='Количество задолженностей, %',\\\n",
    "        title='Зависимость между семейным положением и % просроченных кредитов')\n",
    "bar.set_xticklabels(family_status_group.index, rotation=90)\n",
    "pass"
   ]
  },
  {
   "cell_type": "code",
   "execution_count": 28,
   "id": "6ad543a5",
   "metadata": {},
   "outputs": [
    {
     "data": {
      "text/html": [
       "<div>\n",
       "<style scoped>\n",
       "    .dataframe tbody tr th:only-of-type {\n",
       "        vertical-align: middle;\n",
       "    }\n",
       "\n",
       "    .dataframe tbody tr th {\n",
       "        vertical-align: top;\n",
       "    }\n",
       "\n",
       "    .dataframe thead th {\n",
       "        text-align: right;\n",
       "    }\n",
       "</style>\n",
       "<table border=\"1\" class=\"dataframe\">\n",
       "  <thead>\n",
       "    <tr style=\"text-align: right;\">\n",
       "      <th></th>\n",
       "      <th>mean</th>\n",
       "      <th>sum</th>\n",
       "      <th>count</th>\n",
       "      <th>count_pct</th>\n",
       "    </tr>\n",
       "    <tr>\n",
       "      <th>family_status</th>\n",
       "      <th></th>\n",
       "      <th></th>\n",
       "      <th></th>\n",
       "      <th></th>\n",
       "    </tr>\n",
       "  </thead>\n",
       "  <tbody>\n",
       "    <tr>\n",
       "      <th>Не женат / не замужем</th>\n",
       "      <td>9.76</td>\n",
       "      <td>273</td>\n",
       "      <td>2796</td>\n",
       "      <td>13.11</td>\n",
       "    </tr>\n",
       "    <tr>\n",
       "      <th>в разводе</th>\n",
       "      <td>7.06</td>\n",
       "      <td>84</td>\n",
       "      <td>1189</td>\n",
       "      <td>5.57</td>\n",
       "    </tr>\n",
       "    <tr>\n",
       "      <th>вдовец / вдова</th>\n",
       "      <td>6.62</td>\n",
       "      <td>63</td>\n",
       "      <td>951</td>\n",
       "      <td>4.46</td>\n",
       "    </tr>\n",
       "    <tr>\n",
       "      <th>гражданский брак</th>\n",
       "      <td>9.31</td>\n",
       "      <td>385</td>\n",
       "      <td>4134</td>\n",
       "      <td>19.38</td>\n",
       "    </tr>\n",
       "    <tr>\n",
       "      <th>женат / замужем</th>\n",
       "      <td>7.56</td>\n",
       "      <td>927</td>\n",
       "      <td>12261</td>\n",
       "      <td>57.48</td>\n",
       "    </tr>\n",
       "  </tbody>\n",
       "</table>\n",
       "</div>"
      ],
      "text/plain": [
       "                       mean  sum  count  count_pct\n",
       "family_status                                     \n",
       "Не женат / не замужем  9.76  273   2796      13.11\n",
       "в разводе              7.06   84   1189       5.57\n",
       "вдовец / вдова         6.62   63    951       4.46\n",
       "гражданский брак       9.31  385   4134      19.38\n",
       "женат / замужем        7.56  927  12261      57.48"
      ]
     },
     "execution_count": 28,
     "metadata": {},
     "output_type": "execute_result"
    }
   ],
   "source": [
    "family_status_group_1 = data.groupby('family_status')\n",
    "family_status_group_1 = family_status_group_1['debt'].agg(['mean', 'sum', 'count'])\n",
    "family_status_group_1['mean'] = round(family_status_group_1['mean'] * 100, 2)\n",
    "family_status_group_1['count_pct'] = round(family_status_group_1['count'] / family_status_group_1['count'].sum() * 100, 2)\n",
    "family_status_group_1"
   ]
  },
  {
   "cell_type": "markdown",
   "id": "d0cc3b61",
   "metadata": {},
   "source": [
    "Чаще всего берут кредиты заемщики с семейным положением женат/замужем (57,5 %). Лучше всего возвращают кредиты заемщики с семейным положением \"в разводе\" и \"вдовец/вдова\", но таких заемщиков не много (4-6 %). Больше всего кредитов не возвращенных в срок у заемщиков категории \"не женат/не замужем\"."
   ]
  },
  {
   "cell_type": "markdown",
   "id": "922712d3",
   "metadata": {
    "deletable": false,
    "id": "1cef7837"
   },
   "source": [
    "**Вывод:** Процент кредитов не возвращенных вовремя колеблется ~ от 6,5 до 10 %. Наиболее рискованная группа \"не женат/не замужем\", при этом таких заемщиков ~ 13 %. У самой многочисленной группы заемщиков \"женат/замужем\" (~57,5 %), не возвращенных вовремя кредитов ~ 7.5%.\n",
    "        \n",
    "    Возврат кредита в срок зависит от семейного положения.\n",
    "    У \"не женатые / не замужние\" на треть больше кредитов не возвращенных вовремя.\n"
   ]
  },
  {
   "cell_type": "markdown",
   "id": "471cab31",
   "metadata": {
    "deletable": false,
    "editable": false,
    "id": "1e8b2fca"
   },
   "source": [
    "#### 3.3 Есть ли зависимость между уровнем дохода и возвратом кредита в срок?"
   ]
  },
  {
   "cell_type": "code",
   "execution_count": 29,
   "id": "8950f1f6",
   "metadata": {
    "deletable": false,
    "id": "cd7e3720"
   },
   "outputs": [
    {
     "data": {
      "text/html": [
       "<div>\n",
       "<style scoped>\n",
       "    .dataframe tbody tr th:only-of-type {\n",
       "        vertical-align: middle;\n",
       "    }\n",
       "\n",
       "    .dataframe tbody tr th {\n",
       "        vertical-align: top;\n",
       "    }\n",
       "\n",
       "    .dataframe thead th {\n",
       "        text-align: right;\n",
       "    }\n",
       "</style>\n",
       "<table border=\"1\" class=\"dataframe\">\n",
       "  <thead>\n",
       "    <tr style=\"text-align: right;\">\n",
       "      <th></th>\n",
       "      <th>debt_pct</th>\n",
       "      <th>debtor_count</th>\n",
       "      <th>total_income_category_count</th>\n",
       "      <th>total_income_category_pct</th>\n",
       "    </tr>\n",
       "    <tr>\n",
       "      <th>total_income_category</th>\n",
       "      <th></th>\n",
       "      <th></th>\n",
       "      <th></th>\n",
       "      <th></th>\n",
       "    </tr>\n",
       "  </thead>\n",
       "  <tbody>\n",
       "    <tr>\n",
       "      <th>A</th>\n",
       "      <td>8.00</td>\n",
       "      <td>2</td>\n",
       "      <td>25</td>\n",
       "      <td>0.12</td>\n",
       "    </tr>\n",
       "    <tr>\n",
       "      <th>B</th>\n",
       "      <td>7.06</td>\n",
       "      <td>354</td>\n",
       "      <td>5014</td>\n",
       "      <td>23.51</td>\n",
       "    </tr>\n",
       "    <tr>\n",
       "      <th>C</th>\n",
       "      <td>8.50</td>\n",
       "      <td>1353</td>\n",
       "      <td>15921</td>\n",
       "      <td>74.64</td>\n",
       "    </tr>\n",
       "    <tr>\n",
       "      <th>D</th>\n",
       "      <td>6.02</td>\n",
       "      <td>21</td>\n",
       "      <td>349</td>\n",
       "      <td>1.64</td>\n",
       "    </tr>\n",
       "    <tr>\n",
       "      <th>E</th>\n",
       "      <td>9.09</td>\n",
       "      <td>2</td>\n",
       "      <td>22</td>\n",
       "      <td>0.10</td>\n",
       "    </tr>\n",
       "  </tbody>\n",
       "</table>\n",
       "</div>"
      ],
      "text/plain": [
       "                       debt_pct  debtor_count  total_income_category_count  \\\n",
       "total_income_category                                                        \n",
       "A                          8.00             2                           25   \n",
       "B                          7.06           354                         5014   \n",
       "C                          8.50          1353                        15921   \n",
       "D                          6.02            21                          349   \n",
       "E                          9.09             2                           22   \n",
       "\n",
       "                       total_income_category_pct  \n",
       "total_income_category                             \n",
       "A                                           0.12  \n",
       "B                                          23.51  \n",
       "C                                          74.64  \n",
       "D                                           1.64  \n",
       "E                                           0.10  "
      ]
     },
     "execution_count": 29,
     "metadata": {},
     "output_type": "execute_result"
    }
   ],
   "source": [
    "# Ваш код будет здесь. Вы можете создавать новые ячейки.\n",
    "# функция get_relations_debt_from из пункта 2.7.1 возвращает % и абс.количество не вернувших кредит из данной категории\n",
    "# % и абс.количество людей в данной категории\n",
    "\n",
    "categorize_income_group = get_relations_debt_from('total_income_category')\n",
    "categorize_income_group"
   ]
  },
  {
   "cell_type": "code",
   "execution_count": 30,
   "id": "94c1cc6c",
   "metadata": {},
   "outputs": [
    {
     "data": {
      "image/png": "[encoded data removed]",
      "text/plain": [
       "<Figure size 432x288 with 1 Axes>"
      ]
     },
     "metadata": {
      "needs_background": "light"
     },
     "output_type": "display_data"
    }
   ],
   "source": [
    "bar = sns.barplot(data=categorize_income_group, x=categorize_income_group.index, y='total_income_category_pct')\n",
    "bar.set(xlabel='Уровень дохода', ylabel='Количество кредитов, %',\\\n",
    "        title='Зависимость между уровнем дохода и количеством взятых кредитов')\n",
    "pass"
   ]
  },
  {
   "cell_type": "code",
   "execution_count": 31,
   "id": "a52ebc19",
   "metadata": {},
   "outputs": [
    {
     "data": {
      "image/png": "[encoded data removed]",
      "text/plain": [
       "<Figure size 432x288 with 1 Axes>"
      ]
     },
     "metadata": {
      "needs_background": "light"
     },
     "output_type": "display_data"
    }
   ],
   "source": [
    "bar = sns.barplot(data=categorize_income_group, x=categorize_income_group.index, y='debt_pct')\n",
    "bar.set(xlabel='Уровень дохода', ylabel='Количество задолженностей, %',\\\n",
    "        title='Зависимость между уровнем дохода и % просроченных кредитов')\n",
    "pass"
   ]
  },
  {
   "cell_type": "markdown",
   "id": "e191d614",
   "metadata": {},
   "source": [
    "Люди с очень высоким и очень низким доходом почти не берут кредиты. Поэтому делать заключение, на основе имеющихся данных, по категориям 'A' и 'E' не представляется возможным. Подавляющее большинство кредитов берут заемщики с доходом категории 'С'."
   ]
  },
  {
   "cell_type": "markdown",
   "id": "c0ec1579",
   "metadata": {
    "deletable": false,
    "id": "e8593def"
   },
   "source": [
    "**Вывод:** На основе имеющихся данных можно сказать, что в целом, чем выше доход, тем меньше кредитов не возвращенных в срок."
   ]
  },
  {
   "cell_type": "markdown",
   "id": "99ac4beb",
   "metadata": {
    "deletable": false,
    "editable": false,
    "id": "99ecbd1f"
   },
   "source": [
    "#### 3.4 Как разные цели кредита влияют на его возврат в срок?"
   ]
  },
  {
   "cell_type": "code",
   "execution_count": 32,
   "id": "187e6c19",
   "metadata": {
    "deletable": false,
    "id": "2b687290"
   },
   "outputs": [
    {
     "data": {
      "text/html": [
       "<div>\n",
       "<style scoped>\n",
       "    .dataframe tbody tr th:only-of-type {\n",
       "        vertical-align: middle;\n",
       "    }\n",
       "\n",
       "    .dataframe tbody tr th {\n",
       "        vertical-align: top;\n",
       "    }\n",
       "\n",
       "    .dataframe thead th {\n",
       "        text-align: right;\n",
       "    }\n",
       "</style>\n",
       "<table border=\"1\" class=\"dataframe\">\n",
       "  <thead>\n",
       "    <tr style=\"text-align: right;\">\n",
       "      <th></th>\n",
       "      <th>debt_pct</th>\n",
       "      <th>debt_count</th>\n",
       "      <th>purpose_category_count</th>\n",
       "      <th>purpose_category_pct</th>\n",
       "    </tr>\n",
       "    <tr>\n",
       "      <th>purpose_category</th>\n",
       "      <th></th>\n",
       "      <th></th>\n",
       "      <th></th>\n",
       "      <th></th>\n",
       "    </tr>\n",
       "  </thead>\n",
       "  <tbody>\n",
       "    <tr>\n",
       "      <th>операции с автомобилем</th>\n",
       "      <td>9.35</td>\n",
       "      <td>400</td>\n",
       "      <td>4279</td>\n",
       "      <td>20.06</td>\n",
       "    </tr>\n",
       "    <tr>\n",
       "      <th>операции с недвижимостью</th>\n",
       "      <td>7.26</td>\n",
       "      <td>780</td>\n",
       "      <td>10751</td>\n",
       "      <td>50.40</td>\n",
       "    </tr>\n",
       "    <tr>\n",
       "      <th>получение образования</th>\n",
       "      <td>9.25</td>\n",
       "      <td>369</td>\n",
       "      <td>3988</td>\n",
       "      <td>18.70</td>\n",
       "    </tr>\n",
       "    <tr>\n",
       "      <th>проведение свадьбы</th>\n",
       "      <td>7.91</td>\n",
       "      <td>183</td>\n",
       "      <td>2313</td>\n",
       "      <td>10.84</td>\n",
       "    </tr>\n",
       "  </tbody>\n",
       "</table>\n",
       "</div>"
      ],
      "text/plain": [
       "                          debt_pct  debt_count  purpose_category_count  \\\n",
       "purpose_category                                                         \n",
       "операции с автомобилем        9.35         400                    4279   \n",
       "операции с недвижимостью      7.26         780                   10751   \n",
       "получение образования         9.25         369                    3988   \n",
       "проведение свадьбы            7.91         183                    2313   \n",
       "\n",
       "                          purpose_category_pct  \n",
       "purpose_category                                \n",
       "операции с автомобилем                   20.06  \n",
       "операции с недвижимостью                 50.40  \n",
       "получение образования                    18.70  \n",
       "проведение свадьбы                       10.84  "
      ]
     },
     "execution_count": 32,
     "metadata": {},
     "output_type": "execute_result"
    }
   ],
   "source": [
    "# Ваш код будет здесь. Вы можете создавать новые ячейки.\n",
    "# функция get_relations_debt_from из пункта 2.7.1 возвращает % и абс.количество не вернувших кредит из данной категории\n",
    "# % и абс.количество людей в данной категории\n",
    "\n",
    "#purpose_category_group = get_relations_debt_from('purpose_category')\n",
    "#purpose_category_group\n",
    "\n",
    " \n",
    "purpose_category_group = data.pivot_table(index='purpose_category', values='debt', aggfunc=['mean', 'sum', 'count'])\n",
    "purpose_category_group['mean'] = round(purpose_category_group['mean'] * 100, 2)\n",
    "purpose_category_group.columns = ['debt_pct', 'debt_count', 'purpose_category_count']\n",
    "purpose_category_group['purpose_category_pct'] = round(purpose_category_group['purpose_category_count'] / len(data) * 100, 2)\n",
    "purpose_category_group"
   ]
  },
  {
   "cell_type": "code",
   "execution_count": 33,
   "id": "e338fd7b",
   "metadata": {},
   "outputs": [
    {
     "data": {
      "image/png": "[encoded data removed]",
      "text/plain": [
       "<Figure size 432x288 with 1 Axes>"
      ]
     },
     "metadata": {
      "needs_background": "light"
     },
     "output_type": "display_data"
    }
   ],
   "source": [
    "bar = sns.barplot(data=purpose_category_group, x=['Авто', 'Жилье', 'Учеба', 'Свадьба'], y='purpose_category_pct')\n",
    "bar.set(xlabel='Цель кредита', ylabel='Количество кредитов, %',\\\n",
    "        title='Зависимость между целью кредита и количеством взятых кредитов')\n",
    "pass"
   ]
  },
  {
   "cell_type": "code",
   "execution_count": 34,
   "id": "1ac8d419",
   "metadata": {},
   "outputs": [
    {
     "data": {
      "image/png": "[encoded data removed]",
      "text/plain": [
       "<Figure size 432x288 with 1 Axes>"
      ]
     },
     "metadata": {
      "needs_background": "light"
     },
     "output_type": "display_data"
    }
   ],
   "source": [
    "bar = sns.barplot(data=purpose_category_group, x=['Авто', 'Жилье', 'Учеба', 'Свадьба'], y='debt_pct')\n",
    "bar.set(xlabel='Цель кредита', ylabel='Количество задолженностей, %',\\\n",
    "        title='Зависимость между целью кредита и % просроченных кредитов')\n",
    "pass"
   ]
  },
  {
   "cell_type": "markdown",
   "id": "1fcb7476",
   "metadata": {},
   "source": [
    "Половина кредитов берется для операций с недвижимостью. На АВТО и УЧЕБУ берется ~ 20 %, на свадьбу 10 % кредитов. Хуже всего возвращаются кредиты на АВТО и УЧЕБУ, лучше всего возвращаются кредиты на ЖИЛЬЕ."
   ]
  },
  {
   "cell_type": "markdown",
   "id": "70fa6240",
   "metadata": {
    "deletable": false,
    "id": "b4bb2ce6"
   },
   "source": [
    "**Вывод:** Наиболее рискованные цели кредита - это на машину и на учебу. Наименее рискованная цель - операции с недвижимостью."
   ]
  },
  {
   "cell_type": "code",
   "execution_count": 35,
   "id": "f779280e",
   "metadata": {},
   "outputs": [
    {
     "data": {
      "text/html": [
       "<div>\n",
       "<style scoped>\n",
       "    .dataframe tbody tr th:only-of-type {\n",
       "        vertical-align: middle;\n",
       "    }\n",
       "\n",
       "    .dataframe tbody tr th {\n",
       "        vertical-align: top;\n",
       "    }\n",
       "\n",
       "    .dataframe thead th {\n",
       "        text-align: right;\n",
       "    }\n",
       "</style>\n",
       "<table border=\"1\" class=\"dataframe\">\n",
       "  <thead>\n",
       "    <tr style=\"text-align: right;\">\n",
       "      <th></th>\n",
       "      <th>debt_pct</th>\n",
       "      <th>debt_count</th>\n",
       "      <th>purpose_category_count</th>\n",
       "      <th>purpose_category_pct</th>\n",
       "    </tr>\n",
       "    <tr>\n",
       "      <th>purpose_category</th>\n",
       "      <th></th>\n",
       "      <th></th>\n",
       "      <th></th>\n",
       "      <th></th>\n",
       "    </tr>\n",
       "  </thead>\n",
       "  <tbody>\n",
       "    <tr>\n",
       "      <th>операции с автомобилем</th>\n",
       "      <td>9.35</td>\n",
       "      <td>400</td>\n",
       "      <td>4279</td>\n",
       "      <td>20.06</td>\n",
       "    </tr>\n",
       "    <tr>\n",
       "      <th>операции с недвижимостью</th>\n",
       "      <td>7.26</td>\n",
       "      <td>780</td>\n",
       "      <td>10751</td>\n",
       "      <td>50.40</td>\n",
       "    </tr>\n",
       "    <tr>\n",
       "      <th>получение образования</th>\n",
       "      <td>9.25</td>\n",
       "      <td>369</td>\n",
       "      <td>3988</td>\n",
       "      <td>18.70</td>\n",
       "    </tr>\n",
       "    <tr>\n",
       "      <th>проведение свадьбы</th>\n",
       "      <td>7.91</td>\n",
       "      <td>183</td>\n",
       "      <td>2313</td>\n",
       "      <td>10.84</td>\n",
       "    </tr>\n",
       "  </tbody>\n",
       "</table>\n",
       "</div>"
      ],
      "text/plain": [
       "                          debt_pct  debt_count  purpose_category_count  \\\n",
       "purpose_category                                                         \n",
       "операции с автомобилем        9.35         400                    4279   \n",
       "операции с недвижимостью      7.26         780                   10751   \n",
       "получение образования         9.25         369                    3988   \n",
       "проведение свадьбы            7.91         183                    2313   \n",
       "\n",
       "                          purpose_category_pct  \n",
       "purpose_category                                \n",
       "операции с автомобилем                   20.06  \n",
       "операции с недвижимостью                 50.40  \n",
       "получение образования                    18.70  \n",
       "проведение свадьбы                       10.84  "
      ]
     },
     "execution_count": 35,
     "metadata": {},
     "output_type": "execute_result"
    }
   ],
   "source": [
    "purpose_category_group = data.pivot_table(index='purpose_category', values='debt', aggfunc=['mean', 'sum', 'count'])\n",
    "purpose_category_group['mean'] = round(purpose_category_group['mean'] * 100, 2)\n",
    "purpose_category_group.columns = ['debt_pct', 'debt_count', 'purpose_category_count']\n",
    "purpose_category_group['purpose_category_pct'] = round(purpose_category_group['purpose_category_count'] / \\\n",
    "                                                       purpose_category_group['purpose_category_count'].sum() * 100, 2)\n",
    "purpose_category_group"
   ]
  },
  {
   "cell_type": "markdown",
   "id": "4a96547e",
   "metadata": {
    "deletable": false,
    "editable": false,
    "id": "09c3ac4c"
   },
   "source": [
    "#### 3.5 Приведите возможные причины появления пропусков в исходных данных."
   ]
  },
  {
   "cell_type": "markdown",
   "id": "de685587",
   "metadata": {
    "deletable": false,
    "id": "9da2ceda"
   },
   "source": [
    "*Ответ:* Все пропуски в исходных данных находятся в столбцах 'Стаж' и 'Уровень дохода', причем в одиноковых строках. Это количественные данные. Все остальные данные в строчках разные. То есть некоторые заемщики не указали свой стаж и уровень дохода. Возможно они отказались указывать эти данные или недавно уволились или это ошибка выгрузки данных из БД, например по какому-нибудь отделению банка."
   ]
  },
  {
   "cell_type": "markdown",
   "id": "540c79e5",
   "metadata": {
    "deletable": false,
    "editable": false,
    "id": "7b0487d6"
   },
   "source": [
    "#### 3.6 Объясните, почему заполнить пропуски медианным значением — лучшее решение для количественных переменных."
   ]
  },
  {
   "cell_type": "markdown",
   "id": "267581f8",
   "metadata": {
    "deletable": false,
    "id": "7ecf2b8e"
   },
   "source": [
    "*Ответ:* При наличии в данных сильных \"выбросов\" (одного или нескольких зачений, очень сильно отличаюшихся в большую или меньшую сторону от остальных значений) медианное значение является лучшим решением, потому что позволяет нивелировать влияние этих \"выбросов\" на среднее значение и при этом учесть их в анализе. Альтернативой является удаление этих выбросов из данных (если их немного, до 1 %), тогда можно использовать среднее значение, но при этом есть вероятность исказить результаты анализа."
   ]
  },
  {
   "cell_type": "markdown",
   "id": "eadbf6a6",
   "metadata": {
    "deletable": false,
    "editable": false,
    "id": "6db5255a"
   },
   "source": [
    "### Шаг 4: общий вывод."
   ]
  },
  {
   "cell_type": "markdown",
   "id": "603bac8a",
   "metadata": {
    "deletable": false,
    "id": "bad65432"
   },
   "source": [
    "**Указанные категории влияют на возврат кредита в срок в пределах ~ 20-30 % в относительном выражении.\n",
    "В абсолютном выражении это ~ 1.5-2 %. Насколько это много или мало должен решать заказчик анализа.**\n",
    "\n",
    "    В целом больше всего кредитов берут заемщики без детей женатые/замужние с уровнем дохода 'С' \n",
    "    на операции с недвижимостью. Количество не возвращенных вовремя кредитов среднее.\n",
    "    Самый лучший заемщик - вдовец/вдова без детей с уровнем дохода 'B', берущий кредит на недвижимость.\n",
    "    Самый худший заемщик - не женат/не замужем с 2 и более детьми с уровнем дохода 'С' берущий кредит на автомобиль."
   ]
  },
  {
   "cell_type": "markdown",
   "id": "0ec046d4",
   "metadata": {},
   "source": [
    "**Указанные категории влияют на возврат кредита в срок в пределах ~ 20-30 % в относительном выражении.\n",
    "В абсолютном выражении это ~ 1.5-2 %. Насколько это много или мало должен решать заказчик анализа.**\n",
    "\n",
    "    Задание 19. Есть ли зависимость между количеством детей и возвратом кредита в срок?\n",
    "                \n",
    "                Количество детей практически не влияет на возврат кредита в срок, сильнее влияет наличие или отсутствие\n",
    "                детей. У бездетных заемщиков, кредитов не возвращенных вовремя на 21 % меньше, чем у заемщиков с детьми. \n",
    "                (в абсолютном выражении 7,54 % против 9,16 % в среднем).\n",
    "        \n",
    "    Задание 20. Есть ли зависимость между семейным положением и возвратом кредита в срок?\n",
    "                \n",
    "                Зависимость между семейным положением и возвратом кредита в срок есть. Наиболее рискованные категории\n",
    "                \"не женат/не замужем\" и \"гражданский брак\". (в относительном выражении, не возвращенных кредитов в срок,\n",
    "                у этих категорий на 35 % (в абсолютном 2,46 %) больше).    \n",
    "    \n",
    "    \n",
    "    Задание 21. Есть ли зависимость между уровнем дохода и возвратом кредита в срок?\n",
    "    \n",
    "                Судить о зависимости между уровнем дохода и возвратом кредита в срок для групп A, D, E не представляется\n",
    "                возможным ввиду малого количества данных. Данные групп B и C показывают, что в целом, чем выше доход, \n",
    "                тем меньше кредитов не возвращенных в срок.(в относительном выражении у групп С на 20 % больше кредитов\n",
    "                не возвращенных во время).    \n",
    "    \n",
    "    \n",
    "    Задание 22. Как разные цели кредита влияют на его возврат в срок?\n",
    "    \n",
    "                Цели кредита влияют на его возврат в срок. Наиболее рискованные цели кредита - это на машину и на учебу.\n",
    "                Наименее рискованная цель - операции с недвижимостью (в относительном выражении на 28 % (2 % в абсолютном)\n",
    "                меньше кредитов, не возвращенных вовремя, чем среднее между \"на машину\" и \"на учебу\").\n",
    "    \n",
    "    \n"
   ]
  }
 ],
 "metadata": {
  "ExecuteTimeLog": [
   {
    "duration": 43,
    "start_time": "2022-12-08T19:33:27.485Z"
   },
   {
    "duration": 430,
    "start_time": "2022-12-08T19:33:41.627Z"
   },
   {
    "duration": 24,
    "start_time": "2022-12-08T19:33:42.058Z"
   },
   {
    "duration": 15,
    "start_time": "2022-12-08T19:33:42.083Z"
   },
   {
    "duration": 9,
    "start_time": "2022-12-08T19:33:42.100Z"
   },
   {
    "duration": 34,
    "start_time": "2022-12-08T19:33:42.110Z"
   },
   {
    "duration": 3,
    "start_time": "2022-12-08T19:33:42.146Z"
   },
   {
    "duration": 28,
    "start_time": "2022-12-08T19:33:42.151Z"
   },
   {
    "duration": 4,
    "start_time": "2022-12-08T19:33:42.181Z"
   },
   {
    "duration": 10,
    "start_time": "2022-12-08T19:33:42.186Z"
   },
   {
    "duration": 4,
    "start_time": "2022-12-08T19:33:42.198Z"
   },
   {
    "duration": 40,
    "start_time": "2022-12-08T19:33:42.203Z"
   },
   {
    "duration": 10,
    "start_time": "2022-12-08T19:33:42.244Z"
   },
   {
    "duration": 4,
    "start_time": "2022-12-08T19:33:42.278Z"
   },
   {
    "duration": 15,
    "start_time": "2022-12-08T19:33:42.284Z"
   },
   {
    "duration": 22,
    "start_time": "2022-12-08T19:33:42.300Z"
   },
   {
    "duration": 16,
    "start_time": "2022-12-08T19:33:42.324Z"
   },
   {
    "duration": 3,
    "start_time": "2022-12-08T19:33:42.342Z"
   },
   {
    "duration": 34,
    "start_time": "2022-12-08T19:33:42.346Z"
   },
   {
    "duration": 9,
    "start_time": "2022-12-08T19:33:42.381Z"
   },
   {
    "duration": 5,
    "start_time": "2022-12-08T19:33:42.392Z"
   },
   {
    "duration": 12,
    "start_time": "2022-12-08T19:33:48.055Z"
   },
   {
    "duration": 28,
    "start_time": "2022-12-08T19:34:52.673Z"
   },
   {
    "duration": 19,
    "start_time": "2022-12-08T19:35:11.232Z"
   },
   {
    "duration": 6,
    "start_time": "2022-12-08T19:37:34.633Z"
   },
   {
    "duration": 7,
    "start_time": "2022-12-08T19:37:45.538Z"
   },
   {
    "duration": 9,
    "start_time": "2022-12-08T19:43:31.523Z"
   },
   {
    "duration": 11,
    "start_time": "2022-12-08T19:43:43.491Z"
   },
   {
    "duration": 11,
    "start_time": "2022-12-08T19:44:12.352Z"
   },
   {
    "duration": 21,
    "start_time": "2022-12-08T19:44:54.668Z"
   },
   {
    "duration": 21,
    "start_time": "2022-12-08T19:49:17.652Z"
   },
   {
    "duration": 16,
    "start_time": "2022-12-08T19:49:48.499Z"
   },
   {
    "duration": 10,
    "start_time": "2022-12-08T19:51:40.921Z"
   },
   {
    "duration": 12,
    "start_time": "2022-12-08T19:52:01.054Z"
   },
   {
    "duration": 25,
    "start_time": "2022-12-08T19:53:03.906Z"
   },
   {
    "duration": 24,
    "start_time": "2022-12-08T19:53:52.201Z"
   },
   {
    "duration": 57,
    "start_time": "2022-12-11T21:18:09.767Z"
   },
   {
    "duration": 697,
    "start_time": "2022-12-11T21:18:28.333Z"
   },
   {
    "duration": 23,
    "start_time": "2022-12-11T21:18:29.032Z"
   },
   {
    "duration": 15,
    "start_time": "2022-12-11T21:18:29.057Z"
   },
   {
    "duration": 10,
    "start_time": "2022-12-11T21:18:29.074Z"
   },
   {
    "duration": 41,
    "start_time": "2022-12-11T21:18:29.098Z"
   },
   {
    "duration": 4,
    "start_time": "2022-12-11T21:18:29.140Z"
   },
   {
    "duration": 15,
    "start_time": "2022-12-11T21:18:29.147Z"
   },
   {
    "duration": 4,
    "start_time": "2022-12-11T21:18:29.163Z"
   },
   {
    "duration": 37,
    "start_time": "2022-12-11T21:18:29.169Z"
   },
   {
    "duration": 5,
    "start_time": "2022-12-11T21:18:29.210Z"
   },
   {
    "duration": 52,
    "start_time": "2022-12-11T21:18:29.217Z"
   },
   {
    "duration": 10,
    "start_time": "2022-12-11T21:18:29.271Z"
   },
   {
    "duration": 4,
    "start_time": "2022-12-11T21:18:29.283Z"
   },
   {
    "duration": 18,
    "start_time": "2022-12-11T21:18:29.290Z"
   },
   {
    "duration": 45,
    "start_time": "2022-12-11T21:18:29.310Z"
   },
   {
    "duration": 16,
    "start_time": "2022-12-11T21:18:29.357Z"
   },
   {
    "duration": 3,
    "start_time": "2022-12-11T21:18:29.375Z"
   },
   {
    "duration": 20,
    "start_time": "2022-12-11T21:18:29.380Z"
   },
   {
    "duration": 8,
    "start_time": "2022-12-11T21:18:29.403Z"
   },
   {
    "duration": 14,
    "start_time": "2022-12-11T21:18:29.413Z"
   },
   {
    "duration": 12,
    "start_time": "2022-12-11T21:18:33.044Z"
   },
   {
    "duration": 34,
    "start_time": "2022-12-11T21:18:35.590Z"
   },
   {
    "duration": 38,
    "start_time": "2022-12-11T21:20:33.317Z"
   },
   {
    "duration": 11,
    "start_time": "2022-12-11T21:25:04.832Z"
   },
   {
    "duration": 12,
    "start_time": "2022-12-11T21:26:31.514Z"
   },
   {
    "duration": 658,
    "start_time": "2022-12-11T21:29:09.367Z"
   },
   {
    "duration": 10,
    "start_time": "2022-12-11T21:30:01.071Z"
   },
   {
    "duration": 12,
    "start_time": "2022-12-11T21:40:48.647Z"
   },
   {
    "duration": 11,
    "start_time": "2022-12-11T21:40:59.160Z"
   },
   {
    "duration": 12,
    "start_time": "2022-12-11T21:41:26.504Z"
   },
   {
    "duration": 12,
    "start_time": "2022-12-11T21:42:35.320Z"
   },
   {
    "duration": 31,
    "start_time": "2022-12-11T21:43:18.431Z"
   },
   {
    "duration": 15,
    "start_time": "2022-12-11T21:43:57.279Z"
   },
   {
    "duration": 8,
    "start_time": "2022-12-11T21:47:00.991Z"
   },
   {
    "duration": 9,
    "start_time": "2022-12-11T21:47:25.021Z"
   },
   {
    "duration": 9,
    "start_time": "2022-12-11T21:47:32.827Z"
   },
   {
    "duration": 11,
    "start_time": "2022-12-11T21:50:43.124Z"
   },
   {
    "duration": 12,
    "start_time": "2022-12-11T21:52:08.738Z"
   },
   {
    "duration": 11,
    "start_time": "2022-12-11T22:01:36.978Z"
   },
   {
    "duration": 12,
    "start_time": "2022-12-11T22:01:54.995Z"
   },
   {
    "duration": 21,
    "start_time": "2022-12-11T22:02:44.917Z"
   },
   {
    "duration": 17,
    "start_time": "2022-12-11T22:03:03.955Z"
   },
   {
    "duration": 16,
    "start_time": "2022-12-11T22:04:49.243Z"
   },
   {
    "duration": 1010,
    "start_time": "2022-12-11T22:12:39.661Z"
   },
   {
    "duration": 66,
    "start_time": "2022-12-11T22:12:42.013Z"
   },
   {
    "duration": 64,
    "start_time": "2022-12-11T22:16:28.848Z"
   },
   {
    "duration": 165,
    "start_time": "2022-12-11T22:16:39.538Z"
   },
   {
    "duration": 68,
    "start_time": "2022-12-11T22:17:15.399Z"
   },
   {
    "duration": 15,
    "start_time": "2022-12-11T22:17:15.469Z"
   },
   {
    "duration": 21,
    "start_time": "2022-12-11T22:17:15.486Z"
   },
   {
    "duration": 9,
    "start_time": "2022-12-11T22:17:15.509Z"
   },
   {
    "duration": 33,
    "start_time": "2022-12-11T22:17:15.519Z"
   },
   {
    "duration": 3,
    "start_time": "2022-12-11T22:17:15.554Z"
   },
   {
    "duration": 12,
    "start_time": "2022-12-11T22:17:15.559Z"
   },
   {
    "duration": 26,
    "start_time": "2022-12-11T22:17:15.573Z"
   },
   {
    "duration": 12,
    "start_time": "2022-12-11T22:17:15.601Z"
   },
   {
    "duration": 23,
    "start_time": "2022-12-11T22:17:15.615Z"
   },
   {
    "duration": 46,
    "start_time": "2022-12-11T22:17:15.640Z"
   },
   {
    "duration": 9,
    "start_time": "2022-12-11T22:17:15.687Z"
   },
   {
    "duration": 14,
    "start_time": "2022-12-11T22:17:15.698Z"
   },
   {
    "duration": 14,
    "start_time": "2022-12-11T22:17:15.713Z"
   },
   {
    "duration": 32,
    "start_time": "2022-12-11T22:17:15.728Z"
   },
   {
    "duration": 15,
    "start_time": "2022-12-11T22:17:15.762Z"
   },
   {
    "duration": 3,
    "start_time": "2022-12-11T22:17:15.779Z"
   },
   {
    "duration": 15,
    "start_time": "2022-12-11T22:17:15.784Z"
   },
   {
    "duration": 13,
    "start_time": "2022-12-11T22:17:15.800Z"
   },
   {
    "duration": 5,
    "start_time": "2022-12-11T22:17:15.814Z"
   },
   {
    "duration": 11,
    "start_time": "2022-12-11T22:17:15.820Z"
   },
   {
    "duration": 173,
    "start_time": "2022-12-11T22:17:19.848Z"
   },
   {
    "duration": 133,
    "start_time": "2022-12-11T22:17:43.376Z"
   },
   {
    "duration": 137,
    "start_time": "2022-12-11T22:19:50.975Z"
   },
   {
    "duration": 195,
    "start_time": "2022-12-11T22:20:47.463Z"
   },
   {
    "duration": 178,
    "start_time": "2022-12-11T22:20:58.534Z"
   },
   {
    "duration": 124,
    "start_time": "2022-12-11T22:21:14.783Z"
   },
   {
    "duration": 25,
    "start_time": "2022-12-11T22:24:43.508Z"
   },
   {
    "duration": 29,
    "start_time": "2022-12-11T22:25:06.965Z"
   },
   {
    "duration": 161,
    "start_time": "2022-12-11T22:25:21.653Z"
   },
   {
    "duration": 178,
    "start_time": "2022-12-11T22:26:36.709Z"
   },
   {
    "duration": 130,
    "start_time": "2022-12-11T22:26:44.537Z"
   },
   {
    "duration": 154,
    "start_time": "2022-12-11T22:28:48.345Z"
   },
   {
    "duration": 175,
    "start_time": "2022-12-11T22:29:07.690Z"
   },
   {
    "duration": 1991,
    "start_time": "2022-12-11T22:29:21.563Z"
   },
   {
    "duration": 170,
    "start_time": "2022-12-11T22:29:52.110Z"
   },
   {
    "duration": 174,
    "start_time": "2022-12-11T22:30:34.967Z"
   },
   {
    "duration": 288,
    "start_time": "2022-12-11T22:30:58.328Z"
   },
   {
    "duration": 145,
    "start_time": "2022-12-11T22:31:30.977Z"
   },
   {
    "duration": 164,
    "start_time": "2022-12-11T22:32:19.752Z"
   },
   {
    "duration": 140,
    "start_time": "2022-12-11T22:33:41.942Z"
   },
   {
    "duration": 183,
    "start_time": "2022-12-11T22:33:45.837Z"
   },
   {
    "duration": 153,
    "start_time": "2022-12-11T23:25:25.382Z"
   },
   {
    "duration": 142,
    "start_time": "2022-12-11T23:31:35.676Z"
   },
   {
    "duration": 133,
    "start_time": "2022-12-11T23:32:00.418Z"
   },
   {
    "duration": 21,
    "start_time": "2022-12-11T23:32:43.310Z"
   },
   {
    "duration": 22,
    "start_time": "2022-12-11T23:32:47.308Z"
   },
   {
    "duration": 154,
    "start_time": "2022-12-11T23:33:03.014Z"
   },
   {
    "duration": 48,
    "start_time": "2022-12-11T23:33:56.609Z"
   },
   {
    "duration": 140,
    "start_time": "2022-12-11T23:34:14.433Z"
   },
   {
    "duration": 172,
    "start_time": "2022-12-11T23:34:31.313Z"
   },
   {
    "duration": 185,
    "start_time": "2022-12-11T23:35:06.088Z"
   },
   {
    "duration": 144,
    "start_time": "2022-12-11T23:39:31.247Z"
   },
   {
    "duration": 162,
    "start_time": "2022-12-11T23:39:58.661Z"
   },
   {
    "duration": 153,
    "start_time": "2022-12-11T23:42:11.629Z"
   },
   {
    "duration": 294,
    "start_time": "2022-12-11T23:44:32.425Z"
   },
   {
    "duration": 5,
    "start_time": "2022-12-11T23:48:17.758Z"
   },
   {
    "duration": 6,
    "start_time": "2022-12-11T23:48:27.230Z"
   },
   {
    "duration": 17,
    "start_time": "2022-12-11T23:49:12.583Z"
   },
   {
    "duration": 12,
    "start_time": "2022-12-11T23:49:25.462Z"
   },
   {
    "duration": 12,
    "start_time": "2022-12-11T23:50:37.885Z"
   },
   {
    "duration": 11,
    "start_time": "2022-12-11T23:50:55.461Z"
   },
   {
    "duration": 8,
    "start_time": "2022-12-11T23:52:07.245Z"
   },
   {
    "duration": 10,
    "start_time": "2022-12-11T23:52:39.883Z"
   },
   {
    "duration": 11,
    "start_time": "2022-12-11T23:53:03.213Z"
   },
   {
    "duration": 46,
    "start_time": "2022-12-11T23:54:10.813Z"
   },
   {
    "duration": 9,
    "start_time": "2022-12-11T23:54:21.651Z"
   },
   {
    "duration": 10,
    "start_time": "2022-12-11T23:54:36.723Z"
   },
   {
    "duration": 9,
    "start_time": "2022-12-11T23:54:48.180Z"
   },
   {
    "duration": 11,
    "start_time": "2022-12-11T23:55:13.309Z"
   },
   {
    "duration": 9,
    "start_time": "2022-12-11T23:57:08.834Z"
   },
   {
    "duration": 8,
    "start_time": "2022-12-11T23:57:13.664Z"
   },
   {
    "duration": 26,
    "start_time": "2022-12-11T23:57:50.265Z"
   },
   {
    "duration": 23,
    "start_time": "2022-12-11T23:59:32.273Z"
   },
   {
    "duration": 25,
    "start_time": "2022-12-12T00:00:03.327Z"
   },
   {
    "duration": 31,
    "start_time": "2022-12-12T00:00:20.694Z"
   },
   {
    "duration": 30,
    "start_time": "2022-12-12T00:02:55.764Z"
   },
   {
    "duration": 26,
    "start_time": "2022-12-12T00:03:13.533Z"
   },
   {
    "duration": 38,
    "start_time": "2022-12-12T00:04:06.068Z"
   },
   {
    "duration": 34,
    "start_time": "2022-12-12T00:04:51.594Z"
   },
   {
    "duration": 12,
    "start_time": "2022-12-14T01:29:20.492Z"
   },
   {
    "duration": 3,
    "start_time": "2022-12-14T01:29:40.656Z"
   },
   {
    "duration": 41,
    "start_time": "2022-12-14T01:30:53.400Z"
   },
   {
    "duration": 6,
    "start_time": "2022-12-14T01:31:04.880Z"
   },
   {
    "duration": 1625,
    "start_time": "2022-12-14T01:31:23.215Z"
   },
   {
    "duration": 18,
    "start_time": "2022-12-14T01:31:24.842Z"
   },
   {
    "duration": 15,
    "start_time": "2022-12-14T01:31:24.861Z"
   },
   {
    "duration": 9,
    "start_time": "2022-12-14T01:31:24.878Z"
   },
   {
    "duration": 43,
    "start_time": "2022-12-14T01:31:24.889Z"
   },
   {
    "duration": 4,
    "start_time": "2022-12-14T01:31:24.933Z"
   },
   {
    "duration": 12,
    "start_time": "2022-12-14T01:31:24.938Z"
   },
   {
    "duration": 7,
    "start_time": "2022-12-14T01:31:24.952Z"
   },
   {
    "duration": 6,
    "start_time": "2022-12-14T01:31:24.961Z"
   },
   {
    "duration": 4,
    "start_time": "2022-12-14T01:31:24.968Z"
   },
   {
    "duration": 51,
    "start_time": "2022-12-14T01:31:24.974Z"
   },
   {
    "duration": 9,
    "start_time": "2022-12-14T01:31:25.027Z"
   },
   {
    "duration": 4,
    "start_time": "2022-12-14T01:31:25.037Z"
   },
   {
    "duration": 12,
    "start_time": "2022-12-14T01:31:25.044Z"
   },
   {
    "duration": 18,
    "start_time": "2022-12-14T01:31:25.057Z"
   },
   {
    "duration": 41,
    "start_time": "2022-12-14T01:31:25.076Z"
   },
   {
    "duration": 4,
    "start_time": "2022-12-14T01:31:25.119Z"
   },
   {
    "duration": 13,
    "start_time": "2022-12-14T01:31:25.124Z"
   },
   {
    "duration": 8,
    "start_time": "2022-12-14T01:31:25.138Z"
   },
   {
    "duration": 4,
    "start_time": "2022-12-14T01:31:25.148Z"
   },
   {
    "duration": 11,
    "start_time": "2022-12-14T01:31:25.154Z"
   },
   {
    "duration": 169,
    "start_time": "2022-12-14T01:31:25.166Z"
   },
   {
    "duration": 132,
    "start_time": "2022-12-14T01:31:25.337Z"
   },
   {
    "duration": 6,
    "start_time": "2022-12-14T01:31:27.767Z"
   },
   {
    "duration": 21,
    "start_time": "2022-12-14T01:31:50.424Z"
   },
   {
    "duration": 10,
    "start_time": "2022-12-14T01:32:01.167Z"
   },
   {
    "duration": 12,
    "start_time": "2022-12-14T01:33:15.983Z"
   },
   {
    "duration": 10,
    "start_time": "2022-12-14T01:34:23.590Z"
   },
   {
    "duration": 12,
    "start_time": "2022-12-14T01:34:26.268Z"
   },
   {
    "duration": 14,
    "start_time": "2022-12-14T01:34:42.548Z"
   },
   {
    "duration": 21,
    "start_time": "2022-12-14T01:37:02.356Z"
   },
   {
    "duration": 17,
    "start_time": "2022-12-14T01:37:27.932Z"
   },
   {
    "duration": 17,
    "start_time": "2022-12-14T01:38:44.435Z"
   },
   {
    "duration": 21,
    "start_time": "2022-12-14T01:39:05.506Z"
   },
   {
    "duration": 20,
    "start_time": "2022-12-14T01:39:27.241Z"
   },
   {
    "duration": 18,
    "start_time": "2022-12-14T01:43:23.192Z"
   },
   {
    "duration": 68,
    "start_time": "2022-12-14T01:49:55.153Z"
   },
   {
    "duration": 49,
    "start_time": "2022-12-14T01:50:50.426Z"
   },
   {
    "duration": 149,
    "start_time": "2022-12-14T01:51:00.769Z"
   },
   {
    "duration": 19,
    "start_time": "2022-12-14T01:51:11.034Z"
   },
   {
    "duration": 3,
    "start_time": "2022-12-14T01:52:49.577Z"
   },
   {
    "duration": 14,
    "start_time": "2022-12-14T01:57:18.461Z"
   },
   {
    "duration": 32,
    "start_time": "2022-12-14T01:57:39.196Z"
   },
   {
    "duration": 16,
    "start_time": "2022-12-14T01:58:09.972Z"
   },
   {
    "duration": 18,
    "start_time": "2022-12-14T01:59:20.292Z"
   },
   {
    "duration": 20,
    "start_time": "2022-12-14T02:19:04.111Z"
   },
   {
    "duration": 20,
    "start_time": "2022-12-14T02:23:32.755Z"
   },
   {
    "duration": 22,
    "start_time": "2022-12-14T02:31:26.734Z"
   },
   {
    "duration": 24,
    "start_time": "2022-12-14T02:34:15.965Z"
   },
   {
    "duration": 25,
    "start_time": "2022-12-14T02:34:55.795Z"
   },
   {
    "duration": 153,
    "start_time": "2022-12-14T02:56:55.940Z"
   },
   {
    "duration": 148,
    "start_time": "2022-12-14T02:57:34.423Z"
   },
   {
    "duration": 167,
    "start_time": "2022-12-14T02:57:41.839Z"
   },
   {
    "duration": 155,
    "start_time": "2022-12-14T02:58:30.854Z"
   },
   {
    "duration": 194,
    "start_time": "2022-12-14T02:59:42.805Z"
   },
   {
    "duration": 185,
    "start_time": "2022-12-14T03:01:24.099Z"
   },
   {
    "duration": 149,
    "start_time": "2022-12-14T03:01:45.044Z"
   },
   {
    "duration": 35,
    "start_time": "2022-12-14T03:02:17.600Z"
   },
   {
    "duration": 44,
    "start_time": "2022-12-14T03:03:28.364Z"
   },
   {
    "duration": 59,
    "start_time": "2022-12-14T03:04:12.793Z"
   },
   {
    "duration": 49,
    "start_time": "2022-12-14T03:04:22.129Z"
   },
   {
    "duration": 37,
    "start_time": "2022-12-14T03:04:34.970Z"
   },
   {
    "duration": 35,
    "start_time": "2022-12-14T03:04:46.824Z"
   },
   {
    "duration": 22,
    "start_time": "2022-12-14T03:06:17.600Z"
   },
   {
    "duration": 30,
    "start_time": "2022-12-14T03:11:23.661Z"
   },
   {
    "duration": 36,
    "start_time": "2022-12-14T03:12:03.307Z"
   },
   {
    "duration": 22,
    "start_time": "2022-12-14T03:21:51.468Z"
   },
   {
    "duration": 118,
    "start_time": "2022-12-14T03:22:27.260Z"
   },
   {
    "duration": 112,
    "start_time": "2022-12-14T03:22:43.229Z"
   },
   {
    "duration": 17,
    "start_time": "2022-12-14T03:23:06.381Z"
   },
   {
    "duration": 118,
    "start_time": "2022-12-14T03:23:21.475Z"
   },
   {
    "duration": 121,
    "start_time": "2022-12-14T03:25:24.209Z"
   },
   {
    "duration": 125,
    "start_time": "2022-12-14T03:26:51.217Z"
   },
   {
    "duration": 105,
    "start_time": "2022-12-14T03:27:43.632Z"
   },
   {
    "duration": 128,
    "start_time": "2022-12-14T03:28:12.513Z"
   },
   {
    "duration": 126,
    "start_time": "2022-12-14T03:36:02.316Z"
   },
   {
    "duration": 129,
    "start_time": "2022-12-14T03:36:18.035Z"
   },
   {
    "duration": 11,
    "start_time": "2022-12-14T03:38:32.746Z"
   },
   {
    "duration": 122,
    "start_time": "2022-12-14T03:39:23.074Z"
   },
   {
    "duration": 290,
    "start_time": "2022-12-14T03:40:21.673Z"
   },
   {
    "duration": 383,
    "start_time": "2022-12-14T03:40:37.512Z"
   },
   {
    "duration": 308,
    "start_time": "2022-12-14T03:40:57.561Z"
   },
   {
    "duration": 124,
    "start_time": "2022-12-14T03:41:18.601Z"
   },
   {
    "duration": 9,
    "start_time": "2022-12-14T03:44:53.132Z"
   },
   {
    "duration": 18,
    "start_time": "2022-12-14T03:46:27.372Z"
   },
   {
    "duration": 13,
    "start_time": "2022-12-14T03:46:51.053Z"
   },
   {
    "duration": 167,
    "start_time": "2022-12-14T03:47:00.205Z"
   },
   {
    "duration": 129,
    "start_time": "2022-12-14T03:47:12.645Z"
   },
   {
    "duration": 140,
    "start_time": "2022-12-14T03:47:20.627Z"
   },
   {
    "duration": 140,
    "start_time": "2022-12-14T03:47:30.309Z"
   },
   {
    "duration": 143,
    "start_time": "2022-12-14T03:47:37.588Z"
   },
   {
    "duration": 139,
    "start_time": "2022-12-14T03:47:51.412Z"
   },
   {
    "duration": 132,
    "start_time": "2022-12-14T03:48:08.636Z"
   },
   {
    "duration": 138,
    "start_time": "2022-12-14T03:48:19.867Z"
   },
   {
    "duration": 135,
    "start_time": "2022-12-14T03:48:28.980Z"
   },
   {
    "duration": 153,
    "start_time": "2022-12-14T03:49:52.775Z"
   },
   {
    "duration": 234,
    "start_time": "2022-12-14T03:50:28.945Z"
   },
   {
    "duration": 146,
    "start_time": "2022-12-14T03:52:53.490Z"
   },
   {
    "duration": 21,
    "start_time": "2022-12-14T03:55:43.255Z"
   },
   {
    "duration": 146,
    "start_time": "2022-12-14T03:55:47.208Z"
   },
   {
    "duration": 143,
    "start_time": "2022-12-14T03:57:39.912Z"
   },
   {
    "duration": 24,
    "start_time": "2022-12-14T04:00:28.579Z"
   },
   {
    "duration": 19,
    "start_time": "2022-12-14T04:00:31.811Z"
   },
   {
    "duration": 134,
    "start_time": "2022-12-14T04:01:04.564Z"
   },
   {
    "duration": 174,
    "start_time": "2022-12-14T04:09:56.767Z"
   },
   {
    "duration": 125,
    "start_time": "2022-12-14T04:14:24.115Z"
   },
   {
    "duration": 120,
    "start_time": "2022-12-14T04:14:37.417Z"
   },
   {
    "duration": 134,
    "start_time": "2022-12-14T04:14:53.770Z"
   },
   {
    "duration": 138,
    "start_time": "2022-12-14T04:15:02.234Z"
   },
   {
    "duration": 135,
    "start_time": "2022-12-14T04:15:07.570Z"
   },
   {
    "duration": 133,
    "start_time": "2022-12-14T04:15:33.691Z"
   },
   {
    "duration": 174,
    "start_time": "2022-12-14T04:16:46.186Z"
   },
   {
    "duration": 128,
    "start_time": "2022-12-14T04:18:23.698Z"
   },
   {
    "duration": 120,
    "start_time": "2022-12-14T04:18:33.728Z"
   },
   {
    "duration": 113,
    "start_time": "2022-12-14T04:18:45.728Z"
   },
   {
    "duration": 120,
    "start_time": "2022-12-14T04:18:50.376Z"
   },
   {
    "duration": 109,
    "start_time": "2022-12-14T04:19:41.095Z"
   },
   {
    "duration": 120,
    "start_time": "2022-12-14T04:20:26.832Z"
   },
   {
    "duration": 242,
    "start_time": "2022-12-14T04:21:00.335Z"
   },
   {
    "duration": 136,
    "start_time": "2022-12-14T04:21:25.174Z"
   },
   {
    "duration": 120,
    "start_time": "2022-12-14T04:21:28.853Z"
   },
   {
    "duration": 118,
    "start_time": "2022-12-14T04:21:32.102Z"
   },
   {
    "duration": 132,
    "start_time": "2022-12-14T04:22:56.638Z"
   },
   {
    "duration": 9,
    "start_time": "2022-12-14T04:23:56.476Z"
   },
   {
    "duration": 74,
    "start_time": "2022-12-14T04:24:22.517Z"
   },
   {
    "duration": 74,
    "start_time": "2022-12-14T04:24:38.723Z"
   },
   {
    "duration": 15,
    "start_time": "2022-12-14T04:24:38.799Z"
   },
   {
    "duration": 15,
    "start_time": "2022-12-14T04:24:38.816Z"
   },
   {
    "duration": 11,
    "start_time": "2022-12-14T04:24:38.834Z"
   },
   {
    "duration": 34,
    "start_time": "2022-12-14T04:24:38.847Z"
   },
   {
    "duration": 4,
    "start_time": "2022-12-14T04:24:38.883Z"
   },
   {
    "duration": 31,
    "start_time": "2022-12-14T04:24:38.889Z"
   },
   {
    "duration": 4,
    "start_time": "2022-12-14T04:24:38.922Z"
   },
   {
    "duration": 6,
    "start_time": "2022-12-14T04:24:38.927Z"
   },
   {
    "duration": 4,
    "start_time": "2022-12-14T04:24:38.935Z"
   },
   {
    "duration": 33,
    "start_time": "2022-12-14T04:24:38.941Z"
   },
   {
    "duration": 9,
    "start_time": "2022-12-14T04:24:38.976Z"
   },
   {
    "duration": 29,
    "start_time": "2022-12-14T04:24:38.987Z"
   },
   {
    "duration": 17,
    "start_time": "2022-12-14T04:24:39.018Z"
   },
   {
    "duration": 17,
    "start_time": "2022-12-14T04:24:39.037Z"
   },
   {
    "duration": 16,
    "start_time": "2022-12-14T04:24:39.056Z"
   },
   {
    "duration": 3,
    "start_time": "2022-12-14T04:24:39.074Z"
   },
   {
    "duration": 17,
    "start_time": "2022-12-14T04:24:39.078Z"
   },
   {
    "duration": 5,
    "start_time": "2022-12-14T04:24:39.116Z"
   },
   {
    "duration": 5,
    "start_time": "2022-12-14T04:24:39.123Z"
   },
   {
    "duration": 12,
    "start_time": "2022-12-14T04:24:39.129Z"
   },
   {
    "duration": 30,
    "start_time": "2022-12-14T04:24:39.142Z"
   },
   {
    "duration": 13,
    "start_time": "2022-12-14T04:24:45.123Z"
   },
   {
    "duration": 151,
    "start_time": "2022-12-14T04:25:10.284Z"
   },
   {
    "duration": 1202,
    "start_time": "2022-12-14T04:25:40.920Z"
   },
   {
    "duration": 24,
    "start_time": "2022-12-14T04:25:42.124Z"
   },
   {
    "duration": 18,
    "start_time": "2022-12-14T04:25:42.149Z"
   },
   {
    "duration": 9,
    "start_time": "2022-12-14T04:25:42.169Z"
   },
   {
    "duration": 59,
    "start_time": "2022-12-14T04:25:42.180Z"
   },
   {
    "duration": 4,
    "start_time": "2022-12-14T04:25:42.241Z"
   },
   {
    "duration": 14,
    "start_time": "2022-12-14T04:25:42.246Z"
   },
   {
    "duration": 4,
    "start_time": "2022-12-14T04:25:42.262Z"
   },
   {
    "duration": 7,
    "start_time": "2022-12-14T04:25:42.268Z"
   },
   {
    "duration": 12,
    "start_time": "2022-12-14T04:25:42.277Z"
   },
   {
    "duration": 48,
    "start_time": "2022-12-14T04:25:42.290Z"
   },
   {
    "duration": 9,
    "start_time": "2022-12-14T04:25:42.340Z"
   },
   {
    "duration": 4,
    "start_time": "2022-12-14T04:25:42.351Z"
   },
   {
    "duration": 13,
    "start_time": "2022-12-14T04:25:42.357Z"
   },
   {
    "duration": 28,
    "start_time": "2022-12-14T04:25:42.371Z"
   },
   {
    "duration": 25,
    "start_time": "2022-12-14T04:25:42.400Z"
   },
   {
    "duration": 4,
    "start_time": "2022-12-14T04:25:42.427Z"
   },
   {
    "duration": 13,
    "start_time": "2022-12-14T04:25:42.433Z"
   },
   {
    "duration": 15,
    "start_time": "2022-12-14T04:25:42.448Z"
   },
   {
    "duration": 3,
    "start_time": "2022-12-14T04:25:42.465Z"
   },
   {
    "duration": 19,
    "start_time": "2022-12-14T04:25:42.470Z"
   },
   {
    "duration": 45,
    "start_time": "2022-12-14T04:25:42.491Z"
   },
   {
    "duration": 153,
    "start_time": "2022-12-14T04:25:46.730Z"
   },
   {
    "duration": 24,
    "start_time": "2022-12-14T04:26:48.164Z"
   },
   {
    "duration": 134,
    "start_time": "2022-12-14T04:26:51.233Z"
   },
   {
    "duration": 1190,
    "start_time": "2022-12-14T04:27:18.245Z"
   },
   {
    "duration": 24,
    "start_time": "2022-12-14T04:27:19.437Z"
   },
   {
    "duration": 21,
    "start_time": "2022-12-14T04:27:19.463Z"
   },
   {
    "duration": 13,
    "start_time": "2022-12-14T04:27:19.486Z"
   },
   {
    "duration": 37,
    "start_time": "2022-12-14T04:27:19.501Z"
   },
   {
    "duration": 3,
    "start_time": "2022-12-14T04:27:19.540Z"
   },
   {
    "duration": 11,
    "start_time": "2022-12-14T04:27:19.545Z"
   },
   {
    "duration": 4,
    "start_time": "2022-12-14T04:27:19.557Z"
   },
   {
    "duration": 9,
    "start_time": "2022-12-14T04:27:19.563Z"
   },
   {
    "duration": 6,
    "start_time": "2022-12-14T04:27:19.574Z"
   },
   {
    "duration": 70,
    "start_time": "2022-12-14T04:27:19.582Z"
   },
   {
    "duration": 10,
    "start_time": "2022-12-14T04:27:19.654Z"
   },
   {
    "duration": 6,
    "start_time": "2022-12-14T04:27:19.666Z"
   },
   {
    "duration": 12,
    "start_time": "2022-12-14T04:27:19.675Z"
   },
   {
    "duration": 43,
    "start_time": "2022-12-14T04:27:19.688Z"
   },
   {
    "duration": 17,
    "start_time": "2022-12-14T04:27:19.733Z"
   },
   {
    "duration": 4,
    "start_time": "2022-12-14T04:27:19.751Z"
   },
   {
    "duration": 15,
    "start_time": "2022-12-14T04:27:19.757Z"
   },
   {
    "duration": 7,
    "start_time": "2022-12-14T04:27:19.773Z"
   },
   {
    "duration": 3,
    "start_time": "2022-12-14T04:27:19.782Z"
   },
   {
    "duration": 34,
    "start_time": "2022-12-14T04:27:19.787Z"
   },
   {
    "duration": 28,
    "start_time": "2022-12-14T04:27:19.823Z"
   },
   {
    "duration": 147,
    "start_time": "2022-12-14T04:27:19.853Z"
   },
   {
    "duration": 32,
    "start_time": "2022-12-14T04:27:20.001Z"
   },
   {
    "duration": 138,
    "start_time": "2022-12-14T04:27:20.035Z"
   },
   {
    "duration": 21,
    "start_time": "2022-12-14T04:27:20.175Z"
   },
   {
    "duration": 228,
    "start_time": "2022-12-14T04:34:10.398Z"
   },
   {
    "duration": 133,
    "start_time": "2022-12-14T04:34:23.206Z"
   },
   {
    "duration": 144,
    "start_time": "2022-12-14T04:36:58.108Z"
   },
   {
    "duration": 130,
    "start_time": "2022-12-14T04:37:50.883Z"
   },
   {
    "duration": 137,
    "start_time": "2022-12-14T04:38:16.101Z"
   },
   {
    "duration": 131,
    "start_time": "2022-12-14T04:38:38.684Z"
   },
   {
    "duration": 117,
    "start_time": "2022-12-14T04:39:01.700Z"
   },
   {
    "duration": 190,
    "start_time": "2022-12-14T04:39:33.245Z"
   },
   {
    "duration": 144,
    "start_time": "2022-12-14T04:44:02.904Z"
   },
   {
    "duration": 162,
    "start_time": "2022-12-14T04:44:18.312Z"
   },
   {
    "duration": 146,
    "start_time": "2022-12-14T04:44:23.904Z"
   },
   {
    "duration": 145,
    "start_time": "2022-12-14T04:44:34.633Z"
   },
   {
    "duration": 144,
    "start_time": "2022-12-14T04:44:46.366Z"
   },
   {
    "duration": 140,
    "start_time": "2022-12-14T04:44:54.105Z"
   },
   {
    "duration": 153,
    "start_time": "2022-12-14T04:45:41.598Z"
   },
   {
    "duration": 171,
    "start_time": "2022-12-14T04:45:48.509Z"
   },
   {
    "duration": 175,
    "start_time": "2022-12-14T04:46:12.438Z"
   },
   {
    "duration": 114,
    "start_time": "2022-12-14T04:52:41.434Z"
   },
   {
    "duration": 160,
    "start_time": "2022-12-14T04:52:54.738Z"
   },
   {
    "duration": 228,
    "start_time": "2022-12-14T04:54:22.008Z"
   },
   {
    "duration": 131,
    "start_time": "2022-12-14T04:54:43.353Z"
   },
   {
    "duration": 141,
    "start_time": "2022-12-14T06:14:41.588Z"
   },
   {
    "duration": 128,
    "start_time": "2022-12-14T06:17:15.131Z"
   },
   {
    "duration": 140,
    "start_time": "2022-12-14T06:24:54.710Z"
   },
   {
    "duration": 143,
    "start_time": "2022-12-14T06:25:22.534Z"
   },
   {
    "duration": 166,
    "start_time": "2022-12-14T06:26:02.294Z"
   },
   {
    "duration": 156,
    "start_time": "2022-12-14T06:26:30.828Z"
   },
   {
    "duration": 160,
    "start_time": "2022-12-14T06:26:58.300Z"
   },
   {
    "duration": 153,
    "start_time": "2022-12-14T06:27:24.402Z"
   },
   {
    "duration": 156,
    "start_time": "2022-12-14T06:27:27.707Z"
   },
   {
    "duration": 141,
    "start_time": "2022-12-14T06:28:06.036Z"
   },
   {
    "duration": 20,
    "start_time": "2022-12-14T06:31:33.466Z"
   },
   {
    "duration": 106,
    "start_time": "2022-12-14T06:31:38.464Z"
   },
   {
    "duration": 213,
    "start_time": "2022-12-14T06:31:41.744Z"
   },
   {
    "duration": 33,
    "start_time": "2022-12-14T06:31:46.353Z"
   },
   {
    "duration": 126,
    "start_time": "2022-12-14T06:31:49.185Z"
   },
   {
    "duration": 118,
    "start_time": "2022-12-14T06:31:52.392Z"
   },
   {
    "duration": 21,
    "start_time": "2022-12-14T20:50:52.568Z"
   },
   {
    "duration": 50,
    "start_time": "2022-12-15T11:29:12.958Z"
   },
   {
    "duration": 1683,
    "start_time": "2022-12-15T11:29:19.088Z"
   },
   {
    "duration": 23,
    "start_time": "2022-12-15T11:29:20.773Z"
   },
   {
    "duration": 16,
    "start_time": "2022-12-15T11:29:20.797Z"
   },
   {
    "duration": 11,
    "start_time": "2022-12-15T11:29:20.814Z"
   },
   {
    "duration": 43,
    "start_time": "2022-12-15T11:29:20.827Z"
   },
   {
    "duration": 3,
    "start_time": "2022-12-15T11:29:20.872Z"
   },
   {
    "duration": 10,
    "start_time": "2022-12-15T11:29:20.876Z"
   },
   {
    "duration": 4,
    "start_time": "2022-12-15T11:29:20.887Z"
   },
   {
    "duration": 8,
    "start_time": "2022-12-15T11:29:20.893Z"
   },
   {
    "duration": 14,
    "start_time": "2022-12-15T11:29:20.903Z"
   },
   {
    "duration": 37,
    "start_time": "2022-12-15T11:29:20.918Z"
   },
   {
    "duration": 11,
    "start_time": "2022-12-15T11:29:20.956Z"
   },
   {
    "duration": 5,
    "start_time": "2022-12-15T11:29:20.968Z"
   },
   {
    "duration": 14,
    "start_time": "2022-12-15T11:29:20.975Z"
   },
   {
    "duration": 41,
    "start_time": "2022-12-15T11:29:20.991Z"
   },
   {
    "duration": 16,
    "start_time": "2022-12-15T11:29:21.034Z"
   },
   {
    "duration": 3,
    "start_time": "2022-12-15T11:29:21.051Z"
   },
   {
    "duration": 14,
    "start_time": "2022-12-15T11:29:21.056Z"
   },
   {
    "duration": 6,
    "start_time": "2022-12-15T11:29:21.071Z"
   },
   {
    "duration": 4,
    "start_time": "2022-12-15T11:29:21.078Z"
   },
   {
    "duration": 9,
    "start_time": "2022-12-15T11:29:21.116Z"
   },
   {
    "duration": 17,
    "start_time": "2022-12-15T11:29:23.729Z"
   },
   {
    "duration": 62,
    "start_time": "2022-12-15T11:42:37.624Z"
   },
   {
    "duration": 80,
    "start_time": "2022-12-15T11:42:50.910Z"
   },
   {
    "duration": 15,
    "start_time": "2022-12-15T11:42:50.992Z"
   },
   {
    "duration": 30,
    "start_time": "2022-12-15T11:42:51.008Z"
   },
   {
    "duration": 13,
    "start_time": "2022-12-15T11:42:51.041Z"
   },
   {
    "duration": 45,
    "start_time": "2022-12-15T11:42:51.057Z"
   },
   {
    "duration": 4,
    "start_time": "2022-12-15T11:42:51.104Z"
   },
   {
    "duration": 20,
    "start_time": "2022-12-15T11:42:51.110Z"
   },
   {
    "duration": 7,
    "start_time": "2022-12-15T11:42:51.132Z"
   },
   {
    "duration": 6,
    "start_time": "2022-12-15T11:42:51.141Z"
   },
   {
    "duration": 7,
    "start_time": "2022-12-15T11:42:51.149Z"
   },
   {
    "duration": 38,
    "start_time": "2022-12-15T11:42:51.158Z"
   },
   {
    "duration": 24,
    "start_time": "2022-12-15T11:42:51.198Z"
   },
   {
    "duration": 6,
    "start_time": "2022-12-15T11:42:51.224Z"
   },
   {
    "duration": 12,
    "start_time": "2022-12-15T11:42:51.233Z"
   },
   {
    "duration": 32,
    "start_time": "2022-12-15T11:42:51.246Z"
   },
   {
    "duration": 39,
    "start_time": "2022-12-15T11:42:51.280Z"
   },
   {
    "duration": 4,
    "start_time": "2022-12-15T11:42:51.321Z"
   },
   {
    "duration": 13,
    "start_time": "2022-12-15T11:42:51.327Z"
   },
   {
    "duration": 6,
    "start_time": "2022-12-15T11:42:51.341Z"
   },
   {
    "duration": 3,
    "start_time": "2022-12-15T11:42:51.349Z"
   },
   {
    "duration": 28,
    "start_time": "2022-12-15T11:42:51.354Z"
   },
   {
    "duration": 19,
    "start_time": "2022-12-15T11:42:51.384Z"
   },
   {
    "duration": 177,
    "start_time": "2022-12-15T11:42:51.404Z"
   },
   {
    "duration": 133,
    "start_time": "2022-12-15T11:42:51.583Z"
   },
   {
    "duration": 24,
    "start_time": "2022-12-15T11:42:56.896Z"
   },
   {
    "duration": 138,
    "start_time": "2022-12-15T11:42:59.505Z"
   },
   {
    "duration": 138,
    "start_time": "2022-12-15T11:43:37.825Z"
   },
   {
    "duration": 21,
    "start_time": "2022-12-15T11:45:00.535Z"
   },
   {
    "duration": 131,
    "start_time": "2022-12-15T11:48:03.332Z"
   },
   {
    "duration": 138,
    "start_time": "2022-12-15T11:48:52.485Z"
   },
   {
    "duration": 124,
    "start_time": "2022-12-15T11:50:27.179Z"
   },
   {
    "duration": 10,
    "start_time": "2022-12-15T11:51:56.019Z"
   },
   {
    "duration": 25,
    "start_time": "2022-12-15T11:52:06.178Z"
   },
   {
    "duration": 108,
    "start_time": "2022-12-15T11:52:09.177Z"
   },
   {
    "duration": 115,
    "start_time": "2022-12-15T11:53:27.088Z"
   },
   {
    "duration": 200,
    "start_time": "2022-12-15T11:55:10.720Z"
   },
   {
    "duration": 125,
    "start_time": "2022-12-15T11:55:13.609Z"
   },
   {
    "duration": 22,
    "start_time": "2022-12-15T12:16:33.066Z"
   },
   {
    "duration": 136,
    "start_time": "2022-12-15T12:16:38.889Z"
   },
   {
    "duration": 127,
    "start_time": "2022-12-15T12:16:43.209Z"
   },
   {
    "duration": 1269,
    "start_time": "2022-12-15T12:48:14.580Z"
   },
   {
    "duration": 19,
    "start_time": "2022-12-15T12:48:19.611Z"
   },
   {
    "duration": 16,
    "start_time": "2022-12-15T12:48:36.364Z"
   },
   {
    "duration": 10,
    "start_time": "2022-12-15T12:48:40.588Z"
   },
   {
    "duration": 25,
    "start_time": "2022-12-15T12:48:59.052Z"
   },
   {
    "duration": 11,
    "start_time": "2022-12-15T12:50:18.308Z"
   },
   {
    "duration": 24,
    "start_time": "2022-12-15T12:50:38.204Z"
   },
   {
    "duration": 124,
    "start_time": "2022-12-15T12:50:45.243Z"
   },
   {
    "duration": 28,
    "start_time": "2022-12-15T12:51:04.674Z"
   },
   {
    "duration": 31,
    "start_time": "2022-12-15T12:51:42.422Z"
   },
   {
    "duration": 25,
    "start_time": "2022-12-15T12:52:27.778Z"
   },
   {
    "duration": 1178,
    "start_time": "2022-12-15T13:19:43.151Z"
   },
   {
    "duration": 19,
    "start_time": "2022-12-15T13:19:44.331Z"
   },
   {
    "duration": 15,
    "start_time": "2022-12-15T13:19:44.352Z"
   },
   {
    "duration": 24,
    "start_time": "2022-12-15T13:19:44.369Z"
   },
   {
    "duration": 51,
    "start_time": "2022-12-15T13:19:44.396Z"
   },
   {
    "duration": 3,
    "start_time": "2022-12-15T13:19:44.449Z"
   },
   {
    "duration": 14,
    "start_time": "2022-12-15T13:19:44.454Z"
   },
   {
    "duration": 5,
    "start_time": "2022-12-15T13:19:44.469Z"
   },
   {
    "duration": 7,
    "start_time": "2022-12-15T13:19:44.476Z"
   },
   {
    "duration": 6,
    "start_time": "2022-12-15T13:19:44.484Z"
   },
   {
    "duration": 53,
    "start_time": "2022-12-15T13:19:44.492Z"
   },
   {
    "duration": 8,
    "start_time": "2022-12-15T13:19:44.547Z"
   },
   {
    "duration": 5,
    "start_time": "2022-12-15T13:19:44.557Z"
   },
   {
    "duration": 13,
    "start_time": "2022-12-15T13:19:44.564Z"
   },
   {
    "duration": 37,
    "start_time": "2022-12-15T13:19:44.579Z"
   },
   {
    "duration": 18,
    "start_time": "2022-12-15T13:19:44.618Z"
   },
   {
    "duration": 4,
    "start_time": "2022-12-15T13:19:44.638Z"
   },
   {
    "duration": 13,
    "start_time": "2022-12-15T13:19:44.644Z"
   },
   {
    "duration": 7,
    "start_time": "2022-12-15T13:19:44.659Z"
   },
   {
    "duration": 8,
    "start_time": "2022-12-15T13:19:44.667Z"
   },
   {
    "duration": 13,
    "start_time": "2022-12-15T13:19:44.676Z"
   },
   {
    "duration": 39,
    "start_time": "2022-12-15T13:19:44.691Z"
   },
   {
    "duration": 159,
    "start_time": "2022-12-15T13:19:44.732Z"
   },
   {
    "duration": 143,
    "start_time": "2022-12-15T13:19:44.893Z"
   },
   {
    "duration": 22,
    "start_time": "2022-12-15T13:19:45.038Z"
   },
   {
    "duration": 158,
    "start_time": "2022-12-15T13:19:45.062Z"
   },
   {
    "duration": 172,
    "start_time": "2022-12-15T13:19:45.222Z"
   },
   {
    "duration": 29,
    "start_time": "2022-12-15T13:19:45.395Z"
   },
   {
    "duration": 140,
    "start_time": "2022-12-15T13:19:45.426Z"
   },
   {
    "duration": 129,
    "start_time": "2022-12-15T13:19:45.568Z"
   },
   {
    "duration": 29,
    "start_time": "2022-12-15T13:19:45.698Z"
   },
   {
    "duration": 123,
    "start_time": "2022-12-15T13:19:45.729Z"
   },
   {
    "duration": 129,
    "start_time": "2022-12-15T13:19:45.855Z"
   },
   {
    "duration": 45,
    "start_time": "2023-01-03T22:05:37.064Z"
   },
   {
    "duration": 1608,
    "start_time": "2023-01-03T22:05:59.965Z"
   },
   {
    "duration": 17,
    "start_time": "2023-01-03T22:06:01.575Z"
   },
   {
    "duration": 29,
    "start_time": "2023-01-03T22:06:01.594Z"
   },
   {
    "duration": 33,
    "start_time": "2023-01-03T22:06:01.625Z"
   },
   {
    "duration": 34,
    "start_time": "2023-01-03T22:06:01.660Z"
   },
   {
    "duration": 4,
    "start_time": "2023-01-03T22:06:01.695Z"
   },
   {
    "duration": 29,
    "start_time": "2023-01-03T22:06:01.700Z"
   },
   {
    "duration": 35,
    "start_time": "2023-01-03T22:06:01.730Z"
   },
   {
    "duration": 11,
    "start_time": "2023-01-03T22:06:01.767Z"
   },
   {
    "duration": 6,
    "start_time": "2023-01-03T22:06:01.779Z"
   },
   {
    "duration": 48,
    "start_time": "2023-01-03T22:06:01.787Z"
   },
   {
    "duration": 8,
    "start_time": "2023-01-03T22:06:01.837Z"
   },
   {
    "duration": 5,
    "start_time": "2023-01-03T22:06:01.847Z"
   },
   {
    "duration": 32,
    "start_time": "2023-01-03T22:06:01.855Z"
   },
   {
    "duration": 20,
    "start_time": "2023-01-03T22:06:01.889Z"
   },
   {
    "duration": 22,
    "start_time": "2023-01-03T22:06:01.910Z"
   },
   {
    "duration": 4,
    "start_time": "2023-01-03T22:06:01.934Z"
   },
   {
    "duration": 16,
    "start_time": "2023-01-03T22:06:01.939Z"
   },
   {
    "duration": 5,
    "start_time": "2023-01-03T22:06:01.956Z"
   },
   {
    "duration": 4,
    "start_time": "2023-01-03T22:06:01.963Z"
   },
   {
    "duration": 12,
    "start_time": "2023-01-03T22:06:01.968Z"
   },
   {
    "duration": 38,
    "start_time": "2023-01-03T22:06:01.982Z"
   },
   {
    "duration": 156,
    "start_time": "2023-01-03T22:06:02.022Z"
   },
   {
    "duration": 152,
    "start_time": "2023-01-03T22:06:02.180Z"
   },
   {
    "duration": 21,
    "start_time": "2023-01-03T22:06:02.334Z"
   },
   {
    "duration": 165,
    "start_time": "2023-01-03T22:06:02.357Z"
   },
   {
    "duration": 156,
    "start_time": "2023-01-03T22:06:02.523Z"
   },
   {
    "duration": 20,
    "start_time": "2023-01-03T22:06:02.680Z"
   },
   {
    "duration": 140,
    "start_time": "2023-01-03T22:06:02.701Z"
   },
   {
    "duration": 120,
    "start_time": "2023-01-03T22:06:02.843Z"
   },
   {
    "duration": 15,
    "start_time": "2023-01-03T22:06:07.506Z"
   },
   {
    "duration": 36,
    "start_time": "2023-01-03T22:20:50.494Z"
   },
   {
    "duration": 48,
    "start_time": "2023-01-03T22:24:05.114Z"
   },
   {
    "duration": 25,
    "start_time": "2023-01-03T22:26:12.682Z"
   },
   {
    "duration": 34,
    "start_time": "2023-01-03T22:27:58.264Z"
   },
   {
    "duration": 84,
    "start_time": "2023-01-03T22:33:37.126Z"
   },
   {
    "duration": 34,
    "start_time": "2023-01-03T22:33:48.940Z"
   },
   {
    "duration": 1216,
    "start_time": "2023-01-03T22:35:02.253Z"
   },
   {
    "duration": 696,
    "start_time": "2023-01-03T22:35:22.763Z"
   },
   {
    "duration": 1043,
    "start_time": "2023-01-03T22:35:40.876Z"
   },
   {
    "duration": 1172,
    "start_time": "2023-01-03T22:36:10.748Z"
   },
   {
    "duration": 676,
    "start_time": "2023-01-03T22:36:34.763Z"
   },
   {
    "duration": 39,
    "start_time": "2023-01-03T22:36:49.005Z"
   },
   {
    "duration": 34,
    "start_time": "2023-01-03T22:37:15.459Z"
   },
   {
    "duration": 32,
    "start_time": "2023-01-03T22:37:41.684Z"
   },
   {
    "duration": 36,
    "start_time": "2023-01-03T22:38:56.841Z"
   },
   {
    "duration": 39,
    "start_time": "2023-01-03T22:39:46.032Z"
   },
   {
    "duration": 45,
    "start_time": "2023-01-03T22:40:13.505Z"
   },
   {
    "duration": 20,
    "start_time": "2023-01-03T22:41:01.342Z"
   },
   {
    "duration": 19,
    "start_time": "2023-01-03T22:43:32.414Z"
   },
   {
    "duration": 31,
    "start_time": "2023-01-03T22:46:14.020Z"
   },
   {
    "duration": 32,
    "start_time": "2023-01-03T22:47:10.301Z"
   },
   {
    "duration": 126,
    "start_time": "2023-01-03T22:47:19.619Z"
   },
   {
    "duration": 104,
    "start_time": "2023-01-03T22:47:32.779Z"
   },
   {
    "duration": 30,
    "start_time": "2023-01-03T22:49:32.508Z"
   },
   {
    "duration": 28,
    "start_time": "2023-01-03T22:49:35.339Z"
   },
   {
    "duration": 188,
    "start_time": "2023-01-03T22:49:38.400Z"
   },
   {
    "duration": 108,
    "start_time": "2023-01-03T22:49:42.153Z"
   },
   {
    "duration": 35,
    "start_time": "2023-01-03T22:54:17.657Z"
   },
   {
    "duration": 36,
    "start_time": "2023-01-03T22:56:15.006Z"
   },
   {
    "duration": 36,
    "start_time": "2023-01-03T23:00:23.588Z"
   },
   {
    "duration": 134,
    "start_time": "2023-01-03T23:00:48.514Z"
   },
   {
    "duration": 130,
    "start_time": "2023-01-03T23:00:54.918Z"
   },
   {
    "duration": 18,
    "start_time": "2023-01-03T23:04:23.627Z"
   },
   {
    "duration": 16,
    "start_time": "2023-01-03T23:04:54.186Z"
   },
   {
    "duration": 12,
    "start_time": "2023-01-03T23:05:10.126Z"
   },
   {
    "duration": 9,
    "start_time": "2023-01-03T23:05:27.162Z"
   },
   {
    "duration": 21,
    "start_time": "2023-01-03T23:05:58.417Z"
   },
   {
    "duration": 5,
    "start_time": "2023-01-03T23:06:08.132Z"
   },
   {
    "duration": 48,
    "start_time": "2023-01-03T23:07:05.944Z"
   },
   {
    "duration": 13,
    "start_time": "2023-01-03T23:07:32.832Z"
   },
   {
    "duration": 9,
    "start_time": "2023-01-03T23:11:23.038Z"
   },
   {
    "duration": 21,
    "start_time": "2023-01-03T23:11:33.463Z"
   },
   {
    "duration": 22,
    "start_time": "2023-01-03T23:13:55.916Z"
   },
   {
    "duration": 24,
    "start_time": "2023-01-03T23:14:48.477Z"
   },
   {
    "duration": 23,
    "start_time": "2023-01-03T23:14:53.244Z"
   },
   {
    "duration": 47,
    "start_time": "2023-01-03T23:15:10.771Z"
   },
   {
    "duration": 55,
    "start_time": "2023-01-03T23:15:53.981Z"
   },
   {
    "duration": 13,
    "start_time": "2023-01-03T23:17:25.836Z"
   },
   {
    "duration": 13,
    "start_time": "2023-01-03T23:17:35.981Z"
   },
   {
    "duration": 14,
    "start_time": "2023-01-03T23:19:07.500Z"
   },
   {
    "duration": 21,
    "start_time": "2023-01-03T23:19:34.403Z"
   },
   {
    "duration": 14,
    "start_time": "2023-01-03T23:20:58.132Z"
   },
   {
    "duration": 14,
    "start_time": "2023-01-03T23:21:55.881Z"
   },
   {
    "duration": 16,
    "start_time": "2023-01-03T23:25:41.418Z"
   },
   {
    "duration": 13,
    "start_time": "2023-01-03T23:27:30.500Z"
   },
   {
    "duration": 16,
    "start_time": "2023-01-03T23:30:09.843Z"
   },
   {
    "duration": 32,
    "start_time": "2023-01-03T23:32:09.434Z"
   },
   {
    "duration": 40,
    "start_time": "2023-01-03T23:32:44.019Z"
   },
   {
    "duration": 75,
    "start_time": "2023-01-03T23:33:58.312Z"
   },
   {
    "duration": 15,
    "start_time": "2023-01-03T23:33:58.389Z"
   },
   {
    "duration": 22,
    "start_time": "2023-01-03T23:33:58.405Z"
   },
   {
    "duration": 25,
    "start_time": "2023-01-03T23:33:58.434Z"
   },
   {
    "duration": 42,
    "start_time": "2023-01-03T23:33:58.462Z"
   },
   {
    "duration": 3,
    "start_time": "2023-01-03T23:33:58.506Z"
   },
   {
    "duration": 28,
    "start_time": "2023-01-03T23:33:58.515Z"
   },
   {
    "duration": 5,
    "start_time": "2023-01-03T23:33:58.544Z"
   },
   {
    "duration": 6,
    "start_time": "2023-01-03T23:33:58.550Z"
   },
   {
    "duration": 7,
    "start_time": "2023-01-03T23:33:58.557Z"
   },
   {
    "duration": 33,
    "start_time": "2023-01-03T23:33:58.565Z"
   },
   {
    "duration": 22,
    "start_time": "2023-01-03T23:33:58.600Z"
   },
   {
    "duration": 17,
    "start_time": "2023-01-03T23:33:58.623Z"
   },
   {
    "duration": 10,
    "start_time": "2023-01-03T23:33:58.644Z"
   },
   {
    "duration": 18,
    "start_time": "2023-01-03T23:33:58.656Z"
   },
   {
    "duration": 15,
    "start_time": "2023-01-03T23:33:58.675Z"
   },
   {
    "duration": 3,
    "start_time": "2023-01-03T23:33:58.692Z"
   },
   {
    "duration": 48,
    "start_time": "2023-01-03T23:33:58.697Z"
   },
   {
    "duration": 8,
    "start_time": "2023-01-03T23:33:58.747Z"
   },
   {
    "duration": 4,
    "start_time": "2023-01-03T23:33:58.756Z"
   },
   {
    "duration": 9,
    "start_time": "2023-01-03T23:33:58.762Z"
   },
   {
    "duration": 25,
    "start_time": "2023-01-03T23:33:58.774Z"
   },
   {
    "duration": 163,
    "start_time": "2023-01-03T23:33:58.801Z"
   },
   {
    "duration": 163,
    "start_time": "2023-01-03T23:33:58.966Z"
   },
   {
    "duration": 26,
    "start_time": "2023-01-03T23:33:59.131Z"
   },
   {
    "duration": 151,
    "start_time": "2023-01-03T23:33:59.159Z"
   },
   {
    "duration": 162,
    "start_time": "2023-01-03T23:33:59.315Z"
   },
   {
    "duration": 16,
    "start_time": "2023-01-03T23:33:59.478Z"
   },
   {
    "duration": 42,
    "start_time": "2023-01-03T23:33:59.495Z"
   },
   {
    "duration": 144,
    "start_time": "2023-01-03T23:33:59.539Z"
   },
   {
    "duration": 154,
    "start_time": "2023-01-03T23:33:59.685Z"
   },
   {
    "duration": 39,
    "start_time": "2023-01-03T23:33:59.840Z"
   },
   {
    "duration": 136,
    "start_time": "2023-01-03T23:33:59.881Z"
   },
   {
    "duration": 217,
    "start_time": "2023-01-03T23:34:00.022Z"
   },
   {
    "duration": 34,
    "start_time": "2023-01-03T23:34:00.241Z"
   },
   {
    "duration": 27,
    "start_time": "2023-01-03T23:35:13.803Z"
   },
   {
    "duration": 1542,
    "start_time": "2023-01-05T09:38:09.920Z"
   },
   {
    "duration": 23,
    "start_time": "2023-01-05T09:38:11.464Z"
   },
   {
    "duration": 27,
    "start_time": "2023-01-05T09:38:11.488Z"
   },
   {
    "duration": 27,
    "start_time": "2023-01-05T09:38:11.517Z"
   },
   {
    "duration": 37,
    "start_time": "2023-01-05T09:38:11.550Z"
   },
   {
    "duration": 4,
    "start_time": "2023-01-05T09:38:11.589Z"
   },
   {
    "duration": 13,
    "start_time": "2023-01-05T09:38:11.594Z"
   },
   {
    "duration": 5,
    "start_time": "2023-01-05T09:38:11.608Z"
   },
   {
    "duration": 11,
    "start_time": "2023-01-05T09:38:11.615Z"
   },
   {
    "duration": 6,
    "start_time": "2023-01-05T09:38:11.650Z"
   },
   {
    "duration": 38,
    "start_time": "2023-01-05T09:38:11.658Z"
   },
   {
    "duration": 12,
    "start_time": "2023-01-05T09:38:11.697Z"
   },
   {
    "duration": 4,
    "start_time": "2023-01-05T09:38:11.711Z"
   },
   {
    "duration": 45,
    "start_time": "2023-01-05T09:38:11.717Z"
   },
   {
    "duration": 23,
    "start_time": "2023-01-05T09:38:11.764Z"
   },
   {
    "duration": 20,
    "start_time": "2023-01-05T09:38:11.789Z"
   },
   {
    "duration": 4,
    "start_time": "2023-01-05T09:38:11.811Z"
   },
   {
    "duration": 40,
    "start_time": "2023-01-05T09:38:11.817Z"
   },
   {
    "duration": 21,
    "start_time": "2023-01-05T09:38:11.859Z"
   },
   {
    "duration": 4,
    "start_time": "2023-01-05T09:38:11.882Z"
   },
   {
    "duration": 20,
    "start_time": "2023-01-05T09:38:11.887Z"
   },
   {
    "duration": 20,
    "start_time": "2023-01-05T09:38:11.909Z"
   },
   {
    "duration": 166,
    "start_time": "2023-01-05T09:38:11.931Z"
   },
   {
    "duration": 157,
    "start_time": "2023-01-05T09:38:12.099Z"
   },
   {
    "duration": 25,
    "start_time": "2023-01-05T09:38:12.259Z"
   },
   {
    "duration": 178,
    "start_time": "2023-01-05T09:38:12.286Z"
   },
   {
    "duration": 167,
    "start_time": "2023-01-05T09:38:12.466Z"
   },
   {
    "duration": 25,
    "start_time": "2023-01-05T09:38:12.636Z"
   },
   {
    "duration": 21,
    "start_time": "2023-01-05T09:38:12.662Z"
   },
   {
    "duration": 158,
    "start_time": "2023-01-05T09:38:12.685Z"
   },
   {
    "duration": 135,
    "start_time": "2023-01-05T09:38:12.850Z"
   },
   {
    "duration": 41,
    "start_time": "2023-01-05T09:38:12.987Z"
   },
   {
    "duration": 147,
    "start_time": "2023-01-05T09:38:13.030Z"
   },
   {
    "duration": 137,
    "start_time": "2023-01-05T09:38:13.179Z"
   },
   {
    "duration": 45,
    "start_time": "2023-01-05T09:38:13.318Z"
   }
  ],
  "colab": {
   "name": "dpp_template_part2.ipynb",
   "provenance": []
  },
  "kernelspec": {
   "display_name": "Python 3 (ipykernel)",
   "language": "python",
   "name": "python3"
  },
  "language_info": {
   "codemirror_mode": {
    "name": "ipython",
    "version": 3
   },
   "file_extension": ".py",
   "mimetype": "text/x-python",
   "name": "python",
   "nbconvert_exporter": "python",
   "pygments_lexer": "ipython3",
   "version": "3.9.13"
  },
  "toc": {
   "base_numbering": 1,
   "nav_menu": {},
   "number_sections": true,
   "sideBar": true,
   "skip_h1_title": true,
   "title_cell": "Table of Contents",
   "title_sidebar": "Contents",
   "toc_cell": false,
   "toc_position": {},
   "toc_section_display": true,
   "toc_window_display": false
  }
 },
 "nbformat": 4,
 "nbformat_minor": 5
}
