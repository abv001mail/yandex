{
 "cells": [
  {
   "cell_type": "markdown",
   "metadata": {},
   "source": [
    "# Выбор локации для скважины"
   ]
  },
  {
   "cell_type": "markdown",
   "metadata": {},
   "source": [
    "Допустим, вы работаете в нефтедобывающей компании. Нужно решить, где бурить новую скважину.\n",
    "\n",
    "Вам предоставлены пробы нефти в трёх регионах: в каждом 100 000 месторождений, где измерили качество нефти и объём её запасов. Постройте модель машинного обучения, которая поможет определить регион, где добыча принесёт наибольшую прибыль. Проанализируйте возможную прибыль и риски техникой *Bootstrap.*\n",
    "\n",
    "Шаги для выбора локации:\n",
    "\n",
    "- В избранном регионе ищут месторождения, для каждого определяют значения признаков;\n",
    "- Строят модель и оценивают объём запасов;\n",
    "- Выбирают месторождения с самым высокими оценками значений. Количество месторождений зависит от бюджета компании и стоимости разработки одной скважины;\n",
    "- Прибыль равна суммарной прибыли отобранных месторождений."
   ]
  },
  {
   "cell_type": "markdown",
   "metadata": {},
   "source": [
    "## Загрузка и подготовка данных"
   ]
  },
  {
   "cell_type": "code",
   "execution_count": 20,
   "metadata": {},
   "outputs": [],
   "source": [
    "import numpy as np\n",
    "import pandas as pd\n",
    "from sklearn.linear_model import LinearRegression\n",
    "from sklearn.metrics import mean_squared_error\n",
    "from sklearn.model_selection import train_test_split\n",
    "from sklearn.model_selection import cross_val_score\n",
    "from sklearn.preprocessing import StandardScaler\n",
    "\n",
    "pd.options.mode.chained_assignment = None"
   ]
  },
  {
   "cell_type": "code",
   "execution_count": 21,
   "metadata": {},
   "outputs": [],
   "source": [
    "df = [0] * 3\n",
    "for i in range(0,3):\n",
    "    df[i] = pd.read_csv(f'/datasets/geo_data_{i}.csv')"
   ]
  },
  {
   "cell_type": "markdown",
   "metadata": {},
   "source": [
    "По условию во всех датасетах значения столбца `id` - это уникальный идентификатор скважины.  \n",
    "Проверим, если в этом столбце есть дубликаты, удалим их."
   ]
  },
  {
   "cell_type": "code",
   "execution_count": 22,
   "metadata": {},
   "outputs": [
    {
     "name": "stdout",
     "output_type": "stream",
     "text": [
      "Дубликатов в 0 датасете - 10, всего строк 100000\n",
      "Дубликатов в 0 датасете - 0, всего строк 99990\n",
      "Дубликатов в 1 датасете - 4, всего строк 100000\n",
      "Дубликатов в 1 датасете - 0, всего строк 99996\n",
      "Дубликатов в 2 датасете - 4, всего строк 100000\n",
      "Дубликатов в 2 датасете - 0, всего строк 99996\n"
     ]
    }
   ],
   "source": [
    "for i in range(0,3):\n",
    "    print(f'Дубликатов в {i} датасете - {df[i][\"id\"].duplicated().sum()}, всего строк {df[i][\"id\"].count()}')\n",
    "    df[i].drop_duplicates(subset=['id'], inplace=True)\n",
    "    print(f'Дубликатов в {i} датасете - {df[i][\"id\"].duplicated().sum()}, всего строк {df[i][\"id\"].count()}')"
   ]
  },
  {
   "cell_type": "markdown",
   "metadata": {},
   "source": [
    "**Вывод:**  \n",
    "Данные подготовлены, дубликаты удалены.\n"
   ]
  },
  {
   "cell_type": "code",
   "execution_count": 23,
   "metadata": {},
   "outputs": [
    {
     "name": "stdout",
     "output_type": "stream",
     "text": [
      "Пропущенных значений в 0 датасете - 0\n",
      "Пропущенных значений в 1 датасете - 0\n",
      "Пропущенных значений в 2 датасете - 0\n"
     ]
    }
   ],
   "source": [
    "for i in range(0,3):\n",
    "    print(f'Пропущенных значений в {i} датасете - {df[i].isna().sum().sum()}')"
   ]
  },
  {
   "cell_type": "markdown",
   "metadata": {},
   "source": [
    "Пропущенных значений нет"
   ]
  },
  {
   "cell_type": "code",
   "execution_count": 24,
   "metadata": {},
   "outputs": [
    {
     "name": "stdout",
     "output_type": "stream",
     "text": [
      "                 f0            f1            f2       product\n",
      "count  99990.000000  99990.000000  99990.000000  99990.000000\n",
      "mean       0.500454      0.250141      2.502629     92.499684\n",
      "std        0.871844      0.504430      3.248149     44.288304\n",
      "min       -1.408605     -0.848218    -12.088328      0.000000\n",
      "25%       -0.072572     -0.200877      0.287784     56.497069\n",
      "50%        0.502405      0.250252      2.515969     91.847928\n",
      "75%        1.073626      0.700640      4.715035    128.563699\n",
      "max        2.362331      1.343769     16.003790    185.364347\n",
      "                 f0            f1            f2       product\n",
      "count  99996.000000  99996.000000  99996.000000  99996.000000\n",
      "mean       1.141209     -4.796608      2.494501     68.823916\n",
      "std        8.965815      5.119906      1.703579     45.944663\n",
      "min      -31.609576    -26.358598     -0.018144      0.000000\n",
      "25%       -6.298551     -8.267985      1.000021     26.953261\n",
      "50%        1.153055     -4.813172      2.011475     57.085625\n",
      "75%        8.620964     -1.332816      3.999904    107.813044\n",
      "max       29.421755     18.734063      5.019721    137.945408\n",
      "                 f0            f1            f2       product\n",
      "count  99996.000000  99996.000000  99996.000000  99996.000000\n",
      "mean       0.002002     -0.002159      2.495084     94.998342\n",
      "std        1.732052      1.730397      3.473482     44.749573\n",
      "min       -8.760004     -7.084020    -11.970335      0.000000\n",
      "25%       -1.162328     -1.174841      0.130269     59.450028\n",
      "50%        0.009424     -0.009661      2.484236     94.925026\n",
      "75%        1.158477      1.163523      4.858720    130.586815\n",
      "max        7.238262      7.844801     16.739402    190.029838\n"
     ]
    }
   ],
   "source": [
    "for i in range(0,3):\n",
    "        print(df[i].describe())"
   ]
  },
  {
   "cell_type": "markdown",
   "metadata": {},
   "source": [
    "Среднее значение количества сырья в 1 датасете ниже чем в остальных, и 25% скважин имеют запасы меньше 27 тыс.бар - в этом регионе запасы откровенно меньше, чем в остальных.  \n",
    "В 0 и 2 датасете 25% скважин имеют запасы более 128 тыс бар - богатые регионы.  \n",
    "**Признаки f0, f1, f2 имеют разный размер - необходимо масштабировать.**"
   ]
  },
  {
   "cell_type": "markdown",
   "metadata": {},
   "source": [
    "Проверим корреляцию между признаками и целью"
   ]
  },
  {
   "cell_type": "code",
   "execution_count": 25,
   "metadata": {},
   "outputs": [
    {
     "name": "stdout",
     "output_type": "stream",
     "text": [
      "Датасет -  0\n",
      "Корреляция между f0 и product равна 0.14350354470629628\n",
      "Корреляция между f1 и product равна -0.19235060940995077\n",
      "Корреляция между f2 и product равна 0.483630982761089\n",
      "\n",
      "Датасет -  1\n",
      "Корреляция между f0 и product равна -0.030522920755861983\n",
      "Корреляция между f1 и product равна -0.010153692790654676\n",
      "Корреляция между f2 и product равна 0.9993969736591198\n",
      "\n",
      "Датасет -  2\n",
      "Корреляция между f0 и product равна -0.001977658242440491\n",
      "Корреляция между f1 и product равна -0.0010545826382116158\n",
      "Корреляция между f2 и product равна 0.44586699434895694\n",
      "\n"
     ]
    }
   ],
   "source": [
    "for i in range(0,3):\n",
    "    print('Датасет - ', i)\n",
    "    for n in ['f0', 'f1', 'f2']:\n",
    "        print(f'Корреляция между {n} и product равна {df[i][n].corr(df[i][\"product\"])}')\n",
    "    print()"
   ]
  },
  {
   "cell_type": "markdown",
   "metadata": {},
   "source": [
    "Корреляции между признаками f0, f1 и product нет.  \n",
    "Корреляция между признаком f2 и product в датасетах 0 и 2 - есть, но слабая.  \n",
    "Корреляция между признаком f2 и product в датасете 1 - есть, очень высокая, эти величины взаимосвязанны.    \n",
    "По сути f2 в датасете 1 это product в других величинах. "
   ]
  },
  {
   "cell_type": "markdown",
   "metadata": {},
   "source": [
    "**Вывод**  \n",
    "Из данных удалены дубликаты.   \n",
    "В данных нет пропусков.  \n",
    "Установлена необходимость масштабирования.  \n",
    "Выявлена высокая корреляция одного признака с целью в одном датасете."
   ]
  },
  {
   "cell_type": "markdown",
   "metadata": {},
   "source": [
    "## Обучение и проверка модели"
   ]
  },
  {
   "cell_type": "markdown",
   "metadata": {},
   "source": [
    "Разделим выборки"
   ]
  },
  {
   "cell_type": "code",
   "execution_count": 26,
   "metadata": {},
   "outputs": [],
   "source": [
    "features_train = [0] * 3\n",
    "features_valid = [0] * 3\n",
    "target_train = [0] * 3\n",
    "target_valid = [0] * 3\n",
    "prediction_valid = [0] * 3\n",
    "\n",
    "for i in range(3):\n",
    "    features = df[i].drop(['id', 'product'], axis=1)\n",
    "    target = df[i]['product']\n",
    "    features_train[i], features_valid[i], target_train[i], target_valid[i] = \\\n",
    "        train_test_split(features, target, test_size=0.25, random_state=54321)"
   ]
  },
  {
   "cell_type": "markdown",
   "metadata": {},
   "source": [
    "Проверим размер выборок"
   ]
  },
  {
   "cell_type": "code",
   "execution_count": 27,
   "metadata": {},
   "outputs": [
    {
     "name": "stdout",
     "output_type": "stream",
     "text": [
      "(74992, 3) (74992,) (24998, 3) (24998,)\n",
      "(74997, 3) (74997,) (24999, 3) (24999,)\n",
      "(74997, 3) (74997,) (24999, 3) (24999,)\n"
     ]
    }
   ],
   "source": [
    "for i in range(3):\n",
    "    print(features_train[i].shape, target_train[i].shape, features_valid[i].shape, target_valid[i].shape)"
   ]
  },
  {
   "cell_type": "markdown",
   "metadata": {},
   "source": [
    "Масштабируем признаки"
   ]
  },
  {
   "cell_type": "code",
   "execution_count": 28,
   "metadata": {},
   "outputs": [],
   "source": [
    "numeric = ['f0', 'f1', 'f2']\n",
    "for i in range(3):\n",
    "    scaler = StandardScaler()\n",
    "    scaler.fit(features_train[i][numeric])\n",
    "    features_train[i][numeric] = scaler.transform(features_train[i][numeric])\n",
    "    features_valid[i][numeric] = scaler.transform(features_valid[i][numeric])"
   ]
  },
  {
   "cell_type": "markdown",
   "metadata": {},
   "source": [
    "Обучим модель"
   ]
  },
  {
   "cell_type": "code",
   "execution_count": 29,
   "metadata": {},
   "outputs": [],
   "source": [
    "for i in range(3):\n",
    "    model = LinearRegression()\n",
    "    model.fit(features_train[i], target_train[i])\n",
    "    prediction_valid[i] = model.predict(features_valid[i])"
   ]
  },
  {
   "cell_type": "markdown",
   "metadata": {},
   "source": [
    "Рассчитаем средний запас предсказанного сырья и RMSE модели."
   ]
  },
  {
   "cell_type": "code",
   "execution_count": 30,
   "metadata": {},
   "outputs": [
    {
     "name": "stdout",
     "output_type": "stream",
     "text": [
      "Данные по 0 региону\n",
      "Средний запас = 92.48003680900305\n",
      "RMSE = 37.640122873348126\n",
      "\n",
      "Данные по 1 региону\n",
      "Средний запас = 68.4953539574733\n",
      "RMSE = 0.8932765122005417\n",
      "\n",
      "Данные по 2 региону\n",
      "Средний запас = 94.85117513247839\n",
      "RMSE = 40.28905957282013\n",
      "\n"
     ]
    }
   ],
   "source": [
    "for i in range(3):\n",
    "    print(f'Данные по {i} региону')\n",
    "    print('Средний запас =', prediction_valid[i].mean())\n",
    "    print('RMSE =', mean_squared_error(target_valid[i], prediction_valid[i]) ** 0.5)\n",
    "    print()"
   ]
  },
  {
   "cell_type": "markdown",
   "metadata": {},
   "source": [
    "**Вывод:**  \n",
    "Согласно расчетам самые большие средние запасы имеет 2 регион.  \n",
    "В 0 и 2 регионе значение средней абсолютной ошибки достаточно велико, это значит что в данных много разных значений сильно отличающихся друг от друга.  \n",
    "В тоже время в 1 регионе ошибка очень маленькая, это значит что в данных много очень близких значений."
   ]
  },
  {
   "cell_type": "markdown",
   "metadata": {},
   "source": [
    "## Подготовка к расчёту прибыли"
   ]
  },
  {
   "cell_type": "markdown",
   "metadata": {},
   "source": [
    "Рассчитаем какой запас сырья необходим для безубыточной разработки одной скважины."
   ]
  },
  {
   "cell_type": "code",
   "execution_count": 31,
   "metadata": {},
   "outputs": [],
   "source": [
    "BUDGET = 10_000 # Бюджет на регион (на 200 скважин), в млн. руб\n",
    "REVENUE_PER = 0.45 # Доход с 1 единицы сырья, в млн. руб\n",
    "ALPHA = 0.025 # Порог вероятности\n",
    "WELL_ALL = 500 # Количество исследуемых скважин в регионе\n",
    "WELL_GOOD = 200 # Количество разрабатываемых скважин в регионе\n",
    "BUDGET_PER_WELL = BUDGET / WELL_GOOD # Бюджет на 1 скважину\n",
    "PRODUCT_PER_WELL = BUDGET_PER_WELL / REVENUE_PER # 111.11 Необходимый запас сырья на одну скважину для безубыточной разработки"
   ]
  },
  {
   "cell_type": "code",
   "execution_count": 32,
   "metadata": {},
   "outputs": [
    {
     "name": "stdout",
     "output_type": "stream",
     "text": [
      "Для безубыточной разработки скважины нужен запас сырья равный 111.11 тыс.баррелей.\n"
     ]
    }
   ],
   "source": [
    "print(f'Для безубыточной разработки скважины нужен запас сырья равный {round(PRODUCT_PER_WELL, 2)} тыс.баррелей.')"
   ]
  },
  {
   "cell_type": "markdown",
   "metadata": {},
   "source": [
    "Средние запасы по регионам"
   ]
  },
  {
   "cell_type": "code",
   "execution_count": 33,
   "metadata": {},
   "outputs": [
    {
     "name": "stdout",
     "output_type": "stream",
     "text": [
      "Данные по 0 региону\n",
      "Средний запас = 92.48003680900305\n",
      "\n",
      "Данные по 1 региону\n",
      "Средний запас = 68.4953539574733\n",
      "\n",
      "Данные по 2 региону\n",
      "Средний запас = 94.85117513247839\n",
      "\n"
     ]
    }
   ],
   "source": [
    "for i in range(3):\n",
    "    print(f'Данные по {i} региону')\n",
    "    print('Средний запас =', prediction_valid[i].mean())\n",
    "    print()"
   ]
  },
  {
   "cell_type": "markdown",
   "metadata": {},
   "source": [
    "**Вывод:**  \n",
    "Средний запас в каждом регионе меньше необходимого для безубыточной добычи. Наугад бурить скважины нельзя, будут убытки."
   ]
  },
  {
   "cell_type": "markdown",
   "metadata": {},
   "source": [
    "## Расчёт прибыли и рисков "
   ]
  },
  {
   "cell_type": "markdown",
   "metadata": {},
   "source": [
    "Отберем 200 лучших скважин по предсказаниям в каждом регионе и посчитаем реальные запасы сырья в них.  \n",
    "\n",
    "Сохраним первоначальный индекс в датасетах, что бы при необходимости можно было идентифицировать нужные скважины."
   ]
  },
  {
   "cell_type": "code",
   "execution_count": 34,
   "metadata": {},
   "outputs": [],
   "source": [
    "def revenue(top):\n",
    "    product = top.sum()\n",
    "    revenue = product * REVENUE_PER\n",
    "    profit = product * REVENUE_PER - BUDGET\n",
    "    return int(product), int(revenue), int(profit)"
   ]
  },
  {
   "cell_type": "code",
   "execution_count": 35,
   "metadata": {},
   "outputs": [
    {
     "name": "stdout",
     "output_type": "stream",
     "text": [
      "В 0 регионе:\n",
      "Запасы сырья в 200-х лучших скважин - 29522 тыс.баррелей\n",
      "Выручка в 200-х лучших скважин - 13285 млн. руб\n",
      "Прибыль в 200-х лучших скважин - 3285 млн. руб\n",
      "\n",
      "В 1 регионе:\n",
      "Запасы сырья в 200-х лучших скважин - 27589 тыс.баррелей\n",
      "Выручка в 200-х лучших скважин - 12415 млн. руб\n",
      "Прибыль в 200-х лучших скважин - 2415 млн. руб\n",
      "\n",
      "В 2 регионе:\n",
      "Запасы сырья в 200-х лучших скважин - 27863 тыс.баррелей\n",
      "Выручка в 200-х лучших скважин - 12538 млн. руб\n",
      "Прибыль в 200-х лучших скважин - 2538 млн. руб\n",
      "\n"
     ]
    }
   ],
   "source": [
    "target_df = [0] * 3\n",
    "for i in range(3):\n",
    "    target_df[i] = pd.concat([target_valid[i],\\\n",
    "                             pd.Series(prediction_valid[i], name='predict_product', index=target_valid[i].index)], axis=1)                                        \n",
    "    prod_top, revenue_top, profit_top = \\\n",
    "                            revenue(target_df[i].sort_values(by='predict_product', ascending=False)['product'][:WELL_GOOD])\n",
    "    print(f'В {i} регионе:')\n",
    "    print(f'Запасы сырья в 200-х лучших скважин - {prod_top} тыс.баррелей')\n",
    "    print(f'Выручка в 200-х лучших скважин - {revenue_top} млн. руб')\n",
    "    print(f'Прибыль в 200-х лучших скважин - {profit_top} млн. руб')\n",
    "    print()"
   ]
  },
  {
   "cell_type": "markdown",
   "metadata": {},
   "source": [
    "**Вывод:**  \n",
    "Несмотря на то, что средние запасы по каждому регионы ниже необходимых для разработки и получения прибыли, в каждом регионе можно отобрать 200 скважин, которые будут рентабельными.  \n",
    "Пока самым предпочтительным выглядит 0 регион.  "
   ]
  },
  {
   "cell_type": "markdown",
   "metadata": {},
   "source": [
    "## Риски и прибыль для каждого региона"
   ]
  },
  {
   "cell_type": "markdown",
   "metadata": {},
   "source": [
    "Найдем распределение прибыли, среднюю прибыль, 95%-й доверительный интервал и риск убытков."
   ]
  },
  {
   "cell_type": "code",
   "execution_count": 36,
   "metadata": {},
   "outputs": [
    {
     "name": "stdout",
     "output_type": "stream",
     "text": [
      "Регион 0\n",
      "Средняя прибыль равна 426.699\n",
      "95%-й доверительный интервал с -46.074999999999996 до 906.05\n",
      "Риск убытков равен 4.5 %\n",
      "\n",
      "Регион 1\n",
      "Средняя прибыль равна 407.925\n",
      "95%-й доверительный интервал с 25.900000000000006 до 808.0999999999999\n",
      "Риск убытков равен 1.9 %\n",
      "\n",
      "Регион 2\n",
      "Средняя прибыль равна 353.847\n",
      "95%-й доверительный интервал с -200.14999999999998 до 845.2249999999998\n",
      "Риск убытков равен 9.6 %\n",
      "\n"
     ]
    }
   ],
   "source": [
    "state = np.random.RandomState(12345)\n",
    "for i in range(3):\n",
    "    values = []\n",
    "    for b in range(1000):\n",
    "        top = target_df[i].sample(n=WELL_ALL, replace=True, random_state=state)\n",
    "        top = top.sort_values(by='predict_product', ascending=False)[:WELL_GOOD]\n",
    "        values.append(revenue(top['product'])[2])\n",
    "    values = pd.Series(values)\n",
    "    loss = round(values.loc[values < 0].count()/len(values)*100, 1)\n",
    "    print(f'Регион {i}')\n",
    "    print(f'Средняя прибыль равна {values.mean()}')\n",
    "    print(f'95%-й доверительный интервал с {values.quantile(0.025)} до {values.quantile(0.975)}')\n",
    "    print(f'Риск убытков равен {loss} %')\n",
    "    print()"
   ]
  },
  {
   "cell_type": "markdown",
   "metadata": {},
   "source": [
    "**Вывод**   \n",
    "    \n",
    "Для разработки скважин подходит **только** 1 регион.   \n",
    "- риск убытков 1.9%  \n",
    "- значение средней прибыли - не низкое  \n",
    "- все значения в доверительном интервале положительные  \n",
    "    \n",
    "В 0 регионе риск убытков 4.5%, во 2 регионе 9.6%. Это больше 2.5% подходящих по условию.  \n",
    "Во 2 регионе очень большие отрицательные значения в доверительном интервале, значит разработка может быть очень убыточной, и скважины сильно различаются по количеству запасов сырья.  \n",
    "0 регион богаче по запасом по сравнению со вторым, но все равно риски велики."
   ]
  },
  {
   "cell_type": "markdown",
   "metadata": {},
   "source": [
    "Во время выполнения проекта, я выполнил следующие шаги.\n",
    "- загрузил данные\n",
    "- удалил дубликаты\n",
    "- разбил на выборки\n",
    "- масштабировал признаки\n",
    "- обучил модель линейной регресси и сделал предсказания\n",
    "- посчитал средние запасы\n",
    "- из предсказаний отобрал 200 лучших для каждого региона\n",
    "- посчитал реальные запасы и прибыль в отобранных скважинах\n",
    "- сделал 1000 выборок по 500 скважин из каждого региона\n",
    "- отобрал 200 лучших из них и посчитал прибыль\n",
    "- посчитал среднее значение прибыли и доверительный 95% интервал для каждого региона\n",
    "\n"
   ]
  }
 ],
 "metadata": {
  "ExecuteTimeLog": [
   {
    "duration": 449,
    "start_time": "2023-03-21T15:10:13.141Z"
   },
   {
    "duration": 843,
    "start_time": "2023-03-21T15:10:15.502Z"
   },
   {
    "duration": 28,
    "start_time": "2023-03-21T15:10:21.131Z"
   },
   {
    "duration": 14,
    "start_time": "2023-03-21T15:10:37.542Z"
   },
   {
    "duration": 11,
    "start_time": "2023-03-21T15:11:11.493Z"
   },
   {
    "duration": 83,
    "start_time": "2023-03-21T15:11:42.338Z"
   },
   {
    "duration": 18,
    "start_time": "2023-03-21T15:11:49.435Z"
   },
   {
    "duration": 21,
    "start_time": "2023-03-21T15:12:07.999Z"
   },
   {
    "duration": 13,
    "start_time": "2023-03-21T15:12:17.881Z"
   },
   {
    "duration": 13,
    "start_time": "2023-03-21T15:12:22.044Z"
   },
   {
    "duration": 16,
    "start_time": "2023-03-21T15:12:28.542Z"
   },
   {
    "duration": 14,
    "start_time": "2023-03-21T15:12:35.294Z"
   },
   {
    "duration": 19,
    "start_time": "2023-03-21T15:13:39.499Z"
   },
   {
    "duration": 8,
    "start_time": "2023-03-21T15:14:12.948Z"
   },
   {
    "duration": 7,
    "start_time": "2023-03-21T15:14:38.778Z"
   },
   {
    "duration": 8,
    "start_time": "2023-03-21T15:14:56.970Z"
   },
   {
    "duration": 81,
    "start_time": "2023-03-21T15:15:02.906Z"
   },
   {
    "duration": 340,
    "start_time": "2023-03-21T15:15:20.968Z"
   },
   {
    "duration": 163,
    "start_time": "2023-03-21T15:15:33.075Z"
   },
   {
    "duration": 45,
    "start_time": "2023-03-21T15:15:50.293Z"
   },
   {
    "duration": 15,
    "start_time": "2023-03-21T15:28:19.916Z"
   },
   {
    "duration": 27,
    "start_time": "2023-03-21T15:28:25.235Z"
   },
   {
    "duration": 17,
    "start_time": "2023-03-21T15:28:34.272Z"
   },
   {
    "duration": 10,
    "start_time": "2023-03-21T15:29:16.538Z"
   },
   {
    "duration": 11,
    "start_time": "2023-03-21T15:29:20.303Z"
   },
   {
    "duration": 9,
    "start_time": "2023-03-21T15:29:22.785Z"
   },
   {
    "duration": 9,
    "start_time": "2023-03-21T15:29:28.274Z"
   },
   {
    "duration": 10,
    "start_time": "2023-03-21T15:29:33.791Z"
   },
   {
    "duration": 9,
    "start_time": "2023-03-21T15:29:36.881Z"
   },
   {
    "duration": 369,
    "start_time": "2023-03-21T15:30:13.096Z"
   },
   {
    "duration": 99,
    "start_time": "2023-03-21T15:30:21.776Z"
   },
   {
    "duration": 65,
    "start_time": "2023-03-21T15:30:30.541Z"
   },
   {
    "duration": 22,
    "start_time": "2023-03-21T15:30:41.274Z"
   },
   {
    "duration": 37,
    "start_time": "2023-03-21T15:30:50.450Z"
   },
   {
    "duration": 99,
    "start_time": "2023-03-21T15:33:17.776Z"
   },
   {
    "duration": 75,
    "start_time": "2023-03-21T15:33:23.273Z"
   },
   {
    "duration": 12,
    "start_time": "2023-03-21T15:33:55.582Z"
   },
   {
    "duration": 6,
    "start_time": "2023-03-21T15:34:03.664Z"
   },
   {
    "duration": 14,
    "start_time": "2023-03-21T15:34:11.449Z"
   },
   {
    "duration": 12,
    "start_time": "2023-03-21T15:34:20.429Z"
   },
   {
    "duration": 13,
    "start_time": "2023-03-21T15:34:42.781Z"
   },
   {
    "duration": 200,
    "start_time": "2023-03-21T15:35:36.542Z"
   },
   {
    "duration": 167,
    "start_time": "2023-03-21T15:36:20.471Z"
   },
   {
    "duration": 12,
    "start_time": "2023-03-21T15:36:32.666Z"
   },
   {
    "duration": 10,
    "start_time": "2023-03-21T15:36:38.837Z"
   },
   {
    "duration": 191,
    "start_time": "2023-03-21T15:37:04.981Z"
   },
   {
    "duration": 10,
    "start_time": "2023-03-21T15:37:08.053Z"
   },
   {
    "duration": 90,
    "start_time": "2023-03-21T15:37:35.981Z"
   },
   {
    "duration": 452,
    "start_time": "2023-03-21T15:37:41.087Z"
   },
   {
    "duration": 7,
    "start_time": "2023-03-21T15:37:51.437Z"
   },
   {
    "duration": 419,
    "start_time": "2023-03-21T15:38:21.978Z"
   },
   {
    "duration": 16,
    "start_time": "2023-03-21T15:38:26.523Z"
   },
   {
    "duration": 20,
    "start_time": "2023-03-21T15:41:59.898Z"
   },
   {
    "duration": 24,
    "start_time": "2023-03-21T15:42:14.542Z"
   },
   {
    "duration": 16,
    "start_time": "2023-03-21T15:42:20.584Z"
   },
   {
    "duration": 10,
    "start_time": "2023-03-21T15:42:46.047Z"
   },
   {
    "duration": 13,
    "start_time": "2023-03-21T15:42:57.448Z"
   },
   {
    "duration": 12,
    "start_time": "2023-03-21T15:45:06.777Z"
   },
   {
    "duration": 21,
    "start_time": "2023-03-21T15:45:26.607Z"
   },
   {
    "duration": 216,
    "start_time": "2023-03-21T15:46:23.339Z"
   },
   {
    "duration": 534,
    "start_time": "2023-03-21T15:46:46.479Z"
   },
   {
    "duration": 18,
    "start_time": "2023-03-21T15:46:51.479Z"
   },
   {
    "duration": 29,
    "start_time": "2023-03-21T15:47:31.934Z"
   },
   {
    "duration": 17,
    "start_time": "2023-03-21T15:47:43.185Z"
   },
   {
    "duration": 34,
    "start_time": "2023-03-21T15:47:49.627Z"
   },
   {
    "duration": 14,
    "start_time": "2023-03-21T15:47:56.258Z"
   },
   {
    "duration": 49,
    "start_time": "2023-03-21T16:27:15.085Z"
   },
   {
    "duration": 45,
    "start_time": "2023-03-21T16:27:24.898Z"
   },
   {
    "duration": 46,
    "start_time": "2023-03-21T16:27:35.478Z"
   },
   {
    "duration": 34,
    "start_time": "2023-03-21T16:27:41.062Z"
   },
   {
    "duration": 90,
    "start_time": "2023-03-21T16:28:53.897Z"
   },
   {
    "duration": 47,
    "start_time": "2023-03-21T16:29:21.901Z"
   },
   {
    "duration": 65,
    "start_time": "2023-03-21T16:32:04.808Z"
   },
   {
    "duration": 18,
    "start_time": "2023-03-21T16:32:29.982Z"
   },
   {
    "duration": 45,
    "start_time": "2023-03-21T16:32:41.446Z"
   },
   {
    "duration": 45,
    "start_time": "2023-03-21T16:33:25.253Z"
   },
   {
    "duration": 40,
    "start_time": "2023-03-21T16:34:21.705Z"
   },
   {
    "duration": 121,
    "start_time": "2023-03-21T16:34:54.936Z"
   },
   {
    "duration": 2613,
    "start_time": "2023-03-21T16:35:13.531Z"
   },
   {
    "duration": 1112,
    "start_time": "2023-03-21T16:35:56.446Z"
   },
   {
    "duration": 1114,
    "start_time": "2023-03-21T16:36:39.733Z"
   },
   {
    "duration": 415,
    "start_time": "2023-03-21T16:36:53.232Z"
   },
   {
    "duration": 133,
    "start_time": "2023-03-21T16:36:56.727Z"
   },
   {
    "duration": 121,
    "start_time": "2023-03-21T16:37:42.242Z"
   },
   {
    "duration": 1735,
    "start_time": "2023-03-21T16:38:02.747Z"
   },
   {
    "duration": 1205,
    "start_time": "2023-03-21T16:39:13.337Z"
   },
   {
    "duration": 5,
    "start_time": "2023-03-21T16:39:30.294Z"
   },
   {
    "duration": 438,
    "start_time": "2023-03-21T16:40:02.665Z"
   },
   {
    "duration": 243,
    "start_time": "2023-03-21T16:40:06.698Z"
   },
   {
    "duration": 14,
    "start_time": "2023-03-21T16:40:17.153Z"
   },
   {
    "duration": 193,
    "start_time": "2023-03-21T16:41:42.297Z"
   },
   {
    "duration": 469,
    "start_time": "2023-03-21T16:41:57.805Z"
   },
   {
    "duration": 158,
    "start_time": "2023-03-21T16:42:02.242Z"
   },
   {
    "duration": 452,
    "start_time": "2023-03-21T16:42:05.309Z"
   },
   {
    "duration": 211,
    "start_time": "2023-03-21T16:42:19.522Z"
   },
   {
    "duration": 17,
    "start_time": "2023-03-21T16:42:40.298Z"
   },
   {
    "duration": 15,
    "start_time": "2023-03-21T16:48:39.338Z"
   },
   {
    "duration": 6,
    "start_time": "2023-03-21T16:48:48.949Z"
   },
   {
    "duration": 13,
    "start_time": "2023-03-21T16:48:58.377Z"
   },
   {
    "duration": 8,
    "start_time": "2023-03-21T16:49:11.496Z"
   },
   {
    "duration": 99,
    "start_time": "2023-03-21T17:21:14.046Z"
   },
   {
    "duration": 3,
    "start_time": "2023-03-21T17:21:17.728Z"
   },
   {
    "duration": 8,
    "start_time": "2023-03-21T17:21:19.631Z"
   },
   {
    "duration": 5,
    "start_time": "2023-03-21T17:22:32.481Z"
   },
   {
    "duration": 23,
    "start_time": "2023-03-21T17:22:34.710Z"
   },
   {
    "duration": 10,
    "start_time": "2023-03-21T17:24:02.884Z"
   },
   {
    "duration": 17,
    "start_time": "2023-03-21T17:29:48.034Z"
   },
   {
    "duration": 6,
    "start_time": "2023-03-21T17:30:16.346Z"
   },
   {
    "duration": 12,
    "start_time": "2023-03-21T17:30:25.993Z"
   },
   {
    "duration": 6,
    "start_time": "2023-03-21T17:30:32.827Z"
   },
   {
    "duration": 4,
    "start_time": "2023-03-21T17:30:38.989Z"
   },
   {
    "duration": 5,
    "start_time": "2023-03-21T17:31:00.939Z"
   },
   {
    "duration": 6,
    "start_time": "2023-03-21T17:31:05.332Z"
   },
   {
    "duration": 6,
    "start_time": "2023-03-21T17:31:09.095Z"
   },
   {
    "duration": 833,
    "start_time": "2023-03-21T17:32:52.903Z"
   },
   {
    "duration": 10,
    "start_time": "2023-03-21T17:41:52.495Z"
   },
   {
    "duration": 14,
    "start_time": "2023-03-21T17:42:03.314Z"
   },
   {
    "duration": 17,
    "start_time": "2023-03-21T17:42:13.729Z"
   },
   {
    "duration": 12,
    "start_time": "2023-03-21T17:45:25.898Z"
   },
   {
    "duration": 52,
    "start_time": "2023-03-21T17:46:39.952Z"
   },
   {
    "duration": 20,
    "start_time": "2023-03-21T17:47:05.237Z"
   },
   {
    "duration": 5,
    "start_time": "2023-03-21T17:47:41.696Z"
   },
   {
    "duration": 3,
    "start_time": "2023-03-21T17:47:57.802Z"
   },
   {
    "duration": 477,
    "start_time": "2023-03-21T17:47:57.807Z"
   },
   {
    "duration": 172,
    "start_time": "2023-03-21T17:47:58.286Z"
   },
   {
    "duration": 13,
    "start_time": "2023-03-21T17:47:58.460Z"
   },
   {
    "duration": 8,
    "start_time": "2023-03-21T17:47:58.475Z"
   },
   {
    "duration": 13,
    "start_time": "2023-03-21T17:48:01.129Z"
   },
   {
    "duration": 10,
    "start_time": "2023-03-21T17:48:03.462Z"
   },
   {
    "duration": 5,
    "start_time": "2023-03-21T17:48:37.742Z"
   },
   {
    "duration": 9,
    "start_time": "2023-03-21T17:49:01.287Z"
   },
   {
    "duration": 15,
    "start_time": "2023-03-21T17:49:04.813Z"
   },
   {
    "duration": 12,
    "start_time": "2023-03-21T17:49:14.134Z"
   },
   {
    "duration": 6,
    "start_time": "2023-03-21T17:49:20.124Z"
   },
   {
    "duration": 5,
    "start_time": "2023-03-21T17:49:45.035Z"
   },
   {
    "duration": 5,
    "start_time": "2023-03-21T17:50:06.444Z"
   },
   {
    "duration": 14,
    "start_time": "2023-03-21T17:50:20.103Z"
   },
   {
    "duration": 13,
    "start_time": "2023-03-21T17:50:22.401Z"
   },
   {
    "duration": 24,
    "start_time": "2023-03-21T17:51:22.635Z"
   },
   {
    "duration": 14,
    "start_time": "2023-03-21T17:51:29.956Z"
   },
   {
    "duration": 4,
    "start_time": "2023-03-21T17:51:37.364Z"
   },
   {
    "duration": 15,
    "start_time": "2023-03-21T17:51:47.211Z"
   },
   {
    "duration": 19,
    "start_time": "2023-03-21T17:51:49.653Z"
   },
   {
    "duration": 15,
    "start_time": "2023-03-21T17:51:53.027Z"
   },
   {
    "duration": 5,
    "start_time": "2023-03-21T17:53:48.233Z"
   },
   {
    "duration": 23,
    "start_time": "2023-03-21T17:53:53.841Z"
   },
   {
    "duration": 14,
    "start_time": "2023-03-21T17:54:59.313Z"
   },
   {
    "duration": 36,
    "start_time": "2023-03-21T17:56:54.617Z"
   },
   {
    "duration": 16,
    "start_time": "2023-03-21T17:57:22.135Z"
   },
   {
    "duration": 29,
    "start_time": "2023-03-21T17:58:50.915Z"
   },
   {
    "duration": 4,
    "start_time": "2023-03-21T17:58:57.469Z"
   },
   {
    "duration": 13,
    "start_time": "2023-03-21T17:59:17.523Z"
   },
   {
    "duration": 4,
    "start_time": "2023-03-21T18:03:30.540Z"
   },
   {
    "duration": 5,
    "start_time": "2023-03-21T18:04:13.457Z"
   },
   {
    "duration": 5,
    "start_time": "2023-03-21T18:04:29.185Z"
   },
   {
    "duration": 4,
    "start_time": "2023-03-21T18:05:44.250Z"
   },
   {
    "duration": 11,
    "start_time": "2023-03-21T18:05:57.139Z"
   },
   {
    "duration": 7,
    "start_time": "2023-03-21T18:11:29.218Z"
   },
   {
    "duration": 5,
    "start_time": "2023-03-21T18:13:08.284Z"
   },
   {
    "duration": 4,
    "start_time": "2023-03-21T18:19:19.241Z"
   },
   {
    "duration": 4,
    "start_time": "2023-03-21T18:19:31.277Z"
   },
   {
    "duration": 621,
    "start_time": "2023-03-21T18:20:48.096Z"
   },
   {
    "duration": 375,
    "start_time": "2023-03-21T18:21:54.058Z"
   },
   {
    "duration": 12,
    "start_time": "2023-03-21T18:22:10.477Z"
   },
   {
    "duration": 6,
    "start_time": "2023-03-21T18:41:02.106Z"
   },
   {
    "duration": 3,
    "start_time": "2023-03-21T18:41:05.288Z"
   },
   {
    "duration": 4,
    "start_time": "2023-03-21T18:41:45.422Z"
   },
   {
    "duration": 3,
    "start_time": "2023-03-21T18:41:52.481Z"
   },
   {
    "duration": 3,
    "start_time": "2023-03-21T18:42:22.600Z"
   },
   {
    "duration": 6,
    "start_time": "2023-03-21T18:42:40.929Z"
   },
   {
    "duration": 20,
    "start_time": "2023-03-21T18:53:38.094Z"
   },
   {
    "duration": 32,
    "start_time": "2023-03-21T18:53:55.657Z"
   },
   {
    "duration": 37,
    "start_time": "2023-03-21T18:56:15.855Z"
   },
   {
    "duration": 40,
    "start_time": "2023-03-21T18:56:18.746Z"
   },
   {
    "duration": 78,
    "start_time": "2023-03-21T18:56:25.037Z"
   },
   {
    "duration": 8,
    "start_time": "2023-03-21T18:58:36.796Z"
   },
   {
    "duration": 8,
    "start_time": "2023-03-21T18:58:44.164Z"
   },
   {
    "duration": 9,
    "start_time": "2023-03-21T18:59:22.748Z"
   },
   {
    "duration": 9,
    "start_time": "2023-03-21T18:59:31.013Z"
   },
   {
    "duration": 5,
    "start_time": "2023-03-21T19:05:15.385Z"
   },
   {
    "duration": 9,
    "start_time": "2023-03-21T19:05:30.315Z"
   },
   {
    "duration": 8,
    "start_time": "2023-03-21T19:05:33.972Z"
   },
   {
    "duration": 5,
    "start_time": "2023-03-21T19:05:47.890Z"
   },
   {
    "duration": 3,
    "start_time": "2023-03-21T19:05:56.810Z"
   },
   {
    "duration": 5,
    "start_time": "2023-03-21T19:06:12.904Z"
   },
   {
    "duration": 9,
    "start_time": "2023-03-21T19:07:15.408Z"
   },
   {
    "duration": 4,
    "start_time": "2023-03-21T19:07:25.107Z"
   },
   {
    "duration": 5,
    "start_time": "2023-03-21T19:19:54.063Z"
   },
   {
    "duration": 8,
    "start_time": "2023-03-21T19:20:28.032Z"
   },
   {
    "duration": 14,
    "start_time": "2023-03-21T19:26:58.748Z"
   },
   {
    "duration": 9,
    "start_time": "2023-03-21T19:27:09.932Z"
   },
   {
    "duration": 6,
    "start_time": "2023-03-21T19:27:18.906Z"
   },
   {
    "duration": 6,
    "start_time": "2023-03-21T19:27:33.132Z"
   },
   {
    "duration": 123,
    "start_time": "2023-03-21T19:28:14.889Z"
   },
   {
    "duration": 7,
    "start_time": "2023-03-21T19:28:19.633Z"
   },
   {
    "duration": 4,
    "start_time": "2023-03-21T19:28:36.761Z"
   },
   {
    "duration": 5,
    "start_time": "2023-03-21T19:29:29.601Z"
   },
   {
    "duration": 5,
    "start_time": "2023-03-21T19:30:11.992Z"
   },
   {
    "duration": 11,
    "start_time": "2023-03-21T19:30:17.863Z"
   },
   {
    "duration": 1211,
    "start_time": "2023-03-21T19:30:35.888Z"
   },
   {
    "duration": 6,
    "start_time": "2023-03-21T19:30:51.379Z"
   },
   {
    "duration": 10,
    "start_time": "2023-03-21T19:31:42.951Z"
   },
   {
    "duration": 8,
    "start_time": "2023-03-21T19:31:47.999Z"
   },
   {
    "duration": 5,
    "start_time": "2023-03-21T19:32:11.242Z"
   },
   {
    "duration": 6,
    "start_time": "2023-03-21T19:34:29.646Z"
   },
   {
    "duration": 9,
    "start_time": "2023-03-21T19:34:37.397Z"
   },
   {
    "duration": 8,
    "start_time": "2023-03-21T19:34:52.621Z"
   },
   {
    "duration": 12,
    "start_time": "2023-03-21T19:35:16.805Z"
   },
   {
    "duration": 1247,
    "start_time": "2023-03-21T19:35:28.206Z"
   },
   {
    "duration": 6,
    "start_time": "2023-03-21T19:35:38.379Z"
   },
   {
    "duration": 11,
    "start_time": "2023-03-21T19:35:57.981Z"
   },
   {
    "duration": 11,
    "start_time": "2023-03-21T19:36:32.349Z"
   },
   {
    "duration": 6,
    "start_time": "2023-03-21T19:37:07.683Z"
   },
   {
    "duration": 7,
    "start_time": "2023-03-21T19:37:57.541Z"
   },
   {
    "duration": 5,
    "start_time": "2023-03-21T19:38:07.205Z"
   },
   {
    "duration": 5,
    "start_time": "2023-03-21T19:38:19.211Z"
   },
   {
    "duration": 4,
    "start_time": "2023-03-21T19:41:07.284Z"
   },
   {
    "duration": 7,
    "start_time": "2023-03-21T19:41:27.380Z"
   },
   {
    "duration": 3,
    "start_time": "2023-03-21T19:42:10.392Z"
   },
   {
    "duration": 6,
    "start_time": "2023-03-21T19:42:13.506Z"
   },
   {
    "duration": 8,
    "start_time": "2023-03-21T19:42:24.329Z"
   },
   {
    "duration": 7,
    "start_time": "2023-03-21T19:42:28.083Z"
   },
   {
    "duration": 3,
    "start_time": "2023-03-21T19:42:54.048Z"
   },
   {
    "duration": 8,
    "start_time": "2023-03-21T19:42:57.016Z"
   },
   {
    "duration": 3,
    "start_time": "2023-03-21T19:43:20.831Z"
   },
   {
    "duration": 9,
    "start_time": "2023-03-21T19:43:23.151Z"
   },
   {
    "duration": 3,
    "start_time": "2023-03-21T19:43:33.615Z"
   },
   {
    "duration": 13,
    "start_time": "2023-03-21T19:44:00.880Z"
   },
   {
    "duration": 5,
    "start_time": "2023-03-21T19:44:15.529Z"
   },
   {
    "duration": 10,
    "start_time": "2023-03-21T19:44:18.246Z"
   },
   {
    "duration": 3,
    "start_time": "2023-03-21T19:44:36.791Z"
   },
   {
    "duration": 4,
    "start_time": "2023-03-21T19:44:43.142Z"
   },
   {
    "duration": 10,
    "start_time": "2023-03-21T19:44:45.494Z"
   },
   {
    "duration": 14,
    "start_time": "2023-03-21T19:45:17.223Z"
   },
   {
    "duration": 14,
    "start_time": "2023-03-21T19:45:36.845Z"
   },
   {
    "duration": 12,
    "start_time": "2023-03-21T19:46:09.543Z"
   },
   {
    "duration": 10,
    "start_time": "2023-03-21T19:46:30.327Z"
   },
   {
    "duration": 8,
    "start_time": "2023-03-21T19:46:40.280Z"
   },
   {
    "duration": 20,
    "start_time": "2023-03-21T19:46:53.902Z"
   },
   {
    "duration": 8,
    "start_time": "2023-03-21T19:47:32.502Z"
   },
   {
    "duration": 14,
    "start_time": "2023-03-21T19:47:41.243Z"
   },
   {
    "duration": 9,
    "start_time": "2023-03-21T19:47:53.932Z"
   },
   {
    "duration": 10,
    "start_time": "2023-03-21T19:48:01.140Z"
   },
   {
    "duration": 8,
    "start_time": "2023-03-21T19:48:06.763Z"
   },
   {
    "duration": 8,
    "start_time": "2023-03-21T19:48:17.108Z"
   },
   {
    "duration": 11,
    "start_time": "2023-03-21T19:48:48.143Z"
   },
   {
    "duration": 5,
    "start_time": "2023-03-21T19:50:10.984Z"
   },
   {
    "duration": 5,
    "start_time": "2023-03-21T19:51:35.422Z"
   },
   {
    "duration": 14,
    "start_time": "2023-03-21T19:51:43.519Z"
   },
   {
    "duration": 16,
    "start_time": "2023-03-21T19:52:11.424Z"
   },
   {
    "duration": 4,
    "start_time": "2023-03-21T19:52:28.003Z"
   },
   {
    "duration": 8,
    "start_time": "2023-03-21T19:52:31.327Z"
   },
   {
    "duration": 4,
    "start_time": "2023-03-21T19:52:58.306Z"
   },
   {
    "duration": 4,
    "start_time": "2023-03-21T19:53:05.162Z"
   },
   {
    "duration": 6,
    "start_time": "2023-03-21T19:53:28.352Z"
   },
   {
    "duration": 4,
    "start_time": "2023-03-21T19:54:12.086Z"
   },
   {
    "duration": 12,
    "start_time": "2023-03-21T19:54:14.626Z"
   },
   {
    "duration": 9,
    "start_time": "2023-03-21T19:54:45.800Z"
   },
   {
    "duration": 12,
    "start_time": "2023-03-21T19:55:08.683Z"
   },
   {
    "duration": 13,
    "start_time": "2023-03-21T19:55:27.080Z"
   },
   {
    "duration": 10,
    "start_time": "2023-03-21T19:55:37.433Z"
   },
   {
    "duration": 6,
    "start_time": "2023-03-21T19:57:04.863Z"
   },
   {
    "duration": 5,
    "start_time": "2023-03-21T19:57:14.823Z"
   },
   {
    "duration": 19,
    "start_time": "2023-03-21T20:00:19.445Z"
   },
   {
    "duration": 19,
    "start_time": "2023-03-21T20:00:43.822Z"
   },
   {
    "duration": 28,
    "start_time": "2023-03-21T20:01:57.015Z"
   },
   {
    "duration": 31,
    "start_time": "2023-03-21T20:03:42.490Z"
   },
   {
    "duration": 28,
    "start_time": "2023-03-21T20:04:15.363Z"
   },
   {
    "duration": 14,
    "start_time": "2023-03-21T20:05:10.154Z"
   },
   {
    "duration": 8,
    "start_time": "2023-03-21T20:05:43.042Z"
   },
   {
    "duration": 14,
    "start_time": "2023-03-21T20:06:17.033Z"
   },
   {
    "duration": 80,
    "start_time": "2023-03-21T20:06:29.285Z"
   },
   {
    "duration": 22,
    "start_time": "2023-03-21T20:06:52.465Z"
   },
   {
    "duration": 16,
    "start_time": "2023-03-21T20:07:30.490Z"
   },
   {
    "duration": 17,
    "start_time": "2023-03-21T20:11:52.495Z"
   },
   {
    "duration": 19,
    "start_time": "2023-03-21T20:12:23.926Z"
   },
   {
    "duration": 19,
    "start_time": "2023-03-21T20:16:22.066Z"
   },
   {
    "duration": 3,
    "start_time": "2023-03-21T20:22:57.597Z"
   },
   {
    "duration": 22,
    "start_time": "2023-03-21T20:24:17.805Z"
   },
   {
    "duration": 3,
    "start_time": "2023-03-21T20:28:19.202Z"
   },
   {
    "duration": 22,
    "start_time": "2023-03-21T20:28:22.335Z"
   },
   {
    "duration": 6,
    "start_time": "2023-03-21T20:37:29.741Z"
   },
   {
    "duration": 4,
    "start_time": "2023-03-21T20:42:02.129Z"
   },
   {
    "duration": 18,
    "start_time": "2023-03-21T20:42:04.778Z"
   },
   {
    "duration": 17,
    "start_time": "2023-03-21T20:42:32.282Z"
   },
   {
    "duration": 17,
    "start_time": "2023-03-21T20:42:52.778Z"
   },
   {
    "duration": 19,
    "start_time": "2023-03-21T20:42:58.953Z"
   },
   {
    "duration": 17,
    "start_time": "2023-03-21T20:43:18.544Z"
   },
   {
    "duration": 17,
    "start_time": "2023-03-21T20:44:14.820Z"
   },
   {
    "duration": 8,
    "start_time": "2023-03-21T20:46:27.093Z"
   },
   {
    "duration": 4,
    "start_time": "2023-03-21T20:46:37.073Z"
   },
   {
    "duration": 10,
    "start_time": "2023-03-21T20:46:45.536Z"
   },
   {
    "duration": 10,
    "start_time": "2023-03-21T20:46:58.435Z"
   },
   {
    "duration": 6,
    "start_time": "2023-03-21T20:47:08.398Z"
   },
   {
    "duration": 9,
    "start_time": "2023-03-21T20:47:10.938Z"
   },
   {
    "duration": 7,
    "start_time": "2023-03-21T20:49:00.035Z"
   },
   {
    "duration": 23,
    "start_time": "2023-03-21T20:50:16.126Z"
   },
   {
    "duration": 16,
    "start_time": "2023-03-21T20:50:53.188Z"
   },
   {
    "duration": 13,
    "start_time": "2023-03-21T20:51:34.390Z"
   },
   {
    "duration": 14,
    "start_time": "2023-03-21T20:51:55.492Z"
   },
   {
    "duration": 88,
    "start_time": "2023-03-21T20:52:01.093Z"
   },
   {
    "duration": 80,
    "start_time": "2023-03-21T20:52:18.834Z"
   },
   {
    "duration": 26,
    "start_time": "2023-03-21T20:52:58.333Z"
   },
   {
    "duration": 109,
    "start_time": "2023-03-21T20:54:16.504Z"
   },
   {
    "duration": 809,
    "start_time": "2023-03-21T20:54:25.385Z"
   },
   {
    "duration": 14,
    "start_time": "2023-03-21T20:54:43.849Z"
   },
   {
    "duration": 20,
    "start_time": "2023-03-21T20:55:03.835Z"
   },
   {
    "duration": 1328,
    "start_time": "2023-03-21T20:56:07.377Z"
   },
   {
    "duration": 896,
    "start_time": "2023-03-21T20:56:08.708Z"
   },
   {
    "duration": 249,
    "start_time": "2023-03-21T20:56:09.606Z"
   },
   {
    "duration": 24,
    "start_time": "2023-03-21T20:56:09.858Z"
   },
   {
    "duration": 52,
    "start_time": "2023-03-21T20:56:09.885Z"
   },
   {
    "duration": 49,
    "start_time": "2023-03-21T20:56:09.938Z"
   },
   {
    "duration": 324,
    "start_time": "2023-03-21T20:56:09.989Z"
   },
   {
    "duration": 16,
    "start_time": "2023-03-21T20:56:10.315Z"
   },
   {
    "duration": 123,
    "start_time": "2023-03-21T20:56:10.335Z"
   },
   {
    "duration": 11,
    "start_time": "2023-03-21T20:56:10.460Z"
   },
   {
    "duration": 106,
    "start_time": "2023-03-21T20:56:10.473Z"
   },
   {
    "duration": 0,
    "start_time": "2023-03-21T20:56:10.581Z"
   },
   {
    "duration": 4,
    "start_time": "2023-03-21T20:56:28.437Z"
   },
   {
    "duration": 24,
    "start_time": "2023-03-21T20:56:30.991Z"
   },
   {
    "duration": 5,
    "start_time": "2023-03-21T20:57:23.656Z"
   },
   {
    "duration": 8,
    "start_time": "2023-03-21T20:57:35.574Z"
   },
   {
    "duration": 21,
    "start_time": "2023-03-21T20:58:03.207Z"
   },
   {
    "duration": 11,
    "start_time": "2023-03-21T20:58:18.469Z"
   },
   {
    "duration": 20,
    "start_time": "2023-03-21T20:58:59.907Z"
   },
   {
    "duration": 119,
    "start_time": "2023-03-21T21:02:41.378Z"
   },
   {
    "duration": 17,
    "start_time": "2023-03-21T21:03:12.235Z"
   },
   {
    "duration": 6,
    "start_time": "2023-03-21T21:03:48.353Z"
   },
   {
    "duration": 4,
    "start_time": "2023-03-21T21:05:40.474Z"
   },
   {
    "duration": 16,
    "start_time": "2023-03-21T21:06:11.970Z"
   },
   {
    "duration": 16,
    "start_time": "2023-03-21T21:06:18.600Z"
   },
   {
    "duration": 8,
    "start_time": "2023-03-21T21:06:36.478Z"
   },
   {
    "duration": 6,
    "start_time": "2023-03-21T21:07:09.141Z"
   },
   {
    "duration": 5,
    "start_time": "2023-03-21T21:07:38.104Z"
   },
   {
    "duration": 8,
    "start_time": "2023-03-21T21:08:06.214Z"
   },
   {
    "duration": 7,
    "start_time": "2023-03-21T21:09:06.270Z"
   },
   {
    "duration": 6,
    "start_time": "2023-03-21T21:09:19.125Z"
   },
   {
    "duration": 9,
    "start_time": "2023-03-21T21:09:49.709Z"
   },
   {
    "duration": 6,
    "start_time": "2023-03-21T21:10:34.638Z"
   },
   {
    "duration": 8,
    "start_time": "2023-03-21T21:10:38.653Z"
   },
   {
    "duration": 8,
    "start_time": "2023-03-21T21:10:49.638Z"
   },
   {
    "duration": 8,
    "start_time": "2023-03-21T21:10:57.614Z"
   },
   {
    "duration": 6,
    "start_time": "2023-03-21T21:11:21.974Z"
   },
   {
    "duration": 6,
    "start_time": "2023-03-21T21:17:20.264Z"
   },
   {
    "duration": 5,
    "start_time": "2023-03-21T21:17:38.968Z"
   },
   {
    "duration": 8,
    "start_time": "2023-03-21T21:17:52.760Z"
   },
   {
    "duration": 15,
    "start_time": "2023-03-21T21:18:42.647Z"
   },
   {
    "duration": 11,
    "start_time": "2023-03-21T21:19:10.525Z"
   },
   {
    "duration": 9,
    "start_time": "2023-03-21T21:20:24.368Z"
   },
   {
    "duration": 10,
    "start_time": "2023-03-21T21:21:04.828Z"
   },
   {
    "duration": 14,
    "start_time": "2023-03-21T21:21:57.508Z"
   },
   {
    "duration": 10,
    "start_time": "2023-03-21T21:22:03.762Z"
   },
   {
    "duration": 12,
    "start_time": "2023-03-21T21:23:26.389Z"
   },
   {
    "duration": 10,
    "start_time": "2023-03-21T21:23:41.779Z"
   },
   {
    "duration": 5,
    "start_time": "2023-03-21T21:24:16.500Z"
   },
   {
    "duration": 12,
    "start_time": "2023-03-21T21:24:24.490Z"
   },
   {
    "duration": 12,
    "start_time": "2023-03-21T21:24:57.726Z"
   },
   {
    "duration": 10,
    "start_time": "2023-03-21T21:25:17.642Z"
   },
   {
    "duration": 1252,
    "start_time": "2023-03-21T21:25:27.539Z"
   },
   {
    "duration": 5,
    "start_time": "2023-03-21T21:25:37.589Z"
   },
   {
    "duration": 809,
    "start_time": "2023-03-21T21:26:34.442Z"
   },
   {
    "duration": 636,
    "start_time": "2023-03-21T21:26:44.192Z"
   },
   {
    "duration": 613,
    "start_time": "2023-03-21T21:26:59.296Z"
   },
   {
    "duration": 9,
    "start_time": "2023-03-21T21:27:08.881Z"
   },
   {
    "duration": 10,
    "start_time": "2023-03-21T21:27:14.584Z"
   },
   {
    "duration": 12,
    "start_time": "2023-03-21T21:27:26.633Z"
   },
   {
    "duration": 9,
    "start_time": "2023-03-21T21:27:33.129Z"
   },
   {
    "duration": 7,
    "start_time": "2023-03-21T21:27:52.393Z"
   },
   {
    "duration": 675,
    "start_time": "2023-03-21T21:28:00.232Z"
   },
   {
    "duration": 9,
    "start_time": "2023-03-21T21:28:14.588Z"
   },
   {
    "duration": 9,
    "start_time": "2023-03-21T21:28:23.729Z"
   },
   {
    "duration": 9,
    "start_time": "2023-03-21T21:28:31.097Z"
   },
   {
    "duration": 9,
    "start_time": "2023-03-21T21:28:37.672Z"
   },
   {
    "duration": 7,
    "start_time": "2023-03-21T21:28:59.871Z"
   },
   {
    "duration": 655,
    "start_time": "2023-03-21T21:29:13.632Z"
   },
   {
    "duration": 13,
    "start_time": "2023-03-21T21:29:30.336Z"
   },
   {
    "duration": 8,
    "start_time": "2023-03-21T21:29:47.238Z"
   },
   {
    "duration": 8,
    "start_time": "2023-03-21T21:30:01.025Z"
   },
   {
    "duration": 13,
    "start_time": "2023-03-21T21:30:33.825Z"
   },
   {
    "duration": 13,
    "start_time": "2023-03-21T21:30:42.662Z"
   },
   {
    "duration": 26,
    "start_time": "2023-03-21T21:35:06.259Z"
   },
   {
    "duration": 4,
    "start_time": "2023-03-21T21:35:37.051Z"
   },
   {
    "duration": 9,
    "start_time": "2023-03-21T21:35:47.379Z"
   },
   {
    "duration": 9,
    "start_time": "2023-03-21T21:36:12.228Z"
   },
   {
    "duration": 5,
    "start_time": "2023-03-21T21:36:56.434Z"
   },
   {
    "duration": 14,
    "start_time": "2023-03-21T21:38:55.520Z"
   },
   {
    "duration": 24,
    "start_time": "2023-03-21T21:39:42.072Z"
   },
   {
    "duration": 12,
    "start_time": "2023-03-21T21:40:12.470Z"
   },
   {
    "duration": 13,
    "start_time": "2023-03-21T21:40:27.632Z"
   },
   {
    "duration": 537,
    "start_time": "2023-03-21T21:42:05.994Z"
   },
   {
    "duration": 479,
    "start_time": "2023-03-21T21:43:05.598Z"
   },
   {
    "duration": 442,
    "start_time": "2023-03-21T21:43:16.991Z"
   },
   {
    "duration": 435,
    "start_time": "2023-03-21T21:43:29.628Z"
   },
   {
    "duration": 430,
    "start_time": "2023-03-21T21:46:26.476Z"
   },
   {
    "duration": 432,
    "start_time": "2023-03-21T21:46:37.499Z"
   },
   {
    "duration": 436,
    "start_time": "2023-03-21T21:47:30.563Z"
   },
   {
    "duration": 423,
    "start_time": "2023-03-21T21:47:44.595Z"
   },
   {
    "duration": 1202,
    "start_time": "2023-03-21T21:59:48.465Z"
   },
   {
    "duration": 1351,
    "start_time": "2023-03-21T22:00:10.907Z"
   },
   {
    "duration": 1323,
    "start_time": "2023-03-21T22:00:45.330Z"
   },
   {
    "duration": 1226,
    "start_time": "2023-03-21T22:02:04.161Z"
   },
   {
    "duration": 1278,
    "start_time": "2023-03-21T22:03:23.631Z"
   },
   {
    "duration": 12,
    "start_time": "2023-03-21T22:19:57.812Z"
   },
   {
    "duration": 9,
    "start_time": "2023-03-21T22:20:06.213Z"
   },
   {
    "duration": 4,
    "start_time": "2023-03-21T22:20:18.510Z"
   },
   {
    "duration": 5,
    "start_time": "2023-03-21T22:20:48.955Z"
   },
   {
    "duration": 5,
    "start_time": "2023-03-21T22:20:55.699Z"
   },
   {
    "duration": 6,
    "start_time": "2023-03-21T22:24:43.047Z"
   },
   {
    "duration": 6,
    "start_time": "2023-03-21T22:24:55.816Z"
   },
   {
    "duration": 23,
    "start_time": "2023-03-21T22:26:15.337Z"
   },
   {
    "duration": 1278,
    "start_time": "2023-03-21T22:26:54.103Z"
   },
   {
    "duration": 1067,
    "start_time": "2023-03-21T22:40:20.651Z"
   },
   {
    "duration": 367,
    "start_time": "2023-03-21T22:40:21.720Z"
   },
   {
    "duration": 145,
    "start_time": "2023-03-21T22:40:22.089Z"
   },
   {
    "duration": 33,
    "start_time": "2023-03-21T22:40:22.236Z"
   },
   {
    "duration": 5,
    "start_time": "2023-03-21T22:40:22.271Z"
   },
   {
    "duration": 61,
    "start_time": "2023-03-21T22:40:22.277Z"
   },
   {
    "duration": 177,
    "start_time": "2023-03-21T22:40:22.340Z"
   },
   {
    "duration": 100,
    "start_time": "2023-03-21T22:40:22.609Z"
   },
   {
    "duration": 5,
    "start_time": "2023-03-21T22:40:22.711Z"
   },
   {
    "duration": 24,
    "start_time": "2023-03-21T22:40:22.717Z"
   },
   {
    "duration": 23,
    "start_time": "2023-03-21T22:40:22.742Z"
   },
   {
    "duration": 11,
    "start_time": "2023-03-21T22:40:22.767Z"
   },
   {
    "duration": 34,
    "start_time": "2023-03-21T22:40:22.779Z"
   },
   {
    "duration": 1142,
    "start_time": "2023-03-21T22:40:22.815Z"
   },
   {
    "duration": 2696,
    "start_time": "2023-03-22T16:56:31.849Z"
   },
   {
    "duration": 1990,
    "start_time": "2023-03-22T16:56:34.547Z"
   },
   {
    "duration": 191,
    "start_time": "2023-03-22T16:56:36.540Z"
   },
   {
    "duration": 43,
    "start_time": "2023-03-22T16:56:36.733Z"
   },
   {
    "duration": 4,
    "start_time": "2023-03-22T16:56:36.779Z"
   },
   {
    "duration": 43,
    "start_time": "2023-03-22T16:56:36.784Z"
   },
   {
    "duration": 141,
    "start_time": "2023-03-22T16:56:36.828Z"
   },
   {
    "duration": 96,
    "start_time": "2023-03-22T16:56:36.971Z"
   },
   {
    "duration": 93,
    "start_time": "2023-03-22T16:56:37.069Z"
   },
   {
    "duration": 9,
    "start_time": "2023-03-22T16:56:37.164Z"
   },
   {
    "duration": 7,
    "start_time": "2023-03-22T16:56:37.175Z"
   },
   {
    "duration": 10,
    "start_time": "2023-03-22T16:56:37.184Z"
   },
   {
    "duration": 24,
    "start_time": "2023-03-22T16:56:37.196Z"
   },
   {
    "duration": 1267,
    "start_time": "2023-03-22T16:56:37.223Z"
   },
   {
    "duration": 16,
    "start_time": "2023-03-22T16:56:50.133Z"
   },
   {
    "duration": 11,
    "start_time": "2023-03-22T16:56:53.628Z"
   },
   {
    "duration": 10,
    "start_time": "2023-03-22T16:56:54.592Z"
   },
   {
    "duration": 47,
    "start_time": "2023-03-22T16:57:17.391Z"
   },
   {
    "duration": 8,
    "start_time": "2023-03-22T16:57:19.640Z"
   },
   {
    "duration": 5,
    "start_time": "2023-03-22T16:57:21.371Z"
   },
   {
    "duration": 79,
    "start_time": "2023-03-22T18:21:34.333Z"
   },
   {
    "duration": 1094,
    "start_time": "2023-03-22T18:21:38.360Z"
   },
   {
    "duration": 2002,
    "start_time": "2023-03-22T18:21:39.456Z"
   },
   {
    "duration": 164,
    "start_time": "2023-03-22T18:21:41.459Z"
   },
   {
    "duration": 37,
    "start_time": "2023-03-22T18:21:41.625Z"
   },
   {
    "duration": 6,
    "start_time": "2023-03-22T18:21:41.665Z"
   },
   {
    "duration": 62,
    "start_time": "2023-03-22T18:21:41.673Z"
   },
   {
    "duration": 276,
    "start_time": "2023-03-22T18:21:41.736Z"
   },
   {
    "duration": 90,
    "start_time": "2023-03-22T18:21:42.019Z"
   },
   {
    "duration": 4,
    "start_time": "2023-03-22T18:21:42.112Z"
   },
   {
    "duration": 12,
    "start_time": "2023-03-22T18:21:42.202Z"
   },
   {
    "duration": 8,
    "start_time": "2023-03-22T18:21:42.215Z"
   },
   {
    "duration": 3,
    "start_time": "2023-03-22T18:21:42.225Z"
   },
   {
    "duration": 83,
    "start_time": "2023-03-22T18:21:42.230Z"
   },
   {
    "duration": 16,
    "start_time": "2023-03-22T18:21:45.053Z"
   },
   {
    "duration": 9,
    "start_time": "2023-03-22T18:22:32.676Z"
   },
   {
    "duration": 5,
    "start_time": "2023-03-22T18:23:18.137Z"
   },
   {
    "duration": 11,
    "start_time": "2023-03-22T18:23:22.824Z"
   },
   {
    "duration": 10,
    "start_time": "2023-03-22T18:23:38.926Z"
   },
   {
    "duration": 12,
    "start_time": "2023-03-22T18:24:04.755Z"
   },
   {
    "duration": 8,
    "start_time": "2023-03-22T18:24:44.168Z"
   },
   {
    "duration": 843,
    "start_time": "2023-03-22T18:25:04.665Z"
   },
   {
    "duration": 4,
    "start_time": "2023-03-22T18:26:15.528Z"
   },
   {
    "duration": 388,
    "start_time": "2023-03-22T18:26:15.534Z"
   },
   {
    "duration": 174,
    "start_time": "2023-03-22T18:26:15.923Z"
   },
   {
    "duration": 28,
    "start_time": "2023-03-22T18:26:16.102Z"
   },
   {
    "duration": 4,
    "start_time": "2023-03-22T18:26:16.132Z"
   },
   {
    "duration": 39,
    "start_time": "2023-03-22T18:26:16.138Z"
   },
   {
    "duration": 128,
    "start_time": "2023-03-22T18:26:16.179Z"
   },
   {
    "duration": 96,
    "start_time": "2023-03-22T18:26:16.309Z"
   },
   {
    "duration": 5,
    "start_time": "2023-03-22T18:26:16.406Z"
   },
   {
    "duration": 90,
    "start_time": "2023-03-22T18:26:16.414Z"
   },
   {
    "duration": 17,
    "start_time": "2023-03-22T18:26:16.506Z"
   },
   {
    "duration": 4,
    "start_time": "2023-03-22T18:26:16.525Z"
   },
   {
    "duration": 15,
    "start_time": "2023-03-22T18:26:16.531Z"
   },
   {
    "duration": 792,
    "start_time": "2023-03-22T18:26:21.585Z"
   },
   {
    "duration": 10,
    "start_time": "2023-03-22T18:28:29.447Z"
   },
   {
    "duration": 3,
    "start_time": "2023-03-22T18:28:33.485Z"
   },
   {
    "duration": 3,
    "start_time": "2023-03-22T18:28:37.282Z"
   },
   {
    "duration": 21,
    "start_time": "2023-03-22T18:29:16.222Z"
   },
   {
    "duration": 2422,
    "start_time": "2023-03-22T18:29:25.660Z"
   },
   {
    "duration": 42,
    "start_time": "2023-03-22T18:41:08.957Z"
   },
   {
    "duration": 46,
    "start_time": "2023-03-22T18:41:51.889Z"
   },
   {
    "duration": 41,
    "start_time": "2023-03-22T18:42:19.019Z"
   },
   {
    "duration": 32,
    "start_time": "2023-03-22T18:42:51.439Z"
   },
   {
    "duration": 32,
    "start_time": "2023-03-22T18:43:34.631Z"
   },
   {
    "duration": 51,
    "start_time": "2023-03-22T18:43:42.443Z"
   },
   {
    "duration": 256,
    "start_time": "2023-03-22T18:44:05.627Z"
   },
   {
    "duration": 2368,
    "start_time": "2023-03-22T18:44:15.120Z"
   },
   {
    "duration": 23008,
    "start_time": "2023-03-22T18:44:34.278Z"
   },
   {
    "duration": 10990,
    "start_time": "2023-03-22T18:45:10.247Z"
   },
   {
    "duration": 2476,
    "start_time": "2023-03-22T18:45:31.068Z"
   },
   {
    "duration": 2138,
    "start_time": "2023-03-22T18:45:39.223Z"
   },
   {
    "duration": 2220,
    "start_time": "2023-03-22T18:45:47.363Z"
   },
   {
    "duration": 2208,
    "start_time": "2023-03-22T18:45:54.432Z"
   },
   {
    "duration": 21797,
    "start_time": "2023-03-22T18:46:15.393Z"
   },
   {
    "duration": 21533,
    "start_time": "2023-03-22T18:47:06.648Z"
   },
   {
    "duration": 2164,
    "start_time": "2023-03-22T18:47:34.287Z"
   },
   {
    "duration": 2095,
    "start_time": "2023-03-22T18:47:56.831Z"
   },
   {
    "duration": 43,
    "start_time": "2023-03-22T19:09:10.797Z"
   },
   {
    "duration": 3,
    "start_time": "2023-03-22T19:09:51.529Z"
   },
   {
    "duration": 20,
    "start_time": "2023-03-22T19:10:01.143Z"
   },
   {
    "duration": 37,
    "start_time": "2023-03-22T19:10:17.338Z"
   },
   {
    "duration": 24,
    "start_time": "2023-03-22T19:10:30.448Z"
   },
   {
    "duration": 20,
    "start_time": "2023-03-22T19:10:37.953Z"
   },
   {
    "duration": 20,
    "start_time": "2023-03-22T19:10:49.288Z"
   },
   {
    "duration": 20,
    "start_time": "2023-03-22T19:12:04.086Z"
   },
   {
    "duration": 85,
    "start_time": "2023-03-22T19:14:17.396Z"
   },
   {
    "duration": 90,
    "start_time": "2023-03-22T19:14:25.040Z"
   },
   {
    "duration": 7,
    "start_time": "2023-03-22T19:29:41.782Z"
   },
   {
    "duration": 6,
    "start_time": "2023-03-22T19:29:53.651Z"
   },
   {
    "duration": 6,
    "start_time": "2023-03-22T19:30:00.659Z"
   },
   {
    "duration": 7,
    "start_time": "2023-03-22T19:30:09.334Z"
   },
   {
    "duration": 22,
    "start_time": "2023-03-22T19:30:41.359Z"
   },
   {
    "duration": 18,
    "start_time": "2023-03-22T19:30:48.302Z"
   },
   {
    "duration": 10,
    "start_time": "2023-03-22T19:30:58.739Z"
   },
   {
    "duration": 31,
    "start_time": "2023-03-22T19:32:34.839Z"
   },
   {
    "duration": 14,
    "start_time": "2023-03-22T19:33:11.297Z"
   },
   {
    "duration": 23,
    "start_time": "2023-03-22T20:01:49.152Z"
   },
   {
    "duration": 1424,
    "start_time": "2023-03-22T20:15:30.602Z"
   },
   {
    "duration": 616,
    "start_time": "2023-03-22T20:15:32.045Z"
   },
   {
    "duration": 283,
    "start_time": "2023-03-22T20:15:32.668Z"
   },
   {
    "duration": 28,
    "start_time": "2023-03-22T20:15:32.956Z"
   },
   {
    "duration": 147,
    "start_time": "2023-03-22T20:15:32.986Z"
   },
   {
    "duration": 28,
    "start_time": "2023-03-22T20:15:33.135Z"
   },
   {
    "duration": 57,
    "start_time": "2023-03-22T20:15:33.167Z"
   },
   {
    "duration": 14,
    "start_time": "2023-03-22T20:15:33.231Z"
   },
   {
    "duration": 45,
    "start_time": "2023-03-22T20:15:33.251Z"
   },
   {
    "duration": 310,
    "start_time": "2023-03-22T20:15:33.299Z"
   },
   {
    "duration": 97,
    "start_time": "2023-03-22T20:15:33.612Z"
   },
   {
    "duration": 20,
    "start_time": "2023-03-22T20:15:33.723Z"
   },
   {
    "duration": 6,
    "start_time": "2023-03-22T20:15:33.751Z"
   },
   {
    "duration": 7,
    "start_time": "2023-03-22T20:15:33.759Z"
   },
   {
    "duration": 4,
    "start_time": "2023-03-22T20:15:33.767Z"
   },
   {
    "duration": 21,
    "start_time": "2023-03-22T20:15:33.772Z"
   },
   {
    "duration": 3,
    "start_time": "2023-03-22T20:15:33.795Z"
   },
   {
    "duration": 32,
    "start_time": "2023-03-22T20:15:33.800Z"
   },
   {
    "duration": 2630,
    "start_time": "2023-03-22T20:15:33.834Z"
   },
   {
    "duration": 4,
    "start_time": "2023-03-22T20:15:58.986Z"
   },
   {
    "duration": 546,
    "start_time": "2023-03-22T20:15:58.992Z"
   },
   {
    "duration": 216,
    "start_time": "2023-03-22T20:15:59.554Z"
   },
   {
    "duration": 39,
    "start_time": "2023-03-22T20:15:59.773Z"
   },
   {
    "duration": 125,
    "start_time": "2023-03-22T20:15:59.815Z"
   },
   {
    "duration": 25,
    "start_time": "2023-03-22T20:15:59.942Z"
   },
   {
    "duration": 62,
    "start_time": "2023-03-22T20:15:59.969Z"
   },
   {
    "duration": 26,
    "start_time": "2023-03-22T20:16:00.041Z"
   },
   {
    "duration": 61,
    "start_time": "2023-03-22T20:16:00.069Z"
   },
   {
    "duration": 179,
    "start_time": "2023-03-22T20:16:00.132Z"
   },
   {
    "duration": 37,
    "start_time": "2023-03-22T20:16:00.329Z"
   },
   {
    "duration": 51,
    "start_time": "2023-03-22T20:16:00.402Z"
   },
   {
    "duration": 17,
    "start_time": "2023-03-22T20:16:00.459Z"
   },
   {
    "duration": 21,
    "start_time": "2023-03-22T20:16:00.478Z"
   },
   {
    "duration": 18,
    "start_time": "2023-03-22T20:16:00.501Z"
   },
   {
    "duration": 36,
    "start_time": "2023-03-22T20:16:00.521Z"
   },
   {
    "duration": 2847,
    "start_time": "2023-03-22T20:16:00.560Z"
   }
  ],
  "kernelspec": {
   "display_name": "Python 3 (ipykernel)",
   "language": "python",
   "name": "python3"
  },
  "language_info": {
   "codemirror_mode": {
    "name": "ipython",
    "version": 3
   },
   "file_extension": ".py",
   "mimetype": "text/x-python",
   "name": "python",
   "nbconvert_exporter": "python",
   "pygments_lexer": "ipython3",
   "version": "3.9.13"
  },
  "toc": {
   "base_numbering": 1,
   "nav_menu": {},
   "number_sections": true,
   "sideBar": true,
   "skip_h1_title": true,
   "title_cell": "Table of Contents",
   "title_sidebar": "Contents",
   "toc_cell": false,
   "toc_position": {},
   "toc_section_display": true,
   "toc_window_display": true
  }
 },
 "nbformat": 4,
 "nbformat_minor": 2
}
