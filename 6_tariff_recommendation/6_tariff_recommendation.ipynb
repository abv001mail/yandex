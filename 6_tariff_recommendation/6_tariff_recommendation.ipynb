{
 "cells": [
  {
   "cell_type": "markdown",
   "metadata": {},
   "source": [
    "# Рекомендация тарифов"
   ]
  },
  {
   "cell_type": "markdown",
   "metadata": {},
   "source": [
    "В вашем распоряжении данные о поведении клиентов, которые уже перешли на эти тарифы (из проекта курса «Статистический анализ данных»). Нужно построить модель для задачи классификации, которая выберет подходящий тариф. Предобработка данных не понадобится — вы её уже сделали.\n",
    "\n",
    "Постройте модель с максимально большим значением *accuracy*. Чтобы сдать проект успешно, нужно довести долю правильных ответов по крайней мере до 0.75. Проверьте *accuracy* на тестовой выборке самостоятельно."
   ]
  },
  {
   "cell_type": "markdown",
   "metadata": {},
   "source": [
    "## Откройте и изучите файл"
   ]
  },
  {
   "cell_type": "code",
   "execution_count": 3,
   "metadata": {},
   "outputs": [],
   "source": [
    "import pandas as pd\n",
    "from random import randint\n",
    "from sklearn.ensemble import RandomForestClassifier\n",
    "from sklearn.linear_model import LogisticRegression\n",
    "from sklearn.metrics import mean_squared_error, accuracy_score\n",
    "from sklearn.metrics import recall_score\n",
    "from sklearn.model_selection import train_test_split\n",
    "from sklearn.tree import DecisionTreeClassifier"
   ]
  },
  {
   "cell_type": "code",
   "execution_count": 4,
   "metadata": {},
   "outputs": [
    {
     "name": "stdout",
     "output_type": "stream",
     "text": [
      "<class 'pandas.core.frame.DataFrame'>\n",
      "RangeIndex: 3214 entries, 0 to 3213\n",
      "Data columns (total 5 columns):\n",
      " #   Column    Non-Null Count  Dtype  \n",
      "---  ------    --------------  -----  \n",
      " 0   calls     3214 non-null   float64\n",
      " 1   minutes   3214 non-null   float64\n",
      " 2   messages  3214 non-null   float64\n",
      " 3   mb_used   3214 non-null   float64\n",
      " 4   is_ultra  3214 non-null   int64  \n",
      "dtypes: float64(4), int64(1)\n",
      "memory usage: 125.7 KB\n"
     ]
    }
   ],
   "source": [
    "df= pd.read_csv('/datasets/users_behavior.csv')\n",
    "df.info()"
   ]
  },
  {
   "cell_type": "markdown",
   "metadata": {},
   "source": [
    "**Вывод:**  \n",
    "В датасете 3214 строк, 5 колонок. В данных пропусков нет, имена колонок корректные, типы данных правильные. На дубликаты не проверяем, т.к. они могут быть (два пользователя могут израсходовать в месяц одинаковое количество минут, смс, мб и звонков)."
   ]
  },
  {
   "cell_type": "markdown",
   "metadata": {},
   "source": [
    "## Разбейте данные на выборки"
   ]
  },
  {
   "cell_type": "markdown",
   "metadata": {},
   "source": [
    "Разобьем данные на выборки в соотношении 3:1:1 соответственно обучающая, валидационная и тестовая. Общее количество строк в датасете 3214."
   ]
  },
  {
   "cell_type": "code",
   "execution_count": 5,
   "metadata": {},
   "outputs": [],
   "source": [
    "features = df.drop(['is_ultra'], axis=1) # признаки\n",
    "target = df['is_ultra']                  # целевой признак"
   ]
  },
  {
   "cell_type": "code",
   "execution_count": 6,
   "metadata": {},
   "outputs": [],
   "source": [
    "features_train, features_valid, target_train, target_valid = train_test_split(features, target, \\\n",
    "                                                                              test_size=0.2, random_state=54321)\n",
    "features_train, features_test, target_train, target_test = train_test_split(features_train, target_train, \\\n",
    "                                                                              test_size=0.25, random_state=54321)"
   ]
  },
  {
   "cell_type": "code",
   "execution_count": 7,
   "metadata": {},
   "outputs": [
    {
     "data": {
      "text/plain": [
       "((1928, 4), (643, 4), (643, 4))"
      ]
     },
     "execution_count": 7,
     "metadata": {},
     "output_type": "execute_result"
    }
   ],
   "source": [
    "features_train.shape, features_valid.shape, features_test.shape"
   ]
  },
  {
   "cell_type": "markdown",
   "metadata": {},
   "source": [
    "Признаки разбились правильно - 1928, 643, 643 строки, по 4 столбца."
   ]
  },
  {
   "cell_type": "code",
   "execution_count": 8,
   "metadata": {},
   "outputs": [
    {
     "data": {
      "text/plain": [
       "((1928,), (643,), (643,))"
      ]
     },
     "execution_count": 8,
     "metadata": {},
     "output_type": "execute_result"
    }
   ],
   "source": [
    "target_train.shape, target_valid.shape, target_test.shape"
   ]
  },
  {
   "cell_type": "markdown",
   "metadata": {},
   "source": [
    "Целевой признак разбился правильно - 1928, 643, 643 строки, 1 столбец."
   ]
  },
  {
   "cell_type": "markdown",
   "metadata": {},
   "source": [
    "**Вывод:**  \n",
    "Данные разбили на 3 выборки в соотношении 3:1:1 (1928:643:643). Обучающая, валидационная, тестовая.    \n",
    "Параметр random_state выбрали определенным числом, что бы можно было повторить результат."
   ]
  },
  {
   "cell_type": "markdown",
   "metadata": {},
   "source": [
    "## Исследуйте модели"
   ]
  },
  {
   "cell_type": "markdown",
   "metadata": {},
   "source": [
    "Рассмотрим 3 модели: Дерево Решений, Случайный Лес и Логистическая Регрессия."
   ]
  },
  {
   "cell_type": "markdown",
   "metadata": {},
   "source": [
    "### Дерево решений"
   ]
  },
  {
   "cell_type": "markdown",
   "metadata": {},
   "source": [
    "Создадим и обучим модель дерево решений с параметрами по умолчанию."
   ]
  },
  {
   "cell_type": "code",
   "execution_count": 9,
   "metadata": {},
   "outputs": [
    {
     "data": {
      "text/plain": [
       "0.7153965785381027"
      ]
     },
     "execution_count": 9,
     "metadata": {},
     "output_type": "execute_result"
    }
   ],
   "source": [
    "model_tree_norm = DecisionTreeClassifier(random_state=54321)\n",
    "model_tree_norm.fit(features_train, target_train)\n",
    "prediction_tree_norm = model_tree_norm.predict(features_valid)\n",
    "accuracy_score(target_valid, prediction_tree_norm)"
   ]
  },
  {
   "cell_type": "code",
   "execution_count": 10,
   "metadata": {},
   "outputs": [],
   "source": [
    "def error_count(answers, prediction): # подсчёт и вывод количества правильных ответов\n",
    "\tprediction_int = prediction.astype('int64')\n",
    "\tcomparison = answers ^ prediction_int\n",
    "\tresult = (comparison.count() - comparison.sum(), comparison.sum(), comparison.count(),\\\n",
    "              round(accuracy_score(answers, prediction_int) * 100, 2))\n",
    "\tprint(f'Количество правильных ответов - {result[0]}, неправильных - {result[1]}, всего - {result[2]}, правильных - {result[3]} %')\n",
    "\treturn result"
   ]
  },
  {
   "cell_type": "code",
   "execution_count": 11,
   "metadata": {},
   "outputs": [
    {
     "name": "stdout",
     "output_type": "stream",
     "text": [
      "Количество правильных ответов - 460, неправильных - 183, всего - 643, правильных - 71.54 %\n"
     ]
    }
   ],
   "source": [
    "error_count(target_valid, prediction_tree_norm)\n",
    "pass"
   ]
  },
  {
   "cell_type": "markdown",
   "metadata": {},
   "source": [
    "Попробуем подобрать гиперпараметры для модели дерево решений, что бы увеличить количество правильных ответов.  \n",
    "Переберем гиперпараметры max_depth, min_samples_split и min_samples_leaf.  \n",
    "**Последовательный перебор дело долгое, придется подождать.**"
   ]
  },
  {
   "cell_type": "code",
   "execution_count": 12,
   "metadata": {},
   "outputs": [
    {
     "name": "stdout",
     "output_type": "stream",
     "text": [
      "Прогресс:\n",
      "1  10  19  28  37  46  55  64  73  82  91  \n",
      "Максимальное значение accuracy: 0.7931570762052877 \n",
      "Лучшая модель: DecisionTreeClassifier(max_depth=7, min_samples_leaf=10, min_samples_split=56,\n",
      "                       random_state=54321)\n"
     ]
    }
   ],
   "source": [
    "def loop_break(list_break, acc, n):\n",
    "#    list_break.append(acc)\n",
    "    if len(list_break) > n:\n",
    "        list_break = list_break[-n:]\n",
    "        return all(list_break[0] == x for x in list_break)\n",
    "    return False\n",
    "    \n",
    "n = 4  # количество подряд идущих одинаковых значений accuracy, для досрочного выхода из цикла. Максимальное значение глубины, дальнейшее увеличение глубины правильность не меняет\n",
    "model_tree_best = 0\n",
    "best_accuracy, acc = 0, 0\n",
    "#leaf_break = []\n",
    "print('Прогресс:')\n",
    "for leaf in range(1, 100, 9): # шаг выбран случайно\n",
    "    print(leaf, ' ', end='')  \n",
    "#    split_break = []\n",
    "    for split in range(2, 100, 9): # шаг выбран случайно\n",
    "        depth_break = []\n",
    "        for depth in range(1, 100):\n",
    "            model_tree = DecisionTreeClassifier(random_state=54321, max_depth=depth, min_samples_split=split, min_samples_leaf=leaf)\n",
    "            model_tree.fit(features_train, target_train)\n",
    "            prediction_tree = model_tree.predict(features_valid)\n",
    "            acc = accuracy_score(target_valid, prediction_tree)\n",
    "            depth_break.append(acc)\n",
    "            if acc > best_accuracy:\n",
    "                best_accuracy = acc\n",
    "                model_tree_best = model_tree\n",
    "            if loop_break(depth_break, acc, n) : break\n",
    "#        if loop_break(split_break, best_accuracy, n) : break\n",
    "#    if loop_break(leaf_break, best_accuracy, n) : break\n",
    "               \n",
    "print('\\nМаксимальное значение accuracy:', best_accuracy, '\\nЛучшая модель:', model_tree_best)"
   ]
  },
  {
   "cell_type": "code",
   "execution_count": 13,
   "metadata": {},
   "outputs": [
    {
     "name": "stdout",
     "output_type": "stream",
     "text": [
      "Количество правильных ответов - 510, неправильных - 133, всего - 643, правильных - 79.32 %\n"
     ]
    },
    {
     "data": {
      "text/plain": [
       "0.4583333333333333"
      ]
     },
     "execution_count": 13,
     "metadata": {},
     "output_type": "execute_result"
    }
   ],
   "source": [
    "error_count(target_valid, model_tree_best.predict(features_valid))\n",
    "recall_score(target_valid, model_tree_best.predict(features_valid))"
   ]
  },
  {
   "cell_type": "markdown",
   "metadata": {},
   "source": [
    "**Вывод:**  \n",
    "Изменяя гиперпараметры получилось улучшить модель с `460 (71.54 %)` правильных ответов, до `510 (79.32 %)` на валидационной выборке.  \n",
    "Лучшая модель дерева решений: `DecisionTreeClassifier(max_depth=7, min_samples_leaf=10, min_samples_split=56, random_state=54321)`  \n",
    "Гиперпараметры подбирались простым перебором, причем с шагом 1 менялась только глубина (как наиболее влияющая на результат), остальные гиперпараметы менялись с шагом 9, для ускорения расчетов, но это, возможно, исключило варианты, которые бали бы большее значение метрики `accuracy`. Но перебирать все значения с шагом 1 занимает очень много времени."
   ]
  },
  {
   "cell_type": "markdown",
   "metadata": {},
   "source": [
    "### Случайный Лес"
   ]
  },
  {
   "cell_type": "markdown",
   "metadata": {},
   "source": [
    "Создадим и обучим модель случайный лес с параметрами по умолчанию."
   ]
  },
  {
   "cell_type": "code",
   "execution_count": 14,
   "metadata": {},
   "outputs": [
    {
     "name": "stdout",
     "output_type": "stream",
     "text": [
      "0.7947122861586314\n"
     ]
    }
   ],
   "source": [
    "def get_forest(est=100, output=True):\n",
    "    result = RandomForestClassifier(random_state=54321, n_estimators=est)\n",
    "    result.fit(features_train, target_train)\n",
    "    prediction_result = result.predict(features_valid)\n",
    "    if output : print(accuracy_score(target_valid, prediction_result))\n",
    "    return (result, accuracy_score(target_valid, prediction_result))\n",
    "    \n",
    "    \n",
    "model_forest_norm = get_forest()[0]"
   ]
  },
  {
   "cell_type": "code",
   "execution_count": 15,
   "metadata": {},
   "outputs": [
    {
     "name": "stdout",
     "output_type": "stream",
     "text": [
      "Количество правильных ответов - 511, неправильных - 132, всего - 643, правильных - 79.47 %\n"
     ]
    }
   ],
   "source": [
    "error_count(target_valid, model_forest_norm.predict(features_valid))\n",
    "pass"
   ]
  },
  {
   "cell_type": "markdown",
   "metadata": {},
   "source": [
    "Модель случайный лес с гиперпараметрами по умолчанию сразу показала результаты лучше, чем модель дерево решений с подобранными гиперпараметрами.  \n",
    "Гиперпараметры по умолчанию: количество деревьев `est = 100`"
   ]
  },
  {
   "cell_type": "markdown",
   "metadata": {},
   "source": [
    "Попробуем подобрать гиперпараметры для модели случайный лес, что бы увеличить количество правильных ответов.  \n",
    "Сначала переберем количество деревьев в лесу с крупным шагом, что бы точнее определить границы количеста деревьев, которые имеет смысл рассматривать."
   ]
  },
  {
   "cell_type": "code",
   "execution_count": 16,
   "metadata": {},
   "outputs": [],
   "source": [
    "def est_forest(b=1, c=1500, n=99, output=True):\n",
    "    best_accuracy = 0\n",
    "    model_forest_best = 0\n",
    "    depth_break = []\n",
    "    acc = 0\n",
    "    if output : print('Прогресc:')\n",
    "    for est in range(b, c, n):\n",
    "        if output : print(est, ' ', end='')\n",
    "        model_forest, acc = get_forest(est, False)\n",
    "        depth_break.append(acc)            \n",
    "        if acc > best_accuracy:\n",
    "            best_accuracy = acc\n",
    "            model_forest_best = model_forest\n",
    "#            print('best   ', best_accuracy)\n",
    "    print('\\nЛучшая accuracy:', best_accuracy) #, '\\n', model_forest_best)\n",
    "    pd.DataFrame({'acc_forest':depth_break[1:]}).plot(grid=True)\n",
    "    return model_forest_best"
   ]
  },
  {
   "cell_type": "code",
   "execution_count": 17,
   "metadata": {},
   "outputs": [
    {
     "name": "stdout",
     "output_type": "stream",
     "text": [
      "Прогресc:\n",
      "1  100  199  298  397  496  595  694  793  892  991  1090  1189  1288  1387  1486  \n",
      "Лучшая accuracy: 0.7947122861586314\n"
     ]
    },
    {
     "data": {
      "text/plain": [
       "RandomForestClassifier(random_state=54321)"
      ]
     },
     "execution_count": 17,
     "metadata": {},
     "output_type": "execute_result"
    },
    {
     "data": {
      "image/png": "[encoded data removed]",
      "text/plain": [
       "<Figure size 432x288 with 1 Axes>"
      ]
     },
     "metadata": {
      "needs_background": "light"
     },
     "output_type": "display_data"
    }
   ],
   "source": [
    "est_forest(1, 1500, 99)"
   ]
  },
  {
   "cell_type": "markdown",
   "metadata": {},
   "source": [
    "Лучшее значение accuracy = 0.7947122861586314  \n",
    "График показывает 3 максимума. От 1 до 100, в районе 397 и в районе 694.  \n",
    "Рассмотрим подробнее все 3 промежутка."
   ]
  },
  {
   "cell_type": "code",
   "execution_count": 18,
   "metadata": {},
   "outputs": [
    {
     "name": "stdout",
     "output_type": "stream",
     "text": [
      "Прогресc:\n",
      "685  686  687  688  689  690  691  692  693  694  695  696  697  698  699  700  701  702  703  704  \n",
      "Лучшая accuracy: 0.7947122861586314\n"
     ]
    },
    {
     "data": {
      "text/plain": [
       "RandomForestClassifier(n_estimators=685, random_state=54321)"
      ]
     },
     "execution_count": 18,
     "metadata": {},
     "output_type": "execute_result"
    },
    {
     "data": {
      "image/png": "[encoded data removed]",
      "text/plain": [
       "<Figure size 432x288 with 1 Axes>"
      ]
     },
     "metadata": {
      "needs_background": "light"
     },
     "output_type": "display_data"
    }
   ],
   "source": [
    "est_forest(685,705,1)"
   ]
  },
  {
   "cell_type": "markdown",
   "metadata": {},
   "source": [
    "На промежутке (685, 705) несколько максимумов, но все не превышают 0.7947122861586314"
   ]
  },
  {
   "cell_type": "code",
   "execution_count": 19,
   "metadata": {},
   "outputs": [
    {
     "name": "stdout",
     "output_type": "stream",
     "text": [
      "Прогресc:\n",
      "385  386  387  388  389  390  391  392  393  394  395  396  397  398  399  400  401  402  403  404  \n",
      "Лучшая accuracy: 0.7947122861586314\n"
     ]
    },
    {
     "data": {
      "text/plain": [
       "RandomForestClassifier(n_estimators=396, random_state=54321)"
      ]
     },
     "execution_count": 19,
     "metadata": {},
     "output_type": "execute_result"
    },
    {
     "data": {
      "image/png": "[encoded data removed]",
      "text/plain": [
       "<Figure size 432x288 with 1 Axes>"
      ]
     },
     "metadata": {
      "needs_background": "light"
     },
     "output_type": "display_data"
    }
   ],
   "source": [
    "est_forest(385,405,1)"
   ]
  },
  {
   "cell_type": "markdown",
   "metadata": {},
   "source": [
    "На промежутке (385, 405) несколько максимумов, но все не превышают 0.7947122861586314"
   ]
  },
  {
   "cell_type": "code",
   "execution_count": 20,
   "metadata": {},
   "outputs": [
    {
     "name": "stdout",
     "output_type": "stream",
     "text": [
      "\n",
      "Лучшая accuracy: 0.8009331259720062\n"
     ]
    },
    {
     "data": {
      "text/plain": [
       "RandomForestClassifier(n_estimators=36, random_state=54321)"
      ]
     },
     "execution_count": 20,
     "metadata": {},
     "output_type": "execute_result"
    },
    {
     "data": {
      "image/png": "[encoded data removed]",
      "text/plain": [
       "<Figure size 432x288 with 1 Axes>"
      ]
     },
     "metadata": {
      "needs_background": "light"
     },
     "output_type": "display_data"
    }
   ],
   "source": [
    "est_forest(1, 100, 1, False)"
   ]
  },
  {
   "cell_type": "markdown",
   "metadata": {},
   "source": [
    "На промежутке (1, 100) максимум равен 0.8009331259720062, это лучший показатель accuracy.  \n",
    "Количество деревьев в лесу - 36.  \n",
    "Дальше будем работать с лесом в 36 деревьев. \n",
    "\n",
    "Переберем остальные гиперпараметры (max_depth, min_samples_split и min_samples_leaf) во вложенных циклах.  \n",
    "**Перебор 3 параметров во вложенных циклах занимает продолжительное время.**"
   ]
  },
  {
   "cell_type": "code",
   "execution_count": 21,
   "metadata": {
    "scrolled": true
   },
   "outputs": [
    {
     "name": "stdout",
     "output_type": "stream",
     "text": [
      "Прогресс:\n",
      "1  8  15  22  29  36  \n",
      "Максимальное значение accuracy: 0.8040435458786936 \n",
      "Лучшая модель: RandomForestClassifier(max_depth=28, n_estimators=36, random_state=54321)\n"
     ]
    },
    {
     "data": {
      "text/plain": [
       "<AxesSubplot:>"
      ]
     },
     "execution_count": 21,
     "metadata": {},
     "output_type": "execute_result"
    },
    {
     "data": {
      "image/png": "[encoded data removed]",
      "text/plain": [
       "<Figure size 432x288 with 1 Axes>"
      ]
     },
     "metadata": {
      "needs_background": "light"
     },
     "output_type": "display_data"
    }
   ],
   "source": [
    "a = []\n",
    "n = 4  # количество подряд идущих одинаковых значений accuracy, для досрочного выхода из цикла\n",
    "model_forest_best = 0\n",
    "best_accuracy, acc = 0, 0\n",
    "print('Прогресс:')\n",
    "for leaf in range(1, 37, 7):\n",
    "    print(leaf, ' ', end='')  \n",
    "    for split in range(2, 53, 7):\n",
    "        depth_break = []\n",
    "        for depth in range(1, 100, 1):\n",
    "            model_forest = RandomForestClassifier(n_estimators=36, random_state=54321, max_depth=depth, min_samples_split=split, min_samples_leaf=leaf)\n",
    "            model_forest.fit(features_train, target_train)\n",
    "            prediction_forest = model_forest.predict(features_valid)\n",
    "            acc = accuracy_score(target_valid, prediction_forest)\n",
    "            depth_break.append(acc)\n",
    "            a.append(acc)\n",
    "            if acc >= best_accuracy:\n",
    "                best_accuracy = acc\n",
    "                model_forest_best = model_forest\n",
    "#                print('best ------ ', best_accuracy, depth, split, leaf)\n",
    "            if loop_break(depth_break, acc, n) : break\n",
    "               \n",
    "print('\\nМаксимальное значение accuracy:', best_accuracy, '\\nЛучшая модель:', model_forest_best)\n",
    "pd.DataFrame({'acc_forest':a[1:]}).plot(grid=True)"
   ]
  },
  {
   "cell_type": "markdown",
   "metadata": {},
   "source": [
    "На графике виден один максимум соответствующий лесу из 36 деревьев с глубиной 28, потом правильность модели начинает снижаться."
   ]
  },
  {
   "cell_type": "code",
   "execution_count": 22,
   "metadata": {},
   "outputs": [
    {
     "name": "stdout",
     "output_type": "stream",
     "text": [
      "Количество правильных ответов - 517, неправильных - 126, всего - 643, правильных - 80.4 %\n"
     ]
    }
   ],
   "source": [
    "error_count(target_valid, model_forest_best.predict(features_valid))\n",
    "pass"
   ]
  },
  {
   "cell_type": "code",
   "execution_count": 23,
   "metadata": {},
   "outputs": [
    {
     "data": {
      "text/plain": [
       "0.8040435458786936"
      ]
     },
     "execution_count": 23,
     "metadata": {},
     "output_type": "execute_result"
    }
   ],
   "source": [
    "accuracy_score(target_valid, model_forest_best.predict(features_valid))"
   ]
  },
  {
   "cell_type": "markdown",
   "metadata": {},
   "source": [
    "**Вывод:**  \n",
    "Изменяя гиперпараметры получилось улучшить модель с 511 (79.47 %) правильных ответов, до 517 (80.4 %) на валидационной выборке.\n",
    "Лучшая модель дерева решений: RandomForestClassifier(max_depth=28, n_estimators=36, random_state=54321).  \n",
    "Модель Случайный лес хорошо справляется и с параметрами по умолчанию, подбирая гиперпараметры получилось улучшить модель незначительно.  \n",
    "\n"
   ]
  },
  {
   "cell_type": "markdown",
   "metadata": {},
   "source": [
    "### Логистическая регрессия"
   ]
  },
  {
   "cell_type": "markdown",
   "metadata": {},
   "source": [
    "Создадим и обучим модель логистическая регрессия с параметрами по умолчанию."
   ]
  },
  {
   "cell_type": "code",
   "execution_count": 24,
   "metadata": {},
   "outputs": [
    {
     "data": {
      "text/plain": [
       "0.6734059097978227"
      ]
     },
     "execution_count": 24,
     "metadata": {},
     "output_type": "execute_result"
    }
   ],
   "source": [
    "def get_logreg(iter=100):\n",
    "    model_logreg_norm = LogisticRegression(random_state=54321, solver='lbfgs', max_iter=iter)\n",
    "    model_logreg_norm.fit(features_train, target_train)\n",
    "    return {'model' : model_logreg_norm, 'predict' : model_logreg_norm.predict(features_valid)}\n",
    "\n",
    "model_logreg_norm = get_logreg()\n",
    "accuracy_score(target_valid, model_logreg_norm['predict'])"
   ]
  },
  {
   "cell_type": "code",
   "execution_count": 25,
   "metadata": {},
   "outputs": [
    {
     "data": {
      "text/plain": [
       "0.6734059097978227"
      ]
     },
     "execution_count": 25,
     "metadata": {},
     "output_type": "execute_result"
    }
   ],
   "source": [
    "model_logreg_norm['model'].score(features_valid, target_valid)"
   ]
  },
  {
   "cell_type": "markdown",
   "metadata": {},
   "source": [
    "Значение accuracy равно 0.6734059097978227"
   ]
  },
  {
   "cell_type": "code",
   "execution_count": 26,
   "metadata": {},
   "outputs": [
    {
     "name": "stdout",
     "output_type": "stream",
     "text": [
      "Количество правильных ответов - 433, неправильных - 210, всего - 643, правильных - 67.34 %\n"
     ]
    }
   ],
   "source": [
    "error_count(target_valid, model_logreg_norm['model'].predict(features_valid))\n",
    "pass"
   ]
  },
  {
   "cell_type": "markdown",
   "metadata": {},
   "source": [
    "Пока модель логистическая регрессия показывает худшие результаты.  \n",
    "Попробуем подобрать гиперпараметры."
   ]
  },
  {
   "cell_type": "markdown",
   "metadata": {},
   "source": [
    "Переберем значения гиперпараметра \"количество итераций\" в цикле."
   ]
  },
  {
   "cell_type": "code",
   "execution_count": 27,
   "metadata": {},
   "outputs": [
    {
     "data": {
      "image/png": "[encoded data removed]",
      "text/plain": [
       "<Figure size 432x288 with 1 Axes>"
      ]
     },
     "metadata": {
      "needs_background": "light"
     },
     "output_type": "display_data"
    }
   ],
   "source": [
    "acc = []\n",
    "for i in range(30, 50000, 50):\n",
    "    acc.append(get_logreg(i)['model'].score(features_valid, target_valid))\n",
    "pd.DataFrame({'acc_logreg':acc}).plot(grid=True)\n",
    "pass"
   ]
  },
  {
   "cell_type": "markdown",
   "metadata": {},
   "source": [
    "Из графика следует, что на модели логистическая регрессия на предоставленных данных метрика accuracy от гиперпараметра \"количество итераций\" не зависит. "
   ]
  },
  {
   "cell_type": "markdown",
   "metadata": {},
   "source": [
    "**Вывод:**  \n",
    "Модель логистическая регрессия показала следующие результаты:  \n",
    "Количество правильных ответов - 433, неправильных - 210, всего - 643, правильных - 67.34 %  \n",
    "Accuracy равно 0.6734059097978227  \n",
    "Изменение гиперпараметра на результат не повлияло."
   ]
  },
  {
   "cell_type": "markdown",
   "metadata": {},
   "source": [
    "**Общий вывод по 3 пункту:**  \n",
    "`Дерево решений` с гиперпараметрами:  \n",
    "по умолчанию - Количество правильных ответов - 460, неправильных - 183, всего - 643, правильных - 71.54 %  \n",
    "подобранные - Количество правильных ответов - 510, неправильных - 133, всего - 643, правильных - 79.32 %  \n",
    "`Случайный лес` с гиперпараметрами:  \n",
    "по умолчанию - Количество правильных ответов - 511, неправильных - 132, всего - 643, правильных - 79.47 %  \n",
    "подобранные - Количество правильных ответов - 517, неправильных - 126, всего - 643, правильных - 80.4 %  \n",
    "`Логистическая регрессия` с гиперпараметрами:  \n",
    "по умолчанию - Количество правильных ответов - 433, неправильных - 210, всего - 643, правильных - 67.34 %  \n",
    "подобранные - Количество правильных ответов - 433, неправильных - 210, всего - 643, правильных - 67.34 %  \n",
    "\n",
    "Наилучшие результаты показала модель СЛУЧАЙНЫЙ ЛЕС с подобранными гиперпараметрами, но и времени на расчеты потребовала значительно больше, чем остальные модели.  \n",
    "Лучшая модель - RandomForestClassifier(max_depth=28, n_estimators=36, random_state=54321)  \n",
    "Лучшая accuracy - 0.8040435458786936  \n",
    "\n",
    "Модель `случайный лес` с парамертрами по умолчанию показывает такие же результаты, как модель `дерево решений` с подобранными гиперпараметрами.  \n",
    "\n",
    "Самые плохие результаты показала модель - логистическая регрессия.  \n",
    "Accuracy - 0.6734059097978227"
   ]
  },
  {
   "cell_type": "markdown",
   "metadata": {},
   "source": [
    "## Проверьте модель на тестовой выборке"
   ]
  },
  {
   "cell_type": "markdown",
   "metadata": {},
   "source": [
    "### Проверим модель дерево решений на тестовой выборке."
   ]
  },
  {
   "cell_type": "code",
   "execution_count": 28,
   "metadata": {},
   "outputs": [
    {
     "name": "stdout",
     "output_type": "stream",
     "text": [
      "Дерево решений, лучшая модель, accuracy равно:\n"
     ]
    },
    {
     "data": {
      "text/plain": [
       "0.833592534992224"
      ]
     },
     "execution_count": 28,
     "metadata": {},
     "output_type": "execute_result"
    }
   ],
   "source": [
    "print('Дерево решений, лучшая модель, accuracy равно:')\n",
    "accuracy_score(target_test, model_tree_best.predict(features_test))"
   ]
  },
  {
   "cell_type": "code",
   "execution_count": 29,
   "metadata": {},
   "outputs": [
    {
     "name": "stdout",
     "output_type": "stream",
     "text": [
      "Дерево решений, модель по умолчанию, accuracy равно:\n"
     ]
    },
    {
     "data": {
      "text/plain": [
       "0.7433903576982893"
      ]
     },
     "execution_count": 29,
     "metadata": {},
     "output_type": "execute_result"
    }
   ],
   "source": [
    "print('Дерево решений, модель по умолчанию, accuracy равно:')\n",
    "accuracy_score(target_test, model_tree_norm.predict(features_test))"
   ]
  },
  {
   "cell_type": "code",
   "execution_count": 30,
   "metadata": {},
   "outputs": [
    {
     "name": "stdout",
     "output_type": "stream",
     "text": [
      "Количество правильных ответов - 536, неправильных - 107, всего - 643, правильных - 83.36 %\n"
     ]
    }
   ],
   "source": [
    "error_count(target_test, model_tree_best.predict(features_test))\n",
    "pass"
   ]
  },
  {
   "cell_type": "markdown",
   "metadata": {},
   "source": [
    "**Вывод:**  \n",
    "Модель Дерево Решений с подобранными гиперпараметрами показала на тестовой выборке результат - `536 (83.36 %)` правильных ответов."
   ]
  },
  {
   "cell_type": "markdown",
   "metadata": {},
   "source": [
    "### Проверим модель случайный лес на тестовой выборке."
   ]
  },
  {
   "cell_type": "code",
   "execution_count": 31,
   "metadata": {},
   "outputs": [
    {
     "name": "stdout",
     "output_type": "stream",
     "text": [
      "Случайный лес, лучшая модель, accuracy равно:\n"
     ]
    },
    {
     "data": {
      "text/plain": [
       "0.8289269051321928"
      ]
     },
     "execution_count": 31,
     "metadata": {},
     "output_type": "execute_result"
    }
   ],
   "source": [
    "print('Случайный лес, лучшая модель, accuracy равно:')\n",
    "accuracy_score(target_test, model_forest_best.predict(features_test))"
   ]
  },
  {
   "cell_type": "code",
   "execution_count": 32,
   "metadata": {},
   "outputs": [
    {
     "name": "stdout",
     "output_type": "stream",
     "text": [
      "Случайный лес, модель по умолчанию, accuracy равно:\n"
     ]
    },
    {
     "data": {
      "text/plain": [
       "0.8273716951788491"
      ]
     },
     "execution_count": 32,
     "metadata": {},
     "output_type": "execute_result"
    }
   ],
   "source": [
    "print('Случайный лес, модель по умолчанию, accuracy равно:')\n",
    "accuracy_score(target_test, model_forest_norm.predict(features_test))"
   ]
  },
  {
   "cell_type": "code",
   "execution_count": 33,
   "metadata": {},
   "outputs": [
    {
     "name": "stdout",
     "output_type": "stream",
     "text": [
      "Количество правильных ответов - 533, неправильных - 110, всего - 643, правильных - 82.89 %\n"
     ]
    }
   ],
   "source": [
    "error_count(target_test, model_forest_best.predict(features_test))\n",
    "pass"
   ]
  },
  {
   "cell_type": "markdown",
   "metadata": {},
   "source": [
    "**Вывод:**  \n",
    "Модель Случайный лес с подобранными гиперпараметрами показала на тестовой выборке результат - `533 (82.89 %)` правильных ответов."
   ]
  },
  {
   "cell_type": "markdown",
   "metadata": {},
   "source": [
    "### Проверим модель логистическая регрессия на тестовой выборке."
   ]
  },
  {
   "cell_type": "code",
   "execution_count": 34,
   "metadata": {},
   "outputs": [
    {
     "name": "stdout",
     "output_type": "stream",
     "text": [
      "Логистическая регрессия, accuracy равно:\n"
     ]
    },
    {
     "data": {
      "text/plain": [
       "0.7340590979782271"
      ]
     },
     "execution_count": 34,
     "metadata": {},
     "output_type": "execute_result"
    }
   ],
   "source": [
    "print('Логистическая регрессия, accuracy равно:')\n",
    "accuracy_score(target_test, model_logreg_norm['model'].predict(features_test))"
   ]
  },
  {
   "cell_type": "code",
   "execution_count": 35,
   "metadata": {},
   "outputs": [
    {
     "name": "stdout",
     "output_type": "stream",
     "text": [
      "Количество правильных ответов - 472, неправильных - 171, всего - 643, правильных - 73.41 %\n"
     ]
    }
   ],
   "source": [
    "error_count(target_test, model_logreg_norm['model'].predict(features_test))\n",
    "pass"
   ]
  },
  {
   "cell_type": "markdown",
   "metadata": {},
   "source": [
    "**Вывод:**  \n",
    "Модель Логистическая регрессия показала на тестовой выборке результат - `472 (73.41 %)` правильных ответов."
   ]
  },
  {
   "cell_type": "markdown",
   "metadata": {},
   "source": [
    "**Вывод:**  \n",
    "Проверка на тестовой выборке показала следующие результаты:  \n",
    "   - 1. Дерево Решений с подобранными гиперпараметрами правильных предсказаний - `536 (83.36 %)`.    \n",
    "   - 2. Случайный Лес с подобранными гиперпараметрами правильных предсказаний - `533 (82.89 %)`.  \n",
    "   - 3. Логистическая регрессия правильных предсказаний - `472 (73.41 %)`."
   ]
  },
  {
   "cell_type": "code",
   "execution_count": 37,
   "metadata": {},
   "outputs": [
    {
     "name": "stdout",
     "output_type": "stream",
     "text": [
      "Количество правильных ответов - 517, неправильных - 126, всего - 643, правильных - 80.4 %\n"
     ]
    }
   ],
   "source": [
    "error_count(target_valid, model_forest_best.predict(features_valid))\n",
    "pass"
   ]
  },
  {
   "cell_type": "markdown",
   "metadata": {},
   "source": [
    "На тестовых данных эта модель показывает следующие результаты:"
   ]
  },
  {
   "cell_type": "code",
   "execution_count": 40,
   "metadata": {},
   "outputs": [
    {
     "name": "stdout",
     "output_type": "stream",
     "text": [
      "Количество правильных ответов - 532, неправильных - 111, всего - 643, правильных - 82.74 %\n"
     ]
    }
   ],
   "source": [
    "error_count(target_test, model_forest_norm.predict(features_test))\n",
    "pass"
   ]
  },
  {
   "cell_type": "markdown",
   "metadata": {},
   "source": [
    "Объединим обущающие и валидационные данные, еще раз обучим модель с этими гиперпараметрами и проверим на тестовой выборке конечный результат."
   ]
  },
  {
   "cell_type": "code",
   "execution_count": 47,
   "metadata": {},
   "outputs": [],
   "source": [
    "features_train_valid = pd.concat([features_train, features_valid])\n",
    "target_train_valid = pd.concat([target_train, target_valid])\n",
    "pass"
   ]
  },
  {
   "cell_type": "code",
   "execution_count": 48,
   "metadata": {},
   "outputs": [
    {
     "name": "stdout",
     "output_type": "stream",
     "text": [
      "Количество правильных ответов - 522, неправильных - 121, всего - 643, правильных - 81.18 %\n"
     ]
    }
   ],
   "source": [
    "model = RandomForestClassifier(max_depth=28, n_estimators=36, random_state=54321)\n",
    "model.fit(features_train_valid, target_train_valid)\n",
    "error_count(target_test, model.predict(features_test))\n",
    "pass"
   ]
  },
  {
   "cell_type": "markdown",
   "metadata": {},
   "source": [
    "Модель обученная на объединенных данный показала на тестовой выборке более низкие результаты. Похоже переобучилась."
   ]
  },
  {
   "cell_type": "markdown",
   "metadata": {},
   "source": [
    "## Проверьте модели на адекватность"
   ]
  },
  {
   "cell_type": "markdown",
   "metadata": {},
   "source": [
    "Проверка категорийной модели на адекватность производится с помощью случайной модели.  \n",
    "В нашем случае можно считать, что accuracy случайной модели равно 0.5  \n",
    "Наши модели показывают лучший результат.  \n",
    "На всякий случай проверим."
   ]
  },
  {
   "cell_type": "markdown",
   "metadata": {},
   "source": [
    "Создадим целевую тестовую выборку со случайными значениями."
   ]
  },
  {
   "cell_type": "code",
   "execution_count": 41,
   "metadata": {},
   "outputs": [],
   "source": [
    "target_test_random = target_test.copy()\n",
    "target_test_random[:] = [randint(0, 1) for i in range(len(target_test_random))]\n",
    "target_test_random_0 = target_test.copy()\n",
    "target_test_random_0[:] = 0\n",
    "#target_test_random_0"
   ]
  },
  {
   "cell_type": "markdown",
   "metadata": {},
   "source": [
    "Сравним целевую тестовую выборку со случайными значениями."
   ]
  },
  {
   "cell_type": "code",
   "execution_count": 42,
   "metadata": {},
   "outputs": [
    {
     "data": {
      "text/plain": [
       "0.48367029548989116"
      ]
     },
     "execution_count": 42,
     "metadata": {},
     "output_type": "execute_result"
    }
   ],
   "source": [
    "accuracy_score(target_test, target_test_random)"
   ]
  },
  {
   "cell_type": "code",
   "execution_count": 43,
   "metadata": {},
   "outputs": [
    {
     "data": {
      "text/plain": [
       "0.7153965785381027"
      ]
     },
     "execution_count": 43,
     "metadata": {},
     "output_type": "execute_result"
    }
   ],
   "source": [
    "accuracy_score(target_test, target_test_random_0)"
   ]
  },
  {
   "cell_type": "markdown",
   "metadata": {},
   "source": [
    "**Вывод:**  \n",
    "Сравнение целевой тестовой выбоки со случайной моделью показывает значение accuracy около 0.5  \n",
    "Наши модели показывают значения accuracy от 0,7341 до 0,8336  \n",
    "Следовательно все наши модели адекватны. \n"
   ]
  },
  {
   "cell_type": "markdown",
   "metadata": {},
   "source": [
    "**Вывод:**  \n",
    "В данном проекте на предоставленных данных получилось достичь значения accuracy равного `83.36 %`, правильно предсказать `536` значений из `643`.    \n",
    "\n",
    "В итоге на тестовых данных лучший результат показала модель `дерево решений` с подобранными гиперпараметрами. Что оказалось несколько неожиданно, так как все исследование лидировала модель `случайный лес` с подобранными гиперпараметрами.  \n",
    "Лучшая модель - `DecisionTreeClassifier(max_depth=7, min_samples_leaf=10, min_samples_split=56, random_state=54321)`  \n",
    "Модель `случайный лес` отстала на 3 правильных предсказания и на тестовой выборке показала результат `82.89 %`.\n",
    "\n"
   ]
  }
 ],
 "metadata": {
  "ExecuteTimeLog": [
   {
    "duration": 427,
    "start_time": "2023-01-31T00:38:05.517Z"
   },
   {
    "duration": 149,
    "start_time": "2023-01-31T00:38:41.189Z"
   },
   {
    "duration": 38,
    "start_time": "2023-01-31T00:39:25.490Z"
   },
   {
    "duration": 6,
    "start_time": "2023-01-31T00:53:52.139Z"
   },
   {
    "duration": 13,
    "start_time": "2023-01-31T00:53:59.377Z"
   },
   {
    "duration": 4,
    "start_time": "2023-01-31T00:54:11.382Z"
   },
   {
    "duration": 63,
    "start_time": "2023-01-31T01:03:20.035Z"
   },
   {
    "duration": 655,
    "start_time": "2023-01-31T01:03:26.281Z"
   },
   {
    "duration": 19,
    "start_time": "2023-01-31T01:03:31.812Z"
   },
   {
    "duration": 21,
    "start_time": "2023-01-31T01:04:28.187Z"
   },
   {
    "duration": 22,
    "start_time": "2023-01-31T01:05:57.819Z"
   },
   {
    "duration": 14,
    "start_time": "2023-01-31T01:06:40.123Z"
   },
   {
    "duration": 14,
    "start_time": "2023-01-31T01:07:09.433Z"
   },
   {
    "duration": 14,
    "start_time": "2023-01-31T01:07:21.057Z"
   },
   {
    "duration": 12,
    "start_time": "2023-01-31T01:07:35.172Z"
   },
   {
    "duration": 9,
    "start_time": "2023-01-31T01:08:15.872Z"
   },
   {
    "duration": 6,
    "start_time": "2023-01-31T01:08:21.921Z"
   },
   {
    "duration": 42,
    "start_time": "2023-01-31T01:12:09.279Z"
   },
   {
    "duration": 8,
    "start_time": "2023-01-31T01:12:22.952Z"
   },
   {
    "duration": 10,
    "start_time": "2023-01-31T01:12:42.361Z"
   },
   {
    "duration": 8,
    "start_time": "2023-01-31T01:12:54.375Z"
   },
   {
    "duration": 9,
    "start_time": "2023-01-31T01:13:04.919Z"
   },
   {
    "duration": 5,
    "start_time": "2023-01-31T01:13:34.534Z"
   },
   {
    "duration": 9,
    "start_time": "2023-01-31T01:13:44.728Z"
   },
   {
    "duration": 3,
    "start_time": "2023-01-31T01:13:55.343Z"
   },
   {
    "duration": 7,
    "start_time": "2023-01-31T01:14:19.470Z"
   },
   {
    "duration": 4,
    "start_time": "2023-01-31T01:14:26.823Z"
   },
   {
    "duration": 4,
    "start_time": "2023-01-31T01:15:07.974Z"
   },
   {
    "duration": 1186,
    "start_time": "2023-01-31T09:35:44.302Z"
   },
   {
    "duration": 101,
    "start_time": "2023-01-31T09:47:56.591Z"
   },
   {
    "duration": 3,
    "start_time": "2023-01-31T09:48:12.936Z"
   },
   {
    "duration": 136,
    "start_time": "2023-01-31T09:48:12.942Z"
   },
   {
    "duration": 4,
    "start_time": "2023-01-31T09:48:13.080Z"
   },
   {
    "duration": 10,
    "start_time": "2023-01-31T09:48:13.087Z"
   },
   {
    "duration": 16,
    "start_time": "2023-01-31T09:48:13.099Z"
   },
   {
    "duration": 9,
    "start_time": "2023-01-31T09:48:13.118Z"
   },
   {
    "duration": 18,
    "start_time": "2023-01-31T09:48:19.606Z"
   },
   {
    "duration": 6,
    "start_time": "2023-01-31T09:48:50.709Z"
   },
   {
    "duration": 11,
    "start_time": "2023-01-31T09:48:59.653Z"
   },
   {
    "duration": 8,
    "start_time": "2023-01-31T09:49:25.517Z"
   },
   {
    "duration": 6,
    "start_time": "2023-01-31T09:50:00.012Z"
   },
   {
    "duration": 6,
    "start_time": "2023-01-31T09:50:42.461Z"
   },
   {
    "duration": 9,
    "start_time": "2023-01-31T09:50:55.611Z"
   },
   {
    "duration": 5,
    "start_time": "2023-01-31T09:51:07.485Z"
   },
   {
    "duration": 663,
    "start_time": "2023-01-31T10:04:14.477Z"
   },
   {
    "duration": 4,
    "start_time": "2023-01-31T10:05:00.037Z"
   },
   {
    "duration": 12,
    "start_time": "2023-01-31T10:05:16.154Z"
   },
   {
    "duration": 6,
    "start_time": "2023-01-31T10:05:23.642Z"
   },
   {
    "duration": 4,
    "start_time": "2023-01-31T10:05:51.235Z"
   },
   {
    "duration": 8,
    "start_time": "2023-01-31T10:06:00.611Z"
   },
   {
    "duration": 5,
    "start_time": "2023-01-31T10:06:21.636Z"
   },
   {
    "duration": 609,
    "start_time": "2023-01-31T10:06:42.722Z"
   },
   {
    "duration": 615,
    "start_time": "2023-01-31T10:06:48.570Z"
   },
   {
    "duration": 6,
    "start_time": "2023-01-31T10:07:06.795Z"
   },
   {
    "duration": 5,
    "start_time": "2023-01-31T10:08:49.587Z"
   },
   {
    "duration": 5,
    "start_time": "2023-01-31T10:08:59.425Z"
   },
   {
    "duration": 5,
    "start_time": "2023-01-31T10:09:06.465Z"
   },
   {
    "duration": 3,
    "start_time": "2023-01-31T10:19:12.187Z"
   },
   {
    "duration": 71,
    "start_time": "2023-01-31T10:23:24.799Z"
   },
   {
    "duration": 4,
    "start_time": "2023-01-31T10:23:51.054Z"
   },
   {
    "duration": 3,
    "start_time": "2023-01-31T10:24:05.983Z"
   },
   {
    "duration": 4,
    "start_time": "2023-01-31T10:25:07.102Z"
   },
   {
    "duration": 3,
    "start_time": "2023-01-31T10:25:21.180Z"
   },
   {
    "duration": 5,
    "start_time": "2023-01-31T10:25:42.479Z"
   },
   {
    "duration": 4,
    "start_time": "2023-01-31T10:26:00.775Z"
   },
   {
    "duration": 4,
    "start_time": "2023-01-31T10:26:03.190Z"
   },
   {
    "duration": 3,
    "start_time": "2023-01-31T10:26:31.430Z"
   },
   {
    "duration": 5,
    "start_time": "2023-01-31T10:26:33.718Z"
   },
   {
    "duration": 6,
    "start_time": "2023-01-31T10:30:41.739Z"
   },
   {
    "duration": 10,
    "start_time": "2023-01-31T10:31:08.682Z"
   },
   {
    "duration": 5,
    "start_time": "2023-01-31T10:31:18.466Z"
   },
   {
    "duration": 6,
    "start_time": "2023-01-31T10:31:20.914Z"
   },
   {
    "duration": 4,
    "start_time": "2023-01-31T10:31:40.770Z"
   },
   {
    "duration": 5,
    "start_time": "2023-01-31T10:43:19.754Z"
   },
   {
    "duration": 3,
    "start_time": "2023-01-31T11:21:00.700Z"
   },
   {
    "duration": 5,
    "start_time": "2023-01-31T11:21:31.197Z"
   },
   {
    "duration": 4,
    "start_time": "2023-01-31T11:22:36.509Z"
   },
   {
    "duration": 5,
    "start_time": "2023-01-31T11:23:13.171Z"
   },
   {
    "duration": 5,
    "start_time": "2023-01-31T11:23:16.060Z"
   },
   {
    "duration": 80,
    "start_time": "2023-01-31T11:34:55.608Z"
   },
   {
    "duration": 23,
    "start_time": "2023-01-31T11:35:02.247Z"
   },
   {
    "duration": 17,
    "start_time": "2023-01-31T11:41:46.037Z"
   },
   {
    "duration": 16,
    "start_time": "2023-01-31T11:42:01.484Z"
   },
   {
    "duration": 15,
    "start_time": "2023-01-31T11:42:15.292Z"
   },
   {
    "duration": 15,
    "start_time": "2023-01-31T11:42:21.188Z"
   },
   {
    "duration": 15,
    "start_time": "2023-01-31T11:42:22.572Z"
   },
   {
    "duration": 15,
    "start_time": "2023-01-31T11:42:23.812Z"
   },
   {
    "duration": 14,
    "start_time": "2023-01-31T11:42:24.955Z"
   },
   {
    "duration": 16,
    "start_time": "2023-01-31T11:42:25.939Z"
   },
   {
    "duration": 16,
    "start_time": "2023-01-31T11:42:26.683Z"
   },
   {
    "duration": 18,
    "start_time": "2023-01-31T11:42:27.423Z"
   },
   {
    "duration": 15,
    "start_time": "2023-01-31T11:42:28.123Z"
   },
   {
    "duration": 16,
    "start_time": "2023-01-31T11:42:28.804Z"
   },
   {
    "duration": 16,
    "start_time": "2023-01-31T11:42:29.420Z"
   },
   {
    "duration": 15,
    "start_time": "2023-01-31T11:42:30.078Z"
   },
   {
    "duration": 17,
    "start_time": "2023-01-31T11:42:30.660Z"
   },
   {
    "duration": 22,
    "start_time": "2023-01-31T11:43:15.181Z"
   },
   {
    "duration": 13,
    "start_time": "2023-01-31T11:46:41.867Z"
   },
   {
    "duration": 21,
    "start_time": "2023-01-31T11:46:48.737Z"
   },
   {
    "duration": 21,
    "start_time": "2023-01-31T11:47:37.888Z"
   },
   {
    "duration": 17,
    "start_time": "2023-01-31T11:48:19.121Z"
   },
   {
    "duration": 16,
    "start_time": "2023-01-31T11:48:24.185Z"
   },
   {
    "duration": 17,
    "start_time": "2023-01-31T11:48:32.556Z"
   },
   {
    "duration": 95,
    "start_time": "2023-01-31T11:56:24.665Z"
   },
   {
    "duration": 17,
    "start_time": "2023-01-31T11:56:30.924Z"
   },
   {
    "duration": 15,
    "start_time": "2023-01-31T11:58:35.879Z"
   },
   {
    "duration": 10,
    "start_time": "2023-01-31T11:58:49.199Z"
   },
   {
    "duration": 20,
    "start_time": "2023-01-31T11:59:07.600Z"
   },
   {
    "duration": 10,
    "start_time": "2023-01-31T12:00:47.591Z"
   },
   {
    "duration": 15,
    "start_time": "2023-01-31T12:01:00.037Z"
   },
   {
    "duration": 20,
    "start_time": "2023-01-31T12:01:05.830Z"
   },
   {
    "duration": 24,
    "start_time": "2023-01-31T12:01:39.198Z"
   },
   {
    "duration": 13,
    "start_time": "2023-01-31T12:04:28.498Z"
   },
   {
    "duration": 3,
    "start_time": "2023-01-31T12:05:02.161Z"
   },
   {
    "duration": 18,
    "start_time": "2023-01-31T12:05:09.290Z"
   },
   {
    "duration": 76,
    "start_time": "2023-01-31T12:08:24.581Z"
   },
   {
    "duration": 1223,
    "start_time": "2023-01-31T12:08:29.559Z"
   },
   {
    "duration": 1197,
    "start_time": "2023-01-31T12:08:45.590Z"
   },
   {
    "duration": 1227,
    "start_time": "2023-01-31T12:09:34.853Z"
   },
   {
    "duration": 3,
    "start_time": "2023-01-31T12:11:19.267Z"
   },
   {
    "duration": 260,
    "start_time": "2023-01-31T12:11:41.588Z"
   },
   {
    "duration": 261,
    "start_time": "2023-01-31T12:11:50.301Z"
   },
   {
    "duration": 281,
    "start_time": "2023-01-31T12:12:28.550Z"
   },
   {
    "duration": 252,
    "start_time": "2023-01-31T12:12:44.020Z"
   },
   {
    "duration": 942,
    "start_time": "2023-01-31T12:13:11.013Z"
   },
   {
    "duration": 410,
    "start_time": "2023-01-31T12:13:32.451Z"
   },
   {
    "duration": 398,
    "start_time": "2023-01-31T12:14:56.360Z"
   },
   {
    "duration": 638,
    "start_time": "2023-01-31T12:15:03.314Z"
   },
   {
    "duration": 726,
    "start_time": "2023-01-31T12:16:38.768Z"
   },
   {
    "duration": 299,
    "start_time": "2023-01-31T12:26:34.889Z"
   },
   {
    "duration": 344,
    "start_time": "2023-01-31T12:26:45.857Z"
   },
   {
    "duration": 472,
    "start_time": "2023-01-31T12:27:28.727Z"
   },
   {
    "duration": 334,
    "start_time": "2023-01-31T12:28:03.456Z"
   },
   {
    "duration": 325,
    "start_time": "2023-01-31T12:28:27.479Z"
   },
   {
    "duration": 22,
    "start_time": "2023-01-31T12:38:48.242Z"
   },
   {
    "duration": 364,
    "start_time": "2023-01-31T12:39:32.225Z"
   },
   {
    "duration": 336,
    "start_time": "2023-01-31T12:39:40.415Z"
   },
   {
    "duration": 346,
    "start_time": "2023-01-31T12:39:52.274Z"
   },
   {
    "duration": 608,
    "start_time": "2023-01-31T12:39:59.993Z"
   },
   {
    "duration": 665,
    "start_time": "2023-01-31T12:40:07.906Z"
   },
   {
    "duration": 580,
    "start_time": "2023-01-31T12:40:50.776Z"
   },
   {
    "duration": 664,
    "start_time": "2023-01-31T12:41:34.863Z"
   },
   {
    "duration": 696,
    "start_time": "2023-01-31T12:42:20.720Z"
   },
   {
    "duration": 586,
    "start_time": "2023-01-31T12:42:37.976Z"
   },
   {
    "duration": 642,
    "start_time": "2023-01-31T12:42:58.215Z"
   },
   {
    "duration": 565,
    "start_time": "2023-01-31T12:43:26.167Z"
   },
   {
    "duration": 550,
    "start_time": "2023-01-31T12:43:41.600Z"
   },
   {
    "duration": 83,
    "start_time": "2023-01-31T18:18:56.390Z"
   },
   {
    "duration": 16,
    "start_time": "2023-01-31T18:19:10.001Z"
   },
   {
    "duration": 191233,
    "start_time": "2023-01-31T18:19:34.958Z"
   },
   {
    "duration": 70,
    "start_time": "2023-01-31T18:22:52.380Z"
   },
   {
    "duration": 13900,
    "start_time": "2023-01-31T18:23:04.764Z"
   },
   {
    "duration": 75058,
    "start_time": "2023-01-31T18:23:30.448Z"
   },
   {
    "duration": 518683,
    "start_time": "2023-01-31T18:24:58.706Z"
   },
   {
    "duration": 22,
    "start_time": "2023-01-31T18:37:02.980Z"
   },
   {
    "duration": 3,
    "start_time": "2023-01-31T18:46:27.056Z"
   },
   {
    "duration": 82,
    "start_time": "2023-01-31T18:47:12.352Z"
   },
   {
    "duration": 91,
    "start_time": "2023-01-31T18:47:31.128Z"
   },
   {
    "duration": 13,
    "start_time": "2023-01-31T18:47:56.096Z"
   },
   {
    "duration": 11607,
    "start_time": "2023-01-31T18:48:10.824Z"
   },
   {
    "duration": 84,
    "start_time": "2023-01-31T18:50:49.892Z"
   },
   {
    "duration": 73574,
    "start_time": "2023-01-31T18:50:55.357Z"
   },
   {
    "duration": 6,
    "start_time": "2023-01-31T18:53:23.898Z"
   },
   {
    "duration": 4,
    "start_time": "2023-01-31T20:11:20.579Z"
   },
   {
    "duration": 90040,
    "start_time": "2023-01-31T20:11:51.300Z"
   },
   {
    "duration": 34816,
    "start_time": "2023-01-31T20:15:41.705Z"
   },
   {
    "duration": 29435,
    "start_time": "2023-01-31T20:16:35.712Z"
   },
   {
    "duration": 77251,
    "start_time": "2023-01-31T20:17:07.951Z"
   },
   {
    "duration": 220046,
    "start_time": "2023-01-31T20:21:56.844Z"
   },
   {
    "duration": 6,
    "start_time": "2023-01-31T20:48:24.281Z"
   },
   {
    "duration": 1516,
    "start_time": "2023-01-31T20:48:39.067Z"
   },
   {
    "duration": 29502,
    "start_time": "2023-01-31T20:48:53.115Z"
   },
   {
    "duration": 6,
    "start_time": "2023-01-31T20:52:24.987Z"
   },
   {
    "duration": 12193,
    "start_time": "2023-01-31T20:52:38.744Z"
   },
   {
    "duration": 10598,
    "start_time": "2023-01-31T20:54:02.279Z"
   },
   {
    "duration": 10867,
    "start_time": "2023-01-31T20:54:27.700Z"
   },
   {
    "duration": 18,
    "start_time": "2023-01-31T20:57:06.189Z"
   },
   {
    "duration": 18,
    "start_time": "2023-01-31T21:02:22.178Z"
   },
   {
    "duration": 18,
    "start_time": "2023-01-31T21:02:31.122Z"
   },
   {
    "duration": 17,
    "start_time": "2023-01-31T21:02:49.004Z"
   },
   {
    "duration": 84,
    "start_time": "2023-01-31T21:20:00.168Z"
   },
   {
    "duration": 27,
    "start_time": "2023-01-31T21:20:27.334Z"
   },
   {
    "duration": 547,
    "start_time": "2023-01-31T21:20:41.455Z"
   },
   {
    "duration": 20,
    "start_time": "2023-01-31T21:21:39.133Z"
   },
   {
    "duration": 679,
    "start_time": "2023-01-31T21:21:52.087Z"
   },
   {
    "duration": 692,
    "start_time": "2023-01-31T21:23:20.482Z"
   },
   {
    "duration": 5003,
    "start_time": "2023-01-31T21:28:14.008Z"
   },
   {
    "duration": 11756,
    "start_time": "2023-01-31T21:29:21.398Z"
   },
   {
    "duration": 15434,
    "start_time": "2023-01-31T21:29:46.203Z"
   },
   {
    "duration": 11950,
    "start_time": "2023-01-31T21:33:22.629Z"
   },
   {
    "duration": 4303,
    "start_time": "2023-01-31T21:33:51.952Z"
   },
   {
    "duration": 11268,
    "start_time": "2023-01-31T21:34:41.974Z"
   },
   {
    "duration": 11819,
    "start_time": "2023-01-31T21:35:00.907Z"
   },
   {
    "duration": 11915,
    "start_time": "2023-01-31T21:35:50.492Z"
   },
   {
    "duration": 12024,
    "start_time": "2023-01-31T21:36:19.622Z"
   },
   {
    "duration": 6,
    "start_time": "2023-01-31T21:37:37.377Z"
   },
   {
    "duration": 4,
    "start_time": "2023-01-31T21:38:02.897Z"
   },
   {
    "duration": 12,
    "start_time": "2023-01-31T21:40:08.223Z"
   },
   {
    "duration": 6,
    "start_time": "2023-01-31T21:40:37.078Z"
   },
   {
    "duration": 6,
    "start_time": "2023-01-31T21:55:48.378Z"
   },
   {
    "duration": 11608,
    "start_time": "2023-01-31T22:06:16.187Z"
   },
   {
    "duration": 11994,
    "start_time": "2023-01-31T22:08:28.529Z"
   },
   {
    "duration": 18,
    "start_time": "2023-01-31T22:12:37.550Z"
   },
   {
    "duration": 4,
    "start_time": "2023-01-31T22:13:07.581Z"
   },
   {
    "duration": 4,
    "start_time": "2023-01-31T22:13:46.887Z"
   },
   {
    "duration": 11865,
    "start_time": "2023-01-31T22:20:09.587Z"
   },
   {
    "duration": 11775,
    "start_time": "2023-01-31T22:20:33.279Z"
   },
   {
    "duration": 7,
    "start_time": "2023-01-31T22:23:15.695Z"
   },
   {
    "duration": 9,
    "start_time": "2023-01-31T22:31:27.163Z"
   },
   {
    "duration": 10,
    "start_time": "2023-01-31T22:31:42.932Z"
   },
   {
    "duration": 13,
    "start_time": "2023-01-31T22:31:49.836Z"
   },
   {
    "duration": 5,
    "start_time": "2023-01-31T22:32:01.692Z"
   },
   {
    "duration": 4,
    "start_time": "2023-01-31T22:32:14.359Z"
   },
   {
    "duration": 10,
    "start_time": "2023-01-31T22:33:14.513Z"
   },
   {
    "duration": 7,
    "start_time": "2023-01-31T22:33:29.002Z"
   },
   {
    "duration": 7,
    "start_time": "2023-01-31T22:33:32.298Z"
   },
   {
    "duration": 7,
    "start_time": "2023-01-31T22:33:34.644Z"
   },
   {
    "duration": 5,
    "start_time": "2023-01-31T22:34:54.774Z"
   },
   {
    "duration": 6,
    "start_time": "2023-01-31T22:35:03.396Z"
   },
   {
    "duration": 10,
    "start_time": "2023-01-31T22:35:05.644Z"
   },
   {
    "duration": 14,
    "start_time": "2023-01-31T22:43:05.108Z"
   },
   {
    "duration": 11688,
    "start_time": "2023-01-31T22:43:10.700Z"
   },
   {
    "duration": 46867,
    "start_time": "2023-01-31T22:43:56.640Z"
   },
   {
    "duration": 40386,
    "start_time": "2023-01-31T22:45:38.864Z"
   },
   {
    "duration": 41940,
    "start_time": "2023-01-31T22:47:35.214Z"
   },
   {
    "duration": 12389,
    "start_time": "2023-01-31T22:50:18.385Z"
   },
   {
    "duration": 12250,
    "start_time": "2023-01-31T22:50:34.697Z"
   },
   {
    "duration": 17,
    "start_time": "2023-01-31T22:53:34.180Z"
   },
   {
    "duration": 6,
    "start_time": "2023-01-31T22:53:43.461Z"
   },
   {
    "duration": 12,
    "start_time": "2023-01-31T22:59:38.851Z"
   },
   {
    "duration": 110,
    "start_time": "2023-01-31T23:02:20.985Z"
   },
   {
    "duration": 433,
    "start_time": "2023-01-31T23:02:29.975Z"
   },
   {
    "duration": 6,
    "start_time": "2023-01-31T23:02:35.649Z"
   },
   {
    "duration": 3,
    "start_time": "2023-01-31T23:14:16.383Z"
   },
   {
    "duration": 410,
    "start_time": "2023-01-31T23:14:59.960Z"
   },
   {
    "duration": 13,
    "start_time": "2023-01-31T23:20:23.047Z"
   },
   {
    "duration": 11759,
    "start_time": "2023-01-31T23:20:32.488Z"
   },
   {
    "duration": 19,
    "start_time": "2023-01-31T23:20:46.733Z"
   },
   {
    "duration": 2126,
    "start_time": "2023-01-31T23:22:53.886Z"
   },
   {
    "duration": 431,
    "start_time": "2023-01-31T23:23:11.151Z"
   },
   {
    "duration": 2602,
    "start_time": "2023-01-31T23:24:01.086Z"
   },
   {
    "duration": 2853,
    "start_time": "2023-01-31T23:28:09.878Z"
   },
   {
    "duration": 8659,
    "start_time": "2023-01-31T23:28:24.531Z"
   },
   {
    "duration": 1563,
    "start_time": "2023-01-31T23:28:42.410Z"
   },
   {
    "duration": 2009,
    "start_time": "2023-01-31T23:28:49.011Z"
   },
   {
    "duration": 2317,
    "start_time": "2023-01-31T23:28:54.380Z"
   },
   {
    "duration": 2268,
    "start_time": "2023-01-31T23:30:52.178Z"
   },
   {
    "duration": 2038,
    "start_time": "2023-01-31T23:31:09.381Z"
   },
   {
    "duration": 2344,
    "start_time": "2023-01-31T23:31:27.930Z"
   },
   {
    "duration": 29838,
    "start_time": "2023-01-31T23:33:55.968Z"
   },
   {
    "duration": 123381,
    "start_time": "2023-01-31T23:35:31.327Z"
   },
   {
    "duration": 81628,
    "start_time": "2023-01-31T23:38:21.647Z"
   },
   {
    "duration": 41697,
    "start_time": "2023-01-31T23:39:54.064Z"
   },
   {
    "duration": 34176,
    "start_time": "2023-01-31T23:40:59.349Z"
   },
   {
    "duration": 17332,
    "start_time": "2023-01-31T23:42:10.495Z"
   },
   {
    "duration": 2719,
    "start_time": "2023-01-31T23:42:35.162Z"
   },
   {
    "duration": 20302,
    "start_time": "2023-01-31T23:43:50.178Z"
   },
   {
    "duration": 25070,
    "start_time": "2023-01-31T23:44:23.631Z"
   },
   {
    "duration": 63119,
    "start_time": "2023-01-31T23:44:51.337Z"
   },
   {
    "duration": 21777,
    "start_time": "2023-01-31T23:46:10.752Z"
   },
   {
    "duration": 478610,
    "start_time": "2023-01-31T23:46:34.250Z"
   },
   {
    "duration": 1120,
    "start_time": "2023-02-01T06:59:56.282Z"
   },
   {
    "duration": 180,
    "start_time": "2023-02-01T06:59:57.404Z"
   },
   {
    "duration": 3,
    "start_time": "2023-02-01T06:59:57.586Z"
   },
   {
    "duration": 17,
    "start_time": "2023-02-01T06:59:57.591Z"
   },
   {
    "duration": 9,
    "start_time": "2023-02-01T06:59:57.609Z"
   },
   {
    "duration": 5,
    "start_time": "2023-02-01T06:59:57.620Z"
   },
   {
    "duration": 20,
    "start_time": "2023-02-01T06:59:57.626Z"
   },
   {
    "duration": 3,
    "start_time": "2023-02-01T06:59:57.648Z"
   },
   {
    "duration": 7,
    "start_time": "2023-02-01T06:59:57.653Z"
   },
   {
    "duration": 11474,
    "start_time": "2023-02-01T06:59:57.662Z"
   },
   {
    "duration": 0,
    "start_time": "2023-02-01T07:00:09.137Z"
   },
   {
    "duration": 0,
    "start_time": "2023-02-01T07:00:09.139Z"
   },
   {
    "duration": 0,
    "start_time": "2023-02-01T07:00:09.140Z"
   },
   {
    "duration": 0,
    "start_time": "2023-02-01T07:00:09.141Z"
   },
   {
    "duration": 0,
    "start_time": "2023-02-01T07:00:09.142Z"
   },
   {
    "duration": 10768,
    "start_time": "2023-02-01T07:00:41.780Z"
   },
   {
    "duration": 3,
    "start_time": "2023-02-01T07:01:01.690Z"
   },
   {
    "duration": 55,
    "start_time": "2023-02-01T07:01:01.696Z"
   },
   {
    "duration": 4,
    "start_time": "2023-02-01T07:01:01.753Z"
   },
   {
    "duration": 31,
    "start_time": "2023-02-01T07:01:01.759Z"
   },
   {
    "duration": 48,
    "start_time": "2023-02-01T07:01:01.793Z"
   },
   {
    "duration": 37,
    "start_time": "2023-02-01T07:01:01.843Z"
   },
   {
    "duration": 36,
    "start_time": "2023-02-01T07:01:01.882Z"
   },
   {
    "duration": 5,
    "start_time": "2023-02-01T07:01:01.920Z"
   },
   {
    "duration": 36,
    "start_time": "2023-02-01T07:01:01.926Z"
   },
   {
    "duration": 11127,
    "start_time": "2023-02-01T07:01:01.964Z"
   },
   {
    "duration": 11,
    "start_time": "2023-02-01T07:01:13.092Z"
   },
   {
    "duration": 425,
    "start_time": "2023-02-01T07:01:13.105Z"
   },
   {
    "duration": 5,
    "start_time": "2023-02-01T07:01:13.532Z"
   },
   {
    "duration": 2190,
    "start_time": "2023-02-01T07:01:13.539Z"
   },
   {
    "duration": 480863,
    "start_time": "2023-02-01T07:01:15.730Z"
   },
   {
    "duration": 4,
    "start_time": "2023-02-01T07:09:30.981Z"
   },
   {
    "duration": 27237,
    "start_time": "2023-02-01T07:09:52.502Z"
   },
   {
    "duration": 191134,
    "start_time": "2023-02-01T07:10:30.839Z"
   },
   {
    "duration": 7,
    "start_time": "2023-02-01T07:14:04.446Z"
   },
   {
    "duration": 8,
    "start_time": "2023-02-01T07:14:12.910Z"
   },
   {
    "duration": 9,
    "start_time": "2023-02-01T07:14:22.981Z"
   },
   {
    "duration": 7,
    "start_time": "2023-02-01T07:14:40.183Z"
   },
   {
    "duration": 8,
    "start_time": "2023-02-01T07:15:10.148Z"
   },
   {
    "duration": 10,
    "start_time": "2023-02-01T07:15:38.866Z"
   },
   {
    "duration": 591,
    "start_time": "2023-02-01T07:17:12.394Z"
   },
   {
    "duration": 149,
    "start_time": "2023-02-01T07:17:59.993Z"
   },
   {
    "duration": 156,
    "start_time": "2023-02-01T07:18:46.435Z"
   },
   {
    "duration": 65653,
    "start_time": "2023-02-01T07:19:09.945Z"
   },
   {
    "duration": 168,
    "start_time": "2023-02-01T07:20:35.128Z"
   },
   {
    "duration": 4,
    "start_time": "2023-02-01T07:21:05.682Z"
   },
   {
    "duration": 220,
    "start_time": "2023-02-01T07:21:17.089Z"
   },
   {
    "duration": 336309,
    "start_time": "2023-02-01T07:22:17.054Z"
   },
   {
    "duration": 136,
    "start_time": "2023-02-01T07:30:07.225Z"
   },
   {
    "duration": 116,
    "start_time": "2023-02-01T07:31:47.586Z"
   },
   {
    "duration": 144,
    "start_time": "2023-02-01T07:32:22.736Z"
   },
   {
    "duration": 125,
    "start_time": "2023-02-01T07:32:43.145Z"
   },
   {
    "duration": 159,
    "start_time": "2023-02-01T07:33:21.881Z"
   },
   {
    "duration": 151,
    "start_time": "2023-02-01T07:34:12.662Z"
   },
   {
    "duration": 214,
    "start_time": "2023-02-01T07:34:31.326Z"
   },
   {
    "duration": 4,
    "start_time": "2023-02-01T07:35:39.430Z"
   },
   {
    "duration": 4,
    "start_time": "2023-02-01T07:35:57.838Z"
   },
   {
    "duration": 4,
    "start_time": "2023-02-01T07:36:08.815Z"
   },
   {
    "duration": 4,
    "start_time": "2023-02-01T07:36:13.503Z"
   },
   {
    "duration": 5,
    "start_time": "2023-02-01T07:36:17.893Z"
   },
   {
    "duration": 5,
    "start_time": "2023-02-01T07:37:18.022Z"
   },
   {
    "duration": 4,
    "start_time": "2023-02-01T07:37:42.300Z"
   },
   {
    "duration": 5,
    "start_time": "2023-02-01T07:37:50.764Z"
   },
   {
    "duration": 4,
    "start_time": "2023-02-01T07:37:56.789Z"
   },
   {
    "duration": 4,
    "start_time": "2023-02-01T07:38:02.237Z"
   },
   {
    "duration": 3,
    "start_time": "2023-02-01T07:38:40.652Z"
   },
   {
    "duration": 4,
    "start_time": "2023-02-01T07:39:37.970Z"
   },
   {
    "duration": 133,
    "start_time": "2023-02-01T07:41:34.966Z"
   },
   {
    "duration": 163,
    "start_time": "2023-02-01T07:41:41.225Z"
   },
   {
    "duration": 158,
    "start_time": "2023-02-01T07:41:45.924Z"
   },
   {
    "duration": 139,
    "start_time": "2023-02-01T07:42:23.602Z"
   },
   {
    "duration": 30163,
    "start_time": "2023-02-01T07:42:30.385Z"
   },
   {
    "duration": 135,
    "start_time": "2023-02-01T07:43:11.695Z"
   },
   {
    "duration": 87076,
    "start_time": "2023-02-01T07:43:46.871Z"
   },
   {
    "duration": 135,
    "start_time": "2023-02-01T07:45:22.968Z"
   },
   {
    "duration": 102813,
    "start_time": "2023-02-01T07:56:41.255Z"
   },
   {
    "duration": 155,
    "start_time": "2023-02-01T07:58:40.611Z"
   },
   {
    "duration": 173,
    "start_time": "2023-02-01T07:58:49.172Z"
   },
   {
    "duration": 38106,
    "start_time": "2023-02-01T08:00:39.755Z"
   },
   {
    "duration": 77104,
    "start_time": "2023-02-01T08:01:55.603Z"
   },
   {
    "duration": 73516,
    "start_time": "2023-02-01T08:04:25.391Z"
   },
   {
    "duration": 53064,
    "start_time": "2023-02-01T08:06:09.159Z"
   },
   {
    "duration": 4,
    "start_time": "2023-02-01T08:08:25.309Z"
   },
   {
    "duration": 3,
    "start_time": "2023-02-01T08:08:32.196Z"
   },
   {
    "duration": 82334,
    "start_time": "2023-02-01T08:08:46.755Z"
   },
   {
    "duration": 3,
    "start_time": "2023-02-01T08:11:28.040Z"
   },
   {
    "duration": 14732,
    "start_time": "2023-02-01T08:11:31.160Z"
   },
   {
    "duration": 4,
    "start_time": "2023-02-01T08:12:32.281Z"
   },
   {
    "duration": 15014,
    "start_time": "2023-02-01T08:12:34.695Z"
   },
   {
    "duration": 3,
    "start_time": "2023-02-01T08:13:31.046Z"
   },
   {
    "duration": 78969,
    "start_time": "2023-02-01T08:13:33.463Z"
   },
   {
    "duration": 3,
    "start_time": "2023-02-01T08:15:07.462Z"
   },
   {
    "duration": 74,
    "start_time": "2023-02-01T08:15:10.390Z"
   },
   {
    "duration": 87190,
    "start_time": "2023-02-01T08:15:17.822Z"
   },
   {
    "duration": 56,
    "start_time": "2023-02-02T01:10:33.277Z"
   },
   {
    "duration": 1138,
    "start_time": "2023-02-02T01:10:38.690Z"
   },
   {
    "duration": 152,
    "start_time": "2023-02-02T01:10:39.830Z"
   },
   {
    "duration": 3,
    "start_time": "2023-02-02T01:10:39.984Z"
   },
   {
    "duration": 40,
    "start_time": "2023-02-02T01:10:39.989Z"
   },
   {
    "duration": 25,
    "start_time": "2023-02-02T01:10:40.032Z"
   },
   {
    "duration": 21,
    "start_time": "2023-02-02T01:10:40.058Z"
   },
   {
    "duration": 45,
    "start_time": "2023-02-02T01:10:40.081Z"
   },
   {
    "duration": 4,
    "start_time": "2023-02-02T01:10:40.128Z"
   },
   {
    "duration": 22,
    "start_time": "2023-02-02T01:10:40.133Z"
   },
   {
    "duration": 12154,
    "start_time": "2023-02-02T01:10:40.157Z"
   },
   {
    "duration": 10,
    "start_time": "2023-02-02T01:10:52.313Z"
   },
   {
    "duration": 424,
    "start_time": "2023-02-02T01:10:58.278Z"
   },
   {
    "duration": 1106,
    "start_time": "2023-02-02T01:11:44.459Z"
   },
   {
    "duration": 408,
    "start_time": "2023-02-02T01:12:10.317Z"
   },
   {
    "duration": 945,
    "start_time": "2023-02-02T01:12:23.712Z"
   },
   {
    "duration": 821,
    "start_time": "2023-02-02T01:13:07.418Z"
   },
   {
    "duration": 401,
    "start_time": "2023-02-02T01:13:41.980Z"
   },
   {
    "duration": 78,
    "start_time": "2023-02-02T01:14:31.193Z"
   },
   {
    "duration": 3,
    "start_time": "2023-02-02T01:14:43.750Z"
   },
   {
    "duration": 65402,
    "start_time": "2023-02-02T01:14:46.575Z"
   },
   {
    "duration": 15656,
    "start_time": "2023-02-02T01:17:09.380Z"
   },
   {
    "duration": 89012,
    "start_time": "2023-02-02T01:17:54.618Z"
   },
   {
    "duration": 5065,
    "start_time": "2023-02-02T01:20:16.072Z"
   },
   {
    "duration": 4,
    "start_time": "2023-02-02T01:20:30.259Z"
   },
   {
    "duration": 59067,
    "start_time": "2023-02-02T01:21:05.157Z"
   },
   {
    "duration": 0,
    "start_time": "2023-02-02T01:22:04.226Z"
   },
   {
    "duration": 609,
    "start_time": "2023-02-02T01:22:10.213Z"
   },
   {
    "duration": 1020850,
    "start_time": "2023-02-02T01:22:41.988Z"
   },
   {
    "duration": 469,
    "start_time": "2023-02-02T01:47:42.450Z"
   },
   {
    "duration": 403,
    "start_time": "2023-02-02T01:49:45.828Z"
   },
   {
    "duration": 19,
    "start_time": "2023-02-02T02:00:19.007Z"
   },
   {
    "duration": 7716,
    "start_time": "2023-02-02T02:00:40.490Z"
   },
   {
    "duration": 63048,
    "start_time": "2023-02-02T02:02:56.903Z"
   },
   {
    "duration": 4,
    "start_time": "2023-02-02T02:06:18.096Z"
   },
   {
    "duration": 187122,
    "start_time": "2023-02-02T02:06:57.396Z"
   },
   {
    "duration": 20412,
    "start_time": "2023-02-02T02:11:31.850Z"
   },
   {
    "duration": 6359,
    "start_time": "2023-02-02T02:13:02.177Z"
   },
   {
    "duration": 4050,
    "start_time": "2023-02-02T02:14:08.041Z"
   },
   {
    "duration": 5880,
    "start_time": "2023-02-02T02:15:19.375Z"
   },
   {
    "duration": 12145,
    "start_time": "2023-02-02T02:16:09.719Z"
   },
   {
    "duration": 24094,
    "start_time": "2023-02-02T02:18:28.551Z"
   },
   {
    "duration": 61726,
    "start_time": "2023-02-02T02:19:29.169Z"
   },
   {
    "duration": 113844,
    "start_time": "2023-02-02T02:21:56.692Z"
   },
   {
    "duration": 1218,
    "start_time": "2023-03-12T15:48:15.192Z"
   },
   {
    "duration": 152,
    "start_time": "2023-03-12T15:48:20.818Z"
   },
   {
    "duration": 17,
    "start_time": "2023-03-12T15:48:32.129Z"
   },
   {
    "duration": 7,
    "start_time": "2023-03-12T15:48:34.771Z"
   },
   {
    "duration": 8,
    "start_time": "2023-03-12T15:48:37.192Z"
   },
   {
    "duration": 4,
    "start_time": "2023-03-12T15:48:39.890Z"
   },
   {
    "duration": 17,
    "start_time": "2023-03-12T15:48:44.011Z"
   },
   {
    "duration": 3,
    "start_time": "2023-03-12T15:48:48.573Z"
   },
   {
    "duration": 5,
    "start_time": "2023-03-12T15:48:51.841Z"
   },
   {
    "duration": 164620,
    "start_time": "2023-03-12T15:49:05.602Z"
   },
   {
    "duration": 4173,
    "start_time": "2023-03-12T15:51:58.183Z"
   },
   {
    "duration": 4,
    "start_time": "2023-03-12T15:56:17.883Z"
   },
   {
    "duration": 4,
    "start_time": "2023-03-12T15:56:29.588Z"
   },
   {
    "duration": 4423,
    "start_time": "2023-03-12T15:57:56.118Z"
   },
   {
    "duration": 4562,
    "start_time": "2023-03-12T15:58:45.591Z"
   },
   {
    "duration": 31925,
    "start_time": "2023-03-12T15:59:30.475Z"
   },
   {
    "duration": 5433,
    "start_time": "2023-03-12T16:01:32.077Z"
   },
   {
    "duration": 4917,
    "start_time": "2023-03-12T16:02:34.247Z"
   },
   {
    "duration": 2337,
    "start_time": "2023-03-12T16:10:50.883Z"
   },
   {
    "duration": 56,
    "start_time": "2023-03-12T16:20:27.486Z"
   },
   {
    "duration": 51,
    "start_time": "2023-03-12T16:20:57.556Z"
   },
   {
    "duration": 73,
    "start_time": "2023-03-12T16:21:13.707Z"
   },
   {
    "duration": 2976,
    "start_time": "2023-03-12T16:43:57.149Z"
   },
   {
    "duration": 36317,
    "start_time": "2023-03-12T16:48:29.856Z"
   },
   {
    "duration": 25504,
    "start_time": "2023-03-12T16:49:47.396Z"
   },
   {
    "duration": 4160,
    "start_time": "2023-03-12T16:50:48.820Z"
   },
   {
    "duration": 533259,
    "start_time": "2023-03-12T16:52:02.227Z"
   },
   {
    "duration": 23309,
    "start_time": "2023-03-12T17:03:45.187Z"
   },
   {
    "duration": 30636,
    "start_time": "2023-03-12T17:04:56.155Z"
   },
   {
    "duration": 56872,
    "start_time": "2023-03-12T17:06:14.280Z"
   },
   {
    "duration": 30970,
    "start_time": "2023-03-12T17:07:37.880Z"
   },
   {
    "duration": 11086,
    "start_time": "2023-03-12T17:08:37.081Z"
   },
   {
    "duration": 7185,
    "start_time": "2023-03-12T17:09:07.207Z"
   },
   {
    "duration": 7163,
    "start_time": "2023-03-12T17:10:18.200Z"
   },
   {
    "duration": 6552,
    "start_time": "2023-03-12T18:19:15.822Z"
   },
   {
    "duration": 10,
    "start_time": "2023-03-12T18:19:59.180Z"
   },
   {
    "duration": 486,
    "start_time": "2023-03-12T18:54:56.500Z"
   },
   {
    "duration": 10,
    "start_time": "2023-03-12T18:55:00.163Z"
   },
   {
    "duration": 31,
    "start_time": "2023-03-12T19:00:03.091Z"
   },
   {
    "duration": 120467,
    "start_time": "2023-03-12T19:33:06.243Z"
   },
   {
    "duration": 15,
    "start_time": "2023-03-12T19:40:05.551Z"
   },
   {
    "duration": 9692,
    "start_time": "2023-03-12T19:42:10.252Z"
   },
   {
    "duration": 124109,
    "start_time": "2023-03-12T19:42:50.592Z"
   },
   {
    "duration": 122646,
    "start_time": "2023-03-12T19:48:16.772Z"
   },
   {
    "duration": 36400,
    "start_time": "2023-03-12T19:51:16.792Z"
   },
   {
    "duration": 68985,
    "start_time": "2023-03-12T19:52:01.995Z"
   },
   {
    "duration": 40839,
    "start_time": "2023-03-12T19:54:10.335Z"
   },
   {
    "duration": 4,
    "start_time": "2023-03-12T20:08:02.954Z"
   },
   {
    "duration": 47691,
    "start_time": "2023-03-12T20:08:22.635Z"
   },
   {
    "duration": 4,
    "start_time": "2023-03-12T20:09:34.993Z"
   },
   {
    "duration": 8797,
    "start_time": "2023-03-12T20:11:22.394Z"
   },
   {
    "duration": 4,
    "start_time": "2023-03-12T20:12:32.810Z"
   },
   {
    "duration": 8720,
    "start_time": "2023-03-12T20:12:36.986Z"
   },
   {
    "duration": 4,
    "start_time": "2023-03-12T20:13:19.801Z"
   },
   {
    "duration": 9230,
    "start_time": "2023-03-12T20:13:23.912Z"
   },
   {
    "duration": 45814,
    "start_time": "2023-03-12T20:13:44.343Z"
   },
   {
    "duration": 24333,
    "start_time": "2023-03-12T20:18:54.517Z"
   },
   {
    "duration": 10738,
    "start_time": "2023-03-12T20:20:08.708Z"
   },
   {
    "duration": 4,
    "start_time": "2023-03-12T20:20:21.677Z"
   },
   {
    "duration": 42297,
    "start_time": "2023-03-12T20:20:23.675Z"
   },
   {
    "duration": 14,
    "start_time": "2023-03-12T20:21:28.228Z"
   },
   {
    "duration": 4,
    "start_time": "2023-03-12T20:21:31.788Z"
   },
   {
    "duration": 47751,
    "start_time": "2023-03-12T20:21:34.148Z"
   },
   {
    "duration": 15885,
    "start_time": "2023-03-12T20:22:58.570Z"
   },
   {
    "duration": 30508,
    "start_time": "2023-03-12T20:23:56.167Z"
   },
   {
    "duration": 48214,
    "start_time": "2023-03-12T20:25:28.857Z"
   },
   {
    "duration": 6,
    "start_time": "2023-03-12T20:26:52.032Z"
   },
   {
    "duration": 48187,
    "start_time": "2023-03-12T20:26:54.400Z"
   },
   {
    "duration": 4,
    "start_time": "2023-03-12T20:27:56.319Z"
   },
   {
    "duration": 47762,
    "start_time": "2023-03-12T20:27:58.853Z"
   },
   {
    "duration": 48336,
    "start_time": "2023-03-12T20:29:55.414Z"
   },
   {
    "duration": 58007,
    "start_time": "2023-03-12T20:35:05.870Z"
   },
   {
    "duration": 12872,
    "start_time": "2023-03-12T20:37:05.120Z"
   },
   {
    "duration": 31968,
    "start_time": "2023-03-12T20:37:45.645Z"
   },
   {
    "duration": 34286,
    "start_time": "2023-03-12T20:38:48.751Z"
   },
   {
    "duration": 59033,
    "start_time": "2023-03-12T20:40:08.764Z"
   },
   {
    "duration": 4,
    "start_time": "2023-03-12T20:43:45.166Z"
   },
   {
    "duration": 21684,
    "start_time": "2023-03-12T20:43:50.779Z"
   },
   {
    "duration": 11,
    "start_time": "2023-03-12T20:44:42.730Z"
   },
   {
    "duration": 6,
    "start_time": "2023-03-12T20:56:11.139Z"
   },
   {
    "duration": 47862,
    "start_time": "2023-03-12T20:56:14.257Z"
   },
   {
    "duration": 56686,
    "start_time": "2023-03-12T20:59:41.831Z"
   },
   {
    "duration": 32415,
    "start_time": "2023-03-12T21:02:23.406Z"
   },
   {
    "duration": 21055,
    "start_time": "2023-03-12T21:03:52.351Z"
   },
   {
    "duration": 37599,
    "start_time": "2023-03-12T21:08:57.168Z"
   },
   {
    "duration": 73349,
    "start_time": "2023-03-12T21:10:03.506Z"
   },
   {
    "duration": 9,
    "start_time": "2023-03-12T21:12:28.078Z"
   },
   {
    "duration": 6,
    "start_time": "2023-03-12T21:13:14.725Z"
   },
   {
    "duration": 5,
    "start_time": "2023-03-12T21:13:36.162Z"
   },
   {
    "duration": 16348,
    "start_time": "2023-03-12T21:17:08.221Z"
   },
   {
    "duration": 11252,
    "start_time": "2023-03-12T21:17:56.573Z"
   },
   {
    "duration": 53963,
    "start_time": "2023-03-12T21:18:22.402Z"
   },
   {
    "duration": 205876,
    "start_time": "2023-03-12T21:19:42.474Z"
   },
   {
    "duration": 135098,
    "start_time": "2023-03-12T21:24:50.809Z"
   },
   {
    "duration": 23916,
    "start_time": "2023-03-12T21:27:48.735Z"
   },
   {
    "duration": 2081219,
    "start_time": "2023-03-12T21:28:21.169Z"
   },
   {
    "duration": 27605,
    "start_time": "2023-03-12T22:03:51.846Z"
   },
   {
    "duration": 265998,
    "start_time": "2023-03-12T22:04:21.974Z"
   },
   {
    "duration": 14,
    "start_time": "2023-03-12T22:09:28.170Z"
   },
   {
    "duration": 5,
    "start_time": "2023-03-12T22:09:53.623Z"
   },
   {
    "duration": 52189,
    "start_time": "2023-03-12T22:10:19.544Z"
   },
   {
    "duration": 114912,
    "start_time": "2023-03-12T22:11:31.936Z"
   },
   {
    "duration": 56501,
    "start_time": "2023-03-12T22:13:43.910Z"
   },
   {
    "duration": 100628,
    "start_time": "2023-03-12T22:16:29.348Z"
   },
   {
    "duration": 6,
    "start_time": "2023-03-12T22:19:15.657Z"
   },
   {
    "duration": 4,
    "start_time": "2023-03-12T22:19:19.418Z"
   },
   {
    "duration": 15,
    "start_time": "2023-03-12T22:19:23.018Z"
   },
   {
    "duration": 4,
    "start_time": "2023-03-12T22:19:26.795Z"
   },
   {
    "duration": 99938,
    "start_time": "2023-03-12T22:21:10.457Z"
   },
   {
    "duration": 15,
    "start_time": "2023-03-12T22:27:32.465Z"
   },
   {
    "duration": 14,
    "start_time": "2023-03-12T22:27:50.716Z"
   },
   {
    "duration": 11407,
    "start_time": "2023-03-12T22:32:05.506Z"
   },
   {
    "duration": 93009,
    "start_time": "2023-03-12T22:32:20.082Z"
   },
   {
    "duration": 86524,
    "start_time": "2023-03-12T22:33:58.778Z"
   },
   {
    "duration": 101930,
    "start_time": "2023-03-12T22:35:57.342Z"
   },
   {
    "duration": 27,
    "start_time": "2023-03-12T22:37:56.374Z"
   },
   {
    "duration": 5,
    "start_time": "2023-03-12T22:38:00.863Z"
   },
   {
    "duration": 14,
    "start_time": "2023-03-12T22:38:09.459Z"
   },
   {
    "duration": 5,
    "start_time": "2023-03-12T22:38:11.676Z"
   },
   {
    "duration": 14,
    "start_time": "2023-03-12T22:39:47.548Z"
   },
   {
    "duration": 14,
    "start_time": "2023-03-12T22:48:19.078Z"
   },
   {
    "duration": 15,
    "start_time": "2023-03-12T22:49:08.094Z"
   },
   {
    "duration": 4,
    "start_time": "2023-03-12T22:50:45.149Z"
   },
   {
    "duration": 6,
    "start_time": "2023-03-12T22:50:49.803Z"
   },
   {
    "duration": 8,
    "start_time": "2023-03-12T22:51:22.806Z"
   },
   {
    "duration": 3,
    "start_time": "2023-03-12T22:52:12.283Z"
   },
   {
    "duration": 11,
    "start_time": "2023-03-12T22:52:41.019Z"
   },
   {
    "duration": 3,
    "start_time": "2023-03-12T22:53:07.058Z"
   },
   {
    "duration": 10,
    "start_time": "2023-03-12T22:53:17.907Z"
   },
   {
    "duration": 5,
    "start_time": "2023-03-12T22:53:22.882Z"
   },
   {
    "duration": 75,
    "start_time": "2023-03-12T22:53:41.034Z"
   },
   {
    "duration": 9,
    "start_time": "2023-03-12T22:54:06.851Z"
   },
   {
    "duration": 7,
    "start_time": "2023-03-12T22:54:17.290Z"
   },
   {
    "duration": 6,
    "start_time": "2023-03-12T22:54:38.555Z"
   },
   {
    "duration": 6,
    "start_time": "2023-03-12T22:58:30.152Z"
   },
   {
    "duration": 6,
    "start_time": "2023-03-12T22:59:10.439Z"
   },
   {
    "duration": 7,
    "start_time": "2023-03-12T22:59:19.391Z"
   },
   {
    "duration": 4,
    "start_time": "2023-03-12T22:59:52.630Z"
   },
   {
    "duration": 5,
    "start_time": "2023-03-12T23:00:30.446Z"
   },
   {
    "duration": 7,
    "start_time": "2023-03-12T23:03:36.602Z"
   },
   {
    "duration": 5,
    "start_time": "2023-03-12T23:03:43.028Z"
   },
   {
    "duration": 5,
    "start_time": "2023-03-12T23:03:53.762Z"
   },
   {
    "duration": 5,
    "start_time": "2023-03-12T23:03:55.538Z"
   },
   {
    "duration": 5,
    "start_time": "2023-03-12T23:03:57.298Z"
   },
   {
    "duration": 5,
    "start_time": "2023-03-12T23:03:58.170Z"
   },
   {
    "duration": 5,
    "start_time": "2023-03-12T23:03:59.138Z"
   },
   {
    "duration": 5,
    "start_time": "2023-03-12T23:04:00.411Z"
   },
   {
    "duration": 7,
    "start_time": "2023-03-12T23:05:32.204Z"
   },
   {
    "duration": 6,
    "start_time": "2023-03-12T23:05:52.283Z"
   },
   {
    "duration": 7,
    "start_time": "2023-03-12T23:06:04.356Z"
   },
   {
    "duration": 6,
    "start_time": "2023-03-12T23:06:32.870Z"
   },
   {
    "duration": 5,
    "start_time": "2023-03-12T23:06:45.385Z"
   },
   {
    "duration": 5,
    "start_time": "2023-03-12T23:07:17.776Z"
   },
   {
    "duration": 7,
    "start_time": "2023-03-12T23:07:23.842Z"
   },
   {
    "duration": 7,
    "start_time": "2023-03-12T23:07:48.865Z"
   },
   {
    "duration": 5,
    "start_time": "2023-03-12T23:08:01.577Z"
   },
   {
    "duration": 4,
    "start_time": "2023-03-12T23:09:12.744Z"
   },
   {
    "duration": 4,
    "start_time": "2023-03-12T23:09:15.289Z"
   },
   {
    "duration": 3,
    "start_time": "2023-03-12T23:09:19.799Z"
   },
   {
    "duration": 4,
    "start_time": "2023-03-12T23:09:22.569Z"
   },
   {
    "duration": 6,
    "start_time": "2023-03-12T23:09:33.710Z"
   },
   {
    "duration": 7,
    "start_time": "2023-03-12T23:09:42.142Z"
   },
   {
    "duration": 6,
    "start_time": "2023-03-12T23:09:43.727Z"
   },
   {
    "duration": 6,
    "start_time": "2023-03-12T23:09:44.975Z"
   },
   {
    "duration": 6,
    "start_time": "2023-03-12T23:09:46.391Z"
   },
   {
    "duration": 7,
    "start_time": "2023-03-12T23:09:47.847Z"
   },
   {
    "duration": 7,
    "start_time": "2023-03-12T23:10:18.861Z"
   },
   {
    "duration": 7,
    "start_time": "2023-03-12T23:10:30.119Z"
   },
   {
    "duration": 7,
    "start_time": "2023-03-12T23:10:32.630Z"
   },
   {
    "duration": 7,
    "start_time": "2023-03-12T23:10:33.479Z"
   },
   {
    "duration": 6,
    "start_time": "2023-03-12T23:10:34.158Z"
   },
   {
    "duration": 8,
    "start_time": "2023-03-12T23:10:34.782Z"
   },
   {
    "duration": 6,
    "start_time": "2023-03-12T23:10:35.456Z"
   },
   {
    "duration": 6,
    "start_time": "2023-03-12T23:10:36.318Z"
   },
   {
    "duration": 7,
    "start_time": "2023-03-12T23:10:37.326Z"
   },
   {
    "duration": 6,
    "start_time": "2023-03-12T23:10:38.071Z"
   },
   {
    "duration": 6,
    "start_time": "2023-03-12T23:10:38.750Z"
   },
   {
    "duration": 6,
    "start_time": "2023-03-12T23:10:39.342Z"
   },
   {
    "duration": 4,
    "start_time": "2023-03-12T23:10:48.742Z"
   },
   {
    "duration": 6,
    "start_time": "2023-03-12T23:11:08.207Z"
   },
   {
    "duration": 7,
    "start_time": "2023-03-12T23:11:09.327Z"
   },
   {
    "duration": 6,
    "start_time": "2023-03-12T23:11:10.135Z"
   },
   {
    "duration": 7,
    "start_time": "2023-03-12T23:11:10.911Z"
   },
   {
    "duration": 7,
    "start_time": "2023-03-12T23:11:11.606Z"
   },
   {
    "duration": 7,
    "start_time": "2023-03-12T23:11:12.223Z"
   },
   {
    "duration": 7,
    "start_time": "2023-03-12T23:11:12.831Z"
   },
   {
    "duration": 8,
    "start_time": "2023-03-12T23:11:13.374Z"
   },
   {
    "duration": 7,
    "start_time": "2023-03-12T23:11:13.879Z"
   },
   {
    "duration": 7,
    "start_time": "2023-03-12T23:11:14.324Z"
   },
   {
    "duration": 7,
    "start_time": "2023-03-12T23:11:14.767Z"
   },
   {
    "duration": 7,
    "start_time": "2023-03-12T23:11:15.231Z"
   },
   {
    "duration": 7,
    "start_time": "2023-03-12T23:11:15.671Z"
   },
   {
    "duration": 7,
    "start_time": "2023-03-12T23:11:16.119Z"
   },
   {
    "duration": 9,
    "start_time": "2023-03-12T23:11:16.591Z"
   },
   {
    "duration": 7,
    "start_time": "2023-03-12T23:11:16.991Z"
   },
   {
    "duration": 6,
    "start_time": "2023-03-12T23:11:17.460Z"
   },
   {
    "duration": 6,
    "start_time": "2023-03-12T23:11:17.895Z"
   },
   {
    "duration": 16,
    "start_time": "2023-03-12T23:12:35.424Z"
   },
   {
    "duration": 8,
    "start_time": "2023-03-12T23:12:44.588Z"
   },
   {
    "duration": 14,
    "start_time": "2023-03-12T23:12:47.334Z"
   },
   {
    "duration": 11,
    "start_time": "2023-03-13T08:18:28.315Z"
   },
   {
    "duration": 1128,
    "start_time": "2023-03-13T08:18:41.826Z"
   },
   {
    "duration": 83,
    "start_time": "2023-03-13T08:18:42.956Z"
   },
   {
    "duration": 5,
    "start_time": "2023-03-13T08:18:43.041Z"
   },
   {
    "duration": 10,
    "start_time": "2023-03-13T08:18:43.047Z"
   },
   {
    "duration": 10,
    "start_time": "2023-03-13T08:18:43.060Z"
   },
   {
    "duration": 11,
    "start_time": "2023-03-13T08:18:43.071Z"
   },
   {
    "duration": 27,
    "start_time": "2023-03-13T08:18:43.084Z"
   },
   {
    "duration": 3,
    "start_time": "2023-03-13T08:18:43.113Z"
   },
   {
    "duration": 9,
    "start_time": "2023-03-13T08:18:43.118Z"
   },
   {
    "duration": 6831,
    "start_time": "2023-03-13T08:18:43.142Z"
   },
   {
    "duration": 10,
    "start_time": "2023-03-13T08:18:49.974Z"
   },
   {
    "duration": 445,
    "start_time": "2023-03-13T08:18:49.986Z"
   },
   {
    "duration": 40,
    "start_time": "2023-03-13T08:18:50.432Z"
   },
   {
    "duration": 4,
    "start_time": "2023-03-13T08:18:59.386Z"
   },
   {
    "duration": 48627,
    "start_time": "2023-03-13T08:19:09.049Z"
   },
   {
    "duration": 5,
    "start_time": "2023-03-13T08:20:26.297Z"
   },
   {
    "duration": 49189,
    "start_time": "2023-03-13T08:20:28.817Z"
   },
   {
    "duration": 58976,
    "start_time": "2023-03-13T08:21:53.160Z"
   },
   {
    "duration": 32274,
    "start_time": "2023-03-13T08:23:24.767Z"
   },
   {
    "duration": 20606,
    "start_time": "2023-03-13T08:24:06.190Z"
   },
   {
    "duration": 109179,
    "start_time": "2023-03-13T08:25:22.726Z"
   },
   {
    "duration": 19,
    "start_time": "2023-03-13T08:27:37.404Z"
   },
   {
    "duration": 16,
    "start_time": "2023-03-13T08:27:54.476Z"
   },
   {
    "duration": 3,
    "start_time": "2023-03-13T08:30:19.433Z"
   },
   {
    "duration": 3,
    "start_time": "2023-03-13T09:06:19.011Z"
   },
   {
    "duration": 21,
    "start_time": "2023-03-13T09:08:27.168Z"
   },
   {
    "duration": 123,
    "start_time": "2023-03-13T09:09:13.776Z"
   },
   {
    "duration": 3,
    "start_time": "2023-03-13T09:10:40.744Z"
   },
   {
    "duration": 5,
    "start_time": "2023-03-13T09:10:47.625Z"
   },
   {
    "duration": 5,
    "start_time": "2023-03-13T09:10:56.215Z"
   },
   {
    "duration": 23,
    "start_time": "2023-03-13T09:11:40.413Z"
   },
   {
    "duration": 9,
    "start_time": "2023-03-13T09:13:02.711Z"
   },
   {
    "duration": 18,
    "start_time": "2023-03-13T09:13:21.893Z"
   },
   {
    "duration": 22,
    "start_time": "2023-03-13T09:16:17.313Z"
   },
   {
    "duration": 21,
    "start_time": "2023-03-13T09:16:22.069Z"
   },
   {
    "duration": 24,
    "start_time": "2023-03-13T09:16:33.109Z"
   },
   {
    "duration": 27,
    "start_time": "2023-03-13T09:16:41.505Z"
   },
   {
    "duration": 20,
    "start_time": "2023-03-13T09:16:46.453Z"
   },
   {
    "duration": 22,
    "start_time": "2023-03-13T09:16:52.572Z"
   },
   {
    "duration": 2,
    "start_time": "2023-03-13T09:17:20.803Z"
   },
   {
    "duration": 6,
    "start_time": "2023-03-13T09:18:56.522Z"
   },
   {
    "duration": 7,
    "start_time": "2023-03-13T09:19:22.357Z"
   },
   {
    "duration": 7,
    "start_time": "2023-03-13T09:19:36.851Z"
   },
   {
    "duration": 21,
    "start_time": "2023-03-13T09:19:53.323Z"
   },
   {
    "duration": 9,
    "start_time": "2023-03-13T09:19:57.822Z"
   },
   {
    "duration": 8,
    "start_time": "2023-03-13T09:20:15.865Z"
   },
   {
    "duration": 6,
    "start_time": "2023-03-13T09:30:29.339Z"
   },
   {
    "duration": 49,
    "start_time": "2023-03-13T09:32:50.040Z"
   },
   {
    "duration": 22,
    "start_time": "2023-03-13T09:32:55.179Z"
   },
   {
    "duration": 9,
    "start_time": "2023-03-13T09:33:18.249Z"
   },
   {
    "duration": 22,
    "start_time": "2023-03-13T09:33:29.569Z"
   },
   {
    "duration": 9,
    "start_time": "2023-03-13T09:33:31.913Z"
   },
   {
    "duration": 20,
    "start_time": "2023-03-13T09:34:54.506Z"
   },
   {
    "duration": 7,
    "start_time": "2023-03-13T09:34:56.899Z"
   },
   {
    "duration": 8,
    "start_time": "2023-03-13T09:35:21.767Z"
   },
   {
    "duration": 25,
    "start_time": "2023-03-13T09:37:58.846Z"
   },
   {
    "duration": 22,
    "start_time": "2023-03-13T09:38:30.958Z"
   },
   {
    "duration": 24,
    "start_time": "2023-03-13T09:39:27.317Z"
   },
   {
    "duration": 23,
    "start_time": "2023-03-13T09:39:56.783Z"
   },
   {
    "duration": 9,
    "start_time": "2023-03-13T09:40:16.303Z"
   },
   {
    "duration": 7,
    "start_time": "2023-03-13T09:40:25.890Z"
   },
   {
    "duration": 7896,
    "start_time": "2023-03-13T09:43:46.194Z"
   },
   {
    "duration": 7906,
    "start_time": "2023-03-13T09:43:54.971Z"
   },
   {
    "duration": 8082,
    "start_time": "2023-03-13T09:44:36.719Z"
   },
   {
    "duration": 44397,
    "start_time": "2023-03-13T09:45:24.585Z"
   },
   {
    "duration": 16102,
    "start_time": "2023-03-13T09:46:16.860Z"
   },
   {
    "duration": 16387,
    "start_time": "2023-03-13T09:46:47.177Z"
   },
   {
    "duration": 7855,
    "start_time": "2023-03-13T09:47:20.103Z"
   },
   {
    "duration": 15930,
    "start_time": "2023-03-13T09:47:37.272Z"
   },
   {
    "duration": 15066,
    "start_time": "2023-03-13T09:48:55.639Z"
   },
   {
    "duration": 15158,
    "start_time": "2023-03-13T09:49:44.030Z"
   },
   {
    "duration": 15220,
    "start_time": "2023-03-13T09:50:09.247Z"
   },
   {
    "duration": 15268,
    "start_time": "2023-03-13T09:57:47.792Z"
   },
   {
    "duration": 15556,
    "start_time": "2023-03-13T10:01:16.606Z"
   },
   {
    "duration": 7,
    "start_time": "2023-03-13T11:01:12.208Z"
   },
   {
    "duration": 9,
    "start_time": "2023-03-13T11:01:38.063Z"
   },
   {
    "duration": 7,
    "start_time": "2023-03-13T11:03:16.311Z"
   },
   {
    "duration": 7,
    "start_time": "2023-03-13T11:03:20.245Z"
   },
   {
    "duration": 6,
    "start_time": "2023-03-13T11:03:35.166Z"
   },
   {
    "duration": 17,
    "start_time": "2023-03-13T11:04:59.381Z"
   },
   {
    "duration": 28,
    "start_time": "2023-03-13T11:05:03.109Z"
   },
   {
    "duration": 35,
    "start_time": "2023-03-13T11:05:39.748Z"
   },
   {
    "duration": 15,
    "start_time": "2023-03-13T11:06:15.895Z"
   },
   {
    "duration": 8,
    "start_time": "2023-03-13T11:09:42.178Z"
   },
   {
    "duration": 7,
    "start_time": "2023-03-13T11:10:26.871Z"
   },
   {
    "duration": 5,
    "start_time": "2023-03-13T11:20:25.057Z"
   },
   {
    "duration": 5,
    "start_time": "2023-03-13T11:23:17.553Z"
   },
   {
    "duration": 5,
    "start_time": "2023-03-13T11:23:20.737Z"
   },
   {
    "duration": 6,
    "start_time": "2023-03-13T11:24:07.576Z"
   },
   {
    "duration": 5,
    "start_time": "2023-03-13T11:24:22.663Z"
   },
   {
    "duration": 4,
    "start_time": "2023-03-13T11:24:24.952Z"
   },
   {
    "duration": 5,
    "start_time": "2023-03-13T11:24:27.423Z"
   },
   {
    "duration": 4,
    "start_time": "2023-03-13T11:24:30.408Z"
   },
   {
    "duration": 4,
    "start_time": "2023-03-13T11:24:32.897Z"
   },
   {
    "duration": 4,
    "start_time": "2023-03-13T11:24:35.726Z"
   },
   {
    "duration": 6,
    "start_time": "2023-03-13T11:24:38.078Z"
   },
   {
    "duration": 20,
    "start_time": "2023-03-13T11:24:54.870Z"
   },
   {
    "duration": 22,
    "start_time": "2023-03-13T11:24:56.610Z"
   },
   {
    "duration": 1114,
    "start_time": "2023-03-13T11:32:46.445Z"
   },
   {
    "duration": 37,
    "start_time": "2023-03-13T11:32:47.561Z"
   },
   {
    "duration": 3,
    "start_time": "2023-03-13T11:32:47.600Z"
   },
   {
    "duration": 7,
    "start_time": "2023-03-13T11:32:47.605Z"
   },
   {
    "duration": 11,
    "start_time": "2023-03-13T11:32:47.614Z"
   },
   {
    "duration": 5,
    "start_time": "2023-03-13T11:32:47.627Z"
   },
   {
    "duration": 25,
    "start_time": "2023-03-13T11:32:47.634Z"
   },
   {
    "duration": 5,
    "start_time": "2023-03-13T11:32:47.661Z"
   },
   {
    "duration": 10,
    "start_time": "2023-03-13T11:32:47.668Z"
   },
   {
    "duration": 6617,
    "start_time": "2023-03-13T11:32:47.681Z"
   },
   {
    "duration": 10,
    "start_time": "2023-03-13T11:32:54.299Z"
   },
   {
    "duration": 422,
    "start_time": "2023-03-13T11:32:54.311Z"
   },
   {
    "duration": 31,
    "start_time": "2023-03-13T11:32:54.734Z"
   },
   {
    "duration": 4,
    "start_time": "2023-03-13T11:32:54.768Z"
   },
   {
    "duration": 48733,
    "start_time": "2023-03-13T11:32:54.774Z"
   },
   {
    "duration": 57379,
    "start_time": "2023-03-13T11:33:43.508Z"
   },
   {
    "duration": 32311,
    "start_time": "2023-03-13T11:34:40.888Z"
   },
   {
    "duration": 20797,
    "start_time": "2023-03-13T11:35:13.201Z"
   },
   {
    "duration": 108663,
    "start_time": "2023-03-13T11:35:34.000Z"
   },
   {
    "duration": 16,
    "start_time": "2023-03-13T11:37:22.665Z"
   },
   {
    "duration": 16,
    "start_time": "2023-03-13T11:37:22.683Z"
   },
   {
    "duration": 45,
    "start_time": "2023-03-13T11:37:22.701Z"
   },
   {
    "duration": 5,
    "start_time": "2023-03-13T11:37:22.748Z"
   },
   {
    "duration": 121,
    "start_time": "2023-03-13T11:37:22.755Z"
   },
   {
    "duration": 0,
    "start_time": "2023-03-13T11:37:22.877Z"
   },
   {
    "duration": 0,
    "start_time": "2023-03-13T11:37:22.878Z"
   },
   {
    "duration": 0,
    "start_time": "2023-03-13T11:37:22.879Z"
   },
   {
    "duration": 0,
    "start_time": "2023-03-13T11:37:22.881Z"
   },
   {
    "duration": 0,
    "start_time": "2023-03-13T11:37:22.882Z"
   },
   {
    "duration": 0,
    "start_time": "2023-03-13T11:37:22.883Z"
   },
   {
    "duration": 0,
    "start_time": "2023-03-13T11:37:22.884Z"
   },
   {
    "duration": 0,
    "start_time": "2023-03-13T11:37:22.884Z"
   },
   {
    "duration": 0,
    "start_time": "2023-03-13T11:37:22.885Z"
   },
   {
    "duration": 0,
    "start_time": "2023-03-13T11:37:22.887Z"
   },
   {
    "duration": 0,
    "start_time": "2023-03-13T11:37:22.888Z"
   },
   {
    "duration": 8,
    "start_time": "2023-03-13T11:38:04.279Z"
   },
   {
    "duration": 7,
    "start_time": "2023-03-13T11:38:12.936Z"
   },
   {
    "duration": 15441,
    "start_time": "2023-03-13T11:38:12.944Z"
   },
   {
    "duration": 7,
    "start_time": "2023-03-13T11:38:28.387Z"
   },
   {
    "duration": 9,
    "start_time": "2023-03-13T11:38:28.395Z"
   },
   {
    "duration": 5,
    "start_time": "2023-03-13T11:38:28.405Z"
   },
   {
    "duration": 43,
    "start_time": "2023-03-13T11:38:28.412Z"
   },
   {
    "duration": 31,
    "start_time": "2023-03-13T11:38:28.457Z"
   },
   {
    "duration": 16,
    "start_time": "2023-03-13T11:38:28.490Z"
   },
   {
    "duration": 34,
    "start_time": "2023-03-13T11:38:28.507Z"
   },
   {
    "duration": 6,
    "start_time": "2023-03-13T11:38:28.544Z"
   },
   {
    "duration": 5,
    "start_time": "2023-03-13T11:38:28.551Z"
   },
   {
    "duration": 7,
    "start_time": "2023-03-13T11:38:28.558Z"
   },
   {
    "duration": 2364,
    "start_time": "2023-03-13T12:00:43.179Z"
   },
   {
    "duration": 39,
    "start_time": "2023-03-13T12:00:45.545Z"
   },
   {
    "duration": 4,
    "start_time": "2023-03-13T12:00:45.586Z"
   },
   {
    "duration": 21,
    "start_time": "2023-03-13T12:00:45.592Z"
   },
   {
    "duration": 35,
    "start_time": "2023-03-13T12:00:45.614Z"
   },
   {
    "duration": 13,
    "start_time": "2023-03-13T12:00:45.650Z"
   },
   {
    "duration": 33,
    "start_time": "2023-03-13T12:00:45.665Z"
   },
   {
    "duration": 13,
    "start_time": "2023-03-13T12:00:45.700Z"
   },
   {
    "duration": 16,
    "start_time": "2023-03-13T12:00:45.715Z"
   },
   {
    "duration": 7129,
    "start_time": "2023-03-13T12:00:45.735Z"
   },
   {
    "duration": 10,
    "start_time": "2023-03-13T12:00:52.866Z"
   },
   {
    "duration": 452,
    "start_time": "2023-03-13T12:00:52.878Z"
   },
   {
    "duration": 43,
    "start_time": "2023-03-13T12:00:53.331Z"
   },
   {
    "duration": 5,
    "start_time": "2023-03-13T12:00:53.376Z"
   },
   {
    "duration": 52611,
    "start_time": "2023-03-13T12:00:53.382Z"
   },
   {
    "duration": 59954,
    "start_time": "2023-03-13T12:01:45.995Z"
   },
   {
    "duration": 33308,
    "start_time": "2023-03-13T12:02:45.951Z"
   },
   {
    "duration": 21534,
    "start_time": "2023-03-13T12:03:19.265Z"
   },
   {
    "duration": 113050,
    "start_time": "2023-03-13T12:03:40.800Z"
   },
   {
    "duration": 27,
    "start_time": "2023-03-13T12:05:33.852Z"
   },
   {
    "duration": 17,
    "start_time": "2023-03-13T12:05:33.881Z"
   },
   {
    "duration": 24,
    "start_time": "2023-03-13T12:05:33.899Z"
   },
   {
    "duration": 8,
    "start_time": "2023-03-13T12:05:33.925Z"
   },
   {
    "duration": 6,
    "start_time": "2023-03-13T12:05:33.966Z"
   },
   {
    "duration": 16909,
    "start_time": "2023-03-13T12:05:33.974Z"
   },
   {
    "duration": 7,
    "start_time": "2023-03-13T12:05:50.885Z"
   },
   {
    "duration": 34,
    "start_time": "2023-03-13T12:05:50.894Z"
   },
   {
    "duration": 25,
    "start_time": "2023-03-13T12:05:50.931Z"
   },
   {
    "duration": 25,
    "start_time": "2023-03-13T12:05:50.958Z"
   },
   {
    "duration": 32,
    "start_time": "2023-03-13T12:05:50.985Z"
   },
   {
    "duration": 17,
    "start_time": "2023-03-13T12:05:51.019Z"
   },
   {
    "duration": 28,
    "start_time": "2023-03-13T12:05:51.038Z"
   },
   {
    "duration": 17,
    "start_time": "2023-03-13T12:05:51.068Z"
   },
   {
    "duration": 32,
    "start_time": "2023-03-13T12:05:51.087Z"
   },
   {
    "duration": 32,
    "start_time": "2023-03-13T12:05:51.121Z"
   },
   {
    "duration": 51,
    "start_time": "2023-03-13T13:28:46.716Z"
   },
   {
    "duration": 1087,
    "start_time": "2023-03-13T13:28:53.494Z"
   },
   {
    "duration": 40,
    "start_time": "2023-03-13T13:28:54.584Z"
   },
   {
    "duration": 4,
    "start_time": "2023-03-13T13:28:54.626Z"
   },
   {
    "duration": 13,
    "start_time": "2023-03-13T13:28:54.633Z"
   },
   {
    "duration": 11,
    "start_time": "2023-03-13T13:28:54.649Z"
   },
   {
    "duration": 14,
    "start_time": "2023-03-13T13:28:54.662Z"
   },
   {
    "duration": 20,
    "start_time": "2023-03-13T13:28:54.677Z"
   },
   {
    "duration": 4,
    "start_time": "2023-03-13T13:28:54.699Z"
   },
   {
    "duration": 7,
    "start_time": "2023-03-13T13:28:54.705Z"
   },
   {
    "duration": 6637,
    "start_time": "2023-03-13T13:28:54.714Z"
   },
   {
    "duration": 11,
    "start_time": "2023-03-13T13:29:01.353Z"
   },
   {
    "duration": 430,
    "start_time": "2023-03-13T13:29:01.366Z"
   },
   {
    "duration": 30,
    "start_time": "2023-03-13T13:29:01.798Z"
   },
   {
    "duration": 6,
    "start_time": "2023-03-13T13:29:01.843Z"
   },
   {
    "duration": 48441,
    "start_time": "2023-03-13T13:29:01.851Z"
   },
   {
    "duration": 57466,
    "start_time": "2023-03-13T13:29:50.294Z"
   },
   {
    "duration": 32284,
    "start_time": "2023-03-13T13:30:47.763Z"
   },
   {
    "duration": 20635,
    "start_time": "2023-03-13T13:31:20.049Z"
   },
   {
    "duration": 107582,
    "start_time": "2023-03-13T13:31:40.685Z"
   },
   {
    "duration": 17,
    "start_time": "2023-03-13T13:33:28.269Z"
   },
   {
    "duration": 18,
    "start_time": "2023-03-13T13:33:28.287Z"
   },
   {
    "duration": 48,
    "start_time": "2023-03-13T13:33:28.307Z"
   },
   {
    "duration": 7,
    "start_time": "2023-03-13T13:33:28.357Z"
   },
   {
    "duration": 11,
    "start_time": "2023-03-13T13:33:28.365Z"
   },
   {
    "duration": 15721,
    "start_time": "2023-03-13T13:33:28.378Z"
   },
   {
    "duration": 7,
    "start_time": "2023-03-13T13:33:44.101Z"
   },
   {
    "duration": 21,
    "start_time": "2023-03-13T13:33:44.110Z"
   },
   {
    "duration": 12,
    "start_time": "2023-03-13T13:33:44.133Z"
   },
   {
    "duration": 16,
    "start_time": "2023-03-13T13:33:44.146Z"
   },
   {
    "duration": 29,
    "start_time": "2023-03-13T13:33:44.164Z"
   },
   {
    "duration": 15,
    "start_time": "2023-03-13T13:33:44.194Z"
   },
   {
    "duration": 8,
    "start_time": "2023-03-13T13:33:44.241Z"
   },
   {
    "duration": 6,
    "start_time": "2023-03-13T13:33:44.251Z"
   },
   {
    "duration": 7,
    "start_time": "2023-03-13T13:33:44.260Z"
   },
   {
    "duration": 5,
    "start_time": "2023-03-13T13:34:28.862Z"
   },
   {
    "duration": 110,
    "start_time": "2023-03-19T13:22:20.612Z"
   },
   {
    "duration": 63,
    "start_time": "2023-03-19T13:22:29.099Z"
   },
   {
    "duration": 1292,
    "start_time": "2023-03-19T13:22:41.217Z"
   },
   {
    "duration": 142,
    "start_time": "2023-03-19T13:22:42.511Z"
   },
   {
    "duration": 5,
    "start_time": "2023-03-19T13:22:42.656Z"
   },
   {
    "duration": 13,
    "start_time": "2023-03-19T13:22:42.664Z"
   },
   {
    "duration": 16,
    "start_time": "2023-03-19T13:22:42.680Z"
   },
   {
    "duration": 8,
    "start_time": "2023-03-19T13:22:42.698Z"
   },
   {
    "duration": 34,
    "start_time": "2023-03-19T13:22:42.708Z"
   },
   {
    "duration": 9,
    "start_time": "2023-03-19T13:22:42.744Z"
   },
   {
    "duration": 27,
    "start_time": "2023-03-19T13:22:42.756Z"
   },
   {
    "duration": 7835,
    "start_time": "2023-03-19T13:22:42.794Z"
   },
   {
    "duration": 12,
    "start_time": "2023-03-19T13:22:50.632Z"
   },
   {
    "duration": 505,
    "start_time": "2023-03-19T13:22:50.646Z"
   },
   {
    "duration": 40,
    "start_time": "2023-03-19T13:22:51.152Z"
   },
   {
    "duration": 5,
    "start_time": "2023-03-19T13:22:51.194Z"
   },
   {
    "duration": 55822,
    "start_time": "2023-03-19T13:22:51.201Z"
   },
   {
    "duration": 66951,
    "start_time": "2023-03-19T13:23:47.030Z"
   },
   {
    "duration": 39415,
    "start_time": "2023-03-19T13:24:53.984Z"
   },
   {
    "duration": 24718,
    "start_time": "2023-03-19T13:25:33.401Z"
   },
   {
    "duration": 128779,
    "start_time": "2023-03-19T13:25:58.121Z"
   },
   {
    "duration": 16,
    "start_time": "2023-03-19T13:28:06.902Z"
   },
   {
    "duration": 17,
    "start_time": "2023-03-19T13:28:06.920Z"
   },
   {
    "duration": 52,
    "start_time": "2023-03-19T13:28:06.939Z"
   },
   {
    "duration": 7,
    "start_time": "2023-03-19T13:28:06.993Z"
   },
   {
    "duration": 10,
    "start_time": "2023-03-19T13:28:07.002Z"
   },
   {
    "duration": 18920,
    "start_time": "2023-03-19T13:28:07.014Z"
   },
   {
    "duration": 12,
    "start_time": "2023-03-19T13:28:25.935Z"
   },
   {
    "duration": 40,
    "start_time": "2023-03-19T13:28:25.949Z"
   },
   {
    "duration": 25,
    "start_time": "2023-03-19T13:28:25.994Z"
   },
   {
    "duration": 50,
    "start_time": "2023-03-19T13:28:26.022Z"
   },
   {
    "duration": 45,
    "start_time": "2023-03-19T13:28:26.074Z"
   },
   {
    "duration": 18,
    "start_time": "2023-03-19T13:28:26.121Z"
   },
   {
    "duration": 19,
    "start_time": "2023-03-19T13:28:26.140Z"
   },
   {
    "duration": 22,
    "start_time": "2023-03-19T13:28:26.165Z"
   },
   {
    "duration": 102,
    "start_time": "2023-03-19T13:28:26.189Z"
   },
   {
    "duration": 0,
    "start_time": "2023-03-19T13:28:26.293Z"
   },
   {
    "duration": 0,
    "start_time": "2023-03-19T13:28:26.294Z"
   },
   {
    "duration": 0,
    "start_time": "2023-03-19T13:28:26.296Z"
   },
   {
    "duration": 16,
    "start_time": "2023-03-19T13:28:59.734Z"
   },
   {
    "duration": 5318,
    "start_time": "2023-03-19T13:49:49.371Z"
   },
   {
    "duration": 42,
    "start_time": "2023-03-19T13:52:08.582Z"
   },
   {
    "duration": 31,
    "start_time": "2023-03-19T13:52:21.279Z"
   },
   {
    "duration": 5,
    "start_time": "2023-03-19T13:54:34.410Z"
   },
   {
    "duration": 12,
    "start_time": "2023-03-19T13:54:36.471Z"
   },
   {
    "duration": 6,
    "start_time": "2023-03-19T13:54:38.731Z"
   },
   {
    "duration": 25,
    "start_time": "2023-03-19T13:58:57.825Z"
   },
   {
    "duration": 16,
    "start_time": "2023-03-19T13:59:08.909Z"
   },
   {
    "duration": 8,
    "start_time": "2023-03-19T13:59:48.914Z"
   },
   {
    "duration": 6,
    "start_time": "2023-03-19T13:59:55.421Z"
   },
   {
    "duration": 236,
    "start_time": "2023-03-19T14:01:03.664Z"
   },
   {
    "duration": 21,
    "start_time": "2023-03-19T14:06:33.728Z"
   }
  ],
  "kernelspec": {
   "display_name": "Python 3 (ipykernel)",
   "language": "python",
   "name": "python3"
  },
  "language_info": {
   "codemirror_mode": {
    "name": "ipython",
    "version": 3
   },
   "file_extension": ".py",
   "mimetype": "text/x-python",
   "name": "python",
   "nbconvert_exporter": "python",
   "pygments_lexer": "ipython3",
   "version": "3.9.13"
  },
  "toc": {
   "base_numbering": 1,
   "nav_menu": {},
   "number_sections": true,
   "sideBar": true,
   "skip_h1_title": true,
   "title_cell": "Table of Contents",
   "title_sidebar": "Contents",
   "toc_cell": false,
   "toc_position": {
    "height": "calc(100% - 180px)",
    "left": "10px",
    "top": "150px",
    "width": "393.516px"
   },
   "toc_section_display": true,
   "toc_window_display": false
  }
 },
 "nbformat": 4,
 "nbformat_minor": 2
}
