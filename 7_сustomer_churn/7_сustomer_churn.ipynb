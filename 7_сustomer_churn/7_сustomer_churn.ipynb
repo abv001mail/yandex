{
 "cells": [
  {
   "cell_type": "markdown",
   "metadata": {
    "toc": true
   },
   "source": [
    "<h1>Содержание<span class=\"tocSkip\"></span></h1>\n",
    "<div class=\"toc\"><ul class=\"toc-item\"><li><span><a href=\"#Подготовка-данных\" data-toc-modified-id=\"Подготовка-данных-1\"><span class=\"toc-item-num\">1&nbsp;&nbsp;</span>Подготовка данных</a></span></li><li><span><a href=\"#Исследование-задачи\" data-toc-modified-id=\"Исследование-задачи-2\"><span class=\"toc-item-num\">2&nbsp;&nbsp;</span>Исследование задачи</a></span></li><li><span><a href=\"#Борьба-с-дисбалансом\" data-toc-modified-id=\"Борьба-с-дисбалансом-3\"><span class=\"toc-item-num\">3&nbsp;&nbsp;</span>Борьба с дисбалансом</a></span><ul class=\"toc-item\"><li><span><a href=\"#Улучшим-качество-моделей-учтя-дисбаланс.\" data-toc-modified-id=\"Улучшим-качество-моделей-учтя-дисбаланс.-3.1\"><span class=\"toc-item-num\">3.1&nbsp;&nbsp;</span>Улучшим качество моделей учтя дисбаланс.</a></span></li><li><span><a href=\"#Попробуем-увеличить-выборку-(upsampling).\" data-toc-modified-id=\"Попробуем-увеличить-выборку-(upsampling).-3.2\"><span class=\"toc-item-num\">3.2&nbsp;&nbsp;</span>Попробуем увеличить выборку (upsampling).</a></span></li><li><span><a href=\"#Поробуем-чуть-чуть-улучшить-модель-гиперпараметрами.\" data-toc-modified-id=\"Поробуем-чуть-чуть-улучшить-модель-гиперпараметрами.-3.3\"><span class=\"toc-item-num\">3.3&nbsp;&nbsp;</span>Поробуем чуть-чуть улучшить модель гиперпараметрами.</a></span></li><li><span><a href=\"#Попробуем-уменьшить-выборку-(downsampling).\" data-toc-modified-id=\"Попробуем-уменьшить-выборку-(downsampling).-3.4\"><span class=\"toc-item-num\">3.4&nbsp;&nbsp;</span>Попробуем уменьшить выборку (downsampling).</a></span></li></ul></li><li><span><a href=\"#Тестирование-модели\" data-toc-modified-id=\"Тестирование-модели-4\"><span class=\"toc-item-num\">4&nbsp;&nbsp;</span>Тестирование модели</a></span></li></ul></div>"
   ]
  },
  {
   "cell_type": "markdown",
   "metadata": {},
   "source": [
    "# Отток клиентов"
   ]
  },
  {
   "cell_type": "markdown",
   "metadata": {},
   "source": [
    "Из банка стали уходить клиенты. Каждый месяц. Немного, но заметно. Банковские маркетологи посчитали: сохранять текущих клиентов дешевле, чем привлекать новых.\n",
    "\n",
    "Нужно спрогнозировать, уйдёт клиент из банка в ближайшее время или нет. Вам предоставлены исторические данные о поведении клиентов и расторжении договоров с банком. \n",
    "\n",
    "Постройте модель с предельно большим значением *F1*-меры. Чтобы сдать проект успешно, нужно довести метрику до 0.59. Проверьте *F1*-меру на тестовой выборке самостоятельно.\n",
    "\n",
    "Дополнительно измеряйте *AUC-ROC*, сравнивайте её значение с *F1*-мерой.\n",
    "\n",
    "Источник данных: [https://www.kaggle.com/barelydedicated/bank-customer-churn-modeling](https://www.kaggle.com/barelydedicated/bank-customer-churn-modeling)"
   ]
  },
  {
   "cell_type": "markdown",
   "metadata": {},
   "source": [
    "## Подготовка данных"
   ]
  },
  {
   "cell_type": "code",
   "execution_count": 1,
   "metadata": {},
   "outputs": [],
   "source": [
    "import pandas as pd\n",
    "from sklearn.ensemble import RandomForestClassifier\n",
    "from sklearn.linear_model import LogisticRegression\n",
    "from sklearn.metrics import accuracy_score\n",
    "from sklearn.metrics import f1_score\n",
    "from sklearn.metrics import roc_auc_score\n",
    "from sklearn.model_selection import train_test_split\n",
    "from sklearn.preprocessing import StandardScaler\n",
    "from sklearn.tree import DecisionTreeClassifier\n",
    "from sklearn.utils import shuffle\n",
    "from tqdm import tqdm\n",
    "\n",
    "pd.options.mode.chained_assignment = None"
   ]
  },
  {
   "cell_type": "code",
   "execution_count": 2,
   "metadata": {},
   "outputs": [
    {
     "name": "stdout",
     "output_type": "stream",
     "text": [
      "<class 'pandas.core.frame.DataFrame'>\n",
      "RangeIndex: 10000 entries, 0 to 9999\n",
      "Data columns (total 14 columns):\n",
      " #   Column           Non-Null Count  Dtype  \n",
      "---  ------           --------------  -----  \n",
      " 0   RowNumber        10000 non-null  int64  \n",
      " 1   CustomerId       10000 non-null  int64  \n",
      " 2   Surname          10000 non-null  object \n",
      " 3   CreditScore      10000 non-null  int64  \n",
      " 4   Geography        10000 non-null  object \n",
      " 5   Gender           10000 non-null  object \n",
      " 6   Age              10000 non-null  int64  \n",
      " 7   Tenure           9091 non-null   float64\n",
      " 8   Balance          10000 non-null  float64\n",
      " 9   NumOfProducts    10000 non-null  int64  \n",
      " 10  HasCrCard        10000 non-null  int64  \n",
      " 11  IsActiveMember   10000 non-null  int64  \n",
      " 12  EstimatedSalary  10000 non-null  float64\n",
      " 13  Exited           10000 non-null  int64  \n",
      "dtypes: float64(3), int64(8), object(3)\n",
      "memory usage: 1.1+ MB\n"
     ]
    }
   ],
   "source": [
    "data = pd.read_csv('/datasets/Churn.csv')\n",
    "data.info()"
   ]
  },
  {
   "cell_type": "markdown",
   "metadata": {},
   "source": [
    "В столбце `Tenure` есть пропуски. Заполним пропуски медианным значением."
   ]
  },
  {
   "cell_type": "code",
   "execution_count": 3,
   "metadata": {},
   "outputs": [],
   "source": [
    "data.loc[data['Tenure'].isna(), ['Tenure']] = data['Tenure'].median()"
   ]
  },
  {
   "cell_type": "markdown",
   "metadata": {},
   "source": [
    "Столбцы `RowNumber`, `Surname`, `CustomerId` содержат уникальные значения. Фамилия, индекс, ID. Для прогноза они роли не играют, можем их удалить. Идентифицировать конкретного пользователя можно по индексу датафрейма, который совпадает с индексом в столбце `RowNumber`."
   ]
  },
  {
   "cell_type": "code",
   "execution_count": 4,
   "metadata": {},
   "outputs": [],
   "source": [
    "data_ohe = data.drop(['RowNumber', 'Surname', 'CustomerId'], axis=1)\n",
    "data_ohe = pd.get_dummies(data_ohe, drop_first=True)"
   ]
  },
  {
   "cell_type": "code",
   "execution_count": 5,
   "metadata": {},
   "outputs": [],
   "source": [
    "features = data_ohe.drop(['Exited'], axis=1)\n",
    "target = data_ohe['Exited']"
   ]
  },
  {
   "cell_type": "code",
   "execution_count": 6,
   "metadata": {},
   "outputs": [],
   "source": [
    "features_train, features_test, target_train, target_test = \\\n",
    "train_test_split(features, target, test_size=0.20, random_state=54321)\n",
    "features_train, features_valid, target_train, target_valid = \\\n",
    "train_test_split(features_train, target_train, test_size=0.25, random_state=54321)"
   ]
  },
  {
   "cell_type": "code",
   "execution_count": 7,
   "metadata": {},
   "outputs": [
    {
     "data": {
      "text/plain": [
       "((6000, 11), (2000, 11), (2000, 11), (6000,), (2000,), (2000,))"
      ]
     },
     "execution_count": 7,
     "metadata": {},
     "output_type": "execute_result"
    }
   ],
   "source": [
    "features_train.shape, features_valid.shape, features_test.shape, target_train.shape, target_valid.shape, target_test.shape"
   ]
  },
  {
   "cell_type": "markdown",
   "metadata": {},
   "source": [
    "Маштабируем числовые признаки в столбцах `CreditScore`, `Age`, `Tenure`, `Balance`, `EstimatedSalary`. Остальные столбцы в масштабировании не нуждаются. Данные в небольшом диапазоне."
   ]
  },
  {
   "cell_type": "code",
   "execution_count": 8,
   "metadata": {},
   "outputs": [],
   "source": [
    "numeric = ['CreditScore', 'Age', 'Tenure', 'Balance', 'EstimatedSalary']\n",
    "scaler = StandardScaler()\n",
    "scaler.fit(features_train[numeric])\n",
    "features_train[numeric] = scaler.transform(features_train[numeric])\n",
    "features_valid[numeric] = scaler.transform(features_valid[numeric])\n",
    "features_test[numeric] = scaler.transform(features_test[numeric])"
   ]
  },
  {
   "cell_type": "markdown",
   "metadata": {},
   "source": [
    "**Вывод**  \n",
    "После загрузки данных, я:\n",
    "- удалил столбцы содержащие уникальную персональную информацию не влияющую на анализ. \n",
    "- пропущенные данные заполнил медианным значением. \n",
    "- разделил на обущающую, валидационную выборки и тестовую, в соотношении 3:1:1. \n",
    "- масштабировал столбцы содержащие большие числа.  \n",
    "\n",
    "**Данные подготовлены.**"
   ]
  },
  {
   "cell_type": "markdown",
   "metadata": {},
   "source": [
    "## Исследование задачи"
   ]
  },
  {
   "cell_type": "markdown",
   "metadata": {},
   "source": [
    "Обучим модель Логистическая регрессия и посчитаем метрику `accuracy`."
   ]
  },
  {
   "cell_type": "code",
   "execution_count": 9,
   "metadata": {},
   "outputs": [
    {
     "data": {
      "text/plain": [
       "0.799"
      ]
     },
     "execution_count": 9,
     "metadata": {},
     "output_type": "execute_result"
    }
   ],
   "source": [
    "model_LR = LogisticRegression(solver='liblinear', random_state=54321)\n",
    "model_LR.fit(features_train, target_train)\n",
    "prediction_valid_LR = model_LR.predict(features_valid)\n",
    "accuracy_score(target_valid, prediction_valid_LR)"
   ]
  },
  {
   "cell_type": "markdown",
   "metadata": {},
   "source": [
    "Проверим сколько и каких значений содержит целевой признак, что бы понять насколько сбалансирован класс. Посчитаем метрику `accuracy` для модели содержащий наиболее частое значение. "
   ]
  },
  {
   "cell_type": "code",
   "execution_count": 10,
   "metadata": {},
   "outputs": [
    {
     "data": {
      "text/plain": [
       "0    1558\n",
       "1     442\n",
       "Name: Exited, dtype: int64"
      ]
     },
     "execution_count": 10,
     "metadata": {},
     "output_type": "execute_result"
    }
   ],
   "source": [
    "target_valid.value_counts()"
   ]
  },
  {
   "cell_type": "markdown",
   "metadata": {},
   "source": [
    "Класс не сбалансирован. Значений `0` в 3,5 раза больше значений `1`. Модель выдающая только `0` покажет `accuracy` равным:"
   ]
  },
  {
   "cell_type": "code",
   "execution_count": 11,
   "metadata": {},
   "outputs": [
    {
     "data": {
      "text/plain": [
       "0.779"
      ]
     },
     "execution_count": 11,
     "metadata": {},
     "output_type": "execute_result"
    }
   ],
   "source": [
    "1558/(1558+442)"
   ]
  },
  {
   "cell_type": "markdown",
   "metadata": {},
   "source": [
    "**Вывод**  \n",
    "Обучили модель Логистическая регрессия. Модель показала значение accuracy раное 79,9%. С помощью константной модели проверили адекватность. Accuracy константной модели равна 77,9%. Наша модель неадекватна. Использовать эту модель бесполезно. Использовать метрику accuracy нельзя. \n",
    "Такой результат получили, потому что целевой признак не сбалансирован.\n"
   ]
  },
  {
   "cell_type": "code",
   "execution_count": 12,
   "metadata": {},
   "outputs": [],
   "source": [
    "def print_f1_auc_roc(name, model):\n",
    "    f1 = f1_score(target_valid, model.predict(features_valid))\n",
    "    roc_a = roc_auc_score(target_valid, model.predict_proba(features_valid)[:,1])\n",
    "    if not name :\n",
    "        return f1, roc_a\n",
    "    print(f'Метрика F1 для {name} равна {f1}')\n",
    "    print(f'Метрика auc-roc для {name} равна {roc_a}')    "
   ]
  },
  {
   "cell_type": "code",
   "execution_count": 13,
   "metadata": {},
   "outputs": [
    {
     "name": "stdout",
     "output_type": "stream",
     "text": [
      "Метрика F1 для логистической регрессии равна 0.31864406779661014\n",
      "Метрика auc-roc для логистической регрессии равна 0.7576310271318955\n"
     ]
    }
   ],
   "source": [
    "print_f1_auc_roc('логистической регрессии', model_LR)"
   ]
  },
  {
   "cell_type": "markdown",
   "metadata": {},
   "source": [
    "Попробуем подобрать гиперпараметры у модели логистическая регресия."
   ]
  },
  {
   "cell_type": "code",
   "execution_count": 14,
   "metadata": {},
   "outputs": [
    {
     "name": "stdout",
     "output_type": "stream",
     "text": [
      "Метрика F1 для логистической регрессии равна 0.31864406779661014\n",
      "Метрика auc-roc для логистической регрессии равна 0.7576310271318955\n"
     ]
    }
   ],
   "source": [
    "print_f1_auc_roc('логистической регрессии', LogisticRegression(solver='liblinear', max_iter=1000, random_state=54321).\\\n",
    "                 fit(features_train, target_train))"
   ]
  },
  {
   "cell_type": "code",
   "execution_count": 15,
   "metadata": {},
   "outputs": [
    {
     "name": "stdout",
     "output_type": "stream",
     "text": [
      "Метрика F1 для логистической регрессии равна 0.31578947368421056\n",
      "Метрика auc-roc для логистической регрессии равна 0.7577936674818047\n"
     ]
    }
   ],
   "source": [
    "print_f1_auc_roc('логистической регрессии', LogisticRegression(solver='lbfgs', random_state=54321).\\\n",
    "                 fit(features_train, target_train))"
   ]
  },
  {
   "cell_type": "markdown",
   "metadata": {},
   "source": [
    "Изменение гиперпараметра max_iter на результат не повлияло, изменение гиперпараметра solver с liblinear на lbfgs слегка улучшило результат"
   ]
  },
  {
   "cell_type": "markdown",
   "metadata": {},
   "source": [
    "Обучим модель дерево решений без учета дисбаланса."
   ]
  },
  {
   "cell_type": "code",
   "execution_count": 16,
   "metadata": {},
   "outputs": [
    {
     "name": "stdout",
     "output_type": "stream",
     "text": [
      "Метрика F1 для дерева решений равна 0.5368536853685368\n",
      "Метрика auc-roc для дерева решений равна 0.7044519891495653\n"
     ]
    }
   ],
   "source": [
    "print_f1_auc_roc('дерева решений', DecisionTreeClassifier(random_state=54321).fit(features_train, target_train))"
   ]
  },
  {
   "cell_type": "markdown",
   "metadata": {},
   "source": [
    "Модель дерево решений показывает лучшие результаты, попробуем подобрать гиперпараметры."
   ]
  },
  {
   "cell_type": "code",
   "execution_count": 17,
   "metadata": {},
   "outputs": [
    {
     "data": {
      "text/plain": [
       "[('ar', 1, 0, 0.6804872240196562),\n",
       " ('f1', 2, 0.5049928673323822, 0.6804872240196562),\n",
       " ('ar', 2, 0.5049928673323822, 0.7405806550920951),\n",
       " ('f1', 3, 0.5424200278164116, 0.7405806550920951),\n",
       " ('ar', 3, 0.5424200278164116, 0.7978547447417793),\n",
       " ('ar', 4, 0.5424200278164116, 0.8154968662689722),\n",
       " ('f1', 5, 0.5714285714285714, 0.8154968662689722),\n",
       " ('ar', 5, 0.5714285714285714, 0.8354587910013417),\n",
       " ('f1', 6, 0.5885558583106267, 0.8354587910013417),\n",
       " ('ar', 6, 0.5885558583106267, 0.8425242072735089)]"
      ]
     },
     "execution_count": 17,
     "metadata": {},
     "output_type": "execute_result"
    }
   ],
   "source": [
    "f1_best, ar_best = 0, 0\n",
    "res = []\n",
    "for depth in range(1, 41):\n",
    "    f1_dt, ar_dt = print_f1_auc_roc('',  DecisionTreeClassifier(max_depth=depth, random_state=54321).\\\n",
    "                                    fit(features_train, target_train))\n",
    "    if (f1_dt > f1_best):\n",
    "        f1_best = f1_dt\n",
    "        res.append(('f1', depth, f1_best, ar_best))\n",
    "    if (ar_dt > ar_best):\n",
    "        ar_best = ar_dt\n",
    "        res.append(('ar', depth, f1_best, ar_best))\n",
    "res"
   ]
  },
  {
   "cell_type": "markdown",
   "metadata": {},
   "source": [
    "Лучшие результаты показывает модель с гиперпараметром max_depth = 6."
   ]
  },
  {
   "cell_type": "markdown",
   "metadata": {},
   "source": [
    "Лучшие результаты из рассмотренных моделей без учета дисбаланса показала модель решаюшее дерево с подобранными гиперпараметрами.  \n",
    "f1 = 0.5885558583106267, auc-roc = 0.8425242072735089"
   ]
  },
  {
   "cell_type": "markdown",
   "metadata": {},
   "source": [
    "## Борьба с дисбалансом"
   ]
  },
  {
   "cell_type": "markdown",
   "metadata": {},
   "source": [
    "### Улучшим качество моделей учтя дисбаланс. "
   ]
  },
  {
   "cell_type": "markdown",
   "metadata": {},
   "source": [
    "Используем взвешивание классов. Для оценки результата будем использовать метрику F1."
   ]
  },
  {
   "cell_type": "markdown",
   "metadata": {},
   "source": [
    "Рассмотрим модель логистическая регрессия."
   ]
  },
  {
   "cell_type": "code",
   "execution_count": 18,
   "metadata": {},
   "outputs": [
    {
     "data": {
      "text/plain": [
       "0.5192629815745393"
      ]
     },
     "execution_count": 18,
     "metadata": {},
     "output_type": "execute_result"
    }
   ],
   "source": [
    "model_LR = LogisticRegression(solver='liblinear', random_state=54321, class_weight='balanced')\n",
    "model_LR.fit(features_train, target_train)\n",
    "prediction_valid = model_LR.predict(features_valid)\n",
    "f1_score(target_valid, prediction_valid)"
   ]
  },
  {
   "cell_type": "markdown",
   "metadata": {},
   "source": [
    "Рассмотрим модель дерево решений"
   ]
  },
  {
   "cell_type": "code",
   "execution_count": 19,
   "metadata": {},
   "outputs": [
    {
     "data": {
      "text/plain": [
       "0.5017667844522968"
      ]
     },
     "execution_count": 19,
     "metadata": {},
     "output_type": "execute_result"
    }
   ],
   "source": [
    "model_DT = DecisionTreeClassifier(random_state=54321, class_weight='balanced')\n",
    "model_DT.fit(features_train, target_train)\n",
    "prediction_valid = model_DT.predict(features_valid)\n",
    "f1_score(target_valid, prediction_valid)"
   ]
  },
  {
   "cell_type": "markdown",
   "metadata": {},
   "source": [
    "Рассмотрим модель случайный лес"
   ]
  },
  {
   "cell_type": "code",
   "execution_count": 20,
   "metadata": {},
   "outputs": [
    {
     "data": {
      "text/plain": [
       "0.544395924308588"
      ]
     },
     "execution_count": 20,
     "metadata": {},
     "output_type": "execute_result"
    }
   ],
   "source": [
    "model_RF = RandomForestClassifier(random_state=54321, class_weight='balanced')\n",
    "model_RF.fit(features_train, target_train)\n",
    "prediction_valid = model_RF.predict(features_valid)\n",
    "f1_score(target_valid, prediction_valid)"
   ]
  },
  {
   "cell_type": "code",
   "execution_count": 21,
   "metadata": {},
   "outputs": [
    {
     "name": "stdout",
     "output_type": "stream",
     "text": [
      "Метрика F1 для логистической регрессии равна 0.5192629815745393\n",
      "Метрика auc-roc для логистической регрессии равна 0.7647683246301386\n"
     ]
    }
   ],
   "source": [
    "print_f1_auc_roc('логистической регрессии', LogisticRegression(solver='liblinear', random_state=54321, class_weight='balanced').\\\n",
    "                 fit(features_train, target_train))"
   ]
  },
  {
   "cell_type": "markdown",
   "metadata": {},
   "source": [
    "Подберем гиперпараметы"
   ]
  },
  {
   "cell_type": "code",
   "execution_count": 22,
   "metadata": {},
   "outputs": [
    {
     "name": "stdout",
     "output_type": "stream",
     "text": [
      "Метрика F1 для логистической регрессии равна 0.51802179379715\n",
      "Метрика auc-roc для логистической регрессии равна 0.7646942651850905\n"
     ]
    }
   ],
   "source": [
    "print_f1_auc_roc('логистической регрессии', LogisticRegression(solver='lbfgs', random_state=54321, class_weight='balanced').\\\n",
    "                 fit(features_train, target_train))"
   ]
  },
  {
   "cell_type": "markdown",
   "metadata": {},
   "source": [
    "Выбор лучших гиперпараметров, полученных без учета дисбаланса, ухудшил результаты модели, когда дисбаланс учли.  \n",
    "Вывод: при учете дисбаланса, набор лучших гиперпараметров может поменяться."
   ]
  },
  {
   "cell_type": "markdown",
   "metadata": {},
   "source": [
    "Обучим дерево решений на сбалансированной выборке"
   ]
  },
  {
   "cell_type": "code",
   "execution_count": 23,
   "metadata": {},
   "outputs": [
    {
     "name": "stdout",
     "output_type": "stream",
     "text": [
      "Метрика F1 для дерева решений равна 0.5017667844522968\n",
      "Метрика auc-roc для дерева решений равна 0.6786909194407496\n"
     ]
    }
   ],
   "source": [
    "print_f1_auc_roc('дерева решений', DecisionTreeClassifier(random_state=54321, class_weight='balanced').\\\n",
    "                 fit(features_train, target_train))"
   ]
  },
  {
   "cell_type": "markdown",
   "metadata": {},
   "source": [
    "Подберем гиперпараметы для дерева решений"
   ]
  },
  {
   "cell_type": "code",
   "execution_count": 24,
   "metadata": {},
   "outputs": [
    {
     "data": {
      "text/plain": [
       "[('f1', 1, 0.5058087578194816, 0),\n",
       " ('ar', 1, 0.5058087578194816, 0.6936915874279009),\n",
       " ('f1', 2, 0.5403996524761077, 0.6936915874279009),\n",
       " ('ar', 2, 0.5403996524761077, 0.7492942570530731),\n",
       " ('f1', 3, 0.5497287522603979, 0.7492942570530731),\n",
       " ('ar', 3, 0.5497287522603979, 0.7952082086908032),\n",
       " ('f1', 4, 0.5520504731861198, 0.7952082086908032),\n",
       " ('ar', 4, 0.5520504731861198, 0.8148601002561586),\n",
       " ('ar', 5, 0.5520504731861198, 0.8173069662347016),\n",
       " ('f1', 6, 0.5822102425876011, 0.8173069662347016)]"
      ]
     },
     "execution_count": 24,
     "metadata": {},
     "output_type": "execute_result"
    }
   ],
   "source": [
    "f1_best, ar_best = 0, 0\n",
    "res = []\n",
    "for depth in range(1, 41):\n",
    "    f1_dt, ar_dt = print_f1_auc_roc('',  DecisionTreeClassifier(max_depth=depth, class_weight='balanced', random_state=54321).\\\n",
    "                                    fit(features_train, target_train))\n",
    "    if (f1_dt > f1_best):\n",
    "        f1_best = f1_dt\n",
    "        res.append(('f1', depth, f1_best, ar_best))\n",
    "    if (ar_dt > ar_best):\n",
    "        ar_best = ar_dt\n",
    "        res.append(('ar', depth, f1_best, ar_best))\n",
    "res"
   ]
  },
  {
   "cell_type": "markdown",
   "metadata": {},
   "source": [
    "Лучший результат показывает модель с гиперпараметром max_depth = 6"
   ]
  },
  {
   "cell_type": "code",
   "execution_count": 25,
   "metadata": {},
   "outputs": [
    {
     "name": "stdout",
     "output_type": "stream",
     "text": [
      "Метрика F1 для дерева решений равна 0.5822102425876011\n",
      "Метрика auc-roc для дерева решений равна 0.8107294710122619\n"
     ]
    }
   ],
   "source": [
    "print_f1_auc_roc('дерева решений', DecisionTreeClassifier(random_state=54321, max_depth = 6, class_weight='balanced').\\\n",
    "                 fit(features_train, target_train))"
   ]
  },
  {
   "cell_type": "markdown",
   "metadata": {},
   "source": [
    "Обучим случайный лес на сбалансированной выборке"
   ]
  },
  {
   "cell_type": "code",
   "execution_count": 26,
   "metadata": {},
   "outputs": [
    {
     "name": "stdout",
     "output_type": "stream",
     "text": [
      "Метрика F1 для случайного леса равна 0.544395924308588\n",
      "Метрика auc-roc для случайного леса равна 0.8483923291840683\n"
     ]
    }
   ],
   "source": [
    "print_f1_auc_roc('случайного леса', RandomForestClassifier(random_state=54321, class_weight='balanced').\\\n",
    "                 fit(features_train, target_train))"
   ]
  },
  {
   "cell_type": "markdown",
   "metadata": {},
   "source": [
    "С подобранными гиперпараметрами случайный лес показывает следующие результаты"
   ]
  },
  {
   "cell_type": "code",
   "execution_count": 40,
   "metadata": {},
   "outputs": [
    {
     "name": "stderr",
     "output_type": "stream",
     "text": [
      "100%|██████████| 39/39 [00:35<00:00,  1.10it/s]\n"
     ]
    },
    {
     "name": "stdout",
     "output_type": "stream",
     "text": [
      "---------\n"
     ]
    },
    {
     "name": "stderr",
     "output_type": "stream",
     "text": [
      "100%|██████████| 81/81 [00:38<00:00,  2.08it/s]"
     ]
    },
    {
     "name": "stdout",
     "output_type": "stream",
     "text": [
      "F1 = 0.6389452332657201, Количество деревьев = 78, глубина = 9\n"
     ]
    },
    {
     "name": "stderr",
     "output_type": "stream",
     "text": [
      "\n"
     ]
    }
   ],
   "source": [
    "f1, f1_best, depth_best, model_RF_best = 0, 0, 1, 0\n",
    "for depth in tqdm(range(1, 40)):\n",
    "    model_RF = RandomForestClassifier(random_state=54321, max_depth=depth, class_weight='balanced')\n",
    "    model_RF.fit(features_train, target_train)\n",
    "    prediction_valid = model_RF.predict(features_valid)\n",
    "    f1 = f1_score(target_valid, prediction_valid)\n",
    "    if f1 > f1_best:\n",
    "        f1_best = f1\n",
    "        depth_best = depth\n",
    "print('---------')        \n",
    "for est in tqdm(range(20, 101)):\n",
    "    model_RF = RandomForestClassifier(n_estimators=est, random_state=54321, max_depth=depth_best, class_weight='balanced')\n",
    "    model_RF.fit(features_train, target_train)\n",
    "    prediction_valid = model_RF.predict(features_valid)\n",
    "    f1 = f1_score(target_valid, prediction_valid)\n",
    "    if f1 > f1_best:\n",
    "        f1_best = f1\n",
    "        model_RF_best = model_RF\n",
    "        est_best = est\n",
    "print(f'F1 = {f1_best}, Количество деревьев = {est_best}, глубина = {depth_best}')"
   ]
  },
  {
   "cell_type": "code",
   "execution_count": 27,
   "metadata": {},
   "outputs": [
    {
     "name": "stdout",
     "output_type": "stream",
     "text": [
      "Метрика F1 для случайного леса равна 0.6224156692056584\n",
      "Метрика auc-roc для случайного леса равна 0.8603964939387427\n"
     ]
    }
   ],
   "source": [
    "print_f1_auc_roc('случайного леса', RandomForestClassifier(n_estimators=78, random_state=54321, max_depth=9, class_weight='balanced').\\\n",
    "                 fit(features_train, target_train))"
   ]
  },
  {
   "cell_type": "markdown",
   "metadata": {},
   "source": [
    "Лучшее значение дает модель случайный лес F1 = 0.6224156692056584, auc-roc = 0.8603064608879001."
   ]
  },
  {
   "cell_type": "markdown",
   "metadata": {},
   "source": [
    "Лучшее значение дает модель случайный лес - 0.544"
   ]
  },
  {
   "cell_type": "markdown",
   "metadata": {},
   "source": [
    "### Попробуем увеличить выборку (upsampling)."
   ]
  },
  {
   "cell_type": "markdown",
   "metadata": {},
   "source": [
    "Разобъем обучающую выборку по целевому признаку на 0 и 1. Количество 1 увеличим пропорционально 0. Перемешаем."
   ]
  },
  {
   "cell_type": "code",
   "execution_count": 28,
   "metadata": {},
   "outputs": [],
   "source": [
    "features_train_0 = features_train[target_train == 0]\n",
    "features_train_1 = features_train[target_train == 1]\n",
    "target_train_0 = target_train[target_train == 0]\n",
    "target_train_1 = target_train[target_train == 1]\n",
    "repeat = round(len(target_train_0)/len(target_train_1))"
   ]
  },
  {
   "cell_type": "code",
   "execution_count": 29,
   "metadata": {},
   "outputs": [],
   "source": [
    "features_train_up = pd.concat([features_train_0] + [features_train_1] * repeat)\n",
    "target_train_up = pd.concat([target_train_0] + [target_train_1] * repeat)\n",
    "features_train_up, target_train_up = shuffle(features_train_up, target_train_up, random_state=54321)"
   ]
  },
  {
   "cell_type": "markdown",
   "metadata": {},
   "source": [
    "Обучим модели на увеличенной выборке"
   ]
  },
  {
   "cell_type": "code",
   "execution_count": 30,
   "metadata": {},
   "outputs": [
    {
     "name": "stdout",
     "output_type": "stream",
     "text": [
      "Логистическая регрессия. F1 = 0.5192629815745393\n"
     ]
    }
   ],
   "source": [
    "model_LR.fit(features_train_up, target_train_up)\n",
    "prediction_valid = model_LR.predict(features_valid)\n",
    "print('Логистическая регрессия. F1 =', f1_score(target_valid, prediction_valid))"
   ]
  },
  {
   "cell_type": "code",
   "execution_count": 31,
   "metadata": {},
   "outputs": [
    {
     "name": "stdout",
     "output_type": "stream",
     "text": [
      "Решающее дерево. F1 = 0.5125284738041002\n"
     ]
    }
   ],
   "source": [
    "model_DT.fit(features_train_up, target_train_up)\n",
    "prediction_valid = model_DT.predict(features_valid)\n",
    "print('Решающее дерево. F1 =', f1_score(target_valid, prediction_valid))"
   ]
  },
  {
   "cell_type": "code",
   "execution_count": 32,
   "metadata": {},
   "outputs": [
    {
     "name": "stdout",
     "output_type": "stream",
     "text": [
      "Случайный лес. F1 = 0.6039119804400978\n"
     ]
    }
   ],
   "source": [
    "model_RF.fit(features_train_up, target_train_up)\n",
    "prediction_valid = model_RF.predict(features_valid)\n",
    "print('Случайный лес. F1 =', f1_score(target_valid, prediction_valid))"
   ]
  },
  {
   "cell_type": "code",
   "execution_count": 33,
   "metadata": {},
   "outputs": [
    {
     "name": "stdout",
     "output_type": "stream",
     "text": [
      "Метрика F1 для логистической регрессии равна 0.5179615705931494\n",
      "Метрика auc-roc для логистической регрессии равна 0.7647189516667732\n"
     ]
    }
   ],
   "source": [
    "print_f1_auc_roc('логистической регрессии', LogisticRegression(solver='liblinear', random_state=54321).\\\n",
    "                 fit(features_train_up, target_train_up))"
   ]
  },
  {
   "cell_type": "code",
   "execution_count": 34,
   "metadata": {},
   "outputs": [
    {
     "name": "stdout",
     "output_type": "stream",
     "text": [
      "Метрика F1 для дерева решений равна 0.49706916764361075\n",
      "Метрика auc-roc для дерева решений равна 0.6759550764119215\n"
     ]
    }
   ],
   "source": [
    "print_f1_auc_roc('дерева решений', DecisionTreeClassifier(random_state=54321).\\\n",
    "                 fit(features_train_up, target_train_up))"
   ]
  },
  {
   "cell_type": "code",
   "execution_count": 35,
   "metadata": {},
   "outputs": [
    {
     "name": "stdout",
     "output_type": "stream",
     "text": [
      "Метрика F1 для случайного леса равна 0.5990099009900991\n",
      "Метрика auc-roc для случайного леса равна 0.850618468973449\n"
     ]
    }
   ],
   "source": [
    "print_f1_auc_roc('случайного леса', RandomForestClassifier(random_state=54321).\\\n",
    "                 fit(features_train_up, target_train_up))"
   ]
  },
  {
   "cell_type": "markdown",
   "metadata": {},
   "source": [
    "Подберем гиперпараметры"
   ]
  },
  {
   "cell_type": "code",
   "execution_count": 37,
   "metadata": {},
   "outputs": [
    {
     "data": {
      "text/plain": [
       "[('f1', 1, 0.5058087578194816, 0),\n",
       " ('ar', 1, 0.5058087578194816, 0.6936915874279009),\n",
       " ('f1', 2, 0.5403996524761077, 0.6936915874279009),\n",
       " ('ar', 2, 0.5403996524761077, 0.7492942570530731),\n",
       " ('f1', 3, 0.5497287522603979, 0.7492942570530731),\n",
       " ('ar', 3, 0.5497287522603979, 0.7952082086908032),\n",
       " ('f1', 4, 0.5520504731861198, 0.7952082086908032),\n",
       " ('ar', 4, 0.5520504731861198, 0.8148601002561586),\n",
       " ('ar', 5, 0.5520504731861198, 0.8173069662347016),\n",
       " ('f1', 6, 0.5822102425876011, 0.8173069662347016)]"
      ]
     },
     "execution_count": 37,
     "metadata": {},
     "output_type": "execute_result"
    }
   ],
   "source": [
    "f1_best, ar_best = 0, 0\n",
    "res = []\n",
    "for depth in range(1, 41):\n",
    "    f1_dt, ar_dt = print_f1_auc_roc('',  DecisionTreeClassifier(max_depth=depth, random_state=54321).\\\n",
    "                                    fit(features_train_up, target_train_up))\n",
    "    if (f1_dt > f1_best):\n",
    "        f1_best = f1_dt\n",
    "        res.append(('f1', depth, f1_best, ar_best))\n",
    "    if (ar_dt > ar_best):\n",
    "        ar_best = ar_dt\n",
    "        res.append(('ar', depth, f1_best, ar_best))\n",
    "res"
   ]
  },
  {
   "cell_type": "code",
   "execution_count": 38,
   "metadata": {},
   "outputs": [
    {
     "name": "stdout",
     "output_type": "stream",
     "text": [
      "Метрика F1 для дерева решений равна 0.5822102425876011\n",
      "Метрика auc-roc для дерева решений равна 0.8107294710122619\n"
     ]
    }
   ],
   "source": [
    "print_f1_auc_roc('дерева решений', DecisionTreeClassifier(max_depth=6, random_state=54321).\\\n",
    "                 fit(features_train_up, target_train_up))"
   ]
  },
  {
   "cell_type": "code",
   "execution_count": 42,
   "metadata": {},
   "outputs": [
    {
     "name": "stderr",
     "output_type": "stream",
     "text": [
      "100%|██████████| 39/39 [00:33<00:00,  1.17it/s]\n"
     ]
    },
    {
     "name": "stdout",
     "output_type": "stream",
     "text": [
      "---------\n"
     ]
    },
    {
     "name": "stderr",
     "output_type": "stream",
     "text": [
      "100%|██████████| 81/81 [00:34<00:00,  2.32it/s]"
     ]
    },
    {
     "name": "stdout",
     "output_type": "stream",
     "text": [
      "F1 = 0.6316831683168317, Количество деревьев = 78, глубина = 8\n"
     ]
    },
    {
     "name": "stderr",
     "output_type": "stream",
     "text": [
      "\n"
     ]
    }
   ],
   "source": [
    "f1, f1_best, depth_best, model_RF_best = 0, 0, 1, 0\n",
    "for depth in tqdm(range(1, 40)):\n",
    "    model_RF = RandomForestClassifier(random_state=54321, max_depth=depth)\n",
    "    model_RF.fit(features_train_up, target_train_up)\n",
    "    prediction_valid = model_RF.predict(features_valid)\n",
    "    f1 = f1_score(target_valid, prediction_valid)\n",
    "    if f1 > f1_best:\n",
    "        f1_best = f1\n",
    "        depth_best = depth\n",
    "print('---------')        \n",
    "for est in tqdm(range(20, 101)):\n",
    "    model_RF = RandomForestClassifier(n_estimators=est, random_state=54321, max_depth=depth_best)\n",
    "    model_RF.fit(features_train_up, target_train_up)\n",
    "    prediction_valid = model_RF.predict(features_valid)\n",
    "    f1 = f1_score(target_valid, prediction_valid)\n",
    "    if f1 > f1_best:\n",
    "        f1_best = f1\n",
    "        model_RF_best = model_RF\n",
    "        est_best = est\n",
    "print(f'F1 = {f1_best}, Количество деревьев = {est_best}, глубина = {depth_best}')"
   ]
  },
  {
   "cell_type": "markdown",
   "metadata": {},
   "source": [
    "Лучшие гиперпараметры для модели случайный лес обученной на увеличенной выборке. Деревьев - 78, глубина 8."
   ]
  },
  {
   "cell_type": "code",
   "execution_count": 46,
   "metadata": {},
   "outputs": [
    {
     "name": "stdout",
     "output_type": "stream",
     "text": [
      "Метрика F1 для случайного леса равна 0.6214355948869223\n",
      "Метрика auc-roc для случайного леса равна 0.8619531944307297\n"
     ]
    }
   ],
   "source": [
    "print_f1_auc_roc('случайного леса', RandomForestClassifier(n_estimators=78, max_depth=8, random_state=54321).\\\n",
    "                 fit(features_train_up, target_train_up))"
   ]
  },
  {
   "cell_type": "markdown",
   "metadata": {},
   "source": [
    "Лучший результат показывает модель `случайный лес`.  "
   ]
  },
  {
   "cell_type": "markdown",
   "metadata": {},
   "source": [
    "### Поробуем чуть-чуть улучшить модель гиперпараметрами."
   ]
  },
  {
   "cell_type": "code",
   "execution_count": 53,
   "metadata": {},
   "outputs": [
    {
     "name": "stderr",
     "output_type": "stream",
     "text": [
      "100%|██████████| 39/39 [00:33<00:00,  1.15it/s]\n"
     ]
    },
    {
     "name": "stdout",
     "output_type": "stream",
     "text": [
      "---------\n"
     ]
    },
    {
     "name": "stderr",
     "output_type": "stream",
     "text": [
      "100%|██████████| 81/81 [00:36<00:00,  2.19it/s]"
     ]
    },
    {
     "name": "stdout",
     "output_type": "stream",
     "text": [
      "F1 = 0.6389452332657201, Количество деревьев = 78, глубина = 9\n"
     ]
    },
    {
     "name": "stderr",
     "output_type": "stream",
     "text": [
      "\n"
     ]
    }
   ],
   "source": [
    "f1, f1_best, depth_best, model_RF_best = 0, 0, 1, 0\n",
    "for depth in tqdm(range(1, 40)):\n",
    "    model_RF = RandomForestClassifier(random_state=54321, max_depth=depth, class_weight='balanced')\n",
    "    model_RF.fit(features_train_up, target_train_up)\n",
    "    prediction_valid = model_RF.predict(features_valid)\n",
    "    f1 = f1_score(target_valid, prediction_valid)\n",
    "    if f1 > f1_best:\n",
    "        f1_best = f1\n",
    "        depth_best = depth\n",
    "print('---------')        \n",
    "for est in tqdm(range(20, 101)):\n",
    "    model_RF = RandomForestClassifier(n_estimators=est, random_state=54321, max_depth=depth_best, class_weight='balanced')\n",
    "    model_RF.fit(features_train_up, target_train_up)\n",
    "    prediction_valid = model_RF.predict(features_valid)\n",
    "    f1 = f1_score(target_valid, prediction_valid)\n",
    "    if f1 > f1_best:\n",
    "        f1_best = f1\n",
    "        model_RF_best = model_RF\n",
    "        est_best = est\n",
    "print(f'F1 = {f1_best}, Количество деревьев = {est_best}, глубина = {depth_best}')"
   ]
  },
  {
   "cell_type": "markdown",
   "metadata": {},
   "source": [
    "Лучшая модель `RandomForestClassifier` с количеством деревьев 78 и глубиной 9."
   ]
  },
  {
   "cell_type": "markdown",
   "metadata": {},
   "source": [
    "### Попробуем уменьшить выборку (downsampling)."
   ]
  },
  {
   "cell_type": "code",
   "execution_count": 43,
   "metadata": {},
   "outputs": [],
   "source": [
    "division = len(target_train_1)/len(target_train_0)"
   ]
  },
  {
   "cell_type": "markdown",
   "metadata": {},
   "source": [
    "Уменьшим выборку, перемешаем."
   ]
  },
  {
   "cell_type": "code",
   "execution_count": 47,
   "metadata": {},
   "outputs": [],
   "source": [
    "features_train_down = pd.concat([features_train_0.sample(frac=division, random_state=54321)] + [features_train_1])\n",
    "target_train_down = pd.concat([target_train_0.sample(frac=division, random_state=54321)] + [target_train_1])\n",
    "features_train_down, target_train_down = shuffle(features_train_down, target_train_down, random_state=54321)"
   ]
  },
  {
   "cell_type": "markdown",
   "metadata": {},
   "source": [
    "Обучим лучшую модель на уменьшеной выборке."
   ]
  },
  {
   "cell_type": "code",
   "execution_count": 48,
   "metadata": {},
   "outputs": [
    {
     "name": "stdout",
     "output_type": "stream",
     "text": [
      "Случайный лес. F1 = 0.6039426523297491\n"
     ]
    }
   ],
   "source": [
    "model_RF_best_down = RandomForestClassifier(n_estimators=78, random_state=54321, max_depth=9)\n",
    "model_RF_best_down.fit(features_train_down, target_train_down)\n",
    "prediction_valid = model_RF_best_down.predict(features_valid)\n",
    "print('Случайный лес. F1 =', f1_score(target_valid, prediction_valid))"
   ]
  },
  {
   "cell_type": "code",
   "execution_count": 51,
   "metadata": {},
   "outputs": [
    {
     "name": "stdout",
     "output_type": "stream",
     "text": [
      "Метрика F1 для случайного леса равна 0.6116152450090744\n",
      "Метрика auc-roc для случайного леса равна 0.8605765600404278\n"
     ]
    }
   ],
   "source": [
    "print_f1_auc_roc('случайного леса', RandomForestClassifier(n_estimators=78, max_depth=8, random_state=54321).\\\n",
    "                 fit(features_train_down, target_train_down))"
   ]
  },
  {
   "cell_type": "markdown",
   "metadata": {},
   "source": [
    "Модель показывает снижение значения метрики. Уменьшение выборки в данном случае на пользу не пошло."
   ]
  },
  {
   "cell_type": "markdown",
   "metadata": {},
   "source": [
    "**Вывод**  \n",
    "Выбранная модель - Случайный лес из 78 деревьев с глубиной 9. Значение метрики F1 = 0.6389452332657201.  "
   ]
  },
  {
   "cell_type": "markdown",
   "metadata": {},
   "source": [
    "## Тестирование модели"
   ]
  },
  {
   "cell_type": "markdown",
   "metadata": {},
   "source": [
    "Протестируем нашу лучшую модель и вычислим метрику AUC-ROC."
   ]
  },
  {
   "cell_type": "code",
   "execution_count": 54,
   "metadata": {},
   "outputs": [
    {
     "name": "stdout",
     "output_type": "stream",
     "text": [
      "Случайный лес. F1 = 0.6461187214611872\n"
     ]
    }
   ],
   "source": [
    "prediction_test = model_RF_best.predict(features_test)\n",
    "print('Случайный лес. F1 =', f1_score(target_test, prediction_test))"
   ]
  },
  {
   "cell_type": "markdown",
   "metadata": {},
   "source": [
    "Вычислим AUC-ROC."
   ]
  },
  {
   "cell_type": "code",
   "execution_count": 55,
   "metadata": {},
   "outputs": [],
   "source": [
    "pos_ver = model_RF_best.predict_proba(features_valid)[:,1]"
   ]
  },
  {
   "cell_type": "code",
   "execution_count": 56,
   "metadata": {},
   "outputs": [
    {
     "data": {
      "text/plain": [
       "0.8590619717818994"
      ]
     },
     "execution_count": 56,
     "metadata": {},
     "output_type": "execute_result"
    }
   ],
   "source": [
    "roc_auc_score(target_valid, pos_ver)"
   ]
  },
  {
   "cell_type": "markdown",
   "metadata": {},
   "source": [
    "Значение метрики AUC-ROC равно 0.8590619717818994"
   ]
  },
  {
   "cell_type": "markdown",
   "metadata": {},
   "source": [
    "**Вывод**  \n",
    "Лучшие результаты показала модель случайный лес с подобранными гиперпараметрами.  \n",
    "На тестовой выборке F1 = 0.6461187214611872, AUC-ROC = 0.8590619717818994.  \n",
    "Удалось достичь F1-меры равной ~ 0.65  \n",
    "В целовом признаке был дисбаланс, без использования специальных техник, достичь результата не удалось бы."
   ]
  },
  {
   "cell_type": "markdown",
   "metadata": {},
   "source": [
    "**Вывод**  \n",
    "В этом проекте нам нужно было спрогнозировать, уйдёт клиент из банка в ближайшее время или нет.  \n",
    "Мы подготовили данные. Заполнили пропуски. Исключили ненужные столбцы. Применили прямое кодирование и масштабирование данных.  \n",
    "Обучили модель без учета дисбаланса. Проверили баланс классов.  \n",
    "Сбалансировали 3 способами целевой класс и обучили 3 модели.  \n",
    "Выбрали лучшую и протестировали ее.  \n",
    "Достигли F1-меры 0,646, исследовали метрику AUC-ROC.\n",
    "Лучшая модель Случайный лес из 78 деревьев с глубиной 9."
   ]
  }
 ],
 "metadata": {
  "ExecuteTimeLog": [
   {
    "duration": 1271,
    "start_time": "2023-03-19T14:54:59.092Z"
   },
   {
    "duration": 127,
    "start_time": "2023-03-19T14:55:02.181Z"
   },
   {
    "duration": 45,
    "start_time": "2023-03-19T14:55:06.702Z"
   },
   {
    "duration": 6,
    "start_time": "2023-03-19T15:01:05.217Z"
   },
   {
    "duration": 24,
    "start_time": "2023-03-19T15:01:12.829Z"
   },
   {
    "duration": 5,
    "start_time": "2023-03-19T15:01:21.555Z"
   },
   {
    "duration": 8,
    "start_time": "2023-03-19T15:03:13.099Z"
   },
   {
    "duration": 31,
    "start_time": "2023-03-19T15:03:21.345Z"
   },
   {
    "duration": 23,
    "start_time": "2023-03-19T15:04:16.975Z"
   },
   {
    "duration": 13,
    "start_time": "2023-03-19T15:07:08.861Z"
   },
   {
    "duration": 8,
    "start_time": "2023-03-19T15:07:49.179Z"
   },
   {
    "duration": 6,
    "start_time": "2023-03-19T15:08:02.908Z"
   },
   {
    "duration": 24,
    "start_time": "2023-03-19T15:14:26.914Z"
   },
   {
    "duration": 261,
    "start_time": "2023-03-19T15:16:44.612Z"
   },
   {
    "duration": 251,
    "start_time": "2023-03-19T15:16:54.085Z"
   },
   {
    "duration": 29,
    "start_time": "2023-03-19T15:17:39.331Z"
   },
   {
    "duration": 34,
    "start_time": "2023-03-19T15:18:27.076Z"
   },
   {
    "duration": 7,
    "start_time": "2023-03-19T15:19:10.381Z"
   },
   {
    "duration": 7,
    "start_time": "2023-03-19T15:19:12.478Z"
   },
   {
    "duration": 27,
    "start_time": "2023-03-19T15:32:23.887Z"
   },
   {
    "duration": 12,
    "start_time": "2023-03-19T15:32:27.893Z"
   },
   {
    "duration": 8,
    "start_time": "2023-03-19T15:32:30.340Z"
   },
   {
    "duration": 210,
    "start_time": "2023-03-19T15:36:25.419Z"
   },
   {
    "duration": 3,
    "start_time": "2023-03-19T15:36:46.590Z"
   },
   {
    "duration": 29,
    "start_time": "2023-03-19T15:36:49.832Z"
   },
   {
    "duration": 37,
    "start_time": "2023-03-19T15:37:27.512Z"
   },
   {
    "duration": 46,
    "start_time": "2023-03-19T15:43:04.888Z"
   },
   {
    "duration": 57,
    "start_time": "2023-03-19T15:43:20.178Z"
   },
   {
    "duration": 63,
    "start_time": "2023-03-19T15:43:38.696Z"
   },
   {
    "duration": 29,
    "start_time": "2023-03-19T15:43:52.841Z"
   },
   {
    "duration": 44,
    "start_time": "2023-03-19T15:44:42.700Z"
   },
   {
    "duration": 11,
    "start_time": "2023-03-19T15:45:50.987Z"
   },
   {
    "duration": 7,
    "start_time": "2023-03-19T15:45:58.337Z"
   },
   {
    "duration": 18,
    "start_time": "2023-03-19T15:46:06.088Z"
   },
   {
    "duration": 14,
    "start_time": "2023-03-19T15:46:50.519Z"
   },
   {
    "duration": 7,
    "start_time": "2023-03-19T15:47:03.446Z"
   },
   {
    "duration": 92,
    "start_time": "2023-03-19T15:47:30.895Z"
   },
   {
    "duration": 20,
    "start_time": "2023-03-19T15:48:11.029Z"
   },
   {
    "duration": 64,
    "start_time": "2023-03-19T15:48:16.716Z"
   },
   {
    "duration": 13,
    "start_time": "2023-03-19T15:49:22.383Z"
   },
   {
    "duration": 6,
    "start_time": "2023-03-19T15:49:48.716Z"
   },
   {
    "duration": 39,
    "start_time": "2023-03-19T15:57:05.091Z"
   },
   {
    "duration": 33,
    "start_time": "2023-03-19T15:57:07.696Z"
   },
   {
    "duration": 61,
    "start_time": "2023-03-19T15:57:21.458Z"
   },
   {
    "duration": 9,
    "start_time": "2023-03-19T15:57:54.710Z"
   },
   {
    "duration": 54,
    "start_time": "2023-03-19T15:57:58.396Z"
   },
   {
    "duration": 46,
    "start_time": "2023-03-19T15:58:11.192Z"
   },
   {
    "duration": 10,
    "start_time": "2023-03-19T15:59:10.054Z"
   },
   {
    "duration": 77,
    "start_time": "2023-03-19T15:59:12.695Z"
   },
   {
    "duration": 32,
    "start_time": "2023-03-19T15:59:15.107Z"
   },
   {
    "duration": 34,
    "start_time": "2023-03-19T15:59:18.096Z"
   },
   {
    "duration": 53,
    "start_time": "2023-03-19T15:59:21.635Z"
   },
   {
    "duration": 62,
    "start_time": "2023-03-19T15:59:24.662Z"
   },
   {
    "duration": 14,
    "start_time": "2023-03-19T16:01:45.584Z"
   },
   {
    "duration": 123,
    "start_time": "2023-03-19T16:01:48.147Z"
   },
   {
    "duration": 37,
    "start_time": "2023-03-19T16:01:50.880Z"
   },
   {
    "duration": 23,
    "start_time": "2023-03-19T16:01:54.443Z"
   },
   {
    "duration": 62,
    "start_time": "2023-03-19T16:01:56.934Z"
   },
   {
    "duration": 20,
    "start_time": "2023-03-19T16:02:02.260Z"
   },
   {
    "duration": 78,
    "start_time": "2023-03-19T16:02:06.774Z"
   },
   {
    "duration": 78,
    "start_time": "2023-03-19T16:02:57.340Z"
   },
   {
    "duration": 57,
    "start_time": "2023-03-19T16:03:15.179Z"
   },
   {
    "duration": 85,
    "start_time": "2023-03-19T16:12:01.940Z"
   },
   {
    "duration": 6,
    "start_time": "2023-03-19T16:42:22.319Z"
   },
   {
    "duration": 14,
    "start_time": "2023-03-19T16:42:36.010Z"
   },
   {
    "duration": 23,
    "start_time": "2023-03-19T16:42:42.808Z"
   },
   {
    "duration": 11,
    "start_time": "2023-03-19T16:43:14.017Z"
   },
   {
    "duration": 24,
    "start_time": "2023-03-19T16:43:30.705Z"
   },
   {
    "duration": 11,
    "start_time": "2023-03-19T16:43:45.601Z"
   },
   {
    "duration": 11,
    "start_time": "2023-03-19T16:44:00.306Z"
   },
   {
    "duration": 21,
    "start_time": "2023-03-19T16:44:26.416Z"
   },
   {
    "duration": 18,
    "start_time": "2023-03-19T16:44:41.003Z"
   },
   {
    "duration": 6,
    "start_time": "2023-03-19T16:44:44.216Z"
   },
   {
    "duration": 41,
    "start_time": "2023-03-19T16:44:46.556Z"
   },
   {
    "duration": 6,
    "start_time": "2023-03-19T16:44:48.851Z"
   },
   {
    "duration": 79,
    "start_time": "2023-03-19T16:44:51.060Z"
   },
   {
    "duration": 1349,
    "start_time": "2023-03-19T16:46:14.205Z"
   },
   {
    "duration": 85,
    "start_time": "2023-03-19T16:46:15.556Z"
   },
   {
    "duration": 11,
    "start_time": "2023-03-19T16:46:15.642Z"
   },
   {
    "duration": 21,
    "start_time": "2023-03-19T16:46:15.655Z"
   },
   {
    "duration": 29,
    "start_time": "2023-03-19T16:46:15.680Z"
   },
   {
    "duration": 17,
    "start_time": "2023-03-19T16:46:15.711Z"
   },
   {
    "duration": 25,
    "start_time": "2023-03-19T16:46:15.730Z"
   },
   {
    "duration": 79,
    "start_time": "2023-03-19T16:46:19.203Z"
   },
   {
    "duration": 61,
    "start_time": "2023-03-19T16:51:45.362Z"
   },
   {
    "duration": 209,
    "start_time": "2023-03-19T16:55:31.114Z"
   },
   {
    "duration": 3,
    "start_time": "2023-03-19T16:56:08.415Z"
   },
   {
    "duration": 98,
    "start_time": "2023-03-19T16:56:12.016Z"
   },
   {
    "duration": 122,
    "start_time": "2023-03-19T16:56:40.890Z"
   },
   {
    "duration": 15,
    "start_time": "2023-03-19T16:57:44.862Z"
   },
   {
    "duration": 12,
    "start_time": "2023-03-19T16:58:23.591Z"
   },
   {
    "duration": 3,
    "start_time": "2023-03-19T16:58:28.937Z"
   },
   {
    "duration": 67,
    "start_time": "2023-03-19T16:58:31.191Z"
   },
   {
    "duration": 7,
    "start_time": "2023-03-19T16:58:34.243Z"
   },
   {
    "duration": 18,
    "start_time": "2023-03-19T16:58:37.118Z"
   },
   {
    "duration": 18,
    "start_time": "2023-03-19T16:58:39.496Z"
   },
   {
    "duration": 6,
    "start_time": "2023-03-19T16:58:42.138Z"
   },
   {
    "duration": 41,
    "start_time": "2023-03-19T16:58:44.719Z"
   },
   {
    "duration": 46,
    "start_time": "2023-03-19T16:58:47.325Z"
   },
   {
    "duration": 8,
    "start_time": "2023-03-19T16:58:50.110Z"
   },
   {
    "duration": 5,
    "start_time": "2023-03-19T17:13:25.728Z"
   },
   {
    "duration": 3,
    "start_time": "2023-03-19T17:19:52.556Z"
   },
   {
    "duration": 6,
    "start_time": "2023-03-19T17:20:07.909Z"
   },
   {
    "duration": 4,
    "start_time": "2023-03-19T17:54:14.025Z"
   },
   {
    "duration": 98,
    "start_time": "2023-03-19T17:54:14.031Z"
   },
   {
    "duration": 6,
    "start_time": "2023-03-19T17:54:14.131Z"
   },
   {
    "duration": 18,
    "start_time": "2023-03-19T17:54:14.138Z"
   },
   {
    "duration": 15,
    "start_time": "2023-03-19T17:54:14.158Z"
   },
   {
    "duration": 51,
    "start_time": "2023-03-19T17:54:14.175Z"
   },
   {
    "duration": 27,
    "start_time": "2023-03-19T17:54:20.814Z"
   },
   {
    "duration": 24,
    "start_time": "2023-03-19T17:56:44.311Z"
   },
   {
    "duration": 17,
    "start_time": "2023-03-19T17:59:24.468Z"
   },
   {
    "duration": 11,
    "start_time": "2023-03-19T18:00:07.393Z"
   },
   {
    "duration": 8,
    "start_time": "2023-03-19T18:00:27.646Z"
   },
   {
    "duration": 1513,
    "start_time": "2023-03-19T18:01:02.287Z"
   },
   {
    "duration": 74,
    "start_time": "2023-03-19T18:01:03.803Z"
   },
   {
    "duration": 17,
    "start_time": "2023-03-19T18:01:03.879Z"
   },
   {
    "duration": 46,
    "start_time": "2023-03-19T18:01:03.900Z"
   },
   {
    "duration": 8,
    "start_time": "2023-03-19T18:01:03.949Z"
   },
   {
    "duration": 68,
    "start_time": "2023-03-19T18:01:03.960Z"
   },
   {
    "duration": 68,
    "start_time": "2023-03-19T18:01:04.030Z"
   },
   {
    "duration": 85,
    "start_time": "2023-03-19T18:01:04.109Z"
   },
   {
    "duration": 77,
    "start_time": "2023-03-19T18:01:04.202Z"
   },
   {
    "duration": 12,
    "start_time": "2023-03-19T18:03:54.185Z"
   },
   {
    "duration": 39,
    "start_time": "2023-03-19T18:12:05.202Z"
   },
   {
    "duration": 35,
    "start_time": "2023-03-19T18:12:26.197Z"
   },
   {
    "duration": 28,
    "start_time": "2023-03-19T18:12:34.664Z"
   },
   {
    "duration": 7,
    "start_time": "2023-03-19T18:13:13.149Z"
   },
   {
    "duration": 16,
    "start_time": "2023-03-19T18:13:31.921Z"
   },
   {
    "duration": 9,
    "start_time": "2023-03-19T18:13:42.335Z"
   },
   {
    "duration": 9,
    "start_time": "2023-03-19T18:13:56.940Z"
   },
   {
    "duration": 16,
    "start_time": "2023-03-19T18:14:11.216Z"
   },
   {
    "duration": 24,
    "start_time": "2023-03-19T18:14:42.287Z"
   },
   {
    "duration": 7,
    "start_time": "2023-03-19T18:14:57.447Z"
   },
   {
    "duration": 11,
    "start_time": "2023-03-19T18:15:09.927Z"
   },
   {
    "duration": 39,
    "start_time": "2023-03-19T18:27:10.792Z"
   },
   {
    "duration": 433,
    "start_time": "2023-03-19T18:28:35.221Z"
   },
   {
    "duration": 5,
    "start_time": "2023-03-19T18:28:41.121Z"
   },
   {
    "duration": 88,
    "start_time": "2023-03-19T18:28:45.828Z"
   },
   {
    "duration": 52,
    "start_time": "2023-03-19T18:28:55.718Z"
   },
   {
    "duration": 35,
    "start_time": "2023-03-19T18:33:59.032Z"
   },
   {
    "duration": 5,
    "start_time": "2023-03-19T18:34:17.464Z"
   },
   {
    "duration": 48,
    "start_time": "2023-03-19T18:34:55.174Z"
   },
   {
    "duration": 18,
    "start_time": "2023-03-19T18:36:36.275Z"
   },
   {
    "duration": 934,
    "start_time": "2023-03-19T18:36:41.319Z"
   },
   {
    "duration": 7,
    "start_time": "2023-03-19T18:45:16.024Z"
   },
   {
    "duration": 26,
    "start_time": "2023-03-19T18:45:25.885Z"
   },
   {
    "duration": 6,
    "start_time": "2023-03-19T18:45:42.806Z"
   },
   {
    "duration": 8,
    "start_time": "2023-03-19T18:46:31.129Z"
   },
   {
    "duration": 7,
    "start_time": "2023-03-19T18:46:38.858Z"
   },
   {
    "duration": 6,
    "start_time": "2023-03-19T18:46:52.134Z"
   },
   {
    "duration": 24,
    "start_time": "2023-03-19T18:47:57.562Z"
   },
   {
    "duration": 123,
    "start_time": "2023-03-19T18:50:06.107Z"
   },
   {
    "duration": 10,
    "start_time": "2023-03-19T18:51:10.794Z"
   },
   {
    "duration": 10,
    "start_time": "2023-03-19T18:51:19.743Z"
   },
   {
    "duration": 7,
    "start_time": "2023-03-19T18:52:53.496Z"
   },
   {
    "duration": 18,
    "start_time": "2023-03-19T18:53:58.376Z"
   },
   {
    "duration": 11,
    "start_time": "2023-03-19T18:54:19.630Z"
   },
   {
    "duration": 8,
    "start_time": "2023-03-19T18:57:55.348Z"
   },
   {
    "duration": 9,
    "start_time": "2023-03-19T18:58:06.343Z"
   },
   {
    "duration": 9,
    "start_time": "2023-03-19T18:58:24.304Z"
   },
   {
    "duration": 1365,
    "start_time": "2023-03-19T19:02:34.416Z"
   },
   {
    "duration": 1325,
    "start_time": "2023-03-19T19:04:16.605Z"
   },
   {
    "duration": 95,
    "start_time": "2023-03-19T19:05:03.024Z"
   },
   {
    "duration": 58,
    "start_time": "2023-03-19T19:15:16.826Z"
   },
   {
    "duration": 71,
    "start_time": "2023-03-19T19:15:56.021Z"
   },
   {
    "duration": 1413,
    "start_time": "2023-03-19T19:16:19.792Z"
   },
   {
    "duration": 61,
    "start_time": "2023-03-19T19:16:25.892Z"
   },
   {
    "duration": 66,
    "start_time": "2023-03-19T19:16:39.415Z"
   },
   {
    "duration": 78,
    "start_time": "2023-03-19T19:16:47.492Z"
   },
   {
    "duration": 87,
    "start_time": "2023-03-19T19:16:50.347Z"
   },
   {
    "duration": 114,
    "start_time": "2023-03-19T19:18:19.564Z"
   },
   {
    "duration": 1388,
    "start_time": "2023-03-19T19:18:28.052Z"
   },
   {
    "duration": 66,
    "start_time": "2023-03-19T19:18:59.806Z"
   },
   {
    "duration": 1434,
    "start_time": "2023-03-19T19:19:03.391Z"
   },
   {
    "duration": 1377,
    "start_time": "2023-03-19T19:21:10.831Z"
   },
   {
    "duration": 86,
    "start_time": "2023-03-19T19:21:14.450Z"
   },
   {
    "duration": 98,
    "start_time": "2023-03-19T19:21:22.012Z"
   },
   {
    "duration": 48330,
    "start_time": "2023-03-19T19:25:52.216Z"
   },
   {
    "duration": 48082,
    "start_time": "2023-03-19T19:28:25.062Z"
   },
   {
    "duration": 21,
    "start_time": "2023-03-19T19:37:15.088Z"
   },
   {
    "duration": 99287,
    "start_time": "2023-03-19T19:37:28.220Z"
   },
   {
    "duration": 19,
    "start_time": "2023-03-19T19:40:53.583Z"
   },
   {
    "duration": 10,
    "start_time": "2023-03-19T19:40:59.552Z"
   },
   {
    "duration": 98498,
    "start_time": "2023-03-19T19:41:04.416Z"
   },
   {
    "duration": 16591,
    "start_time": "2023-03-19T19:47:15.154Z"
   },
   {
    "duration": 100389,
    "start_time": "2023-03-19T19:50:42.290Z"
   },
   {
    "duration": 94673,
    "start_time": "2023-03-19T19:53:46.250Z"
   },
   {
    "duration": 53,
    "start_time": "2023-03-19T19:55:36.358Z"
   },
   {
    "duration": 80226,
    "start_time": "2023-03-19T19:59:40.662Z"
   },
   {
    "duration": 5,
    "start_time": "2023-03-19T20:11:09.148Z"
   },
   {
    "duration": 6,
    "start_time": "2023-03-19T20:11:17.356Z"
   },
   {
    "duration": 11,
    "start_time": "2023-03-19T20:11:24.051Z"
   },
   {
    "duration": 5,
    "start_time": "2023-03-19T20:12:07.916Z"
   },
   {
    "duration": 310,
    "start_time": "2023-03-19T20:13:13.548Z"
   },
   {
    "duration": 698,
    "start_time": "2023-03-19T20:14:22.289Z"
   },
   {
    "duration": 3,
    "start_time": "2023-03-19T20:15:05.947Z"
   },
   {
    "duration": 6,
    "start_time": "2023-03-19T20:21:36.804Z"
   },
   {
    "duration": 40,
    "start_time": "2023-03-19T20:42:02.101Z"
   },
   {
    "duration": 40,
    "start_time": "2023-03-19T20:42:50.691Z"
   },
   {
    "duration": 38,
    "start_time": "2023-03-19T20:42:58.305Z"
   },
   {
    "duration": 72,
    "start_time": "2023-03-19T20:43:13.871Z"
   },
   {
    "duration": 11,
    "start_time": "2023-03-19T20:43:28.824Z"
   },
   {
    "duration": 5,
    "start_time": "2023-03-19T20:43:35.158Z"
   },
   {
    "duration": 8,
    "start_time": "2023-03-19T20:43:40.978Z"
   },
   {
    "duration": 698,
    "start_time": "2023-03-19T20:45:14.002Z"
   },
   {
    "duration": 39,
    "start_time": "2023-03-19T20:45:51.401Z"
   },
   {
    "duration": 36,
    "start_time": "2023-03-19T20:46:20.114Z"
   },
   {
    "duration": 7,
    "start_time": "2023-03-19T20:46:31.082Z"
   },
   {
    "duration": 1179,
    "start_time": "2023-03-19T20:54:18.462Z"
   },
   {
    "duration": 52,
    "start_time": "2023-03-19T20:54:19.643Z"
   },
   {
    "duration": 6,
    "start_time": "2023-03-19T20:54:19.697Z"
   },
   {
    "duration": 16,
    "start_time": "2023-03-19T20:54:19.706Z"
   },
   {
    "duration": 5,
    "start_time": "2023-03-19T20:54:19.724Z"
   },
   {
    "duration": 11,
    "start_time": "2023-03-19T20:54:19.731Z"
   },
   {
    "duration": 45,
    "start_time": "2023-03-19T20:54:19.744Z"
   },
   {
    "duration": 77,
    "start_time": "2023-03-19T20:54:19.791Z"
   },
   {
    "duration": 98,
    "start_time": "2023-03-19T20:54:19.871Z"
   },
   {
    "duration": 15,
    "start_time": "2023-03-19T20:54:19.972Z"
   },
   {
    "duration": 76,
    "start_time": "2023-03-19T20:54:19.989Z"
   },
   {
    "duration": 130,
    "start_time": "2023-03-19T20:54:20.067Z"
   },
   {
    "duration": 793,
    "start_time": "2023-03-19T20:54:20.199Z"
   },
   {
    "duration": 8,
    "start_time": "2023-03-19T20:54:20.994Z"
   },
   {
    "duration": 12,
    "start_time": "2023-03-19T20:54:21.004Z"
   },
   {
    "duration": 51,
    "start_time": "2023-03-19T20:54:21.018Z"
   },
   {
    "duration": 212,
    "start_time": "2023-03-19T20:54:21.072Z"
   },
   {
    "duration": 1074,
    "start_time": "2023-03-19T20:54:21.285Z"
   },
   {
    "duration": 76724,
    "start_time": "2023-03-19T20:54:22.364Z"
   },
   {
    "duration": 3,
    "start_time": "2023-03-19T20:55:39.090Z"
   },
   {
    "duration": 10,
    "start_time": "2023-03-19T20:55:39.094Z"
   },
   {
    "duration": 124,
    "start_time": "2023-03-19T20:55:39.106Z"
   },
   {
    "duration": 0,
    "start_time": "2023-03-19T20:55:39.232Z"
   },
   {
    "duration": 0,
    "start_time": "2023-03-19T20:55:39.233Z"
   },
   {
    "duration": 0,
    "start_time": "2023-03-19T20:55:39.235Z"
   },
   {
    "duration": 272,
    "start_time": "2023-03-19T22:40:56.054Z"
   },
   {
    "duration": 41,
    "start_time": "2023-03-19T22:41:04.061Z"
   },
   {
    "duration": 37,
    "start_time": "2023-03-19T22:41:07.366Z"
   },
   {
    "duration": 7,
    "start_time": "2023-03-19T22:41:09.870Z"
   },
   {
    "duration": 51,
    "start_time": "2023-03-20T18:17:30.291Z"
   },
   {
    "duration": 1086,
    "start_time": "2023-03-20T18:17:39.291Z"
   },
   {
    "duration": 164,
    "start_time": "2023-03-20T18:17:40.379Z"
   },
   {
    "duration": 5,
    "start_time": "2023-03-20T18:17:40.545Z"
   },
   {
    "duration": 12,
    "start_time": "2023-03-20T18:17:40.551Z"
   },
   {
    "duration": 5,
    "start_time": "2023-03-20T18:17:40.565Z"
   },
   {
    "duration": 8,
    "start_time": "2023-03-20T18:17:40.571Z"
   },
   {
    "duration": 63,
    "start_time": "2023-03-20T18:17:42.962Z"
   },
   {
    "duration": 23,
    "start_time": "2023-03-20T18:17:57.860Z"
   },
   {
    "duration": 4,
    "start_time": "2023-03-20T18:18:03.554Z"
   },
   {
    "duration": 4,
    "start_time": "2023-03-20T18:18:20.162Z"
   },
   {
    "duration": 11,
    "start_time": "2023-03-20T18:18:37.424Z"
   },
   {
    "duration": 3,
    "start_time": "2023-03-20T18:18:44.427Z"
   },
   {
    "duration": 5,
    "start_time": "2023-03-20T18:19:33.721Z"
   },
   {
    "duration": 37,
    "start_time": "2023-03-20T18:23:55.743Z"
   },
   {
    "duration": 48,
    "start_time": "2023-03-20T18:24:15.493Z"
   },
   {
    "duration": 31,
    "start_time": "2023-03-20T18:24:20.075Z"
   },
   {
    "duration": 6,
    "start_time": "2023-03-20T18:24:27.397Z"
   },
   {
    "duration": 4,
    "start_time": "2023-03-20T18:24:30.781Z"
   },
   {
    "duration": 6,
    "start_time": "2023-03-20T18:24:47.613Z"
   },
   {
    "duration": 34,
    "start_time": "2023-03-20T18:25:31.173Z"
   },
   {
    "duration": 5,
    "start_time": "2023-03-20T18:25:38.141Z"
   },
   {
    "duration": 37,
    "start_time": "2023-03-20T18:25:41.125Z"
   },
   {
    "duration": 6,
    "start_time": "2023-03-20T18:25:43.956Z"
   },
   {
    "duration": 5,
    "start_time": "2023-03-20T18:25:48.309Z"
   },
   {
    "duration": 39,
    "start_time": "2023-03-20T18:26:04.605Z"
   },
   {
    "duration": 6,
    "start_time": "2023-03-20T18:26:14.683Z"
   },
   {
    "duration": 87,
    "start_time": "2023-03-20T18:28:33.954Z"
   },
   {
    "duration": 47,
    "start_time": "2023-03-20T18:28:36.434Z"
   },
   {
    "duration": 8,
    "start_time": "2023-03-20T18:28:43.162Z"
   },
   {
    "duration": 5,
    "start_time": "2023-03-20T18:33:25.368Z"
   },
   {
    "duration": 8,
    "start_time": "2023-03-20T18:33:57.914Z"
   },
   {
    "duration": 38,
    "start_time": "2023-03-20T18:35:43.238Z"
   },
   {
    "duration": 37,
    "start_time": "2023-03-20T18:35:52.726Z"
   },
   {
    "duration": 7,
    "start_time": "2023-03-20T18:36:06.029Z"
   },
   {
    "duration": 8,
    "start_time": "2023-03-20T18:36:28.445Z"
   },
   {
    "duration": 7,
    "start_time": "2023-03-20T18:36:45.017Z"
   },
   {
    "duration": 34,
    "start_time": "2023-03-20T18:49:52.291Z"
   },
   {
    "duration": 5,
    "start_time": "2023-03-20T18:49:59.543Z"
   },
   {
    "duration": 427,
    "start_time": "2023-03-20T18:50:14.819Z"
   },
   {
    "duration": 7,
    "start_time": "2023-03-20T18:50:24.522Z"
   },
   {
    "duration": 11,
    "start_time": "2023-03-20T18:50:31.364Z"
   },
   {
    "duration": 519,
    "start_time": "2023-03-20T18:51:12.626Z"
   },
   {
    "duration": 110,
    "start_time": "2023-03-20T18:53:37.073Z"
   },
   {
    "duration": 99,
    "start_time": "2023-03-20T18:53:43.753Z"
   },
   {
    "duration": 8967,
    "start_time": "2023-03-20T18:54:18.984Z"
   },
   {
    "duration": 16,
    "start_time": "2023-03-20T18:54:40.589Z"
   },
   {
    "duration": 37,
    "start_time": "2023-03-20T18:55:01.413Z"
   },
   {
    "duration": 5,
    "start_time": "2023-03-20T18:55:06.113Z"
   },
   {
    "duration": 3,
    "start_time": "2023-03-20T19:01:44.029Z"
   },
   {
    "duration": 49,
    "start_time": "2023-03-20T19:02:30.307Z"
   },
   {
    "duration": 33,
    "start_time": "2023-03-20T19:02:57.899Z"
   },
   {
    "duration": 12,
    "start_time": "2023-03-20T19:03:45.859Z"
   },
   {
    "duration": 32,
    "start_time": "2023-03-20T19:04:13.226Z"
   },
   {
    "duration": 10,
    "start_time": "2023-03-20T19:04:16.124Z"
   },
   {
    "duration": 3,
    "start_time": "2023-03-20T19:20:18.969Z"
   },
   {
    "duration": 51,
    "start_time": "2023-03-20T19:20:26.991Z"
   },
   {
    "duration": 21,
    "start_time": "2023-03-20T19:20:38.719Z"
   },
   {
    "duration": 69,
    "start_time": "2023-03-20T19:20:47.271Z"
   },
   {
    "duration": 14,
    "start_time": "2023-03-20T19:21:15.561Z"
   },
   {
    "duration": 87,
    "start_time": "2023-03-20T20:23:15.759Z"
   },
   {
    "duration": 766,
    "start_time": "2023-03-20T20:24:10.875Z"
   },
   {
    "duration": 729,
    "start_time": "2023-03-20T20:24:29.623Z"
   },
   {
    "duration": 38,
    "start_time": "2023-03-20T20:26:26.861Z"
   },
   {
    "duration": 22,
    "start_time": "2023-03-20T20:46:16.406Z"
   },
   {
    "duration": 1334,
    "start_time": "2023-03-20T20:46:35.409Z"
   },
   {
    "duration": 125,
    "start_time": "2023-03-20T20:57:09.630Z"
   },
   {
    "duration": 56,
    "start_time": "2023-03-20T20:57:12.544Z"
   },
   {
    "duration": 784,
    "start_time": "2023-03-20T20:57:14.895Z"
   },
   {
    "duration": 474,
    "start_time": "2023-03-20T20:58:34.167Z"
   },
   {
    "duration": 1251,
    "start_time": "2023-03-20T20:59:50.557Z"
   },
   {
    "duration": 1328,
    "start_time": "2023-03-20T21:00:58.595Z"
   },
   {
    "duration": 32,
    "start_time": "2023-03-20T21:12:02.109Z"
   },
   {
    "duration": 562,
    "start_time": "2023-03-20T21:16:05.065Z"
   },
   {
    "duration": 47,
    "start_time": "2023-03-20T21:17:50.265Z"
   },
   {
    "duration": 10,
    "start_time": "2023-03-20T21:23:31.220Z"
   },
   {
    "duration": 5,
    "start_time": "2023-03-20T21:23:42.159Z"
   },
   {
    "duration": 58,
    "start_time": "2023-03-20T21:23:42.166Z"
   },
   {
    "duration": 11,
    "start_time": "2023-03-20T21:23:42.226Z"
   },
   {
    "duration": 22,
    "start_time": "2023-03-20T21:23:42.238Z"
   },
   {
    "duration": 5,
    "start_time": "2023-03-20T21:23:42.263Z"
   },
   {
    "duration": 7,
    "start_time": "2023-03-20T21:23:42.270Z"
   },
   {
    "duration": 21,
    "start_time": "2023-03-20T21:23:42.280Z"
   },
   {
    "duration": 50,
    "start_time": "2023-03-20T21:23:42.303Z"
   },
   {
    "duration": 180,
    "start_time": "2023-03-20T21:23:42.361Z"
   },
   {
    "duration": 18,
    "start_time": "2023-03-20T21:23:42.546Z"
   },
   {
    "duration": 6,
    "start_time": "2023-03-20T21:23:42.567Z"
   },
   {
    "duration": 5,
    "start_time": "2023-03-20T21:23:42.574Z"
   },
   {
    "duration": 160,
    "start_time": "2023-03-20T21:23:42.580Z"
   },
   {
    "duration": 111,
    "start_time": "2023-03-20T21:23:42.744Z"
   },
   {
    "duration": 913,
    "start_time": "2023-03-20T21:23:42.859Z"
   },
   {
    "duration": 198,
    "start_time": "2023-03-20T21:23:43.774Z"
   },
   {
    "duration": 1291,
    "start_time": "2023-03-20T21:23:43.974Z"
   },
   {
    "duration": 74,
    "start_time": "2023-03-20T21:23:45.267Z"
   },
   {
    "duration": 135,
    "start_time": "2023-03-20T21:23:45.343Z"
   },
   {
    "duration": 807,
    "start_time": "2023-03-20T21:23:45.479Z"
   },
   {
    "duration": 167,
    "start_time": "2023-03-20T21:23:46.288Z"
   },
   {
    "duration": 806,
    "start_time": "2023-03-20T21:23:46.457Z"
   },
   {
    "duration": 101,
    "start_time": "2023-03-20T21:23:47.267Z"
   },
   {
    "duration": 90,
    "start_time": "2023-03-20T21:23:47.370Z"
   },
   {
    "duration": 0,
    "start_time": "2023-03-20T21:23:47.462Z"
   },
   {
    "duration": 0,
    "start_time": "2023-03-20T21:23:47.463Z"
   },
   {
    "duration": 0,
    "start_time": "2023-03-20T21:23:47.464Z"
   },
   {
    "duration": 0,
    "start_time": "2023-03-20T21:23:47.467Z"
   },
   {
    "duration": 0,
    "start_time": "2023-03-20T21:23:47.468Z"
   },
   {
    "duration": 0,
    "start_time": "2023-03-20T21:23:47.469Z"
   },
   {
    "duration": 0,
    "start_time": "2023-03-20T21:23:47.470Z"
   },
   {
    "duration": 0,
    "start_time": "2023-03-20T21:23:47.472Z"
   },
   {
    "duration": 0,
    "start_time": "2023-03-20T21:23:47.473Z"
   },
   {
    "duration": 0,
    "start_time": "2023-03-20T21:23:47.474Z"
   },
   {
    "duration": 4,
    "start_time": "2023-03-20T21:24:14.613Z"
   },
   {
    "duration": 73,
    "start_time": "2023-03-20T21:24:14.618Z"
   },
   {
    "duration": 6,
    "start_time": "2023-03-20T21:24:14.694Z"
   },
   {
    "duration": 13,
    "start_time": "2023-03-20T21:24:14.701Z"
   },
   {
    "duration": 5,
    "start_time": "2023-03-20T21:24:14.717Z"
   },
   {
    "duration": 7,
    "start_time": "2023-03-20T21:24:14.723Z"
   },
   {
    "duration": 6,
    "start_time": "2023-03-20T21:24:14.740Z"
   },
   {
    "duration": 33,
    "start_time": "2023-03-20T21:24:14.748Z"
   },
   {
    "duration": 84,
    "start_time": "2023-03-20T21:24:14.783Z"
   },
   {
    "duration": 73,
    "start_time": "2023-03-20T21:24:14.870Z"
   },
   {
    "duration": 4,
    "start_time": "2023-03-20T21:24:14.945Z"
   },
   {
    "duration": 3,
    "start_time": "2023-03-20T21:24:14.951Z"
   },
   {
    "duration": 17,
    "start_time": "2023-03-20T21:24:14.956Z"
   },
   {
    "duration": 170,
    "start_time": "2023-03-20T21:24:14.976Z"
   },
   {
    "duration": 506,
    "start_time": "2023-03-20T21:24:15.150Z"
   },
   {
    "duration": 131,
    "start_time": "2023-03-20T21:24:15.668Z"
   },
   {
    "duration": 1341,
    "start_time": "2023-03-20T21:24:15.800Z"
   },
   {
    "duration": 36,
    "start_time": "2023-03-20T21:24:17.143Z"
   },
   {
    "duration": 140,
    "start_time": "2023-03-20T21:24:17.245Z"
   },
   {
    "duration": 817,
    "start_time": "2023-03-20T21:24:17.387Z"
   },
   {
    "duration": 158,
    "start_time": "2023-03-20T21:24:18.206Z"
   },
   {
    "duration": 796,
    "start_time": "2023-03-20T21:24:18.368Z"
   },
   {
    "duration": 202,
    "start_time": "2023-03-20T21:24:19.169Z"
   },
   {
    "duration": 1340,
    "start_time": "2023-03-20T21:24:19.373Z"
   },
   {
    "duration": 44,
    "start_time": "2023-03-20T21:24:20.714Z"
   },
   {
    "duration": 876,
    "start_time": "2023-03-20T21:24:20.761Z"
   },
   {
    "duration": 524,
    "start_time": "2023-03-20T21:24:21.640Z"
   },
   {
    "duration": 8,
    "start_time": "2023-03-20T21:24:22.166Z"
   },
   {
    "duration": 13,
    "start_time": "2023-03-20T21:24:22.176Z"
   },
   {
    "duration": 60,
    "start_time": "2023-03-20T21:24:22.190Z"
   },
   {
    "duration": 142,
    "start_time": "2023-03-20T21:24:22.252Z"
   },
   {
    "duration": 1169,
    "start_time": "2023-03-20T21:24:22.396Z"
   },
   {
    "duration": 31,
    "start_time": "2023-03-20T21:24:33.765Z"
   },
   {
    "duration": 56,
    "start_time": "2023-03-20T21:24:37.133Z"
   },
   {
    "duration": 1115,
    "start_time": "2023-03-20T21:24:39.604Z"
   },
   {
    "duration": 1167,
    "start_time": "2023-03-20T21:31:20.045Z"
   },
   {
    "duration": 58,
    "start_time": "2023-03-20T21:31:21.214Z"
   },
   {
    "duration": 6,
    "start_time": "2023-03-20T21:31:21.274Z"
   },
   {
    "duration": 24,
    "start_time": "2023-03-20T21:31:21.281Z"
   },
   {
    "duration": 5,
    "start_time": "2023-03-20T21:31:21.308Z"
   },
   {
    "duration": 26,
    "start_time": "2023-03-20T21:31:21.315Z"
   },
   {
    "duration": 18,
    "start_time": "2023-03-20T21:31:21.343Z"
   },
   {
    "duration": 27,
    "start_time": "2023-03-20T21:31:21.363Z"
   },
   {
    "duration": 66,
    "start_time": "2023-03-20T21:31:21.392Z"
   },
   {
    "duration": 9,
    "start_time": "2023-03-20T21:31:21.540Z"
   },
   {
    "duration": 6,
    "start_time": "2023-03-20T21:31:21.551Z"
   },
   {
    "duration": 5,
    "start_time": "2023-03-20T21:31:21.559Z"
   },
   {
    "duration": 87,
    "start_time": "2023-03-20T21:31:21.566Z"
   },
   {
    "duration": 201,
    "start_time": "2023-03-20T21:31:21.656Z"
   },
   {
    "duration": 292,
    "start_time": "2023-03-20T21:31:21.862Z"
   },
   {
    "duration": 130,
    "start_time": "2023-03-20T21:31:22.247Z"
   },
   {
    "duration": 1372,
    "start_time": "2023-03-20T21:31:22.378Z"
   },
   {
    "duration": 89,
    "start_time": "2023-03-20T21:31:23.752Z"
   },
   {
    "duration": 128,
    "start_time": "2023-03-20T21:31:23.849Z"
   },
   {
    "duration": 785,
    "start_time": "2023-03-20T21:31:23.979Z"
   },
   {
    "duration": 76,
    "start_time": "2023-03-20T21:31:24.765Z"
   },
   {
    "duration": 324,
    "start_time": "2023-03-20T21:31:24.844Z"
   },
   {
    "duration": 131,
    "start_time": "2023-03-20T21:31:25.242Z"
   },
   {
    "duration": 1344,
    "start_time": "2023-03-20T21:31:25.375Z"
   },
   {
    "duration": 47,
    "start_time": "2023-03-20T21:31:26.721Z"
   },
   {
    "duration": 851,
    "start_time": "2023-03-20T21:31:26.770Z"
   },
   {
    "duration": 506,
    "start_time": "2023-03-20T21:31:27.623Z"
   },
   {
    "duration": 16,
    "start_time": "2023-03-20T21:31:28.132Z"
   },
   {
    "duration": 9,
    "start_time": "2023-03-20T21:31:28.150Z"
   },
   {
    "duration": 96,
    "start_time": "2023-03-20T21:31:28.161Z"
   },
   {
    "duration": 132,
    "start_time": "2023-03-20T21:31:28.258Z"
   },
   {
    "duration": 1092,
    "start_time": "2023-03-20T21:31:28.392Z"
   },
   {
    "duration": 156,
    "start_time": "2023-03-20T21:31:29.487Z"
   },
   {
    "duration": 141,
    "start_time": "2023-03-20T21:31:29.647Z"
   },
   {
    "duration": 1109,
    "start_time": "2023-03-20T21:31:29.789Z"
   },
   {
    "duration": 1609,
    "start_time": "2023-03-20T21:31:44.863Z"
   },
   {
    "duration": 1588,
    "start_time": "2023-03-20T21:31:58.232Z"
   },
   {
    "duration": 44,
    "start_time": "2023-03-20T21:32:41.616Z"
   },
   {
    "duration": 18261,
    "start_time": "2023-03-20T21:33:44.967Z"
   },
   {
    "duration": 74438,
    "start_time": "2023-03-20T21:35:06.166Z"
   },
   {
    "duration": 71738,
    "start_time": "2023-03-20T21:36:34.566Z"
   },
   {
    "duration": 68168,
    "start_time": "2023-03-20T21:41:42.889Z"
   },
   {
    "duration": 3,
    "start_time": "2023-03-20T21:42:51.059Z"
   },
   {
    "duration": 563,
    "start_time": "2023-03-20T21:45:02.683Z"
   },
   {
    "duration": 615,
    "start_time": "2023-03-20T21:46:02.799Z"
   },
   {
    "duration": 624,
    "start_time": "2023-03-20T21:46:18.438Z"
   },
   {
    "duration": 10,
    "start_time": "2023-03-20T21:49:46.693Z"
   },
   {
    "duration": 256,
    "start_time": "2023-03-20T21:49:50.114Z"
   },
   {
    "duration": 272,
    "start_time": "2023-03-20T21:49:59.444Z"
   },
   {
    "duration": 274,
    "start_time": "2023-03-20T21:50:05.893Z"
   },
   {
    "duration": 280,
    "start_time": "2023-03-20T21:50:11.555Z"
   },
   {
    "duration": 11,
    "start_time": "2023-03-20T21:50:44.219Z"
   },
   {
    "duration": 70926,
    "start_time": "2023-03-20T21:51:23.564Z"
   },
   {
    "duration": 44,
    "start_time": "2023-03-20T21:52:43.605Z"
   },
   {
    "duration": 35,
    "start_time": "2023-03-20T21:52:46.231Z"
   },
   {
    "duration": 8,
    "start_time": "2023-03-20T21:52:48.592Z"
   },
   {
    "duration": 254,
    "start_time": "2023-03-20T21:53:19.945Z"
   },
   {
    "duration": 256,
    "start_time": "2023-03-20T21:53:39.824Z"
   },
   {
    "duration": 254,
    "start_time": "2023-03-20T21:54:24.898Z"
   },
   {
    "duration": 263,
    "start_time": "2023-03-20T21:54:31.194Z"
   }
  ],
  "kernelspec": {
   "display_name": "Python 3 (ipykernel)",
   "language": "python",
   "name": "python3"
  },
  "language_info": {
   "codemirror_mode": {
    "name": "ipython",
    "version": 3
   },
   "file_extension": ".py",
   "mimetype": "text/x-python",
   "name": "python",
   "nbconvert_exporter": "python",
   "pygments_lexer": "ipython3",
   "version": "3.9.13"
  },
  "toc": {
   "base_numbering": 1,
   "nav_menu": {},
   "number_sections": true,
   "sideBar": true,
   "skip_h1_title": true,
   "title_cell": "Содержание",
   "title_sidebar": "Contents",
   "toc_cell": true,
   "toc_position": {
    "height": "calc(100% - 180px)",
    "left": "10px",
    "top": "150px",
    "width": "461.916px"
   },
   "toc_section_display": true,
   "toc_window_display": true
  }
 },
 "nbformat": 4,
 "nbformat_minor": 2
}
