{
 "cells": [
  {
   "cell_type": "markdown",
   "metadata": {
    "toc": true
   },
   "source": [
    "<h1>Содержание<span class=\"tocSkip\"></span></h1>\n",
    "<div class=\"toc\"><ul class=\"toc-item\"><li><span><a href=\"#Загрузка-данных\" data-toc-modified-id=\"Загрузка-данных-1\"><span class=\"toc-item-num\">1&nbsp;&nbsp;</span>Загрузка данных</a></span></li><li><span><a href=\"#Умножение-матриц\" data-toc-modified-id=\"Умножение-матриц-2\"><span class=\"toc-item-num\">2&nbsp;&nbsp;</span>Умножение матриц</a></span></li><li><span><a href=\"#Алгоритм-преобразования\" data-toc-modified-id=\"Алгоритм-преобразования-3\"><span class=\"toc-item-num\">3&nbsp;&nbsp;</span>Алгоритм преобразования</a></span></li><li><span><a href=\"#Проверка-алгоритма\" data-toc-modified-id=\"Проверка-алгоритма-4\"><span class=\"toc-item-num\">4&nbsp;&nbsp;</span>Проверка алгоритма</a></span></li><li><span><a href=\"#Чек-лист-проверки\" data-toc-modified-id=\"Чек-лист-проверки-5\"><span class=\"toc-item-num\">5&nbsp;&nbsp;</span>Чек-лист проверки</a></span></li></ul></div>"
   ]
  },
  {
   "cell_type": "markdown",
   "metadata": {},
   "source": [
    "# Защита персональных данных клиентов"
   ]
  },
  {
   "cell_type": "markdown",
   "metadata": {},
   "source": [
    "Вам нужно защитить данные клиентов страховой компании «Хоть потоп». Разработайте такой метод преобразования данных, чтобы по ним было сложно восстановить персональную информацию. Обоснуйте корректность его работы.\n",
    "\n",
    "Нужно защитить данные, чтобы при преобразовании качество моделей машинного обучения не ухудшилось. Подбирать наилучшую модель не требуется."
   ]
  },
  {
   "cell_type": "markdown",
   "metadata": {},
   "source": [
    "## Загрузка данных"
   ]
  },
  {
   "cell_type": "code",
   "execution_count": 2,
   "metadata": {},
   "outputs": [],
   "source": [
    "import numpy as np\n",
    "import pandas as pd\n",
    "import random\n",
    "from sklearn.linear_model import LinearRegression\n",
    "from sklearn.metrics import r2_score\n",
    "from sklearn.model_selection import train_test_split"
   ]
  },
  {
   "cell_type": "code",
   "execution_count": 3,
   "metadata": {},
   "outputs": [
    {
     "name": "stdout",
     "output_type": "stream",
     "text": [
      "<class 'pandas.core.frame.DataFrame'>\n",
      "RangeIndex: 5000 entries, 0 to 4999\n",
      "Data columns (total 5 columns):\n",
      " #   Column             Non-Null Count  Dtype  \n",
      "---  ------             --------------  -----  \n",
      " 0   Пол                5000 non-null   int64  \n",
      " 1   Возраст            5000 non-null   float64\n",
      " 2   Зарплата           5000 non-null   float64\n",
      " 3   Члены семьи        5000 non-null   int64  \n",
      " 4   Страховые выплаты  5000 non-null   int64  \n",
      "dtypes: float64(2), int64(3)\n",
      "memory usage: 195.4 KB\n"
     ]
    }
   ],
   "source": [
    "df = pd.read_csv('/datasets/insurance.csv')\n",
    "df.info()"
   ]
  },
  {
   "cell_type": "markdown",
   "metadata": {},
   "source": [
    "Данные содержат 5000 строк и 5 столбцов. Пропусков нет. Типы данных корректны."
   ]
  },
  {
   "cell_type": "code",
   "execution_count": 4,
   "metadata": {},
   "outputs": [
    {
     "data": {
      "text/html": [
       "<div>\n",
       "<style scoped>\n",
       "    .dataframe tbody tr th:only-of-type {\n",
       "        vertical-align: middle;\n",
       "    }\n",
       "\n",
       "    .dataframe tbody tr th {\n",
       "        vertical-align: top;\n",
       "    }\n",
       "\n",
       "    .dataframe thead th {\n",
       "        text-align: right;\n",
       "    }\n",
       "</style>\n",
       "<table border=\"1\" class=\"dataframe\">\n",
       "  <thead>\n",
       "    <tr style=\"text-align: right;\">\n",
       "      <th></th>\n",
       "      <th>Пол</th>\n",
       "      <th>Возраст</th>\n",
       "      <th>Зарплата</th>\n",
       "      <th>Члены семьи</th>\n",
       "      <th>Страховые выплаты</th>\n",
       "    </tr>\n",
       "  </thead>\n",
       "  <tbody>\n",
       "    <tr>\n",
       "      <th>3958</th>\n",
       "      <td>1</td>\n",
       "      <td>32.0</td>\n",
       "      <td>48200.0</td>\n",
       "      <td>3</td>\n",
       "      <td>0</td>\n",
       "    </tr>\n",
       "    <tr>\n",
       "      <th>3938</th>\n",
       "      <td>1</td>\n",
       "      <td>23.0</td>\n",
       "      <td>32200.0</td>\n",
       "      <td>1</td>\n",
       "      <td>0</td>\n",
       "    </tr>\n",
       "    <tr>\n",
       "      <th>3436</th>\n",
       "      <td>0</td>\n",
       "      <td>47.0</td>\n",
       "      <td>29600.0</td>\n",
       "      <td>1</td>\n",
       "      <td>1</td>\n",
       "    </tr>\n",
       "    <tr>\n",
       "      <th>2991</th>\n",
       "      <td>0</td>\n",
       "      <td>32.0</td>\n",
       "      <td>47400.0</td>\n",
       "      <td>2</td>\n",
       "      <td>0</td>\n",
       "    </tr>\n",
       "    <tr>\n",
       "      <th>1137</th>\n",
       "      <td>0</td>\n",
       "      <td>26.0</td>\n",
       "      <td>54200.0</td>\n",
       "      <td>1</td>\n",
       "      <td>0</td>\n",
       "    </tr>\n",
       "    <tr>\n",
       "      <th>3267</th>\n",
       "      <td>1</td>\n",
       "      <td>34.0</td>\n",
       "      <td>46000.0</td>\n",
       "      <td>0</td>\n",
       "      <td>0</td>\n",
       "    </tr>\n",
       "    <tr>\n",
       "      <th>14</th>\n",
       "      <td>0</td>\n",
       "      <td>40.0</td>\n",
       "      <td>43700.0</td>\n",
       "      <td>1</td>\n",
       "      <td>0</td>\n",
       "    </tr>\n",
       "  </tbody>\n",
       "</table>\n",
       "</div>"
      ],
      "text/plain": [
       "      Пол  Возраст  Зарплата  Члены семьи  Страховые выплаты\n",
       "3958    1     32.0   48200.0            3                  0\n",
       "3938    1     23.0   32200.0            1                  0\n",
       "3436    0     47.0   29600.0            1                  1\n",
       "2991    0     32.0   47400.0            2                  0\n",
       "1137    0     26.0   54200.0            1                  0\n",
       "3267    1     34.0   46000.0            0                  0\n",
       "14      0     40.0   43700.0            1                  0"
      ]
     },
     "execution_count": 4,
     "metadata": {},
     "output_type": "execute_result"
    }
   ],
   "source": [
    "df.sample(7)"
   ]
  },
  {
   "cell_type": "markdown",
   "metadata": {},
   "source": [
    "**Вывод:**  \n",
    "Данные загружены и полны. Можно проводить анализ."
   ]
  },
  {
   "cell_type": "code",
   "execution_count": 5,
   "metadata": {},
   "outputs": [
    {
     "data": {
      "text/html": [
       "<div>\n",
       "<style scoped>\n",
       "    .dataframe tbody tr th:only-of-type {\n",
       "        vertical-align: middle;\n",
       "    }\n",
       "\n",
       "    .dataframe tbody tr th {\n",
       "        vertical-align: top;\n",
       "    }\n",
       "\n",
       "    .dataframe thead th {\n",
       "        text-align: right;\n",
       "    }\n",
       "</style>\n",
       "<table border=\"1\" class=\"dataframe\">\n",
       "  <thead>\n",
       "    <tr style=\"text-align: right;\">\n",
       "      <th></th>\n",
       "      <th>Пол</th>\n",
       "      <th>Возраст</th>\n",
       "      <th>Зарплата</th>\n",
       "      <th>Члены семьи</th>\n",
       "      <th>Страховые выплаты</th>\n",
       "    </tr>\n",
       "  </thead>\n",
       "  <tbody>\n",
       "    <tr>\n",
       "      <th>count</th>\n",
       "      <td>5000.000000</td>\n",
       "      <td>5000.000000</td>\n",
       "      <td>5000.000000</td>\n",
       "      <td>5000.000000</td>\n",
       "      <td>5000.000000</td>\n",
       "    </tr>\n",
       "    <tr>\n",
       "      <th>mean</th>\n",
       "      <td>0.499000</td>\n",
       "      <td>30.952800</td>\n",
       "      <td>39916.360000</td>\n",
       "      <td>1.194200</td>\n",
       "      <td>0.148000</td>\n",
       "    </tr>\n",
       "    <tr>\n",
       "      <th>std</th>\n",
       "      <td>0.500049</td>\n",
       "      <td>8.440807</td>\n",
       "      <td>9900.083569</td>\n",
       "      <td>1.091387</td>\n",
       "      <td>0.463183</td>\n",
       "    </tr>\n",
       "    <tr>\n",
       "      <th>min</th>\n",
       "      <td>0.000000</td>\n",
       "      <td>18.000000</td>\n",
       "      <td>5300.000000</td>\n",
       "      <td>0.000000</td>\n",
       "      <td>0.000000</td>\n",
       "    </tr>\n",
       "    <tr>\n",
       "      <th>25%</th>\n",
       "      <td>0.000000</td>\n",
       "      <td>24.000000</td>\n",
       "      <td>33300.000000</td>\n",
       "      <td>0.000000</td>\n",
       "      <td>0.000000</td>\n",
       "    </tr>\n",
       "    <tr>\n",
       "      <th>50%</th>\n",
       "      <td>0.000000</td>\n",
       "      <td>30.000000</td>\n",
       "      <td>40200.000000</td>\n",
       "      <td>1.000000</td>\n",
       "      <td>0.000000</td>\n",
       "    </tr>\n",
       "    <tr>\n",
       "      <th>75%</th>\n",
       "      <td>1.000000</td>\n",
       "      <td>37.000000</td>\n",
       "      <td>46600.000000</td>\n",
       "      <td>2.000000</td>\n",
       "      <td>0.000000</td>\n",
       "    </tr>\n",
       "    <tr>\n",
       "      <th>max</th>\n",
       "      <td>1.000000</td>\n",
       "      <td>65.000000</td>\n",
       "      <td>79000.000000</td>\n",
       "      <td>6.000000</td>\n",
       "      <td>5.000000</td>\n",
       "    </tr>\n",
       "  </tbody>\n",
       "</table>\n",
       "</div>"
      ],
      "text/plain": [
       "               Пол      Возраст      Зарплата  Члены семьи  Страховые выплаты\n",
       "count  5000.000000  5000.000000   5000.000000  5000.000000        5000.000000\n",
       "mean      0.499000    30.952800  39916.360000     1.194200           0.148000\n",
       "std       0.500049     8.440807   9900.083569     1.091387           0.463183\n",
       "min       0.000000    18.000000   5300.000000     0.000000           0.000000\n",
       "25%       0.000000    24.000000  33300.000000     0.000000           0.000000\n",
       "50%       0.000000    30.000000  40200.000000     1.000000           0.000000\n",
       "75%       1.000000    37.000000  46600.000000     2.000000           0.000000\n",
       "max       1.000000    65.000000  79000.000000     6.000000           5.000000"
      ]
     },
     "execution_count": 5,
     "metadata": {},
     "output_type": "execute_result"
    }
   ],
   "source": [
    "df.describe()"
   ]
  },
  {
   "cell_type": "markdown",
   "metadata": {},
   "source": [
    "## Умножение матриц"
   ]
  },
  {
   "cell_type": "markdown",
   "metadata": {},
   "source": [
    "В этом задании вы можете записывать формулы в *Jupyter Notebook.*\n",
    "\n",
    "Чтобы записать формулу внутри текста, окружите её символами доллара \\\\$; если снаружи —  двойными символами \\\\$\\\\$. Эти формулы записываются на языке вёрстки *LaTeX.* \n",
    "\n",
    "Для примера мы записали формулы линейной регрессии. Можете их скопировать и отредактировать, чтобы решить задачу.\n",
    "\n",
    "Работать в *LaTeX* необязательно."
   ]
  },
  {
   "cell_type": "markdown",
   "metadata": {},
   "source": [
    "Обозначения:\n",
    "\n",
    "- $X$ — матрица признаков (нулевой столбец состоит из единиц)\n",
    "\n",
    "- $y$ — вектор целевого признака\n",
    "\n",
    "- $P$ — матрица, на которую умножаются признаки\n",
    "\n",
    "- $w$ — вектор весов линейной регрессии (нулевой элемент равен сдвигу)"
   ]
  },
  {
   "cell_type": "markdown",
   "metadata": {},
   "source": [
    "Предсказания:\n",
    "\n",
    "$$\n",
    "a = Xw\n",
    "$$\n",
    "\n",
    "Задача обучения:\n",
    "\n",
    "$$\n",
    "w = \\arg\\min_w MSE(Xw, y)\n",
    "$$\n",
    "\n",
    "Формула обучения:\n",
    "\n",
    "$$\n",
    "w = (X^T X)^{-1} X^T y\n",
    "$$"
   ]
  },
  {
   "cell_type": "markdown",
   "metadata": {},
   "source": [
    "**Ответ:** Признаки умножают на обратимую матрицу. Изменится ли качество линейной регрессии? \n",
    "Нет, качество линейной регрессии не изменится. \n",
    "\n",
    "\n",
    "**Обоснование:** Качество модели мы определяем по тому какие она делает предсказания, т.е. какие значения $a$ мы получим, где $a = Xw$. Значит надо понять как измениться $a$ при умножении матрицы признаков на обратимую матрицу.\n",
    "\n",
    "$$\n",
    "a = Xw\n",
    "$$\n",
    "<div align=\"center\">где $w = (X^T X)^{-1} X^T y$</div>\n",
    "\n",
    "$$\n",
    "a = X(X^T X)^{-1} X^T y\n",
    "$$\n",
    "\n",
    "$$\n",
    "a'= XPw'\n",
    "$$\n",
    "<div align=\"center\">где $w' = ((XP)^T XP)^{-1} (XP)^T y$</div> \n",
    "\n",
    "$$\n",
    "a'= XP((XP)^T XP)^{-1} (XP)^T y  \n",
    "$$\n",
    "\n",
    "Раскроем скобки, порядок важен\n",
    "\n",
    "$$\n",
    "a'= XP(P^TX^TXP)^{-1}P^TX^Ty\n",
    "$$\n",
    "$$\n",
    "a'= XPP^{-1}(X^TX)^{-1}(P^T)^{-1}P^TX^Ty\n",
    "$$\n",
    "\n",
    "Умножение матрицы на обратную дает единичную матрицу, умножение матрицы на единичную дает такую же матрицу. Сле-но:\n",
    "\n",
    "\n",
    "$$\n",
    "a'= X(X^TX)^{-1}X^Ty = a\n",
    "$$\n",
    "\n",
    "Значит приумножении матрицы признаков на обратимую матрицу, предсказания не изменятся, сле-но качество модели не изменится.\n",
    "\n"
   ]
  },
  {
   "cell_type": "markdown",
   "metadata": {},
   "source": [
    "**Вывод:**  \n",
    "Доказали, что при умножении матрицы признаков на ОБРАТИМУЮ матрицу, качество модели не изменится.   \n",
    "\n",
    "Качество модели изменится, если матрицу признаков умножить на необратимую матрицу. Это матрицы, в которой определитель равен нулю.\n",
    "Признаки:\n",
    "   - в матрице есть нулевая строка\n",
    "   - в матрице есть одинаковые строки\n",
    "   - в матрице есть пропорциональные строки\n",
    "    \n"
   ]
  },
  {
   "cell_type": "markdown",
   "metadata": {},
   "source": [
    "Из равенства \n",
    "$$\n",
    "a' = a\n",
    "$$\n",
    "Следует равенство\n",
    "$$\n",
    "Xw = X'w'\n",
    "$$\n",
    "или\n",
    "$$\n",
    "Xw = XPw'\n",
    "$$\n",
    "Что бы это равенство выполнялось, w' должно быть равно:\n",
    "$$\n",
    "P^{-1}w\n",
    "$$\n",
    "$$\n",
    "Xw = XPP^{-1}w\n",
    "$$\n",
    "Сле-но\n",
    "$$\n",
    "w' = P^{-1}w\n",
    "$$\n",
    "к аналогичному выводу придем раскрыв скобки в равенстве\n",
    "$$\n",
    "w_P = ((XP)^T XP)^{-1} (XP)^T y\n",
    "$$"
   ]
  },
  {
   "cell_type": "markdown",
   "metadata": {},
   "source": [
    "## Алгоритм преобразования"
   ]
  },
  {
   "cell_type": "markdown",
   "metadata": {},
   "source": [
    "**Алгоритм**\n",
    "\n",
    "Для преобразования матрицы признаков выберем следующий алгоритм:  \n",
    "   - создадим квадратную матрицу, заполненную случайными числами, размером равным ширине матрицы признаков.\n",
    "   - проверим, что существует матрица обратная созданной. Если нет, вернемся к первому пункту.\n",
    "   - умножим матрицу обучающих признаков на созданную матрицу\n",
    "   - передадим результат в модель"
   ]
  },
  {
   "cell_type": "markdown",
   "metadata": {},
   "source": [
    "**Обоснование**\n",
    "В пункте 2 мы аналитически доказали, что при умножении матрицы признаков на обратимую матрицу предсказания не изменятся.\n",
    "\n",
    "Создаем квадратную матрицу, т.к. для не квадратных матриц обратных не существует.\n",
    "Умножив исходную матрицу признаков на квадратную равную ширине исходной, получим преобразованную матрицу с размером равныи исходной матрице.\n",
    "После этого обучим модель линейной регрессии на исходных и преобразованных признаках и сравним метрики получившихся данных."
   ]
  },
  {
   "cell_type": "markdown",
   "metadata": {},
   "source": [
    "## Проверка алгоритма"
   ]
  },
  {
   "cell_type": "markdown",
   "metadata": {},
   "source": [
    "Разделим данные на обучающую  и тестовую выборки."
   ]
  },
  {
   "cell_type": "code",
   "execution_count": 4,
   "metadata": {},
   "outputs": [],
   "source": [
    "features = df.drop(['Страховые выплаты'], axis=1)\n",
    "target = df['Страховые выплаты']\n",
    "features_train, features_test, target_train, target_test = \\\n",
    "train_test_split(features, target, test_size=0.25, random_state=54321)"
   ]
  },
  {
   "cell_type": "markdown",
   "metadata": {},
   "source": [
    "Посчитаем метрику R2 для модели линейной регрессии по исходным данным."
   ]
  },
  {
   "cell_type": "code",
   "execution_count": 5,
   "metadata": {},
   "outputs": [
    {
     "name": "stdout",
     "output_type": "stream",
     "text": [
      "Метрика R2 по исходным данным:  0.41289500493845055\n"
     ]
    }
   ],
   "source": [
    "model = LinearRegression()\n",
    "model.fit(features_train.values, target_train.values)\n",
    "predict_test = model.predict(features_test)\n",
    "r2_norm = r2_score(target_test, predict_test)\n",
    "print('Метрика R2 по исходным данным: ', r2_norm)"
   ]
  },
  {
   "cell_type": "markdown",
   "metadata": {},
   "source": [
    "Создадим квадратную матрицу с размером равным ширине матрицы призкаков, заполненную случайными числами.\n",
    "Проверим ее на обратимость."
   ]
  },
  {
   "cell_type": "code",
   "execution_count": 6,
   "metadata": {},
   "outputs": [
    {
     "data": {
      "text/plain": [
       "array([[47, 56, 30, 87],\n",
       "       [95, 72, 67, 43],\n",
       "       [43, 63, 87,  3],\n",
       "       [38, 23, 63, 88]])"
      ]
     },
     "execution_count": 6,
     "metadata": {},
     "output_type": "execute_result"
    }
   ],
   "source": [
    "size = df.shape[1]-1\n",
    "matrix = np.random.randint(1,100, (size, size))\n",
    "#matrix[3] = 2*matrix[2]\n",
    "matrix"
   ]
  },
  {
   "cell_type": "code",
   "execution_count": 7,
   "metadata": {},
   "outputs": [
    {
     "name": "stdout",
     "output_type": "stream",
     "text": [
      "Матрица обратимая\n"
     ]
    }
   ],
   "source": [
    "try:\n",
    "    np.linalg.inv(matrix)\n",
    "    print('Матрица обратимая')\n",
    "except:\n",
    "    print('Матрица не обратимая, надо создать другую.')\n",
    "    matrix = []"
   ]
  },
  {
   "cell_type": "markdown",
   "metadata": {},
   "source": [
    "Умножим признаки на обратимую матрицу."
   ]
  },
  {
   "cell_type": "code",
   "execution_count": 8,
   "metadata": {},
   "outputs": [],
   "source": [
    "features_train_matrix = features_train.dot(matrix)\n",
    "features_test_matrix = features_test.dot(matrix)"
   ]
  },
  {
   "cell_type": "markdown",
   "metadata": {},
   "source": [
    "Исходные данные"
   ]
  },
  {
   "cell_type": "code",
   "execution_count": 9,
   "metadata": {},
   "outputs": [
    {
     "data": {
      "text/html": [
       "<div>\n",
       "<style scoped>\n",
       "    .dataframe tbody tr th:only-of-type {\n",
       "        vertical-align: middle;\n",
       "    }\n",
       "\n",
       "    .dataframe tbody tr th {\n",
       "        vertical-align: top;\n",
       "    }\n",
       "\n",
       "    .dataframe thead th {\n",
       "        text-align: right;\n",
       "    }\n",
       "</style>\n",
       "<table border=\"1\" class=\"dataframe\">\n",
       "  <thead>\n",
       "    <tr style=\"text-align: right;\">\n",
       "      <th></th>\n",
       "      <th>Пол</th>\n",
       "      <th>Возраст</th>\n",
       "      <th>Зарплата</th>\n",
       "      <th>Члены семьи</th>\n",
       "    </tr>\n",
       "  </thead>\n",
       "  <tbody>\n",
       "    <tr>\n",
       "      <th>2838</th>\n",
       "      <td>0</td>\n",
       "      <td>27.0</td>\n",
       "      <td>18600.0</td>\n",
       "      <td>0</td>\n",
       "    </tr>\n",
       "    <tr>\n",
       "      <th>1985</th>\n",
       "      <td>0</td>\n",
       "      <td>30.0</td>\n",
       "      <td>51100.0</td>\n",
       "      <td>0</td>\n",
       "    </tr>\n",
       "    <tr>\n",
       "      <th>1850</th>\n",
       "      <td>0</td>\n",
       "      <td>49.0</td>\n",
       "      <td>28700.0</td>\n",
       "      <td>2</td>\n",
       "    </tr>\n",
       "    <tr>\n",
       "      <th>4401</th>\n",
       "      <td>0</td>\n",
       "      <td>41.0</td>\n",
       "      <td>17000.0</td>\n",
       "      <td>1</td>\n",
       "    </tr>\n",
       "    <tr>\n",
       "      <th>3784</th>\n",
       "      <td>0</td>\n",
       "      <td>23.0</td>\n",
       "      <td>50600.0</td>\n",
       "      <td>5</td>\n",
       "    </tr>\n",
       "  </tbody>\n",
       "</table>\n",
       "</div>"
      ],
      "text/plain": [
       "      Пол  Возраст  Зарплата  Члены семьи\n",
       "2838    0     27.0   18600.0            0\n",
       "1985    0     30.0   51100.0            0\n",
       "1850    0     49.0   28700.0            2\n",
       "4401    0     41.0   17000.0            1\n",
       "3784    0     23.0   50600.0            5"
      ]
     },
     "execution_count": 9,
     "metadata": {},
     "output_type": "execute_result"
    }
   ],
   "source": [
    "features_train.head()"
   ]
  },
  {
   "cell_type": "markdown",
   "metadata": {},
   "source": [
    "Преобразованные данные"
   ]
  },
  {
   "cell_type": "code",
   "execution_count": 10,
   "metadata": {},
   "outputs": [
    {
     "data": {
      "text/html": [
       "<div>\n",
       "<style scoped>\n",
       "    .dataframe tbody tr th:only-of-type {\n",
       "        vertical-align: middle;\n",
       "    }\n",
       "\n",
       "    .dataframe tbody tr th {\n",
       "        vertical-align: top;\n",
       "    }\n",
       "\n",
       "    .dataframe thead th {\n",
       "        text-align: right;\n",
       "    }\n",
       "</style>\n",
       "<table border=\"1\" class=\"dataframe\">\n",
       "  <thead>\n",
       "    <tr style=\"text-align: right;\">\n",
       "      <th></th>\n",
       "      <th>0</th>\n",
       "      <th>1</th>\n",
       "      <th>2</th>\n",
       "      <th>3</th>\n",
       "    </tr>\n",
       "  </thead>\n",
       "  <tbody>\n",
       "    <tr>\n",
       "      <th>2838</th>\n",
       "      <td>802365.0</td>\n",
       "      <td>1173744.0</td>\n",
       "      <td>1620009.0</td>\n",
       "      <td>56961.0</td>\n",
       "    </tr>\n",
       "    <tr>\n",
       "      <th>1985</th>\n",
       "      <td>2200150.0</td>\n",
       "      <td>3221460.0</td>\n",
       "      <td>4447710.0</td>\n",
       "      <td>154590.0</td>\n",
       "    </tr>\n",
       "    <tr>\n",
       "      <th>1850</th>\n",
       "      <td>1238831.0</td>\n",
       "      <td>1811674.0</td>\n",
       "      <td>2500309.0</td>\n",
       "      <td>88383.0</td>\n",
       "    </tr>\n",
       "    <tr>\n",
       "      <th>4401</th>\n",
       "      <td>734933.0</td>\n",
       "      <td>1073975.0</td>\n",
       "      <td>1481810.0</td>\n",
       "      <td>52851.0</td>\n",
       "    </tr>\n",
       "    <tr>\n",
       "      <th>3784</th>\n",
       "      <td>2178175.0</td>\n",
       "      <td>3189571.0</td>\n",
       "      <td>4404056.0</td>\n",
       "      <td>153229.0</td>\n",
       "    </tr>\n",
       "  </tbody>\n",
       "</table>\n",
       "</div>"
      ],
      "text/plain": [
       "              0          1          2         3\n",
       "2838   802365.0  1173744.0  1620009.0   56961.0\n",
       "1985  2200150.0  3221460.0  4447710.0  154590.0\n",
       "1850  1238831.0  1811674.0  2500309.0   88383.0\n",
       "4401   734933.0  1073975.0  1481810.0   52851.0\n",
       "3784  2178175.0  3189571.0  4404056.0  153229.0"
      ]
     },
     "execution_count": 10,
     "metadata": {},
     "output_type": "execute_result"
    }
   ],
   "source": [
    "features_train_matrix.head()"
   ]
  },
  {
   "cell_type": "markdown",
   "metadata": {},
   "source": [
    "Посчитаем метрику R2 для модели линейной регрессии по преобразованным данным данным."
   ]
  },
  {
   "cell_type": "code",
   "execution_count": 11,
   "metadata": {},
   "outputs": [
    {
     "name": "stdout",
     "output_type": "stream",
     "text": [
      "Метрика R2 по преобразованным данным:  0.4128950049384563\n"
     ]
    }
   ],
   "source": [
    "model.fit(features_train_matrix, target_train)\n",
    "predict_test_matrix = model.predict(features_test_matrix)\n",
    "r2_matrix = r2_score(target_test, predict_test_matrix)\n",
    "print('Метрика R2 по преобразованным данным: ', r2_matrix)"
   ]
  },
  {
   "cell_type": "markdown",
   "metadata": {},
   "source": [
    "Сравним получившиеся значения метрики R2 для исходных и преобразованных данных."
   ]
  },
  {
   "cell_type": "code",
   "execution_count": 12,
   "metadata": {},
   "outputs": [
    {
     "name": "stdout",
     "output_type": "stream",
     "text": [
      "Разница между метриками равна: 5.773159728050814e-15\n"
     ]
    }
   ],
   "source": [
    "print('Разница между метриками равна:', abs(r2_matrix - r2_norm))"
   ]
  },
  {
   "cell_type": "markdown",
   "metadata": {},
   "source": [
    "Разница начинается с 17 знака после запятой, это можно считать ошибкой округления. Фактически метрики R2 равны."
   ]
  },
  {
   "cell_type": "markdown",
   "metadata": {},
   "source": [
    "Сравним предсказания получившиеся между собой с помощью метрики R2"
   ]
  },
  {
   "cell_type": "code",
   "execution_count": 13,
   "metadata": {},
   "outputs": [
    {
     "data": {
      "text/plain": [
       "1.0"
      ]
     },
     "execution_count": 13,
     "metadata": {},
     "output_type": "execute_result"
    }
   ],
   "source": [
    "r2_score(predict_test, predict_test_matrix)"
   ]
  },
  {
   "cell_type": "markdown",
   "metadata": {},
   "source": [
    "Метрика R2 равна 1. Предсказания полученные по исходным и преобразованным данным - совпадают."
   ]
  },
  {
   "cell_type": "markdown",
   "metadata": {},
   "source": [
    "**Вывод:**  \n",
    "Мы практически убедились, что умножение матрицы признаков на обратимую матрицу на результат предсказания `не влияет`."
   ]
  }
 ],
 "metadata": {
  "ExecuteTimeLog": [
   {
    "duration": 1090,
    "start_time": "2023-05-13T20:59:44.028Z"
   },
   {
    "duration": 124,
    "start_time": "2023-05-13T21:00:50.322Z"
   },
   {
    "duration": 38,
    "start_time": "2023-05-13T21:01:07.404Z"
   },
   {
    "duration": 32,
    "start_time": "2023-05-13T21:01:28.441Z"
   },
   {
    "duration": 47,
    "start_time": "2023-05-13T21:01:39.195Z"
   },
   {
    "duration": 12,
    "start_time": "2023-05-13T21:04:05.910Z"
   },
   {
    "duration": 5,
    "start_time": "2023-05-13T21:04:56.735Z"
   },
   {
    "duration": 4,
    "start_time": "2023-05-13T21:05:12.255Z"
   },
   {
    "duration": 7,
    "start_time": "2023-05-13T21:05:23.207Z"
   },
   {
    "duration": 5,
    "start_time": "2023-05-13T21:05:49.782Z"
   },
   {
    "duration": 112,
    "start_time": "2023-05-13T21:07:30.597Z"
   },
   {
    "duration": 5,
    "start_time": "2023-05-13T21:07:54.307Z"
   },
   {
    "duration": 6,
    "start_time": "2023-05-13T21:08:01.624Z"
   },
   {
    "duration": 6,
    "start_time": "2023-05-13T21:09:15.015Z"
   },
   {
    "duration": 5,
    "start_time": "2023-05-13T21:09:57.661Z"
   },
   {
    "duration": 7,
    "start_time": "2023-05-13T21:10:06.063Z"
   },
   {
    "duration": 5,
    "start_time": "2023-05-13T21:10:11.803Z"
   },
   {
    "duration": 10,
    "start_time": "2023-05-13T21:12:47.628Z"
   },
   {
    "duration": 2,
    "start_time": "2023-05-13T21:49:52.177Z"
   },
   {
    "duration": 7,
    "start_time": "2023-05-13T21:49:57.696Z"
   },
   {
    "duration": 3,
    "start_time": "2023-05-13T21:50:37.321Z"
   },
   {
    "duration": 3,
    "start_time": "2023-05-13T21:50:46.351Z"
   },
   {
    "duration": 9,
    "start_time": "2023-05-13T21:50:52.262Z"
   },
   {
    "duration": 5,
    "start_time": "2023-05-13T21:51:00.553Z"
   },
   {
    "duration": 7,
    "start_time": "2023-05-13T21:51:10.531Z"
   },
   {
    "duration": 4,
    "start_time": "2023-05-13T21:52:24.686Z"
   },
   {
    "duration": 4,
    "start_time": "2023-05-13T21:52:31.096Z"
   },
   {
    "duration": 5,
    "start_time": "2023-05-13T21:52:32.192Z"
   },
   {
    "duration": 4,
    "start_time": "2023-05-13T21:52:33.154Z"
   },
   {
    "duration": 4,
    "start_time": "2023-05-13T21:53:16.705Z"
   },
   {
    "duration": 4,
    "start_time": "2023-05-13T21:53:22.511Z"
   },
   {
    "duration": 4,
    "start_time": "2023-05-13T21:53:24.920Z"
   },
   {
    "duration": 3,
    "start_time": "2023-05-13T21:54:34.185Z"
   },
   {
    "duration": 3,
    "start_time": "2023-05-13T21:54:36.527Z"
   },
   {
    "duration": 4,
    "start_time": "2023-05-13T21:54:58.919Z"
   },
   {
    "duration": 4,
    "start_time": "2023-05-13T21:55:00.461Z"
   },
   {
    "duration": 3,
    "start_time": "2023-05-13T21:55:01.277Z"
   },
   {
    "duration": 4,
    "start_time": "2023-05-13T21:55:29.280Z"
   },
   {
    "duration": 4,
    "start_time": "2023-05-13T21:55:40.957Z"
   },
   {
    "duration": 4,
    "start_time": "2023-05-13T21:56:09.558Z"
   },
   {
    "duration": 4,
    "start_time": "2023-05-13T21:56:43.569Z"
   },
   {
    "duration": 3,
    "start_time": "2023-05-13T21:57:02.451Z"
   },
   {
    "duration": 4,
    "start_time": "2023-05-13T21:57:06.146Z"
   },
   {
    "duration": 4,
    "start_time": "2023-05-13T21:57:09.207Z"
   },
   {
    "duration": 5,
    "start_time": "2023-05-13T21:57:12.131Z"
   },
   {
    "duration": 4,
    "start_time": "2023-05-13T21:57:30.462Z"
   },
   {
    "duration": 4,
    "start_time": "2023-05-13T21:57:58.908Z"
   },
   {
    "duration": 981,
    "start_time": "2023-05-14T07:45:40.310Z"
   },
   {
    "duration": 12,
    "start_time": "2023-05-14T08:56:37.425Z"
   },
   {
    "duration": 6,
    "start_time": "2023-05-14T08:56:56.688Z"
   },
   {
    "duration": 5,
    "start_time": "2023-05-14T08:57:02.868Z"
   },
   {
    "duration": 188,
    "start_time": "2023-05-14T08:57:09.634Z"
   },
   {
    "duration": 10,
    "start_time": "2023-05-14T08:57:30.507Z"
   },
   {
    "duration": 58,
    "start_time": "2023-05-14T08:57:36.471Z"
   },
   {
    "duration": 15,
    "start_time": "2023-05-14T08:57:48.546Z"
   },
   {
    "duration": 72,
    "start_time": "2023-05-14T08:57:52.800Z"
   },
   {
    "duration": 1651,
    "start_time": "2023-05-15T12:15:31.202Z"
   },
   {
    "duration": 106,
    "start_time": "2023-05-15T12:15:35.632Z"
   },
   {
    "duration": 10,
    "start_time": "2023-05-15T12:15:55.952Z"
   },
   {
    "duration": 12,
    "start_time": "2023-05-15T12:16:32.590Z"
   },
   {
    "duration": 91,
    "start_time": "2023-05-15T12:22:45.714Z"
   },
   {
    "duration": 9,
    "start_time": "2023-05-15T12:23:11.642Z"
   },
   {
    "duration": 6,
    "start_time": "2023-05-15T12:23:20.691Z"
   },
   {
    "duration": 12,
    "start_time": "2023-05-15T12:23:28.210Z"
   },
   {
    "duration": 6,
    "start_time": "2023-05-15T12:23:36.641Z"
   },
   {
    "duration": 14,
    "start_time": "2023-05-15T12:23:42.969Z"
   },
   {
    "duration": 6,
    "start_time": "2023-05-15T12:23:52.505Z"
   },
   {
    "duration": 11,
    "start_time": "2023-05-15T12:23:59.161Z"
   },
   {
    "duration": 22,
    "start_time": "2023-05-15T12:29:36.286Z"
   },
   {
    "duration": 3,
    "start_time": "2023-05-15T12:29:54.576Z"
   },
   {
    "duration": 11,
    "start_time": "2023-05-15T12:30:24.973Z"
   },
   {
    "duration": 9,
    "start_time": "2023-05-15T12:31:01.381Z"
   },
   {
    "duration": 9,
    "start_time": "2023-05-15T12:32:18.333Z"
   },
   {
    "duration": 8,
    "start_time": "2023-05-15T12:32:35.398Z"
   },
   {
    "duration": 9,
    "start_time": "2023-05-15T12:32:45.964Z"
   },
   {
    "duration": 4,
    "start_time": "2023-05-15T12:35:26.355Z"
   },
   {
    "duration": 4,
    "start_time": "2023-05-15T12:35:42.601Z"
   },
   {
    "duration": 5,
    "start_time": "2023-05-15T12:37:14.489Z"
   },
   {
    "duration": 5,
    "start_time": "2023-05-15T12:37:52.784Z"
   },
   {
    "duration": 3,
    "start_time": "2023-05-15T12:39:46.616Z"
   },
   {
    "duration": 5,
    "start_time": "2023-05-15T12:40:03.800Z"
   },
   {
    "duration": 5,
    "start_time": "2023-05-15T12:40:31.727Z"
   },
   {
    "duration": 3,
    "start_time": "2023-05-15T12:40:40.150Z"
   },
   {
    "duration": 3,
    "start_time": "2023-05-15T12:41:02.184Z"
   },
   {
    "duration": 5,
    "start_time": "2023-05-15T12:41:09.544Z"
   },
   {
    "duration": 4,
    "start_time": "2023-05-15T12:41:19.926Z"
   },
   {
    "duration": 4,
    "start_time": "2023-05-15T12:41:23.374Z"
   },
   {
    "duration": 4,
    "start_time": "2023-05-15T12:41:51.366Z"
   },
   {
    "duration": 4,
    "start_time": "2023-05-15T12:42:39.133Z"
   },
   {
    "duration": 4,
    "start_time": "2023-05-15T12:42:42.877Z"
   },
   {
    "duration": 6,
    "start_time": "2023-05-15T12:43:26.196Z"
   },
   {
    "duration": 32,
    "start_time": "2023-05-15T12:43:28.766Z"
   },
   {
    "duration": 3,
    "start_time": "2023-05-15T12:44:29.878Z"
   },
   {
    "duration": 14,
    "start_time": "2023-05-15T12:44:38.590Z"
   },
   {
    "duration": 16,
    "start_time": "2023-05-15T12:45:07.124Z"
   },
   {
    "duration": 11,
    "start_time": "2023-05-15T12:53:17.241Z"
   },
   {
    "duration": 11,
    "start_time": "2023-05-15T12:53:25.982Z"
   },
   {
    "duration": 9,
    "start_time": "2023-05-15T12:53:34.550Z"
   },
   {
    "duration": 10,
    "start_time": "2023-05-15T12:53:53.839Z"
   },
   {
    "duration": 11,
    "start_time": "2023-05-15T12:57:23.515Z"
   },
   {
    "duration": 12,
    "start_time": "2023-05-15T12:57:37.355Z"
   },
   {
    "duration": 8,
    "start_time": "2023-05-15T12:57:52.084Z"
   },
   {
    "duration": 7,
    "start_time": "2023-05-15T12:57:57.739Z"
   },
   {
    "duration": 4,
    "start_time": "2023-05-15T13:00:10.858Z"
   },
   {
    "duration": 7,
    "start_time": "2023-05-15T13:00:14.939Z"
   },
   {
    "duration": 9,
    "start_time": "2023-05-15T13:01:20.522Z"
   },
   {
    "duration": 10,
    "start_time": "2023-05-15T13:02:31.645Z"
   },
   {
    "duration": 11,
    "start_time": "2023-05-15T13:02:46.841Z"
   },
   {
    "duration": 695,
    "start_time": "2023-05-15T13:05:21.631Z"
   },
   {
    "duration": 7,
    "start_time": "2023-05-15T13:05:27.831Z"
   },
   {
    "duration": 8,
    "start_time": "2023-05-15T13:05:36.695Z"
   },
   {
    "duration": 10,
    "start_time": "2023-05-15T13:17:36.983Z"
   },
   {
    "duration": 12,
    "start_time": "2023-05-15T13:18:02.076Z"
   },
   {
    "duration": 10,
    "start_time": "2023-05-15T13:18:07.649Z"
   },
   {
    "duration": 11,
    "start_time": "2023-05-15T13:18:14.550Z"
   },
   {
    "duration": 9,
    "start_time": "2023-05-15T13:18:19.198Z"
   },
   {
    "duration": 5,
    "start_time": "2023-05-15T13:18:44.430Z"
   },
   {
    "duration": 4,
    "start_time": "2023-05-15T13:18:48.090Z"
   },
   {
    "duration": 9,
    "start_time": "2023-05-15T13:18:51.189Z"
   },
   {
    "duration": 9,
    "start_time": "2023-05-15T13:18:54.399Z"
   },
   {
    "duration": 10,
    "start_time": "2023-05-15T13:19:03.085Z"
   },
   {
    "duration": 6,
    "start_time": "2023-05-15T13:19:45.446Z"
   },
   {
    "duration": 6,
    "start_time": "2023-05-15T13:20:00.150Z"
   },
   {
    "duration": 4,
    "start_time": "2023-05-15T13:20:10.301Z"
   },
   {
    "duration": 13,
    "start_time": "2023-05-15T13:20:13.261Z"
   },
   {
    "duration": 9,
    "start_time": "2023-05-15T13:20:33.525Z"
   },
   {
    "duration": 7,
    "start_time": "2023-05-15T13:36:54.739Z"
   },
   {
    "duration": 4,
    "start_time": "2023-05-15T13:36:57.810Z"
   },
   {
    "duration": 8,
    "start_time": "2023-05-15T13:37:00.730Z"
   },
   {
    "duration": 12,
    "start_time": "2023-05-15T13:37:03.191Z"
   },
   {
    "duration": 9,
    "start_time": "2023-05-15T13:37:11.408Z"
   },
   {
    "duration": 5,
    "start_time": "2023-05-15T13:40:19.892Z"
   },
   {
    "duration": 5,
    "start_time": "2023-05-15T13:40:23.180Z"
   },
   {
    "duration": 4,
    "start_time": "2023-05-15T13:40:25.638Z"
   },
   {
    "duration": 9,
    "start_time": "2023-05-15T13:40:28.110Z"
   },
   {
    "duration": 9,
    "start_time": "2023-05-15T13:40:32.674Z"
   },
   {
    "duration": 10,
    "start_time": "2023-05-15T13:42:23.994Z"
   },
   {
    "duration": 4,
    "start_time": "2023-05-15T13:42:39.096Z"
   },
   {
    "duration": 5,
    "start_time": "2023-05-15T13:42:47.223Z"
   },
   {
    "duration": 3,
    "start_time": "2023-05-15T13:56:38.277Z"
   },
   {
    "duration": 3,
    "start_time": "2023-05-15T13:56:41.715Z"
   },
   {
    "duration": 5,
    "start_time": "2023-05-15T13:59:43.852Z"
   },
   {
    "duration": 4,
    "start_time": "2023-05-15T13:59:47.067Z"
   },
   {
    "duration": 6,
    "start_time": "2023-05-15T14:05:24.375Z"
   },
   {
    "duration": 3,
    "start_time": "2023-05-15T14:06:35.327Z"
   },
   {
    "duration": 4,
    "start_time": "2023-05-15T14:07:39.030Z"
   },
   {
    "duration": 3110,
    "start_time": "2023-05-16T09:19:13.568Z"
   },
   {
    "duration": 139,
    "start_time": "2023-05-16T09:19:16.681Z"
   },
   {
    "duration": 25,
    "start_time": "2023-05-16T09:19:16.822Z"
   },
   {
    "duration": 9,
    "start_time": "2023-05-16T09:19:16.849Z"
   },
   {
    "duration": 13,
    "start_time": "2023-05-16T09:19:16.861Z"
   },
   {
    "duration": 7,
    "start_time": "2023-05-16T09:19:16.878Z"
   },
   {
    "duration": 5,
    "start_time": "2023-05-16T09:19:16.887Z"
   },
   {
    "duration": 5,
    "start_time": "2023-05-16T09:19:16.894Z"
   },
   {
    "duration": 93,
    "start_time": "2023-05-16T09:19:16.901Z"
   },
   {
    "duration": 83,
    "start_time": "2023-05-16T09:19:16.997Z"
   },
   {
    "duration": 16,
    "start_time": "2023-05-16T09:19:17.082Z"
   },
   {
    "duration": 11,
    "start_time": "2023-05-16T09:19:17.100Z"
   },
   {
    "duration": 14,
    "start_time": "2023-05-16T09:19:17.113Z"
   },
   {
    "duration": 78,
    "start_time": "2023-05-16T17:00:31.631Z"
   },
   {
    "duration": 1373,
    "start_time": "2023-05-16T17:00:35.961Z"
   },
   {
    "duration": 193,
    "start_time": "2023-05-16T17:00:40.619Z"
   },
   {
    "duration": 32,
    "start_time": "2023-05-16T17:00:43.513Z"
   },
   {
    "duration": 32,
    "start_time": "2023-05-16T17:00:46.363Z"
   },
   {
    "duration": 4,
    "start_time": "2023-05-16T17:39:55.642Z"
   },
   {
    "duration": 10,
    "start_time": "2023-05-16T17:40:10.916Z"
   },
   {
    "duration": 9490,
    "start_time": "2023-05-16T17:41:24.988Z"
   }
  ],
  "kernelspec": {
   "display_name": "Python 3 (ipykernel)",
   "language": "python",
   "name": "python3"
  },
  "language_info": {
   "codemirror_mode": {
    "name": "ipython",
    "version": 3
   },
   "file_extension": ".py",
   "mimetype": "text/x-python",
   "name": "python",
   "nbconvert_exporter": "python",
   "pygments_lexer": "ipython3",
   "version": "3.9.13"
  },
  "toc": {
   "base_numbering": 1,
   "nav_menu": {},
   "number_sections": true,
   "sideBar": true,
   "skip_h1_title": true,
   "title_cell": "Содержание",
   "title_sidebar": "Contents",
   "toc_cell": true,
   "toc_position": {},
   "toc_section_display": true,
   "toc_window_display": false
  }
 },
 "nbformat": 4,
 "nbformat_minor": 2
}
