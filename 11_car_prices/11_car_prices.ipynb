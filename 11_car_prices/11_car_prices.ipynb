{
 "cells": [
  {
   "cell_type": "markdown",
   "metadata": {},
   "source": [
    "# Определение стоимости автомобилей"
   ]
  },
  {
   "cell_type": "markdown",
   "metadata": {},
   "source": [
    "Сервис по продаже автомобилей с пробегом «Не бит, не крашен» разрабатывает приложение для привлечения новых клиентов. В нём можно быстро узнать рыночную стоимость своего автомобиля. В вашем распоряжении исторические данные: технические характеристики, комплектации и цены автомобилей. Вам нужно построить модель для определения стоимости. \n",
    "\n",
    "Заказчику важны:\n",
    "\n",
    "- качество предсказания;\n",
    "- скорость предсказания;\n",
    "- время обучения."
   ]
  },
  {
   "cell_type": "markdown",
   "metadata": {},
   "source": [
    "## Подготовка данных"
   ]
  },
  {
   "cell_type": "code",
   "execution_count": 1,
   "metadata": {},
   "outputs": [],
   "source": [
    "import numpy as np\n",
    "import pandas as pd\n",
    "from catboost import CatBoostRegressor\n",
    "from lightgbm import LGBMRegressor\n",
    "from sklearn.ensemble import RandomForestRegressor\n",
    "from sklearn.linear_model import LinearRegression\n",
    "from sklearn.metrics import mean_squared_error\n",
    "from sklearn.model_selection import train_test_split\n",
    "from sklearn.preprocessing import OrdinalEncoder\n",
    "from sklearn.preprocessing import StandardScaler\n",
    "from tqdm import tqdm\n",
    "\n",
    "pd.options.mode.chained_assignment = None"
   ]
  },
  {
   "cell_type": "code",
   "execution_count": 2,
   "metadata": {},
   "outputs": [],
   "source": [
    "df_full = pd.read_csv('autos.csv')  # jupyterhub постоянно вылетал при подборе гиперпараметров, \n",
    "                                    # поэтому я вынужден был перейти в локальный jupyter и изменить путь к данным."
   ]
  },
  {
   "cell_type": "code",
   "execution_count": 3,
   "metadata": {},
   "outputs": [
    {
     "name": "stdout",
     "output_type": "stream",
     "text": [
      "<class 'pandas.core.frame.DataFrame'>\n",
      "RangeIndex: 354369 entries, 0 to 354368\n",
      "Data columns (total 16 columns):\n",
      " #   Column             Non-Null Count   Dtype \n",
      "---  ------             --------------   ----- \n",
      " 0   DateCrawled        354369 non-null  object\n",
      " 1   Price              354369 non-null  int64 \n",
      " 2   VehicleType        316879 non-null  object\n",
      " 3   RegistrationYear   354369 non-null  int64 \n",
      " 4   Gearbox            334536 non-null  object\n",
      " 5   Power              354369 non-null  int64 \n",
      " 6   Model              334664 non-null  object\n",
      " 7   Kilometer          354369 non-null  int64 \n",
      " 8   RegistrationMonth  354369 non-null  int64 \n",
      " 9   FuelType           321474 non-null  object\n",
      " 10  Brand              354369 non-null  object\n",
      " 11  Repaired           283215 non-null  object\n",
      " 12  DateCreated        354369 non-null  object\n",
      " 13  NumberOfPictures   354369 non-null  int64 \n",
      " 14  PostalCode         354369 non-null  int64 \n",
      " 15  LastSeen           354369 non-null  object\n",
      "dtypes: int64(7), object(9)\n",
      "memory usage: 43.3+ MB\n"
     ]
    }
   ],
   "source": [
    "df_full.info()"
   ]
  },
  {
   "cell_type": "code",
   "execution_count": 4,
   "metadata": {
    "scrolled": true
   },
   "outputs": [
    {
     "data": {
      "text/html": [
       "<div>\n",
       "<style scoped>\n",
       "    .dataframe tbody tr th:only-of-type {\n",
       "        vertical-align: middle;\n",
       "    }\n",
       "\n",
       "    .dataframe tbody tr th {\n",
       "        vertical-align: top;\n",
       "    }\n",
       "\n",
       "    .dataframe thead th {\n",
       "        text-align: right;\n",
       "    }\n",
       "</style>\n",
       "<table border=\"1\" class=\"dataframe\">\n",
       "  <thead>\n",
       "    <tr style=\"text-align: right;\">\n",
       "      <th></th>\n",
       "      <th>Price</th>\n",
       "      <th>RegistrationYear</th>\n",
       "      <th>Power</th>\n",
       "      <th>Kilometer</th>\n",
       "      <th>RegistrationMonth</th>\n",
       "      <th>NumberOfPictures</th>\n",
       "      <th>PostalCode</th>\n",
       "    </tr>\n",
       "  </thead>\n",
       "  <tbody>\n",
       "    <tr>\n",
       "      <th>count</th>\n",
       "      <td>354369.000000</td>\n",
       "      <td>354369.000000</td>\n",
       "      <td>354369.000000</td>\n",
       "      <td>354369.000000</td>\n",
       "      <td>354369.000000</td>\n",
       "      <td>354369.0</td>\n",
       "      <td>354369.000000</td>\n",
       "    </tr>\n",
       "    <tr>\n",
       "      <th>mean</th>\n",
       "      <td>4416.656776</td>\n",
       "      <td>2004.234448</td>\n",
       "      <td>110.094337</td>\n",
       "      <td>128211.172535</td>\n",
       "      <td>5.714645</td>\n",
       "      <td>0.0</td>\n",
       "      <td>50508.689087</td>\n",
       "    </tr>\n",
       "    <tr>\n",
       "      <th>std</th>\n",
       "      <td>4514.158514</td>\n",
       "      <td>90.227958</td>\n",
       "      <td>189.850405</td>\n",
       "      <td>37905.341530</td>\n",
       "      <td>3.726421</td>\n",
       "      <td>0.0</td>\n",
       "      <td>25783.096248</td>\n",
       "    </tr>\n",
       "    <tr>\n",
       "      <th>min</th>\n",
       "      <td>0.000000</td>\n",
       "      <td>1000.000000</td>\n",
       "      <td>0.000000</td>\n",
       "      <td>5000.000000</td>\n",
       "      <td>0.000000</td>\n",
       "      <td>0.0</td>\n",
       "      <td>1067.000000</td>\n",
       "    </tr>\n",
       "    <tr>\n",
       "      <th>25%</th>\n",
       "      <td>1050.000000</td>\n",
       "      <td>1999.000000</td>\n",
       "      <td>69.000000</td>\n",
       "      <td>125000.000000</td>\n",
       "      <td>3.000000</td>\n",
       "      <td>0.0</td>\n",
       "      <td>30165.000000</td>\n",
       "    </tr>\n",
       "    <tr>\n",
       "      <th>50%</th>\n",
       "      <td>2700.000000</td>\n",
       "      <td>2003.000000</td>\n",
       "      <td>105.000000</td>\n",
       "      <td>150000.000000</td>\n",
       "      <td>6.000000</td>\n",
       "      <td>0.0</td>\n",
       "      <td>49413.000000</td>\n",
       "    </tr>\n",
       "    <tr>\n",
       "      <th>75%</th>\n",
       "      <td>6400.000000</td>\n",
       "      <td>2008.000000</td>\n",
       "      <td>143.000000</td>\n",
       "      <td>150000.000000</td>\n",
       "      <td>9.000000</td>\n",
       "      <td>0.0</td>\n",
       "      <td>71083.000000</td>\n",
       "    </tr>\n",
       "    <tr>\n",
       "      <th>max</th>\n",
       "      <td>20000.000000</td>\n",
       "      <td>9999.000000</td>\n",
       "      <td>20000.000000</td>\n",
       "      <td>150000.000000</td>\n",
       "      <td>12.000000</td>\n",
       "      <td>0.0</td>\n",
       "      <td>99998.000000</td>\n",
       "    </tr>\n",
       "  </tbody>\n",
       "</table>\n",
       "</div>"
      ],
      "text/plain": [
       "               Price  RegistrationYear          Power      Kilometer  \\\n",
       "count  354369.000000     354369.000000  354369.000000  354369.000000   \n",
       "mean     4416.656776       2004.234448     110.094337  128211.172535   \n",
       "std      4514.158514         90.227958     189.850405   37905.341530   \n",
       "min         0.000000       1000.000000       0.000000    5000.000000   \n",
       "25%      1050.000000       1999.000000      69.000000  125000.000000   \n",
       "50%      2700.000000       2003.000000     105.000000  150000.000000   \n",
       "75%      6400.000000       2008.000000     143.000000  150000.000000   \n",
       "max     20000.000000       9999.000000   20000.000000  150000.000000   \n",
       "\n",
       "       RegistrationMonth  NumberOfPictures     PostalCode  \n",
       "count      354369.000000          354369.0  354369.000000  \n",
       "mean            5.714645               0.0   50508.689087  \n",
       "std             3.726421               0.0   25783.096248  \n",
       "min             0.000000               0.0    1067.000000  \n",
       "25%             3.000000               0.0   30165.000000  \n",
       "50%             6.000000               0.0   49413.000000  \n",
       "75%             9.000000               0.0   71083.000000  \n",
       "max            12.000000               0.0   99998.000000  "
      ]
     },
     "execution_count": 4,
     "metadata": {},
     "output_type": "execute_result"
    }
   ],
   "source": [
    "df_full.describe()"
   ]
  },
  {
   "cell_type": "markdown",
   "metadata": {},
   "source": [
    "### Обработка пропусков и выбросов"
   ]
  },
  {
   "cell_type": "markdown",
   "metadata": {},
   "source": [
    "На основании полученной информации о датасете, можем запланировать следующие действия:\n",
    "   - Столбцы `DateCrawled`, `NumberOfPictures`, `PostalCode`, `LastSeen`, `DateCreated` удалим, как содержащие информацию не влияющую на предсказание цены.\n",
    "   - В данных есть пропуски, удалим их или заполним.\n",
    "   - В столбцах, содержащих числовые данные, есть выбросы, отбросим их как ошибочные данные.\n",
    "   - К столбцам типа object применим прямое кодирование, после этого ко всем данным (кроме цели) применим масштабирование.   "
   ]
  },
  {
   "cell_type": "code",
   "execution_count": 5,
   "metadata": {},
   "outputs": [
    {
     "name": "stdout",
     "output_type": "stream",
     "text": [
      "Количество строк содержащих цену равную 0 - 10772\n"
     ]
    }
   ],
   "source": [
    "print('Количество строк содержащих цену равную 0 -', df_full[df_full['Price'] == 0].shape[0])"
   ]
  },
  {
   "cell_type": "markdown",
   "metadata": {},
   "source": [
    "Нам необходимо предсказать рыночную цену автомобиля. Цену равную 0, будем считать ошибкой ввода данных, заполнить можно медианной ценой по таким же автомобилям. Но признаков для определения такого же автомобиля слишком много, поэтому самих автомобилей в подборке будет мало, поэтому полученная медианная цена может быть не объективна. С другой стороны данных с нулевой ценой 3%. Можем удалить эти данные, что бы они не попали в тренировочную выборку и своей нулевой ценой не влияли на результат. После обучения модели, можно попробовать предсказать цену на эти машины."
   ]
  },
  {
   "cell_type": "code",
   "execution_count": 6,
   "metadata": {},
   "outputs": [],
   "source": [
    "df = df_full[df_full['Price'] != 0]"
   ]
  },
  {
   "cell_type": "code",
   "execution_count": 7,
   "metadata": {},
   "outputs": [
    {
     "data": {
      "text/plain": [
       "13832"
      ]
     },
     "execution_count": 7,
     "metadata": {},
     "output_type": "execute_result"
    }
   ],
   "source": [
    "df.query('RegistrationYear < 1900 or RegistrationYear > 2016')['RegistrationYear'].count()"
   ]
  },
  {
   "cell_type": "markdown",
   "metadata": {},
   "source": [
    "Количество машин с некорректным годом регистрации - 13832. Год регистрации (выпуска) - существенный признак машины, удалим эти данные."
   ]
  },
  {
   "cell_type": "code",
   "execution_count": 8,
   "metadata": {},
   "outputs": [
    {
     "data": {
      "text/plain": [
       "0"
      ]
     },
     "execution_count": 8,
     "metadata": {},
     "output_type": "execute_result"
    }
   ],
   "source": [
    "df = df.query('1900 < RegistrationYear < 2017')\n",
    "df.query('RegistrationYear < 1900 or RegistrationYear > 2016')['RegistrationYear'].count()"
   ]
  },
  {
   "cell_type": "code",
   "execution_count": 9,
   "metadata": {},
   "outputs": [
    {
     "name": "stdout",
     "output_type": "stream",
     "text": [
      "<class 'pandas.core.frame.DataFrame'>\n",
      "Int64Index: 329765 entries, 0 to 354368\n",
      "Data columns (total 16 columns):\n",
      " #   Column             Non-Null Count   Dtype \n",
      "---  ------             --------------   ----- \n",
      " 0   DateCrawled        329765 non-null  object\n",
      " 1   Price              329765 non-null  int64 \n",
      " 2   VehicleType        309828 non-null  object\n",
      " 3   RegistrationYear   329765 non-null  int64 \n",
      " 4   Gearbox            314163 non-null  object\n",
      " 5   Power              329765 non-null  int64 \n",
      " 6   Model              314128 non-null  object\n",
      " 7   Kilometer          329765 non-null  int64 \n",
      " 8   RegistrationMonth  329765 non-null  int64 \n",
      " 9   FuelType           305590 non-null  object\n",
      " 10  Brand              329765 non-null  object\n",
      " 11  Repaired           269883 non-null  object\n",
      " 12  DateCreated        329765 non-null  object\n",
      " 13  NumberOfPictures   329765 non-null  int64 \n",
      " 14  PostalCode         329765 non-null  int64 \n",
      " 15  LastSeen           329765 non-null  object\n",
      "dtypes: int64(7), object(9)\n",
      "memory usage: 42.8+ MB\n"
     ]
    }
   ],
   "source": [
    "df.info()"
   ]
  },
  {
   "cell_type": "markdown",
   "metadata": {},
   "source": [
    "Видим, что есть пропуски в категорийных данных в столбцах `VehicleType`, `Gearbox`, `Model`, `FuelType`, `Repaired`.  \n",
    "Заполним пропуски значением `unknown`."
   ]
  },
  {
   "cell_type": "code",
   "execution_count": 10,
   "metadata": {},
   "outputs": [],
   "source": [
    "df = df.fillna('unknown')"
   ]
  },
  {
   "cell_type": "markdown",
   "metadata": {},
   "source": [
    "Проверим сколько машин с некорректно указанной мощностью двигателя (меньше 30 л.с и более 1000 л.с.). "
   ]
  },
  {
   "cell_type": "code",
   "execution_count": 11,
   "metadata": {},
   "outputs": [
    {
     "data": {
      "text/plain": [
       "33963"
      ]
     },
     "execution_count": 11,
     "metadata": {},
     "output_type": "execute_result"
    }
   ],
   "source": [
    "df.query('Power < 30 or Power > 1000')['Power'].count()"
   ]
  },
  {
   "cell_type": "markdown",
   "metadata": {},
   "source": [
    "Не корректные данные указаны в 33963 записях. Данных 11%, их удаление может повлиять на результат, заменим не корректные значения `Power` медианным значением `Power` сгруппированным по `VehicleType`."
   ]
  },
  {
   "cell_type": "code",
   "execution_count": 12,
   "metadata": {},
   "outputs": [],
   "source": [
    "power_median = df.query('Power > 30 and Power < 1000').groupby('VehicleType')['Power'].median()\n",
    "df.loc[(df['Power'] < 30) | (df['Power'] > 1000) , ['Power']] = \\\n",
    "                    power_median[df.loc[(df['Power'] < 30) | (df['Power'] > 1000),'VehicleType']].values"
   ]
  },
  {
   "cell_type": "markdown",
   "metadata": {},
   "source": [
    "Удалим столбцы `DateCrawled`, `NumberOfPictures`, `PostalCode`, `LastSeen`, `DateCreated`, как не влияющие на анализ."
   ]
  },
  {
   "cell_type": "code",
   "execution_count": 13,
   "metadata": {},
   "outputs": [],
   "source": [
    "df = df.drop(['DateCrawled', 'NumberOfPictures', 'PostalCode', 'LastSeen', 'DateCreated'], axis=1)"
   ]
  },
  {
   "cell_type": "code",
   "execution_count": 14,
   "metadata": {},
   "outputs": [],
   "source": [
    "#df['RegistrationMonth'].value_counts(dropna = False)"
   ]
  },
  {
   "cell_type": "markdown",
   "metadata": {},
   "source": [
    "В столбце месяц регистрации есть нулевые данные. Это некорректно. Но данных достаточно много (32772) для удаления. По идее нужно заполнить, но чем заполнять не понятно. Среднее и медиана не подходят, так как просто увеличат на 32 тыс значение за какой-нибудь месяц. Можно в случайном порядке распределить по остальным месяцам, но такой случайный выбор никакой пользы для предсказаний не принесет. Оставим как есть, будем считать что 0 месяц означает отсутствие месяца."
   ]
  },
  {
   "cell_type": "code",
   "execution_count": 15,
   "metadata": {},
   "outputs": [],
   "source": [
    "df = df.drop(['RegistrationMonth'], axis=1)"
   ]
  },
  {
   "cell_type": "markdown",
   "metadata": {},
   "source": [
    "### Кодирование и масштабирование"
   ]
  },
  {
   "cell_type": "markdown",
   "metadata": {},
   "source": [
    "Данные подготовили, теперь закодируем категорийные признаки и масштабируем данные."
   ]
  },
  {
   "cell_type": "code",
   "execution_count": 16,
   "metadata": {},
   "outputs": [],
   "source": [
    "num = ['RegistrationYear', 'Power', 'Kilometer', 'RegistrationMonth']\n",
    "kat = ['VehicleType', 'Gearbox', 'Model', 'FuelType', 'Brand', 'Repaired']"
   ]
  },
  {
   "cell_type": "code",
   "execution_count": 17,
   "metadata": {},
   "outputs": [],
   "source": [
    "feature = df.drop(['Price'], axis=1)\n",
    "target = df['Price']"
   ]
  },
  {
   "cell_type": "code",
   "execution_count": 18,
   "metadata": {},
   "outputs": [],
   "source": [
    "feature_train, feature_test, target_train, target_test = train_test_split(feature, target, test_size=0.2, random_state=68756)\n",
    "feature_train, feature_valid, target_train, target_valid = \\\n",
    "                                            train_test_split(feature_train, target_train, test_size=0.25, random_state=68756)"
   ]
  },
  {
   "cell_type": "markdown",
   "metadata": {},
   "source": [
    "Кодируем категорийные признаки."
   ]
  },
  {
   "cell_type": "code",
   "execution_count": 19,
   "metadata": {},
   "outputs": [],
   "source": [
    "OE = OrdinalEncoder(handle_unknown='use_encoded_value', unknown_value=-1, dtype='int64')"
   ]
  },
  {
   "cell_type": "code",
   "execution_count": 20,
   "metadata": {},
   "outputs": [],
   "source": [
    "feature_train[kat] = OE.fit_transform(feature_train[kat])\n",
    "feature_valid[kat] = OE.transform(feature_valid[kat])\n",
    "feature_test[kat] = OE.transform(feature_test[kat])"
   ]
  },
  {
   "cell_type": "markdown",
   "metadata": {},
   "source": [
    "Масштабируем все признаки."
   ]
  },
  {
   "cell_type": "code",
   "execution_count": 21,
   "metadata": {},
   "outputs": [],
   "source": [
    "scaler = StandardScaler()\n",
    "feature_train = scaler.fit_transform(feature_train)\n",
    "feature_valid = scaler.transform(feature_valid)\n",
    "feature_test = scaler.transform(feature_test)"
   ]
  },
  {
   "cell_type": "markdown",
   "metadata": {},
   "source": [
    "**Вывод:**  \n",
    "Данные разбиты на выборки и подготовлены для обучения моделей.  \n",
    "Пропуски удалены или заполнены, незначащие столбцы удалены.  \n",
    "Данные закодированы и масштабированы."
   ]
  },
  {
   "cell_type": "markdown",
   "metadata": {},
   "source": [
    "## Обучение моделей"
   ]
  },
  {
   "cell_type": "markdown",
   "metadata": {},
   "source": [
    "Будем обучать 4 модели:\n",
    "- Линейную регрессию\n",
    "- Случайный лес\n",
    "- LightGBM\n",
    "- CatBoost"
   ]
  },
  {
   "cell_type": "markdown",
   "metadata": {},
   "source": [
    "### Линейная регрессия"
   ]
  },
  {
   "cell_type": "code",
   "execution_count": 22,
   "metadata": {},
   "outputs": [],
   "source": [
    "model_lr = LinearRegression(n_jobs=-1)"
   ]
  },
  {
   "cell_type": "code",
   "execution_count": 23,
   "metadata": {},
   "outputs": [
    {
     "name": "stdout",
     "output_type": "stream",
     "text": [
      "Wall time: 45.8 ms\n"
     ]
    }
   ],
   "source": [
    "%%time\n",
    "\n",
    "model_lr.fit(feature_train, target_train)\n",
    "pass"
   ]
  },
  {
   "cell_type": "code",
   "execution_count": 24,
   "metadata": {},
   "outputs": [
    {
     "name": "stdout",
     "output_type": "stream",
     "text": [
      "Wall time: 998 µs\n"
     ]
    }
   ],
   "source": [
    "%%time\n",
    "\n",
    "predict_lr = model_lr.predict(feature_valid)"
   ]
  },
  {
   "cell_type": "code",
   "execution_count": 25,
   "metadata": {},
   "outputs": [
    {
     "name": "stdout",
     "output_type": "stream",
     "text": [
      "RMSE = 2986\n"
     ]
    }
   ],
   "source": [
    "print('RMSE =', int((mean_squared_error(target_valid, predict_lr))**0.5))"
   ]
  },
  {
   "cell_type": "markdown",
   "metadata": {},
   "source": [
    "Линейная регресси с параметрами по умолчанию показала следующие результаты:  \n",
    "Время обучения - 30 мс  \n",
    "Время предсказания - 7 мс  \n",
    "RMSE - 3036"
   ]
  },
  {
   "cell_type": "markdown",
   "metadata": {},
   "source": [
    "```python\n",
    "# прямое кодирование (для линейных моделей)\n",
    "features_train_ohe = pd.get_dummies(features_train, drop_first=True)\n",
    "features_valid_ohe = pd.get_dummies(features_valid, drop_first=True)\n",
    "features_test_ohe = pd.get_dummies(features_test, drop_first=True)\n",
    "# после прямого кодирования кол-во признаков в выборках будет отличаться\n",
    "# поэтому стоит удалить лишние признаки в каждой выборке\n",
    "\n",
    "# Найдем общие признаки между обучающей, валидационной и тестовой выборками\n",
    "common_columns = set(features_train_ohe.columns) & set(features_valid_ohe.columns) & set(features_test_ohe.columns)\n",
    "\n",
    "# Оставим в каждой выборке только общие признаки\n",
    "features_train_ohe = features_train_ohe[list(common_columns)]\n",
    "features_valid_ohe = features_valid_ohe[list(common_columns)]\n",
    "features_test_ohe = features_test_ohe[list(common_columns)]\n",
    "```"
   ]
  },
  {
   "cell_type": "code",
   "execution_count": 26,
   "metadata": {},
   "outputs": [],
   "source": [
    "feature_train_d, feature_test_d, target_train_d, target_test_d = train_test_split(feature, target, test_size=0.2, random_state=68756)\n",
    "feature_train_d, feature_valid_d, target_train_d, target_valid_d = \\\n",
    "                                            train_test_split(feature_train_d, target_train_d, test_size=0.25, random_state=68756)"
   ]
  },
  {
   "cell_type": "code",
   "execution_count": 27,
   "metadata": {},
   "outputs": [],
   "source": [
    "features_train_ohe = pd.get_dummies(feature_train_d, drop_first=True)\n",
    "features_valid_ohe = pd.get_dummies(feature_valid_d, drop_first=True)\n",
    "features_test_ohe = pd.get_dummies(feature_test_d, drop_first=True)\n",
    "common_columns = set(features_train_ohe.columns) & set(features_valid_ohe.columns) & set(features_test_ohe.columns)\n",
    "features_train_ohe = features_train_ohe[list(common_columns)]\n",
    "features_valid_ohe = features_valid_ohe[list(common_columns)]\n",
    "features_test_ohe = features_test_ohe[list(common_columns)]"
   ]
  },
  {
   "cell_type": "code",
   "execution_count": 28,
   "metadata": {},
   "outputs": [],
   "source": [
    "lr = LinearRegression(n_jobs=-1).fit(features_train_ohe, target_train)"
   ]
  },
  {
   "cell_type": "code",
   "execution_count": 29,
   "metadata": {},
   "outputs": [
    {
     "name": "stdout",
     "output_type": "stream",
     "text": [
      "RMSE = 2673\n"
     ]
    }
   ],
   "source": [
    "print('RMSE =', int((mean_squared_error(target_valid, lr.predict(features_valid_ohe)))**0.5))"
   ]
  },
  {
   "cell_type": "markdown",
   "metadata": {},
   "source": [
    "#### Подберем гиперпараметры для Линейной регрессии"
   ]
  },
  {
   "cell_type": "code",
   "execution_count": 30,
   "metadata": {},
   "outputs": [
    {
     "name": "stdout",
     "output_type": "stream",
     "text": [
      "Лучшая модель: LinearRegression(n_jobs=0)\n",
      "Лучшая RMSE: 2986\n",
      "Wall time: 2.78 s\n"
     ]
    }
   ],
   "source": [
    "%%time\n",
    "\n",
    "rmse = 100000\n",
    "best_model_lr = 0\n",
    "\n",
    "for i in range(0, 1000, 10):\n",
    "    model_lr = LinearRegression(n_jobs=i)\n",
    "    model_lr.fit(feature_train, target_train)\n",
    "    predict_lr = model_lr.predict(feature_valid)\n",
    "    rmse_loc = int((mean_squared_error(target_valid, predict_lr))**0.5)\n",
    "    if rmse_loc < rmse:\n",
    "        rmse = rmse_loc\n",
    "        best_model_lr = model_lr\n",
    "print('Лучшая модель:', best_model_lr)\n",
    "print('Лучшая RMSE:', rmse)"
   ]
  },
  {
   "cell_type": "markdown",
   "metadata": {},
   "source": [
    "Результат линейной регресси с подбираемыми параметрами не улучшился.  \n",
    "Среднее время обучения и предсказания - 20 мс  \n",
    "RMSE - 3036"
   ]
  },
  {
   "cell_type": "markdown",
   "metadata": {},
   "source": [
    "Проверим результат лучшей модели линейной регрессии"
   ]
  },
  {
   "cell_type": "code",
   "execution_count": 31,
   "metadata": {},
   "outputs": [
    {
     "name": "stdout",
     "output_type": "stream",
     "text": [
      "Wall time: 28.9 ms\n"
     ]
    }
   ],
   "source": [
    "%%time\n",
    "\n",
    "best_model_lr.fit(feature_train, target_train)\n",
    "pass"
   ]
  },
  {
   "cell_type": "code",
   "execution_count": 32,
   "metadata": {},
   "outputs": [
    {
     "name": "stdout",
     "output_type": "stream",
     "text": [
      "Wall time: 2 ms\n"
     ]
    }
   ],
   "source": [
    "%%time\n",
    "\n",
    "best_model_lr = model_lr.predict(feature_valid)"
   ]
  },
  {
   "cell_type": "code",
   "execution_count": 33,
   "metadata": {},
   "outputs": [
    {
     "name": "stdout",
     "output_type": "stream",
     "text": [
      "RMSE = 2986\n"
     ]
    }
   ],
   "source": [
    "print('RMSE =', int((mean_squared_error(target_valid, predict_lr))**0.5))"
   ]
  },
  {
   "cell_type": "markdown",
   "metadata": {},
   "source": [
    "Лучшая модель линейной регресси показала следующие результаты:  \n",
    "Время обучения - 28.5 мс  \n",
    "Время предсказания - 5.85 мс  \n",
    "RMSE - 3036"
   ]
  },
  {
   "cell_type": "markdown",
   "metadata": {},
   "source": [
    "### Случайный лес"
   ]
  },
  {
   "cell_type": "code",
   "execution_count": 34,
   "metadata": {},
   "outputs": [],
   "source": [
    "model_rf = RandomForestRegressor(random_state=68756)"
   ]
  },
  {
   "cell_type": "code",
   "execution_count": 35,
   "metadata": {},
   "outputs": [
    {
     "name": "stdout",
     "output_type": "stream",
     "text": [
      "Wall time: 44.8 s\n"
     ]
    }
   ],
   "source": [
    "%%time\n",
    "\n",
    "model_rf.fit(feature_train, target_train)\n",
    "pass"
   ]
  },
  {
   "cell_type": "code",
   "execution_count": 36,
   "metadata": {},
   "outputs": [
    {
     "name": "stdout",
     "output_type": "stream",
     "text": [
      "Wall time: 2.18 s\n"
     ]
    }
   ],
   "source": [
    "%%time\n",
    "\n",
    "predict_rf = model_rf.predict(feature_valid)"
   ]
  },
  {
   "cell_type": "code",
   "execution_count": 37,
   "metadata": {},
   "outputs": [
    {
     "name": "stdout",
     "output_type": "stream",
     "text": [
      "RMSE = 1641\n"
     ]
    }
   ],
   "source": [
    "print('RMSE =', int((mean_squared_error(target_valid, predict_rf))**0.5))"
   ]
  },
  {
   "cell_type": "markdown",
   "metadata": {},
   "source": [
    "Случайный лес с параметрами по умолчанию показал следующие результаты:  \n",
    "Время обучения - 1 минута  \n",
    "Время предсказания - 3 с  \n",
    "RMSE - 1693"
   ]
  },
  {
   "cell_type": "markdown",
   "metadata": {},
   "source": [
    "#### Подберем гиперпараметры для Случайного леса"
   ]
  },
  {
   "cell_type": "markdown",
   "metadata": {},
   "source": [
    "Так как модель при большом значении параметров считается медленно, параметры подберем по отдельности."
   ]
  },
  {
   "cell_type": "code",
   "execution_count": 38,
   "metadata": {},
   "outputs": [],
   "source": [
    "def giper(model):\n",
    "    model.fit(feature_train, target_train)\n",
    "    predict = model.predict(feature_valid)\n",
    "    return int((mean_squared_error(target_valid, predict))**0.5)\n",
    "\n",
    "def print_best(best_model, rmse):\n",
    "    print('Лучшая модель:', best_model)\n",
    "    print('Лучшая RMSE:', rmse)"
   ]
  },
  {
   "cell_type": "code",
   "execution_count": 39,
   "metadata": {},
   "outputs": [
    {
     "name": "stderr",
     "output_type": "stream",
     "text": [
      "100%|████████████████████████████████████████████████████████████████████████████████████| 7/7 [00:37<00:00,  5.33s/it]"
     ]
    },
    {
     "name": "stdout",
     "output_type": "stream",
     "text": [
      "Лучшая модель: RandomForestRegressor(max_features=3, n_estimators=20, random_state=68756)\n",
      "Лучшая RMSE: 1638\n"
     ]
    },
    {
     "name": "stderr",
     "output_type": "stream",
     "text": [
      "\n"
     ]
    }
   ],
   "source": [
    "rmse = 100000\n",
    "best_model_rf = 0\n",
    "\n",
    "for feat in tqdm(range(1, 8)):\n",
    "    model = RandomForestRegressor(n_estimators=20, max_features=feat, random_state=68756)\n",
    "    rmse_loc = giper(model)\n",
    "#    print(rmse_loc)\n",
    "    if rmse_loc < rmse:\n",
    "        rmse = rmse_loc\n",
    "        best_model_rf = model\n",
    "\n",
    "print_best(best_model_rf, rmse)"
   ]
  },
  {
   "cell_type": "markdown",
   "metadata": {},
   "source": [
    "Лучшее значение RMSE = 1691, при max_features = 4"
   ]
  },
  {
   "cell_type": "code",
   "execution_count": 40,
   "metadata": {},
   "outputs": [
    {
     "name": "stderr",
     "output_type": "stream",
     "text": [
      "100%|██████████████████████████████████████████████████████████████████████████████████| 28/28 [01:33<00:00,  3.35s/it]"
     ]
    },
    {
     "name": "stdout",
     "output_type": "stream",
     "text": [
      "Лучшая модель: RandomForestRegressor(max_depth=19, max_features=4, n_estimators=20,\n",
      "                      random_state=68756)\n",
      "Лучшая RMSE: 1618\n"
     ]
    },
    {
     "name": "stderr",
     "output_type": "stream",
     "text": [
      "\n"
     ]
    }
   ],
   "source": [
    "rmse = 100000\n",
    "best_model_rf = 0\n",
    "\n",
    "for depth in tqdm(range(2, 30)):\n",
    "    model = RandomForestRegressor(n_estimators=20, max_depth=depth, max_features=4, random_state=68756)\n",
    "    rmse_loc = giper(model)\n",
    "#    print(rmse_loc)\n",
    "    if rmse_loc < rmse:\n",
    "        rmse = rmse_loc\n",
    "        best_model_rf = model\n",
    "\n",
    "print_best(best_model_rf, rmse)"
   ]
  },
  {
   "cell_type": "markdown",
   "metadata": {},
   "source": [
    "Лучшее значение RMSE = 1671, при max_depth = 21 и max_features = 4"
   ]
  },
  {
   "cell_type": "code",
   "execution_count": 41,
   "metadata": {},
   "outputs": [
    {
     "name": "stderr",
     "output_type": "stream",
     "text": [
      "100%|████████████████████████████████████████████████████████████████████████████████████| 3/3 [02:20<00:00, 46.95s/it]"
     ]
    },
    {
     "name": "stdout",
     "output_type": "stream",
     "text": [
      "Лучшая модель: RandomForestRegressor(max_depth=21, max_features=4, n_estimators=300,\n",
      "                      random_state=68756)\n",
      "Лучшая RMSE: 1592\n"
     ]
    },
    {
     "name": "stderr",
     "output_type": "stream",
     "text": [
      "\n"
     ]
    }
   ],
   "source": [
    "rmse = 100000\n",
    "best_model_rf = 0\n",
    "\n",
    "for n in tqdm(range(100, 301, 100)):\n",
    "    model = RandomForestRegressor(n_estimators=n, max_depth=21, max_features=4, random_state=68756)\n",
    "    rmse_loc = giper(model)\n",
    "#    print(rmse_loc)\n",
    "    if rmse_loc < rmse:\n",
    "        rmse = rmse_loc\n",
    "        best_model_rf = model\n",
    "\n",
    "print_best(best_model_rf, rmse)"
   ]
  },
  {
   "cell_type": "markdown",
   "metadata": {},
   "source": [
    "Лучшее значение RMSE = 1643, при n_estimators=200, max_depth = 21 и max_features = 4              "
   ]
  },
  {
   "cell_type": "markdown",
   "metadata": {},
   "source": [
    "Проверим время работы модели Случайный лес с подобранными гиперпараметрами."
   ]
  },
  {
   "cell_type": "code",
   "execution_count": 42,
   "metadata": {},
   "outputs": [
    {
     "name": "stdout",
     "output_type": "stream",
     "text": [
      "Wall time: 1min 3s\n"
     ]
    }
   ],
   "source": [
    "%%time\n",
    "\n",
    "best_model_rf.fit(feature_train, target_train)\n",
    "pass"
   ]
  },
  {
   "cell_type": "code",
   "execution_count": 43,
   "metadata": {},
   "outputs": [
    {
     "name": "stdout",
     "output_type": "stream",
     "text": [
      "Wall time: 5.04 s\n"
     ]
    }
   ],
   "source": [
    "%%time\n",
    "\n",
    "predict_rf = best_model_rf.predict(feature_valid)"
   ]
  },
  {
   "cell_type": "code",
   "execution_count": 44,
   "metadata": {},
   "outputs": [
    {
     "name": "stdout",
     "output_type": "stream",
     "text": [
      "RMSE = 1592\n"
     ]
    }
   ],
   "source": [
    "print('RMSE =', int((mean_squared_error(target_valid, predict_rf))**0.5))"
   ]
  },
  {
   "cell_type": "markdown",
   "metadata": {},
   "source": [
    "Случайный лес с подобранными гиперпараметрами показал следующие результаты:  \n",
    "Время обучения - 48 c  \n",
    "Время предсказания - 4.15 с  \n",
    "RMSE - 1643"
   ]
  },
  {
   "cell_type": "markdown",
   "metadata": {},
   "source": [
    "### LightGBM"
   ]
  },
  {
   "cell_type": "code",
   "execution_count": 45,
   "metadata": {},
   "outputs": [],
   "source": [
    "model_lgbm = LGBMRegressor(random_state=68756)"
   ]
  },
  {
   "cell_type": "code",
   "execution_count": 46,
   "metadata": {},
   "outputs": [
    {
     "name": "stdout",
     "output_type": "stream",
     "text": [
      "Wall time: 458 ms\n"
     ]
    }
   ],
   "source": [
    "%%time\n",
    "\n",
    "model_lgbm.fit(feature_train, target_train)\n",
    "pass"
   ]
  },
  {
   "cell_type": "code",
   "execution_count": 47,
   "metadata": {},
   "outputs": [
    {
     "name": "stdout",
     "output_type": "stream",
     "text": [
      "Wall time: 121 ms\n"
     ]
    }
   ],
   "source": [
    "%%time\n",
    "\n",
    "predict_lgbm = model_lgbm.predict(feature_valid)"
   ]
  },
  {
   "cell_type": "code",
   "execution_count": 48,
   "metadata": {},
   "outputs": [
    {
     "name": "stdout",
     "output_type": "stream",
     "text": [
      "RMSE = 1712\n"
     ]
    }
   ],
   "source": [
    "print('RMSE =', int((mean_squared_error(target_valid, predict_lgbm))**0.5))"
   ]
  },
  {
   "cell_type": "markdown",
   "metadata": {},
   "source": [
    "LightGBM с параметрами по умолчанию показал следующие результаты:  \n",
    "Время обучения - 1.5 минуты  \n",
    "Время предсказания - 0.5 с  \n",
    "RMSE - 1790"
   ]
  },
  {
   "cell_type": "markdown",
   "metadata": {},
   "source": [
    "#### Подберем гиперпараметры для LightGBM"
   ]
  },
  {
   "cell_type": "code",
   "execution_count": 49,
   "metadata": {},
   "outputs": [
    {
     "name": "stderr",
     "output_type": "stream",
     "text": [
      " 33%|████████████████████████████                                                        | 1/3 [00:00<00:01,  1.78it/s]"
     ]
    },
    {
     "name": "stdout",
     "output_type": "stream",
     "text": [
      "1711\n",
      "10 - 1711\n"
     ]
    },
    {
     "name": "stderr",
     "output_type": "stream",
     "text": [
      "\r",
      " 67%|████████████████████████████████████████████████████████                            | 2/3 [00:01<00:00,  1.71it/s]"
     ]
    },
    {
     "name": "stdout",
     "output_type": "stream",
     "text": [
      "1707\n",
      "11 - 1707\n"
     ]
    },
    {
     "name": "stderr",
     "output_type": "stream",
     "text": [
      "100%|████████████████████████████████████████████████████████████████████████████████████| 3/3 [00:01<00:00,  1.65it/s]"
     ]
    },
    {
     "name": "stdout",
     "output_type": "stream",
     "text": [
      "1708\n",
      "Лучшая модель: LGBMRegressor(max_depth=11, random_state=68756)\n",
      "Лучшая RMSE: 1707\n"
     ]
    },
    {
     "name": "stderr",
     "output_type": "stream",
     "text": [
      "\n"
     ]
    }
   ],
   "source": [
    "rmse = 100000\n",
    "best_model_lgbm = 0\n",
    "\n",
    "for n in tqdm(range(10, 13)):\n",
    "    model = LGBMRegressor(max_depth=n, random_state=68756)\n",
    "    rmse_loc = giper(model)\n",
    "    print(rmse_loc)\n",
    "    if rmse_loc < rmse:\n",
    "        rmse = rmse_loc\n",
    "        best_model_lgbm = model\n",
    "        print(n, '-', rmse)\n",
    "\n",
    "print_best(best_model_lgbm, rmse)"
   ]
  },
  {
   "cell_type": "markdown",
   "metadata": {},
   "source": [
    "Лучшее значение RMSE = 1786, при max_depth=11"
   ]
  },
  {
   "cell_type": "code",
   "execution_count": 50,
   "metadata": {},
   "outputs": [
    {
     "name": "stderr",
     "output_type": "stream",
     "text": [
      " 25%|█████████████████████                                                               | 1/4 [00:00<00:01,  1.61it/s]"
     ]
    },
    {
     "name": "stdout",
     "output_type": "stream",
     "text": [
      "1707\n",
      "100 - 1707\n"
     ]
    },
    {
     "name": "stderr",
     "output_type": "stream",
     "text": [
      "\r",
      " 50%|██████████████████████████████████████████                                          | 2/4 [00:04<00:04,  2.41s/it]"
     ]
    },
    {
     "name": "stdout",
     "output_type": "stream",
     "text": [
      "1567\n",
      "1100 - 1567\n"
     ]
    },
    {
     "name": "stderr",
     "output_type": "stream",
     "text": [
      "\r",
      " 75%|███████████████████████████████████████████████████████████████                     | 3/4 [00:11<00:04,  4.51s/it]"
     ]
    },
    {
     "name": "stdout",
     "output_type": "stream",
     "text": [
      "1553\n",
      "2100 - 1553\n"
     ]
    },
    {
     "name": "stderr",
     "output_type": "stream",
     "text": [
      "100%|████████████████████████████████████████████████████████████████████████████████████| 4/4 [00:22<00:00,  5.51s/it]"
     ]
    },
    {
     "name": "stdout",
     "output_type": "stream",
     "text": [
      "1551\n",
      "3100 - 1551\n",
      "Лучшая модель: LGBMRegressor(max_depth=11, n_estimators=3100, random_state=68756)\n",
      "Лучшая RMSE: 1551\n"
     ]
    },
    {
     "name": "stderr",
     "output_type": "stream",
     "text": [
      "\n"
     ]
    }
   ],
   "source": [
    "rmse = 100000\n",
    "best_model_lgbm = 0\n",
    "\n",
    "for n in tqdm(range(100, 3101, 1000)):\n",
    "    model = LGBMRegressor(n_estimators=n, max_depth=11, random_state=68756)\n",
    "    rmse_loc = giper(model)\n",
    "    print(rmse_loc)\n",
    "    if rmse_loc < rmse:\n",
    "        rmse = rmse_loc\n",
    "        best_model_lgbm = model\n",
    "        print(n, '-', rmse)\n",
    "\n",
    "print_best(best_model_lgbm, rmse)"
   ]
  },
  {
   "cell_type": "markdown",
   "metadata": {},
   "source": [
    "Лучшее значение RMSE = 1600, при n_estimators = 3100 и max_depth=11"
   ]
  },
  {
   "cell_type": "markdown",
   "metadata": {},
   "source": [
    "Проверим время работы модели LightGBM с подобранными гиперпараметрами."
   ]
  },
  {
   "cell_type": "code",
   "execution_count": 51,
   "metadata": {},
   "outputs": [],
   "source": [
    "final_model_lgbm = LGBMRegressor(n_estimators=3100, max_depth=11, random_state=68756)"
   ]
  },
  {
   "cell_type": "code",
   "execution_count": 52,
   "metadata": {},
   "outputs": [
    {
     "name": "stdout",
     "output_type": "stream",
     "text": [
      "Wall time: 7.75 s\n"
     ]
    }
   ],
   "source": [
    "%%time\n",
    "\n",
    "final_model_lgbm.fit(feature_train, target_train)\n",
    "pass"
   ]
  },
  {
   "cell_type": "code",
   "execution_count": 53,
   "metadata": {},
   "outputs": [
    {
     "name": "stdout",
     "output_type": "stream",
     "text": [
      "Wall time: 3.08 s\n"
     ]
    }
   ],
   "source": [
    "%%time\n",
    "\n",
    "predict_lgbm = final_model_lgbm.predict(feature_valid)"
   ]
  },
  {
   "cell_type": "code",
   "execution_count": 54,
   "metadata": {},
   "outputs": [
    {
     "name": "stdout",
     "output_type": "stream",
     "text": [
      "RMSE = 1551\n"
     ]
    }
   ],
   "source": [
    "print('RMSE =', int((mean_squared_error(target_valid, predict_lgbm))**0.5))"
   ]
  },
  {
   "cell_type": "markdown",
   "metadata": {},
   "source": [
    "LightGBM с подобранными гиперпараметрами показал следующие результаты:  \n",
    "Время обучения - 7 c  \n",
    "Время предсказания - 3 с  \n",
    "RMSE - 1600   "
   ]
  },
  {
   "cell_type": "markdown",
   "metadata": {},
   "source": [
    "### CatBoost"
   ]
  },
  {
   "cell_type": "code",
   "execution_count": 55,
   "metadata": {},
   "outputs": [],
   "source": [
    "model_cat = CatBoostRegressor(random_state=68756)"
   ]
  },
  {
   "cell_type": "code",
   "execution_count": 56,
   "metadata": {},
   "outputs": [
    {
     "data": {
      "application/vnd.jupyter.widget-view+json": {
       "model_id": "7e217d9c15234bc0a6e6a3f4a9644207",
       "version_major": 2,
       "version_minor": 0
      },
      "text/plain": [
       "MetricVisualizer(layout=Layout(align_self='stretch', height='500px'))"
      ]
     },
     "metadata": {},
     "output_type": "display_data"
    },
    {
     "name": "stdout",
     "output_type": "stream",
     "text": [
      "Wall time: 13.7 s\n"
     ]
    }
   ],
   "source": [
    "%%time\n",
    "\n",
    "model_cat.fit(feature_train, target_train, verbose=False, plot=True)\n",
    "pass"
   ]
  },
  {
   "cell_type": "code",
   "execution_count": 57,
   "metadata": {},
   "outputs": [
    {
     "name": "stdout",
     "output_type": "stream",
     "text": [
      "Wall time: 31.9 ms\n"
     ]
    }
   ],
   "source": [
    "%%time\n",
    "\n",
    "predict_cat = model_cat.predict(feature_valid)"
   ]
  },
  {
   "cell_type": "code",
   "execution_count": 58,
   "metadata": {},
   "outputs": [
    {
     "name": "stdout",
     "output_type": "stream",
     "text": [
      "RMSE = 1619\n"
     ]
    }
   ],
   "source": [
    "print('RMSE =', int((mean_squared_error(target_valid, predict_cat))**0.5))"
   ]
  },
  {
   "cell_type": "markdown",
   "metadata": {},
   "source": [
    "CatBoost с параметрами по умолчанию показал следующие результаты:   \n",
    "Время обучения - 27 c  \n",
    "Время предсказания - 62 мс  \n",
    "RMSE - 1695  "
   ]
  },
  {
   "cell_type": "markdown",
   "metadata": {},
   "source": [
    "#### Подберем гиперпараметры для CatBoost"
   ]
  },
  {
   "cell_type": "raw",
   "metadata": {},
   "source": [
    "Так как перебор гиперпараметров занимает много времени в учебных целях возьмем только несколько значений. "
   ]
  },
  {
   "cell_type": "code",
   "execution_count": 59,
   "metadata": {},
   "outputs": [
    {
     "name": "stderr",
     "output_type": "stream",
     "text": [
      " 33%|████████████████████████████                                                        | 1/3 [01:00<02:01, 60.79s/it]"
     ]
    },
    {
     "name": "stdout",
     "output_type": "stream",
     "text": [
      "12 - 1558\n"
     ]
    },
    {
     "name": "stderr",
     "output_type": "stream",
     "text": [
      "100%|███████████████████████████████████████████████████████████████████████████████████| 3/3 [05:41<00:00, 113.94s/it]"
     ]
    },
    {
     "name": "stdout",
     "output_type": "stream",
     "text": [
      "Лучшая модель: <catboost.core.CatBoostRegressor object at 0x000001890001F700>\n",
      "Лучшая RMSE: 1558\n"
     ]
    },
    {
     "name": "stderr",
     "output_type": "stream",
     "text": [
      "\n"
     ]
    }
   ],
   "source": [
    "rmse = 100000\n",
    "best_model_cat = 0\n",
    "\n",
    "for n in tqdm(range(12, 15)):\n",
    "    model = CatBoostRegressor(max_depth=n, verbose=False, random_state=68756)\n",
    "    rmse_loc = giper(model)\n",
    "#    print(rmse_loc)\n",
    "    if rmse_loc < rmse:\n",
    "        rmse = rmse_loc\n",
    "        best_model_cat = model\n",
    "        print(n, '-', rmse)\n",
    "\n",
    "print_best(best_model_cat, rmse)"
   ]
  },
  {
   "cell_type": "markdown",
   "metadata": {},
   "source": [
    "Лучшее значение RMSE = 1615, при max_depth = 13"
   ]
  },
  {
   "cell_type": "code",
   "execution_count": 60,
   "metadata": {},
   "outputs": [
    {
     "name": "stderr",
     "output_type": "stream",
     "text": [
      " 33%|███████████████████████████▋                                                       | 1/3 [01:48<03:36, 108.30s/it]"
     ]
    },
    {
     "name": "stdout",
     "output_type": "stream",
     "text": [
      "1100 - 1558\n"
     ]
    },
    {
     "name": "stderr",
     "output_type": "stream",
     "text": [
      "\r",
      " 67%|███████████████████████████████████████████████████████▎                           | 2/3 [05:11<02:44, 164.35s/it]"
     ]
    },
    {
     "name": "stdout",
     "output_type": "stream",
     "text": [
      "2100 - 1553\n"
     ]
    },
    {
     "name": "stderr",
     "output_type": "stream",
     "text": [
      "100%|███████████████████████████████████████████████████████████████████████████████████| 3/3 [10:05<00:00, 201.73s/it]"
     ]
    },
    {
     "name": "stdout",
     "output_type": "stream",
     "text": [
      "Лучшая модель: <catboost.core.CatBoostRegressor object at 0x000001890001FA90>\n",
      "Лучшая RMSE: 1553\n"
     ]
    },
    {
     "name": "stderr",
     "output_type": "stream",
     "text": [
      "\n"
     ]
    }
   ],
   "source": [
    "rmse = 100000\n",
    "best_model_cat = 0\n",
    "\n",
    "for n in tqdm(range(1100, 3101, 1000)):\n",
    "    model = CatBoostRegressor(n_estimators=n, max_depth=13, verbose=False, random_state=68756)\n",
    "    rmse_loc = giper(model)\n",
    "#    print(rmse_loc)\n",
    "    if rmse_loc < rmse:\n",
    "        rmse = rmse_loc\n",
    "        best_model_cat = model\n",
    "        print(n, '-', rmse)\n",
    "\n",
    "print_best(best_model_cat, rmse)"
   ]
  },
  {
   "cell_type": "markdown",
   "metadata": {},
   "source": [
    "Лучшее значение RMSE = 1605, при n_estimators = 3100"
   ]
  },
  {
   "cell_type": "markdown",
   "metadata": {},
   "source": [
    "Проверим время работы модели CatBoost с подобранными гиперпараметрами."
   ]
  },
  {
   "cell_type": "code",
   "execution_count": 61,
   "metadata": {},
   "outputs": [],
   "source": [
    "best_model_cat = CatBoostRegressor(n_estimators=3100, max_depth=13, verbose=False, random_state=68756)"
   ]
  },
  {
   "cell_type": "code",
   "execution_count": 62,
   "metadata": {},
   "outputs": [
    {
     "name": "stdout",
     "output_type": "stream",
     "text": [
      "Wall time: 4min 56s\n"
     ]
    }
   ],
   "source": [
    "%%time\n",
    "\n",
    "best_model_cat.fit(feature_train, target_train)\n",
    "pass"
   ]
  },
  {
   "cell_type": "code",
   "execution_count": 63,
   "metadata": {},
   "outputs": [
    {
     "name": "stdout",
     "output_type": "stream",
     "text": [
      "Wall time: 825 ms\n"
     ]
    }
   ],
   "source": [
    "%%time\n",
    "\n",
    "predict_cat = best_model_cat.predict(feature_valid)"
   ]
  },
  {
   "cell_type": "code",
   "execution_count": 64,
   "metadata": {},
   "outputs": [
    {
     "name": "stdout",
     "output_type": "stream",
     "text": [
      "RMSE = 1553\n"
     ]
    }
   ],
   "source": [
    "print('RMSE =', int((mean_squared_error(target_valid, predict_cat))**0.5))"
   ]
  },
  {
   "cell_type": "markdown",
   "metadata": {},
   "source": [
    "CatBoost с подобранными гиперпараметрами показал следующие результаты:  \n",
    "Время обучения - 6 минут  \n",
    "Время предсказания - 2 с  \n",
    "RMSE - 1603  "
   ]
  },
  {
   "cell_type": "markdown",
   "metadata": {},
   "source": [
    "**Вывод:**  \n",
    "Обучили 4 модели.  \n",
    "Самая быстрая - линейная регрессия.  \n",
    "Самая точная - LightGBM."
   ]
  },
  {
   "cell_type": "markdown",
   "metadata": {},
   "source": [
    "## Анализ моделей"
   ]
  },
  {
   "cell_type": "markdown",
   "metadata": {},
   "source": [
    "В результате тестирования моделей и подбора гиперпараметров наблюдаем следующие результаты:"
   ]
  },
  {
   "cell_type": "markdown",
   "metadata": {},
   "source": [
    "Лучшая модель линейной регресси - LinearRegression(n_jobs=0)  \n",
    "Время обучения - 28.5 мс  \n",
    "Время предсказания - 5.85 мс  \n",
    "RMSE - 3036"
   ]
  },
  {
   "cell_type": "markdown",
   "metadata": {},
   "source": [
    "Лучшая модель случайный лес - RandomForestRegressor(max_depth=21, max_features=4, n_estimators=200, random_state=68756)  \n",
    "Время обучения - 48 c  \n",
    "Время предсказания - 4.15 с  \n",
    "RMSE - 1643  "
   ]
  },
  {
   "cell_type": "markdown",
   "metadata": {},
   "source": [
    "Лучшая модель LightGBM - LGBMRegressor(max_depth=11, n_estimators=3100, random_state=68756)  \n",
    "Время обучения - 7 c  \n",
    "Время предсказания - 3 с  \n",
    "RMSE - 1600"
   ]
  },
  {
   "cell_type": "markdown",
   "metadata": {},
   "source": [
    "Лучшая модель CatBoost - CatBoostRegressor(max_depth=13, n_estimators=3000, random_state=68756)  \n",
    "Время обучения - 6 минут  \n",
    "Время предсказания - 2 с  \n",
    "RMSE - 1605  "
   ]
  },
  {
   "cell_type": "markdown",
   "metadata": {},
   "source": [
    "|Модель|Время обучения|Время предсказания|RMSE|  \n",
    "|:-|:-:|:-:|:-:|  \n",
    "|Линейная регрессия|29 мс|6 мс|3036|     \n",
    "|Случайный лес|48 с|4 с|1643|    \n",
    "|LightGBM|7 с|3 с|1600|     \n",
    "|CatBoost|6 мин|2 с|1605|    \n",
    "\n",
    "\n",
    "\n"
   ]
  },
  {
   "cell_type": "markdown",
   "metadata": {},
   "source": [
    "Лучший результат показывает модель LightGBM. CatBoost показывает почти такой же результат, но обучается медленнее, предсказывает быстрее. Возможно я подбирал не те гиперпараметры.  \n",
    "\n",
    "От модели CatBoost, можно сказать следующее, если не улучшать значения гиперпараметров с целью получить несколько дополнительных единиц RMSE (бесполезных в практическом применении), то можно значительно сократить время обучения модели.  \n",
    "Например:  \n",
    "при  n_estimators = 1000 (значение по умолчанию), время обучения 2 минуты, RMSE - 1615  \n",
    "при  n_estimators = 400, время обучения 46 с, RMSE - 1628  \n",
    "Но при этом результат оказывается, ниже, чем у LightGBM.\n",
    "\n",
    "Самый быстрый результат дает модель линейная регрессия, но качество предсказаний не соответствует условию задания."
   ]
  },
  {
   "cell_type": "markdown",
   "metadata": {},
   "source": [
    "## Тестирование лучшей модели"
   ]
  },
  {
   "cell_type": "markdown",
   "metadata": {},
   "source": [
    "Для финальной проверки на тестовой выборке возьмем модель LightGBM.  \n",
    "LGBMRegressor(max_depth=11, n_estimators=3100)"
   ]
  },
  {
   "cell_type": "code",
   "execution_count": 65,
   "metadata": {},
   "outputs": [
    {
     "name": "stdout",
     "output_type": "stream",
     "text": [
      "Wall time: 6.53 s\n"
     ]
    }
   ],
   "source": [
    "%%time\n",
    "\n",
    "final_model_lgbm.fit(feature_train, target_train)\n",
    "pass"
   ]
  },
  {
   "cell_type": "code",
   "execution_count": 66,
   "metadata": {},
   "outputs": [
    {
     "name": "stdout",
     "output_type": "stream",
     "text": [
      "Wall time: 2.96 s\n"
     ]
    }
   ],
   "source": [
    "%%time\n",
    "\n",
    "predict_lgbm_test = final_model_lgbm.predict(feature_test)"
   ]
  },
  {
   "cell_type": "code",
   "execution_count": 67,
   "metadata": {},
   "outputs": [
    {
     "name": "stdout",
     "output_type": "stream",
     "text": [
      "RMSE = 1562\n"
     ]
    }
   ],
   "source": [
    "print('RMSE =', int((mean_squared_error(target_test, predict_lgbm_test))**0.5))"
   ]
  },
  {
   "cell_type": "markdown",
   "metadata": {},
   "source": [
    "**Вывод:**  \n",
    "Лучшая модель LightGBM - LGBMRegressor(max_depth=11, n_estimators=3100)  \n",
    "Лучший результат RMSE - 1573"
   ]
  },
  {
   "cell_type": "markdown",
   "metadata": {},
   "source": [
    "**Вывод:**  \n",
    "В результате проекта подготовили данные, обучили 4 модели и выбрали лучшую под требования заказчика."
   ]
  },
  {
   "cell_type": "markdown",
   "metadata": {},
   "source": [
    "**Вывод:**  \n",
    "В процессе работы были выполнены следующие этапы:\n",
    "- Обработка данных\n",
    "    - Получение данных\n",
    "    - Удаление некорректных данных\n",
    "    - Заполнение пропусков\n",
    "    - Замена, где возможно, некорректых данных на значения адекватные по смыслу\n",
    "    - Удалили столбцы не влияющие на предсказания\n",
    "    - Кодирование категорийных признаков\n",
    "    - Масштабирование всех признаков\n",
    "- Обучение моделей\n",
    "    - Обучили 4 модели\n",
    "- Анализ моделей\n",
    "    - Выбрали лучшую модель и протестировали ее"
   ]
  }
 ],
 "metadata": {
  "ExecuteTimeLog": [
   {
    "duration": 474,
    "start_time": "2023-05-17T20:53:36.462Z"
   },
   {
    "duration": 74,
    "start_time": "2023-05-17T20:53:38.945Z"
   },
   {
    "duration": 3746,
    "start_time": "2023-05-17T20:53:50.525Z"
   },
   {
    "duration": 193,
    "start_time": "2023-05-17T20:53:56.041Z"
   },
   {
    "duration": 116,
    "start_time": "2023-05-17T20:54:06.708Z"
   },
   {
    "duration": 23,
    "start_time": "2023-05-17T20:54:10.336Z"
   },
   {
    "duration": 42,
    "start_time": "2023-05-17T20:58:35.959Z"
   },
   {
    "duration": 67,
    "start_time": "2023-05-17T21:00:57.743Z"
   },
   {
    "duration": 29,
    "start_time": "2023-05-17T21:01:04.726Z"
   },
   {
    "duration": 32,
    "start_time": "2023-05-17T21:01:30.196Z"
   },
   {
    "duration": 24,
    "start_time": "2023-05-17T21:01:57.843Z"
   },
   {
    "duration": 99,
    "start_time": "2023-05-17T21:02:22.646Z"
   },
   {
    "duration": 11,
    "start_time": "2023-05-17T21:02:29.646Z"
   },
   {
    "duration": 12,
    "start_time": "2023-05-17T21:02:34.748Z"
   },
   {
    "duration": 18,
    "start_time": "2023-05-17T21:02:45.750Z"
   },
   {
    "duration": 11,
    "start_time": "2023-05-17T21:03:07.330Z"
   },
   {
    "duration": 10,
    "start_time": "2023-05-17T21:04:26.755Z"
   },
   {
    "duration": 6,
    "start_time": "2023-05-17T21:04:41.722Z"
   },
   {
    "duration": 10,
    "start_time": "2023-05-17T21:05:00.365Z"
   },
   {
    "duration": 9,
    "start_time": "2023-05-17T21:05:03.418Z"
   },
   {
    "duration": 15,
    "start_time": "2023-05-17T21:05:10.308Z"
   },
   {
    "duration": 37,
    "start_time": "2023-05-17T21:06:55.322Z"
   },
   {
    "duration": 11,
    "start_time": "2023-05-17T21:07:53.459Z"
   },
   {
    "duration": 171,
    "start_time": "2023-05-17T21:08:12.345Z"
   },
   {
    "duration": 50,
    "start_time": "2023-05-17T21:08:30.848Z"
   },
   {
    "duration": 33,
    "start_time": "2023-05-17T21:08:42.249Z"
   },
   {
    "duration": 388,
    "start_time": "2023-05-17T21:09:55.905Z"
   },
   {
    "duration": 326,
    "start_time": "2023-05-17T21:10:06.802Z"
   },
   {
    "duration": 288,
    "start_time": "2023-05-17T21:10:17.215Z"
   },
   {
    "duration": 340,
    "start_time": "2023-05-17T21:10:27.509Z"
   },
   {
    "duration": 409,
    "start_time": "2023-05-18T07:31:36.569Z"
   },
   {
    "duration": 1307,
    "start_time": "2023-05-18T07:31:38.869Z"
   },
   {
    "duration": 187,
    "start_time": "2023-05-18T07:31:41.393Z"
   },
   {
    "duration": 138,
    "start_time": "2023-05-18T07:31:44.468Z"
   },
   {
    "duration": 48,
    "start_time": "2023-05-18T08:32:58.063Z"
   },
   {
    "duration": 101,
    "start_time": "2023-05-18T08:33:26.679Z"
   },
   {
    "duration": 34,
    "start_time": "2023-05-18T08:33:34.056Z"
   },
   {
    "duration": 20,
    "start_time": "2023-05-18T08:33:44.725Z"
   },
   {
    "duration": 14,
    "start_time": "2023-05-18T08:34:07.574Z"
   },
   {
    "duration": 6127,
    "start_time": "2023-05-18T08:42:08.655Z"
   },
   {
    "duration": 67,
    "start_time": "2023-05-18T08:42:26.462Z"
   },
   {
    "duration": 8,
    "start_time": "2023-05-18T08:43:14.822Z"
   },
   {
    "duration": 2926,
    "start_time": "2023-05-18T08:43:37.574Z"
   },
   {
    "duration": 2297,
    "start_time": "2023-05-18T08:43:58.026Z"
   },
   {
    "duration": 45,
    "start_time": "2023-05-18T08:46:32.495Z"
   },
   {
    "duration": 46,
    "start_time": "2023-05-18T08:47:33.082Z"
   },
   {
    "duration": 40,
    "start_time": "2023-05-18T08:48:00.232Z"
   },
   {
    "duration": 40,
    "start_time": "2023-05-18T08:48:25.994Z"
   },
   {
    "duration": 24,
    "start_time": "2023-05-18T08:49:54.590Z"
   },
   {
    "duration": 161,
    "start_time": "2023-05-18T08:50:25.977Z"
   },
   {
    "duration": 47,
    "start_time": "2023-05-18T08:50:42.286Z"
   },
   {
    "duration": 23,
    "start_time": "2023-05-18T08:51:14.600Z"
   },
   {
    "duration": 26,
    "start_time": "2023-05-18T08:51:25.494Z"
   },
   {
    "duration": 15,
    "start_time": "2023-05-18T08:51:31.727Z"
   },
   {
    "duration": 12,
    "start_time": "2023-05-18T08:51:52.750Z"
   },
   {
    "duration": 15,
    "start_time": "2023-05-18T08:53:08.725Z"
   },
   {
    "duration": 4,
    "start_time": "2023-05-18T09:02:43.562Z"
   },
   {
    "duration": 1130,
    "start_time": "2023-05-18T09:02:45.794Z"
   },
   {
    "duration": 251,
    "start_time": "2023-05-18T09:02:48.178Z"
   },
   {
    "duration": 128,
    "start_time": "2023-05-18T09:02:56.017Z"
   },
   {
    "duration": 21,
    "start_time": "2023-05-18T09:03:12.794Z"
   },
   {
    "duration": 183,
    "start_time": "2023-05-18T09:03:58.981Z"
   },
   {
    "duration": 88,
    "start_time": "2023-05-18T09:04:05.325Z"
   },
   {
    "duration": 309,
    "start_time": "2023-05-18T09:04:23.441Z"
   },
   {
    "duration": 191,
    "start_time": "2023-05-18T09:04:59.090Z"
   },
   {
    "duration": 316,
    "start_time": "2023-05-18T09:07:39.375Z"
   },
   {
    "duration": 67,
    "start_time": "2023-05-18T09:08:15.686Z"
   },
   {
    "duration": 17,
    "start_time": "2023-05-18T09:08:44.255Z"
   },
   {
    "duration": 46,
    "start_time": "2023-05-18T09:08:56.044Z"
   },
   {
    "duration": 51,
    "start_time": "2023-05-18T09:10:59.974Z"
   },
   {
    "duration": 11,
    "start_time": "2023-05-18T09:11:39.434Z"
   },
   {
    "duration": 12,
    "start_time": "2023-05-18T09:11:54.081Z"
   },
   {
    "duration": 37,
    "start_time": "2023-05-18T09:14:24.877Z"
   },
   {
    "duration": 37,
    "start_time": "2023-05-18T09:14:35.473Z"
   },
   {
    "duration": 6,
    "start_time": "2023-05-18T09:24:00.124Z"
   },
   {
    "duration": 11,
    "start_time": "2023-05-18T09:24:45.685Z"
   },
   {
    "duration": 11,
    "start_time": "2023-05-18T09:25:03.169Z"
   },
   {
    "duration": 16,
    "start_time": "2023-05-18T09:26:52.592Z"
   },
   {
    "duration": 55,
    "start_time": "2023-05-18T09:27:16.089Z"
   },
   {
    "duration": 54,
    "start_time": "2023-05-18T09:27:32.221Z"
   },
   {
    "duration": 37,
    "start_time": "2023-05-18T09:28:59.091Z"
   },
   {
    "duration": 18,
    "start_time": "2023-05-18T09:29:22.610Z"
   },
   {
    "duration": 15,
    "start_time": "2023-05-18T09:29:32.253Z"
   },
   {
    "duration": 12,
    "start_time": "2023-05-18T09:30:03.215Z"
   },
   {
    "duration": 12,
    "start_time": "2023-05-18T09:30:22.026Z"
   },
   {
    "duration": 62,
    "start_time": "2023-05-18T09:33:03.294Z"
   },
   {
    "duration": 19,
    "start_time": "2023-05-18T09:33:38.400Z"
   },
   {
    "duration": 66,
    "start_time": "2023-05-18T09:33:42.080Z"
   },
   {
    "duration": 43,
    "start_time": "2023-05-18T09:47:33.348Z"
   },
   {
    "duration": 6,
    "start_time": "2023-05-18T09:47:36.415Z"
   },
   {
    "duration": 262,
    "start_time": "2023-05-18T09:47:56.674Z"
   },
   {
    "duration": 10,
    "start_time": "2023-05-18T09:48:06.053Z"
   },
   {
    "duration": 55,
    "start_time": "2023-05-18T09:48:09.619Z"
   },
   {
    "duration": 10,
    "start_time": "2023-05-18T09:48:12.085Z"
   },
   {
    "duration": 32,
    "start_time": "2023-05-18T09:48:42.815Z"
   },
   {
    "duration": 46,
    "start_time": "2023-05-18T09:49:24.597Z"
   },
   {
    "duration": 33,
    "start_time": "2023-05-18T09:50:40.353Z"
   },
   {
    "duration": 44,
    "start_time": "2023-05-18T09:51:04.395Z"
   },
   {
    "duration": 40,
    "start_time": "2023-05-18T09:51:44.193Z"
   },
   {
    "duration": 11,
    "start_time": "2023-05-18T09:53:29.981Z"
   },
   {
    "duration": 860,
    "start_time": "2023-05-18T09:57:40.670Z"
   },
   {
    "duration": 397,
    "start_time": "2023-05-18T09:58:10.370Z"
   },
   {
    "duration": 38,
    "start_time": "2023-05-18T09:59:25.790Z"
   },
   {
    "duration": 34,
    "start_time": "2023-05-18T09:59:42.965Z"
   },
   {
    "duration": 26,
    "start_time": "2023-05-18T09:59:54.686Z"
   },
   {
    "duration": 52,
    "start_time": "2023-05-18T10:02:37.100Z"
   },
   {
    "duration": 20,
    "start_time": "2023-05-18T10:04:02.529Z"
   },
   {
    "duration": 6,
    "start_time": "2023-05-18T10:07:05.098Z"
   },
   {
    "duration": 26,
    "start_time": "2023-05-18T10:08:04.596Z"
   },
   {
    "duration": 59,
    "start_time": "2023-05-18T10:08:16.575Z"
   },
   {
    "duration": 39,
    "start_time": "2023-05-18T10:08:32.814Z"
   },
   {
    "duration": 101,
    "start_time": "2023-05-18T10:09:26.568Z"
   },
   {
    "duration": 120,
    "start_time": "2023-05-18T10:09:50.192Z"
   },
   {
    "duration": 48,
    "start_time": "2023-05-18T10:10:36.718Z"
   },
   {
    "duration": 61,
    "start_time": "2023-05-18T10:10:56.421Z"
   },
   {
    "duration": 79,
    "start_time": "2023-05-18T10:11:17.131Z"
   },
   {
    "duration": 41,
    "start_time": "2023-05-18T10:11:43.227Z"
   },
   {
    "duration": 93,
    "start_time": "2023-05-18T10:14:53.003Z"
   },
   {
    "duration": 108,
    "start_time": "2023-05-18T10:16:17.910Z"
   },
   {
    "duration": 95,
    "start_time": "2023-05-18T10:20:10.857Z"
   },
   {
    "duration": 88,
    "start_time": "2023-05-18T10:20:17.964Z"
   },
   {
    "duration": 73,
    "start_time": "2023-05-18T10:20:28.822Z"
   },
   {
    "duration": 20,
    "start_time": "2023-05-18T10:20:51.064Z"
   },
   {
    "duration": 38,
    "start_time": "2023-05-18T10:23:14.594Z"
   },
   {
    "duration": 20,
    "start_time": "2023-05-18T10:23:29.960Z"
   },
   {
    "duration": 29,
    "start_time": "2023-05-18T10:25:31.364Z"
   },
   {
    "duration": 199,
    "start_time": "2023-05-18T10:25:43.381Z"
   },
   {
    "duration": 36,
    "start_time": "2023-05-18T10:25:54.788Z"
   },
   {
    "duration": 191,
    "start_time": "2023-05-18T10:36:13.170Z"
   },
   {
    "duration": 427,
    "start_time": "2023-05-18T10:36:37.101Z"
   },
   {
    "duration": 223,
    "start_time": "2023-05-18T10:37:01.992Z"
   },
   {
    "duration": 440,
    "start_time": "2023-05-18T10:37:07.874Z"
   },
   {
    "duration": 214,
    "start_time": "2023-05-18T10:38:09.329Z"
   },
   {
    "duration": 24,
    "start_time": "2023-05-18T10:38:23.723Z"
   },
   {
    "duration": 14,
    "start_time": "2023-05-18T10:38:59.357Z"
   },
   {
    "duration": 19,
    "start_time": "2023-05-18T10:39:06.713Z"
   },
   {
    "duration": 20,
    "start_time": "2023-05-18T10:39:27.225Z"
   },
   {
    "duration": 9,
    "start_time": "2023-05-18T10:39:52.129Z"
   },
   {
    "duration": 11,
    "start_time": "2023-05-18T10:39:56.830Z"
   },
   {
    "duration": 248,
    "start_time": "2023-05-18T10:45:35.325Z"
   },
   {
    "duration": 81,
    "start_time": "2023-05-18T10:45:50.568Z"
   },
   {
    "duration": 111,
    "start_time": "2023-05-18T10:49:01.299Z"
   },
   {
    "duration": 10,
    "start_time": "2023-05-18T10:49:59.915Z"
   },
   {
    "duration": 12,
    "start_time": "2023-05-18T10:50:26.562Z"
   },
   {
    "duration": 37,
    "start_time": "2023-05-18T10:50:32.749Z"
   },
   {
    "duration": 115,
    "start_time": "2023-05-18T10:50:51.018Z"
   },
   {
    "duration": 31,
    "start_time": "2023-05-18T10:51:03.061Z"
   },
   {
    "duration": 116,
    "start_time": "2023-05-18T10:51:25.409Z"
   },
   {
    "duration": 52,
    "start_time": "2023-05-18T10:59:59.610Z"
   },
   {
    "duration": 52,
    "start_time": "2023-05-18T11:00:56.462Z"
   },
   {
    "duration": 18,
    "start_time": "2023-05-18T11:01:52.162Z"
   },
   {
    "duration": 53,
    "start_time": "2023-05-18T11:02:37.174Z"
   },
   {
    "duration": 12,
    "start_time": "2023-05-18T11:07:04.689Z"
   },
   {
    "duration": 40,
    "start_time": "2023-05-18T11:07:09.865Z"
   },
   {
    "duration": 90,
    "start_time": "2023-05-18T11:07:36.790Z"
   },
   {
    "duration": 5,
    "start_time": "2023-05-18T11:09:00.621Z"
   },
   {
    "duration": 5,
    "start_time": "2023-05-18T11:09:21.386Z"
   },
   {
    "duration": 4,
    "start_time": "2023-05-18T11:09:26.826Z"
   },
   {
    "duration": 4,
    "start_time": "2023-05-18T11:09:47.954Z"
   },
   {
    "duration": 17,
    "start_time": "2023-05-18T11:10:09.226Z"
   },
   {
    "duration": 43,
    "start_time": "2023-05-18T11:10:40.266Z"
   },
   {
    "duration": 5,
    "start_time": "2023-05-18T11:11:34.518Z"
   },
   {
    "duration": 39,
    "start_time": "2023-05-18T11:12:29.384Z"
   },
   {
    "duration": 36,
    "start_time": "2023-05-18T11:12:47.294Z"
   },
   {
    "duration": 996,
    "start_time": "2023-05-18T11:12:57.298Z"
   },
   {
    "duration": 5,
    "start_time": "2023-05-18T11:13:11.170Z"
   },
   {
    "duration": 16,
    "start_time": "2023-05-18T11:13:39.966Z"
   },
   {
    "duration": 28,
    "start_time": "2023-05-18T11:13:56.293Z"
   },
   {
    "duration": 18,
    "start_time": "2023-05-18T11:14:37.449Z"
   },
   {
    "duration": 16,
    "start_time": "2023-05-18T11:14:54.258Z"
   },
   {
    "duration": 22,
    "start_time": "2023-05-18T11:15:05.962Z"
   },
   {
    "duration": 31,
    "start_time": "2023-05-18T11:15:19.484Z"
   },
   {
    "duration": 22,
    "start_time": "2023-05-18T11:15:25.382Z"
   },
   {
    "duration": 62,
    "start_time": "2023-05-18T11:16:35.453Z"
   },
   {
    "duration": 51,
    "start_time": "2023-05-18T11:17:12.086Z"
   },
   {
    "duration": 4127,
    "start_time": "2023-05-18T11:18:56.615Z"
   },
   {
    "duration": 43,
    "start_time": "2023-05-18T11:19:07.499Z"
   },
   {
    "duration": 45,
    "start_time": "2023-05-18T11:19:28.082Z"
   },
   {
    "duration": 58,
    "start_time": "2023-05-18T11:19:50.757Z"
   },
   {
    "duration": 4514,
    "start_time": "2023-05-18T11:19:57.897Z"
   },
   {
    "duration": 4060,
    "start_time": "2023-05-18T11:20:05.733Z"
   },
   {
    "duration": 32,
    "start_time": "2023-05-18T11:20:19.710Z"
   },
   {
    "duration": 24,
    "start_time": "2023-05-18T11:20:47.161Z"
   },
   {
    "duration": 3365,
    "start_time": "2023-05-18T11:21:06.010Z"
   },
   {
    "duration": 27,
    "start_time": "2023-05-18T11:21:13.654Z"
   },
   {
    "duration": 64,
    "start_time": "2023-05-18T11:23:43.849Z"
   },
   {
    "duration": 38,
    "start_time": "2023-05-18T11:24:30.862Z"
   },
   {
    "duration": 81,
    "start_time": "2023-05-18T11:24:36.689Z"
   },
   {
    "duration": 30,
    "start_time": "2023-05-18T11:26:01.995Z"
   },
   {
    "duration": 25,
    "start_time": "2023-05-18T11:26:07.450Z"
   },
   {
    "duration": 42,
    "start_time": "2023-05-18T11:26:40.486Z"
   },
   {
    "duration": 7,
    "start_time": "2023-05-18T11:27:32.638Z"
   },
   {
    "duration": 28,
    "start_time": "2023-05-18T11:27:59.853Z"
   },
   {
    "duration": 33,
    "start_time": "2023-05-18T11:28:03.410Z"
   },
   {
    "duration": 14,
    "start_time": "2023-05-18T11:28:17.215Z"
   },
   {
    "duration": 44,
    "start_time": "2023-05-18T11:28:39.118Z"
   },
   {
    "duration": 63,
    "start_time": "2023-05-18T11:28:43.954Z"
   },
   {
    "duration": 122,
    "start_time": "2023-05-18T11:28:57.402Z"
   },
   {
    "duration": 229,
    "start_time": "2023-05-18T11:29:44.518Z"
   },
   {
    "duration": 52,
    "start_time": "2023-05-18T11:30:02.273Z"
   },
   {
    "duration": 87,
    "start_time": "2023-05-18T11:30:19.990Z"
   },
   {
    "duration": 173,
    "start_time": "2023-05-18T11:30:42.710Z"
   },
   {
    "duration": 155,
    "start_time": "2023-05-18T11:38:54.157Z"
   },
   {
    "duration": 100,
    "start_time": "2023-05-18T11:39:44.104Z"
   },
   {
    "duration": 21,
    "start_time": "2023-05-18T11:40:17.316Z"
   },
   {
    "duration": 183,
    "start_time": "2023-05-18T11:40:48.458Z"
   },
   {
    "duration": 21,
    "start_time": "2023-05-18T11:41:28.554Z"
   },
   {
    "duration": 36,
    "start_time": "2023-05-18T11:41:57.901Z"
   },
   {
    "duration": 120,
    "start_time": "2023-05-18T11:42:28.981Z"
   },
   {
    "duration": 39,
    "start_time": "2023-05-18T11:43:02.654Z"
   },
   {
    "duration": 64,
    "start_time": "2023-05-18T11:44:12.865Z"
   },
   {
    "duration": 71,
    "start_time": "2023-05-18T11:44:29.491Z"
   },
   {
    "duration": 69,
    "start_time": "2023-05-18T11:44:57.778Z"
   },
   {
    "duration": 69,
    "start_time": "2023-05-18T11:45:28.857Z"
   },
   {
    "duration": 73,
    "start_time": "2023-05-18T11:45:32.385Z"
   },
   {
    "duration": 91,
    "start_time": "2023-05-18T11:45:48.068Z"
   },
   {
    "duration": 44,
    "start_time": "2023-05-18T11:46:07.662Z"
   },
   {
    "duration": 68,
    "start_time": "2023-05-18T11:46:24.085Z"
   },
   {
    "duration": 57,
    "start_time": "2023-05-18T11:46:27.512Z"
   },
   {
    "duration": 30,
    "start_time": "2023-05-18T11:48:12.017Z"
   },
   {
    "duration": 43,
    "start_time": "2023-05-18T11:48:48.010Z"
   },
   {
    "duration": 50,
    "start_time": "2023-05-18T11:49:03.172Z"
   },
   {
    "duration": 47,
    "start_time": "2023-05-18T11:49:11.415Z"
   },
   {
    "duration": 111,
    "start_time": "2023-05-18T11:50:41.653Z"
   },
   {
    "duration": 35,
    "start_time": "2023-05-18T11:51:47.353Z"
   },
   {
    "duration": 36,
    "start_time": "2023-05-18T11:54:16.079Z"
   },
   {
    "duration": 36,
    "start_time": "2023-05-18T11:54:47.081Z"
   },
   {
    "duration": 27,
    "start_time": "2023-05-18T11:55:58.586Z"
   },
   {
    "duration": 26,
    "start_time": "2023-05-18T11:56:16.983Z"
   },
   {
    "duration": 20,
    "start_time": "2023-05-18T11:56:26.460Z"
   },
   {
    "duration": 16,
    "start_time": "2023-05-18T11:56:38.310Z"
   },
   {
    "duration": 17,
    "start_time": "2023-05-18T11:56:52.559Z"
   },
   {
    "duration": 7,
    "start_time": "2023-05-18T11:57:21.255Z"
   },
   {
    "duration": 35,
    "start_time": "2023-05-18T11:57:26.581Z"
   },
   {
    "duration": 8,
    "start_time": "2023-05-18T11:58:13.252Z"
   },
   {
    "duration": 55,
    "start_time": "2023-05-18T11:58:32.381Z"
   },
   {
    "duration": 1805,
    "start_time": "2023-05-18T11:58:54.036Z"
   },
   {
    "duration": 10,
    "start_time": "2023-05-18T11:59:09.518Z"
   },
   {
    "duration": 5644,
    "start_time": "2023-05-18T11:59:19.824Z"
   },
   {
    "duration": 190,
    "start_time": "2023-05-18T11:59:36.748Z"
   },
   {
    "duration": 203,
    "start_time": "2023-05-18T12:00:19.660Z"
   },
   {
    "duration": 105,
    "start_time": "2023-05-18T12:00:24.268Z"
   },
   {
    "duration": 155,
    "start_time": "2023-05-18T12:00:26.340Z"
   },
   {
    "duration": 128,
    "start_time": "2023-05-18T12:00:44.484Z"
   },
   {
    "duration": 17,
    "start_time": "2023-05-18T12:00:46.988Z"
   },
   {
    "duration": 151,
    "start_time": "2023-05-18T12:07:30.588Z"
   },
   {
    "duration": 108,
    "start_time": "2023-05-18T12:08:09.135Z"
   },
   {
    "duration": 105,
    "start_time": "2023-05-18T12:08:24.535Z"
   },
   {
    "duration": 100,
    "start_time": "2023-05-18T12:08:58.451Z"
   },
   {
    "duration": 105,
    "start_time": "2023-05-18T12:09:09.647Z"
   },
   {
    "duration": 12,
    "start_time": "2023-05-18T12:09:19.494Z"
   },
   {
    "duration": 10,
    "start_time": "2023-05-18T12:09:38.163Z"
   },
   {
    "duration": 88,
    "start_time": "2023-05-18T12:09:48.547Z"
   },
   {
    "duration": 23,
    "start_time": "2023-05-18T12:10:27.022Z"
   },
   {
    "duration": 38,
    "start_time": "2023-05-18T12:10:36.948Z"
   },
   {
    "duration": 135,
    "start_time": "2023-05-18T12:15:06.851Z"
   },
   {
    "duration": 10,
    "start_time": "2023-05-18T12:15:40.769Z"
   },
   {
    "duration": 94,
    "start_time": "2023-05-18T12:15:52.885Z"
   },
   {
    "duration": 12,
    "start_time": "2023-05-18T12:15:56.714Z"
   },
   {
    "duration": 20,
    "start_time": "2023-05-18T12:16:35.257Z"
   },
   {
    "duration": 108,
    "start_time": "2023-05-18T12:16:38.651Z"
   },
   {
    "duration": 11,
    "start_time": "2023-05-18T12:16:47.347Z"
   },
   {
    "duration": 22,
    "start_time": "2023-05-18T12:16:57.059Z"
   },
   {
    "duration": 7,
    "start_time": "2023-05-18T12:17:09.312Z"
   },
   {
    "duration": 12,
    "start_time": "2023-05-18T12:17:19.528Z"
   },
   {
    "duration": 20,
    "start_time": "2023-05-18T12:17:54.763Z"
   },
   {
    "duration": 9,
    "start_time": "2023-05-18T12:18:16.482Z"
   },
   {
    "duration": 9,
    "start_time": "2023-05-18T12:18:38.763Z"
   },
   {
    "duration": 34,
    "start_time": "2023-05-18T12:18:51.784Z"
   },
   {
    "duration": 20,
    "start_time": "2023-05-18T12:19:10.259Z"
   },
   {
    "duration": 102,
    "start_time": "2023-05-18T12:19:47.625Z"
   },
   {
    "duration": 18,
    "start_time": "2023-05-18T12:19:54.047Z"
   },
   {
    "duration": 46,
    "start_time": "2023-05-18T12:20:08.036Z"
   },
   {
    "duration": 36,
    "start_time": "2023-05-18T12:20:24.351Z"
   },
   {
    "duration": 1519,
    "start_time": "2023-05-18T12:20:52.344Z"
   },
   {
    "duration": 2168,
    "start_time": "2023-05-18T12:21:11.147Z"
   },
   {
    "duration": 22,
    "start_time": "2023-05-18T12:21:34.617Z"
   },
   {
    "duration": 32,
    "start_time": "2023-05-18T12:21:48.696Z"
   },
   {
    "duration": 8,
    "start_time": "2023-05-18T12:21:58.561Z"
   },
   {
    "duration": 10,
    "start_time": "2023-05-18T12:22:11.688Z"
   },
   {
    "duration": 24,
    "start_time": "2023-05-18T12:22:20.168Z"
   },
   {
    "duration": 23,
    "start_time": "2023-05-18T12:23:01.953Z"
   },
   {
    "duration": 25,
    "start_time": "2023-05-18T12:23:09.348Z"
   },
   {
    "duration": 20,
    "start_time": "2023-05-18T12:23:24.595Z"
   },
   {
    "duration": 21,
    "start_time": "2023-05-18T12:24:06.895Z"
   },
   {
    "duration": 18,
    "start_time": "2023-05-18T12:24:15.700Z"
   },
   {
    "duration": 7,
    "start_time": "2023-05-18T12:24:38.093Z"
   },
   {
    "duration": 37,
    "start_time": "2023-05-18T12:24:45.442Z"
   },
   {
    "duration": 12,
    "start_time": "2023-05-18T12:25:28.895Z"
   },
   {
    "duration": 131,
    "start_time": "2023-05-18T12:26:03.873Z"
   },
   {
    "duration": 2195,
    "start_time": "2023-05-18T12:26:10.313Z"
   },
   {
    "duration": 151,
    "start_time": "2023-05-18T12:26:53.511Z"
   },
   {
    "duration": 4,
    "start_time": "2023-05-18T12:32:24.474Z"
   },
   {
    "duration": 7,
    "start_time": "2023-05-18T12:32:29.209Z"
   },
   {
    "duration": 9,
    "start_time": "2023-05-18T12:33:00.586Z"
   },
   {
    "duration": 8,
    "start_time": "2023-05-18T12:33:39.899Z"
   },
   {
    "duration": 105,
    "start_time": "2023-05-18T12:33:48.395Z"
   },
   {
    "duration": 129,
    "start_time": "2023-05-18T12:35:04.067Z"
   },
   {
    "duration": 8,
    "start_time": "2023-05-18T12:35:30.091Z"
   },
   {
    "duration": 20,
    "start_time": "2023-05-18T12:35:40.774Z"
   },
   {
    "duration": 309,
    "start_time": "2023-05-18T12:36:11.258Z"
   },
   {
    "duration": 240,
    "start_time": "2023-05-18T12:36:19.498Z"
   },
   {
    "duration": 23,
    "start_time": "2023-05-18T12:38:30.289Z"
   },
   {
    "duration": 21,
    "start_time": "2023-05-18T12:38:41.401Z"
   },
   {
    "duration": 23,
    "start_time": "2023-05-18T12:39:00.885Z"
   },
   {
    "duration": 24,
    "start_time": "2023-05-18T12:39:08.584Z"
   },
   {
    "duration": 19,
    "start_time": "2023-05-18T12:39:25.589Z"
   },
   {
    "duration": 111,
    "start_time": "2023-05-18T12:39:36.684Z"
   },
   {
    "duration": 44,
    "start_time": "2023-05-18T12:39:41.771Z"
   },
   {
    "duration": 124,
    "start_time": "2023-05-18T12:40:25.789Z"
   },
   {
    "duration": 1667,
    "start_time": "2023-05-18T12:40:52.800Z"
   },
   {
    "duration": 138,
    "start_time": "2023-05-18T12:41:07.076Z"
   },
   {
    "duration": 185,
    "start_time": "2023-05-18T12:41:44.876Z"
   },
   {
    "duration": 160,
    "start_time": "2023-05-18T12:41:52.489Z"
   },
   {
    "duration": 4559,
    "start_time": "2023-05-18T12:42:12.489Z"
   },
   {
    "duration": 9,
    "start_time": "2023-05-18T12:42:20.591Z"
   },
   {
    "duration": 4,
    "start_time": "2023-05-18T12:42:38.995Z"
   },
   {
    "duration": 36,
    "start_time": "2023-05-18T12:43:24.627Z"
   },
   {
    "duration": 134,
    "start_time": "2023-05-18T12:44:01.069Z"
   },
   {
    "duration": 38,
    "start_time": "2023-05-18T12:44:22.086Z"
   },
   {
    "duration": 473,
    "start_time": "2023-05-18T12:45:03.086Z"
   },
   {
    "duration": 109,
    "start_time": "2023-05-18T12:45:08.064Z"
   },
   {
    "duration": 126,
    "start_time": "2023-05-18T12:45:13.923Z"
   },
   {
    "duration": 39,
    "start_time": "2023-05-18T12:45:27.616Z"
   },
   {
    "duration": 96,
    "start_time": "2023-05-18T12:54:22.290Z"
   },
   {
    "duration": 13,
    "start_time": "2023-05-18T12:54:26.807Z"
   },
   {
    "duration": 82,
    "start_time": "2023-05-18T12:55:51.518Z"
   },
   {
    "duration": 11,
    "start_time": "2023-05-18T12:55:54.468Z"
   },
   {
    "duration": 25,
    "start_time": "2023-05-18T13:04:48.475Z"
   },
   {
    "duration": 122,
    "start_time": "2023-05-18T13:07:05.134Z"
   },
   {
    "duration": 110,
    "start_time": "2023-05-18T13:09:42.590Z"
   },
   {
    "duration": 1926,
    "start_time": "2023-05-18T13:19:41.934Z"
   },
   {
    "duration": 36,
    "start_time": "2023-05-18T13:19:59.418Z"
   },
   {
    "duration": 11,
    "start_time": "2023-05-18T13:23:56.519Z"
   },
   {
    "duration": 11,
    "start_time": "2023-05-18T13:35:30.410Z"
   },
   {
    "duration": 34,
    "start_time": "2023-05-18T13:35:46.096Z"
   },
   {
    "duration": 18,
    "start_time": "2023-05-18T13:36:08.983Z"
   },
   {
    "duration": 32,
    "start_time": "2023-05-18T13:36:30.454Z"
   },
   {
    "duration": 40,
    "start_time": "2023-05-18T13:36:44.452Z"
   },
   {
    "duration": 73,
    "start_time": "2023-05-18T13:37:40.199Z"
   },
   {
    "duration": 29,
    "start_time": "2023-05-18T13:37:44.563Z"
   },
   {
    "duration": 11,
    "start_time": "2023-05-18T13:39:55.915Z"
   },
   {
    "duration": 31,
    "start_time": "2023-05-18T13:45:53.710Z"
   },
   {
    "duration": 11,
    "start_time": "2023-05-18T13:46:41.190Z"
   },
   {
    "duration": 11,
    "start_time": "2023-05-18T13:46:45.683Z"
   },
   {
    "duration": 396,
    "start_time": "2023-05-18T13:47:32.214Z"
   },
   {
    "duration": 840,
    "start_time": "2023-05-18T13:47:32.612Z"
   },
   {
    "duration": 133,
    "start_time": "2023-05-18T13:47:33.454Z"
   },
   {
    "duration": 108,
    "start_time": "2023-05-18T13:47:33.589Z"
   },
   {
    "duration": 15,
    "start_time": "2023-05-18T13:47:33.699Z"
   },
   {
    "duration": 182,
    "start_time": "2023-05-18T13:47:33.716Z"
   },
   {
    "duration": 9,
    "start_time": "2023-05-18T13:47:33.900Z"
   },
   {
    "duration": 64,
    "start_time": "2023-05-18T13:47:33.910Z"
   },
   {
    "duration": 191,
    "start_time": "2023-05-18T13:47:33.976Z"
   },
   {
    "duration": 129,
    "start_time": "2023-05-18T13:47:34.169Z"
   },
   {
    "duration": 100,
    "start_time": "2023-05-18T13:47:34.300Z"
   },
   {
    "duration": 32,
    "start_time": "2023-05-18T13:47:37.112Z"
   },
   {
    "duration": 63,
    "start_time": "2023-05-18T13:47:40.066Z"
   },
   {
    "duration": 7,
    "start_time": "2023-05-18T13:47:42.411Z"
   },
   {
    "duration": 7,
    "start_time": "2023-05-18T13:48:26.030Z"
   },
   {
    "duration": 18,
    "start_time": "2023-05-18T13:48:52.678Z"
   },
   {
    "duration": 20,
    "start_time": "2023-05-18T13:50:09.198Z"
   },
   {
    "duration": 20,
    "start_time": "2023-05-18T13:50:15.050Z"
   },
   {
    "duration": 6,
    "start_time": "2023-05-18T13:50:25.709Z"
   },
   {
    "duration": 774,
    "start_time": "2023-05-18T13:55:06.971Z"
   },
   {
    "duration": 120,
    "start_time": "2023-05-18T13:56:10.396Z"
   },
   {
    "duration": 16,
    "start_time": "2023-05-18T13:56:24.014Z"
   },
   {
    "duration": 93,
    "start_time": "2023-05-18T13:56:48.458Z"
   },
   {
    "duration": 23,
    "start_time": "2023-05-18T13:56:53.959Z"
   },
   {
    "duration": 6,
    "start_time": "2023-05-18T13:57:28.101Z"
   },
   {
    "duration": 4,
    "start_time": "2023-05-18T16:51:01.997Z"
   },
   {
    "duration": 2,
    "start_time": "2023-05-18T16:53:18.978Z"
   },
   {
    "duration": 92,
    "start_time": "2023-05-18T16:53:34.155Z"
   },
   {
    "duration": 16,
    "start_time": "2023-05-18T16:53:52.298Z"
   },
   {
    "duration": 469,
    "start_time": "2023-05-18T16:55:16.603Z"
   },
   {
    "duration": 4,
    "start_time": "2023-05-18T16:55:20.750Z"
   },
   {
    "duration": 29,
    "start_time": "2023-05-18T16:55:41.543Z"
   },
   {
    "duration": 3,
    "start_time": "2023-05-18T16:56:41.477Z"
   },
   {
    "duration": 20,
    "start_time": "2023-05-18T16:58:36.454Z"
   },
   {
    "duration": 8,
    "start_time": "2023-05-18T16:58:58.842Z"
   },
   {
    "duration": 831,
    "start_time": "2023-05-18T16:59:13.917Z"
   },
   {
    "duration": 3,
    "start_time": "2023-05-18T17:02:43.622Z"
   },
   {
    "duration": 4,
    "start_time": "2023-05-18T17:02:49.693Z"
   },
   {
    "duration": 4,
    "start_time": "2023-05-18T17:02:54.715Z"
   },
   {
    "duration": 18,
    "start_time": "2023-05-18T17:03:05.091Z"
   },
   {
    "duration": 20,
    "start_time": "2023-05-18T17:03:23.349Z"
   },
   {
    "duration": 18,
    "start_time": "2023-05-18T17:03:38.582Z"
   },
   {
    "duration": 202,
    "start_time": "2023-05-18T17:04:41.292Z"
   },
   {
    "duration": 23,
    "start_time": "2023-05-18T17:04:50.452Z"
   },
   {
    "duration": 244,
    "start_time": "2023-05-18T17:05:34.157Z"
   },
   {
    "duration": 3,
    "start_time": "2023-05-18T17:06:05.815Z"
   },
   {
    "duration": 205,
    "start_time": "2023-05-18T17:06:12.334Z"
   },
   {
    "duration": 60,
    "start_time": "2023-05-18T17:06:58.576Z"
   },
   {
    "duration": 319,
    "start_time": "2023-05-18T17:07:12.210Z"
   },
   {
    "duration": 3,
    "start_time": "2023-05-18T17:07:16.898Z"
   },
   {
    "duration": 2,
    "start_time": "2023-05-18T17:15:14.858Z"
   },
   {
    "duration": 3,
    "start_time": "2023-05-18T17:26:32.188Z"
   },
   {
    "duration": 23,
    "start_time": "2023-05-18T17:26:35.054Z"
   },
   {
    "duration": 3,
    "start_time": "2023-05-18T17:27:00.516Z"
   },
   {
    "duration": 61,
    "start_time": "2023-05-18T17:27:02.553Z"
   },
   {
    "duration": 361,
    "start_time": "2023-05-18T17:27:10.468Z"
   },
   {
    "duration": 6,
    "start_time": "2023-05-18T17:27:13.521Z"
   },
   {
    "duration": 16,
    "start_time": "2023-05-18T17:27:48.856Z"
   },
   {
    "duration": 69,
    "start_time": "2023-05-18T17:28:08.601Z"
   },
   {
    "duration": 366,
    "start_time": "2023-05-18T17:28:16.265Z"
   },
   {
    "duration": 20,
    "start_time": "2023-05-18T17:28:18.999Z"
   },
   {
    "duration": 2,
    "start_time": "2023-05-18T17:28:35.509Z"
   },
   {
    "duration": 109,
    "start_time": "2023-05-18T17:28:38.387Z"
   },
   {
    "duration": 451,
    "start_time": "2023-05-18T17:28:42.052Z"
   },
   {
    "duration": 23,
    "start_time": "2023-05-18T17:28:44.286Z"
   },
   {
    "duration": 2817,
    "start_time": "2023-05-18T17:29:40.421Z"
   },
   {
    "duration": 3,
    "start_time": "2023-05-18T17:29:45.290Z"
   },
   {
    "duration": 4,
    "start_time": "2023-05-18T17:30:27.198Z"
   },
   {
    "duration": 2,
    "start_time": "2023-05-18T17:33:33.175Z"
   },
   {
    "duration": 69,
    "start_time": "2023-05-18T17:33:43.225Z"
   },
   {
    "duration": 1394,
    "start_time": "2023-05-18T17:33:54.455Z"
   },
   {
    "duration": 3,
    "start_time": "2023-05-18T17:33:58.627Z"
   },
   {
    "duration": 1121,
    "start_time": "2023-05-18T17:35:14.763Z"
   },
   {
    "duration": 1136,
    "start_time": "2023-05-18T17:35:15.886Z"
   },
   {
    "duration": 138,
    "start_time": "2023-05-18T17:35:17.024Z"
   },
   {
    "duration": 98,
    "start_time": "2023-05-18T17:35:17.164Z"
   },
   {
    "duration": 16,
    "start_time": "2023-05-18T17:35:17.265Z"
   },
   {
    "duration": 197,
    "start_time": "2023-05-18T17:35:17.282Z"
   },
   {
    "duration": 18,
    "start_time": "2023-05-18T17:35:17.480Z"
   },
   {
    "duration": 60,
    "start_time": "2023-05-18T17:35:17.499Z"
   },
   {
    "duration": 183,
    "start_time": "2023-05-18T17:35:17.560Z"
   },
   {
    "duration": 114,
    "start_time": "2023-05-18T17:35:17.745Z"
   },
   {
    "duration": 94,
    "start_time": "2023-05-18T17:35:17.860Z"
   },
   {
    "duration": 30,
    "start_time": "2023-05-18T17:35:17.956Z"
   },
   {
    "duration": 81,
    "start_time": "2023-05-18T17:35:17.988Z"
   },
   {
    "duration": 8,
    "start_time": "2023-05-18T17:35:18.071Z"
   },
   {
    "duration": 17,
    "start_time": "2023-05-18T17:35:18.080Z"
   },
   {
    "duration": 100,
    "start_time": "2023-05-18T17:35:18.098Z"
   },
   {
    "duration": 0,
    "start_time": "2023-05-18T17:35:18.199Z"
   },
   {
    "duration": 0,
    "start_time": "2023-05-18T17:35:18.200Z"
   },
   {
    "duration": 41,
    "start_time": "2023-05-18T17:35:30.289Z"
   },
   {
    "duration": 249,
    "start_time": "2023-05-18T17:35:32.730Z"
   },
   {
    "duration": 7,
    "start_time": "2023-05-18T17:35:34.891Z"
   },
   {
    "duration": 163,
    "start_time": "2023-05-18T17:35:36.987Z"
   },
   {
    "duration": 643,
    "start_time": "2023-05-18T17:35:45.167Z"
   },
   {
    "duration": 52,
    "start_time": "2023-05-18T17:44:09.447Z"
   },
   {
    "duration": 1174,
    "start_time": "2023-05-18T17:44:19.656Z"
   },
   {
    "duration": 1203,
    "start_time": "2023-05-18T17:44:20.833Z"
   },
   {
    "duration": 150,
    "start_time": "2023-05-18T17:44:22.038Z"
   },
   {
    "duration": 118,
    "start_time": "2023-05-18T17:44:22.190Z"
   },
   {
    "duration": 15,
    "start_time": "2023-05-18T17:44:22.311Z"
   },
   {
    "duration": 202,
    "start_time": "2023-05-18T17:44:22.328Z"
   },
   {
    "duration": 10,
    "start_time": "2023-05-18T17:44:22.532Z"
   },
   {
    "duration": 75,
    "start_time": "2023-05-18T17:44:22.543Z"
   },
   {
    "duration": 192,
    "start_time": "2023-05-18T17:44:22.621Z"
   },
   {
    "duration": 120,
    "start_time": "2023-05-18T17:44:22.815Z"
   },
   {
    "duration": 102,
    "start_time": "2023-05-18T17:44:22.936Z"
   },
   {
    "duration": 31,
    "start_time": "2023-05-18T17:44:23.040Z"
   },
   {
    "duration": 91,
    "start_time": "2023-05-18T17:44:23.073Z"
   },
   {
    "duration": 9,
    "start_time": "2023-05-18T17:44:23.167Z"
   },
   {
    "duration": 20,
    "start_time": "2023-05-18T17:44:23.178Z"
   },
   {
    "duration": 84,
    "start_time": "2023-05-18T17:44:23.200Z"
   },
   {
    "duration": 0,
    "start_time": "2023-05-18T17:44:23.286Z"
   },
   {
    "duration": 0,
    "start_time": "2023-05-18T17:44:23.287Z"
   },
   {
    "duration": 0,
    "start_time": "2023-05-18T17:44:23.288Z"
   },
   {
    "duration": 26,
    "start_time": "2023-05-18T17:44:27.648Z"
   },
   {
    "duration": 3,
    "start_time": "2023-05-18T17:44:30.591Z"
   },
   {
    "duration": 184,
    "start_time": "2023-05-18T17:44:37.412Z"
   },
   {
    "duration": 100,
    "start_time": "2023-05-18T17:44:39.554Z"
   },
   {
    "duration": 1560,
    "start_time": "2023-05-18T17:44:41.928Z"
   },
   {
    "duration": 916,
    "start_time": "2023-05-18T17:44:45.423Z"
   },
   {
    "duration": 18,
    "start_time": "2023-05-18T17:45:28.449Z"
   },
   {
    "duration": 216,
    "start_time": "2023-05-18T17:45:35.024Z"
   },
   {
    "duration": 23,
    "start_time": "2023-05-18T17:45:38.008Z"
   },
   {
    "duration": 1150,
    "start_time": "2023-05-18T17:47:08.089Z"
   },
   {
    "duration": 4,
    "start_time": "2023-05-18T17:49:10.817Z"
   },
   {
    "duration": 1227,
    "start_time": "2023-05-18T17:49:10.823Z"
   },
   {
    "duration": 150,
    "start_time": "2023-05-18T17:49:12.052Z"
   },
   {
    "duration": 117,
    "start_time": "2023-05-18T17:49:12.204Z"
   },
   {
    "duration": 15,
    "start_time": "2023-05-18T17:49:12.323Z"
   },
   {
    "duration": 205,
    "start_time": "2023-05-18T17:49:12.340Z"
   },
   {
    "duration": 9,
    "start_time": "2023-05-18T17:49:12.547Z"
   },
   {
    "duration": 78,
    "start_time": "2023-05-18T17:49:12.558Z"
   },
   {
    "duration": 193,
    "start_time": "2023-05-18T17:49:12.638Z"
   },
   {
    "duration": 123,
    "start_time": "2023-05-18T17:49:12.833Z"
   },
   {
    "duration": 104,
    "start_time": "2023-05-18T17:49:12.958Z"
   },
   {
    "duration": 37,
    "start_time": "2023-05-18T17:49:13.064Z"
   },
   {
    "duration": 94,
    "start_time": "2023-05-18T17:49:13.103Z"
   },
   {
    "duration": 8,
    "start_time": "2023-05-18T17:49:13.200Z"
   },
   {
    "duration": 3,
    "start_time": "2023-05-18T17:49:13.210Z"
   },
   {
    "duration": 11,
    "start_time": "2023-05-18T17:49:13.215Z"
   },
   {
    "duration": 26,
    "start_time": "2023-05-18T17:49:13.227Z"
   },
   {
    "duration": 103,
    "start_time": "2023-05-18T17:49:13.255Z"
   },
   {
    "duration": 3,
    "start_time": "2023-05-18T17:49:13.360Z"
   },
   {
    "duration": 72,
    "start_time": "2023-05-18T17:49:20.844Z"
   },
   {
    "duration": 275,
    "start_time": "2023-05-18T17:49:27.647Z"
   },
   {
    "duration": 23,
    "start_time": "2023-05-18T17:49:35.518Z"
   },
   {
    "duration": 18,
    "start_time": "2023-05-18T17:49:44.848Z"
   },
   {
    "duration": 1482,
    "start_time": "2023-05-18T17:50:04.188Z"
   },
   {
    "duration": 1195,
    "start_time": "2023-05-18T17:50:38.944Z"
   },
   {
    "duration": 305,
    "start_time": "2023-05-18T17:50:42.025Z"
   },
   {
    "duration": 41,
    "start_time": "2023-05-18T17:50:52.512Z"
   },
   {
    "duration": 16,
    "start_time": "2023-05-18T17:51:28.584Z"
   },
   {
    "duration": 3356,
    "start_time": "2023-05-18T17:52:07.689Z"
   },
   {
    "duration": 1347,
    "start_time": "2023-05-18T17:53:25.215Z"
   },
   {
    "duration": 44,
    "start_time": "2023-05-18T17:53:28.501Z"
   },
   {
    "duration": 14,
    "start_time": "2023-05-18T17:53:31.952Z"
   },
   {
    "duration": 14,
    "start_time": "2023-05-18T17:58:31.890Z"
   },
   {
    "duration": 314,
    "start_time": "2023-05-18T18:02:45.184Z"
   },
   {
    "duration": 51,
    "start_time": "2023-05-18T18:03:27.311Z"
   },
   {
    "duration": 1519,
    "start_time": "2023-05-18T18:03:52.500Z"
   },
   {
    "duration": 1304,
    "start_time": "2023-05-18T18:03:54.021Z"
   },
   {
    "duration": 179,
    "start_time": "2023-05-18T18:03:55.327Z"
   },
   {
    "duration": 141,
    "start_time": "2023-05-18T18:03:55.508Z"
   },
   {
    "duration": 17,
    "start_time": "2023-05-18T18:03:55.652Z"
   },
   {
    "duration": 226,
    "start_time": "2023-05-18T18:03:55.671Z"
   },
   {
    "duration": 14,
    "start_time": "2023-05-18T18:03:55.900Z"
   },
   {
    "duration": 88,
    "start_time": "2023-05-18T18:03:55.916Z"
   },
   {
    "duration": 206,
    "start_time": "2023-05-18T18:03:56.006Z"
   },
   {
    "duration": 130,
    "start_time": "2023-05-18T18:03:56.214Z"
   },
   {
    "duration": 108,
    "start_time": "2023-05-18T18:03:56.346Z"
   },
   {
    "duration": 42,
    "start_time": "2023-05-18T18:03:56.456Z"
   },
   {
    "duration": 75,
    "start_time": "2023-05-18T18:03:56.500Z"
   },
   {
    "duration": 24,
    "start_time": "2023-05-18T18:03:56.578Z"
   },
   {
    "duration": 26,
    "start_time": "2023-05-18T18:03:56.605Z"
   },
   {
    "duration": 22,
    "start_time": "2023-05-18T18:03:56.634Z"
   },
   {
    "duration": 35,
    "start_time": "2023-05-18T18:03:56.658Z"
   },
   {
    "duration": 160,
    "start_time": "2023-05-18T18:03:56.696Z"
   },
   {
    "duration": 4,
    "start_time": "2023-05-18T18:03:56.859Z"
   },
   {
    "duration": 118,
    "start_time": "2023-05-18T18:03:56.866Z"
   },
   {
    "duration": 1376,
    "start_time": "2023-05-18T18:03:56.986Z"
   },
   {
    "duration": 5,
    "start_time": "2023-05-18T18:03:58.364Z"
   },
   {
    "duration": 360,
    "start_time": "2023-05-18T18:04:03.379Z"
   },
   {
    "duration": 5,
    "start_time": "2023-05-18T18:04:11.939Z"
   },
   {
    "duration": 13,
    "start_time": "2023-05-18T18:04:27.282Z"
   },
   {
    "duration": 248,
    "start_time": "2023-05-18T18:04:33.386Z"
   },
   {
    "duration": 315,
    "start_time": "2023-05-18T18:04:40.911Z"
   },
   {
    "duration": 4,
    "start_time": "2023-05-18T18:04:43.376Z"
   },
   {
    "duration": 3,
    "start_time": "2023-05-18T18:05:23.378Z"
   },
   {
    "duration": 13,
    "start_time": "2023-05-18T18:21:27.451Z"
   },
   {
    "duration": 3,
    "start_time": "2023-05-18T18:23:52.900Z"
   },
   {
    "duration": 3,
    "start_time": "2023-05-18T18:24:07.977Z"
   },
   {
    "duration": 30149,
    "start_time": "2023-05-18T18:24:35.749Z"
   },
   {
    "duration": 5,
    "start_time": "2023-05-18T18:25:05.900Z"
   },
   {
    "duration": 1363,
    "start_time": "2023-05-18T18:26:40.777Z"
   },
   {
    "duration": 3,
    "start_time": "2023-05-18T18:28:14.934Z"
   },
   {
    "duration": 27,
    "start_time": "2023-05-18T18:28:18.839Z"
   },
   {
    "duration": 3,
    "start_time": "2023-05-18T18:28:32.850Z"
   },
   {
    "duration": 3,
    "start_time": "2023-05-18T18:28:38.366Z"
   },
   {
    "duration": 75,
    "start_time": "2023-05-18T18:28:41.538Z"
   },
   {
    "duration": 1540,
    "start_time": "2023-05-18T18:28:46.856Z"
   },
   {
    "duration": 4,
    "start_time": "2023-05-18T18:29:04.386Z"
   },
   {
    "duration": 4,
    "start_time": "2023-05-18T18:29:17.958Z"
   },
   {
    "duration": 5,
    "start_time": "2023-05-18T18:29:27.103Z"
   },
   {
    "duration": 4,
    "start_time": "2023-05-18T18:29:35.957Z"
   },
   {
    "duration": 49,
    "start_time": "2023-05-18T18:30:55.677Z"
   },
   {
    "duration": 1198,
    "start_time": "2023-05-18T18:31:11.112Z"
   },
   {
    "duration": 1177,
    "start_time": "2023-05-18T18:31:12.312Z"
   },
   {
    "duration": 152,
    "start_time": "2023-05-18T18:31:13.490Z"
   },
   {
    "duration": 129,
    "start_time": "2023-05-18T18:31:13.645Z"
   },
   {
    "duration": 25,
    "start_time": "2023-05-18T18:31:13.776Z"
   },
   {
    "duration": 205,
    "start_time": "2023-05-18T18:31:13.804Z"
   },
   {
    "duration": 12,
    "start_time": "2023-05-18T18:31:14.012Z"
   },
   {
    "duration": 77,
    "start_time": "2023-05-18T18:31:14.026Z"
   },
   {
    "duration": 189,
    "start_time": "2023-05-18T18:31:14.105Z"
   },
   {
    "duration": 119,
    "start_time": "2023-05-18T18:31:14.298Z"
   },
   {
    "duration": 107,
    "start_time": "2023-05-18T18:31:14.419Z"
   },
   {
    "duration": 35,
    "start_time": "2023-05-18T18:31:14.527Z"
   },
   {
    "duration": 74,
    "start_time": "2023-05-18T18:31:14.564Z"
   },
   {
    "duration": 8,
    "start_time": "2023-05-18T18:31:14.640Z"
   },
   {
    "duration": 3,
    "start_time": "2023-05-18T18:31:14.650Z"
   },
   {
    "duration": 5,
    "start_time": "2023-05-18T18:31:14.654Z"
   },
   {
    "duration": 44,
    "start_time": "2023-05-18T18:31:14.661Z"
   },
   {
    "duration": 104,
    "start_time": "2023-05-18T18:31:14.707Z"
   },
   {
    "duration": 241,
    "start_time": "2023-05-18T18:31:14.813Z"
   },
   {
    "duration": 3,
    "start_time": "2023-05-18T18:31:15.056Z"
   },
   {
    "duration": 73,
    "start_time": "2023-05-18T18:31:19.174Z"
   },
   {
    "duration": 15,
    "start_time": "2023-05-18T18:31:41.537Z"
   },
   {
    "duration": 1164,
    "start_time": "2023-05-18T18:32:18.384Z"
   },
   {
    "duration": 309,
    "start_time": "2023-05-18T18:32:23.745Z"
   },
   {
    "duration": 5,
    "start_time": "2023-05-18T18:32:32.724Z"
   },
   {
    "duration": 4,
    "start_time": "2023-05-18T18:32:36.478Z"
   },
   {
    "duration": 4,
    "start_time": "2023-05-18T18:32:40.720Z"
   },
   {
    "duration": 344,
    "start_time": "2023-05-18T18:33:03.789Z"
   },
   {
    "duration": 88,
    "start_time": "2023-05-18T18:33:06.441Z"
   },
   {
    "duration": 100,
    "start_time": "2023-05-18T18:33:39.292Z"
   },
   {
    "duration": 25887,
    "start_time": "2023-05-18T18:33:45.011Z"
   },
   {
    "duration": 218,
    "start_time": "2023-05-18T18:34:14.578Z"
   },
   {
    "duration": 5,
    "start_time": "2023-05-18T18:34:27.207Z"
   },
   {
    "duration": 21,
    "start_time": "2023-05-18T18:34:48.573Z"
   },
   {
    "duration": 5,
    "start_time": "2023-05-18T18:35:01.350Z"
   },
   {
    "duration": 3,
    "start_time": "2023-05-18T18:35:21.488Z"
   },
   {
    "duration": 4,
    "start_time": "2023-05-18T18:35:33.806Z"
   },
   {
    "duration": 4,
    "start_time": "2023-05-18T18:35:40.852Z"
   },
   {
    "duration": 6,
    "start_time": "2023-05-18T18:35:53.920Z"
   },
   {
    "duration": 4,
    "start_time": "2023-05-18T18:36:17.365Z"
   },
   {
    "duration": 5,
    "start_time": "2023-05-18T18:36:33.123Z"
   },
   {
    "duration": 6,
    "start_time": "2023-05-18T18:36:40.851Z"
   },
   {
    "duration": 6,
    "start_time": "2023-05-18T18:37:17.539Z"
   },
   {
    "duration": 8,
    "start_time": "2023-05-18T18:39:57.651Z"
   },
   {
    "duration": 3,
    "start_time": "2023-05-18T18:40:03.060Z"
   },
   {
    "duration": 6,
    "start_time": "2023-05-18T18:40:10.175Z"
   },
   {
    "duration": 6,
    "start_time": "2023-05-18T18:40:21.469Z"
   },
   {
    "duration": 912,
    "start_time": "2023-05-18T18:46:38.169Z"
   },
   {
    "duration": 11,
    "start_time": "2023-05-18T18:54:39.401Z"
   },
   {
    "duration": 4,
    "start_time": "2023-05-18T18:57:48.512Z"
   },
   {
    "duration": 3,
    "start_time": "2023-05-18T18:57:56.344Z"
   },
   {
    "duration": 3,
    "start_time": "2023-05-18T18:58:56.688Z"
   },
   {
    "duration": 116,
    "start_time": "2023-05-18T18:59:19.478Z"
   },
   {
    "duration": 400,
    "start_time": "2023-05-18T18:59:59.975Z"
   },
   {
    "duration": 457,
    "start_time": "2023-05-18T19:00:27.480Z"
   },
   {
    "duration": 478,
    "start_time": "2023-05-18T19:00:42.726Z"
   },
   {
    "duration": 574,
    "start_time": "2023-05-18T19:14:27.161Z"
   },
   {
    "duration": 700,
    "start_time": "2023-05-18T19:14:42.844Z"
   },
   {
    "duration": 436,
    "start_time": "2023-05-18T19:15:18.956Z"
   },
   {
    "duration": 388,
    "start_time": "2023-05-18T19:15:52.204Z"
   },
   {
    "duration": 780,
    "start_time": "2023-05-18T19:16:32.306Z"
   },
   {
    "duration": 579,
    "start_time": "2023-05-18T19:16:43.611Z"
   },
   {
    "duration": 17,
    "start_time": "2023-05-18T19:30:06.977Z"
   },
   {
    "duration": 82,
    "start_time": "2023-05-18T19:30:51.914Z"
   },
   {
    "duration": 3,
    "start_time": "2023-05-18T19:31:21.702Z"
   },
   {
    "duration": 1004,
    "start_time": "2023-05-18T19:32:34.610Z"
   },
   {
    "duration": 20,
    "start_time": "2023-05-18T19:32:39.655Z"
   },
   {
    "duration": 2,
    "start_time": "2023-05-18T19:33:24.377Z"
   },
   {
    "duration": 606,
    "start_time": "2023-05-18T19:33:27.091Z"
   },
   {
    "duration": 13,
    "start_time": "2023-05-18T19:33:29.694Z"
   },
   {
    "duration": 13,
    "start_time": "2023-05-18T19:33:35.693Z"
   },
   {
    "duration": 91,
    "start_time": "2023-05-18T19:34:18.583Z"
   },
   {
    "duration": 14,
    "start_time": "2023-05-18T19:34:46.156Z"
   },
   {
    "duration": 102,
    "start_time": "2023-05-18T19:36:16.686Z"
   },
   {
    "duration": 18,
    "start_time": "2023-05-18T19:37:04.247Z"
   },
   {
    "duration": 3,
    "start_time": "2023-05-18T19:37:19.916Z"
   },
   {
    "duration": 770,
    "start_time": "2023-05-18T19:37:19.922Z"
   },
   {
    "duration": 136,
    "start_time": "2023-05-18T19:37:20.693Z"
   },
   {
    "duration": 102,
    "start_time": "2023-05-18T19:37:20.831Z"
   },
   {
    "duration": 12,
    "start_time": "2023-05-18T19:37:20.935Z"
   },
   {
    "duration": 173,
    "start_time": "2023-05-18T19:37:20.949Z"
   },
   {
    "duration": 9,
    "start_time": "2023-05-18T19:37:21.124Z"
   },
   {
    "duration": 71,
    "start_time": "2023-05-18T19:37:21.134Z"
   },
   {
    "duration": 167,
    "start_time": "2023-05-18T19:37:21.207Z"
   },
   {
    "duration": 80,
    "start_time": "2023-05-18T19:37:21.375Z"
   },
   {
    "duration": 103,
    "start_time": "2023-05-18T19:37:21.456Z"
   },
   {
    "duration": 23,
    "start_time": "2023-05-18T19:37:23.950Z"
   },
   {
    "duration": 12,
    "start_time": "2023-05-18T19:37:32.246Z"
   },
   {
    "duration": 3,
    "start_time": "2023-05-18T19:37:35.784Z"
   },
   {
    "duration": 14,
    "start_time": "2023-05-18T19:37:41.078Z"
   },
   {
    "duration": 62,
    "start_time": "2023-05-18T19:37:44.320Z"
   },
   {
    "duration": 3,
    "start_time": "2023-05-18T19:37:47.652Z"
   },
   {
    "duration": 894,
    "start_time": "2023-05-18T19:37:58.370Z"
   },
   {
    "duration": 15,
    "start_time": "2023-05-18T19:38:03.100Z"
   },
   {
    "duration": 11,
    "start_time": "2023-05-18T19:38:10.711Z"
   },
   {
    "duration": 73,
    "start_time": "2023-05-18T19:38:22.900Z"
   },
   {
    "duration": 5,
    "start_time": "2023-05-18T19:38:40.211Z"
   },
   {
    "duration": 11,
    "start_time": "2023-05-18T19:40:17.322Z"
   },
   {
    "duration": 5,
    "start_time": "2023-05-18T19:40:23.511Z"
   },
   {
    "duration": 73,
    "start_time": "2023-05-18T19:42:10.757Z"
   },
   {
    "duration": 3,
    "start_time": "2023-05-18T19:42:43.948Z"
   },
   {
    "duration": 6,
    "start_time": "2023-05-18T19:42:56.848Z"
   },
   {
    "duration": 4,
    "start_time": "2023-05-18T19:43:17.082Z"
   },
   {
    "duration": 6,
    "start_time": "2023-05-18T19:43:20.048Z"
   },
   {
    "duration": 6,
    "start_time": "2023-05-18T19:43:22.799Z"
   },
   {
    "duration": 5,
    "start_time": "2023-05-18T19:45:20.765Z"
   },
   {
    "duration": 948,
    "start_time": "2023-05-18T19:45:20.772Z"
   },
   {
    "duration": 177,
    "start_time": "2023-05-18T19:45:21.722Z"
   },
   {
    "duration": 107,
    "start_time": "2023-05-18T19:45:21.901Z"
   },
   {
    "duration": 14,
    "start_time": "2023-05-18T19:45:22.012Z"
   },
   {
    "duration": 204,
    "start_time": "2023-05-18T19:45:22.028Z"
   },
   {
    "duration": 8,
    "start_time": "2023-05-18T19:45:22.233Z"
   },
   {
    "duration": 58,
    "start_time": "2023-05-18T19:45:22.243Z"
   },
   {
    "duration": 169,
    "start_time": "2023-05-18T19:45:22.304Z"
   },
   {
    "duration": 81,
    "start_time": "2023-05-18T19:45:22.475Z"
   },
   {
    "duration": 108,
    "start_time": "2023-05-18T19:45:22.559Z"
   },
   {
    "duration": 30,
    "start_time": "2023-05-18T19:45:22.668Z"
   },
   {
    "duration": 2,
    "start_time": "2023-05-18T19:45:22.700Z"
   },
   {
    "duration": 29,
    "start_time": "2023-05-18T19:45:22.705Z"
   },
   {
    "duration": 6,
    "start_time": "2023-05-18T19:45:22.736Z"
   },
   {
    "duration": 22,
    "start_time": "2023-05-18T19:45:22.744Z"
   },
   {
    "duration": 28,
    "start_time": "2023-05-18T19:45:22.768Z"
   },
   {
    "duration": 99,
    "start_time": "2023-05-18T19:45:22.798Z"
   },
   {
    "duration": 4,
    "start_time": "2023-05-18T19:45:22.899Z"
   },
   {
    "duration": 1340,
    "start_time": "2023-05-18T19:45:22.905Z"
   },
   {
    "duration": 17,
    "start_time": "2023-05-18T19:45:24.246Z"
   },
   {
    "duration": 11,
    "start_time": "2023-05-18T19:45:24.265Z"
   },
   {
    "duration": 19,
    "start_time": "2023-05-18T19:45:24.278Z"
   },
   {
    "duration": 37,
    "start_time": "2023-05-18T19:45:24.300Z"
   },
   {
    "duration": 6,
    "start_time": "2023-05-18T19:45:24.339Z"
   },
   {
    "duration": 9,
    "start_time": "2023-05-18T19:45:24.347Z"
   },
   {
    "duration": 6,
    "start_time": "2023-05-18T19:45:24.358Z"
   },
   {
    "duration": 6,
    "start_time": "2023-05-18T19:45:24.366Z"
   },
   {
    "duration": 4,
    "start_time": "2023-05-18T19:45:24.374Z"
   },
   {
    "duration": 15,
    "start_time": "2023-05-18T19:45:24.380Z"
   },
   {
    "duration": 42,
    "start_time": "2023-05-18T19:45:24.397Z"
   },
   {
    "duration": 7,
    "start_time": "2023-05-18T19:45:24.442Z"
   },
   {
    "duration": 100,
    "start_time": "2023-05-18T19:47:13.806Z"
   },
   {
    "duration": 10,
    "start_time": "2023-05-18T19:47:18.845Z"
   },
   {
    "duration": 19,
    "start_time": "2023-05-18T19:47:29.009Z"
   },
   {
    "duration": 9,
    "start_time": "2023-05-18T19:47:31.149Z"
   },
   {
    "duration": 6,
    "start_time": "2023-05-18T19:47:33.357Z"
   },
   {
    "duration": 6,
    "start_time": "2023-05-18T19:47:35.901Z"
   },
   {
    "duration": 11,
    "start_time": "2023-05-18T19:47:51.544Z"
   },
   {
    "duration": 4,
    "start_time": "2023-05-18T19:48:51.756Z"
   },
   {
    "duration": 835,
    "start_time": "2023-05-18T19:48:51.762Z"
   },
   {
    "duration": 151,
    "start_time": "2023-05-18T19:48:52.599Z"
   },
   {
    "duration": 103,
    "start_time": "2023-05-18T19:48:52.752Z"
   },
   {
    "duration": 13,
    "start_time": "2023-05-18T19:48:52.858Z"
   },
   {
    "duration": 193,
    "start_time": "2023-05-18T19:48:52.873Z"
   },
   {
    "duration": 9,
    "start_time": "2023-05-18T19:48:53.068Z"
   },
   {
    "duration": 66,
    "start_time": "2023-05-18T19:48:53.078Z"
   },
   {
    "duration": 181,
    "start_time": "2023-05-18T19:48:53.146Z"
   },
   {
    "duration": 79,
    "start_time": "2023-05-18T19:48:53.329Z"
   },
   {
    "duration": 109,
    "start_time": "2023-05-18T19:48:53.417Z"
   },
   {
    "duration": 32,
    "start_time": "2023-05-18T19:48:53.528Z"
   },
   {
    "duration": 3,
    "start_time": "2023-05-18T19:48:53.562Z"
   },
   {
    "duration": 1360,
    "start_time": "2023-05-18T19:48:53.569Z"
   },
   {
    "duration": 0,
    "start_time": "2023-05-18T19:48:54.931Z"
   },
   {
    "duration": 0,
    "start_time": "2023-05-18T19:48:54.932Z"
   },
   {
    "duration": 0,
    "start_time": "2023-05-18T19:48:54.933Z"
   },
   {
    "duration": 0,
    "start_time": "2023-05-18T19:48:54.934Z"
   },
   {
    "duration": 0,
    "start_time": "2023-05-18T19:48:54.936Z"
   },
   {
    "duration": 0,
    "start_time": "2023-05-18T19:48:54.937Z"
   },
   {
    "duration": 0,
    "start_time": "2023-05-18T19:48:54.938Z"
   },
   {
    "duration": 0,
    "start_time": "2023-05-18T19:48:54.939Z"
   },
   {
    "duration": 0,
    "start_time": "2023-05-18T19:48:54.940Z"
   },
   {
    "duration": 0,
    "start_time": "2023-05-18T19:48:54.941Z"
   },
   {
    "duration": 0,
    "start_time": "2023-05-18T19:48:54.942Z"
   },
   {
    "duration": 0,
    "start_time": "2023-05-18T19:48:54.943Z"
   },
   {
    "duration": 0,
    "start_time": "2023-05-18T19:48:54.944Z"
   },
   {
    "duration": 0,
    "start_time": "2023-05-18T19:48:54.945Z"
   },
   {
    "duration": 0,
    "start_time": "2023-05-18T19:48:54.947Z"
   },
   {
    "duration": 0,
    "start_time": "2023-05-18T19:48:54.947Z"
   },
   {
    "duration": 0,
    "start_time": "2023-05-18T19:48:54.949Z"
   },
   {
    "duration": 0,
    "start_time": "2023-05-18T19:48:54.949Z"
   },
   {
    "duration": 0,
    "start_time": "2023-05-18T19:48:54.950Z"
   },
   {
    "duration": 0,
    "start_time": "2023-05-18T19:48:54.951Z"
   },
   {
    "duration": 0,
    "start_time": "2023-05-18T19:48:54.952Z"
   },
   {
    "duration": 0,
    "start_time": "2023-05-18T19:48:54.953Z"
   },
   {
    "duration": 0,
    "start_time": "2023-05-18T19:48:54.954Z"
   },
   {
    "duration": 3,
    "start_time": "2023-05-18T19:49:25.792Z"
   },
   {
    "duration": 760,
    "start_time": "2023-05-18T19:49:25.798Z"
   },
   {
    "duration": 169,
    "start_time": "2023-05-18T19:49:26.560Z"
   },
   {
    "duration": 114,
    "start_time": "2023-05-18T19:49:26.730Z"
   },
   {
    "duration": 13,
    "start_time": "2023-05-18T19:49:26.848Z"
   },
   {
    "duration": 200,
    "start_time": "2023-05-18T19:49:26.863Z"
   },
   {
    "duration": 8,
    "start_time": "2023-05-18T19:49:27.064Z"
   },
   {
    "duration": 72,
    "start_time": "2023-05-18T19:49:27.073Z"
   },
   {
    "duration": 163,
    "start_time": "2023-05-18T19:49:27.146Z"
   },
   {
    "duration": 70,
    "start_time": "2023-05-18T19:49:27.311Z"
   },
   {
    "duration": 100,
    "start_time": "2023-05-18T19:49:27.383Z"
   },
   {
    "duration": 40,
    "start_time": "2023-05-18T19:49:27.485Z"
   },
   {
    "duration": 2,
    "start_time": "2023-05-18T19:49:27.528Z"
   },
   {
    "duration": 15,
    "start_time": "2023-05-18T19:49:27.532Z"
   },
   {
    "duration": 11,
    "start_time": "2023-05-18T19:49:27.548Z"
   },
   {
    "duration": 7,
    "start_time": "2023-05-18T19:49:27.560Z"
   },
   {
    "duration": 27,
    "start_time": "2023-05-18T19:49:27.569Z"
   },
   {
    "duration": 67,
    "start_time": "2023-05-18T19:49:27.600Z"
   },
   {
    "duration": 4,
    "start_time": "2023-05-18T19:49:27.668Z"
   },
   {
    "duration": 907,
    "start_time": "2023-05-18T19:49:27.674Z"
   },
   {
    "duration": 22,
    "start_time": "2023-05-18T19:49:28.583Z"
   },
   {
    "duration": 15,
    "start_time": "2023-05-18T19:49:28.609Z"
   },
   {
    "duration": 2,
    "start_time": "2023-05-18T19:49:28.626Z"
   },
   {
    "duration": 4,
    "start_time": "2023-05-18T19:49:28.630Z"
   },
   {
    "duration": 6,
    "start_time": "2023-05-18T19:49:28.636Z"
   },
   {
    "duration": 6,
    "start_time": "2023-05-18T19:49:28.643Z"
   },
   {
    "duration": 8,
    "start_time": "2023-05-18T19:49:28.650Z"
   },
   {
    "duration": 8,
    "start_time": "2023-05-18T19:49:28.659Z"
   },
   {
    "duration": 15,
    "start_time": "2023-05-18T19:49:28.669Z"
   },
   {
    "duration": 22,
    "start_time": "2023-05-18T19:49:28.685Z"
   },
   {
    "duration": 6,
    "start_time": "2023-05-18T19:49:28.712Z"
   },
   {
    "duration": 11,
    "start_time": "2023-05-18T19:49:28.719Z"
   },
   {
    "duration": 78,
    "start_time": "2023-05-18T19:49:28.731Z"
   },
   {
    "duration": 14,
    "start_time": "2023-05-18T19:49:28.812Z"
   },
   {
    "duration": 178,
    "start_time": "2023-05-18T19:49:28.827Z"
   },
   {
    "duration": 91,
    "start_time": "2023-05-18T19:49:29.013Z"
   },
   {
    "duration": 100,
    "start_time": "2023-05-18T19:49:29.107Z"
   },
   {
    "duration": 9,
    "start_time": "2023-05-18T19:58:50.513Z"
   },
   {
    "duration": 6,
    "start_time": "2023-05-18T19:59:12.568Z"
   },
   {
    "duration": 6,
    "start_time": "2023-05-18T19:59:25.451Z"
   },
   {
    "duration": 64,
    "start_time": "2023-05-18T20:11:02.168Z"
   },
   {
    "duration": 3,
    "start_time": "2023-05-18T20:11:24.154Z"
   },
   {
    "duration": 40050,
    "start_time": "2023-05-18T20:11:50.073Z"
   },
   {
    "duration": 87,
    "start_time": "2023-05-18T20:13:33.658Z"
   },
   {
    "duration": 4,
    "start_time": "2023-05-18T20:13:56.257Z"
   },
   {
    "duration": 40021,
    "start_time": "2023-05-18T20:15:38.422Z"
   },
   {
    "duration": 39066,
    "start_time": "2023-05-18T20:16:40.373Z"
   },
   {
    "duration": 40274,
    "start_time": "2023-05-18T20:17:31.624Z"
   },
   {
    "duration": 12,
    "start_time": "2023-05-18T20:20:17.768Z"
   },
   {
    "duration": 35639,
    "start_time": "2023-05-18T20:20:36.061Z"
   },
   {
    "duration": 125,
    "start_time": "2023-05-18T20:22:22.265Z"
   },
   {
    "duration": 3,
    "start_time": "2023-05-18T20:22:29.412Z"
   },
   {
    "duration": 1585,
    "start_time": "2023-05-18T20:22:32.471Z"
   },
   {
    "duration": 6,
    "start_time": "2023-05-18T20:23:10.638Z"
   },
   {
    "duration": 10,
    "start_time": "2023-05-18T20:23:24.442Z"
   },
   {
    "duration": 5,
    "start_time": "2023-05-18T20:23:27.894Z"
   },
   {
    "duration": 5,
    "start_time": "2023-05-18T20:23:57.087Z"
   },
   {
    "duration": 4,
    "start_time": "2023-05-18T20:24:03.086Z"
   },
   {
    "duration": 4,
    "start_time": "2023-05-18T20:24:36.350Z"
   },
   {
    "duration": 5,
    "start_time": "2023-05-18T20:25:03.636Z"
   },
   {
    "duration": 4,
    "start_time": "2023-05-18T20:25:12.127Z"
   },
   {
    "duration": 1101,
    "start_time": "2023-05-18T20:26:24.006Z"
   },
   {
    "duration": 781,
    "start_time": "2023-05-18T20:26:25.109Z"
   },
   {
    "duration": 125,
    "start_time": "2023-05-18T20:26:25.891Z"
   },
   {
    "duration": 108,
    "start_time": "2023-05-18T20:26:26.018Z"
   },
   {
    "duration": 13,
    "start_time": "2023-05-18T20:26:26.128Z"
   },
   {
    "duration": 171,
    "start_time": "2023-05-18T20:26:26.142Z"
   },
   {
    "duration": 8,
    "start_time": "2023-05-18T20:26:26.314Z"
   },
   {
    "duration": 57,
    "start_time": "2023-05-18T20:26:26.324Z"
   },
   {
    "duration": 188,
    "start_time": "2023-05-18T20:26:26.382Z"
   },
   {
    "duration": 138,
    "start_time": "2023-05-18T20:26:26.573Z"
   },
   {
    "duration": 103,
    "start_time": "2023-05-18T20:26:26.713Z"
   },
   {
    "duration": 29,
    "start_time": "2023-05-18T20:26:26.818Z"
   },
   {
    "duration": 53,
    "start_time": "2023-05-18T20:26:33.540Z"
   },
   {
    "duration": 2,
    "start_time": "2023-05-18T20:26:41.576Z"
   },
   {
    "duration": 18,
    "start_time": "2023-05-18T20:26:44.381Z"
   },
   {
    "duration": 94,
    "start_time": "2023-05-18T20:26:47.353Z"
   },
   {
    "duration": 3,
    "start_time": "2023-05-18T20:26:50.755Z"
   },
   {
    "duration": 884,
    "start_time": "2023-05-18T20:27:13.059Z"
   },
   {
    "duration": 173,
    "start_time": "2023-05-18T20:27:31.443Z"
   },
   {
    "duration": 4,
    "start_time": "2023-05-18T20:28:01.252Z"
   },
   {
    "duration": 853,
    "start_time": "2023-05-18T20:28:01.258Z"
   },
   {
    "duration": 123,
    "start_time": "2023-05-18T20:28:02.113Z"
   },
   {
    "duration": 91,
    "start_time": "2023-05-18T20:28:02.238Z"
   },
   {
    "duration": 12,
    "start_time": "2023-05-18T20:28:02.331Z"
   },
   {
    "duration": 162,
    "start_time": "2023-05-18T20:28:02.345Z"
   },
   {
    "duration": 8,
    "start_time": "2023-05-18T20:28:02.509Z"
   },
   {
    "duration": 69,
    "start_time": "2023-05-18T20:28:02.519Z"
   },
   {
    "duration": 167,
    "start_time": "2023-05-18T20:28:02.590Z"
   },
   {
    "duration": 75,
    "start_time": "2023-05-18T20:28:02.759Z"
   },
   {
    "duration": 104,
    "start_time": "2023-05-18T20:28:02.836Z"
   },
   {
    "duration": 3,
    "start_time": "2023-05-18T20:28:10.248Z"
   },
   {
    "duration": 735,
    "start_time": "2023-05-18T20:28:10.254Z"
   },
   {
    "duration": 134,
    "start_time": "2023-05-18T20:28:10.990Z"
   },
   {
    "duration": 86,
    "start_time": "2023-05-18T20:28:11.127Z"
   },
   {
    "duration": 12,
    "start_time": "2023-05-18T20:28:11.215Z"
   },
   {
    "duration": 182,
    "start_time": "2023-05-18T20:28:11.229Z"
   },
   {
    "duration": 9,
    "start_time": "2023-05-18T20:28:11.413Z"
   },
   {
    "duration": 45,
    "start_time": "2023-05-18T20:28:11.424Z"
   },
   {
    "duration": 162,
    "start_time": "2023-05-18T20:28:11.471Z"
   },
   {
    "duration": 73,
    "start_time": "2023-05-18T20:28:11.635Z"
   },
   {
    "duration": 89,
    "start_time": "2023-05-18T20:28:11.709Z"
   },
   {
    "duration": 24,
    "start_time": "2023-05-18T20:28:11.799Z"
   },
   {
    "duration": 1234,
    "start_time": "2023-05-18T20:28:11.825Z"
   },
   {
    "duration": 0,
    "start_time": "2023-05-18T20:28:13.061Z"
   },
   {
    "duration": 0,
    "start_time": "2023-05-18T20:28:13.062Z"
   },
   {
    "duration": 0,
    "start_time": "2023-05-18T20:28:13.063Z"
   },
   {
    "duration": 0,
    "start_time": "2023-05-18T20:28:13.064Z"
   },
   {
    "duration": 0,
    "start_time": "2023-05-18T20:28:13.065Z"
   },
   {
    "duration": 0,
    "start_time": "2023-05-18T20:28:13.066Z"
   },
   {
    "duration": 0,
    "start_time": "2023-05-18T20:28:13.067Z"
   },
   {
    "duration": 0,
    "start_time": "2023-05-18T20:28:13.068Z"
   },
   {
    "duration": 0,
    "start_time": "2023-05-18T20:28:13.069Z"
   },
   {
    "duration": 3,
    "start_time": "2023-05-18T20:28:25.661Z"
   },
   {
    "duration": 787,
    "start_time": "2023-05-18T20:28:25.666Z"
   },
   {
    "duration": 123,
    "start_time": "2023-05-18T20:28:26.455Z"
   },
   {
    "duration": 97,
    "start_time": "2023-05-18T20:28:26.580Z"
   },
   {
    "duration": 21,
    "start_time": "2023-05-18T20:28:26.679Z"
   },
   {
    "duration": 209,
    "start_time": "2023-05-18T20:28:26.701Z"
   },
   {
    "duration": 11,
    "start_time": "2023-05-18T20:28:26.912Z"
   },
   {
    "duration": 71,
    "start_time": "2023-05-18T20:28:26.925Z"
   },
   {
    "duration": 149,
    "start_time": "2023-05-18T20:28:26.997Z"
   },
   {
    "duration": 75,
    "start_time": "2023-05-18T20:28:27.148Z"
   },
   {
    "duration": 94,
    "start_time": "2023-05-18T20:28:27.227Z"
   },
   {
    "duration": 24,
    "start_time": "2023-05-18T20:28:27.323Z"
   },
   {
    "duration": 9,
    "start_time": "2023-05-18T20:28:27.349Z"
   },
   {
    "duration": 39,
    "start_time": "2023-05-18T20:28:27.360Z"
   },
   {
    "duration": 30,
    "start_time": "2023-05-18T20:28:27.401Z"
   },
   {
    "duration": 27,
    "start_time": "2023-05-18T20:28:27.434Z"
   },
   {
    "duration": 30,
    "start_time": "2023-05-18T20:28:27.463Z"
   },
   {
    "duration": 82,
    "start_time": "2023-05-18T20:28:27.494Z"
   },
   {
    "duration": 2,
    "start_time": "2023-05-18T20:28:27.578Z"
   },
   {
    "duration": 948,
    "start_time": "2023-05-18T20:28:27.582Z"
   },
   {
    "duration": 17,
    "start_time": "2023-05-18T20:28:28.531Z"
   },
   {
    "duration": 19,
    "start_time": "2023-05-18T20:28:28.550Z"
   },
   {
    "duration": 73,
    "start_time": "2023-05-18T20:28:34.875Z"
   },
   {
    "duration": 4,
    "start_time": "2023-05-18T20:28:40.980Z"
   },
   {
    "duration": 61,
    "start_time": "2023-05-18T20:28:46.949Z"
   },
   {
    "duration": 7,
    "start_time": "2023-05-18T20:28:59.859Z"
   },
   {
    "duration": 7,
    "start_time": "2023-05-18T20:29:01.979Z"
   },
   {
    "duration": 8,
    "start_time": "2023-05-18T20:29:08.004Z"
   },
   {
    "duration": 6,
    "start_time": "2023-05-18T20:29:10.678Z"
   },
   {
    "duration": 3,
    "start_time": "2023-05-18T20:29:14.142Z"
   },
   {
    "duration": 1694,
    "start_time": "2023-05-18T20:29:18.836Z"
   },
   {
    "duration": 11,
    "start_time": "2023-05-18T20:29:31.906Z"
   },
   {
    "duration": 5,
    "start_time": "2023-05-18T20:29:36.354Z"
   },
   {
    "duration": 4,
    "start_time": "2023-05-18T20:29:40.859Z"
   },
   {
    "duration": 4,
    "start_time": "2023-05-18T20:29:46.347Z"
   },
   {
    "duration": 143,
    "start_time": "2023-05-18T20:32:35.992Z"
   },
   {
    "duration": 6,
    "start_time": "2023-05-18T20:32:45.402Z"
   },
   {
    "duration": 10,
    "start_time": "2023-05-18T20:34:07.202Z"
   },
   {
    "duration": 4,
    "start_time": "2023-05-18T20:34:21.199Z"
   },
   {
    "duration": 2,
    "start_time": "2023-05-18T20:36:44.502Z"
   },
   {
    "duration": 4,
    "start_time": "2023-05-18T20:36:58.573Z"
   },
   {
    "duration": 241152,
    "start_time": "2023-05-18T20:37:17.055Z"
   },
   {
    "duration": 7,
    "start_time": "2023-05-18T20:41:18.209Z"
   },
   {
    "duration": 8,
    "start_time": "2023-05-18T20:41:54.840Z"
   },
   {
    "duration": 6,
    "start_time": "2023-05-18T20:41:58.336Z"
   },
   {
    "duration": 3,
    "start_time": "2023-05-18T20:43:13.091Z"
   },
   {
    "duration": 82937,
    "start_time": "2023-05-18T20:43:16.469Z"
   },
   {
    "duration": 6,
    "start_time": "2023-05-18T20:54:47.308Z"
   },
   {
    "duration": 4,
    "start_time": "2023-05-18T20:54:51.051Z"
   },
   {
    "duration": 27,
    "start_time": "2023-05-18T20:57:53.334Z"
   },
   {
    "duration": 64,
    "start_time": "2023-05-18T20:59:39.943Z"
   },
   {
    "duration": 5,
    "start_time": "2023-05-18T20:59:44.488Z"
   },
   {
    "duration": 2,
    "start_time": "2023-05-18T20:59:51.657Z"
   },
   {
    "duration": 3,
    "start_time": "2023-05-18T21:00:05.016Z"
   },
   {
    "duration": 84351,
    "start_time": "2023-05-18T21:00:10.799Z"
   },
   {
    "duration": 3464,
    "start_time": "2023-05-18T21:01:35.152Z"
   },
   {
    "duration": 5,
    "start_time": "2023-05-18T21:02:02.960Z"
   },
   {
    "duration": 2,
    "start_time": "2023-05-18T21:02:46.959Z"
   },
   {
    "duration": 224533,
    "start_time": "2023-05-18T21:02:52.466Z"
   },
   {
    "duration": 613,
    "start_time": "2023-05-18T21:54:56.398Z"
   },
   {
    "duration": 5,
    "start_time": "2023-05-18T21:55:01.012Z"
   },
   {
    "duration": 1282,
    "start_time": "2023-05-19T06:16:29.361Z"
   },
   {
    "duration": 956,
    "start_time": "2023-05-19T06:16:30.645Z"
   },
   {
    "duration": 109,
    "start_time": "2023-05-19T06:16:31.602Z"
   },
   {
    "duration": 115,
    "start_time": "2023-05-19T06:16:31.712Z"
   },
   {
    "duration": 11,
    "start_time": "2023-05-19T06:16:31.829Z"
   },
   {
    "duration": 159,
    "start_time": "2023-05-19T06:16:31.841Z"
   },
   {
    "duration": 9,
    "start_time": "2023-05-19T06:16:32.002Z"
   },
   {
    "duration": 52,
    "start_time": "2023-05-19T06:16:32.013Z"
   },
   {
    "duration": 152,
    "start_time": "2023-05-19T06:16:32.067Z"
   },
   {
    "duration": 104,
    "start_time": "2023-05-19T06:16:32.220Z"
   },
   {
    "duration": 83,
    "start_time": "2023-05-19T06:16:32.326Z"
   },
   {
    "duration": 28,
    "start_time": "2023-05-19T06:16:32.411Z"
   },
   {
    "duration": 3,
    "start_time": "2023-05-19T06:16:32.440Z"
   },
   {
    "duration": 3,
    "start_time": "2023-05-19T06:16:32.445Z"
   },
   {
    "duration": 4,
    "start_time": "2023-05-19T06:16:32.449Z"
   },
   {
    "duration": 4,
    "start_time": "2023-05-19T06:16:32.455Z"
   },
   {
    "duration": 36,
    "start_time": "2023-05-19T06:16:32.460Z"
   },
   {
    "duration": 56,
    "start_time": "2023-05-19T06:16:32.498Z"
   },
   {
    "duration": 2,
    "start_time": "2023-05-19T06:16:32.556Z"
   },
   {
    "duration": 829,
    "start_time": "2023-05-19T06:16:32.560Z"
   },
   {
    "duration": 13,
    "start_time": "2023-05-19T06:16:33.390Z"
   },
   {
    "duration": 10,
    "start_time": "2023-05-19T06:16:33.404Z"
   },
   {
    "duration": 78,
    "start_time": "2023-05-19T06:16:33.415Z"
   },
   {
    "duration": 2,
    "start_time": "2023-05-19T06:16:33.494Z"
   },
   {
    "duration": 7,
    "start_time": "2023-05-19T06:16:33.497Z"
   },
   {
    "duration": 3,
    "start_time": "2023-05-19T06:16:33.505Z"
   },
   {
    "duration": 3,
    "start_time": "2023-05-19T06:16:33.510Z"
   },
   {
    "duration": 4,
    "start_time": "2023-05-19T06:16:33.514Z"
   },
   {
    "duration": 6,
    "start_time": "2023-05-19T06:16:33.519Z"
   },
   {
    "duration": 8,
    "start_time": "2023-05-19T06:16:33.526Z"
   },
   {
    "duration": 4,
    "start_time": "2023-05-19T06:16:33.535Z"
   },
   {
    "duration": 5,
    "start_time": "2023-05-19T06:16:33.540Z"
   },
   {
    "duration": 76,
    "start_time": "2023-05-19T06:16:33.547Z"
   },
   {
    "duration": 62,
    "start_time": "2023-05-19T06:16:33.624Z"
   },
   {
    "duration": 100,
    "start_time": "2023-05-19T06:16:33.687Z"
   },
   {
    "duration": 98,
    "start_time": "2023-05-19T06:16:33.788Z"
   },
   {
    "duration": 101,
    "start_time": "2023-05-19T06:16:33.888Z"
   },
   {
    "duration": 105,
    "start_time": "2023-05-19T06:16:33.991Z"
   },
   {
    "duration": 7,
    "start_time": "2023-05-19T06:16:34.098Z"
   },
   {
    "duration": 2015,
    "start_time": "2023-05-19T06:16:34.106Z"
   },
   {
    "duration": 11,
    "start_time": "2023-05-19T06:16:36.125Z"
   },
   {
    "duration": 5,
    "start_time": "2023-05-19T06:16:36.137Z"
   },
   {
    "duration": 5,
    "start_time": "2023-05-19T06:16:36.143Z"
   },
   {
    "duration": 8343,
    "start_time": "2023-05-19T06:16:36.149Z"
   },
   {
    "duration": 699,
    "start_time": "2023-05-19T06:16:44.493Z"
   },
   {
    "duration": 6,
    "start_time": "2023-05-19T06:16:45.194Z"
   },
   {
    "duration": 14,
    "start_time": "2023-05-19T06:16:45.201Z"
   },
   {
    "duration": 85722,
    "start_time": "2023-05-19T06:16:45.217Z"
   },
   {
    "duration": 3135,
    "start_time": "2023-05-19T06:18:10.940Z"
   },
   {
    "duration": 5,
    "start_time": "2023-05-19T06:18:14.076Z"
   },
   {
    "duration": 40,
    "start_time": "2023-05-19T06:27:11.572Z"
   },
   {
    "duration": 77,
    "start_time": "2023-05-19T06:27:52.818Z"
   },
   {
    "duration": 101,
    "start_time": "2023-05-19T06:28:57.584Z"
   },
   {
    "duration": 4,
    "start_time": "2023-05-19T06:29:18.122Z"
   },
   {
    "duration": 650,
    "start_time": "2023-05-19T06:29:18.127Z"
   },
   {
    "duration": 97,
    "start_time": "2023-05-19T06:29:18.779Z"
   },
   {
    "duration": 82,
    "start_time": "2023-05-19T06:29:18.884Z"
   },
   {
    "duration": 18,
    "start_time": "2023-05-19T06:29:18.968Z"
   },
   {
    "duration": 49,
    "start_time": "2023-05-19T06:29:18.988Z"
   },
   {
    "duration": 8,
    "start_time": "2023-05-19T06:29:19.039Z"
   },
   {
    "duration": 46,
    "start_time": "2023-05-19T06:29:29.654Z"
   },
   {
    "duration": 118,
    "start_time": "2023-05-19T06:29:32.495Z"
   },
   {
    "duration": 117,
    "start_time": "2023-05-19T06:30:39.231Z"
   },
   {
    "duration": 101,
    "start_time": "2023-05-19T06:30:42.688Z"
   },
   {
    "duration": 53,
    "start_time": "2023-05-19T06:31:11.895Z"
   },
   {
    "duration": 76,
    "start_time": "2023-05-19T06:31:54.493Z"
   },
   {
    "duration": 8,
    "start_time": "2023-05-19T06:31:57.765Z"
   },
   {
    "duration": 24,
    "start_time": "2023-05-19T06:32:05.854Z"
   },
   {
    "duration": 69,
    "start_time": "2023-05-19T06:32:19.726Z"
   },
   {
    "duration": 7,
    "start_time": "2023-05-19T06:32:45.892Z"
   },
   {
    "duration": 3,
    "start_time": "2023-05-19T06:34:52.242Z"
   },
   {
    "duration": 17,
    "start_time": "2023-05-19T06:34:58.906Z"
   },
   {
    "duration": 112,
    "start_time": "2023-05-19T06:36:17.362Z"
   },
   {
    "duration": 106,
    "start_time": "2023-05-19T06:36:46.632Z"
   },
   {
    "duration": 2,
    "start_time": "2023-05-19T06:38:30.897Z"
   },
   {
    "duration": 15,
    "start_time": "2023-05-19T06:38:38.680Z"
   },
   {
    "duration": 779,
    "start_time": "2023-05-19T06:39:02.183Z"
   },
   {
    "duration": 12,
    "start_time": "2023-05-19T06:39:06.679Z"
   },
   {
    "duration": 10,
    "start_time": "2023-05-19T06:39:12.817Z"
   },
   {
    "duration": 11,
    "start_time": "2023-05-19T06:39:18.327Z"
   },
   {
    "duration": 12,
    "start_time": "2023-05-19T06:39:34.888Z"
   },
   {
    "duration": 11,
    "start_time": "2023-05-19T06:41:00.382Z"
   },
   {
    "duration": 48,
    "start_time": "2023-05-19T06:41:05.688Z"
   },
   {
    "duration": 4,
    "start_time": "2023-05-19T06:41:08.662Z"
   },
   {
    "duration": 4,
    "start_time": "2023-05-19T06:45:08.284Z"
   },
   {
    "duration": 5,
    "start_time": "2023-05-19T06:47:49.572Z"
   },
   {
    "duration": 4,
    "start_time": "2023-05-19T06:54:21.421Z"
   },
   {
    "duration": 3,
    "start_time": "2023-05-19T06:59:51.955Z"
   },
   {
    "duration": 3,
    "start_time": "2023-05-19T07:07:35.647Z"
   },
   {
    "duration": 33,
    "start_time": "2023-05-19T07:07:38.542Z"
   },
   {
    "duration": 31,
    "start_time": "2023-05-19T07:07:43.208Z"
   },
   {
    "duration": 5,
    "start_time": "2023-05-19T07:07:47.325Z"
   },
   {
    "duration": 122,
    "start_time": "2023-05-19T07:37:49.310Z"
   },
   {
    "duration": 6,
    "start_time": "2023-05-19T07:38:00.804Z"
   },
   {
    "duration": 5,
    "start_time": "2023-05-19T07:38:03.315Z"
   },
   {
    "duration": 5,
    "start_time": "2023-05-19T07:39:08.043Z"
   },
   {
    "duration": 5,
    "start_time": "2023-05-19T07:39:17.226Z"
   },
   {
    "duration": 4,
    "start_time": "2023-05-19T07:39:29.460Z"
   },
   {
    "duration": 5,
    "start_time": "2023-05-19T07:39:34.651Z"
   },
   {
    "duration": 2,
    "start_time": "2023-05-19T07:44:05.345Z"
   },
   {
    "duration": 32,
    "start_time": "2023-05-19T07:44:07.689Z"
   },
   {
    "duration": 11,
    "start_time": "2023-05-19T07:44:11.918Z"
   },
   {
    "duration": 4,
    "start_time": "2023-05-19T07:44:17.135Z"
   },
   {
    "duration": 3,
    "start_time": "2023-05-19T07:53:40.728Z"
   },
   {
    "duration": 20606,
    "start_time": "2023-05-19T07:53:56.193Z"
   },
   {
    "duration": 19858,
    "start_time": "2023-05-19T07:58:40.046Z"
   },
   {
    "duration": 2045,
    "start_time": "2023-05-19T08:00:52.041Z"
   },
   {
    "duration": 34,
    "start_time": "2023-05-19T08:01:49.820Z"
   },
   {
    "duration": 4,
    "start_time": "2023-05-19T08:28:41.206Z"
   },
   {
    "duration": 5,
    "start_time": "2023-05-19T08:28:51.614Z"
   },
   {
    "duration": 4,
    "start_time": "2023-05-19T08:28:55.390Z"
   },
   {
    "duration": 30,
    "start_time": "2023-05-19T08:29:12.756Z"
   },
   {
    "duration": 22,
    "start_time": "2023-05-19T08:29:16.064Z"
   },
   {
    "duration": 31,
    "start_time": "2023-05-19T08:29:22.205Z"
   },
   {
    "duration": 4,
    "start_time": "2023-05-19T08:29:30.285Z"
   },
   {
    "duration": 6,
    "start_time": "2023-05-19T08:29:32.125Z"
   },
   {
    "duration": 4,
    "start_time": "2023-05-19T08:29:33.325Z"
   },
   {
    "duration": 38,
    "start_time": "2023-05-19T08:29:35.925Z"
   },
   {
    "duration": 9,
    "start_time": "2023-05-19T08:29:39.375Z"
   },
   {
    "duration": 19989,
    "start_time": "2023-05-19T08:33:32.100Z"
   },
   {
    "duration": 20364,
    "start_time": "2023-05-19T09:24:51.128Z"
   },
   {
    "duration": 31,
    "start_time": "2023-05-19T09:28:39.711Z"
   },
   {
    "duration": 8,
    "start_time": "2023-05-19T09:28:42.501Z"
   },
   {
    "duration": 4,
    "start_time": "2023-05-19T09:29:03.253Z"
   },
   {
    "duration": 2,
    "start_time": "2023-05-19T09:33:06.572Z"
   },
   {
    "duration": 61136,
    "start_time": "2023-05-19T09:33:09.115Z"
   },
   {
    "duration": 2966,
    "start_time": "2023-05-19T09:34:10.254Z"
   },
   {
    "duration": 3,
    "start_time": "2023-05-19T09:37:22.544Z"
   },
   {
    "duration": 3,
    "start_time": "2023-05-19T09:40:49.422Z"
   },
   {
    "duration": 4,
    "start_time": "2023-05-19T09:40:59.036Z"
   },
   {
    "duration": 5,
    "start_time": "2023-05-19T09:47:54.569Z"
   },
   {
    "duration": 115,
    "start_time": "2023-05-19T09:49:13.704Z"
   },
   {
    "duration": 50590,
    "start_time": "2023-05-19T09:49:20.593Z"
   },
   {
    "duration": 3686,
    "start_time": "2023-05-19T09:50:42.728Z"
   },
   {
    "duration": 725304,
    "start_time": "2023-05-19T09:50:57.559Z"
   },
   {
    "duration": 82,
    "start_time": "2023-05-19T10:03:06.623Z"
   },
   {
    "duration": 7,
    "start_time": "2023-05-19T10:03:12.279Z"
   },
   {
    "duration": 121607,
    "start_time": "2023-05-19T10:03:18.288Z"
   },
   {
    "duration": 3433,
    "start_time": "2023-05-19T10:05:38.526Z"
   },
   {
    "duration": 200965,
    "start_time": "2023-05-19T10:06:20.639Z"
   },
   {
    "duration": 326221,
    "start_time": "2023-05-19T10:10:23.090Z"
   },
   {
    "duration": 161055,
    "start_time": "2023-05-19T10:16:21.285Z"
   },
   {
    "duration": 107,
    "start_time": "2023-05-19T10:24:13.035Z"
   },
   {
    "duration": 1260,
    "start_time": "2023-05-19T10:24:26.237Z"
   },
   {
    "duration": 977,
    "start_time": "2023-05-19T10:24:27.499Z"
   },
   {
    "duration": 115,
    "start_time": "2023-05-19T10:24:28.477Z"
   },
   {
    "duration": 100,
    "start_time": "2023-05-19T10:24:28.594Z"
   },
   {
    "duration": 11,
    "start_time": "2023-05-19T10:24:28.696Z"
   },
   {
    "duration": 41,
    "start_time": "2023-05-19T10:24:28.708Z"
   },
   {
    "duration": 10,
    "start_time": "2023-05-19T10:24:28.751Z"
   },
   {
    "duration": 58,
    "start_time": "2023-05-19T10:24:28.785Z"
   },
   {
    "duration": 113,
    "start_time": "2023-05-19T10:24:28.845Z"
   },
   {
    "duration": 159,
    "start_time": "2023-05-19T10:24:28.960Z"
   },
   {
    "duration": 107,
    "start_time": "2023-05-19T10:24:29.121Z"
   },
   {
    "duration": 90,
    "start_time": "2023-05-19T10:24:29.230Z"
   },
   {
    "duration": 27,
    "start_time": "2023-05-19T10:24:29.322Z"
   },
   {
    "duration": 8,
    "start_time": "2023-05-19T10:24:29.352Z"
   },
   {
    "duration": 3,
    "start_time": "2023-05-19T10:24:29.361Z"
   },
   {
    "duration": 36,
    "start_time": "2023-05-19T10:24:29.365Z"
   },
   {
    "duration": 114,
    "start_time": "2023-05-19T10:24:29.403Z"
   },
   {
    "duration": 3,
    "start_time": "2023-05-19T10:24:29.519Z"
   },
   {
    "duration": 829,
    "start_time": "2023-05-19T10:24:29.523Z"
   },
   {
    "duration": 73,
    "start_time": "2023-05-19T10:24:30.353Z"
   },
   {
    "duration": 2,
    "start_time": "2023-05-19T10:24:30.428Z"
   },
   {
    "duration": 34,
    "start_time": "2023-05-19T10:24:30.432Z"
   },
   {
    "duration": 60,
    "start_time": "2023-05-19T10:24:30.468Z"
   },
   {
    "duration": 27,
    "start_time": "2023-05-19T10:24:30.529Z"
   },
   {
    "duration": 39,
    "start_time": "2023-05-19T10:24:30.558Z"
   },
   {
    "duration": 36,
    "start_time": "2023-05-19T10:24:30.598Z"
   },
   {
    "duration": 28,
    "start_time": "2023-05-19T10:24:30.636Z"
   },
   {
    "duration": 23,
    "start_time": "2023-05-19T10:24:30.666Z"
   },
   {
    "duration": 57,
    "start_time": "2023-05-19T10:24:30.690Z"
   },
   {
    "duration": 7,
    "start_time": "2023-05-19T10:24:30.749Z"
   },
   {
    "duration": 25,
    "start_time": "2023-05-19T10:24:30.784Z"
   },
   {
    "duration": 99,
    "start_time": "2023-05-19T10:24:30.886Z"
   },
   {
    "duration": 101,
    "start_time": "2023-05-19T10:24:30.987Z"
   },
   {
    "duration": 124,
    "start_time": "2023-05-19T10:24:31.090Z"
   },
   {
    "duration": 23,
    "start_time": "2023-05-19T10:24:31.216Z"
   },
   {
    "duration": 2028,
    "start_time": "2023-05-19T10:24:31.240Z"
   },
   {
    "duration": 25,
    "start_time": "2023-05-19T10:24:33.270Z"
   },
   {
    "duration": 5,
    "start_time": "2023-05-19T10:24:33.297Z"
   },
   {
    "duration": 5,
    "start_time": "2023-05-19T10:24:33.304Z"
   },
   {
    "duration": 24953,
    "start_time": "2023-05-19T10:24:33.311Z"
   },
   {
    "duration": 322,
    "start_time": "2023-05-19T10:24:58.268Z"
   },
   {
    "duration": 7,
    "start_time": "2023-05-19T10:24:58.592Z"
   },
   {
    "duration": 0,
    "start_time": "2023-05-19T10:24:58.601Z"
   },
   {
    "duration": 0,
    "start_time": "2023-05-19T10:24:58.602Z"
   },
   {
    "duration": 0,
    "start_time": "2023-05-19T10:24:58.603Z"
   },
   {
    "duration": 0,
    "start_time": "2023-05-19T10:24:58.604Z"
   },
   {
    "duration": 0,
    "start_time": "2023-05-19T10:24:58.605Z"
   },
   {
    "duration": 0,
    "start_time": "2023-05-19T10:24:58.606Z"
   },
   {
    "duration": 0,
    "start_time": "2023-05-19T10:24:58.607Z"
   },
   {
    "duration": 0,
    "start_time": "2023-05-19T10:24:58.608Z"
   },
   {
    "duration": 0,
    "start_time": "2023-05-19T10:24:58.609Z"
   },
   {
    "duration": 0,
    "start_time": "2023-05-19T10:24:58.610Z"
   },
   {
    "duration": 0,
    "start_time": "2023-05-19T10:24:58.611Z"
   },
   {
    "duration": 0,
    "start_time": "2023-05-19T10:24:58.612Z"
   },
   {
    "duration": 0,
    "start_time": "2023-05-19T10:24:58.613Z"
   },
   {
    "duration": 0,
    "start_time": "2023-05-19T10:24:58.614Z"
   },
   {
    "duration": 0,
    "start_time": "2023-05-19T10:24:58.615Z"
   },
   {
    "duration": 0,
    "start_time": "2023-05-19T10:24:58.616Z"
   },
   {
    "duration": 0,
    "start_time": "2023-05-19T10:24:58.617Z"
   },
   {
    "duration": 0,
    "start_time": "2023-05-19T10:24:58.617Z"
   },
   {
    "duration": 0,
    "start_time": "2023-05-19T10:24:58.618Z"
   },
   {
    "duration": 0,
    "start_time": "2023-05-19T10:24:58.619Z"
   },
   {
    "duration": 0,
    "start_time": "2023-05-19T10:24:58.620Z"
   },
   {
    "duration": 0,
    "start_time": "2023-05-19T10:24:58.621Z"
   },
   {
    "duration": 0,
    "start_time": "2023-05-19T10:24:58.622Z"
   },
   {
    "duration": 0,
    "start_time": "2023-05-19T10:24:58.623Z"
   },
   {
    "duration": 0,
    "start_time": "2023-05-19T10:24:58.624Z"
   },
   {
    "duration": 0,
    "start_time": "2023-05-19T10:24:58.625Z"
   },
   {
    "duration": 0,
    "start_time": "2023-05-19T10:24:58.626Z"
   },
   {
    "duration": 0,
    "start_time": "2023-05-19T10:24:58.626Z"
   },
   {
    "duration": 0,
    "start_time": "2023-05-19T10:24:58.628Z"
   },
   {
    "duration": 0,
    "start_time": "2023-05-19T10:24:58.629Z"
   },
   {
    "duration": 0,
    "start_time": "2023-05-19T10:24:58.629Z"
   },
   {
    "duration": 0,
    "start_time": "2023-05-19T10:24:58.685Z"
   },
   {
    "duration": 0,
    "start_time": "2023-05-19T10:24:58.686Z"
   },
   {
    "duration": 0,
    "start_time": "2023-05-19T10:24:58.687Z"
   },
   {
    "duration": 3,
    "start_time": "2023-05-19T10:26:18.823Z"
   },
   {
    "duration": 664,
    "start_time": "2023-05-19T10:26:18.827Z"
   },
   {
    "duration": 102,
    "start_time": "2023-05-19T10:26:19.493Z"
   },
   {
    "duration": 74,
    "start_time": "2023-05-19T10:26:19.597Z"
   },
   {
    "duration": 14,
    "start_time": "2023-05-19T10:26:19.672Z"
   },
   {
    "duration": 29,
    "start_time": "2023-05-19T10:26:19.688Z"
   },
   {
    "duration": 8,
    "start_time": "2023-05-19T10:26:19.719Z"
   },
   {
    "duration": 70,
    "start_time": "2023-05-19T10:26:19.728Z"
   },
   {
    "duration": 100,
    "start_time": "2023-05-19T10:26:19.800Z"
   },
   {
    "duration": 115,
    "start_time": "2023-05-19T10:26:19.901Z"
   },
   {
    "duration": 66,
    "start_time": "2023-05-19T10:26:20.018Z"
   },
   {
    "duration": 74,
    "start_time": "2023-05-19T10:26:20.086Z"
   },
   {
    "duration": 32,
    "start_time": "2023-05-19T10:26:20.162Z"
   },
   {
    "duration": 7,
    "start_time": "2023-05-19T10:26:20.196Z"
   },
   {
    "duration": 5,
    "start_time": "2023-05-19T10:26:20.204Z"
   },
   {
    "duration": 19,
    "start_time": "2023-05-19T10:26:20.210Z"
   },
   {
    "duration": 92,
    "start_time": "2023-05-19T10:26:20.231Z"
   },
   {
    "duration": 3,
    "start_time": "2023-05-19T10:26:20.324Z"
   },
   {
    "duration": 729,
    "start_time": "2023-05-19T10:26:20.328Z"
   },
   {
    "duration": 48,
    "start_time": "2023-05-19T10:26:21.059Z"
   },
   {
    "duration": 17,
    "start_time": "2023-05-19T10:26:21.108Z"
   },
   {
    "duration": 19,
    "start_time": "2023-05-19T10:26:21.126Z"
   },
   {
    "duration": 10,
    "start_time": "2023-05-19T10:26:21.146Z"
   },
   {
    "duration": 9,
    "start_time": "2023-05-19T10:26:21.158Z"
   },
   {
    "duration": 37,
    "start_time": "2023-05-19T10:26:21.168Z"
   },
   {
    "duration": 7,
    "start_time": "2023-05-19T10:26:21.206Z"
   },
   {
    "duration": 31,
    "start_time": "2023-05-19T10:26:21.215Z"
   },
   {
    "duration": 2,
    "start_time": "2023-05-19T10:26:31.321Z"
   },
   {
    "duration": 58441,
    "start_time": "2023-05-19T10:26:33.535Z"
   },
   {
    "duration": 2842,
    "start_time": "2023-05-19T10:27:31.977Z"
   },
   {
    "duration": 4,
    "start_time": "2023-05-19T10:27:34.820Z"
   },
   {
    "duration": 53,
    "start_time": "2023-05-19T10:27:34.825Z"
   },
   {
    "duration": 333061,
    "start_time": "2023-05-19T10:29:01.814Z"
   },
   {
    "duration": 117,
    "start_time": "2023-05-19T10:41:29.111Z"
   },
   {
    "duration": 1214,
    "start_time": "2023-05-19T10:41:35.307Z"
   },
   {
    "duration": 916,
    "start_time": "2023-05-19T10:41:36.523Z"
   },
   {
    "duration": 110,
    "start_time": "2023-05-19T10:41:37.440Z"
   },
   {
    "duration": 91,
    "start_time": "2023-05-19T10:41:37.552Z"
   },
   {
    "duration": 10,
    "start_time": "2023-05-19T10:41:37.645Z"
   },
   {
    "duration": 53,
    "start_time": "2023-05-19T10:41:37.656Z"
   },
   {
    "duration": 9,
    "start_time": "2023-05-19T10:41:37.710Z"
   },
   {
    "duration": 65,
    "start_time": "2023-05-19T10:41:37.721Z"
   },
   {
    "duration": 104,
    "start_time": "2023-05-19T10:41:37.788Z"
   },
   {
    "duration": 141,
    "start_time": "2023-05-19T10:41:37.893Z"
   },
   {
    "duration": 100,
    "start_time": "2023-05-19T10:41:38.036Z"
   },
   {
    "duration": 88,
    "start_time": "2023-05-19T10:41:38.138Z"
   },
   {
    "duration": 25,
    "start_time": "2023-05-19T10:41:38.228Z"
   },
   {
    "duration": 6,
    "start_time": "2023-05-19T10:41:38.256Z"
   },
   {
    "duration": 3,
    "start_time": "2023-05-19T10:41:38.263Z"
   },
   {
    "duration": 26,
    "start_time": "2023-05-19T10:41:38.267Z"
   },
   {
    "duration": 106,
    "start_time": "2023-05-19T10:41:38.294Z"
   },
   {
    "duration": 2,
    "start_time": "2023-05-19T10:41:38.402Z"
   },
   {
    "duration": 747,
    "start_time": "2023-05-19T10:41:38.406Z"
   },
   {
    "duration": 56,
    "start_time": "2023-05-19T10:41:39.154Z"
   },
   {
    "duration": 2,
    "start_time": "2023-05-19T10:41:39.211Z"
   },
   {
    "duration": 23,
    "start_time": "2023-05-19T10:41:39.214Z"
   },
   {
    "duration": 13,
    "start_time": "2023-05-19T10:41:39.238Z"
   },
   {
    "duration": 8,
    "start_time": "2023-05-19T10:41:39.253Z"
   },
   {
    "duration": 15,
    "start_time": "2023-05-19T10:41:39.262Z"
   },
   {
    "duration": 10,
    "start_time": "2023-05-19T10:41:39.278Z"
   },
   {
    "duration": 5,
    "start_time": "2023-05-19T10:41:39.289Z"
   },
   {
    "duration": 32,
    "start_time": "2023-05-19T10:41:39.295Z"
   },
   {
    "duration": 67,
    "start_time": "2023-05-19T10:41:39.329Z"
   },
   {
    "duration": 0,
    "start_time": "2023-05-19T10:41:39.398Z"
   },
   {
    "duration": 0,
    "start_time": "2023-05-19T10:41:39.399Z"
   },
   {
    "duration": 0,
    "start_time": "2023-05-19T10:41:39.399Z"
   },
   {
    "duration": 0,
    "start_time": "2023-05-19T10:41:39.400Z"
   },
   {
    "duration": 0,
    "start_time": "2023-05-19T10:41:39.401Z"
   },
   {
    "duration": 0,
    "start_time": "2023-05-19T10:41:39.402Z"
   },
   {
    "duration": 0,
    "start_time": "2023-05-19T10:41:39.403Z"
   },
   {
    "duration": 0,
    "start_time": "2023-05-19T10:41:39.404Z"
   },
   {
    "duration": 0,
    "start_time": "2023-05-19T10:41:39.405Z"
   },
   {
    "duration": 0,
    "start_time": "2023-05-19T10:41:39.406Z"
   },
   {
    "duration": 0,
    "start_time": "2023-05-19T10:41:39.407Z"
   },
   {
    "duration": 0,
    "start_time": "2023-05-19T10:41:39.408Z"
   },
   {
    "duration": 0,
    "start_time": "2023-05-19T10:41:39.409Z"
   },
   {
    "duration": 0,
    "start_time": "2023-05-19T10:41:39.410Z"
   },
   {
    "duration": 2,
    "start_time": "2023-05-19T10:42:06.992Z"
   },
   {
    "duration": 85414,
    "start_time": "2023-05-19T10:42:15.470Z"
   },
   {
    "duration": 125,
    "start_time": "2023-05-19T10:51:03.841Z"
   },
   {
    "duration": 1192,
    "start_time": "2023-05-19T10:51:13.638Z"
   },
   {
    "duration": 942,
    "start_time": "2023-05-19T10:51:14.832Z"
   },
   {
    "duration": 103,
    "start_time": "2023-05-19T10:51:15.775Z"
   },
   {
    "duration": 103,
    "start_time": "2023-05-19T10:51:15.885Z"
   },
   {
    "duration": 12,
    "start_time": "2023-05-19T10:51:15.989Z"
   },
   {
    "duration": 58,
    "start_time": "2023-05-19T10:51:16.003Z"
   },
   {
    "duration": 23,
    "start_time": "2023-05-19T10:51:16.063Z"
   },
   {
    "duration": 65,
    "start_time": "2023-05-19T10:51:16.088Z"
   },
   {
    "duration": 142,
    "start_time": "2023-05-19T10:51:16.155Z"
   },
   {
    "duration": 158,
    "start_time": "2023-05-19T10:51:16.300Z"
   },
   {
    "duration": 107,
    "start_time": "2023-05-19T10:51:16.460Z"
   },
   {
    "duration": 94,
    "start_time": "2023-05-19T10:51:16.569Z"
   },
   {
    "duration": 31,
    "start_time": "2023-05-19T10:51:16.664Z"
   },
   {
    "duration": 8,
    "start_time": "2023-05-19T10:51:16.697Z"
   },
   {
    "duration": 3,
    "start_time": "2023-05-19T10:51:16.707Z"
   },
   {
    "duration": 37,
    "start_time": "2023-05-19T10:51:16.711Z"
   },
   {
    "duration": 125,
    "start_time": "2023-05-19T10:51:16.750Z"
   },
   {
    "duration": 7,
    "start_time": "2023-05-19T10:51:16.877Z"
   },
   {
    "duration": 887,
    "start_time": "2023-05-19T10:51:16.886Z"
   },
   {
    "duration": 62,
    "start_time": "2023-05-19T10:51:17.775Z"
   },
   {
    "duration": 2,
    "start_time": "2023-05-19T10:51:17.839Z"
   },
   {
    "duration": 16,
    "start_time": "2023-05-19T10:51:17.843Z"
   },
   {
    "duration": 25,
    "start_time": "2023-05-19T10:51:17.860Z"
   },
   {
    "duration": 7,
    "start_time": "2023-05-19T10:51:17.886Z"
   },
   {
    "duration": 6,
    "start_time": "2023-05-19T10:51:17.895Z"
   },
   {
    "duration": 5,
    "start_time": "2023-05-19T10:51:17.902Z"
   },
   {
    "duration": 5,
    "start_time": "2023-05-19T10:51:17.908Z"
   },
   {
    "duration": 1220,
    "start_time": "2023-05-19T10:58:02.497Z"
   },
   {
    "duration": 950,
    "start_time": "2023-05-19T10:58:03.718Z"
   },
   {
    "duration": 102,
    "start_time": "2023-05-19T10:58:04.669Z"
   },
   {
    "duration": 92,
    "start_time": "2023-05-19T10:58:04.773Z"
   },
   {
    "duration": 20,
    "start_time": "2023-05-19T10:58:04.867Z"
   },
   {
    "duration": 38,
    "start_time": "2023-05-19T10:58:04.888Z"
   },
   {
    "duration": 9,
    "start_time": "2023-05-19T10:58:04.927Z"
   },
   {
    "duration": 76,
    "start_time": "2023-05-19T10:58:04.938Z"
   },
   {
    "duration": 107,
    "start_time": "2023-05-19T10:58:05.016Z"
   },
   {
    "duration": 163,
    "start_time": "2023-05-19T10:58:05.125Z"
   },
   {
    "duration": 102,
    "start_time": "2023-05-19T10:58:05.289Z"
   },
   {
    "duration": 96,
    "start_time": "2023-05-19T10:58:05.392Z"
   },
   {
    "duration": 28,
    "start_time": "2023-05-19T10:58:05.490Z"
   },
   {
    "duration": 8,
    "start_time": "2023-05-19T10:58:05.522Z"
   },
   {
    "duration": 25,
    "start_time": "2023-05-19T10:58:05.532Z"
   },
   {
    "duration": 52,
    "start_time": "2023-05-19T10:58:05.558Z"
   },
   {
    "duration": 101,
    "start_time": "2023-05-19T10:58:05.611Z"
   },
   {
    "duration": 3,
    "start_time": "2023-05-19T10:58:05.713Z"
   },
   {
    "duration": 877,
    "start_time": "2023-05-19T10:58:05.718Z"
   },
   {
    "duration": 56,
    "start_time": "2023-05-19T10:58:06.596Z"
   },
   {
    "duration": 2,
    "start_time": "2023-05-19T10:58:06.654Z"
   },
   {
    "duration": 19,
    "start_time": "2023-05-19T10:58:06.657Z"
   },
   {
    "duration": 11,
    "start_time": "2023-05-19T10:58:06.677Z"
   },
   {
    "duration": 15,
    "start_time": "2023-05-19T10:58:06.689Z"
   },
   {
    "duration": 8,
    "start_time": "2023-05-19T10:58:06.705Z"
   },
   {
    "duration": 9,
    "start_time": "2023-05-19T10:58:06.714Z"
   },
   {
    "duration": 13,
    "start_time": "2023-05-19T10:58:06.724Z"
   },
   {
    "duration": 118,
    "start_time": "2023-05-19T11:03:07.425Z"
   },
   {
    "duration": 1277,
    "start_time": "2023-05-19T11:03:15.212Z"
   },
   {
    "duration": 987,
    "start_time": "2023-05-19T11:03:16.491Z"
   },
   {
    "duration": 114,
    "start_time": "2023-05-19T11:03:17.480Z"
   },
   {
    "duration": 96,
    "start_time": "2023-05-19T11:03:17.595Z"
   },
   {
    "duration": 9,
    "start_time": "2023-05-19T11:03:17.693Z"
   },
   {
    "duration": 44,
    "start_time": "2023-05-19T11:03:17.704Z"
   },
   {
    "duration": 12,
    "start_time": "2023-05-19T11:03:17.749Z"
   },
   {
    "duration": 74,
    "start_time": "2023-05-19T11:03:17.762Z"
   },
   {
    "duration": 110,
    "start_time": "2023-05-19T11:03:17.838Z"
   },
   {
    "duration": 156,
    "start_time": "2023-05-19T11:03:17.950Z"
   },
   {
    "duration": 100,
    "start_time": "2023-05-19T11:03:18.107Z"
   },
   {
    "duration": 96,
    "start_time": "2023-05-19T11:03:18.210Z"
   },
   {
    "duration": 26,
    "start_time": "2023-05-19T11:03:18.308Z"
   },
   {
    "duration": 7,
    "start_time": "2023-05-19T11:03:18.336Z"
   },
   {
    "duration": 3,
    "start_time": "2023-05-19T11:03:18.344Z"
   },
   {
    "duration": 25,
    "start_time": "2023-05-19T11:03:18.348Z"
   },
   {
    "duration": 109,
    "start_time": "2023-05-19T11:03:18.384Z"
   },
   {
    "duration": 3,
    "start_time": "2023-05-19T11:03:18.494Z"
   },
   {
    "duration": 816,
    "start_time": "2023-05-19T11:03:18.498Z"
   },
   {
    "duration": 55,
    "start_time": "2023-05-19T11:03:19.315Z"
   },
   {
    "duration": 3,
    "start_time": "2023-05-19T11:03:19.371Z"
   },
   {
    "duration": 3,
    "start_time": "2023-05-19T11:03:19.384Z"
   },
   {
    "duration": 5,
    "start_time": "2023-05-19T11:03:19.388Z"
   },
   {
    "duration": 5,
    "start_time": "2023-05-19T11:03:19.394Z"
   },
   {
    "duration": 5,
    "start_time": "2023-05-19T11:03:19.401Z"
   },
   {
    "duration": 11,
    "start_time": "2023-05-19T11:03:19.407Z"
   },
   {
    "duration": 6,
    "start_time": "2023-05-19T11:03:19.419Z"
   },
   {
    "duration": 87641,
    "start_time": "2023-05-19T11:03:28.655Z"
   },
   {
    "duration": 34932,
    "start_time": "2023-05-19T11:04:58.648Z"
   },
   {
    "duration": 65058,
    "start_time": "2023-05-19T11:06:13.070Z"
   },
   {
    "duration": 25763,
    "start_time": "2023-05-19T11:07:45.662Z"
   },
   {
    "duration": 274809,
    "start_time": "2023-05-19T11:09:08.861Z"
   },
   {
    "duration": 75,
    "start_time": "2023-05-19T11:58:35.799Z"
   },
   {
    "duration": 3,
    "start_time": "2023-05-19T11:58:43.119Z"
   },
   {
    "duration": 43569,
    "start_time": "2023-05-19T11:58:53.903Z"
   },
   {
    "duration": 45701,
    "start_time": "2023-05-19T12:02:02.996Z"
   },
   {
    "duration": 110453,
    "start_time": "2023-05-19T12:05:07.913Z"
   },
   {
    "duration": 105158,
    "start_time": "2023-05-19T12:21:36.932Z"
   },
   {
    "duration": 3,
    "start_time": "2023-05-19T12:23:22.092Z"
   },
   {
    "duration": 1316,
    "start_time": "2023-05-19T12:35:44.516Z"
   },
   {
    "duration": 1152,
    "start_time": "2023-05-19T12:35:45.834Z"
   },
   {
    "duration": 120,
    "start_time": "2023-05-19T12:35:46.987Z"
   },
   {
    "duration": 107,
    "start_time": "2023-05-19T12:35:47.109Z"
   },
   {
    "duration": 13,
    "start_time": "2023-05-19T12:35:47.219Z"
   },
   {
    "duration": 71,
    "start_time": "2023-05-19T12:35:47.234Z"
   },
   {
    "duration": 13,
    "start_time": "2023-05-19T12:35:47.307Z"
   },
   {
    "duration": 73,
    "start_time": "2023-05-19T12:35:47.322Z"
   },
   {
    "duration": 108,
    "start_time": "2023-05-19T12:35:47.396Z"
   },
   {
    "duration": 153,
    "start_time": "2023-05-19T12:35:47.506Z"
   },
   {
    "duration": 106,
    "start_time": "2023-05-19T12:35:47.661Z"
   },
   {
    "duration": 92,
    "start_time": "2023-05-19T12:35:47.769Z"
   },
   {
    "duration": 39,
    "start_time": "2023-05-19T12:35:47.863Z"
   },
   {
    "duration": 9,
    "start_time": "2023-05-19T12:35:47.904Z"
   },
   {
    "duration": 4,
    "start_time": "2023-05-19T12:35:47.914Z"
   },
   {
    "duration": 20,
    "start_time": "2023-05-19T12:35:47.920Z"
   },
   {
    "duration": 148,
    "start_time": "2023-05-19T12:35:47.941Z"
   },
   {
    "duration": 3,
    "start_time": "2023-05-19T12:35:48.090Z"
   },
   {
    "duration": 874,
    "start_time": "2023-05-19T12:35:48.094Z"
   },
   {
    "duration": 64,
    "start_time": "2023-05-19T12:35:48.970Z"
   },
   {
    "duration": 121,
    "start_time": "2023-05-19T12:35:58.451Z"
   },
   {
    "duration": 4,
    "start_time": "2023-05-19T12:36:05.673Z"
   },
   {
    "duration": 93108,
    "start_time": "2023-05-19T12:36:21.890Z"
   },
   {
    "duration": 154169,
    "start_time": "2023-05-19T12:38:34.737Z"
   },
   {
    "duration": 53,
    "start_time": "2023-05-19T12:45:26.612Z"
   },
   {
    "duration": 1282,
    "start_time": "2023-05-19T12:45:35.852Z"
   },
   {
    "duration": 936,
    "start_time": "2023-05-19T12:45:37.136Z"
   },
   {
    "duration": 106,
    "start_time": "2023-05-19T12:45:38.074Z"
   },
   {
    "duration": 86,
    "start_time": "2023-05-19T12:45:38.185Z"
   },
   {
    "duration": 19,
    "start_time": "2023-05-19T12:45:38.273Z"
   },
   {
    "duration": 52,
    "start_time": "2023-05-19T12:45:38.294Z"
   },
   {
    "duration": 11,
    "start_time": "2023-05-19T12:45:38.347Z"
   },
   {
    "duration": 70,
    "start_time": "2023-05-19T12:45:38.359Z"
   },
   {
    "duration": 104,
    "start_time": "2023-05-19T12:45:38.430Z"
   },
   {
    "duration": 153,
    "start_time": "2023-05-19T12:45:38.535Z"
   },
   {
    "duration": 106,
    "start_time": "2023-05-19T12:45:38.690Z"
   },
   {
    "duration": 79,
    "start_time": "2023-05-19T12:45:38.798Z"
   },
   {
    "duration": 29,
    "start_time": "2023-05-19T12:45:38.884Z"
   },
   {
    "duration": 7,
    "start_time": "2023-05-19T12:45:38.915Z"
   },
   {
    "duration": 18,
    "start_time": "2023-05-19T12:45:38.923Z"
   },
   {
    "duration": 54,
    "start_time": "2023-05-19T12:45:38.942Z"
   },
   {
    "duration": 135,
    "start_time": "2023-05-19T12:45:38.997Z"
   },
   {
    "duration": 3,
    "start_time": "2023-05-19T12:45:39.133Z"
   },
   {
    "duration": 815,
    "start_time": "2023-05-19T12:45:39.137Z"
   },
   {
    "duration": 64,
    "start_time": "2023-05-19T12:45:39.954Z"
   },
   {
    "duration": 3,
    "start_time": "2023-05-19T12:45:43.509Z"
   },
   {
    "duration": 1250,
    "start_time": "2023-05-19T13:12:37.082Z"
   },
   {
    "duration": 989,
    "start_time": "2023-05-19T13:12:38.334Z"
   },
   {
    "duration": 113,
    "start_time": "2023-05-19T13:12:39.324Z"
   },
   {
    "duration": 101,
    "start_time": "2023-05-19T13:12:39.439Z"
   },
   {
    "duration": 10,
    "start_time": "2023-05-19T13:12:39.541Z"
   },
   {
    "duration": 54,
    "start_time": "2023-05-19T13:12:39.552Z"
   },
   {
    "duration": 9,
    "start_time": "2023-05-19T13:12:39.607Z"
   },
   {
    "duration": 69,
    "start_time": "2023-05-19T13:12:39.618Z"
   },
   {
    "duration": 112,
    "start_time": "2023-05-19T13:12:39.689Z"
   },
   {
    "duration": 180,
    "start_time": "2023-05-19T13:12:39.803Z"
   },
   {
    "duration": 107,
    "start_time": "2023-05-19T13:12:39.985Z"
   },
   {
    "duration": 83,
    "start_time": "2023-05-19T13:12:40.093Z"
   },
   {
    "duration": 34,
    "start_time": "2023-05-19T13:12:40.177Z"
   },
   {
    "duration": 6,
    "start_time": "2023-05-19T13:12:40.213Z"
   },
   {
    "duration": 2,
    "start_time": "2023-05-19T13:12:40.221Z"
   },
   {
    "duration": 31,
    "start_time": "2023-05-19T13:12:40.224Z"
   },
   {
    "duration": 114,
    "start_time": "2023-05-19T13:12:40.256Z"
   },
   {
    "duration": 2,
    "start_time": "2023-05-19T13:12:40.372Z"
   },
   {
    "duration": 866,
    "start_time": "2023-05-19T13:12:40.384Z"
   },
   {
    "duration": 58,
    "start_time": "2023-05-19T13:12:45.739Z"
   },
   {
    "duration": 3,
    "start_time": "2023-05-19T13:12:57.282Z"
   },
   {
    "duration": 174052,
    "start_time": "2023-05-19T13:13:01.228Z"
   },
   {
    "duration": 47615,
    "start_time": "2023-05-19T13:40:55.582Z"
   },
   {
    "duration": 4152,
    "start_time": "2023-05-19T13:41:43.199Z"
   },
   {
    "duration": 5,
    "start_time": "2023-05-19T13:41:47.353Z"
   },
   {
    "duration": 3,
    "start_time": "2023-05-19T13:47:16.139Z"
   },
   {
    "duration": 5939,
    "start_time": "2023-05-19T13:47:19.147Z"
   },
   {
    "duration": 551,
    "start_time": "2023-05-19T13:47:31.333Z"
   },
   {
    "duration": 4,
    "start_time": "2023-05-19T13:47:34.892Z"
   },
   {
    "duration": 2,
    "start_time": "2023-05-19T13:48:09.003Z"
   },
   {
    "duration": 26770,
    "start_time": "2023-05-19T13:48:31.355Z"
   },
   {
    "duration": 65,
    "start_time": "2023-05-19T13:49:26.875Z"
   },
   {
    "duration": 5,
    "start_time": "2023-05-19T13:49:37.058Z"
   },
   {
    "duration": 26766,
    "start_time": "2023-05-19T13:49:53.908Z"
   },
   {
    "duration": 65,
    "start_time": "2023-05-19T14:45:51.213Z"
   },
   {
    "duration": 5,
    "start_time": "2023-05-19T14:45:54.477Z"
   },
   {
    "duration": 103,
    "start_time": "2023-05-19T14:55:48.670Z"
   },
   {
    "duration": 74281,
    "start_time": "2023-05-19T14:56:06.843Z"
   },
   {
    "duration": 72,
    "start_time": "2023-05-19T16:01:51.745Z"
   },
   {
    "duration": 1344,
    "start_time": "2023-05-19T16:02:55.110Z"
   },
   {
    "duration": 1260,
    "start_time": "2023-05-19T16:02:56.458Z"
   },
   {
    "duration": 162,
    "start_time": "2023-05-19T16:02:57.720Z"
   },
   {
    "duration": 123,
    "start_time": "2023-05-19T16:02:57.885Z"
   },
   {
    "duration": 11,
    "start_time": "2023-05-19T16:02:58.010Z"
   },
   {
    "duration": 66,
    "start_time": "2023-05-19T16:02:58.022Z"
   },
   {
    "duration": 10,
    "start_time": "2023-05-19T16:02:58.090Z"
   },
   {
    "duration": 65,
    "start_time": "2023-05-19T16:02:58.102Z"
   },
   {
    "duration": 119,
    "start_time": "2023-05-19T16:02:58.169Z"
   },
   {
    "duration": 170,
    "start_time": "2023-05-19T16:02:58.290Z"
   },
   {
    "duration": 117,
    "start_time": "2023-05-19T16:02:58.462Z"
   },
   {
    "duration": 86,
    "start_time": "2023-05-19T16:02:58.581Z"
   },
   {
    "duration": 45,
    "start_time": "2023-05-19T16:02:58.669Z"
   },
   {
    "duration": 7,
    "start_time": "2023-05-19T16:02:58.716Z"
   },
   {
    "duration": 3,
    "start_time": "2023-05-19T16:02:58.724Z"
   },
   {
    "duration": 23,
    "start_time": "2023-05-19T16:02:58.728Z"
   },
   {
    "duration": 118,
    "start_time": "2023-05-19T16:02:58.752Z"
   },
   {
    "duration": 2,
    "start_time": "2023-05-19T16:02:58.872Z"
   },
   {
    "duration": 865,
    "start_time": "2023-05-19T16:02:58.884Z"
   },
   {
    "duration": 55,
    "start_time": "2023-05-19T16:03:02.201Z"
   },
   {
    "duration": 3,
    "start_time": "2023-05-19T16:03:18.766Z"
   },
   {
    "duration": 293717,
    "start_time": "2023-05-19T16:03:28.682Z"
   },
   {
    "duration": 458658,
    "start_time": "2023-05-19T16:10:09.870Z"
   },
   {
    "duration": 27410,
    "start_time": "2023-05-19T16:17:48.530Z"
   },
   {
    "duration": 359044,
    "start_time": "2023-05-19T16:20:38.930Z"
   },
   {
    "duration": 910091,
    "start_time": "2023-05-19T16:29:51.907Z"
   },
   {
    "duration": 3,
    "start_time": "2023-05-19T16:52:23.728Z"
   },
   {
    "duration": 363220,
    "start_time": "2023-05-19T16:52:45.623Z"
   },
   {
    "duration": 1950,
    "start_time": "2023-05-19T16:59:51.707Z"
   },
   {
    "duration": 4,
    "start_time": "2023-05-19T17:00:03.666Z"
   },
   {
    "duration": 24,
    "start_time": "2023-05-19T17:03:18.880Z"
   },
   {
    "duration": 120828,
    "start_time": "2023-05-19T17:03:43.280Z"
   },
   {
    "duration": 505,
    "start_time": "2023-05-19T17:05:44.110Z"
   },
   {
    "duration": 4,
    "start_time": "2023-05-19T17:05:44.616Z"
   },
   {
    "duration": 13,
    "start_time": "2023-05-19T17:09:57.292Z"
   },
   {
    "duration": 12059,
    "start_time": "2023-05-19T17:10:03.366Z"
   },
   {
    "duration": 37,
    "start_time": "2023-05-19T17:10:15.427Z"
   },
   {
    "duration": 4,
    "start_time": "2023-05-19T17:10:15.465Z"
   },
   {
    "duration": 4,
    "start_time": "2023-05-19T17:10:29.818Z"
   },
   {
    "duration": 46173,
    "start_time": "2023-05-19T17:10:32.218Z"
   },
   {
    "duration": 166,
    "start_time": "2023-05-19T17:11:18.393Z"
   },
   {
    "duration": 4,
    "start_time": "2023-05-19T17:11:18.561Z"
   },
   {
    "duration": 233,
    "start_time": "2023-05-19T17:41:42.043Z"
   },
   {
    "duration": 3,
    "start_time": "2023-05-19T17:42:20.587Z"
   },
   {
    "duration": 128586,
    "start_time": "2023-05-19T17:42:23.258Z"
   },
   {
    "duration": 80,
    "start_time": "2023-05-19T17:44:31.845Z"
   },
   {
    "duration": 9,
    "start_time": "2023-05-19T17:44:31.927Z"
   },
   {
    "duration": 3,
    "start_time": "2023-05-19T17:44:35.989Z"
   },
   {
    "duration": 84817,
    "start_time": "2023-05-19T17:44:48.073Z"
   },
   {
    "duration": 604,
    "start_time": "2023-05-19T17:46:12.892Z"
   },
   {
    "duration": 88,
    "start_time": "2023-05-19T17:46:13.498Z"
   },
   {
    "duration": 867563,
    "start_time": "2023-05-19T17:49:47.543Z"
   },
   {
    "duration": 753784,
    "start_time": "2023-05-19T18:04:52.301Z"
   },
   {
    "duration": 144,
    "start_time": "2023-05-19T18:22:00.763Z"
   },
   {
    "duration": 1222,
    "start_time": "2023-05-19T18:22:20.726Z"
   },
   {
    "duration": 728,
    "start_time": "2023-05-19T18:22:21.950Z"
   },
   {
    "duration": 111,
    "start_time": "2023-05-19T18:22:22.681Z"
   },
   {
    "duration": 121,
    "start_time": "2023-05-19T18:22:22.794Z"
   },
   {
    "duration": 10,
    "start_time": "2023-05-19T18:22:22.918Z"
   },
   {
    "duration": 57,
    "start_time": "2023-05-19T18:22:22.930Z"
   },
   {
    "duration": 10,
    "start_time": "2023-05-19T18:22:22.989Z"
   },
   {
    "duration": 64,
    "start_time": "2023-05-19T18:22:23.001Z"
   },
   {
    "duration": 101,
    "start_time": "2023-05-19T18:22:23.067Z"
   },
   {
    "duration": 152,
    "start_time": "2023-05-19T18:22:23.169Z"
   },
   {
    "duration": 117,
    "start_time": "2023-05-19T18:22:23.322Z"
   },
   {
    "duration": 86,
    "start_time": "2023-05-19T18:22:23.440Z"
   },
   {
    "duration": 34,
    "start_time": "2023-05-19T18:22:23.528Z"
   },
   {
    "duration": 20,
    "start_time": "2023-05-19T18:22:23.566Z"
   },
   {
    "duration": 3,
    "start_time": "2023-05-19T18:22:23.587Z"
   },
   {
    "duration": 41,
    "start_time": "2023-05-19T18:22:23.592Z"
   },
   {
    "duration": 169,
    "start_time": "2023-05-19T18:22:23.635Z"
   },
   {
    "duration": 3,
    "start_time": "2023-05-19T18:22:23.806Z"
   },
   {
    "duration": 883,
    "start_time": "2023-05-19T18:22:23.810Z"
   },
   {
    "duration": 63,
    "start_time": "2023-05-19T18:22:24.695Z"
   },
   {
    "duration": 4,
    "start_time": "2023-05-19T18:22:24.759Z"
   },
   {
    "duration": 65,
    "start_time": "2023-05-19T18:22:24.765Z"
   },
   {
    "duration": 153,
    "start_time": "2023-05-19T18:22:24.831Z"
   },
   {
    "duration": 6,
    "start_time": "2023-05-19T18:22:24.986Z"
   },
   {
    "duration": 22904,
    "start_time": "2023-05-19T18:22:24.993Z"
   },
   {
    "duration": 201,
    "start_time": "2023-05-19T18:22:47.898Z"
   },
   {
    "duration": 95,
    "start_time": "2023-05-19T18:22:48.102Z"
   },
   {
    "duration": 92,
    "start_time": "2023-05-19T18:22:48.199Z"
   },
   {
    "duration": 77,
    "start_time": "2023-05-19T18:22:48.293Z"
   },
   {
    "duration": 0,
    "start_time": "2023-05-19T18:22:48.372Z"
   },
   {
    "duration": 0,
    "start_time": "2023-05-19T18:22:48.373Z"
   },
   {
    "duration": 0,
    "start_time": "2023-05-19T18:22:48.374Z"
   },
   {
    "duration": 0,
    "start_time": "2023-05-19T18:22:48.376Z"
   },
   {
    "duration": 0,
    "start_time": "2023-05-19T18:22:48.377Z"
   },
   {
    "duration": 0,
    "start_time": "2023-05-19T18:22:48.379Z"
   },
   {
    "duration": 0,
    "start_time": "2023-05-19T18:22:48.380Z"
   },
   {
    "duration": 0,
    "start_time": "2023-05-19T18:22:48.381Z"
   },
   {
    "duration": 0,
    "start_time": "2023-05-19T18:22:48.382Z"
   },
   {
    "duration": 0,
    "start_time": "2023-05-19T18:22:48.384Z"
   },
   {
    "duration": 0,
    "start_time": "2023-05-19T18:22:48.385Z"
   },
   {
    "duration": 0,
    "start_time": "2023-05-19T18:22:48.386Z"
   },
   {
    "duration": 0,
    "start_time": "2023-05-19T18:22:48.388Z"
   },
   {
    "duration": 0,
    "start_time": "2023-05-19T18:22:48.389Z"
   },
   {
    "duration": 0,
    "start_time": "2023-05-19T18:22:48.390Z"
   },
   {
    "duration": 0,
    "start_time": "2023-05-19T18:22:48.391Z"
   },
   {
    "duration": 0,
    "start_time": "2023-05-19T18:22:48.392Z"
   },
   {
    "duration": 0,
    "start_time": "2023-05-19T18:22:48.394Z"
   },
   {
    "duration": 0,
    "start_time": "2023-05-19T18:22:48.395Z"
   },
   {
    "duration": 0,
    "start_time": "2023-05-19T18:22:48.399Z"
   },
   {
    "duration": 0,
    "start_time": "2023-05-19T18:22:48.399Z"
   },
   {
    "duration": 0,
    "start_time": "2023-05-19T18:22:48.401Z"
   },
   {
    "duration": 0,
    "start_time": "2023-05-19T18:22:48.402Z"
   },
   {
    "duration": 0,
    "start_time": "2023-05-19T18:22:48.403Z"
   },
   {
    "duration": 0,
    "start_time": "2023-05-19T18:22:48.404Z"
   },
   {
    "duration": 0,
    "start_time": "2023-05-19T18:22:48.406Z"
   },
   {
    "duration": 0,
    "start_time": "2023-05-19T18:22:48.407Z"
   },
   {
    "duration": 0,
    "start_time": "2023-05-19T18:22:48.408Z"
   },
   {
    "duration": 0,
    "start_time": "2023-05-19T18:22:48.410Z"
   },
   {
    "duration": 0,
    "start_time": "2023-05-19T18:22:48.412Z"
   },
   {
    "duration": 0,
    "start_time": "2023-05-19T18:22:48.415Z"
   },
   {
    "duration": 0,
    "start_time": "2023-05-19T18:22:48.416Z"
   },
   {
    "duration": 0,
    "start_time": "2023-05-19T18:22:48.417Z"
   },
   {
    "duration": 0,
    "start_time": "2023-05-19T18:22:48.418Z"
   },
   {
    "duration": 0,
    "start_time": "2023-05-19T18:22:48.420Z"
   },
   {
    "duration": 4,
    "start_time": "2023-05-19T18:23:21.927Z"
   },
   {
    "duration": 15,
    "start_time": "2023-05-19T18:23:21.932Z"
   },
   {
    "duration": 60827,
    "start_time": "2023-05-19T18:23:21.949Z"
   },
   {
    "duration": 2949,
    "start_time": "2023-05-19T18:24:22.778Z"
   },
   {
    "duration": 4,
    "start_time": "2023-05-19T18:24:25.729Z"
   },
   {
    "duration": 11,
    "start_time": "2023-05-19T18:24:25.735Z"
   },
   {
    "duration": 45247,
    "start_time": "2023-05-19T18:24:25.747Z"
   },
   {
    "duration": 113590,
    "start_time": "2023-05-19T18:25:10.996Z"
   },
   {
    "duration": 1389,
    "start_time": "2023-05-20T18:06:56.183Z"
   },
   {
    "duration": 157,
    "start_time": "2023-05-20T18:07:02.472Z"
   }
  ],
  "kernelspec": {
   "display_name": "Python 3 (ipykernel)",
   "language": "python",
   "name": "python3"
  },
  "language_info": {
   "codemirror_mode": {
    "name": "ipython",
    "version": 3
   },
   "file_extension": ".py",
   "mimetype": "text/x-python",
   "name": "python",
   "nbconvert_exporter": "python",
   "pygments_lexer": "ipython3",
   "version": "3.9.13"
  },
  "toc": {
   "base_numbering": 1,
   "nav_menu": {},
   "number_sections": true,
   "sideBar": true,
   "skip_h1_title": true,
   "title_cell": "Table of Contents",
   "title_sidebar": "Contents",
   "toc_cell": false,
   "toc_position": {
    "height": "calc(100% - 180px)",
    "left": "10px",
    "top": "150px",
    "width": "165px"
   },
   "toc_section_display": true,
   "toc_window_display": true
  }
 },
 "nbformat": 4,
 "nbformat_minor": 2
}
